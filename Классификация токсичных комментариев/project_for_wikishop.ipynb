{
  "cells": [ 
    {
      "cell_type": "markdown",
      "metadata": {
        "id": "1oAkpAVLQg7E"
      },
      "source": [
        "# Проект для «Викишоп»"
      ]
    },
    {
      "cell_type": "markdown",
      "metadata": {
        "id": "0mPuOGevQg7E"
      },
      "source": [
        "Интернет-магазин «Викишоп» запускает новый сервис. Теперь пользователи могут редактировать и дополнять описания товаров, как в вики-сообществах. То есть клиенты предлагают свои правки и комментируют изменения других. Магазину нужен инструмент, который будет искать токсичные комментарии и отправлять их на модерацию.\n",
        "\n",
        "Требуется обучить модель классифицировать комментарии на позитивные и негативные и достичь значения метрики качества *F1* не меньше 0.75. В распоряжении набор данных с разметкой о токсичности правок.\n",
        "\n",
        "**Описание данных**\n",
        "\n",
        "Данные находятся в файле `toxic_comments.csv`. Столбец *text* в нём содержит текст комментария, а *toxic* — целевой признак."
      ]
    },
    {
      "cell_type": "markdown",
      "metadata": {
        "id": "DM45JmDQQg7E"
      },
      "source": [
        "## Загрузка и предобработка данных"
      ]
    },
    {
      "cell_type": "markdown",
      "metadata": {
        "id": "AxklR5ZuQg7E"
      },
      "source": [
        "Импортируем нужные библиотеки и загрузим данные"
      ]
    },
    {
      "cell_type": "code",
      "execution_count": 41,
      "metadata": {
        "colab": {
          "base_uri": "https://localhost:8080/"
        },
        "id": "ovUp6Uwi5a76",
        "outputId": "860a7833-483b-4c27-db21-59d54df39dce"
      },
      "outputs": [
        {
          "output_type": "stream",
          "name": "stdout",
          "text": [
            "Requirement already satisfied: pywsd in /usr/local/lib/python3.10/dist-packages (1.2.5)\n",
            "Requirement already satisfied: nltk in /usr/local/lib/python3.10/dist-packages (from pywsd) (3.8.1)\n",
            "Requirement already satisfied: numpy in /usr/local/lib/python3.10/dist-packages (from pywsd) (1.23.5)\n",
            "Requirement already satisfied: pandas in /usr/local/lib/python3.10/dist-packages (from pywsd) (1.5.3)\n",
            "Requirement already satisfied: wn==0.0.23 in /usr/local/lib/python3.10/dist-packages (from pywsd) (0.0.23)\n",
            "Requirement already satisfied: six in /usr/local/lib/python3.10/dist-packages (from pywsd) (1.16.0)\n",
            "Requirement already satisfied: click in /usr/local/lib/python3.10/dist-packages (from nltk->pywsd) (8.1.7)\n",
            "Requirement already satisfied: joblib in /usr/local/lib/python3.10/dist-packages (from nltk->pywsd) (1.3.2)\n",
            "Requirement already satisfied: regex>=2021.8.3 in /usr/local/lib/python3.10/dist-packages (from nltk->pywsd) (2023.6.3)\n",
            "Requirement already satisfied: tqdm in /usr/local/lib/python3.10/dist-packages (from nltk->pywsd) (4.66.1)\n",
            "Requirement already satisfied: python-dateutil>=2.8.1 in /usr/local/lib/python3.10/dist-packages (from pandas->pywsd) (2.8.2)\n",
            "Requirement already satisfied: pytz>=2020.1 in /usr/local/lib/python3.10/dist-packages (from pandas->pywsd) (2023.3.post1)\n"
          ]
        }
      ],
      "source": [
        "pip install pywsd"
      ]
    },
    {
      "cell_type": "code",
      "execution_count": 79,
      "metadata": {
        "colab": {
          "base_uri": "https://localhost:8080/"
        },
        "id": "wfElbG60Qg7E",
        "outputId": "ed362a95-79b3-4719-c9dc-32a62dadf876"
      },
      "outputs": [
        {
          "output_type": "stream",
          "name": "stderr",
          "text": [
            "[nltk_data] Downloading package wordnet to /root/nltk_data...\n",
            "[nltk_data]   Package wordnet is already up-to-date!\n",
            "[nltk_data] Downloading package stopwords to /root/nltk_data...\n",
            "[nltk_data]   Package stopwords is already up-to-date!\n",
            "[nltk_data] Downloading package averaged_perceptron_tagger to\n",
            "[nltk_data]     /root/nltk_data...\n",
            "[nltk_data]   Package averaged_perceptron_tagger is already up-to-\n",
            "[nltk_data]       date!\n",
            "[nltk_data] Downloading package punkt to /root/nltk_data...\n",
            "[nltk_data]   Package punkt is already up-to-date!\n"
          ]
        }
      ],
      "source": [
        "import pandas as pd\n",
        "import numpy as np\n",
        "import matplotlib.pyplot as plt\n",
        "import seaborn as sns\n",
        "\n",
        "from time import time\n",
        "\n",
        "import re\n",
        "import nltk\n",
        "from nltk.corpus import stopwords, wordnet\n",
        "nltk.download('wordnet')\n",
        "nltk.download('stopwords')\n",
        "nltk.download('averaged_perceptron_tagger')\n",
        "nltk.download('punkt')\n",
        "from nltk.stem import WordNetLemmatizer # модуль для лемматизации\n",
        "from pywsd.utils import lemmatize_sentence\n",
        "from tqdm import tqdm\n",
        "\n",
        "# TF-IDF для корпуса текстов\n",
        "from sklearn.feature_extraction.text import CountVectorizer, TfidfVectorizer\n",
        "from sklearn.model_selection import train_test_split, GridSearchCV, KFold, \\\n",
        "                                    StratifiedKFold, cross_val_score\n",
        "from sklearn.pipeline import Pipeline\n",
        "from sklearn.linear_model import LogisticRegression\n",
        "from sklearn.ensemble import RandomForestClassifier, GradientBoostingClassifier\n",
        "from sklearn.dummy import DummyClassifier\n",
        "\n",
        "from sklearn.model_selection import train_test_split\n",
        "\n",
        "from sklearn.metrics import roc_auc_score, accuracy_score, recall_score, \\\n",
        "                            precision_score, f1_score, confusion_matrix, \\\n",
        "                            roc_curve, auc\n",
        "\n",
        "import warnings\n",
        "warnings.filterwarnings(\"ignore\")\n",
        "\n",
        "RANDOM_STATE = 12345"
      ]
    },
    {
      "cell_type": "code",
      "execution_count": 43,
      "metadata": {
        "id": "-ztQDt67Qg7G"
      },
      "outputs": [],
      "source": [
        "try:\n",
        "    df = pd.read_csv('/datasets/toxic_comments.csv')\n",
        "except:\n",
        "    df = pd.read_csv('https://code.s3.yandex.net/datasets/toxic_comments.csv')"
      ]
    },
    {
      "cell_type": "code",
      "execution_count": 44,
      "metadata": {
        "id": "JjOQAN9C5a78"
      },
      "outputs": [],
      "source": [
        "df = df.sample(30000, random_state=42)"
      ]
    },
    {
      "cell_type": "markdown",
      "metadata": {
        "id": "g5P_XMIgQg7G"
      },
      "source": [
        "Выведем общую информацию о данных"
      ]
    },
    {
      "cell_type": "code",
      "execution_count": 45,
      "metadata": {
        "colab": {
          "base_uri": "https://localhost:8080/",
          "height": 989
        },
        "id": "mOAeepF-Qg7G",
        "outputId": "fac196dd-78ce-4ad6-8235-6af05235f0d7"
      },
      "outputs": [
        {
          "output_type": "stream",
          "name": "stdout",
          "text": [
            "Общая информация:\n",
            "<class 'pandas.core.frame.DataFrame'>\n",
            "Int64Index: 30000 entries, 31015 to 89382\n",
            "Data columns (total 3 columns):\n",
            " #   Column      Non-Null Count  Dtype \n",
            "---  ------      --------------  ----- \n",
            " 0   Unnamed: 0  30000 non-null  int64 \n",
            " 1   text        30000 non-null  object\n",
            " 2   toxic       30000 non-null  int64 \n",
            "dtypes: int64(2), object(1)\n",
            "memory usage: 937.5+ KB\n",
            "Первые 5 строк:\n"
          ]
        },
        {
          "output_type": "display_data",
          "data": {
            "text/plain": [
              "        Unnamed: 0                                               text  toxic\n",
              "31015        31055  Sometime back, I just happened to log on to ww...      0\n",
              "102832      102929  \"\\n\\nThe latest edit is much better, don't mak...      0\n",
              "67317        67385  \" October 2007 (UTC)\\n\\nI would think you'd be...      0\n",
              "81091        81167  Thanks for the tip on the currency translation...      0\n",
              "90091        90182  I would argue that if content on the Con in co...      0"
            ],
            "text/html": [
              "\n",
              "  <div id=\"df-e5d6c274-015b-4f86-8891-d9a1d8ca06d1\" class=\"colab-df-container\">\n",
              "    <div>\n",
              "<style scoped>\n",
              "    .dataframe tbody tr th:only-of-type {\n",
              "        vertical-align: middle;\n",
              "    }\n",
              "\n",
              "    .dataframe tbody tr th {\n",
              "        vertical-align: top;\n",
              "    }\n",
              "\n",
              "    .dataframe thead th {\n",
              "        text-align: right;\n",
              "    }\n",
              "</style>\n",
              "<table border=\"1\" class=\"dataframe\">\n",
              "  <thead>\n",
              "    <tr style=\"text-align: right;\">\n",
              "      <th></th>\n",
              "      <th>Unnamed: 0</th>\n",
              "      <th>text</th>\n",
              "      <th>toxic</th>\n",
              "    </tr>\n",
              "  </thead>\n",
              "  <tbody>\n",
              "    <tr>\n",
              "      <th>31015</th>\n",
              "      <td>31055</td>\n",
              "      <td>Sometime back, I just happened to log on to ww...</td>\n",
              "      <td>0</td>\n",
              "    </tr>\n",
              "    <tr>\n",
              "      <th>102832</th>\n",
              "      <td>102929</td>\n",
              "      <td>\"\\n\\nThe latest edit is much better, don't mak...</td>\n",
              "      <td>0</td>\n",
              "    </tr>\n",
              "    <tr>\n",
              "      <th>67317</th>\n",
              "      <td>67385</td>\n",
              "      <td>\" October 2007 (UTC)\\n\\nI would think you'd be...</td>\n",
              "      <td>0</td>\n",
              "    </tr>\n",
              "    <tr>\n",
              "      <th>81091</th>\n",
              "      <td>81167</td>\n",
              "      <td>Thanks for the tip on the currency translation...</td>\n",
              "      <td>0</td>\n",
              "    </tr>\n",
              "    <tr>\n",
              "      <th>90091</th>\n",
              "      <td>90182</td>\n",
              "      <td>I would argue that if content on the Con in co...</td>\n",
              "      <td>0</td>\n",
              "    </tr>\n",
              "  </tbody>\n",
              "</table>\n",
              "</div>\n",
              "    <div class=\"colab-df-buttons\">\n",
              "\n",
              "  <div class=\"colab-df-container\">\n",
              "    <button class=\"colab-df-convert\" onclick=\"convertToInteractive('df-e5d6c274-015b-4f86-8891-d9a1d8ca06d1')\"\n",
              "            title=\"Convert this dataframe to an interactive table.\"\n",
              "            style=\"display:none;\">\n",
              "\n",
              "  <svg xmlns=\"http://www.w3.org/2000/svg\" height=\"24px\" viewBox=\"0 -960 960 960\">\n",
              "    <path d=\"M120-120v-720h720v720H120Zm60-500h600v-160H180v160Zm220 220h160v-160H400v160Zm0 220h160v-160H400v160ZM180-400h160v-160H180v160Zm440 0h160v-160H620v160ZM180-180h160v-160H180v160Zm440 0h160v-160H620v160Z\"/>\n",
              "  </svg>\n",
              "    </button>\n",
              "\n",
              "  <style>\n",
              "    .colab-df-container {\n",
              "      display:flex;\n",
              "      gap: 12px;\n",
              "    }\n",
              "\n",
              "    .colab-df-convert {\n",
              "      background-color: #E8F0FE;\n",
              "      border: none;\n",
              "      border-radius: 50%;\n",
              "      cursor: pointer;\n",
              "      display: none;\n",
              "      fill: #1967D2;\n",
              "      height: 32px;\n",
              "      padding: 0 0 0 0;\n",
              "      width: 32px;\n",
              "    }\n",
              "\n",
              "    .colab-df-convert:hover {\n",
              "      background-color: #E2EBFA;\n",
              "      box-shadow: 0px 1px 2px rgba(60, 64, 67, 0.3), 0px 1px 3px 1px rgba(60, 64, 67, 0.15);\n",
              "      fill: #174EA6;\n",
              "    }\n",
              "\n",
              "    .colab-df-buttons div {\n",
              "      margin-bottom: 4px;\n",
              "    }\n",
              "\n",
              "    [theme=dark] .colab-df-convert {\n",
              "      background-color: #3B4455;\n",
              "      fill: #D2E3FC;\n",
              "    }\n",
              "\n",
              "    [theme=dark] .colab-df-convert:hover {\n",
              "      background-color: #434B5C;\n",
              "      box-shadow: 0px 1px 3px 1px rgba(0, 0, 0, 0.15);\n",
              "      filter: drop-shadow(0px 1px 2px rgba(0, 0, 0, 0.3));\n",
              "      fill: #FFFFFF;\n",
              "    }\n",
              "  </style>\n",
              "\n",
              "    <script>\n",
              "      const buttonEl =\n",
              "        document.querySelector('#df-e5d6c274-015b-4f86-8891-d9a1d8ca06d1 button.colab-df-convert');\n",
              "      buttonEl.style.display =\n",
              "        google.colab.kernel.accessAllowed ? 'block' : 'none';\n",
              "\n",
              "      async function convertToInteractive(key) {\n",
              "        const element = document.querySelector('#df-e5d6c274-015b-4f86-8891-d9a1d8ca06d1');\n",
              "        const dataTable =\n",
              "          await google.colab.kernel.invokeFunction('convertToInteractive',\n",
              "                                                    [key], {});\n",
              "        if (!dataTable) return;\n",
              "\n",
              "        const docLinkHtml = 'Like what you see? Visit the ' +\n",
              "          '<a target=\"_blank\" href=https://colab.research.google.com/notebooks/data_table.ipynb>data table notebook</a>'\n",
              "          + ' to learn more about interactive tables.';\n",
              "        element.innerHTML = '';\n",
              "        dataTable['output_type'] = 'display_data';\n",
              "        await google.colab.output.renderOutput(dataTable, element);\n",
              "        const docLink = document.createElement('div');\n",
              "        docLink.innerHTML = docLinkHtml;\n",
              "        element.appendChild(docLink);\n",
              "      }\n",
              "    </script>\n",
              "  </div>\n",
              "\n",
              "\n",
              "<div id=\"df-91f23911-64ca-48d9-86f8-1845c016e777\">\n",
              "  <button class=\"colab-df-quickchart\" onclick=\"quickchart('df-91f23911-64ca-48d9-86f8-1845c016e777')\"\n",
              "            title=\"Suggest charts\"\n",
              "            style=\"display:none;\">\n",
              "\n",
              "<svg xmlns=\"http://www.w3.org/2000/svg\" height=\"24px\"viewBox=\"0 0 24 24\"\n",
              "     width=\"24px\">\n",
              "    <g>\n",
              "        <path d=\"M19 3H5c-1.1 0-2 .9-2 2v14c0 1.1.9 2 2 2h14c1.1 0 2-.9 2-2V5c0-1.1-.9-2-2-2zM9 17H7v-7h2v7zm4 0h-2V7h2v10zm4 0h-2v-4h2v4z\"/>\n",
              "    </g>\n",
              "</svg>\n",
              "  </button>\n",
              "\n",
              "<style>\n",
              "  .colab-df-quickchart {\n",
              "      --bg-color: #E8F0FE;\n",
              "      --fill-color: #1967D2;\n",
              "      --hover-bg-color: #E2EBFA;\n",
              "      --hover-fill-color: #174EA6;\n",
              "      --disabled-fill-color: #AAA;\n",
              "      --disabled-bg-color: #DDD;\n",
              "  }\n",
              "\n",
              "  [theme=dark] .colab-df-quickchart {\n",
              "      --bg-color: #3B4455;\n",
              "      --fill-color: #D2E3FC;\n",
              "      --hover-bg-color: #434B5C;\n",
              "      --hover-fill-color: #FFFFFF;\n",
              "      --disabled-bg-color: #3B4455;\n",
              "      --disabled-fill-color: #666;\n",
              "  }\n",
              "\n",
              "  .colab-df-quickchart {\n",
              "    background-color: var(--bg-color);\n",
              "    border: none;\n",
              "    border-radius: 50%;\n",
              "    cursor: pointer;\n",
              "    display: none;\n",
              "    fill: var(--fill-color);\n",
              "    height: 32px;\n",
              "    padding: 0;\n",
              "    width: 32px;\n",
              "  }\n",
              "\n",
              "  .colab-df-quickchart:hover {\n",
              "    background-color: var(--hover-bg-color);\n",
              "    box-shadow: 0 1px 2px rgba(60, 64, 67, 0.3), 0 1px 3px 1px rgba(60, 64, 67, 0.15);\n",
              "    fill: var(--button-hover-fill-color);\n",
              "  }\n",
              "\n",
              "  .colab-df-quickchart-complete:disabled,\n",
              "  .colab-df-quickchart-complete:disabled:hover {\n",
              "    background-color: var(--disabled-bg-color);\n",
              "    fill: var(--disabled-fill-color);\n",
              "    box-shadow: none;\n",
              "  }\n",
              "\n",
              "  .colab-df-spinner {\n",
              "    border: 2px solid var(--fill-color);\n",
              "    border-color: transparent;\n",
              "    border-bottom-color: var(--fill-color);\n",
              "    animation:\n",
              "      spin 1s steps(1) infinite;\n",
              "  }\n",
              "\n",
              "  @keyframes spin {\n",
              "    0% {\n",
              "      border-color: transparent;\n",
              "      border-bottom-color: var(--fill-color);\n",
              "      border-left-color: var(--fill-color);\n",
              "    }\n",
              "    20% {\n",
              "      border-color: transparent;\n",
              "      border-left-color: var(--fill-color);\n",
              "      border-top-color: var(--fill-color);\n",
              "    }\n",
              "    30% {\n",
              "      border-color: transparent;\n",
              "      border-left-color: var(--fill-color);\n",
              "      border-top-color: var(--fill-color);\n",
              "      border-right-color: var(--fill-color);\n",
              "    }\n",
              "    40% {\n",
              "      border-color: transparent;\n",
              "      border-right-color: var(--fill-color);\n",
              "      border-top-color: var(--fill-color);\n",
              "    }\n",
              "    60% {\n",
              "      border-color: transparent;\n",
              "      border-right-color: var(--fill-color);\n",
              "    }\n",
              "    80% {\n",
              "      border-color: transparent;\n",
              "      border-right-color: var(--fill-color);\n",
              "      border-bottom-color: var(--fill-color);\n",
              "    }\n",
              "    90% {\n",
              "      border-color: transparent;\n",
              "      border-bottom-color: var(--fill-color);\n",
              "    }\n",
              "  }\n",
              "</style>\n",
              "\n",
              "  <script>\n",
              "    async function quickchart(key) {\n",
              "      const quickchartButtonEl =\n",
              "        document.querySelector('#' + key + ' button');\n",
              "      quickchartButtonEl.disabled = true;  // To prevent multiple clicks.\n",
              "      quickchartButtonEl.classList.add('colab-df-spinner');\n",
              "      try {\n",
              "        const charts = await google.colab.kernel.invokeFunction(\n",
              "            'suggestCharts', [key], {});\n",
              "      } catch (error) {\n",
              "        console.error('Error during call to suggestCharts:', error);\n",
              "      }\n",
              "      quickchartButtonEl.classList.remove('colab-df-spinner');\n",
              "      quickchartButtonEl.classList.add('colab-df-quickchart-complete');\n",
              "    }\n",
              "    (() => {\n",
              "      let quickchartButtonEl =\n",
              "        document.querySelector('#df-91f23911-64ca-48d9-86f8-1845c016e777 button');\n",
              "      quickchartButtonEl.style.display =\n",
              "        google.colab.kernel.accessAllowed ? 'block' : 'none';\n",
              "    })();\n",
              "  </script>\n",
              "</div>\n",
              "    </div>\n",
              "  </div>\n"
            ]
          },
          "metadata": {}
        },
        {
          "output_type": "stream",
          "name": "stdout",
          "text": [
            "Описание датафрейма:\n"
          ]
        },
        {
          "output_type": "display_data",
          "data": {
            "text/plain": [
              "          Unnamed: 0         toxic\n",
              "count   30000.000000  30000.000000\n",
              "mean    80129.690067      0.100533\n",
              "std     45798.483390      0.300715\n",
              "min         0.000000      0.000000\n",
              "25%     40708.000000      0.000000\n",
              "50%     79857.500000      0.000000\n",
              "75%    119857.250000      0.000000\n",
              "max    159449.000000      1.000000"
            ],
            "text/html": [
              "\n",
              "  <div id=\"df-5184d71c-f1d9-4c22-b5f5-4a3a71f406af\" class=\"colab-df-container\">\n",
              "    <div>\n",
              "<style scoped>\n",
              "    .dataframe tbody tr th:only-of-type {\n",
              "        vertical-align: middle;\n",
              "    }\n",
              "\n",
              "    .dataframe tbody tr th {\n",
              "        vertical-align: top;\n",
              "    }\n",
              "\n",
              "    .dataframe thead th {\n",
              "        text-align: right;\n",
              "    }\n",
              "</style>\n",
              "<table border=\"1\" class=\"dataframe\">\n",
              "  <thead>\n",
              "    <tr style=\"text-align: right;\">\n",
              "      <th></th>\n",
              "      <th>Unnamed: 0</th>\n",
              "      <th>toxic</th>\n",
              "    </tr>\n",
              "  </thead>\n",
              "  <tbody>\n",
              "    <tr>\n",
              "      <th>count</th>\n",
              "      <td>30000.000000</td>\n",
              "      <td>30000.000000</td>\n",
              "    </tr>\n",
              "    <tr>\n",
              "      <th>mean</th>\n",
              "      <td>80129.690067</td>\n",
              "      <td>0.100533</td>\n",
              "    </tr>\n",
              "    <tr>\n",
              "      <th>std</th>\n",
              "      <td>45798.483390</td>\n",
              "      <td>0.300715</td>\n",
              "    </tr>\n",
              "    <tr>\n",
              "      <th>min</th>\n",
              "      <td>0.000000</td>\n",
              "      <td>0.000000</td>\n",
              "    </tr>\n",
              "    <tr>\n",
              "      <th>25%</th>\n",
              "      <td>40708.000000</td>\n",
              "      <td>0.000000</td>\n",
              "    </tr>\n",
              "    <tr>\n",
              "      <th>50%</th>\n",
              "      <td>79857.500000</td>\n",
              "      <td>0.000000</td>\n",
              "    </tr>\n",
              "    <tr>\n",
              "      <th>75%</th>\n",
              "      <td>119857.250000</td>\n",
              "      <td>0.000000</td>\n",
              "    </tr>\n",
              "    <tr>\n",
              "      <th>max</th>\n",
              "      <td>159449.000000</td>\n",
              "      <td>1.000000</td>\n",
              "    </tr>\n",
              "  </tbody>\n",
              "</table>\n",
              "</div>\n",
              "    <div class=\"colab-df-buttons\">\n",
              "\n",
              "  <div class=\"colab-df-container\">\n",
              "    <button class=\"colab-df-convert\" onclick=\"convertToInteractive('df-5184d71c-f1d9-4c22-b5f5-4a3a71f406af')\"\n",
              "            title=\"Convert this dataframe to an interactive table.\"\n",
              "            style=\"display:none;\">\n",
              "\n",
              "  <svg xmlns=\"http://www.w3.org/2000/svg\" height=\"24px\" viewBox=\"0 -960 960 960\">\n",
              "    <path d=\"M120-120v-720h720v720H120Zm60-500h600v-160H180v160Zm220 220h160v-160H400v160Zm0 220h160v-160H400v160ZM180-400h160v-160H180v160Zm440 0h160v-160H620v160ZM180-180h160v-160H180v160Zm440 0h160v-160H620v160Z\"/>\n",
              "  </svg>\n",
              "    </button>\n",
              "\n",
              "  <style>\n",
              "    .colab-df-container {\n",
              "      display:flex;\n",
              "      gap: 12px;\n",
              "    }\n",
              "\n",
              "    .colab-df-convert {\n",
              "      background-color: #E8F0FE;\n",
              "      border: none;\n",
              "      border-radius: 50%;\n",
              "      cursor: pointer;\n",
              "      display: none;\n",
              "      fill: #1967D2;\n",
              "      height: 32px;\n",
              "      padding: 0 0 0 0;\n",
              "      width: 32px;\n",
              "    }\n",
              "\n",
              "    .colab-df-convert:hover {\n",
              "      background-color: #E2EBFA;\n",
              "      box-shadow: 0px 1px 2px rgba(60, 64, 67, 0.3), 0px 1px 3px 1px rgba(60, 64, 67, 0.15);\n",
              "      fill: #174EA6;\n",
              "    }\n",
              "\n",
              "    .colab-df-buttons div {\n",
              "      margin-bottom: 4px;\n",
              "    }\n",
              "\n",
              "    [theme=dark] .colab-df-convert {\n",
              "      background-color: #3B4455;\n",
              "      fill: #D2E3FC;\n",
              "    }\n",
              "\n",
              "    [theme=dark] .colab-df-convert:hover {\n",
              "      background-color: #434B5C;\n",
              "      box-shadow: 0px 1px 3px 1px rgba(0, 0, 0, 0.15);\n",
              "      filter: drop-shadow(0px 1px 2px rgba(0, 0, 0, 0.3));\n",
              "      fill: #FFFFFF;\n",
              "    }\n",
              "  </style>\n",
              "\n",
              "    <script>\n",
              "      const buttonEl =\n",
              "        document.querySelector('#df-5184d71c-f1d9-4c22-b5f5-4a3a71f406af button.colab-df-convert');\n",
              "      buttonEl.style.display =\n",
              "        google.colab.kernel.accessAllowed ? 'block' : 'none';\n",
              "\n",
              "      async function convertToInteractive(key) {\n",
              "        const element = document.querySelector('#df-5184d71c-f1d9-4c22-b5f5-4a3a71f406af');\n",
              "        const dataTable =\n",
              "          await google.colab.kernel.invokeFunction('convertToInteractive',\n",
              "                                                    [key], {});\n",
              "        if (!dataTable) return;\n",
              "\n",
              "        const docLinkHtml = 'Like what you see? Visit the ' +\n",
              "          '<a target=\"_blank\" href=https://colab.research.google.com/notebooks/data_table.ipynb>data table notebook</a>'\n",
              "          + ' to learn more about interactive tables.';\n",
              "        element.innerHTML = '';\n",
              "        dataTable['output_type'] = 'display_data';\n",
              "        await google.colab.output.renderOutput(dataTable, element);\n",
              "        const docLink = document.createElement('div');\n",
              "        docLink.innerHTML = docLinkHtml;\n",
              "        element.appendChild(docLink);\n",
              "      }\n",
              "    </script>\n",
              "  </div>\n",
              "\n",
              "\n",
              "<div id=\"df-3ef00ba9-7bf3-4a01-8a25-b634fc216f7c\">\n",
              "  <button class=\"colab-df-quickchart\" onclick=\"quickchart('df-3ef00ba9-7bf3-4a01-8a25-b634fc216f7c')\"\n",
              "            title=\"Suggest charts\"\n",
              "            style=\"display:none;\">\n",
              "\n",
              "<svg xmlns=\"http://www.w3.org/2000/svg\" height=\"24px\"viewBox=\"0 0 24 24\"\n",
              "     width=\"24px\">\n",
              "    <g>\n",
              "        <path d=\"M19 3H5c-1.1 0-2 .9-2 2v14c0 1.1.9 2 2 2h14c1.1 0 2-.9 2-2V5c0-1.1-.9-2-2-2zM9 17H7v-7h2v7zm4 0h-2V7h2v10zm4 0h-2v-4h2v4z\"/>\n",
              "    </g>\n",
              "</svg>\n",
              "  </button>\n",
              "\n",
              "<style>\n",
              "  .colab-df-quickchart {\n",
              "      --bg-color: #E8F0FE;\n",
              "      --fill-color: #1967D2;\n",
              "      --hover-bg-color: #E2EBFA;\n",
              "      --hover-fill-color: #174EA6;\n",
              "      --disabled-fill-color: #AAA;\n",
              "      --disabled-bg-color: #DDD;\n",
              "  }\n",
              "\n",
              "  [theme=dark] .colab-df-quickchart {\n",
              "      --bg-color: #3B4455;\n",
              "      --fill-color: #D2E3FC;\n",
              "      --hover-bg-color: #434B5C;\n",
              "      --hover-fill-color: #FFFFFF;\n",
              "      --disabled-bg-color: #3B4455;\n",
              "      --disabled-fill-color: #666;\n",
              "  }\n",
              "\n",
              "  .colab-df-quickchart {\n",
              "    background-color: var(--bg-color);\n",
              "    border: none;\n",
              "    border-radius: 50%;\n",
              "    cursor: pointer;\n",
              "    display: none;\n",
              "    fill: var(--fill-color);\n",
              "    height: 32px;\n",
              "    padding: 0;\n",
              "    width: 32px;\n",
              "  }\n",
              "\n",
              "  .colab-df-quickchart:hover {\n",
              "    background-color: var(--hover-bg-color);\n",
              "    box-shadow: 0 1px 2px rgba(60, 64, 67, 0.3), 0 1px 3px 1px rgba(60, 64, 67, 0.15);\n",
              "    fill: var(--button-hover-fill-color);\n",
              "  }\n",
              "\n",
              "  .colab-df-quickchart-complete:disabled,\n",
              "  .colab-df-quickchart-complete:disabled:hover {\n",
              "    background-color: var(--disabled-bg-color);\n",
              "    fill: var(--disabled-fill-color);\n",
              "    box-shadow: none;\n",
              "  }\n",
              "\n",
              "  .colab-df-spinner {\n",
              "    border: 2px solid var(--fill-color);\n",
              "    border-color: transparent;\n",
              "    border-bottom-color: var(--fill-color);\n",
              "    animation:\n",
              "      spin 1s steps(1) infinite;\n",
              "  }\n",
              "\n",
              "  @keyframes spin {\n",
              "    0% {\n",
              "      border-color: transparent;\n",
              "      border-bottom-color: var(--fill-color);\n",
              "      border-left-color: var(--fill-color);\n",
              "    }\n",
              "    20% {\n",
              "      border-color: transparent;\n",
              "      border-left-color: var(--fill-color);\n",
              "      border-top-color: var(--fill-color);\n",
              "    }\n",
              "    30% {\n",
              "      border-color: transparent;\n",
              "      border-left-color: var(--fill-color);\n",
              "      border-top-color: var(--fill-color);\n",
              "      border-right-color: var(--fill-color);\n",
              "    }\n",
              "    40% {\n",
              "      border-color: transparent;\n",
              "      border-right-color: var(--fill-color);\n",
              "      border-top-color: var(--fill-color);\n",
              "    }\n",
              "    60% {\n",
              "      border-color: transparent;\n",
              "      border-right-color: var(--fill-color);\n",
              "    }\n",
              "    80% {\n",
              "      border-color: transparent;\n",
              "      border-right-color: var(--fill-color);\n",
              "      border-bottom-color: var(--fill-color);\n",
              "    }\n",
              "    90% {\n",
              "      border-color: transparent;\n",
              "      border-bottom-color: var(--fill-color);\n",
              "    }\n",
              "  }\n",
              "</style>\n",
              "\n",
              "  <script>\n",
              "    async function quickchart(key) {\n",
              "      const quickchartButtonEl =\n",
              "        document.querySelector('#' + key + ' button');\n",
              "      quickchartButtonEl.disabled = true;  // To prevent multiple clicks.\n",
              "      quickchartButtonEl.classList.add('colab-df-spinner');\n",
              "      try {\n",
              "        const charts = await google.colab.kernel.invokeFunction(\n",
              "            'suggestCharts', [key], {});\n",
              "      } catch (error) {\n",
              "        console.error('Error during call to suggestCharts:', error);\n",
              "      }\n",
              "      quickchartButtonEl.classList.remove('colab-df-spinner');\n",
              "      quickchartButtonEl.classList.add('colab-df-quickchart-complete');\n",
              "    }\n",
              "    (() => {\n",
              "      let quickchartButtonEl =\n",
              "        document.querySelector('#df-3ef00ba9-7bf3-4a01-8a25-b634fc216f7c button');\n",
              "      quickchartButtonEl.style.display =\n",
              "        google.colab.kernel.accessAllowed ? 'block' : 'none';\n",
              "    })();\n",
              "  </script>\n",
              "</div>\n",
              "    </div>\n",
              "  </div>\n"
            ]
          },
          "metadata": {}
        },
        {
          "output_type": "stream",
          "name": "stdout",
          "text": [
            "Пропуски:\n"
          ]
        },
        {
          "output_type": "display_data",
          "data": {
            "text/plain": [
              "Unnamed: 0    0\n",
              "text          0\n",
              "toxic         0\n",
              "dtype: int64"
            ]
          },
          "metadata": {}
        },
        {
          "output_type": "stream",
          "name": "stdout",
          "text": [
            "Дубликаты:\n"
          ]
        },
        {
          "output_type": "display_data",
          "data": {
            "text/plain": [
              "0"
            ]
          },
          "metadata": {}
        },
        {
          "output_type": "stream",
          "name": "stdout",
          "text": [
            "Уникальные значения:\n"
          ]
        },
        {
          "output_type": "display_data",
          "data": {
            "text/plain": [
              "toxic             2\n",
              "Unnamed: 0    30000\n",
              "text          30000\n",
              "dtype: int64"
            ]
          },
          "metadata": {}
        },
        {
          "output_type": "stream",
          "name": "stdout",
          "text": [
            "Разделим признаки на категориальные и числовые:\n",
            "Всего числовых признаков: 2\n",
            "Всего категориальных признаков: 1\n"
          ]
        }
      ],
      "source": [
        "def data_describe(data):\n",
        "    print('Общая информация:')\n",
        "    data.info()\n",
        "    print('Первые 5 строк:')\n",
        "    display(data.head())\n",
        "    print('Описание датафрейма:')\n",
        "    display(data.describe())\n",
        "    print('Пропуски:')\n",
        "    display(data.isna().sum().sort_values(ascending=False))\n",
        "    print('Дубликаты:')\n",
        "    display(data.duplicated().sum())\n",
        "    print('Уникальные значения:')\n",
        "    display(data.nunique().sort_values())\n",
        "    print('Разделим признаки на категориальные и числовые:')\n",
        "    num_columns = []\n",
        "    cat_columns = []\n",
        "    for num, i in enumerate(data.columns):\n",
        "        if pd.api.types.is_numeric_dtype(data[i]):\n",
        "            num_columns.append(i)\n",
        "        elif pd.api.types.is_object_dtype(data[i]):\n",
        "            cat_columns.append(i)\n",
        "    print('Всего числовых признаков:', len(num_columns))\n",
        "    print('Всего категориальных признаков:', len(cat_columns))\n",
        "\n",
        "\n",
        "data_describe(df)"
      ]
    },
    {
      "cell_type": "markdown",
      "metadata": {
        "id": "CwSe-GtGQg7H"
      },
      "source": [
        "- видим, что набор данных содержит 159292 записей и 3 признака:\n",
        "      - признак `Unnamed: 0`, дублирующий индекс, не несущий никакой информации, требующий удаления\n",
        "      - категориальный признак `text` с текстом комментария\n",
        "      - таргет `toxic` - числовой бинарный признак: является ли комментарий токсичным (0/1)\n",
        "- пропуски и дубликаты отсутствуют"
      ]
    },
    {
      "cell_type": "code",
      "execution_count": 46,
      "metadata": {
        "colab": {
          "base_uri": "https://localhost:8080/"
        },
        "id": "fKQISptlQg7H",
        "outputId": "9b744e45-ffd1-4ddc-9999-d3ed979ca919"
      },
      "outputs": [
        {
          "output_type": "execute_result",
          "data": {
            "text/plain": [
              "0"
            ]
          },
          "metadata": {},
          "execution_count": 46
        }
      ],
      "source": [
        "df['text'].duplicated().sum()"
      ]
    },
    {
      "cell_type": "markdown",
      "metadata": {
        "id": "meIeLidhQg7H"
      },
      "source": [
        "Уберём из набора данных столбец `Unnamed: 0`"
      ]
    },
    {
      "cell_type": "code",
      "execution_count": 47,
      "metadata": {
        "id": "0w3d4jrXQg7H"
      },
      "outputs": [],
      "source": [
        "df.drop('Unnamed: 0', axis=1, inplace=True)"
      ]
    },
    {
      "cell_type": "markdown",
      "metadata": {
        "id": "w8Tqk_uIQg7H"
      },
      "source": [
        "Проверим дисбаланс классов"
      ]
    },
    {
      "cell_type": "code",
      "execution_count": 48,
      "metadata": {
        "colab": {
          "base_uri": "https://localhost:8080/"
        },
        "id": "7b7Li7pOQg7H",
        "outputId": "40085141-841e-4cea-ca85-84a4ba8477b7"
      },
      "outputs": [
        {
          "output_type": "execute_result",
          "data": {
            "text/plain": [
              "0    26984\n",
              "1     3016\n",
              "Name: toxic, dtype: int64"
            ]
          },
          "metadata": {},
          "execution_count": 48
        }
      ],
      "source": [
        "df['toxic'].value_counts()"
      ]
    },
    {
      "cell_type": "code",
      "execution_count": 49,
      "metadata": {
        "colab": {
          "base_uri": "https://localhost:8080/"
        },
        "id": "Dk4dI54yQg7H",
        "outputId": "6a3ce287-bd39-4a75-a841-0440e0358284"
      },
      "outputs": [
        {
          "output_type": "stream",
          "name": "stdout",
          "text": [
            "Доля негативных комментариев: 10.1 %\n"
          ]
        }
      ],
      "source": [
        "print('Доля негативных комментариев:', round(len(df[df['toxic']==1])/len(df) * 100, 1), '%')"
      ]
    },
    {
      "cell_type": "markdown",
      "metadata": {
        "id": "gOX3h2tsQg7H"
      },
      "source": [
        "Потребуется перебалансировка классов. Метод перебалансировки выберем позднее."
      ]
    },
    {
      "cell_type": "markdown",
      "metadata": {
        "id": "PFhxt6eZQg7H"
      },
      "source": [
        "Не лишним будет проверить данные на корректную разметку. Возьмем 20 случайных объектов, размеченных как негативные:"
      ]
    },
    {
      "cell_type": "code",
      "execution_count": 50,
      "metadata": {
        "colab": {
          "base_uri": "https://localhost:8080/",
          "height": 677
        },
        "id": "B5Rsf4YPQg7H",
        "outputId": "10d6f88d-2af3-440d-8ee7-5a1f5f771f04"
      },
      "outputs": [
        {
          "output_type": "execute_result",
          "data": {
            "text/plain": [
              "                                                     text  toxic\n",
              "158409  I am going to shove a burning torch up your as...      1\n",
              "87556   sex toy \\n\\nWhy are you bulling up my edits? S...      1\n",
              "45747   Get amped on demamp cornhuskers f**king rule t...      1\n",
              "130449  \"\\n\\n Congratulations \\n\\nWell I suppose I hav...      1\n",
              "113273                  i know your racist,just admit it!      1\n",
              "2152    \"\\n\\nI agree to that. many parts of the articl...      1\n",
              "145049    OsFan \\n\\ni still think you're a piece of sh!t.      1\n",
              "140276  good luck with your struggle in wikipedia by f...      1\n",
              "104331     Suck it bitch!!!!!!! \\n\\nha ha bitch fuck!!!!!      1\n",
              "13136   NATE, YOU ARE FUCKING GOD DAMN FIRED! YOU ARE ...      1\n",
              "57693                            Oshwah is a bellend cunt      1\n",
              "13782                                You're full of shit.      1\n",
              "86085                            HAHA YOU GOT PWND BITCH!      1\n",
              "18542   who the hell are u \\n\\n      why do u even bot...      1\n",
              "109694  Well they are certainly prettier than you Sidd...      1\n",
              "90432   \"\\n That fact that you place nice text in my d...      1\n",
              "124840  , or else I'll cure your virginity from the wr...      1\n",
              "108130  \"\\nOH COME ON PEOPLE\\nWell yeah maybe he stole...      1\n",
              "113969                           you can now suck my dick      1\n",
              "87419   So which is, Dourque? Are you a Black, a woman...      1"
            ],
            "text/html": [
              "\n",
              "  <div id=\"df-29259230-7c07-4ea2-8a7c-4fb7e939e173\" class=\"colab-df-container\">\n",
              "    <div>\n",
              "<style scoped>\n",
              "    .dataframe tbody tr th:only-of-type {\n",
              "        vertical-align: middle;\n",
              "    }\n",
              "\n",
              "    .dataframe tbody tr th {\n",
              "        vertical-align: top;\n",
              "    }\n",
              "\n",
              "    .dataframe thead th {\n",
              "        text-align: right;\n",
              "    }\n",
              "</style>\n",
              "<table border=\"1\" class=\"dataframe\">\n",
              "  <thead>\n",
              "    <tr style=\"text-align: right;\">\n",
              "      <th></th>\n",
              "      <th>text</th>\n",
              "      <th>toxic</th>\n",
              "    </tr>\n",
              "  </thead>\n",
              "  <tbody>\n",
              "    <tr>\n",
              "      <th>158409</th>\n",
              "      <td>I am going to shove a burning torch up your as...</td>\n",
              "      <td>1</td>\n",
              "    </tr>\n",
              "    <tr>\n",
              "      <th>87556</th>\n",
              "      <td>sex toy \\n\\nWhy are you bulling up my edits? S...</td>\n",
              "      <td>1</td>\n",
              "    </tr>\n",
              "    <tr>\n",
              "      <th>45747</th>\n",
              "      <td>Get amped on demamp cornhuskers f**king rule t...</td>\n",
              "      <td>1</td>\n",
              "    </tr>\n",
              "    <tr>\n",
              "      <th>130449</th>\n",
              "      <td>\"\\n\\n Congratulations \\n\\nWell I suppose I hav...</td>\n",
              "      <td>1</td>\n",
              "    </tr>\n",
              "    <tr>\n",
              "      <th>113273</th>\n",
              "      <td>i know your racist,just admit it!</td>\n",
              "      <td>1</td>\n",
              "    </tr>\n",
              "    <tr>\n",
              "      <th>2152</th>\n",
              "      <td>\"\\n\\nI agree to that. many parts of the articl...</td>\n",
              "      <td>1</td>\n",
              "    </tr>\n",
              "    <tr>\n",
              "      <th>145049</th>\n",
              "      <td>OsFan \\n\\ni still think you're a piece of sh!t.</td>\n",
              "      <td>1</td>\n",
              "    </tr>\n",
              "    <tr>\n",
              "      <th>140276</th>\n",
              "      <td>good luck with your struggle in wikipedia by f...</td>\n",
              "      <td>1</td>\n",
              "    </tr>\n",
              "    <tr>\n",
              "      <th>104331</th>\n",
              "      <td>Suck it bitch!!!!!!! \\n\\nha ha bitch fuck!!!!!</td>\n",
              "      <td>1</td>\n",
              "    </tr>\n",
              "    <tr>\n",
              "      <th>13136</th>\n",
              "      <td>NATE, YOU ARE FUCKING GOD DAMN FIRED! YOU ARE ...</td>\n",
              "      <td>1</td>\n",
              "    </tr>\n",
              "    <tr>\n",
              "      <th>57693</th>\n",
              "      <td>Oshwah is a bellend cunt</td>\n",
              "      <td>1</td>\n",
              "    </tr>\n",
              "    <tr>\n",
              "      <th>13782</th>\n",
              "      <td>You're full of shit.</td>\n",
              "      <td>1</td>\n",
              "    </tr>\n",
              "    <tr>\n",
              "      <th>86085</th>\n",
              "      <td>HAHA YOU GOT PWND BITCH!</td>\n",
              "      <td>1</td>\n",
              "    </tr>\n",
              "    <tr>\n",
              "      <th>18542</th>\n",
              "      <td>who the hell are u \\n\\n      why do u even bot...</td>\n",
              "      <td>1</td>\n",
              "    </tr>\n",
              "    <tr>\n",
              "      <th>109694</th>\n",
              "      <td>Well they are certainly prettier than you Sidd...</td>\n",
              "      <td>1</td>\n",
              "    </tr>\n",
              "    <tr>\n",
              "      <th>90432</th>\n",
              "      <td>\"\\n That fact that you place nice text in my d...</td>\n",
              "      <td>1</td>\n",
              "    </tr>\n",
              "    <tr>\n",
              "      <th>124840</th>\n",
              "      <td>, or else I'll cure your virginity from the wr...</td>\n",
              "      <td>1</td>\n",
              "    </tr>\n",
              "    <tr>\n",
              "      <th>108130</th>\n",
              "      <td>\"\\nOH COME ON PEOPLE\\nWell yeah maybe he stole...</td>\n",
              "      <td>1</td>\n",
              "    </tr>\n",
              "    <tr>\n",
              "      <th>113969</th>\n",
              "      <td>you can now suck my dick</td>\n",
              "      <td>1</td>\n",
              "    </tr>\n",
              "    <tr>\n",
              "      <th>87419</th>\n",
              "      <td>So which is, Dourque? Are you a Black, a woman...</td>\n",
              "      <td>1</td>\n",
              "    </tr>\n",
              "  </tbody>\n",
              "</table>\n",
              "</div>\n",
              "    <div class=\"colab-df-buttons\">\n",
              "\n",
              "  <div class=\"colab-df-container\">\n",
              "    <button class=\"colab-df-convert\" onclick=\"convertToInteractive('df-29259230-7c07-4ea2-8a7c-4fb7e939e173')\"\n",
              "            title=\"Convert this dataframe to an interactive table.\"\n",
              "            style=\"display:none;\">\n",
              "\n",
              "  <svg xmlns=\"http://www.w3.org/2000/svg\" height=\"24px\" viewBox=\"0 -960 960 960\">\n",
              "    <path d=\"M120-120v-720h720v720H120Zm60-500h600v-160H180v160Zm220 220h160v-160H400v160Zm0 220h160v-160H400v160ZM180-400h160v-160H180v160Zm440 0h160v-160H620v160ZM180-180h160v-160H180v160Zm440 0h160v-160H620v160Z\"/>\n",
              "  </svg>\n",
              "    </button>\n",
              "\n",
              "  <style>\n",
              "    .colab-df-container {\n",
              "      display:flex;\n",
              "      gap: 12px;\n",
              "    }\n",
              "\n",
              "    .colab-df-convert {\n",
              "      background-color: #E8F0FE;\n",
              "      border: none;\n",
              "      border-radius: 50%;\n",
              "      cursor: pointer;\n",
              "      display: none;\n",
              "      fill: #1967D2;\n",
              "      height: 32px;\n",
              "      padding: 0 0 0 0;\n",
              "      width: 32px;\n",
              "    }\n",
              "\n",
              "    .colab-df-convert:hover {\n",
              "      background-color: #E2EBFA;\n",
              "      box-shadow: 0px 1px 2px rgba(60, 64, 67, 0.3), 0px 1px 3px 1px rgba(60, 64, 67, 0.15);\n",
              "      fill: #174EA6;\n",
              "    }\n",
              "\n",
              "    .colab-df-buttons div {\n",
              "      margin-bottom: 4px;\n",
              "    }\n",
              "\n",
              "    [theme=dark] .colab-df-convert {\n",
              "      background-color: #3B4455;\n",
              "      fill: #D2E3FC;\n",
              "    }\n",
              "\n",
              "    [theme=dark] .colab-df-convert:hover {\n",
              "      background-color: #434B5C;\n",
              "      box-shadow: 0px 1px 3px 1px rgba(0, 0, 0, 0.15);\n",
              "      filter: drop-shadow(0px 1px 2px rgba(0, 0, 0, 0.3));\n",
              "      fill: #FFFFFF;\n",
              "    }\n",
              "  </style>\n",
              "\n",
              "    <script>\n",
              "      const buttonEl =\n",
              "        document.querySelector('#df-29259230-7c07-4ea2-8a7c-4fb7e939e173 button.colab-df-convert');\n",
              "      buttonEl.style.display =\n",
              "        google.colab.kernel.accessAllowed ? 'block' : 'none';\n",
              "\n",
              "      async function convertToInteractive(key) {\n",
              "        const element = document.querySelector('#df-29259230-7c07-4ea2-8a7c-4fb7e939e173');\n",
              "        const dataTable =\n",
              "          await google.colab.kernel.invokeFunction('convertToInteractive',\n",
              "                                                    [key], {});\n",
              "        if (!dataTable) return;\n",
              "\n",
              "        const docLinkHtml = 'Like what you see? Visit the ' +\n",
              "          '<a target=\"_blank\" href=https://colab.research.google.com/notebooks/data_table.ipynb>data table notebook</a>'\n",
              "          + ' to learn more about interactive tables.';\n",
              "        element.innerHTML = '';\n",
              "        dataTable['output_type'] = 'display_data';\n",
              "        await google.colab.output.renderOutput(dataTable, element);\n",
              "        const docLink = document.createElement('div');\n",
              "        docLink.innerHTML = docLinkHtml;\n",
              "        element.appendChild(docLink);\n",
              "      }\n",
              "    </script>\n",
              "  </div>\n",
              "\n",
              "\n",
              "<div id=\"df-acd6d1d3-3ea6-4914-8689-ca76cc70d8cc\">\n",
              "  <button class=\"colab-df-quickchart\" onclick=\"quickchart('df-acd6d1d3-3ea6-4914-8689-ca76cc70d8cc')\"\n",
              "            title=\"Suggest charts\"\n",
              "            style=\"display:none;\">\n",
              "\n",
              "<svg xmlns=\"http://www.w3.org/2000/svg\" height=\"24px\"viewBox=\"0 0 24 24\"\n",
              "     width=\"24px\">\n",
              "    <g>\n",
              "        <path d=\"M19 3H5c-1.1 0-2 .9-2 2v14c0 1.1.9 2 2 2h14c1.1 0 2-.9 2-2V5c0-1.1-.9-2-2-2zM9 17H7v-7h2v7zm4 0h-2V7h2v10zm4 0h-2v-4h2v4z\"/>\n",
              "    </g>\n",
              "</svg>\n",
              "  </button>\n",
              "\n",
              "<style>\n",
              "  .colab-df-quickchart {\n",
              "      --bg-color: #E8F0FE;\n",
              "      --fill-color: #1967D2;\n",
              "      --hover-bg-color: #E2EBFA;\n",
              "      --hover-fill-color: #174EA6;\n",
              "      --disabled-fill-color: #AAA;\n",
              "      --disabled-bg-color: #DDD;\n",
              "  }\n",
              "\n",
              "  [theme=dark] .colab-df-quickchart {\n",
              "      --bg-color: #3B4455;\n",
              "      --fill-color: #D2E3FC;\n",
              "      --hover-bg-color: #434B5C;\n",
              "      --hover-fill-color: #FFFFFF;\n",
              "      --disabled-bg-color: #3B4455;\n",
              "      --disabled-fill-color: #666;\n",
              "  }\n",
              "\n",
              "  .colab-df-quickchart {\n",
              "    background-color: var(--bg-color);\n",
              "    border: none;\n",
              "    border-radius: 50%;\n",
              "    cursor: pointer;\n",
              "    display: none;\n",
              "    fill: var(--fill-color);\n",
              "    height: 32px;\n",
              "    padding: 0;\n",
              "    width: 32px;\n",
              "  }\n",
              "\n",
              "  .colab-df-quickchart:hover {\n",
              "    background-color: var(--hover-bg-color);\n",
              "    box-shadow: 0 1px 2px rgba(60, 64, 67, 0.3), 0 1px 3px 1px rgba(60, 64, 67, 0.15);\n",
              "    fill: var(--button-hover-fill-color);\n",
              "  }\n",
              "\n",
              "  .colab-df-quickchart-complete:disabled,\n",
              "  .colab-df-quickchart-complete:disabled:hover {\n",
              "    background-color: var(--disabled-bg-color);\n",
              "    fill: var(--disabled-fill-color);\n",
              "    box-shadow: none;\n",
              "  }\n",
              "\n",
              "  .colab-df-spinner {\n",
              "    border: 2px solid var(--fill-color);\n",
              "    border-color: transparent;\n",
              "    border-bottom-color: var(--fill-color);\n",
              "    animation:\n",
              "      spin 1s steps(1) infinite;\n",
              "  }\n",
              "\n",
              "  @keyframes spin {\n",
              "    0% {\n",
              "      border-color: transparent;\n",
              "      border-bottom-color: var(--fill-color);\n",
              "      border-left-color: var(--fill-color);\n",
              "    }\n",
              "    20% {\n",
              "      border-color: transparent;\n",
              "      border-left-color: var(--fill-color);\n",
              "      border-top-color: var(--fill-color);\n",
              "    }\n",
              "    30% {\n",
              "      border-color: transparent;\n",
              "      border-left-color: var(--fill-color);\n",
              "      border-top-color: var(--fill-color);\n",
              "      border-right-color: var(--fill-color);\n",
              "    }\n",
              "    40% {\n",
              "      border-color: transparent;\n",
              "      border-right-color: var(--fill-color);\n",
              "      border-top-color: var(--fill-color);\n",
              "    }\n",
              "    60% {\n",
              "      border-color: transparent;\n",
              "      border-right-color: var(--fill-color);\n",
              "    }\n",
              "    80% {\n",
              "      border-color: transparent;\n",
              "      border-right-color: var(--fill-color);\n",
              "      border-bottom-color: var(--fill-color);\n",
              "    }\n",
              "    90% {\n",
              "      border-color: transparent;\n",
              "      border-bottom-color: var(--fill-color);\n",
              "    }\n",
              "  }\n",
              "</style>\n",
              "\n",
              "  <script>\n",
              "    async function quickchart(key) {\n",
              "      const quickchartButtonEl =\n",
              "        document.querySelector('#' + key + ' button');\n",
              "      quickchartButtonEl.disabled = true;  // To prevent multiple clicks.\n",
              "      quickchartButtonEl.classList.add('colab-df-spinner');\n",
              "      try {\n",
              "        const charts = await google.colab.kernel.invokeFunction(\n",
              "            'suggestCharts', [key], {});\n",
              "      } catch (error) {\n",
              "        console.error('Error during call to suggestCharts:', error);\n",
              "      }\n",
              "      quickchartButtonEl.classList.remove('colab-df-spinner');\n",
              "      quickchartButtonEl.classList.add('colab-df-quickchart-complete');\n",
              "    }\n",
              "    (() => {\n",
              "      let quickchartButtonEl =\n",
              "        document.querySelector('#df-acd6d1d3-3ea6-4914-8689-ca76cc70d8cc button');\n",
              "      quickchartButtonEl.style.display =\n",
              "        google.colab.kernel.accessAllowed ? 'block' : 'none';\n",
              "    })();\n",
              "  </script>\n",
              "</div>\n",
              "    </div>\n",
              "  </div>\n"
            ]
          },
          "metadata": {},
          "execution_count": 50
        }
      ],
      "source": [
        "df.sample(20, weights='toxic', random_state=RANDOM_STATE)"
      ]
    },
    {
      "cell_type": "markdown",
      "metadata": {
        "id": "R7M_TyTPQg7H"
      },
      "source": [
        "Негатив на самом деле есть, разметка корректная"
      ]
    },
    {
      "cell_type": "markdown",
      "metadata": {
        "id": "MQxKnW16Qg7I"
      },
      "source": [
        "**Выводы:**\n",
        "\n",
        "- исходный датафрейм содержит 159292 записей и 3 признака:\n",
        "      - признак `Unnamed: 0`, дублирующий индекс, не несущий никакой информации\n",
        "      - категориальный признак `text` с текстом комментария\n",
        "      - таргет `toxic` - числовой бинарный признак: является ли комментарий токсичным (0/1)\n",
        "- пропуски и дубликаты отсутствуют\n",
        "- есть дисбаланс классов (0/1: 90%/10%)\n",
        "- текст размечен верно"
      ]
    },
    {
      "cell_type": "markdown",
      "metadata": {
        "id": "hHb9UjaQQg7I"
      },
      "source": [
        "## Анализ данных"
      ]
    },
    {
      "cell_type": "markdown",
      "metadata": {
        "id": "r2cOB3UHQg7I"
      },
      "source": [
        "Прежде чем извлечь признаки из текста, упростим его.\n",
        "\n",
        "Использовать будем следующие этапы предобработки текста:\n",
        "\n",
        "- токенизация - разбиение текста на токены: отдельные фразы, слова, символы.\n",
        "\n",
        "- лемматизация - процесс приведения слова к его базовой форме (лемме), которая может быть использована для поиска или сравнения слов (\"running\", \"ran\", \"runs\" - \"run\")\n",
        "\n",
        "Для лемматизации английского текста используем библиотеку NLTK"
      ]
    },
    {
      "cell_type": "markdown",
      "metadata": {
        "id": "zY_Vf7Kg5a7-"
      },
      "source": [
        "Вначале очистим тексты от лишних символов с помощью регулярных выражений:"
      ]
    },
    {
      "cell_type": "code",
      "execution_count": 51,
      "metadata": {
        "id": "m62YVgfK5a7-"
      },
      "outputs": [],
      "source": [
        "def clear_text(text):\n",
        "    clear_text = re.sub(r'[^a-zA-Z ]', ' ', text)\n",
        "    clear_text = \" \".join(clear_text.split())\n",
        "    return clear_text"
      ]
    },
    {
      "cell_type": "code",
      "execution_count": 52,
      "metadata": {
        "id": "Ymuwh18g5a7-"
      },
      "outputs": [],
      "source": [
        "df['text_clear'] = df['text'].apply(clear_text)"
      ]
    },
    {
      "cell_type": "markdown",
      "metadata": {
        "id": "opyoIqGb5a7-"
      },
      "source": [
        "Оптимизируем лемматизацию текста с помощью lemmatize_sentence:"
      ]
    },
    {
      "cell_type": "code",
      "execution_count": 32,
      "metadata": {
        "id": "jhq7mn_-5a7-"
      },
      "outputs": [],
      "source": [
        "tqdm.pandas()\n",
        "df['text_lemm_clear'] = df['text_clear'].apply(lemmatize_sentence)"
      ]
    },
    {
      "cell_type": "code",
      "execution_count": 33,
      "metadata": {
        "id": "vDIAPPMg5a7-"
      },
      "outputs": [],
      "source": [
        "def join_text(text):\n",
        "    return ' '.join(text)"
      ]
    },
    {
      "cell_type": "code",
      "execution_count": 34,
      "metadata": {
        "id": "XC5b8h2t5a7-"
      },
      "outputs": [],
      "source": [
        "df['text_lemm_clear'] = df['text_lemm_clear'].apply(join_text)"
      ]
    },
    {
      "cell_type": "code",
      "execution_count": 35,
      "metadata": {
        "scrolled": true,
        "colab": {
          "base_uri": "https://localhost:8080/",
          "height": 206
        },
        "id": "SMK683e45a7-",
        "outputId": "58850a92-897d-4895-9b95-ce3029017adb"
      },
      "outputs": [
        {
          "output_type": "execute_result",
          "data": {
            "text/plain": [
              "                                                     text  toxic  \\\n",
              "31015   Sometime back, I just happened to log on to ww...      0   \n",
              "102832  \"\\n\\nThe latest edit is much better, don't mak...      0   \n",
              "67317   \" October 2007 (UTC)\\n\\nI would think you'd be...      0   \n",
              "81091   Thanks for the tip on the currency translation...      0   \n",
              "90091   I would argue that if content on the Con in co...      0   \n",
              "\n",
              "                                               text_clear  \\\n",
              "31015   Sometime back I just happened to log on to www...   \n",
              "102832  The latest edit is much better don t make this...   \n",
              "67317   October UTC I would think you d be able to get...   \n",
              "81091   Thanks for the tip on the currency translation...   \n",
              "90091   I would argue that if content on the Con in co...   \n",
              "\n",
              "                                          text_lemm_clear  \n",
              "31015   sometime back i just happen to log on to www i...  \n",
              "102832  the late edit be much good don t make this art...  \n",
              "67317   october utc i would think you d be able to get...  \n",
              "81091   thanks for the tip on the currency translation...  \n",
              "90091   i would argue that if content on the con in co...  "
            ],
            "text/html": [
              "\n",
              "  <div id=\"df-d9954597-e963-43af-a16a-76c8f4e6d9b6\" class=\"colab-df-container\">\n",
              "    <div>\n",
              "<style scoped>\n",
              "    .dataframe tbody tr th:only-of-type {\n",
              "        vertical-align: middle;\n",
              "    }\n",
              "\n",
              "    .dataframe tbody tr th {\n",
              "        vertical-align: top;\n",
              "    }\n",
              "\n",
              "    .dataframe thead th {\n",
              "        text-align: right;\n",
              "    }\n",
              "</style>\n",
              "<table border=\"1\" class=\"dataframe\">\n",
              "  <thead>\n",
              "    <tr style=\"text-align: right;\">\n",
              "      <th></th>\n",
              "      <th>text</th>\n",
              "      <th>toxic</th>\n",
              "      <th>text_clear</th>\n",
              "      <th>text_lemm_clear</th>\n",
              "    </tr>\n",
              "  </thead>\n",
              "  <tbody>\n",
              "    <tr>\n",
              "      <th>31015</th>\n",
              "      <td>Sometime back, I just happened to log on to ww...</td>\n",
              "      <td>0</td>\n",
              "      <td>Sometime back I just happened to log on to www...</td>\n",
              "      <td>sometime back i just happen to log on to www i...</td>\n",
              "    </tr>\n",
              "    <tr>\n",
              "      <th>102832</th>\n",
              "      <td>\"\\n\\nThe latest edit is much better, don't mak...</td>\n",
              "      <td>0</td>\n",
              "      <td>The latest edit is much better don t make this...</td>\n",
              "      <td>the late edit be much good don t make this art...</td>\n",
              "    </tr>\n",
              "    <tr>\n",
              "      <th>67317</th>\n",
              "      <td>\" October 2007 (UTC)\\n\\nI would think you'd be...</td>\n",
              "      <td>0</td>\n",
              "      <td>October UTC I would think you d be able to get...</td>\n",
              "      <td>october utc i would think you d be able to get...</td>\n",
              "    </tr>\n",
              "    <tr>\n",
              "      <th>81091</th>\n",
              "      <td>Thanks for the tip on the currency translation...</td>\n",
              "      <td>0</td>\n",
              "      <td>Thanks for the tip on the currency translation...</td>\n",
              "      <td>thanks for the tip on the currency translation...</td>\n",
              "    </tr>\n",
              "    <tr>\n",
              "      <th>90091</th>\n",
              "      <td>I would argue that if content on the Con in co...</td>\n",
              "      <td>0</td>\n",
              "      <td>I would argue that if content on the Con in co...</td>\n",
              "      <td>i would argue that if content on the con in co...</td>\n",
              "    </tr>\n",
              "  </tbody>\n",
              "</table>\n",
              "</div>\n",
              "    <div class=\"colab-df-buttons\">\n",
              "\n",
              "  <div class=\"colab-df-container\">\n",
              "    <button class=\"colab-df-convert\" onclick=\"convertToInteractive('df-d9954597-e963-43af-a16a-76c8f4e6d9b6')\"\n",
              "            title=\"Convert this dataframe to an interactive table.\"\n",
              "            style=\"display:none;\">\n",
              "\n",
              "  <svg xmlns=\"http://www.w3.org/2000/svg\" height=\"24px\" viewBox=\"0 -960 960 960\">\n",
              "    <path d=\"M120-120v-720h720v720H120Zm60-500h600v-160H180v160Zm220 220h160v-160H400v160Zm0 220h160v-160H400v160ZM180-400h160v-160H180v160Zm440 0h160v-160H620v160ZM180-180h160v-160H180v160Zm440 0h160v-160H620v160Z\"/>\n",
              "  </svg>\n",
              "    </button>\n",
              "\n",
              "  <style>\n",
              "    .colab-df-container {\n",
              "      display:flex;\n",
              "      gap: 12px;\n",
              "    }\n",
              "\n",
              "    .colab-df-convert {\n",
              "      background-color: #E8F0FE;\n",
              "      border: none;\n",
              "      border-radius: 50%;\n",
              "      cursor: pointer;\n",
              "      display: none;\n",
              "      fill: #1967D2;\n",
              "      height: 32px;\n",
              "      padding: 0 0 0 0;\n",
              "      width: 32px;\n",
              "    }\n",
              "\n",
              "    .colab-df-convert:hover {\n",
              "      background-color: #E2EBFA;\n",
              "      box-shadow: 0px 1px 2px rgba(60, 64, 67, 0.3), 0px 1px 3px 1px rgba(60, 64, 67, 0.15);\n",
              "      fill: #174EA6;\n",
              "    }\n",
              "\n",
              "    .colab-df-buttons div {\n",
              "      margin-bottom: 4px;\n",
              "    }\n",
              "\n",
              "    [theme=dark] .colab-df-convert {\n",
              "      background-color: #3B4455;\n",
              "      fill: #D2E3FC;\n",
              "    }\n",
              "\n",
              "    [theme=dark] .colab-df-convert:hover {\n",
              "      background-color: #434B5C;\n",
              "      box-shadow: 0px 1px 3px 1px rgba(0, 0, 0, 0.15);\n",
              "      filter: drop-shadow(0px 1px 2px rgba(0, 0, 0, 0.3));\n",
              "      fill: #FFFFFF;\n",
              "    }\n",
              "  </style>\n",
              "\n",
              "    <script>\n",
              "      const buttonEl =\n",
              "        document.querySelector('#df-d9954597-e963-43af-a16a-76c8f4e6d9b6 button.colab-df-convert');\n",
              "      buttonEl.style.display =\n",
              "        google.colab.kernel.accessAllowed ? 'block' : 'none';\n",
              "\n",
              "      async function convertToInteractive(key) {\n",
              "        const element = document.querySelector('#df-d9954597-e963-43af-a16a-76c8f4e6d9b6');\n",
              "        const dataTable =\n",
              "          await google.colab.kernel.invokeFunction('convertToInteractive',\n",
              "                                                    [key], {});\n",
              "        if (!dataTable) return;\n",
              "\n",
              "        const docLinkHtml = 'Like what you see? Visit the ' +\n",
              "          '<a target=\"_blank\" href=https://colab.research.google.com/notebooks/data_table.ipynb>data table notebook</a>'\n",
              "          + ' to learn more about interactive tables.';\n",
              "        element.innerHTML = '';\n",
              "        dataTable['output_type'] = 'display_data';\n",
              "        await google.colab.output.renderOutput(dataTable, element);\n",
              "        const docLink = document.createElement('div');\n",
              "        docLink.innerHTML = docLinkHtml;\n",
              "        element.appendChild(docLink);\n",
              "      }\n",
              "    </script>\n",
              "  </div>\n",
              "\n",
              "\n",
              "<div id=\"df-47e98e83-315f-4516-a1ad-19195fc120d2\">\n",
              "  <button class=\"colab-df-quickchart\" onclick=\"quickchart('df-47e98e83-315f-4516-a1ad-19195fc120d2')\"\n",
              "            title=\"Suggest charts\"\n",
              "            style=\"display:none;\">\n",
              "\n",
              "<svg xmlns=\"http://www.w3.org/2000/svg\" height=\"24px\"viewBox=\"0 0 24 24\"\n",
              "     width=\"24px\">\n",
              "    <g>\n",
              "        <path d=\"M19 3H5c-1.1 0-2 .9-2 2v14c0 1.1.9 2 2 2h14c1.1 0 2-.9 2-2V5c0-1.1-.9-2-2-2zM9 17H7v-7h2v7zm4 0h-2V7h2v10zm4 0h-2v-4h2v4z\"/>\n",
              "    </g>\n",
              "</svg>\n",
              "  </button>\n",
              "\n",
              "<style>\n",
              "  .colab-df-quickchart {\n",
              "      --bg-color: #E8F0FE;\n",
              "      --fill-color: #1967D2;\n",
              "      --hover-bg-color: #E2EBFA;\n",
              "      --hover-fill-color: #174EA6;\n",
              "      --disabled-fill-color: #AAA;\n",
              "      --disabled-bg-color: #DDD;\n",
              "  }\n",
              "\n",
              "  [theme=dark] .colab-df-quickchart {\n",
              "      --bg-color: #3B4455;\n",
              "      --fill-color: #D2E3FC;\n",
              "      --hover-bg-color: #434B5C;\n",
              "      --hover-fill-color: #FFFFFF;\n",
              "      --disabled-bg-color: #3B4455;\n",
              "      --disabled-fill-color: #666;\n",
              "  }\n",
              "\n",
              "  .colab-df-quickchart {\n",
              "    background-color: var(--bg-color);\n",
              "    border: none;\n",
              "    border-radius: 50%;\n",
              "    cursor: pointer;\n",
              "    display: none;\n",
              "    fill: var(--fill-color);\n",
              "    height: 32px;\n",
              "    padding: 0;\n",
              "    width: 32px;\n",
              "  }\n",
              "\n",
              "  .colab-df-quickchart:hover {\n",
              "    background-color: var(--hover-bg-color);\n",
              "    box-shadow: 0 1px 2px rgba(60, 64, 67, 0.3), 0 1px 3px 1px rgba(60, 64, 67, 0.15);\n",
              "    fill: var(--button-hover-fill-color);\n",
              "  }\n",
              "\n",
              "  .colab-df-quickchart-complete:disabled,\n",
              "  .colab-df-quickchart-complete:disabled:hover {\n",
              "    background-color: var(--disabled-bg-color);\n",
              "    fill: var(--disabled-fill-color);\n",
              "    box-shadow: none;\n",
              "  }\n",
              "\n",
              "  .colab-df-spinner {\n",
              "    border: 2px solid var(--fill-color);\n",
              "    border-color: transparent;\n",
              "    border-bottom-color: var(--fill-color);\n",
              "    animation:\n",
              "      spin 1s steps(1) infinite;\n",
              "  }\n",
              "\n",
              "  @keyframes spin {\n",
              "    0% {\n",
              "      border-color: transparent;\n",
              "      border-bottom-color: var(--fill-color);\n",
              "      border-left-color: var(--fill-color);\n",
              "    }\n",
              "    20% {\n",
              "      border-color: transparent;\n",
              "      border-left-color: var(--fill-color);\n",
              "      border-top-color: var(--fill-color);\n",
              "    }\n",
              "    30% {\n",
              "      border-color: transparent;\n",
              "      border-left-color: var(--fill-color);\n",
              "      border-top-color: var(--fill-color);\n",
              "      border-right-color: var(--fill-color);\n",
              "    }\n",
              "    40% {\n",
              "      border-color: transparent;\n",
              "      border-right-color: var(--fill-color);\n",
              "      border-top-color: var(--fill-color);\n",
              "    }\n",
              "    60% {\n",
              "      border-color: transparent;\n",
              "      border-right-color: var(--fill-color);\n",
              "    }\n",
              "    80% {\n",
              "      border-color: transparent;\n",
              "      border-right-color: var(--fill-color);\n",
              "      border-bottom-color: var(--fill-color);\n",
              "    }\n",
              "    90% {\n",
              "      border-color: transparent;\n",
              "      border-bottom-color: var(--fill-color);\n",
              "    }\n",
              "  }\n",
              "</style>\n",
              "\n",
              "  <script>\n",
              "    async function quickchart(key) {\n",
              "      const quickchartButtonEl =\n",
              "        document.querySelector('#' + key + ' button');\n",
              "      quickchartButtonEl.disabled = true;  // To prevent multiple clicks.\n",
              "      quickchartButtonEl.classList.add('colab-df-spinner');\n",
              "      try {\n",
              "        const charts = await google.colab.kernel.invokeFunction(\n",
              "            'suggestCharts', [key], {});\n",
              "      } catch (error) {\n",
              "        console.error('Error during call to suggestCharts:', error);\n",
              "      }\n",
              "      quickchartButtonEl.classList.remove('colab-df-spinner');\n",
              "      quickchartButtonEl.classList.add('colab-df-quickchart-complete');\n",
              "    }\n",
              "    (() => {\n",
              "      let quickchartButtonEl =\n",
              "        document.querySelector('#df-47e98e83-315f-4516-a1ad-19195fc120d2 button');\n",
              "      quickchartButtonEl.style.display =\n",
              "        google.colab.kernel.accessAllowed ? 'block' : 'none';\n",
              "    })();\n",
              "  </script>\n",
              "</div>\n",
              "    </div>\n",
              "  </div>\n"
            ]
          },
          "metadata": {},
          "execution_count": 35
        }
      ],
      "source": [
        "df.head()"
      ]
    },
    {
      "cell_type": "markdown",
      "metadata": {
        "id": "z-_IWjec5a7_"
      },
      "source": [
        "Отфильтруем тексты - исключим стоп-слова с помощью модуля NLTK - stopwords:"
      ]
    },
    {
      "cell_type": "code",
      "execution_count": 36,
      "metadata": {
        "id": "NCfuRXD25a8J"
      },
      "outputs": [],
      "source": [
        "stop_words = set(stopwords.words('english'))\n",
        "\n",
        "def stopwords_text(text):\n",
        "    filtered_text = [word for word in text.split() if word.lower() not in stop_words]\n",
        "    return \" \".join(filtered_text)\n",
        "\n",
        "# применим функцию к столбцу датафрейма с текстом\n",
        "df['text_lemm_clear_stopwords'] = df['text_lemm_clear'].apply(stopwords_text)"
      ]
    },
    {
      "cell_type": "code",
      "execution_count": 37,
      "metadata": {
        "id": "aUPi0qSt5a8J"
      },
      "outputs": [],
      "source": [
        "df = df.drop(['text', 'text_clear', 'text_lemm_clear'], axis=1)"
      ]
    },
    {
      "cell_type": "code",
      "execution_count": 38,
      "metadata": {
        "colab": {
          "base_uri": "https://localhost:8080/"
        },
        "id": "w54ua1VG5a8J",
        "outputId": "12609826-3958-4523-c2a8-cfbc9bc985f5"
      },
      "outputs": [
        {
          "output_type": "stream",
          "name": "stdout",
          "text": [
            "<class 'pandas.core.frame.DataFrame'>\n",
            "Int64Index: 30000 entries, 31015 to 89382\n",
            "Data columns (total 2 columns):\n",
            " #   Column                     Non-Null Count  Dtype \n",
            "---  ------                     --------------  ----- \n",
            " 0   toxic                      30000 non-null  int64 \n",
            " 1   text_lemm_clear_stopwords  30000 non-null  object\n",
            "dtypes: int64(1), object(1)\n",
            "memory usage: 703.1+ KB\n"
          ]
        }
      ],
      "source": [
        "df.info()"
      ]
    },
    {
      "cell_type": "code",
      "execution_count": 39,
      "metadata": {
        "colab": {
          "base_uri": "https://localhost:8080/",
          "height": 206
        },
        "id": "qHJ7q-Gy5a8J",
        "outputId": "60dd82bc-45f1-486a-996d-9da0c5442583"
      },
      "outputs": [
        {
          "output_type": "execute_result",
          "data": {
            "text/plain": [
              "        toxic                          text_lemm_clear_stopwords\n",
              "31015       0  sometime back happen log www izoom friend refe...\n",
              "102832      0       late edit much good make article state super\n",
              "67317       0  october utc would think able get point across ...\n",
              "81091       0              thanks tip currency translation think\n",
              "90091       0  would argue content con comparison art music p..."
            ],
            "text/html": [
              "\n",
              "  <div id=\"df-9cd81374-e4e0-47b8-a666-a432404bf499\" class=\"colab-df-container\">\n",
              "    <div>\n",
              "<style scoped>\n",
              "    .dataframe tbody tr th:only-of-type {\n",
              "        vertical-align: middle;\n",
              "    }\n",
              "\n",
              "    .dataframe tbody tr th {\n",
              "        vertical-align: top;\n",
              "    }\n",
              "\n",
              "    .dataframe thead th {\n",
              "        text-align: right;\n",
              "    }\n",
              "</style>\n",
              "<table border=\"1\" class=\"dataframe\">\n",
              "  <thead>\n",
              "    <tr style=\"text-align: right;\">\n",
              "      <th></th>\n",
              "      <th>toxic</th>\n",
              "      <th>text_lemm_clear_stopwords</th>\n",
              "    </tr>\n",
              "  </thead>\n",
              "  <tbody>\n",
              "    <tr>\n",
              "      <th>31015</th>\n",
              "      <td>0</td>\n",
              "      <td>sometime back happen log www izoom friend refe...</td>\n",
              "    </tr>\n",
              "    <tr>\n",
              "      <th>102832</th>\n",
              "      <td>0</td>\n",
              "      <td>late edit much good make article state super</td>\n",
              "    </tr>\n",
              "    <tr>\n",
              "      <th>67317</th>\n",
              "      <td>0</td>\n",
              "      <td>october utc would think able get point across ...</td>\n",
              "    </tr>\n",
              "    <tr>\n",
              "      <th>81091</th>\n",
              "      <td>0</td>\n",
              "      <td>thanks tip currency translation think</td>\n",
              "    </tr>\n",
              "    <tr>\n",
              "      <th>90091</th>\n",
              "      <td>0</td>\n",
              "      <td>would argue content con comparison art music p...</td>\n",
              "    </tr>\n",
              "  </tbody>\n",
              "</table>\n",
              "</div>\n",
              "    <div class=\"colab-df-buttons\">\n",
              "\n",
              "  <div class=\"colab-df-container\">\n",
              "    <button class=\"colab-df-convert\" onclick=\"convertToInteractive('df-9cd81374-e4e0-47b8-a666-a432404bf499')\"\n",
              "            title=\"Convert this dataframe to an interactive table.\"\n",
              "            style=\"display:none;\">\n",
              "\n",
              "  <svg xmlns=\"http://www.w3.org/2000/svg\" height=\"24px\" viewBox=\"0 -960 960 960\">\n",
              "    <path d=\"M120-120v-720h720v720H120Zm60-500h600v-160H180v160Zm220 220h160v-160H400v160Zm0 220h160v-160H400v160ZM180-400h160v-160H180v160Zm440 0h160v-160H620v160ZM180-180h160v-160H180v160Zm440 0h160v-160H620v160Z\"/>\n",
              "  </svg>\n",
              "    </button>\n",
              "\n",
              "  <style>\n",
              "    .colab-df-container {\n",
              "      display:flex;\n",
              "      gap: 12px;\n",
              "    }\n",
              "\n",
              "    .colab-df-convert {\n",
              "      background-color: #E8F0FE;\n",
              "      border: none;\n",
              "      border-radius: 50%;\n",
              "      cursor: pointer;\n",
              "      display: none;\n",
              "      fill: #1967D2;\n",
              "      height: 32px;\n",
              "      padding: 0 0 0 0;\n",
              "      width: 32px;\n",
              "    }\n",
              "\n",
              "    .colab-df-convert:hover {\n",
              "      background-color: #E2EBFA;\n",
              "      box-shadow: 0px 1px 2px rgba(60, 64, 67, 0.3), 0px 1px 3px 1px rgba(60, 64, 67, 0.15);\n",
              "      fill: #174EA6;\n",
              "    }\n",
              "\n",
              "    .colab-df-buttons div {\n",
              "      margin-bottom: 4px;\n",
              "    }\n",
              "\n",
              "    [theme=dark] .colab-df-convert {\n",
              "      background-color: #3B4455;\n",
              "      fill: #D2E3FC;\n",
              "    }\n",
              "\n",
              "    [theme=dark] .colab-df-convert:hover {\n",
              "      background-color: #434B5C;\n",
              "      box-shadow: 0px 1px 3px 1px rgba(0, 0, 0, 0.15);\n",
              "      filter: drop-shadow(0px 1px 2px rgba(0, 0, 0, 0.3));\n",
              "      fill: #FFFFFF;\n",
              "    }\n",
              "  </style>\n",
              "\n",
              "    <script>\n",
              "      const buttonEl =\n",
              "        document.querySelector('#df-9cd81374-e4e0-47b8-a666-a432404bf499 button.colab-df-convert');\n",
              "      buttonEl.style.display =\n",
              "        google.colab.kernel.accessAllowed ? 'block' : 'none';\n",
              "\n",
              "      async function convertToInteractive(key) {\n",
              "        const element = document.querySelector('#df-9cd81374-e4e0-47b8-a666-a432404bf499');\n",
              "        const dataTable =\n",
              "          await google.colab.kernel.invokeFunction('convertToInteractive',\n",
              "                                                    [key], {});\n",
              "        if (!dataTable) return;\n",
              "\n",
              "        const docLinkHtml = 'Like what you see? Visit the ' +\n",
              "          '<a target=\"_blank\" href=https://colab.research.google.com/notebooks/data_table.ipynb>data table notebook</a>'\n",
              "          + ' to learn more about interactive tables.';\n",
              "        element.innerHTML = '';\n",
              "        dataTable['output_type'] = 'display_data';\n",
              "        await google.colab.output.renderOutput(dataTable, element);\n",
              "        const docLink = document.createElement('div');\n",
              "        docLink.innerHTML = docLinkHtml;\n",
              "        element.appendChild(docLink);\n",
              "      }\n",
              "    </script>\n",
              "  </div>\n",
              "\n",
              "\n",
              "<div id=\"df-4fb9a040-8601-40e3-8803-eebfdeb79aa7\">\n",
              "  <button class=\"colab-df-quickchart\" onclick=\"quickchart('df-4fb9a040-8601-40e3-8803-eebfdeb79aa7')\"\n",
              "            title=\"Suggest charts\"\n",
              "            style=\"display:none;\">\n",
              "\n",
              "<svg xmlns=\"http://www.w3.org/2000/svg\" height=\"24px\"viewBox=\"0 0 24 24\"\n",
              "     width=\"24px\">\n",
              "    <g>\n",
              "        <path d=\"M19 3H5c-1.1 0-2 .9-2 2v14c0 1.1.9 2 2 2h14c1.1 0 2-.9 2-2V5c0-1.1-.9-2-2-2zM9 17H7v-7h2v7zm4 0h-2V7h2v10zm4 0h-2v-4h2v4z\"/>\n",
              "    </g>\n",
              "</svg>\n",
              "  </button>\n",
              "\n",
              "<style>\n",
              "  .colab-df-quickchart {\n",
              "      --bg-color: #E8F0FE;\n",
              "      --fill-color: #1967D2;\n",
              "      --hover-bg-color: #E2EBFA;\n",
              "      --hover-fill-color: #174EA6;\n",
              "      --disabled-fill-color: #AAA;\n",
              "      --disabled-bg-color: #DDD;\n",
              "  }\n",
              "\n",
              "  [theme=dark] .colab-df-quickchart {\n",
              "      --bg-color: #3B4455;\n",
              "      --fill-color: #D2E3FC;\n",
              "      --hover-bg-color: #434B5C;\n",
              "      --hover-fill-color: #FFFFFF;\n",
              "      --disabled-bg-color: #3B4455;\n",
              "      --disabled-fill-color: #666;\n",
              "  }\n",
              "\n",
              "  .colab-df-quickchart {\n",
              "    background-color: var(--bg-color);\n",
              "    border: none;\n",
              "    border-radius: 50%;\n",
              "    cursor: pointer;\n",
              "    display: none;\n",
              "    fill: var(--fill-color);\n",
              "    height: 32px;\n",
              "    padding: 0;\n",
              "    width: 32px;\n",
              "  }\n",
              "\n",
              "  .colab-df-quickchart:hover {\n",
              "    background-color: var(--hover-bg-color);\n",
              "    box-shadow: 0 1px 2px rgba(60, 64, 67, 0.3), 0 1px 3px 1px rgba(60, 64, 67, 0.15);\n",
              "    fill: var(--button-hover-fill-color);\n",
              "  }\n",
              "\n",
              "  .colab-df-quickchart-complete:disabled,\n",
              "  .colab-df-quickchart-complete:disabled:hover {\n",
              "    background-color: var(--disabled-bg-color);\n",
              "    fill: var(--disabled-fill-color);\n",
              "    box-shadow: none;\n",
              "  }\n",
              "\n",
              "  .colab-df-spinner {\n",
              "    border: 2px solid var(--fill-color);\n",
              "    border-color: transparent;\n",
              "    border-bottom-color: var(--fill-color);\n",
              "    animation:\n",
              "      spin 1s steps(1) infinite;\n",
              "  }\n",
              "\n",
              "  @keyframes spin {\n",
              "    0% {\n",
              "      border-color: transparent;\n",
              "      border-bottom-color: var(--fill-color);\n",
              "      border-left-color: var(--fill-color);\n",
              "    }\n",
              "    20% {\n",
              "      border-color: transparent;\n",
              "      border-left-color: var(--fill-color);\n",
              "      border-top-color: var(--fill-color);\n",
              "    }\n",
              "    30% {\n",
              "      border-color: transparent;\n",
              "      border-left-color: var(--fill-color);\n",
              "      border-top-color: var(--fill-color);\n",
              "      border-right-color: var(--fill-color);\n",
              "    }\n",
              "    40% {\n",
              "      border-color: transparent;\n",
              "      border-right-color: var(--fill-color);\n",
              "      border-top-color: var(--fill-color);\n",
              "    }\n",
              "    60% {\n",
              "      border-color: transparent;\n",
              "      border-right-color: var(--fill-color);\n",
              "    }\n",
              "    80% {\n",
              "      border-color: transparent;\n",
              "      border-right-color: var(--fill-color);\n",
              "      border-bottom-color: var(--fill-color);\n",
              "    }\n",
              "    90% {\n",
              "      border-color: transparent;\n",
              "      border-bottom-color: var(--fill-color);\n",
              "    }\n",
              "  }\n",
              "</style>\n",
              "\n",
              "  <script>\n",
              "    async function quickchart(key) {\n",
              "      const quickchartButtonEl =\n",
              "        document.querySelector('#' + key + ' button');\n",
              "      quickchartButtonEl.disabled = true;  // To prevent multiple clicks.\n",
              "      quickchartButtonEl.classList.add('colab-df-spinner');\n",
              "      try {\n",
              "        const charts = await google.colab.kernel.invokeFunction(\n",
              "            'suggestCharts', [key], {});\n",
              "      } catch (error) {\n",
              "        console.error('Error during call to suggestCharts:', error);\n",
              "      }\n",
              "      quickchartButtonEl.classList.remove('colab-df-spinner');\n",
              "      quickchartButtonEl.classList.add('colab-df-quickchart-complete');\n",
              "    }\n",
              "    (() => {\n",
              "      let quickchartButtonEl =\n",
              "        document.querySelector('#df-4fb9a040-8601-40e3-8803-eebfdeb79aa7 button');\n",
              "      quickchartButtonEl.style.display =\n",
              "        google.colab.kernel.accessAllowed ? 'block' : 'none';\n",
              "    })();\n",
              "  </script>\n",
              "</div>\n",
              "    </div>\n",
              "  </div>\n"
            ]
          },
          "metadata": {},
          "execution_count": 39
        }
      ],
      "source": [
        "df.head()"
      ]
    },
    {
      "cell_type": "markdown",
      "metadata": {
        "id": "fc2DGjOvQg7J"
      },
      "source": [
        "**Разделение данных на выборки**"
      ]
    },
    {
      "cell_type": "markdown",
      "metadata": {
        "id": "9WIdUNY85a8K"
      },
      "source": [
        "Зададим параметр `stratify`, чтобы учесть баланс классов при разбиении"
      ]
    },
    {
      "cell_type": "code",
      "execution_count": 40,
      "metadata": {
        "colab": {
          "base_uri": "https://localhost:8080/"
        },
        "id": "iXKLSQyPQg7J",
        "outputId": "2b7914e7-bd9b-4342-a933-e29526383a94"
      },
      "outputs": [
        {
          "output_type": "stream",
          "name": "stdout",
          "text": [
            "(24000,)\n",
            "(3000,)\n",
            "(3000,)\n",
            "0.8\n",
            "0.1\n",
            "0.1\n"
          ]
        }
      ],
      "source": [
        "features = df['text_lemm_clear_stopwords']\n",
        "target = df['toxic']\n",
        "\n",
        "# создадим обучающую выборку и валидационную выборки\n",
        "features_train, features_valid, \\\n",
        "target_train, target_valid = train_test_split(features,\n",
        "                                              target,\n",
        "                                              test_size=0.2,\n",
        "                                              random_state=RANDOM_STATE,\n",
        "                                              stratify=target)\n",
        "# разделим валидационную пополам - получим тестовую выборку\n",
        "features_valid, features_test, \\\n",
        "target_valid, target_test = train_test_split(features_valid,\n",
        "                                             target_valid,\n",
        "                                             test_size=0.50,\n",
        "                                             random_state=RANDOM_STATE,\n",
        "                                             stratify=target_valid)\n",
        "\n",
        "print(features_train.shape)\n",
        "print(features_valid.shape)\n",
        "print(features_test.shape)\n",
        "\n",
        "print(len(features_train) / len(df))\n",
        "print(len(features_valid) / len(df))\n",
        "print(len(features_test) / len(df))"
      ]
    },
    {
      "cell_type": "markdown",
      "metadata": {
        "id": "0m3PTcnEQg7J"
      },
      "source": [
        "**Выводы:**\n",
        "- текст упрощен и подготовлен к обучению, выполнены:\n",
        "  - токенизация - разбиение текста на токены: отдельные фразы, слова, символы\n",
        "  - лемматизация - приведение слова к начальной форме - лемме ('looks' - 'look')\n",
        "  - исключены лишние символы и стоп-слова\n",
        "- данные поделены на тренировочную, валидационную и тестовую выборки в соотношении 80%:10%:10%"
      ]
    },
    {
      "cell_type": "markdown",
      "metadata": {
        "id": "KuGKEmGMQg7K"
      },
      "source": [
        "## Обучение"
      ]
    },
    {
      "cell_type": "markdown",
      "metadata": {
        "id": "HSXdHTlHQg7K"
      },
      "source": [
        "Перед нами стоит задача классификации тональности текста. Анализ тональности текста, или сентимент-анализ, выявляет эмоционально окрашенные слова. Оценить тональность - значит отметить текст как позитивный или негативный. Признаки - это слова из корпуса и их величины TF-IDF для каждого текста.\n",
        "\n",
        "Для определения тональности применим величины TF-IDF как признаки.\n",
        "\n",
        "Обучать в нашем проекте будем следующие модели:\n",
        "\n",
        "- LogisticRegression\n",
        "- RandomForestClassifier\n",
        "- GradientBoostingClassifier"
      ]
    },
    {
      "cell_type": "markdown",
      "metadata": {
        "id": "dqeX2R_SQg7M"
      },
      "source": [
        "**LogisticRegression**"
      ]
    },
    {
      "cell_type": "markdown",
      "metadata": {
        "id": "oN2pJ4unQg7M"
      },
      "source": [
        "Чтобы модель показывала стабильно хорошие результаты нужно её обучить на наборе данных, где равное количество положительных и отрицательных комментариев. Для избавления от дисбаланса классов и улучшения показателей качества предсказаний при обучении моделей используем автобалансировку"
      ]
    },
    {
      "cell_type": "code",
      "execution_count": 53,
      "metadata": {
        "colab": {
          "base_uri": "https://localhost:8080/"
        },
        "id": "IoQMSVw45a8K",
        "outputId": "2ac1f08b-cf8e-4761-aa29-b21a5e5857d4"
      },
      "outputs": [
        {
          "output_type": "stream",
          "name": "stdout",
          "text": [
            "Fitting 5 folds for each of 8 candidates, totalling 40 fits\n",
            "{'model__C': 10, 'model__penalty': 'l2', 'model__tol': 1e-05}\n"
          ]
        }
      ],
      "source": [
        "# Создание pipeline с использованием TfidfVectorizer()\n",
        "# и модели логистической регрессии\n",
        "pipeline = Pipeline([\n",
        "    ('tfidf', TfidfVectorizer()),\n",
        "    ('model', LogisticRegression(solver='liblinear',\n",
        "                                 class_weight='balanced'))\n",
        "])\n",
        "\n",
        "# Определение параметров для поиска лучшей модели\n",
        "# логистической регрессии с помощью GridSearchCV\n",
        "parameters = {\n",
        "    'model__C': [5, 10],\n",
        "    'model__penalty': ['l1', 'l2'],\n",
        "    'model__tol': [1e-5, 1e-6]\n",
        "}\n",
        "\n",
        "# Обучение модели на трейне с помощью GridSearchCV\n",
        "lr_model_gs = GridSearchCV(pipeline, parameters, cv=5, n_jobs=-1, verbose=2)\n",
        "lr_model_gs.fit(features_train, target_train)\n",
        "\n",
        "# Предсказание меток классов на тестовых данных\n",
        "lr_valid_preds = lr_model_gs.predict(features_valid)\n",
        "\n",
        "lr_best_params = lr_model_gs.best_params_\n",
        "print(lr_best_params)"
      ]
    },
    {
      "cell_type": "code",
      "execution_count": 54,
      "metadata": {
        "id": "t_DhxupUQg7M",
        "outputId": "ec1011f9-133f-444a-ff14-b45e65efd6d6",
        "colab": {
          "base_uri": "https://localhost:8080/"
        }
      },
      "outputs": [
        {
          "output_type": "stream",
          "name": "stdout",
          "text": [
            "Accuracy score: 0.9466666666666667\n",
            "Precision score: 0.7366666666666667\n",
            "Recall score: 0.7317880794701986\n",
            "F1 score: 0.7342192691029901\n"
          ]
        }
      ],
      "source": [
        "accuracy_valid_lr = accuracy_score(lr_valid_preds, target_valid)\n",
        "precision_valid_lr = precision_score(target_valid, lr_valid_preds)\n",
        "recall_valid_lr = recall_score(target_valid, lr_valid_preds)\n",
        "f1_score_lr = f1_score(target_valid, lr_valid_preds)\n",
        "\n",
        "print('Accuracy score:', accuracy_valid_lr)\n",
        "print('Precision score:', precision_valid_lr)\n",
        "print('Recall score:', recall_valid_lr)\n",
        "print('F1 score:', f1_score_lr)"
      ]
    },
    {
      "cell_type": "code",
      "execution_count": 55,
      "metadata": {
        "id": "_S4jipFKQg7N",
        "outputId": "7786baea-7514-4190-ef19-b4aa79f9a3e5",
        "colab": {
          "base_uri": "https://localhost:8080/"
        }
      },
      "outputs": [
        {
          "output_type": "stream",
          "name": "stdout",
          "text": [
            "AUC-ROC логистической регрессии: 0.9505790406433021\n"
          ]
        }
      ],
      "source": [
        "probabilities_valid = lr_model_gs.predict_proba(features_valid)\n",
        "probabilities_one_valid = probabilities_valid[:, 1]\n",
        "auc_roc_lr = roc_auc_score(target_valid, probabilities_one_valid)\n",
        "print('AUC-ROC логистической регрессии:', auc_roc_lr)"
      ]
    },
    {
      "cell_type": "markdown",
      "metadata": {
        "id": "KkLT_z5bQg7N"
      },
      "source": [
        "Визуализируем матрицу ошибок"
      ]
    },
    {
      "cell_type": "code",
      "execution_count": 56,
      "metadata": {
        "id": "h12hBy2ZQg7N",
        "outputId": "d55086b8-55aa-4603-fec3-a0d9b9d38b8b",
        "scrolled": true,
        "colab": {
          "base_uri": "https://localhost:8080/",
          "height": 410
        }
      },
      "outputs": [
        {
          "output_type": "display_data",
          "data": {
            "text/plain": [
              "<Figure size 800x400 with 2 Axes>"
            ],
            "image/png": "[encoded data removed]"
          },
          "metadata": {}
        }
      ],
      "source": [
        "plt.figure(figsize=(8, 4))\n",
        "sns.heatmap(confusion_matrix(target_valid, lr_valid_preds),\n",
        "            annot=True, fmt='g', linewidth=.5)\n",
        "plt.title('Confusion matrix: LogisticRegression')\n",
        "plt.xlabel('Predicted')\n",
        "plt.ylabel('Actual')\n",
        "plt.show()"
      ]
    },
    {
      "cell_type": "code",
      "execution_count": 57,
      "metadata": {
        "id": "ZaIWJtOfQg7N",
        "outputId": "d08a16ee-2494-46cb-b4e7-0149d96e41f6",
        "colab": {
          "base_uri": "https://localhost:8080/",
          "height": 445
        }
      },
      "outputs": [
        {
          "output_type": "display_data",
          "data": {
            "text/plain": [
              "<Figure size 700x500 with 1 Axes>"
            ],
            "image/png": "[encoded data removed]"
          },
          "metadata": {}
        }
      ],
      "source": [
        "plt.figure(figsize=(7, 5))\n",
        "fpr, tpr, thresholds = roc_curve(target_valid, probabilities_one_valid)\n",
        "roc_auc = auc(fpr, tpr)\n",
        "plt.plot(fpr, tpr, lw=2, label=f'ROC curve: {auc_roc_lr:.2f}')\n",
        "plt.plot([0, 1], [0, 1], lw=2, linestyle='-')\n",
        "plt.legend(loc='lower right')\n",
        "plt.grid(linewidth=0.3)"
      ]
    },
    {
      "cell_type": "markdown",
      "metadata": {
        "id": "W-_T_PdTQg7N"
      },
      "source": [
        "**RandomForestClassifier**"
      ]
    },
    {
      "cell_type": "code",
      "execution_count": 58,
      "metadata": {
        "colab": {
          "base_uri": "https://localhost:8080/"
        },
        "id": "2YL2Huxy5a8L",
        "outputId": "1de28e82-6a3f-4675-ca15-53a011251397"
      },
      "outputs": [
        {
          "output_type": "stream",
          "name": "stdout",
          "text": [
            "Fitting 5 folds for each of 2 candidates, totalling 10 fits\n",
            "{'model__n_estimators': 100}\n"
          ]
        }
      ],
      "source": [
        "# Создание pipeline с использованием TfidfVectorizer()\n",
        "# и модели RandomForestClassifier\n",
        "pipeline = Pipeline([\n",
        "    ('tfidf', TfidfVectorizer()),\n",
        "    ('model', RandomForestClassifier(class_weight='balanced', n_jobs=-1))\n",
        "])\n",
        "\n",
        "# Определение параметров для поиска лучшей модели\n",
        "# логистической регрессии с помощью GridSearchCV\n",
        "parameters = {'model__n_estimators': [100, 150]}\n",
        "\n",
        "# Обучение модели на трейне с помощью GridSearchCV\n",
        "rfc_model_gs = GridSearchCV(pipeline, parameters, cv=5, n_jobs=-1, verbose=2)\n",
        "rfc_model_gs.fit(features_train, target_train)\n",
        "\n",
        "# Предсказание меток классов на тестовых данных\n",
        "rfc_valid_preds = rfc_model_gs.predict(features_valid)\n",
        "\n",
        "rfc_best_params = rfc_model_gs.best_params_\n",
        "print(rfc_best_params)"
      ]
    },
    {
      "cell_type": "code",
      "execution_count": 59,
      "metadata": {
        "id": "bDbUf1iLQg7O",
        "outputId": "86efe15f-c71a-4fb9-82f0-375fb34d8c93",
        "colab": {
          "base_uri": "https://localhost:8080/"
        }
      },
      "outputs": [
        {
          "output_type": "stream",
          "name": "stdout",
          "text": [
            "Accuracy score: 0.9393333333333334\n",
            "Precision score: 0.9615384615384616\n",
            "Recall score: 0.4139072847682119\n",
            "F1 score: 0.5787037037037038\n"
          ]
        }
      ],
      "source": [
        "accuracy_valid_rfc = accuracy_score(rfc_valid_preds, target_valid)\n",
        "precision_valid_rfc = precision_score(target_valid, rfc_valid_preds)\n",
        "recall_valid_rfc = recall_score(target_valid, rfc_valid_preds)\n",
        "f1_score_rfc = f1_score(target_valid, rfc_valid_preds)\n",
        "\n",
        "print('Accuracy score:', accuracy_valid_rfc)\n",
        "print('Precision score:', precision_valid_rfc)\n",
        "print('Recall score:', recall_valid_rfc)\n",
        "print('F1 score:', f1_score_rfc)"
      ]
    },
    {
      "cell_type": "code",
      "execution_count": 60,
      "metadata": {
        "id": "Fu1reOa8Qg7O",
        "outputId": "a52a0181-f271-438c-b885-1f9d90351d0b",
        "colab": {
          "base_uri": "https://localhost:8080/"
        }
      },
      "outputs": [
        {
          "output_type": "stream",
          "name": "stdout",
          "text": [
            "AUC-ROC RandomForestClassifier: 0.9411662551117089\n"
          ]
        }
      ],
      "source": [
        "probabilities_valid = rfc_model_gs.predict_proba(features_valid)\n",
        "probabilities_one_valid = probabilities_valid[:, 1]\n",
        "auc_roc_rfc = roc_auc_score(target_valid, probabilities_one_valid)\n",
        "print('AUC-ROC RandomForestClassifier:', auc_roc_rfc)"
      ]
    },
    {
      "cell_type": "code",
      "execution_count": 61,
      "metadata": {
        "id": "tzl-aw_xQg7O",
        "outputId": "a9c85087-dfb4-4ef6-ede7-d2e692b2aa6f",
        "colab": {
          "base_uri": "https://localhost:8080/",
          "height": 410
        }
      },
      "outputs": [
        {
          "output_type": "display_data",
          "data": {
            "text/plain": [
              "<Figure size 800x400 with 2 Axes>"
            ],
            "image/png": "[encoded data removed]"
          },
          "metadata": {}
        }
      ],
      "source": [
        "plt.figure(figsize=(8, 4))\n",
        "sns.heatmap(confusion_matrix(target_valid, rfc_valid_preds),\n",
        "            annot=True, fmt='g', linewidth=.5)\n",
        "plt.title('Confusion matrix: RandomForestClassifier')\n",
        "plt.xlabel('Predicted')\n",
        "plt.ylabel('Actual')\n",
        "plt.show()"
      ]
    },
    {
      "cell_type": "code",
      "execution_count": 62,
      "metadata": {
        "id": "-H09tJznQg7O",
        "outputId": "4058cbee-4c6e-4643-cd69-d9bdaa4bbf52",
        "colab": {
          "base_uri": "https://localhost:8080/",
          "height": 445
        }
      },
      "outputs": [
        {
          "output_type": "display_data",
          "data": {
            "text/plain": [
              "<Figure size 700x500 with 1 Axes>"
            ],
            "image/png": "[encoded data removed]"
          },
          "metadata": {}
        }
      ],
      "source": [
        "plt.figure(figsize=(7, 5))\n",
        "fpr, tpr, thresholds = roc_curve(target_valid, probabilities_one_valid)\n",
        "roc_auc = auc(fpr, tpr)\n",
        "plt.plot(fpr, tpr, lw=2, label=f'ROC curve: {auc_roc_rfc:.2f}')\n",
        "plt.plot([0, 1], [0, 1], lw=2, linestyle='-')\n",
        "plt.legend(loc='lower right')\n",
        "plt.grid(linewidth=0.3)"
      ]
    },
    {
      "cell_type": "markdown",
      "metadata": {
        "id": "E_SoQyspQg7O"
      },
      "source": [
        "**GradientBoostingClassifier**"
      ]
    },
    {
      "cell_type": "code",
      "execution_count": 63,
      "metadata": {
        "colab": {
          "base_uri": "https://localhost:8080/"
        },
        "id": "dEavEuhw5a8M",
        "outputId": "5dd6665b-f62a-4993-89eb-a4f7c895b39b"
      },
      "outputs": [
        {
          "output_type": "stream",
          "name": "stdout",
          "text": [
            "Fitting 5 folds for each of 2 candidates, totalling 10 fits\n",
            "{'model__learning_rate': 0.3}\n"
          ]
        }
      ],
      "source": [
        "# Создание pipeline с использованием TfidfVectorizer()\n",
        "# и модели GradientBoostingClassifier\n",
        "pipeline = Pipeline([\n",
        "    ('tfidf', TfidfVectorizer()),\n",
        "    ('model', GradientBoostingClassifier())\n",
        "])\n",
        "\n",
        "# Определение параметров для поиска лучшей модели\n",
        "# логистической регрессии с помощью GridSearchCV\n",
        "parameters = {'model__learning_rate': [0.2, 0.3]}\n",
        "\n",
        "# Обучение модели на трейне с помощью GridSearchCV\n",
        "gbc_model_gs = GridSearchCV(pipeline, parameters, cv=5, n_jobs=-1, verbose=2)\n",
        "gbc_model_gs.fit(features_train, target_train)\n",
        "\n",
        "# Предсказание меток классов на тестовых данных\n",
        "gbc_valid_preds = gbc_model_gs.predict(features_valid)\n",
        "\n",
        "gbc_best_params = gbc_model_gs.best_params_\n",
        "print(gbc_best_params)"
      ]
    },
    {
      "cell_type": "code",
      "execution_count": 64,
      "metadata": {
        "id": "I58g7SIcQg7O",
        "outputId": "654b94b3-80ad-44c7-eaec-42386eab4f2b",
        "colab": {
          "base_uri": "https://localhost:8080/"
        }
      },
      "outputs": [
        {
          "output_type": "stream",
          "name": "stdout",
          "text": [
            "Accuracy score: 0.95\n",
            "Precision score: 0.8689320388349514\n",
            "Recall score: 0.5927152317880795\n",
            "F1 score: 0.704724409448819\n"
          ]
        }
      ],
      "source": [
        "accuracy_valid_gbc = accuracy_score(gbc_valid_preds, target_valid)\n",
        "precision_valid_gbc = precision_score(target_valid, gbc_valid_preds)\n",
        "recall_valid_gbc = recall_score(target_valid, gbc_valid_preds)\n",
        "f1_score_gbc = f1_score(target_valid, gbc_valid_preds)\n",
        "\n",
        "print('Accuracy score:', accuracy_valid_gbc)\n",
        "print('Precision score:', precision_valid_gbc)\n",
        "print('Recall score:', recall_valid_gbc)\n",
        "print('F1 score:', f1_score_gbc)"
      ]
    },
    {
      "cell_type": "code",
      "execution_count": 65,
      "metadata": {
        "id": "WHs4BgFJQg7P",
        "outputId": "16c966b9-7d8c-4c46-8a5f-d1a16abf5b17",
        "colab": {
          "base_uri": "https://localhost:8080/"
        }
      },
      "outputs": [
        {
          "output_type": "stream",
          "name": "stdout",
          "text": [
            "AUC-ROC GradientBoostingClassifier: 0.9171620871972863\n"
          ]
        }
      ],
      "source": [
        "probabilities_valid = gbc_model_gs.predict_proba(features_valid)\n",
        "probabilities_one_valid = probabilities_valid[:, 1]\n",
        "auc_roc_gbc = roc_auc_score(target_valid, probabilities_one_valid)\n",
        "print('AUC-ROC GradientBoostingClassifier:', auc_roc_gbc)"
      ]
    },
    {
      "cell_type": "code",
      "execution_count": 66,
      "metadata": {
        "id": "Y3fNRiLvQg7P",
        "outputId": "b20edff9-2c4b-4ed5-e3d8-b22566d85c53",
        "colab": {
          "base_uri": "https://localhost:8080/",
          "height": 410
        }
      },
      "outputs": [
        {
          "output_type": "display_data",
          "data": {
            "text/plain": [
              "<Figure size 800x400 with 2 Axes>"
            ],
            "image/png": "[encoded data removed]"
          },
          "metadata": {}
        }
      ],
      "source": [
        "plt.figure(figsize=(8, 4))\n",
        "sns.heatmap(confusion_matrix(target_valid, gbc_valid_preds),\n",
        "            annot=True, fmt='g', linewidth=.5)\n",
        "plt.title('Confusion matrix: GradientBoostingClassifier')\n",
        "plt.xlabel('Predicted')\n",
        "plt.ylabel('Actual')\n",
        "plt.show()"
      ]
    },
    {
      "cell_type": "code",
      "execution_count": 67,
      "metadata": {
        "id": "7dsRQbEbQg7P",
        "outputId": "f5a41b8b-8bc4-40dd-d551-7089f1ed0b38",
        "colab": {
          "base_uri": "https://localhost:8080/",
          "height": 445
        }
      },
      "outputs": [
        {
          "output_type": "display_data",
          "data": {
            "text/plain": [
              "<Figure size 700x500 with 1 Axes>"
            ],
            "image/png": "[encoded data removed]"
          },
          "metadata": {}
        }
      ],
      "source": [
        "plt.figure(figsize=(7, 5))\n",
        "fpr, tpr, thresholds = roc_curve(target_valid, probabilities_one_valid)\n",
        "roc_auc = auc(fpr, tpr)\n",
        "plt.plot(fpr, tpr, lw=2, label=f'ROC curve: {auc_roc_gbc:.2f}')\n",
        "plt.plot([0, 1], [0, 1], lw=2, linestyle='-')\n",
        "plt.legend(loc='lower right')\n",
        "plt.grid(linewidth=0.3)"
      ]
    },
    {
      "cell_type": "markdown",
      "metadata": {
        "id": "ZOIrwe8KQg7P"
      },
      "source": [
        "Соберем результаты наших моделей в таблицу:"
      ]
    },
    {
      "cell_type": "code",
      "execution_count": 68,
      "metadata": {
        "id": "6I0hoKtmQg7P",
        "outputId": "7d3b9de4-42ad-47a9-82ba-2f7386b01c33",
        "colab": {
          "base_uri": "https://localhost:8080/",
          "height": 143
        }
      },
      "outputs": [
        {
          "output_type": "execute_result",
          "data": {
            "text/plain": [
              "                            Accuracy    Recall  Precision        F1   AUC-ROC\n",
              "LogisticRegression          0.946667  0.731788   0.736667  0.734219  0.950579\n",
              "RandomForestClassifier      0.939333  0.413907   0.961538  0.578704  0.941166\n",
              "GradientBoostingClassifier  0.950000  0.592715   0.868932  0.704724  0.917162"
            ],
            "text/html": [
              "\n",
              "  <div id=\"df-2211bc54-6d90-4cbb-be8b-862525220e9a\" class=\"colab-df-container\">\n",
              "    <div>\n",
              "<style scoped>\n",
              "    .dataframe tbody tr th:only-of-type {\n",
              "        vertical-align: middle;\n",
              "    }\n",
              "\n",
              "    .dataframe tbody tr th {\n",
              "        vertical-align: top;\n",
              "    }\n",
              "\n",
              "    .dataframe thead th {\n",
              "        text-align: right;\n",
              "    }\n",
              "</style>\n",
              "<table border=\"1\" class=\"dataframe\">\n",
              "  <thead>\n",
              "    <tr style=\"text-align: right;\">\n",
              "      <th></th>\n",
              "      <th>Accuracy</th>\n",
              "      <th>Recall</th>\n",
              "      <th>Precision</th>\n",
              "      <th>F1</th>\n",
              "      <th>AUC-ROC</th>\n",
              "    </tr>\n",
              "  </thead>\n",
              "  <tbody>\n",
              "    <tr>\n",
              "      <th>LogisticRegression</th>\n",
              "      <td>0.946667</td>\n",
              "      <td>0.731788</td>\n",
              "      <td>0.736667</td>\n",
              "      <td>0.734219</td>\n",
              "      <td>0.950579</td>\n",
              "    </tr>\n",
              "    <tr>\n",
              "      <th>RandomForestClassifier</th>\n",
              "      <td>0.939333</td>\n",
              "      <td>0.413907</td>\n",
              "      <td>0.961538</td>\n",
              "      <td>0.578704</td>\n",
              "      <td>0.941166</td>\n",
              "    </tr>\n",
              "    <tr>\n",
              "      <th>GradientBoostingClassifier</th>\n",
              "      <td>0.950000</td>\n",
              "      <td>0.592715</td>\n",
              "      <td>0.868932</td>\n",
              "      <td>0.704724</td>\n",
              "      <td>0.917162</td>\n",
              "    </tr>\n",
              "  </tbody>\n",
              "</table>\n",
              "</div>\n",
              "    <div class=\"colab-df-buttons\">\n",
              "\n",
              "  <div class=\"colab-df-container\">\n",
              "    <button class=\"colab-df-convert\" onclick=\"convertToInteractive('df-2211bc54-6d90-4cbb-be8b-862525220e9a')\"\n",
              "            title=\"Convert this dataframe to an interactive table.\"\n",
              "            style=\"display:none;\">\n",
              "\n",
              "  <svg xmlns=\"http://www.w3.org/2000/svg\" height=\"24px\" viewBox=\"0 -960 960 960\">\n",
              "    <path d=\"M120-120v-720h720v720H120Zm60-500h600v-160H180v160Zm220 220h160v-160H400v160Zm0 220h160v-160H400v160ZM180-400h160v-160H180v160Zm440 0h160v-160H620v160ZM180-180h160v-160H180v160Zm440 0h160v-160H620v160Z\"/>\n",
              "  </svg>\n",
              "    </button>\n",
              "\n",
              "  <style>\n",
              "    .colab-df-container {\n",
              "      display:flex;\n",
              "      gap: 12px;\n",
              "    }\n",
              "\n",
              "    .colab-df-convert {\n",
              "      background-color: #E8F0FE;\n",
              "      border: none;\n",
              "      border-radius: 50%;\n",
              "      cursor: pointer;\n",
              "      display: none;\n",
              "      fill: #1967D2;\n",
              "      height: 32px;\n",
              "      padding: 0 0 0 0;\n",
              "      width: 32px;\n",
              "    }\n",
              "\n",
              "    .colab-df-convert:hover {\n",
              "      background-color: #E2EBFA;\n",
              "      box-shadow: 0px 1px 2px rgba(60, 64, 67, 0.3), 0px 1px 3px 1px rgba(60, 64, 67, 0.15);\n",
              "      fill: #174EA6;\n",
              "    }\n",
              "\n",
              "    .colab-df-buttons div {\n",
              "      margin-bottom: 4px;\n",
              "    }\n",
              "\n",
              "    [theme=dark] .colab-df-convert {\n",
              "      background-color: #3B4455;\n",
              "      fill: #D2E3FC;\n",
              "    }\n",
              "\n",
              "    [theme=dark] .colab-df-convert:hover {\n",
              "      background-color: #434B5C;\n",
              "      box-shadow: 0px 1px 3px 1px rgba(0, 0, 0, 0.15);\n",
              "      filter: drop-shadow(0px 1px 2px rgba(0, 0, 0, 0.3));\n",
              "      fill: #FFFFFF;\n",
              "    }\n",
              "  </style>\n",
              "\n",
              "    <script>\n",
              "      const buttonEl =\n",
              "        document.querySelector('#df-2211bc54-6d90-4cbb-be8b-862525220e9a button.colab-df-convert');\n",
              "      buttonEl.style.display =\n",
              "        google.colab.kernel.accessAllowed ? 'block' : 'none';\n",
              "\n",
              "      async function convertToInteractive(key) {\n",
              "        const element = document.querySelector('#df-2211bc54-6d90-4cbb-be8b-862525220e9a');\n",
              "        const dataTable =\n",
              "          await google.colab.kernel.invokeFunction('convertToInteractive',\n",
              "                                                    [key], {});\n",
              "        if (!dataTable) return;\n",
              "\n",
              "        const docLinkHtml = 'Like what you see? Visit the ' +\n",
              "          '<a target=\"_blank\" href=https://colab.research.google.com/notebooks/data_table.ipynb>data table notebook</a>'\n",
              "          + ' to learn more about interactive tables.';\n",
              "        element.innerHTML = '';\n",
              "        dataTable['output_type'] = 'display_data';\n",
              "        await google.colab.output.renderOutput(dataTable, element);\n",
              "        const docLink = document.createElement('div');\n",
              "        docLink.innerHTML = docLinkHtml;\n",
              "        element.appendChild(docLink);\n",
              "      }\n",
              "    </script>\n",
              "  </div>\n",
              "\n",
              "\n",
              "<div id=\"df-02f4b661-1c02-4729-a09b-5ec9e2fed2af\">\n",
              "  <button class=\"colab-df-quickchart\" onclick=\"quickchart('df-02f4b661-1c02-4729-a09b-5ec9e2fed2af')\"\n",
              "            title=\"Suggest charts\"\n",
              "            style=\"display:none;\">\n",
              "\n",
              "<svg xmlns=\"http://www.w3.org/2000/svg\" height=\"24px\"viewBox=\"0 0 24 24\"\n",
              "     width=\"24px\">\n",
              "    <g>\n",
              "        <path d=\"M19 3H5c-1.1 0-2 .9-2 2v14c0 1.1.9 2 2 2h14c1.1 0 2-.9 2-2V5c0-1.1-.9-2-2-2zM9 17H7v-7h2v7zm4 0h-2V7h2v10zm4 0h-2v-4h2v4z\"/>\n",
              "    </g>\n",
              "</svg>\n",
              "  </button>\n",
              "\n",
              "<style>\n",
              "  .colab-df-quickchart {\n",
              "      --bg-color: #E8F0FE;\n",
              "      --fill-color: #1967D2;\n",
              "      --hover-bg-color: #E2EBFA;\n",
              "      --hover-fill-color: #174EA6;\n",
              "      --disabled-fill-color: #AAA;\n",
              "      --disabled-bg-color: #DDD;\n",
              "  }\n",
              "\n",
              "  [theme=dark] .colab-df-quickchart {\n",
              "      --bg-color: #3B4455;\n",
              "      --fill-color: #D2E3FC;\n",
              "      --hover-bg-color: #434B5C;\n",
              "      --hover-fill-color: #FFFFFF;\n",
              "      --disabled-bg-color: #3B4455;\n",
              "      --disabled-fill-color: #666;\n",
              "  }\n",
              "\n",
              "  .colab-df-quickchart {\n",
              "    background-color: var(--bg-color);\n",
              "    border: none;\n",
              "    border-radius: 50%;\n",
              "    cursor: pointer;\n",
              "    display: none;\n",
              "    fill: var(--fill-color);\n",
              "    height: 32px;\n",
              "    padding: 0;\n",
              "    width: 32px;\n",
              "  }\n",
              "\n",
              "  .colab-df-quickchart:hover {\n",
              "    background-color: var(--hover-bg-color);\n",
              "    box-shadow: 0 1px 2px rgba(60, 64, 67, 0.3), 0 1px 3px 1px rgba(60, 64, 67, 0.15);\n",
              "    fill: var(--button-hover-fill-color);\n",
              "  }\n",
              "\n",
              "  .colab-df-quickchart-complete:disabled,\n",
              "  .colab-df-quickchart-complete:disabled:hover {\n",
              "    background-color: var(--disabled-bg-color);\n",
              "    fill: var(--disabled-fill-color);\n",
              "    box-shadow: none;\n",
              "  }\n",
              "\n",
              "  .colab-df-spinner {\n",
              "    border: 2px solid var(--fill-color);\n",
              "    border-color: transparent;\n",
              "    border-bottom-color: var(--fill-color);\n",
              "    animation:\n",
              "      spin 1s steps(1) infinite;\n",
              "  }\n",
              "\n",
              "  @keyframes spin {\n",
              "    0% {\n",
              "      border-color: transparent;\n",
              "      border-bottom-color: var(--fill-color);\n",
              "      border-left-color: var(--fill-color);\n",
              "    }\n",
              "    20% {\n",
              "      border-color: transparent;\n",
              "      border-left-color: var(--fill-color);\n",
              "      border-top-color: var(--fill-color);\n",
              "    }\n",
              "    30% {\n",
              "      border-color: transparent;\n",
              "      border-left-color: var(--fill-color);\n",
              "      border-top-color: var(--fill-color);\n",
              "      border-right-color: var(--fill-color);\n",
              "    }\n",
              "    40% {\n",
              "      border-color: transparent;\n",
              "      border-right-color: var(--fill-color);\n",
              "      border-top-color: var(--fill-color);\n",
              "    }\n",
              "    60% {\n",
              "      border-color: transparent;\n",
              "      border-right-color: var(--fill-color);\n",
              "    }\n",
              "    80% {\n",
              "      border-color: transparent;\n",
              "      border-right-color: var(--fill-color);\n",
              "      border-bottom-color: var(--fill-color);\n",
              "    }\n",
              "    90% {\n",
              "      border-color: transparent;\n",
              "      border-bottom-color: var(--fill-color);\n",
              "    }\n",
              "  }\n",
              "</style>\n",
              "\n",
              "  <script>\n",
              "    async function quickchart(key) {\n",
              "      const quickchartButtonEl =\n",
              "        document.querySelector('#' + key + ' button');\n",
              "      quickchartButtonEl.disabled = true;  // To prevent multiple clicks.\n",
              "      quickchartButtonEl.classList.add('colab-df-spinner');\n",
              "      try {\n",
              "        const charts = await google.colab.kernel.invokeFunction(\n",
              "            'suggestCharts', [key], {});\n",
              "      } catch (error) {\n",
              "        console.error('Error during call to suggestCharts:', error);\n",
              "      }\n",
              "      quickchartButtonEl.classList.remove('colab-df-spinner');\n",
              "      quickchartButtonEl.classList.add('colab-df-quickchart-complete');\n",
              "    }\n",
              "    (() => {\n",
              "      let quickchartButtonEl =\n",
              "        document.querySelector('#df-02f4b661-1c02-4729-a09b-5ec9e2fed2af button');\n",
              "      quickchartButtonEl.style.display =\n",
              "        google.colab.kernel.accessAllowed ? 'block' : 'none';\n",
              "    })();\n",
              "  </script>\n",
              "</div>\n",
              "    </div>\n",
              "  </div>\n"
            ]
          },
          "metadata": {},
          "execution_count": 68
        }
      ],
      "source": [
        "data = [{'Accuracy': accuracy_valid_lr, 'Recall': recall_valid_lr,\n",
        "         'Precision': precision_valid_lr, 'F1': f1_score_lr,\n",
        "         'AUC-ROC': auc_roc_lr},\n",
        "        {'Accuracy': accuracy_valid_rfc, 'Recall': recall_valid_rfc,\n",
        "         'Precision': precision_valid_rfc,\n",
        "         'F1': f1_score_rfc, 'AUC-ROC': auc_roc_rfc},\n",
        "        {'Accuracy': accuracy_valid_gbc, 'Recall': recall_valid_gbc,\n",
        "         'Precision': precision_valid_gbc,\n",
        "         'F1': f1_score_gbc, 'AUC-ROC': auc_roc_gbc}]\n",
        "\n",
        "model_result = pd.DataFrame(data, index=['LogisticRegression',\n",
        "                                         'RandomForestClassifier',\n",
        "                                         'GradientBoostingClassifier'])\n",
        "model_result"
      ]
    },
    {
      "cell_type": "markdown",
      "metadata": {
        "id": "V-kShn-EQg7P"
      },
      "source": [
        "**Выводы:**\n",
        "\n",
        "Абсолютным лидером и по метрике F1, и по значению AUC-ROC является модель логистической регрессии. На ней и будем проводить тестирование с подобранными гиперпараметрами"
      ]
    },
    {
      "cell_type": "code",
      "execution_count": 69,
      "metadata": {
        "colab": {
          "base_uri": "https://localhost:8080/"
        },
        "id": "B4LaTGTl5a8N",
        "outputId": "c90088a8-23cc-4b4f-c7bd-73b9471c5097"
      },
      "outputs": [
        {
          "output_type": "execute_result",
          "data": {
            "text/plain": [
              "{'model__C': 10, 'model__penalty': 'l2', 'model__tol': 1e-05}"
            ]
          },
          "metadata": {},
          "execution_count": 69
        }
      ],
      "source": [
        "lr_best_params"
      ]
    },
    {
      "cell_type": "markdown",
      "metadata": {
        "id": "8haFdOgbQg7Q"
      },
      "source": [
        "**Итого:**\n",
        "- выбираем модель LogisticRegression(random_state=RANDOM_STATE, C=10, class_weight='balanced', solver='liblinear', penalty = 'l1', tol': 1e-06)\n",
        "- итого, значения метрик LogisticRegression на валидационной выборке после подбора гиперпараметров:\n",
        "  - F1-score: 0.734\n",
        "  - AUC-ROC: 0.95"
      ]
    },
    {
      "cell_type": "markdown",
      "metadata": {
        "id": "AiK5Ex1EQg7Q"
      },
      "source": [
        "**Тестирование модели**"
      ]
    },
    {
      "cell_type": "markdown",
      "metadata": {
        "id": "PzXpGy6QQg7Q"
      },
      "source": [
        "Для повышения качества модели объединим валидационную и тренировочную выборки"
      ]
    },
    {
      "cell_type": "code",
      "execution_count": 70,
      "metadata": {
        "id": "BQASgUuU5a8N"
      },
      "outputs": [],
      "source": [
        "features_train_final = pd.concat([features_train, features_valid],\n",
        "                                 axis=0, ignore_index=True)\n",
        "target_train_final = pd.concat([target_train, target_valid],\n",
        "                               axis=0, ignore_index=True)"
      ]
    },
    {
      "cell_type": "markdown",
      "metadata": {
        "id": "1yNzOCXk5a8N"
      },
      "source": [
        "Протестируем модель на объединенной выборке"
      ]
    },
    {
      "cell_type": "code",
      "execution_count": 71,
      "metadata": {
        "colab": {
          "base_uri": "https://localhost:8080/"
        },
        "id": "x7GLntUt5a8N",
        "outputId": "f633b45f-5ba8-4c9b-bb94-72779f584fb8"
      },
      "outputs": [
        {
          "output_type": "stream",
          "name": "stdout",
          "text": [
            "Fitting 5 folds for each of 1 candidates, totalling 5 fits\n",
            "{'model__C': 10, 'model__penalty': 'l1', 'model__tol': 1e-06}\n",
            "Accuracy score: 0.9463333333333334\n",
            "Precision score: 0.7287581699346405\n",
            "Recall score: 0.7408637873754153\n",
            "F1 score: 0.7347611202635914\n"
          ]
        }
      ],
      "source": [
        "# Создание pipeline с использованием TfidfVectorizer()\n",
        "# и модели логистической регрессии\n",
        "pipeline = Pipeline([\n",
        "    ('tfidf', TfidfVectorizer()),\n",
        "    ('model', LogisticRegression(max_iter=150,\n",
        "                                 solver='liblinear',\n",
        "                                 class_weight='balanced'))\n",
        "])\n",
        "\n",
        "# Определение параметров для поиска лучшей модели\n",
        "# логистической регрессии с помощью GridSearchCV\n",
        "parameters = {\n",
        "    'model__C': [10],\n",
        "    'model__penalty': ['l1'],\n",
        "    'model__tol': [1e-06]\n",
        "}\n",
        "\n",
        "# Обучение модели на объединенном трейне и валидации с помощью GridSearchCV\n",
        "lr_model_gs = GridSearchCV(pipeline, parameters, cv=5, n_jobs=-1, verbose=2)\n",
        "lr_model_gs.fit(features_train_final, target_train_final)\n",
        "\n",
        "# Предсказание меток классов на тестовых данных\n",
        "lr_test_preds = lr_model_gs.predict(features_test)\n",
        "\n",
        "lr_best_params = lr_model_gs.best_params_\n",
        "print(lr_best_params)\n",
        "\n",
        "# Оценка качества модели на тестовых данных\n",
        "accuracy_test_lr = accuracy_score(lr_test_preds, target_test)\n",
        "precision_test_lr = precision_score(target_test, lr_test_preds)\n",
        "recall_test_lr = recall_score(target_test, lr_test_preds)\n",
        "f1_score_lr = f1_score(target_test, lr_test_preds)\n",
        "\n",
        "print('Accuracy score:', accuracy_test_lr)\n",
        "print('Precision score:', precision_test_lr)\n",
        "print('Recall score:', recall_test_lr)\n",
        "print('F1 score:', f1_score_lr)"
      ]
    },
    {
      "cell_type": "code",
      "execution_count": 72,
      "metadata": {
        "colab": {
          "base_uri": "https://localhost:8080/"
        },
        "id": "TnOPtowvQg7R",
        "outputId": "f52560ea-b74a-4cfb-bc91-a84b11c943e7"
      },
      "outputs": [
        {
          "output_type": "stream",
          "name": "stdout",
          "text": [
            "AUC-ROC логистической регрессии: 0.9593463310516138\n"
          ]
        }
      ],
      "source": [
        "probabilities_valid = lr_model_gs.predict_proba(features_test)\n",
        "probabilities_one_valid = probabilities_valid[:, 1]\n",
        "auc_roc_lr = roc_auc_score(target_test, probabilities_one_valid)\n",
        "print('AUC-ROC логистической регрессии:', auc_roc_lr)"
      ]
    },
    {
      "cell_type": "code",
      "execution_count": 73,
      "metadata": {
        "colab": {
          "base_uri": "https://localhost:8080/",
          "height": 410
        },
        "id": "rb_cpP52Qg7R",
        "outputId": "d34ef9af-b695-4918-d83e-fec4a4b1e461"
      },
      "outputs": [
        {
          "output_type": "display_data",
          "data": {
            "text/plain": [
              "<Figure size 800x400 with 2 Axes>"
            ],
            "image/png": "[encoded data removed]"
          },
          "metadata": {}
        }
      ],
      "source": [
        "plt.figure(figsize=(8, 4))\n",
        "sns.heatmap(confusion_matrix(target_test, lr_test_preds),\n",
        "            annot=True, fmt='g', linewidth=.5)\n",
        "plt.title('Confusion matrix: LogisticRegression')\n",
        "plt.xlabel('Predicted')\n",
        "plt.ylabel('Actual')\n",
        "plt.show()"
      ]
    },
    {
      "cell_type": "code",
      "execution_count": 74,
      "metadata": {
        "colab": {
          "base_uri": "https://localhost:8080/",
          "height": 445
        },
        "id": "JEmTk1FdQg7R",
        "outputId": "afa9f2a5-7588-46e5-fa9a-1cc6616995a0"
      },
      "outputs": [
        {
          "output_type": "display_data",
          "data": {
            "text/plain": [
              "<Figure size 700x500 with 1 Axes>"
            ],
            "image/png": "[encoded data removed]"
          },
          "metadata": {}
        }
      ],
      "source": [
        "plt.figure(figsize=(7, 5))\n",
        "fpr, tpr, thresholds = roc_curve(target_test, probabilities_one_valid)\n",
        "roc_auc = auc(fpr, tpr)\n",
        "plt.plot(fpr, tpr, lw=2, label=f'ROC curve: {auc_roc_lr:.2f}')\n",
        "plt.plot([0, 1], [0, 1], lw=2, linestyle='-')\n",
        "plt.legend(loc='lower right')\n",
        "plt.grid(linewidth=0.3)"
      ]
    },
    {
      "cell_type": "markdown",
      "metadata": {
        "id": "y3-vQZ7tQg7R"
      },
      "source": [
        "Значение AUC-ROC довольно высокое, что говорит о неплохом качестве модели.\n",
        "\n",
        "Сама форма ROC-кривой также свидетельствует о том, что модель хорошо справляется с предсказаниями на новых данных"
      ]
    },
    {
      "cell_type": "markdown",
      "metadata": {
        "id": "nhqutfzAQg7R"
      },
      "source": [
        "Удалось достигнуть значения F1-меры для тестовой выборки необходимого по условию задания уровня: 0.76. Модель можно использовать."
      ]
    },
    {
      "cell_type": "markdown",
      "metadata": {
        "id": "a-sRmhaoQg7R"
      },
      "source": [
        "**Проверка на адекватность**"
      ]
    },
    {
      "cell_type": "markdown",
      "metadata": {
        "id": "n64EVl0LQg7R"
      },
      "source": [
        "Построим dummy-модель в качестве простого базиса, с которым сравним результаты лучшей модели на тестовой выборке"
      ]
    },
    {
      "cell_type": "code",
      "execution_count": 75,
      "metadata": {
        "colab": {
          "base_uri": "https://localhost:8080/"
        },
        "id": "OUgSFH_h5a8P",
        "outputId": "e0ae6815-c241-47b9-d5ef-9ed4ceda335e"
      },
      "outputs": [
        {
          "output_type": "stream",
          "name": "stdout",
          "text": [
            "Fitting 5 folds for each of 1 candidates, totalling 5 fits\n",
            "F1-score константной модели на тестовой выборке: 0\n"
          ]
        }
      ],
      "source": [
        "pipeline = Pipeline([\n",
        "    ('tfidf', TfidfVectorizer()),\n",
        "    ('model', DummyClassifier(strategy='stratified'))\n",
        "])\n",
        "\n",
        "# Определение параметров для поиска лучшей модели\n",
        "# логистической регрессии с помощью GridSearchCV\n",
        "parameters = {'model__strategy': ['stratified']}\n",
        "\n",
        "# Обучение модели на объединенном трейне и валидации с помощью GridSearchCV\n",
        "dummy_model_gs = GridSearchCV(pipeline, parameters, cv=5, n_jobs=-1, verbose=2)\n",
        "dummy_model_gs.fit(features_train_final, target_train_final)\n",
        "\n",
        "# Предсказание меток классов на тестовых данных\n",
        "dummy_test_preds = dummy_model_gs.predict(features_test)\n",
        "\n",
        "# Оценка качества модели на тестовых данных\n",
        "f1_score_dummy = f1_score(target_test, dummy_test_preds)\n",
        "print('F1-score константной модели на тестовой выборке:', round(f1_score_dummy))"
      ]
    },
    {
      "cell_type": "code",
      "execution_count": 76,
      "metadata": {
        "id": "DokUakPMQg7S"
      },
      "outputs": [],
      "source": [
        "def test_models(dummy_predictions, model_predictions):\n",
        "    if dummy_predictions < model_predictions:\n",
        "        print('Модель прошла проверку на адекватность')\n",
        "    else:\n",
        "        print('Модель не прошла проверку на адекватность')"
      ]
    },
    {
      "cell_type": "code",
      "execution_count": 78,
      "metadata": {
        "colab": {
          "base_uri": "https://localhost:8080/"
        },
        "id": "ayNL4VekQg7S",
        "outputId": "061552b9-9fa5-4e2d-8a4b-cfc8aba98e10"
      },
      "outputs": [
        {
          "output_type": "stream",
          "name": "stdout",
          "text": [
            "Модель прошла проверку на адекватность\n"
          ]
        }
      ],
      "source": [
        "test_models(f1_score_dummy, f1_score_lr)"
      ]
    },
    {
      "cell_type": "markdown",
      "metadata": {
        "id": "6JKXbpxTQg7S"
      },
      "source": [
        "Итого, на тестовой выборке была проверена выбранная модель логистической регрессии:\n",
        "- F1-score: 0.76\n",
        "- AUC-ROC: 0.94\n",
        "\n",
        "Модель прошла проверку на адекватность"
      ]
    },
    {
      "cell_type": "markdown",
      "metadata": {
        "id": "x8mygp1tQg7S"
      },
      "source": [
        "## Выводы"
      ]
    },
    {
      "cell_type": "markdown",
      "metadata": {
        "id": "eNN12ROrQg7S"
      },
      "source": [
        "Для нового сервиса компании \"Викишоп\" требовалось разработать модель классификации комментариев на позитивные и негативные с целью ускорения процесса модерации. Заказчику требовалось получить модель, которая показывает значение метрики качества F1 на тестовых данных выше 0.75.\n",
        "\n",
        "Основные итоги:\n",
        "\n",
        "- загрузка и предобработка данных:\n",
        "  - импортированы библиотеки и загружены данные\n",
        "  - данные проверены на корректность разметки комментариев на позитивные и негативные - текст размечен верно\n",
        "  - пропуски и дубликаты отсутствовали изначально\n",
        "  - обнаружили дисбаланс классов (0/1: 90%/10%)\n",
        "- анализ данных:\n",
        "  - текст упрощен и подготовлен к обучению, выполнены:\n",
        "    - токенизация - разбиение текста на токены: отдельные фразы, слова, символы\n",
        "    - лемматизация - приведение слова к начальной форме - лемме ('looks' - 'look')\n",
        "    - исключены лишние символы и стоп-слова\n",
        "  - данные поделены на тренировочную, валидационную и тестовую выборки в соотношении 80%:10%:10%\n",
        "- обучение:\n",
        "   - признаки обработаны TF-IDF векторизацией\n",
        "   - обучены 3 модели классификации - LogisticRegression, RandomForestClassifier, GradientBoostingClassifier\n",
        "   - составлена сводная таблица с результатами обучений\n",
        "   - для тестирования была выбрана модель LogisticRegression(C=15, max_iter=200, class_weight='balanced', solver='liblinear'), был осуществлен подбор гиперпараметров\n",
        "- тестирование модели:\n",
        "  - модель была протестирована на тестовом наборе данных. Значение F1 - 0.76\n",
        "  - модель была проверена на адекватность - адекватна"
      ]
    }
  ],
  "metadata": {
    "ExecuteTimeLog": [
      {
        "duration": 5894,
        "start_time": "2023-08-08T12:46:32.619Z"
      },
      {
        "duration": 66,
        "start_time": "2023-08-08T12:47:02.163Z"
      },
      {
        "duration": 16,
        "start_time": "2023-08-08T12:47:09.139Z"
      },
      {
        "duration": 15,
        "start_time": "2023-08-08T12:47:23.547Z"
      },
      {
        "duration": 13,
        "start_time": "2023-08-08T12:48:11.897Z"
      },
      {
        "duration": 98,
        "start_time": "2023-08-08T12:48:21.441Z"
      },
      {
        "duration": 3239,
        "start_time": "2023-08-08T12:57:13.451Z"
      },
      {
        "duration": 21,
        "start_time": "2023-08-08T12:57:46.293Z"
      },
      {
        "duration": 15,
        "start_time": "2023-08-08T12:57:48.528Z"
      },
      {
        "duration": 15,
        "start_time": "2023-08-08T12:58:01.447Z"
      },
      {
        "duration": 2038,
        "start_time": "2023-08-08T12:58:17.928Z"
      },
      {
        "duration": 5689,
        "start_time": "2023-08-08T12:58:22.219Z"
      },
      {
        "duration": 772,
        "start_time": "2023-08-08T12:58:40.978Z"
      },
      {
        "duration": 77388,
        "start_time": "2023-08-08T12:58:43.866Z"
      },
      {
        "duration": 5113,
        "start_time": "2023-08-08T13:00:01.257Z"
      },
      {
        "duration": 3719,
        "start_time": "2023-08-08T14:38:42.199Z"
      },
      {
        "duration": 3225,
        "start_time": "2023-08-08T14:38:45.920Z"
      },
      {
        "duration": 106,
        "start_time": "2023-08-08T14:39:45.701Z"
      },
      {
        "duration": 5,
        "start_time": "2023-08-08T14:39:58.296Z"
      },
      {
        "duration": 548,
        "start_time": "2023-08-08T14:40:13.541Z"
      },
      {
        "duration": 71,
        "start_time": "2023-08-08T14:42:21.642Z"
      },
      {
        "duration": 15,
        "start_time": "2023-08-08T14:43:41.905Z"
      },
      {
        "duration": 6,
        "start_time": "2023-08-08T14:44:07.503Z"
      },
      {
        "duration": 10,
        "start_time": "2023-08-08T14:45:02.283Z"
      },
      {
        "duration": 7,
        "start_time": "2023-08-08T14:49:07.199Z"
      },
      {
        "duration": 14,
        "start_time": "2023-08-08T14:49:11.573Z"
      },
      {
        "duration": 3565,
        "start_time": "2023-08-08T17:10:36.181Z"
      },
      {
        "duration": 2231,
        "start_time": "2023-08-08T17:10:39.748Z"
      },
      {
        "duration": 521,
        "start_time": "2023-08-08T17:10:41.982Z"
      },
      {
        "duration": 78,
        "start_time": "2023-08-08T17:10:42.504Z"
      },
      {
        "duration": 11,
        "start_time": "2023-08-08T17:10:42.585Z"
      },
      {
        "duration": 8,
        "start_time": "2023-08-08T17:10:42.597Z"
      },
      {
        "duration": 7,
        "start_time": "2023-08-08T17:10:42.606Z"
      },
      {
        "duration": 33,
        "start_time": "2023-08-08T17:10:42.615Z"
      },
      {
        "duration": 13,
        "start_time": "2023-08-08T17:11:17.676Z"
      },
      {
        "duration": 30,
        "start_time": "2023-08-08T17:20:58.500Z"
      },
      {
        "duration": 7,
        "start_time": "2023-08-08T17:21:26.084Z"
      },
      {
        "duration": 121906,
        "start_time": "2023-08-08T17:26:08.395Z"
      },
      {
        "duration": 10,
        "start_time": "2023-08-08T17:28:31.066Z"
      },
      {
        "duration": 10,
        "start_time": "2023-08-08T17:30:41.581Z"
      },
      {
        "duration": 163,
        "start_time": "2023-08-08T17:34:12.532Z"
      },
      {
        "duration": 2812,
        "start_time": "2023-08-08T17:37:21.990Z"
      },
      {
        "duration": 2105,
        "start_time": "2023-08-08T17:37:24.804Z"
      },
      {
        "duration": 509,
        "start_time": "2023-08-08T17:37:26.911Z"
      },
      {
        "duration": 76,
        "start_time": "2023-08-08T17:37:27.422Z"
      },
      {
        "duration": 18,
        "start_time": "2023-08-08T17:37:27.500Z"
      },
      {
        "duration": 10,
        "start_time": "2023-08-08T17:37:27.519Z"
      },
      {
        "duration": 11,
        "start_time": "2023-08-08T17:37:27.531Z"
      },
      {
        "duration": 12,
        "start_time": "2023-08-08T17:37:27.543Z"
      },
      {
        "duration": 118766,
        "start_time": "2023-08-08T17:37:27.556Z"
      },
      {
        "duration": 1562,
        "start_time": "2023-08-08T17:41:13.960Z"
      },
      {
        "duration": 3,
        "start_time": "2023-08-08T17:41:25.547Z"
      },
      {
        "duration": 164,
        "start_time": "2023-08-08T17:42:17.445Z"
      },
      {
        "duration": 3,
        "start_time": "2023-08-08T17:45:30.614Z"
      },
      {
        "duration": 3,
        "start_time": "2023-08-08T17:47:31.461Z"
      },
      {
        "duration": 2097,
        "start_time": "2023-08-08T17:47:40.429Z"
      },
      {
        "duration": 11,
        "start_time": "2023-08-08T17:47:45.611Z"
      },
      {
        "duration": 7,
        "start_time": "2023-08-08T17:48:11.976Z"
      },
      {
        "duration": 731,
        "start_time": "2023-08-08T17:48:11.985Z"
      },
      {
        "duration": 524,
        "start_time": "2023-08-08T17:48:12.717Z"
      },
      {
        "duration": 72,
        "start_time": "2023-08-08T17:48:13.242Z"
      },
      {
        "duration": 11,
        "start_time": "2023-08-08T17:48:13.315Z"
      },
      {
        "duration": 7,
        "start_time": "2023-08-08T17:48:13.338Z"
      },
      {
        "duration": 12,
        "start_time": "2023-08-08T17:48:13.346Z"
      },
      {
        "duration": 17,
        "start_time": "2023-08-08T17:48:13.360Z"
      },
      {
        "duration": 122441,
        "start_time": "2023-08-08T17:48:13.379Z"
      },
      {
        "duration": 10,
        "start_time": "2023-08-08T17:50:27.706Z"
      },
      {
        "duration": 4,
        "start_time": "2023-08-08T17:50:33.065Z"
      },
      {
        "duration": 1965,
        "start_time": "2023-08-08T17:50:35.005Z"
      },
      {
        "duration": 12,
        "start_time": "2023-08-08T17:50:36.972Z"
      },
      {
        "duration": 13,
        "start_time": "2023-08-08T17:54:20.108Z"
      },
      {
        "duration": 39,
        "start_time": "2023-08-08T17:54:23.566Z"
      },
      {
        "duration": 47,
        "start_time": "2023-08-08T18:01:21.302Z"
      },
      {
        "duration": 32,
        "start_time": "2023-08-08T18:01:28.968Z"
      },
      {
        "duration": 49,
        "start_time": "2023-08-08T18:07:06.101Z"
      },
      {
        "duration": 2884,
        "start_time": "2023-08-08T18:07:31.765Z"
      },
      {
        "duration": 2209,
        "start_time": "2023-08-08T18:07:34.650Z"
      },
      {
        "duration": 525,
        "start_time": "2023-08-08T18:07:36.861Z"
      },
      {
        "duration": 80,
        "start_time": "2023-08-08T18:07:37.388Z"
      },
      {
        "duration": 19,
        "start_time": "2023-08-08T18:07:37.469Z"
      },
      {
        "duration": 11,
        "start_time": "2023-08-08T18:07:37.489Z"
      },
      {
        "duration": 9,
        "start_time": "2023-08-08T18:07:37.502Z"
      },
      {
        "duration": 24,
        "start_time": "2023-08-08T18:07:37.513Z"
      },
      {
        "duration": 120929,
        "start_time": "2023-08-08T18:07:37.539Z"
      },
      {
        "duration": 8,
        "start_time": "2023-08-08T18:09:38.469Z"
      },
      {
        "duration": 4,
        "start_time": "2023-08-08T18:09:38.478Z"
      },
      {
        "duration": 2093,
        "start_time": "2023-08-08T18:09:38.483Z"
      },
      {
        "duration": 4859,
        "start_time": "2023-08-09T08:17:12.226Z"
      },
      {
        "duration": 3209,
        "start_time": "2023-08-09T08:17:17.089Z"
      },
      {
        "duration": 660,
        "start_time": "2023-08-09T08:17:20.300Z"
      },
      {
        "duration": 104,
        "start_time": "2023-08-09T08:17:20.962Z"
      },
      {
        "duration": 25,
        "start_time": "2023-08-09T08:17:21.069Z"
      },
      {
        "duration": 44,
        "start_time": "2023-08-09T08:17:21.096Z"
      },
      {
        "duration": 26,
        "start_time": "2023-08-09T08:17:21.143Z"
      },
      {
        "duration": 23,
        "start_time": "2023-08-09T08:17:21.172Z"
      },
      {
        "duration": 174052,
        "start_time": "2023-08-09T08:17:21.197Z"
      },
      {
        "duration": 14,
        "start_time": "2023-08-09T08:20:15.258Z"
      },
      {
        "duration": 72,
        "start_time": "2023-08-09T08:20:15.275Z"
      },
      {
        "duration": 3013,
        "start_time": "2023-08-09T08:20:15.350Z"
      },
      {
        "duration": 13,
        "start_time": "2023-08-09T08:20:18.366Z"
      },
      {
        "duration": 211,
        "start_time": "2023-08-09T08:20:18.383Z"
      },
      {
        "duration": 13,
        "start_time": "2023-08-09T08:24:56.656Z"
      },
      {
        "duration": 4121,
        "start_time": "2023-08-09T08:26:45.751Z"
      },
      {
        "duration": 27,
        "start_time": "2023-08-09T08:27:18.538Z"
      },
      {
        "duration": 9,
        "start_time": "2023-08-09T08:30:42.126Z"
      },
      {
        "duration": 6,
        "start_time": "2023-08-09T08:30:48.932Z"
      },
      {
        "duration": 2993,
        "start_time": "2023-08-09T08:31:03.633Z"
      },
      {
        "duration": 15,
        "start_time": "2023-08-09T08:31:10.072Z"
      },
      {
        "duration": 94,
        "start_time": "2023-08-09T08:31:19.686Z"
      },
      {
        "duration": 4,
        "start_time": "2023-08-09T08:32:07.406Z"
      },
      {
        "duration": 1476,
        "start_time": "2023-08-09T08:32:07.901Z"
      },
      {
        "duration": 13,
        "start_time": "2023-08-09T08:32:09.379Z"
      },
      {
        "duration": 2552,
        "start_time": "2023-08-09T08:32:58.494Z"
      },
      {
        "duration": 173,
        "start_time": "2023-08-09T08:33:01.050Z"
      },
      {
        "duration": 84,
        "start_time": "2023-08-09T08:36:56.219Z"
      },
      {
        "duration": 8,
        "start_time": "2023-08-09T08:37:02.143Z"
      },
      {
        "duration": 4972,
        "start_time": "2023-08-09T08:37:13.726Z"
      },
      {
        "duration": 3590,
        "start_time": "2023-08-09T08:37:18.701Z"
      },
      {
        "duration": 705,
        "start_time": "2023-08-09T08:37:22.293Z"
      },
      {
        "duration": 140,
        "start_time": "2023-08-09T08:37:23.001Z"
      },
      {
        "duration": 57,
        "start_time": "2023-08-09T08:37:23.161Z"
      },
      {
        "duration": 52,
        "start_time": "2023-08-09T08:37:23.226Z"
      },
      {
        "duration": 37,
        "start_time": "2023-08-09T08:37:23.280Z"
      },
      {
        "duration": 72,
        "start_time": "2023-08-09T08:37:23.327Z"
      },
      {
        "duration": 0,
        "start_time": "2023-08-09T08:38:34.775Z"
      },
      {
        "duration": 3936,
        "start_time": "2023-08-09T08:38:53.961Z"
      },
      {
        "duration": 920,
        "start_time": "2023-08-09T08:38:57.900Z"
      },
      {
        "duration": 834,
        "start_time": "2023-08-09T08:38:58.829Z"
      },
      {
        "duration": 123,
        "start_time": "2023-08-09T08:38:59.665Z"
      },
      {
        "duration": 76,
        "start_time": "2023-08-09T08:38:59.792Z"
      },
      {
        "duration": 57,
        "start_time": "2023-08-09T08:38:59.870Z"
      },
      {
        "duration": 28,
        "start_time": "2023-08-09T08:38:59.929Z"
      },
      {
        "duration": 24,
        "start_time": "2023-08-09T08:38:59.960Z"
      },
      {
        "duration": 11,
        "start_time": "2023-08-09T08:46:06.588Z"
      },
      {
        "duration": 1110,
        "start_time": "2023-08-09T08:46:06.602Z"
      },
      {
        "duration": 725,
        "start_time": "2023-08-09T08:46:07.714Z"
      },
      {
        "duration": 101,
        "start_time": "2023-08-09T08:46:08.441Z"
      },
      {
        "duration": 24,
        "start_time": "2023-08-09T08:46:08.546Z"
      },
      {
        "duration": 21,
        "start_time": "2023-08-09T08:46:08.573Z"
      },
      {
        "duration": 52,
        "start_time": "2023-08-09T08:46:08.597Z"
      },
      {
        "duration": 34,
        "start_time": "2023-08-09T08:46:08.652Z"
      },
      {
        "duration": 186733,
        "start_time": "2023-08-09T08:46:08.688Z"
      },
      {
        "duration": 22,
        "start_time": "2023-08-09T08:49:15.423Z"
      },
      {
        "duration": 109,
        "start_time": "2023-08-09T08:49:15.450Z"
      },
      {
        "duration": 3319,
        "start_time": "2023-08-09T08:49:15.562Z"
      },
      {
        "duration": 13,
        "start_time": "2023-08-09T08:49:18.884Z"
      },
      {
        "duration": 145,
        "start_time": "2023-08-09T08:49:18.912Z"
      },
      {
        "duration": 2717,
        "start_time": "2023-08-09T08:49:19.060Z"
      },
      {
        "duration": 123,
        "start_time": "2023-08-09T08:49:21.779Z"
      },
      {
        "duration": 17,
        "start_time": "2023-08-09T08:50:30.276Z"
      },
      {
        "duration": 54,
        "start_time": "2023-08-09T08:50:59.969Z"
      },
      {
        "duration": 91,
        "start_time": "2023-08-09T08:53:01.696Z"
      },
      {
        "duration": 9,
        "start_time": "2023-08-09T08:53:37.453Z"
      },
      {
        "duration": 4808,
        "start_time": "2023-08-09T08:53:46.738Z"
      },
      {
        "duration": 3923,
        "start_time": "2023-08-09T08:53:51.551Z"
      },
      {
        "duration": 8,
        "start_time": "2023-08-09T08:53:55.477Z"
      },
      {
        "duration": 201,
        "start_time": "2023-08-09T08:53:55.487Z"
      },
      {
        "duration": 74,
        "start_time": "2023-08-09T08:53:55.693Z"
      },
      {
        "duration": 118,
        "start_time": "2023-08-09T08:53:55.772Z"
      },
      {
        "duration": 130,
        "start_time": "2023-08-09T08:53:55.893Z"
      },
      {
        "duration": 76,
        "start_time": "2023-08-09T08:53:56.028Z"
      },
      {
        "duration": 915,
        "start_time": "2023-08-09T08:53:56.106Z"
      },
      {
        "duration": 0,
        "start_time": "2023-08-09T08:53:57.028Z"
      },
      {
        "duration": 0,
        "start_time": "2023-08-09T08:53:57.030Z"
      },
      {
        "duration": 0,
        "start_time": "2023-08-09T08:53:57.037Z"
      },
      {
        "duration": 0,
        "start_time": "2023-08-09T08:53:57.039Z"
      },
      {
        "duration": 0,
        "start_time": "2023-08-09T08:53:57.040Z"
      },
      {
        "duration": 0,
        "start_time": "2023-08-09T08:53:57.042Z"
      },
      {
        "duration": 0,
        "start_time": "2023-08-09T08:53:57.045Z"
      },
      {
        "duration": 0,
        "start_time": "2023-08-09T08:53:57.050Z"
      },
      {
        "duration": 1689,
        "start_time": "2023-08-09T08:54:17.853Z"
      },
      {
        "duration": 12,
        "start_time": "2023-08-09T08:54:39.891Z"
      },
      {
        "duration": 18,
        "start_time": "2023-08-09T08:54:47.018Z"
      },
      {
        "duration": 944,
        "start_time": "2023-08-09T08:54:47.039Z"
      },
      {
        "duration": 4,
        "start_time": "2023-08-09T08:54:47.985Z"
      },
      {
        "duration": 74,
        "start_time": "2023-08-09T08:54:47.991Z"
      },
      {
        "duration": 5,
        "start_time": "2023-08-09T08:54:48.067Z"
      },
      {
        "duration": 63,
        "start_time": "2023-08-09T08:54:48.074Z"
      },
      {
        "duration": 29,
        "start_time": "2023-08-09T08:54:48.144Z"
      },
      {
        "duration": 13,
        "start_time": "2023-08-09T08:54:48.175Z"
      },
      {
        "duration": 493,
        "start_time": "2023-08-09T08:54:48.190Z"
      },
      {
        "duration": 0,
        "start_time": "2023-08-09T08:54:48.685Z"
      },
      {
        "duration": 0,
        "start_time": "2023-08-09T08:54:48.687Z"
      },
      {
        "duration": 0,
        "start_time": "2023-08-09T08:54:48.688Z"
      },
      {
        "duration": 0,
        "start_time": "2023-08-09T08:54:48.690Z"
      },
      {
        "duration": 0,
        "start_time": "2023-08-09T08:54:48.691Z"
      },
      {
        "duration": 0,
        "start_time": "2023-08-09T08:54:48.693Z"
      },
      {
        "duration": 0,
        "start_time": "2023-08-09T08:54:48.696Z"
      },
      {
        "duration": 0,
        "start_time": "2023-08-09T08:54:48.697Z"
      },
      {
        "duration": 12,
        "start_time": "2023-08-09T08:54:52.285Z"
      },
      {
        "duration": 12,
        "start_time": "2023-08-09T08:55:08.397Z"
      },
      {
        "duration": 1120,
        "start_time": "2023-08-09T08:55:08.411Z"
      },
      {
        "duration": 13,
        "start_time": "2023-08-09T08:55:09.540Z"
      },
      {
        "duration": 124,
        "start_time": "2023-08-09T08:55:09.556Z"
      },
      {
        "duration": 5,
        "start_time": "2023-08-09T08:55:12.670Z"
      },
      {
        "duration": 23,
        "start_time": "2023-08-09T08:55:13.646Z"
      },
      {
        "duration": 9,
        "start_time": "2023-08-09T08:55:14.548Z"
      },
      {
        "duration": 15,
        "start_time": "2023-08-09T08:55:15.034Z"
      },
      {
        "duration": 464,
        "start_time": "2023-08-09T08:55:18.657Z"
      },
      {
        "duration": 9,
        "start_time": "2023-08-09T08:55:36.787Z"
      },
      {
        "duration": 1121,
        "start_time": "2023-08-09T08:55:36.799Z"
      },
      {
        "duration": 4,
        "start_time": "2023-08-09T08:55:37.922Z"
      },
      {
        "duration": 90,
        "start_time": "2023-08-09T08:55:37.928Z"
      },
      {
        "duration": 79,
        "start_time": "2023-08-09T08:55:38.023Z"
      },
      {
        "duration": 269,
        "start_time": "2023-08-09T08:55:38.104Z"
      },
      {
        "duration": 239,
        "start_time": "2023-08-09T08:55:38.376Z"
      },
      {
        "duration": 132,
        "start_time": "2023-08-09T08:55:38.617Z"
      },
      {
        "duration": 131,
        "start_time": "2023-08-09T08:55:38.751Z"
      },
      {
        "duration": 3227,
        "start_time": "2023-08-09T08:55:44.154Z"
      },
      {
        "duration": 11,
        "start_time": "2023-08-09T08:55:47.384Z"
      },
      {
        "duration": 3,
        "start_time": "2023-08-09T08:55:48.402Z"
      },
      {
        "duration": 18,
        "start_time": "2023-08-09T08:55:49.571Z"
      },
      {
        "duration": 12,
        "start_time": "2023-08-09T08:55:50.135Z"
      },
      {
        "duration": 21,
        "start_time": "2023-08-09T08:55:50.629Z"
      },
      {
        "duration": 41,
        "start_time": "2023-08-09T08:55:52.236Z"
      },
      {
        "duration": 13,
        "start_time": "2023-08-09T08:55:53.264Z"
      },
      {
        "duration": 344,
        "start_time": "2023-08-09T08:55:56.966Z"
      },
      {
        "duration": 13,
        "start_time": "2023-08-09T08:56:04.138Z"
      },
      {
        "duration": 84,
        "start_time": "2023-08-09T08:56:05.260Z"
      },
      {
        "duration": 6,
        "start_time": "2023-08-09T08:56:15.782Z"
      },
      {
        "duration": 12,
        "start_time": "2023-08-09T08:58:01.069Z"
      },
      {
        "duration": 1083,
        "start_time": "2023-08-09T08:58:01.084Z"
      },
      {
        "duration": 3,
        "start_time": "2023-08-09T08:58:02.170Z"
      },
      {
        "duration": 129,
        "start_time": "2023-08-09T08:58:02.175Z"
      },
      {
        "duration": 52,
        "start_time": "2023-08-09T08:58:02.308Z"
      },
      {
        "duration": 87,
        "start_time": "2023-08-09T08:58:02.362Z"
      },
      {
        "duration": 49,
        "start_time": "2023-08-09T08:58:02.457Z"
      },
      {
        "duration": 87,
        "start_time": "2023-08-09T08:58:02.508Z"
      },
      {
        "duration": 102,
        "start_time": "2023-08-09T08:58:02.599Z"
      },
      {
        "duration": 1274,
        "start_time": "2023-08-09T08:58:02.704Z"
      },
      {
        "duration": 28,
        "start_time": "2023-08-09T08:58:03.980Z"
      },
      {
        "duration": 52,
        "start_time": "2023-08-09T08:58:04.012Z"
      },
      {
        "duration": 54,
        "start_time": "2023-08-09T08:58:04.066Z"
      },
      {
        "duration": 66,
        "start_time": "2023-08-09T08:58:04.124Z"
      },
      {
        "duration": 30,
        "start_time": "2023-08-09T08:58:04.191Z"
      },
      {
        "duration": 102,
        "start_time": "2023-08-09T08:58:04.226Z"
      },
      {
        "duration": 150,
        "start_time": "2023-08-09T08:58:04.331Z"
      },
      {
        "duration": 381,
        "start_time": "2023-08-09T08:58:04.484Z"
      },
      {
        "duration": 18,
        "start_time": "2023-08-09T08:58:04.867Z"
      },
      {
        "duration": 73,
        "start_time": "2023-08-09T08:58:04.888Z"
      },
      {
        "duration": 174,
        "start_time": "2023-08-09T08:58:04.963Z"
      },
      {
        "duration": 19,
        "start_time": "2023-08-09T08:58:05.139Z"
      },
      {
        "duration": 279,
        "start_time": "2023-08-09T09:06:14.853Z"
      },
      {
        "duration": 238,
        "start_time": "2023-08-09T09:06:37.745Z"
      },
      {
        "duration": 230,
        "start_time": "2023-08-09T09:07:04.897Z"
      },
      {
        "duration": 6,
        "start_time": "2023-08-09T09:07:16.398Z"
      },
      {
        "duration": 15,
        "start_time": "2023-08-09T09:07:28.825Z"
      },
      {
        "duration": 17,
        "start_time": "2023-08-09T09:07:34.429Z"
      },
      {
        "duration": 16,
        "start_time": "2023-08-09T09:15:07.936Z"
      },
      {
        "duration": 16,
        "start_time": "2023-08-09T09:16:06.790Z"
      },
      {
        "duration": 111,
        "start_time": "2023-08-09T09:16:52.945Z"
      },
      {
        "duration": 58,
        "start_time": "2023-08-09T09:18:14.128Z"
      },
      {
        "duration": 5009,
        "start_time": "2023-08-09T09:28:33.680Z"
      },
      {
        "duration": 3422,
        "start_time": "2023-08-09T09:28:42.921Z"
      },
      {
        "duration": 8,
        "start_time": "2023-08-09T09:29:09.861Z"
      },
      {
        "duration": 1522,
        "start_time": "2023-08-09T09:29:13.342Z"
      },
      {
        "duration": 36,
        "start_time": "2023-08-09T09:29:24.637Z"
      },
      {
        "duration": 21,
        "start_time": "2023-08-09T09:29:45.828Z"
      },
      {
        "duration": 8,
        "start_time": "2023-08-09T09:30:21.337Z"
      },
      {
        "duration": 36,
        "start_time": "2023-08-09T09:30:24.237Z"
      },
      {
        "duration": 513,
        "start_time": "2023-08-09T09:32:10.080Z"
      },
      {
        "duration": 21,
        "start_time": "2023-08-09T09:32:59.104Z"
      },
      {
        "duration": 106,
        "start_time": "2023-08-09T09:33:05.560Z"
      },
      {
        "duration": 258,
        "start_time": "2023-08-09T09:33:13.037Z"
      },
      {
        "duration": 5,
        "start_time": "2023-08-09T09:33:47.445Z"
      },
      {
        "duration": 15,
        "start_time": "2023-08-09T09:34:12.012Z"
      },
      {
        "duration": 925,
        "start_time": "2023-08-09T09:34:12.029Z"
      },
      {
        "duration": 3,
        "start_time": "2023-08-09T09:34:12.956Z"
      },
      {
        "duration": 101,
        "start_time": "2023-08-09T09:34:12.961Z"
      },
      {
        "duration": 14,
        "start_time": "2023-08-09T09:34:13.066Z"
      },
      {
        "duration": 36,
        "start_time": "2023-08-09T09:34:13.112Z"
      },
      {
        "duration": 6,
        "start_time": "2023-08-09T09:34:13.150Z"
      },
      {
        "duration": 9,
        "start_time": "2023-08-09T09:34:13.157Z"
      },
      {
        "duration": 12,
        "start_time": "2023-08-09T09:34:13.168Z"
      },
      {
        "duration": 9399,
        "start_time": "2023-08-09T09:34:13.182Z"
      },
      {
        "duration": 10,
        "start_time": "2023-08-09T09:34:22.582Z"
      },
      {
        "duration": 75,
        "start_time": "2023-08-09T09:34:22.594Z"
      },
      {
        "duration": 212,
        "start_time": "2023-08-09T09:34:22.673Z"
      },
      {
        "duration": 9,
        "start_time": "2023-08-09T09:34:22.887Z"
      },
      {
        "duration": 70,
        "start_time": "2023-08-09T09:34:22.909Z"
      },
      {
        "duration": 190,
        "start_time": "2023-08-09T09:34:22.980Z"
      },
      {
        "duration": 19,
        "start_time": "2023-08-09T09:34:23.172Z"
      },
      {
        "duration": 12,
        "start_time": "2023-08-09T09:34:55.840Z"
      },
      {
        "duration": 13,
        "start_time": "2023-08-09T09:34:58.946Z"
      },
      {
        "duration": 5,
        "start_time": "2023-08-09T09:35:21.271Z"
      },
      {
        "duration": 17,
        "start_time": "2023-08-09T09:35:38.600Z"
      },
      {
        "duration": 43485,
        "start_time": "2023-08-09T09:35:41.629Z"
      },
      {
        "duration": 12,
        "start_time": "2023-08-09T09:36:25.117Z"
      },
      {
        "duration": 5,
        "start_time": "2023-08-09T09:36:39.849Z"
      },
      {
        "duration": 6,
        "start_time": "2023-08-09T09:36:44.655Z"
      },
      {
        "duration": 14,
        "start_time": "2023-08-09T09:36:57.060Z"
      },
      {
        "duration": 20,
        "start_time": "2023-08-09T09:37:24.742Z"
      },
      {
        "duration": 21,
        "start_time": "2023-08-09T09:39:12.338Z"
      },
      {
        "duration": 8,
        "start_time": "2023-08-09T09:39:49.460Z"
      },
      {
        "duration": 36,
        "start_time": "2023-08-09T09:44:56.293Z"
      },
      {
        "duration": 14,
        "start_time": "2023-08-09T09:46:08.126Z"
      },
      {
        "duration": 15,
        "start_time": "2023-08-09T09:46:13.735Z"
      },
      {
        "duration": 41977,
        "start_time": "2023-08-09T09:46:45.235Z"
      },
      {
        "duration": 14,
        "start_time": "2023-08-09T09:53:45.925Z"
      },
      {
        "duration": 13,
        "start_time": "2023-08-09T09:53:50.366Z"
      },
      {
        "duration": 17,
        "start_time": "2023-08-09T09:55:07.782Z"
      },
      {
        "duration": 5265,
        "start_time": "2023-08-09T10:02:35.864Z"
      },
      {
        "duration": 2621,
        "start_time": "2023-08-09T10:02:41.131Z"
      },
      {
        "duration": 3,
        "start_time": "2023-08-09T10:02:43.754Z"
      },
      {
        "duration": 87,
        "start_time": "2023-08-09T10:02:43.759Z"
      },
      {
        "duration": 10,
        "start_time": "2023-08-09T10:02:43.848Z"
      },
      {
        "duration": 31,
        "start_time": "2023-08-09T10:02:43.859Z"
      },
      {
        "duration": 31,
        "start_time": "2023-08-09T10:02:43.892Z"
      },
      {
        "duration": 22,
        "start_time": "2023-08-09T10:02:43.925Z"
      },
      {
        "duration": 27,
        "start_time": "2023-08-09T10:02:43.949Z"
      },
      {
        "duration": 10336,
        "start_time": "2023-08-09T10:02:43.979Z"
      },
      {
        "duration": 9,
        "start_time": "2023-08-09T10:02:54.324Z"
      },
      {
        "duration": 7,
        "start_time": "2023-08-09T10:02:54.334Z"
      },
      {
        "duration": 148,
        "start_time": "2023-08-09T10:02:54.343Z"
      },
      {
        "duration": 9,
        "start_time": "2023-08-09T10:02:54.494Z"
      },
      {
        "duration": 57,
        "start_time": "2023-08-09T10:02:54.506Z"
      },
      {
        "duration": 160,
        "start_time": "2023-08-09T10:02:54.565Z"
      },
      {
        "duration": 19,
        "start_time": "2023-08-09T10:02:54.726Z"
      },
      {
        "duration": 16,
        "start_time": "2023-08-09T10:02:54.747Z"
      },
      {
        "duration": 27,
        "start_time": "2023-08-09T10:02:54.765Z"
      },
      {
        "duration": 6317,
        "start_time": "2023-08-09T10:11:00.697Z"
      },
      {
        "duration": 12,
        "start_time": "2023-08-09T10:11:24.047Z"
      },
      {
        "duration": 9,
        "start_time": "2023-08-09T10:11:41.652Z"
      },
      {
        "duration": 192,
        "start_time": "2023-08-09T10:12:33.898Z"
      },
      {
        "duration": 10,
        "start_time": "2023-08-09T10:13:03.186Z"
      },
      {
        "duration": 2636,
        "start_time": "2023-08-09T10:13:03.198Z"
      },
      {
        "duration": 5,
        "start_time": "2023-08-09T10:13:05.836Z"
      },
      {
        "duration": 133,
        "start_time": "2023-08-09T10:13:05.843Z"
      },
      {
        "duration": 33,
        "start_time": "2023-08-09T10:13:05.979Z"
      },
      {
        "duration": 64,
        "start_time": "2023-08-09T10:13:06.015Z"
      },
      {
        "duration": 58,
        "start_time": "2023-08-09T10:13:06.082Z"
      },
      {
        "duration": 36,
        "start_time": "2023-08-09T10:13:06.142Z"
      },
      {
        "duration": 37,
        "start_time": "2023-08-09T10:13:06.180Z"
      },
      {
        "duration": 10314,
        "start_time": "2023-08-09T10:13:06.219Z"
      },
      {
        "duration": 8,
        "start_time": "2023-08-09T10:13:16.535Z"
      },
      {
        "duration": 14,
        "start_time": "2023-08-09T10:13:16.545Z"
      },
      {
        "duration": 163,
        "start_time": "2023-08-09T10:13:16.561Z"
      },
      {
        "duration": 9,
        "start_time": "2023-08-09T10:13:16.727Z"
      },
      {
        "duration": 33,
        "start_time": "2023-08-09T10:13:16.738Z"
      },
      {
        "duration": 158,
        "start_time": "2023-08-09T10:13:16.773Z"
      },
      {
        "duration": 17,
        "start_time": "2023-08-09T10:13:16.933Z"
      },
      {
        "duration": 24,
        "start_time": "2023-08-09T10:13:16.952Z"
      },
      {
        "duration": 17,
        "start_time": "2023-08-09T10:13:16.978Z"
      },
      {
        "duration": 95,
        "start_time": "2023-08-09T10:13:16.997Z"
      },
      {
        "duration": 3526,
        "start_time": "2023-08-09T11:34:51.358Z"
      },
      {
        "duration": 8,
        "start_time": "2023-08-09T11:35:06.356Z"
      },
      {
        "duration": 3836,
        "start_time": "2023-08-09T11:35:06.367Z"
      },
      {
        "duration": 7,
        "start_time": "2023-08-09T11:35:10.205Z"
      },
      {
        "duration": 107,
        "start_time": "2023-08-09T11:35:10.214Z"
      },
      {
        "duration": 13,
        "start_time": "2023-08-09T11:35:10.325Z"
      },
      {
        "duration": 46,
        "start_time": "2023-08-09T11:35:10.341Z"
      },
      {
        "duration": 12,
        "start_time": "2023-08-09T11:35:10.390Z"
      },
      {
        "duration": 24,
        "start_time": "2023-08-09T11:35:10.405Z"
      },
      {
        "duration": 56,
        "start_time": "2023-08-09T11:35:10.431Z"
      },
      {
        "duration": 10295,
        "start_time": "2023-08-09T11:35:10.491Z"
      },
      {
        "duration": 9,
        "start_time": "2023-08-09T11:35:20.788Z"
      },
      {
        "duration": 51,
        "start_time": "2023-08-09T11:35:20.799Z"
      },
      {
        "duration": 197,
        "start_time": "2023-08-09T11:35:20.851Z"
      },
      {
        "duration": 9,
        "start_time": "2023-08-09T11:35:21.051Z"
      },
      {
        "duration": 91,
        "start_time": "2023-08-09T11:35:21.063Z"
      },
      {
        "duration": 178,
        "start_time": "2023-08-09T11:35:21.156Z"
      },
      {
        "duration": 16,
        "start_time": "2023-08-09T11:35:21.335Z"
      },
      {
        "duration": 7,
        "start_time": "2023-08-09T11:35:21.352Z"
      },
      {
        "duration": 31,
        "start_time": "2023-08-09T11:35:21.360Z"
      },
      {
        "duration": 2797,
        "start_time": "2023-08-09T11:57:11.493Z"
      },
      {
        "duration": 6,
        "start_time": "2023-08-09T11:57:39.221Z"
      },
      {
        "duration": 16,
        "start_time": "2023-08-09T11:57:43.003Z"
      },
      {
        "duration": 10,
        "start_time": "2023-08-09T11:58:24.354Z"
      },
      {
        "duration": 5,
        "start_time": "2023-08-09T11:58:42.446Z"
      },
      {
        "duration": 9747,
        "start_time": "2023-08-09T12:04:02.115Z"
      },
      {
        "duration": 9,
        "start_time": "2023-08-09T12:23:37.038Z"
      },
      {
        "duration": 3364,
        "start_time": "2023-08-09T12:28:09.734Z"
      },
      {
        "duration": 3646,
        "start_time": "2023-08-09T12:28:13.100Z"
      },
      {
        "duration": 3,
        "start_time": "2023-08-09T12:28:16.748Z"
      },
      {
        "duration": 89,
        "start_time": "2023-08-09T12:28:16.753Z"
      },
      {
        "duration": 33,
        "start_time": "2023-08-09T12:28:16.844Z"
      },
      {
        "duration": 21,
        "start_time": "2023-08-09T12:28:16.881Z"
      },
      {
        "duration": 17,
        "start_time": "2023-08-09T12:28:16.904Z"
      },
      {
        "duration": 18,
        "start_time": "2023-08-09T12:28:16.923Z"
      },
      {
        "duration": 15,
        "start_time": "2023-08-09T12:28:16.943Z"
      },
      {
        "duration": 10320,
        "start_time": "2023-08-09T12:28:16.959Z"
      },
      {
        "duration": 13,
        "start_time": "2023-08-09T12:28:27.282Z"
      },
      {
        "duration": 8,
        "start_time": "2023-08-09T12:28:27.297Z"
      },
      {
        "duration": 156,
        "start_time": "2023-08-09T12:28:27.306Z"
      },
      {
        "duration": 26,
        "start_time": "2023-08-09T12:28:27.464Z"
      },
      {
        "duration": 54,
        "start_time": "2023-08-09T12:28:27.492Z"
      },
      {
        "duration": 153,
        "start_time": "2023-08-09T12:28:27.549Z"
      },
      {
        "duration": 17,
        "start_time": "2023-08-09T12:28:27.703Z"
      },
      {
        "duration": 7,
        "start_time": "2023-08-09T12:28:27.722Z"
      },
      {
        "duration": 35,
        "start_time": "2023-08-09T12:28:27.730Z"
      },
      {
        "duration": 10245,
        "start_time": "2023-08-09T12:28:32.526Z"
      },
      {
        "duration": 14,
        "start_time": "2023-08-09T12:29:30.425Z"
      },
      {
        "duration": 6622,
        "start_time": "2023-08-09T12:30:42.821Z"
      },
      {
        "duration": 1771,
        "start_time": "2023-08-09T12:34:10.733Z"
      },
      {
        "duration": 1862,
        "start_time": "2023-08-09T12:34:21.922Z"
      },
      {
        "duration": 11,
        "start_time": "2023-08-09T12:34:37.218Z"
      },
      {
        "duration": 2126,
        "start_time": "2023-08-09T12:37:52.531Z"
      },
      {
        "duration": 10,
        "start_time": "2023-08-09T12:38:28.827Z"
      },
      {
        "duration": 1506,
        "start_time": "2023-08-09T12:40:18.466Z"
      },
      {
        "duration": 11,
        "start_time": "2023-08-09T12:43:09.730Z"
      },
      {
        "duration": 13,
        "start_time": "2023-08-09T12:43:26.721Z"
      },
      {
        "duration": 111,
        "start_time": "2023-08-09T12:43:38.713Z"
      },
      {
        "duration": 23,
        "start_time": "2023-08-09T12:43:58.475Z"
      },
      {
        "duration": 20,
        "start_time": "2023-08-09T12:44:19.544Z"
      },
      {
        "duration": 9,
        "start_time": "2023-08-09T12:45:03.402Z"
      },
      {
        "duration": 9,
        "start_time": "2023-08-09T12:45:15.032Z"
      },
      {
        "duration": 25,
        "start_time": "2023-08-09T12:45:40.513Z"
      },
      {
        "duration": 2359,
        "start_time": "2023-08-09T12:49:22.383Z"
      },
      {
        "duration": 1801,
        "start_time": "2023-08-09T12:49:29.116Z"
      },
      {
        "duration": 1855,
        "start_time": "2023-08-09T12:53:04.191Z"
      },
      {
        "duration": 49,
        "start_time": "2023-08-09T12:53:52.231Z"
      },
      {
        "duration": 62,
        "start_time": "2023-08-09T12:54:01.438Z"
      },
      {
        "duration": 3559,
        "start_time": "2023-08-09T12:54:26.747Z"
      },
      {
        "duration": 8,
        "start_time": "2023-08-09T12:55:57.538Z"
      },
      {
        "duration": 807,
        "start_time": "2023-08-09T12:55:57.548Z"
      },
      {
        "duration": 3,
        "start_time": "2023-08-09T12:55:58.356Z"
      },
      {
        "duration": 79,
        "start_time": "2023-08-09T12:55:58.362Z"
      },
      {
        "duration": 8,
        "start_time": "2023-08-09T12:55:58.443Z"
      },
      {
        "duration": 65,
        "start_time": "2023-08-09T12:55:58.452Z"
      },
      {
        "duration": 40,
        "start_time": "2023-08-09T12:55:58.519Z"
      },
      {
        "duration": 27,
        "start_time": "2023-08-09T12:55:58.560Z"
      },
      {
        "duration": 10,
        "start_time": "2023-08-09T12:55:58.589Z"
      },
      {
        "duration": 7872,
        "start_time": "2023-08-09T12:55:58.601Z"
      },
      {
        "duration": 7,
        "start_time": "2023-08-09T12:56:06.475Z"
      },
      {
        "duration": 35,
        "start_time": "2023-08-09T12:56:06.483Z"
      },
      {
        "duration": 143,
        "start_time": "2023-08-09T12:56:06.520Z"
      },
      {
        "duration": 11,
        "start_time": "2023-08-09T12:56:06.665Z"
      },
      {
        "duration": 51,
        "start_time": "2023-08-09T12:56:06.678Z"
      },
      {
        "duration": 157,
        "start_time": "2023-08-09T12:56:06.730Z"
      },
      {
        "duration": 16,
        "start_time": "2023-08-09T12:56:06.889Z"
      },
      {
        "duration": 17,
        "start_time": "2023-08-09T12:56:06.906Z"
      },
      {
        "duration": 22,
        "start_time": "2023-08-09T12:56:06.924Z"
      },
      {
        "duration": 598,
        "start_time": "2023-08-09T12:56:06.947Z"
      },
      {
        "duration": 249,
        "start_time": "2023-08-09T13:29:05.950Z"
      },
      {
        "duration": 803,
        "start_time": "2023-08-09T13:29:06.201Z"
      },
      {
        "duration": 4,
        "start_time": "2023-08-09T13:29:07.006Z"
      },
      {
        "duration": 90,
        "start_time": "2023-08-09T13:29:07.011Z"
      },
      {
        "duration": 8,
        "start_time": "2023-08-09T13:29:07.103Z"
      },
      {
        "duration": 28,
        "start_time": "2023-08-09T13:29:07.113Z"
      },
      {
        "duration": 25,
        "start_time": "2023-08-09T13:29:07.143Z"
      },
      {
        "duration": 22,
        "start_time": "2023-08-09T13:29:07.174Z"
      },
      {
        "duration": 32,
        "start_time": "2023-08-09T13:29:07.198Z"
      },
      {
        "duration": 7784,
        "start_time": "2023-08-09T13:29:07.232Z"
      },
      {
        "duration": 8,
        "start_time": "2023-08-09T13:29:15.018Z"
      },
      {
        "duration": 37,
        "start_time": "2023-08-09T13:29:15.028Z"
      },
      {
        "duration": 162,
        "start_time": "2023-08-09T13:29:15.067Z"
      },
      {
        "duration": 9,
        "start_time": "2023-08-09T13:29:15.231Z"
      },
      {
        "duration": 22,
        "start_time": "2023-08-09T13:29:15.242Z"
      },
      {
        "duration": 148,
        "start_time": "2023-08-09T13:29:15.266Z"
      },
      {
        "duration": 16,
        "start_time": "2023-08-09T13:29:15.416Z"
      },
      {
        "duration": 1758,
        "start_time": "2023-08-09T13:30:51.083Z"
      },
      {
        "duration": 0,
        "start_time": "2023-08-09T13:30:52.843Z"
      },
      {
        "duration": 0,
        "start_time": "2023-08-09T13:30:52.844Z"
      },
      {
        "duration": 10,
        "start_time": "2023-08-09T13:31:07.736Z"
      },
      {
        "duration": 6,
        "start_time": "2023-08-09T13:31:08.999Z"
      },
      {
        "duration": 14,
        "start_time": "2023-08-09T13:31:16.435Z"
      },
      {
        "duration": 7,
        "start_time": "2023-08-09T13:34:18.845Z"
      },
      {
        "duration": 5,
        "start_time": "2023-08-09T13:34:31.299Z"
      },
      {
        "duration": 6,
        "start_time": "2023-08-09T13:34:43.866Z"
      },
      {
        "duration": 6,
        "start_time": "2023-08-09T13:34:52.072Z"
      },
      {
        "duration": 14,
        "start_time": "2023-08-09T13:44:13.781Z"
      },
      {
        "duration": 9,
        "start_time": "2023-08-09T13:46:59.389Z"
      },
      {
        "duration": 1847,
        "start_time": "2023-08-09T13:47:19.973Z"
      },
      {
        "duration": 7,
        "start_time": "2023-08-09T13:47:33.042Z"
      },
      {
        "duration": 10,
        "start_time": "2023-08-09T13:48:36.573Z"
      },
      {
        "duration": 11,
        "start_time": "2023-08-09T13:49:10.803Z"
      },
      {
        "duration": 5,
        "start_time": "2023-08-09T13:50:48.668Z"
      },
      {
        "duration": 8,
        "start_time": "2023-08-09T13:51:52.984Z"
      },
      {
        "duration": 9,
        "start_time": "2023-08-09T13:52:05.167Z"
      },
      {
        "duration": 8,
        "start_time": "2023-08-09T13:52:57.254Z"
      },
      {
        "duration": 6,
        "start_time": "2023-08-09T13:53:02.968Z"
      },
      {
        "duration": 5,
        "start_time": "2023-08-09T13:53:07.442Z"
      },
      {
        "duration": 1379,
        "start_time": "2023-08-09T13:54:00.108Z"
      },
      {
        "duration": 51,
        "start_time": "2023-08-09T13:54:41.578Z"
      },
      {
        "duration": 31140,
        "start_time": "2023-08-09T13:56:55.458Z"
      },
      {
        "duration": 22235,
        "start_time": "2023-08-09T14:00:40.141Z"
      },
      {
        "duration": 4,
        "start_time": "2023-08-09T14:01:14.065Z"
      },
      {
        "duration": 4,
        "start_time": "2023-08-09T14:01:16.693Z"
      },
      {
        "duration": 10,
        "start_time": "2023-08-09T14:01:19.625Z"
      },
      {
        "duration": 108,
        "start_time": "2023-08-09T14:04:30.985Z"
      },
      {
        "duration": 13,
        "start_time": "2023-08-09T14:06:43.437Z"
      },
      {
        "duration": 5,
        "start_time": "2023-08-09T14:08:00.260Z"
      },
      {
        "duration": 59,
        "start_time": "2023-08-09T14:30:59.292Z"
      },
      {
        "duration": 3518,
        "start_time": "2023-08-09T14:31:33.745Z"
      },
      {
        "duration": 3325,
        "start_time": "2023-08-09T14:31:37.265Z"
      },
      {
        "duration": 3,
        "start_time": "2023-08-09T14:31:40.592Z"
      },
      {
        "duration": 80,
        "start_time": "2023-08-09T14:31:40.596Z"
      },
      {
        "duration": 7,
        "start_time": "2023-08-09T14:31:40.678Z"
      },
      {
        "duration": 19,
        "start_time": "2023-08-09T14:31:40.687Z"
      },
      {
        "duration": 20,
        "start_time": "2023-08-09T14:31:40.707Z"
      },
      {
        "duration": 8,
        "start_time": "2023-08-09T14:31:40.728Z"
      },
      {
        "duration": 28,
        "start_time": "2023-08-09T14:31:40.737Z"
      },
      {
        "duration": 2455,
        "start_time": "2023-08-09T14:31:40.766Z"
      },
      {
        "duration": 0,
        "start_time": "2023-08-09T14:31:43.223Z"
      },
      {
        "duration": 0,
        "start_time": "2023-08-09T14:31:43.224Z"
      },
      {
        "duration": 0,
        "start_time": "2023-08-09T14:31:43.225Z"
      },
      {
        "duration": 0,
        "start_time": "2023-08-09T14:31:43.226Z"
      },
      {
        "duration": 0,
        "start_time": "2023-08-09T14:31:43.227Z"
      },
      {
        "duration": 0,
        "start_time": "2023-08-09T14:31:43.228Z"
      },
      {
        "duration": 0,
        "start_time": "2023-08-09T14:31:43.229Z"
      },
      {
        "duration": 0,
        "start_time": "2023-08-09T14:31:43.231Z"
      },
      {
        "duration": 0,
        "start_time": "2023-08-09T14:31:43.231Z"
      },
      {
        "duration": 0,
        "start_time": "2023-08-09T14:31:43.232Z"
      },
      {
        "duration": 3123,
        "start_time": "2023-08-09T14:32:03.986Z"
      },
      {
        "duration": 773,
        "start_time": "2023-08-09T14:32:07.111Z"
      },
      {
        "duration": 3,
        "start_time": "2023-08-09T14:32:07.886Z"
      },
      {
        "duration": 103,
        "start_time": "2023-08-09T14:32:07.890Z"
      },
      {
        "duration": 9,
        "start_time": "2023-08-09T14:32:07.995Z"
      },
      {
        "duration": 48,
        "start_time": "2023-08-09T14:32:08.005Z"
      },
      {
        "duration": 7,
        "start_time": "2023-08-09T14:32:08.055Z"
      },
      {
        "duration": 11,
        "start_time": "2023-08-09T14:32:08.064Z"
      },
      {
        "duration": 16,
        "start_time": "2023-08-09T14:32:08.077Z"
      },
      {
        "duration": 8772,
        "start_time": "2023-08-09T14:32:08.095Z"
      },
      {
        "duration": 7,
        "start_time": "2023-08-09T14:32:16.869Z"
      },
      {
        "duration": 25,
        "start_time": "2023-08-09T14:32:16.878Z"
      },
      {
        "duration": 144,
        "start_time": "2023-08-09T14:32:16.904Z"
      },
      {
        "duration": 8,
        "start_time": "2023-08-09T14:32:17.051Z"
      },
      {
        "duration": 20,
        "start_time": "2023-08-09T14:32:17.061Z"
      },
      {
        "duration": 139,
        "start_time": "2023-08-09T14:32:17.082Z"
      },
      {
        "duration": 9,
        "start_time": "2023-08-09T14:32:17.223Z"
      },
      {
        "duration": 33,
        "start_time": "2023-08-09T14:32:17.233Z"
      },
      {
        "duration": 18,
        "start_time": "2023-08-09T14:32:17.268Z"
      },
      {
        "duration": 24,
        "start_time": "2023-08-09T14:32:17.288Z"
      },
      {
        "duration": 1375,
        "start_time": "2023-08-09T14:32:17.314Z"
      },
      {
        "duration": 3,
        "start_time": "2023-08-09T14:32:57.469Z"
      },
      {
        "duration": 8,
        "start_time": "2023-08-09T14:33:27.259Z"
      },
      {
        "duration": 25482,
        "start_time": "2023-08-09T14:36:19.302Z"
      },
      {
        "duration": 195,
        "start_time": "2023-08-09T14:45:30.164Z"
      },
      {
        "duration": 4,
        "start_time": "2023-08-09T14:45:35.940Z"
      },
      {
        "duration": 22,
        "start_time": "2023-08-09T14:45:39.316Z"
      },
      {
        "duration": 11,
        "start_time": "2023-08-09T14:54:17.267Z"
      },
      {
        "duration": 10,
        "start_time": "2023-08-09T14:54:34.899Z"
      },
      {
        "duration": 10,
        "start_time": "2023-08-09T14:54:40.644Z"
      },
      {
        "duration": 5,
        "start_time": "2023-08-09T14:54:50.502Z"
      },
      {
        "duration": 8,
        "start_time": "2023-08-09T14:58:59.400Z"
      },
      {
        "duration": 761,
        "start_time": "2023-08-09T14:58:59.410Z"
      },
      {
        "duration": 3,
        "start_time": "2023-08-09T14:59:00.172Z"
      },
      {
        "duration": 100,
        "start_time": "2023-08-09T14:59:00.177Z"
      },
      {
        "duration": 11,
        "start_time": "2023-08-09T14:59:00.280Z"
      },
      {
        "duration": 70,
        "start_time": "2023-08-09T14:59:00.293Z"
      },
      {
        "duration": 62,
        "start_time": "2023-08-09T14:59:00.365Z"
      },
      {
        "duration": 48,
        "start_time": "2023-08-09T14:59:00.429Z"
      },
      {
        "duration": 52,
        "start_time": "2023-08-09T14:59:00.480Z"
      },
      {
        "duration": 7506,
        "start_time": "2023-08-09T14:59:00.534Z"
      },
      {
        "duration": 7,
        "start_time": "2023-08-09T14:59:08.042Z"
      },
      {
        "duration": 22,
        "start_time": "2023-08-09T14:59:08.050Z"
      },
      {
        "duration": 149,
        "start_time": "2023-08-09T14:59:08.073Z"
      },
      {
        "duration": 8,
        "start_time": "2023-08-09T14:59:08.224Z"
      },
      {
        "duration": 25,
        "start_time": "2023-08-09T14:59:08.233Z"
      },
      {
        "duration": 133,
        "start_time": "2023-08-09T14:59:08.260Z"
      },
      {
        "duration": 10,
        "start_time": "2023-08-09T14:59:08.394Z"
      },
      {
        "duration": 8,
        "start_time": "2023-08-09T14:59:08.405Z"
      },
      {
        "duration": 15,
        "start_time": "2023-08-09T14:59:08.414Z"
      },
      {
        "duration": 23,
        "start_time": "2023-08-09T14:59:08.430Z"
      },
      {
        "duration": 1452,
        "start_time": "2023-08-09T14:59:13.259Z"
      },
      {
        "duration": 1344,
        "start_time": "2023-08-09T14:59:58.226Z"
      },
      {
        "duration": 1279,
        "start_time": "2023-08-09T15:00:12.134Z"
      },
      {
        "duration": 21917,
        "start_time": "2023-08-09T15:00:17.815Z"
      },
      {
        "duration": 3,
        "start_time": "2023-08-09T15:00:46.335Z"
      },
      {
        "duration": 9,
        "start_time": "2023-08-09T15:00:47.869Z"
      },
      {
        "duration": 21171,
        "start_time": "2023-08-09T15:05:57.509Z"
      },
      {
        "duration": 36,
        "start_time": "2023-08-09T15:07:34.463Z"
      },
      {
        "duration": 5,
        "start_time": "2023-08-09T15:07:44.709Z"
      },
      {
        "duration": 6,
        "start_time": "2023-08-09T15:07:56.650Z"
      },
      {
        "duration": 10,
        "start_time": "2023-08-09T15:08:45.031Z"
      },
      {
        "duration": 868,
        "start_time": "2023-08-09T15:08:45.043Z"
      },
      {
        "duration": 3,
        "start_time": "2023-08-09T15:08:45.913Z"
      },
      {
        "duration": 90,
        "start_time": "2023-08-09T15:08:45.917Z"
      },
      {
        "duration": 8,
        "start_time": "2023-08-09T15:08:46.010Z"
      },
      {
        "duration": 38,
        "start_time": "2023-08-09T15:08:46.021Z"
      },
      {
        "duration": 22,
        "start_time": "2023-08-09T15:08:46.061Z"
      },
      {
        "duration": 21,
        "start_time": "2023-08-09T15:08:46.085Z"
      },
      {
        "duration": 16,
        "start_time": "2023-08-09T15:08:46.108Z"
      },
      {
        "duration": 7990,
        "start_time": "2023-08-09T15:08:46.126Z"
      },
      {
        "duration": 8,
        "start_time": "2023-08-09T15:08:54.119Z"
      },
      {
        "duration": 14,
        "start_time": "2023-08-09T15:08:54.129Z"
      },
      {
        "duration": 161,
        "start_time": "2023-08-09T15:08:54.144Z"
      },
      {
        "duration": 10,
        "start_time": "2023-08-09T15:08:54.309Z"
      },
      {
        "duration": 50,
        "start_time": "2023-08-09T15:08:54.321Z"
      },
      {
        "duration": 149,
        "start_time": "2023-08-09T15:08:54.373Z"
      },
      {
        "duration": 10,
        "start_time": "2023-08-09T15:08:54.524Z"
      },
      {
        "duration": 28,
        "start_time": "2023-08-09T15:08:54.536Z"
      },
      {
        "duration": 31,
        "start_time": "2023-08-09T15:08:54.566Z"
      },
      {
        "duration": 50,
        "start_time": "2023-08-09T15:08:54.599Z"
      },
      {
        "duration": 1365,
        "start_time": "2023-08-09T15:08:54.651Z"
      },
      {
        "duration": 22813,
        "start_time": "2023-08-09T15:08:56.018Z"
      },
      {
        "duration": 46,
        "start_time": "2023-08-09T15:09:18.833Z"
      },
      {
        "duration": 97,
        "start_time": "2023-08-09T15:09:18.882Z"
      },
      {
        "duration": 23207,
        "start_time": "2023-08-09T15:09:34.877Z"
      },
      {
        "duration": 37,
        "start_time": "2023-08-09T15:12:37.326Z"
      },
      {
        "duration": 34,
        "start_time": "2023-08-09T15:16:44.935Z"
      },
      {
        "duration": 1165,
        "start_time": "2023-08-09T15:16:53.752Z"
      },
      {
        "duration": 26,
        "start_time": "2023-08-09T15:17:15.267Z"
      },
      {
        "duration": 39,
        "start_time": "2023-08-09T15:17:19.312Z"
      },
      {
        "duration": 5,
        "start_time": "2023-08-09T15:17:59.988Z"
      },
      {
        "duration": 4,
        "start_time": "2023-08-09T15:18:03.725Z"
      },
      {
        "duration": 13,
        "start_time": "2023-08-09T15:18:32.787Z"
      },
      {
        "duration": 26,
        "start_time": "2023-08-09T15:18:43.356Z"
      },
      {
        "duration": 11,
        "start_time": "2023-08-09T15:20:23.732Z"
      },
      {
        "duration": 170,
        "start_time": "2023-08-09T15:20:48.493Z"
      },
      {
        "duration": 23226,
        "start_time": "2023-08-09T15:22:40.256Z"
      },
      {
        "duration": 7,
        "start_time": "2023-08-09T15:23:16.339Z"
      },
      {
        "duration": 46,
        "start_time": "2023-08-09T15:25:50.599Z"
      },
      {
        "duration": 14,
        "start_time": "2023-08-09T15:31:46.195Z"
      },
      {
        "duration": 21000,
        "start_time": "2023-08-09T15:31:50.902Z"
      },
      {
        "duration": 281,
        "start_time": "2023-08-09T15:32:14.753Z"
      },
      {
        "duration": 776,
        "start_time": "2023-08-09T15:32:15.036Z"
      },
      {
        "duration": 3,
        "start_time": "2023-08-09T15:32:15.813Z"
      },
      {
        "duration": 89,
        "start_time": "2023-08-09T15:32:15.818Z"
      },
      {
        "duration": 9,
        "start_time": "2023-08-09T15:32:15.909Z"
      },
      {
        "duration": 37,
        "start_time": "2023-08-09T15:32:15.920Z"
      },
      {
        "duration": 32,
        "start_time": "2023-08-09T15:32:15.959Z"
      },
      {
        "duration": 18,
        "start_time": "2023-08-09T15:32:15.992Z"
      },
      {
        "duration": 42,
        "start_time": "2023-08-09T15:32:16.012Z"
      },
      {
        "duration": 7951,
        "start_time": "2023-08-09T15:32:16.056Z"
      },
      {
        "duration": 7,
        "start_time": "2023-08-09T15:32:24.009Z"
      },
      {
        "duration": 20,
        "start_time": "2023-08-09T15:32:24.018Z"
      },
      {
        "duration": 164,
        "start_time": "2023-08-09T15:32:24.039Z"
      },
      {
        "duration": 7,
        "start_time": "2023-08-09T15:32:24.206Z"
      },
      {
        "duration": 22,
        "start_time": "2023-08-09T15:32:24.215Z"
      },
      {
        "duration": 147,
        "start_time": "2023-08-09T15:32:24.239Z"
      },
      {
        "duration": 9,
        "start_time": "2023-08-09T15:32:24.388Z"
      },
      {
        "duration": 14,
        "start_time": "2023-08-09T15:32:24.398Z"
      },
      {
        "duration": 19,
        "start_time": "2023-08-09T15:32:24.413Z"
      },
      {
        "duration": 10,
        "start_time": "2023-08-09T15:32:24.434Z"
      },
      {
        "duration": 1424,
        "start_time": "2023-08-09T15:32:24.446Z"
      },
      {
        "duration": 22145,
        "start_time": "2023-08-09T15:39:27.334Z"
      },
      {
        "duration": 6,
        "start_time": "2023-08-09T15:39:49.484Z"
      },
      {
        "duration": 116,
        "start_time": "2023-08-09T15:39:49.499Z"
      },
      {
        "duration": 152,
        "start_time": "2023-08-09T15:40:09.737Z"
      },
      {
        "duration": 108,
        "start_time": "2023-08-09T15:40:11.995Z"
      },
      {
        "duration": 294,
        "start_time": "2023-08-09T15:40:22.025Z"
      },
      {
        "duration": 21876,
        "start_time": "2023-08-09T15:46:45.209Z"
      },
      {
        "duration": 21284,
        "start_time": "2023-08-09T15:50:10.907Z"
      },
      {
        "duration": 21777,
        "start_time": "2023-08-09T15:51:39.220Z"
      },
      {
        "duration": 15,
        "start_time": "2023-08-09T15:52:55.504Z"
      },
      {
        "duration": 6,
        "start_time": "2023-08-09T15:53:11.010Z"
      },
      {
        "duration": 8,
        "start_time": "2023-08-09T15:54:05.911Z"
      },
      {
        "duration": 16,
        "start_time": "2023-08-09T15:54:15.812Z"
      },
      {
        "duration": 17,
        "start_time": "2023-08-09T15:54:26.734Z"
      },
      {
        "duration": 5,
        "start_time": "2023-08-09T15:54:39.491Z"
      },
      {
        "duration": 7,
        "start_time": "2023-08-09T15:54:44.428Z"
      },
      {
        "duration": 3,
        "start_time": "2023-08-09T15:55:44.008Z"
      },
      {
        "duration": 15,
        "start_time": "2023-08-09T15:55:49.615Z"
      },
      {
        "duration": 5,
        "start_time": "2023-08-09T15:55:59.322Z"
      },
      {
        "duration": 20210,
        "start_time": "2023-08-09T15:59:01.398Z"
      },
      {
        "duration": 15,
        "start_time": "2023-08-09T15:59:28.956Z"
      },
      {
        "duration": 21880,
        "start_time": "2023-08-09T15:59:31.824Z"
      },
      {
        "duration": 18,
        "start_time": "2023-08-09T15:59:53.774Z"
      },
      {
        "duration": 9,
        "start_time": "2023-08-09T16:00:02.689Z"
      },
      {
        "duration": 834,
        "start_time": "2023-08-09T16:00:02.700Z"
      },
      {
        "duration": 2,
        "start_time": "2023-08-09T16:00:03.536Z"
      },
      {
        "duration": 86,
        "start_time": "2023-08-09T16:00:03.540Z"
      },
      {
        "duration": 8,
        "start_time": "2023-08-09T16:00:03.628Z"
      },
      {
        "duration": 27,
        "start_time": "2023-08-09T16:00:03.638Z"
      },
      {
        "duration": 23,
        "start_time": "2023-08-09T16:00:03.667Z"
      },
      {
        "duration": 22,
        "start_time": "2023-08-09T16:00:03.692Z"
      },
      {
        "duration": 47,
        "start_time": "2023-08-09T16:00:03.716Z"
      },
      {
        "duration": 8129,
        "start_time": "2023-08-09T16:00:03.764Z"
      },
      {
        "duration": 7,
        "start_time": "2023-08-09T16:00:11.895Z"
      },
      {
        "duration": 7,
        "start_time": "2023-08-09T16:00:11.904Z"
      },
      {
        "duration": 160,
        "start_time": "2023-08-09T16:00:11.912Z"
      },
      {
        "duration": 16,
        "start_time": "2023-08-09T16:00:12.077Z"
      },
      {
        "duration": 17,
        "start_time": "2023-08-09T16:00:12.095Z"
      },
      {
        "duration": 173,
        "start_time": "2023-08-09T16:00:12.114Z"
      },
      {
        "duration": 10,
        "start_time": "2023-08-09T16:00:12.289Z"
      },
      {
        "duration": 8,
        "start_time": "2023-08-09T16:00:12.301Z"
      },
      {
        "duration": 12,
        "start_time": "2023-08-09T16:00:12.311Z"
      },
      {
        "duration": 13,
        "start_time": "2023-08-09T16:00:12.325Z"
      },
      {
        "duration": 1595,
        "start_time": "2023-08-09T16:00:12.340Z"
      },
      {
        "duration": 20263,
        "start_time": "2023-08-09T16:01:22.752Z"
      },
      {
        "duration": 101,
        "start_time": "2023-08-09T16:01:43.075Z"
      },
      {
        "duration": 20301,
        "start_time": "2023-08-09T16:02:07.894Z"
      },
      {
        "duration": 178,
        "start_time": "2023-08-09T16:02:28.198Z"
      },
      {
        "duration": 20736,
        "start_time": "2023-08-09T16:03:11.254Z"
      },
      {
        "duration": 188,
        "start_time": "2023-08-09T16:03:31.992Z"
      },
      {
        "duration": 7,
        "start_time": "2023-08-09T16:04:06.435Z"
      },
      {
        "duration": 870,
        "start_time": "2023-08-09T16:04:06.445Z"
      },
      {
        "duration": 3,
        "start_time": "2023-08-09T16:04:07.317Z"
      },
      {
        "duration": 133,
        "start_time": "2023-08-09T16:04:07.322Z"
      },
      {
        "duration": 8,
        "start_time": "2023-08-09T16:04:07.457Z"
      },
      {
        "duration": 45,
        "start_time": "2023-08-09T16:04:07.474Z"
      },
      {
        "duration": 18,
        "start_time": "2023-08-09T16:04:07.521Z"
      },
      {
        "duration": 7,
        "start_time": "2023-08-09T16:04:07.540Z"
      },
      {
        "duration": 30,
        "start_time": "2023-08-09T16:04:07.548Z"
      },
      {
        "duration": 7677,
        "start_time": "2023-08-09T16:04:07.579Z"
      },
      {
        "duration": 7,
        "start_time": "2023-08-09T16:04:15.258Z"
      },
      {
        "duration": 32,
        "start_time": "2023-08-09T16:04:15.266Z"
      },
      {
        "duration": 146,
        "start_time": "2023-08-09T16:04:15.300Z"
      },
      {
        "duration": 8,
        "start_time": "2023-08-09T16:04:15.449Z"
      },
      {
        "duration": 21,
        "start_time": "2023-08-09T16:04:15.458Z"
      },
      {
        "duration": 135,
        "start_time": "2023-08-09T16:04:15.480Z"
      },
      {
        "duration": 10,
        "start_time": "2023-08-09T16:04:15.617Z"
      },
      {
        "duration": 23,
        "start_time": "2023-08-09T16:04:15.629Z"
      },
      {
        "duration": 15,
        "start_time": "2023-08-09T16:04:15.653Z"
      },
      {
        "duration": 13,
        "start_time": "2023-08-09T16:04:15.670Z"
      },
      {
        "duration": 1459,
        "start_time": "2023-08-09T16:04:15.685Z"
      },
      {
        "duration": 20438,
        "start_time": "2023-08-09T16:04:55.793Z"
      },
      {
        "duration": 99,
        "start_time": "2023-08-09T16:05:16.276Z"
      },
      {
        "duration": 9,
        "start_time": "2023-08-09T16:05:33.298Z"
      },
      {
        "duration": 846,
        "start_time": "2023-08-09T16:05:33.309Z"
      },
      {
        "duration": 2,
        "start_time": "2023-08-09T16:05:34.157Z"
      },
      {
        "duration": 67,
        "start_time": "2023-08-09T16:05:34.161Z"
      },
      {
        "duration": 7,
        "start_time": "2023-08-09T16:05:34.230Z"
      },
      {
        "duration": 39,
        "start_time": "2023-08-09T16:05:34.239Z"
      },
      {
        "duration": 13,
        "start_time": "2023-08-09T16:05:34.280Z"
      },
      {
        "duration": 39,
        "start_time": "2023-08-09T16:05:34.294Z"
      },
      {
        "duration": 27,
        "start_time": "2023-08-09T16:05:34.334Z"
      },
      {
        "duration": 7481,
        "start_time": "2023-08-09T16:05:34.363Z"
      },
      {
        "duration": 7,
        "start_time": "2023-08-09T16:05:41.847Z"
      },
      {
        "duration": 11,
        "start_time": "2023-08-09T16:05:41.856Z"
      },
      {
        "duration": 169,
        "start_time": "2023-08-09T16:05:41.869Z"
      },
      {
        "duration": 8,
        "start_time": "2023-08-09T16:05:42.040Z"
      },
      {
        "duration": 17,
        "start_time": "2023-08-09T16:05:42.050Z"
      },
      {
        "duration": 148,
        "start_time": "2023-08-09T16:05:42.068Z"
      },
      {
        "duration": 11,
        "start_time": "2023-08-09T16:05:42.219Z"
      },
      {
        "duration": 37,
        "start_time": "2023-08-09T16:05:42.232Z"
      },
      {
        "duration": 34,
        "start_time": "2023-08-09T16:05:42.271Z"
      },
      {
        "duration": 13,
        "start_time": "2023-08-09T16:05:42.306Z"
      },
      {
        "duration": 1576,
        "start_time": "2023-08-09T16:05:42.321Z"
      },
      {
        "duration": 21224,
        "start_time": "2023-08-09T16:06:05.351Z"
      },
      {
        "duration": 10,
        "start_time": "2023-08-09T16:06:57.586Z"
      },
      {
        "duration": 15,
        "start_time": "2023-08-09T16:10:47.996Z"
      },
      {
        "duration": 288,
        "start_time": "2023-08-09T16:59:33.668Z"
      },
      {
        "duration": 799,
        "start_time": "2023-08-09T16:59:33.958Z"
      },
      {
        "duration": 3,
        "start_time": "2023-08-09T16:59:34.759Z"
      },
      {
        "duration": 73,
        "start_time": "2023-08-09T16:59:34.763Z"
      },
      {
        "duration": 8,
        "start_time": "2023-08-09T16:59:34.838Z"
      },
      {
        "duration": 59,
        "start_time": "2023-08-09T16:59:34.848Z"
      },
      {
        "duration": 27,
        "start_time": "2023-08-09T16:59:34.908Z"
      },
      {
        "duration": 29,
        "start_time": "2023-08-09T16:59:34.937Z"
      },
      {
        "duration": 23,
        "start_time": "2023-08-09T16:59:34.968Z"
      },
      {
        "duration": 8006,
        "start_time": "2023-08-09T16:59:34.993Z"
      },
      {
        "duration": 8,
        "start_time": "2023-08-09T16:59:43.000Z"
      },
      {
        "duration": 16,
        "start_time": "2023-08-09T16:59:43.009Z"
      },
      {
        "duration": 162,
        "start_time": "2023-08-09T16:59:43.027Z"
      },
      {
        "duration": 8,
        "start_time": "2023-08-09T16:59:43.192Z"
      },
      {
        "duration": 17,
        "start_time": "2023-08-09T16:59:43.201Z"
      },
      {
        "duration": 145,
        "start_time": "2023-08-09T16:59:43.220Z"
      },
      {
        "duration": 14,
        "start_time": "2023-08-09T16:59:43.366Z"
      },
      {
        "duration": 13,
        "start_time": "2023-08-09T16:59:43.382Z"
      },
      {
        "duration": 19,
        "start_time": "2023-08-09T16:59:43.397Z"
      },
      {
        "duration": 16,
        "start_time": "2023-08-09T16:59:43.418Z"
      },
      {
        "duration": 1552,
        "start_time": "2023-08-09T16:59:43.436Z"
      },
      {
        "duration": 22504,
        "start_time": "2023-08-09T17:00:01.873Z"
      },
      {
        "duration": 98,
        "start_time": "2023-08-09T17:00:24.379Z"
      },
      {
        "duration": 396,
        "start_time": "2023-08-09T17:00:24.479Z"
      },
      {
        "duration": 302,
        "start_time": "2023-08-09T17:00:39.038Z"
      },
      {
        "duration": 15,
        "start_time": "2023-08-09T17:01:09.008Z"
      },
      {
        "duration": 121,
        "start_time": "2023-08-09T17:01:39.898Z"
      },
      {
        "duration": 20260,
        "start_time": "2023-08-09T17:03:42.227Z"
      },
      {
        "duration": 86,
        "start_time": "2023-08-09T17:04:02.490Z"
      },
      {
        "duration": 21,
        "start_time": "2023-08-09T17:04:02.578Z"
      },
      {
        "duration": 0,
        "start_time": "2023-08-09T17:04:02.600Z"
      },
      {
        "duration": 0,
        "start_time": "2023-08-09T17:04:02.601Z"
      },
      {
        "duration": 0,
        "start_time": "2023-08-09T17:04:02.602Z"
      },
      {
        "duration": 11,
        "start_time": "2023-08-09T17:05:47.904Z"
      },
      {
        "duration": 784,
        "start_time": "2023-08-09T17:05:47.917Z"
      },
      {
        "duration": 3,
        "start_time": "2023-08-09T17:05:48.703Z"
      },
      {
        "duration": 82,
        "start_time": "2023-08-09T17:05:48.708Z"
      },
      {
        "duration": 9,
        "start_time": "2023-08-09T17:05:48.792Z"
      },
      {
        "duration": 18,
        "start_time": "2023-08-09T17:05:48.803Z"
      },
      {
        "duration": 8,
        "start_time": "2023-08-09T17:05:48.823Z"
      },
      {
        "duration": 5,
        "start_time": "2023-08-09T17:05:48.833Z"
      },
      {
        "duration": 39,
        "start_time": "2023-08-09T17:05:48.840Z"
      },
      {
        "duration": 7587,
        "start_time": "2023-08-09T17:05:48.881Z"
      },
      {
        "duration": 9,
        "start_time": "2023-08-09T17:05:56.469Z"
      },
      {
        "duration": 12,
        "start_time": "2023-08-09T17:05:56.479Z"
      },
      {
        "duration": 141,
        "start_time": "2023-08-09T17:05:56.493Z"
      },
      {
        "duration": 9,
        "start_time": "2023-08-09T17:05:56.636Z"
      },
      {
        "duration": 28,
        "start_time": "2023-08-09T17:05:56.647Z"
      },
      {
        "duration": 154,
        "start_time": "2023-08-09T17:05:56.678Z"
      },
      {
        "duration": 9,
        "start_time": "2023-08-09T17:05:56.834Z"
      },
      {
        "duration": 12,
        "start_time": "2023-08-09T17:05:56.845Z"
      },
      {
        "duration": 12,
        "start_time": "2023-08-09T17:05:56.859Z"
      },
      {
        "duration": 14,
        "start_time": "2023-08-09T17:05:56.875Z"
      },
      {
        "duration": 1479,
        "start_time": "2023-08-09T17:05:56.891Z"
      },
      {
        "duration": 20108,
        "start_time": "2023-08-09T17:06:12.413Z"
      },
      {
        "duration": 5,
        "start_time": "2023-08-09T17:06:32.576Z"
      },
      {
        "duration": 125,
        "start_time": "2023-08-09T17:06:32.583Z"
      },
      {
        "duration": 163,
        "start_time": "2023-08-09T17:07:03.718Z"
      },
      {
        "duration": 214,
        "start_time": "2023-08-09T17:07:05.723Z"
      },
      {
        "duration": 125,
        "start_time": "2023-08-09T17:07:07.357Z"
      },
      {
        "duration": 8,
        "start_time": "2023-08-09T17:07:29.083Z"
      },
      {
        "duration": 800,
        "start_time": "2023-08-09T17:07:29.093Z"
      },
      {
        "duration": 3,
        "start_time": "2023-08-09T17:07:29.895Z"
      },
      {
        "duration": 101,
        "start_time": "2023-08-09T17:07:29.900Z"
      },
      {
        "duration": 9,
        "start_time": "2023-08-09T17:07:30.003Z"
      },
      {
        "duration": 82,
        "start_time": "2023-08-09T17:07:30.014Z"
      },
      {
        "duration": 39,
        "start_time": "2023-08-09T17:07:30.098Z"
      },
      {
        "duration": 25,
        "start_time": "2023-08-09T17:07:30.139Z"
      },
      {
        "duration": 36,
        "start_time": "2023-08-09T17:07:30.166Z"
      },
      {
        "duration": 7549,
        "start_time": "2023-08-09T17:07:30.204Z"
      },
      {
        "duration": 7,
        "start_time": "2023-08-09T17:07:37.754Z"
      },
      {
        "duration": 10,
        "start_time": "2023-08-09T17:07:37.762Z"
      },
      {
        "duration": 137,
        "start_time": "2023-08-09T17:07:37.774Z"
      },
      {
        "duration": 7,
        "start_time": "2023-08-09T17:07:37.914Z"
      },
      {
        "duration": 17,
        "start_time": "2023-08-09T17:07:37.923Z"
      },
      {
        "duration": 137,
        "start_time": "2023-08-09T17:07:37.942Z"
      },
      {
        "duration": 9,
        "start_time": "2023-08-09T17:07:38.081Z"
      },
      {
        "duration": 17,
        "start_time": "2023-08-09T17:07:38.091Z"
      },
      {
        "duration": 229,
        "start_time": "2023-08-09T17:07:38.109Z"
      },
      {
        "duration": 29,
        "start_time": "2023-08-09T17:07:38.340Z"
      },
      {
        "duration": 1412,
        "start_time": "2023-08-09T17:07:38.371Z"
      },
      {
        "duration": 20214,
        "start_time": "2023-08-09T17:07:43.063Z"
      },
      {
        "duration": 3,
        "start_time": "2023-08-09T17:08:05.238Z"
      },
      {
        "duration": 12,
        "start_time": "2023-08-09T17:08:05.478Z"
      },
      {
        "duration": 8,
        "start_time": "2023-08-09T17:08:36.593Z"
      },
      {
        "duration": 193,
        "start_time": "2023-08-09T17:08:42.587Z"
      },
      {
        "duration": 21764,
        "start_time": "2023-08-09T17:08:52.512Z"
      },
      {
        "duration": 3,
        "start_time": "2023-08-09T17:09:18.058Z"
      },
      {
        "duration": 12,
        "start_time": "2023-08-09T17:09:19.258Z"
      },
      {
        "duration": 16,
        "start_time": "2023-08-09T17:09:21.254Z"
      },
      {
        "duration": 10,
        "start_time": "2023-08-09T17:09:26.099Z"
      },
      {
        "duration": 807,
        "start_time": "2023-08-09T17:09:26.111Z"
      },
      {
        "duration": 4,
        "start_time": "2023-08-09T17:09:26.920Z"
      },
      {
        "duration": 81,
        "start_time": "2023-08-09T17:09:26.926Z"
      },
      {
        "duration": 9,
        "start_time": "2023-08-09T17:09:27.009Z"
      },
      {
        "duration": 22,
        "start_time": "2023-08-09T17:09:27.019Z"
      },
      {
        "duration": 34,
        "start_time": "2023-08-09T17:09:27.043Z"
      },
      {
        "duration": 20,
        "start_time": "2023-08-09T17:09:27.079Z"
      },
      {
        "duration": 22,
        "start_time": "2023-08-09T17:09:27.101Z"
      },
      {
        "duration": 8323,
        "start_time": "2023-08-09T17:09:27.125Z"
      },
      {
        "duration": 7,
        "start_time": "2023-08-09T17:09:35.450Z"
      },
      {
        "duration": 23,
        "start_time": "2023-08-09T17:09:35.459Z"
      },
      {
        "duration": 162,
        "start_time": "2023-08-09T17:09:35.484Z"
      },
      {
        "duration": 9,
        "start_time": "2023-08-09T17:09:35.649Z"
      },
      {
        "duration": 39,
        "start_time": "2023-08-09T17:09:35.660Z"
      },
      {
        "duration": 186,
        "start_time": "2023-08-09T17:09:35.701Z"
      },
      {
        "duration": 14,
        "start_time": "2023-08-09T17:09:35.889Z"
      },
      {
        "duration": 31,
        "start_time": "2023-08-09T17:09:35.905Z"
      },
      {
        "duration": 48,
        "start_time": "2023-08-09T17:09:35.939Z"
      },
      {
        "duration": 49,
        "start_time": "2023-08-09T17:09:35.990Z"
      },
      {
        "duration": 1591,
        "start_time": "2023-08-09T17:09:36.041Z"
      },
      {
        "duration": 23059,
        "start_time": "2023-08-09T17:09:40.619Z"
      },
      {
        "duration": 6,
        "start_time": "2023-08-09T17:10:03.681Z"
      },
      {
        "duration": 215,
        "start_time": "2023-08-09T17:10:03.689Z"
      },
      {
        "duration": 9,
        "start_time": "2023-08-09T17:10:06.368Z"
      },
      {
        "duration": 243,
        "start_time": "2023-08-09T17:10:08.833Z"
      },
      {
        "duration": 283,
        "start_time": "2023-08-09T17:10:11.764Z"
      },
      {
        "duration": 127,
        "start_time": "2023-08-09T17:10:14.654Z"
      },
      {
        "duration": 1148,
        "start_time": "2023-08-09T17:12:53.378Z"
      },
      {
        "duration": 9,
        "start_time": "2023-08-09T17:13:04.250Z"
      },
      {
        "duration": 895,
        "start_time": "2023-08-09T17:13:04.261Z"
      },
      {
        "duration": 3,
        "start_time": "2023-08-09T17:13:05.158Z"
      },
      {
        "duration": 75,
        "start_time": "2023-08-09T17:13:05.162Z"
      },
      {
        "duration": 9,
        "start_time": "2023-08-09T17:13:05.239Z"
      },
      {
        "duration": 54,
        "start_time": "2023-08-09T17:13:05.249Z"
      },
      {
        "duration": 18,
        "start_time": "2023-08-09T17:13:05.305Z"
      },
      {
        "duration": 8,
        "start_time": "2023-08-09T17:13:05.324Z"
      },
      {
        "duration": 32,
        "start_time": "2023-08-09T17:13:05.334Z"
      },
      {
        "duration": 7879,
        "start_time": "2023-08-09T17:13:05.368Z"
      },
      {
        "duration": 7,
        "start_time": "2023-08-09T17:13:13.249Z"
      },
      {
        "duration": 8,
        "start_time": "2023-08-09T17:13:13.258Z"
      },
      {
        "duration": 158,
        "start_time": "2023-08-09T17:13:13.275Z"
      },
      {
        "duration": 8,
        "start_time": "2023-08-09T17:13:13.436Z"
      },
      {
        "duration": 33,
        "start_time": "2023-08-09T17:13:13.446Z"
      },
      {
        "duration": 141,
        "start_time": "2023-08-09T17:13:13.480Z"
      },
      {
        "duration": 10,
        "start_time": "2023-08-09T17:13:13.622Z"
      },
      {
        "duration": 14,
        "start_time": "2023-08-09T17:13:13.633Z"
      },
      {
        "duration": 12,
        "start_time": "2023-08-09T17:13:13.649Z"
      },
      {
        "duration": 14,
        "start_time": "2023-08-09T17:13:13.663Z"
      },
      {
        "duration": 1547,
        "start_time": "2023-08-09T17:13:13.679Z"
      },
      {
        "duration": 411439,
        "start_time": "2023-08-09T17:13:38.858Z"
      },
      {
        "duration": 3247,
        "start_time": "2023-08-09T17:21:02.675Z"
      },
      {
        "duration": 815,
        "start_time": "2023-08-09T17:21:05.924Z"
      },
      {
        "duration": 3,
        "start_time": "2023-08-09T17:21:06.741Z"
      },
      {
        "duration": 87,
        "start_time": "2023-08-09T17:21:06.746Z"
      },
      {
        "duration": 9,
        "start_time": "2023-08-09T17:21:06.835Z"
      },
      {
        "duration": 49,
        "start_time": "2023-08-09T17:21:06.845Z"
      },
      {
        "duration": 18,
        "start_time": "2023-08-09T17:21:06.896Z"
      },
      {
        "duration": 34,
        "start_time": "2023-08-09T17:21:06.916Z"
      },
      {
        "duration": 25,
        "start_time": "2023-08-09T17:21:06.951Z"
      },
      {
        "duration": 9080,
        "start_time": "2023-08-09T17:21:06.977Z"
      },
      {
        "duration": 7,
        "start_time": "2023-08-09T17:21:16.059Z"
      },
      {
        "duration": 22,
        "start_time": "2023-08-09T17:21:16.068Z"
      },
      {
        "duration": 155,
        "start_time": "2023-08-09T17:21:16.091Z"
      },
      {
        "duration": 8,
        "start_time": "2023-08-09T17:21:16.248Z"
      },
      {
        "duration": 29,
        "start_time": "2023-08-09T17:21:16.257Z"
      },
      {
        "duration": 140,
        "start_time": "2023-08-09T17:21:16.287Z"
      },
      {
        "duration": 8,
        "start_time": "2023-08-09T17:21:16.429Z"
      },
      {
        "duration": 31,
        "start_time": "2023-08-09T17:21:16.439Z"
      },
      {
        "duration": 21,
        "start_time": "2023-08-09T17:21:16.472Z"
      },
      {
        "duration": 11,
        "start_time": "2023-08-09T17:21:16.494Z"
      },
      {
        "duration": 1394,
        "start_time": "2023-08-09T17:21:16.506Z"
      },
      {
        "duration": 106691,
        "start_time": "2023-08-09T17:21:28.709Z"
      },
      {
        "duration": 12,
        "start_time": "2023-08-09T17:23:23.858Z"
      },
      {
        "duration": 177,
        "start_time": "2023-08-09T17:30:05.439Z"
      },
      {
        "duration": 12,
        "start_time": "2023-08-09T17:43:27.918Z"
      },
      {
        "duration": 858,
        "start_time": "2023-08-09T17:43:27.932Z"
      },
      {
        "duration": 4,
        "start_time": "2023-08-09T17:43:28.792Z"
      },
      {
        "duration": 102,
        "start_time": "2023-08-09T17:43:28.799Z"
      },
      {
        "duration": 8,
        "start_time": "2023-08-09T17:43:28.903Z"
      },
      {
        "duration": 29,
        "start_time": "2023-08-09T17:43:28.913Z"
      },
      {
        "duration": 11,
        "start_time": "2023-08-09T17:43:28.944Z"
      },
      {
        "duration": 6,
        "start_time": "2023-08-09T17:43:28.976Z"
      },
      {
        "duration": 14,
        "start_time": "2023-08-09T17:43:28.984Z"
      },
      {
        "duration": 8856,
        "start_time": "2023-08-09T17:43:29.001Z"
      },
      {
        "duration": 15,
        "start_time": "2023-08-09T17:43:37.859Z"
      },
      {
        "duration": 4,
        "start_time": "2023-08-09T17:43:37.876Z"
      },
      {
        "duration": 173,
        "start_time": "2023-08-09T17:43:37.882Z"
      },
      {
        "duration": 19,
        "start_time": "2023-08-09T17:43:38.057Z"
      },
      {
        "duration": 27,
        "start_time": "2023-08-09T17:43:38.078Z"
      },
      {
        "duration": 196,
        "start_time": "2023-08-09T17:43:38.106Z"
      },
      {
        "duration": 11,
        "start_time": "2023-08-09T17:43:38.304Z"
      },
      {
        "duration": 10,
        "start_time": "2023-08-09T17:43:38.318Z"
      },
      {
        "duration": 17,
        "start_time": "2023-08-09T17:43:38.329Z"
      },
      {
        "duration": 34,
        "start_time": "2023-08-09T17:43:38.349Z"
      },
      {
        "duration": 1576,
        "start_time": "2023-08-09T17:43:38.385Z"
      },
      {
        "duration": 22941,
        "start_time": "2023-08-09T17:43:39.963Z"
      },
      {
        "duration": 4,
        "start_time": "2023-08-09T17:44:02.975Z"
      },
      {
        "duration": 23,
        "start_time": "2023-08-09T17:44:02.981Z"
      },
      {
        "duration": 79,
        "start_time": "2023-08-09T17:44:03.006Z"
      },
      {
        "duration": 220,
        "start_time": "2023-08-09T17:44:03.088Z"
      },
      {
        "duration": 171,
        "start_time": "2023-08-09T17:44:03.310Z"
      },
      {
        "duration": 0,
        "start_time": "2023-08-09T17:44:03.487Z"
      },
      {
        "duration": 343,
        "start_time": "2023-08-09T17:44:45.235Z"
      },
      {
        "duration": 173,
        "start_time": "2023-08-09T17:44:50.466Z"
      },
      {
        "duration": 110165,
        "start_time": "2023-08-09T17:44:54.434Z"
      },
      {
        "duration": 108,
        "start_time": "2023-08-09T17:46:44.600Z"
      },
      {
        "duration": 9,
        "start_time": "2023-08-09T17:46:50.133Z"
      },
      {
        "duration": 328,
        "start_time": "2023-08-09T17:48:08.130Z"
      },
      {
        "duration": 16,
        "start_time": "2023-08-09T17:48:10.962Z"
      },
      {
        "duration": 273,
        "start_time": "2023-08-09T17:48:21.669Z"
      },
      {
        "duration": 129,
        "start_time": "2023-08-09T17:48:29.012Z"
      },
      {
        "duration": 133,
        "start_time": "2023-08-09T17:58:01.613Z"
      },
      {
        "duration": 2153846,
        "start_time": "2023-08-09T17:58:17.498Z"
      },
      {
        "duration": 147,
        "start_time": "2023-08-09T18:34:11.346Z"
      },
      {
        "duration": 11,
        "start_time": "2023-08-09T18:37:51.918Z"
      },
      {
        "duration": 199,
        "start_time": "2023-08-09T18:37:55.038Z"
      },
      {
        "duration": 263,
        "start_time": "2023-08-09T18:37:57.628Z"
      },
      {
        "duration": 122,
        "start_time": "2023-08-09T18:38:00.728Z"
      },
      {
        "duration": 13,
        "start_time": "2023-08-09T18:38:06.368Z"
      },
      {
        "duration": 22401,
        "start_time": "2023-08-09T18:38:20.705Z"
      },
      {
        "duration": 10,
        "start_time": "2023-08-09T18:38:47.167Z"
      },
      {
        "duration": 159,
        "start_time": "2023-08-09T18:38:49.017Z"
      },
      {
        "duration": 251,
        "start_time": "2023-08-09T18:38:52.734Z"
      },
      {
        "duration": 136,
        "start_time": "2023-08-09T18:38:55.566Z"
      },
      {
        "duration": 17,
        "start_time": "2023-08-09T18:39:02.969Z"
      },
      {
        "duration": 110627,
        "start_time": "2023-08-09T18:39:08.868Z"
      },
      {
        "duration": 11,
        "start_time": "2023-08-09T18:41:08.775Z"
      },
      {
        "duration": 307,
        "start_time": "2023-08-09T18:41:11.235Z"
      },
      {
        "duration": 279,
        "start_time": "2023-08-09T18:41:12.469Z"
      },
      {
        "duration": 125,
        "start_time": "2023-08-09T18:41:13.994Z"
      },
      {
        "duration": 16,
        "start_time": "2023-08-09T18:41:22.892Z"
      },
      {
        "duration": 2156,
        "start_time": "2023-08-09T18:50:37.436Z"
      },
      {
        "duration": 9,
        "start_time": "2023-08-09T18:51:26.599Z"
      },
      {
        "duration": 306,
        "start_time": "2023-08-09T18:51:28.769Z"
      },
      {
        "duration": 2135,
        "start_time": "2023-08-09T18:51:54.141Z"
      },
      {
        "duration": 10,
        "start_time": "2023-08-09T18:52:01.477Z"
      },
      {
        "duration": 2045,
        "start_time": "2023-08-09T18:52:12.049Z"
      },
      {
        "duration": 10,
        "start_time": "2023-08-09T18:52:18.905Z"
      },
      {
        "duration": 156,
        "start_time": "2023-08-09T18:52:22.419Z"
      },
      {
        "duration": 26067,
        "start_time": "2023-08-09T18:52:48.847Z"
      },
      {
        "duration": 10,
        "start_time": "2023-08-09T18:53:21.621Z"
      },
      {
        "duration": 24542,
        "start_time": "2023-08-09T18:53:31.060Z"
      },
      {
        "duration": 9,
        "start_time": "2023-08-09T18:54:35.959Z"
      },
      {
        "duration": 226,
        "start_time": "2023-08-09T18:54:39.258Z"
      },
      {
        "duration": 60833,
        "start_time": "2023-08-09T18:55:03.248Z"
      },
      {
        "duration": 8,
        "start_time": "2023-08-09T18:56:47.789Z"
      },
      {
        "duration": 178,
        "start_time": "2023-08-09T18:56:50.898Z"
      },
      {
        "duration": 2262,
        "start_time": "2023-08-09T18:57:22.529Z"
      },
      {
        "duration": 9,
        "start_time": "2023-08-09T18:57:46.869Z"
      },
      {
        "duration": 190,
        "start_time": "2023-08-09T18:57:47.990Z"
      },
      {
        "duration": 2337,
        "start_time": "2023-08-09T18:58:21.469Z"
      },
      {
        "duration": 8,
        "start_time": "2023-08-09T18:58:27.967Z"
      },
      {
        "duration": 249,
        "start_time": "2023-08-09T18:58:30.727Z"
      },
      {
        "duration": 2228,
        "start_time": "2023-08-09T18:58:39.059Z"
      },
      {
        "duration": 9,
        "start_time": "2023-08-09T18:58:44.127Z"
      },
      {
        "duration": 124,
        "start_time": "2023-08-09T18:58:46.197Z"
      },
      {
        "duration": 3322,
        "start_time": "2023-08-09T18:58:52.965Z"
      },
      {
        "duration": 9,
        "start_time": "2023-08-09T18:58:58.470Z"
      },
      {
        "duration": 125,
        "start_time": "2023-08-09T18:59:00.169Z"
      },
      {
        "duration": 812,
        "start_time": "2023-08-09T19:00:54.549Z"
      },
      {
        "duration": 38,
        "start_time": "2023-08-09T19:01:01.205Z"
      },
      {
        "duration": 5,
        "start_time": "2023-08-09T19:01:05.369Z"
      },
      {
        "duration": 4,
        "start_time": "2023-08-09T19:01:12.319Z"
      },
      {
        "duration": 418,
        "start_time": "2023-08-09T19:02:51.127Z"
      },
      {
        "duration": 4,
        "start_time": "2023-08-09T19:03:19.591Z"
      },
      {
        "duration": 4,
        "start_time": "2023-08-09T19:03:26.587Z"
      },
      {
        "duration": 4,
        "start_time": "2023-08-09T19:03:45.117Z"
      },
      {
        "duration": 3083,
        "start_time": "2023-08-09T19:03:49.392Z"
      },
      {
        "duration": 8,
        "start_time": "2023-08-09T19:03:55.510Z"
      },
      {
        "duration": 165,
        "start_time": "2023-08-09T19:04:34.319Z"
      },
      {
        "duration": 274,
        "start_time": "2023-08-09T19:04:36.569Z"
      },
      {
        "duration": 122,
        "start_time": "2023-08-09T19:04:41.763Z"
      },
      {
        "duration": 5,
        "start_time": "2023-08-09T19:05:26.529Z"
      },
      {
        "duration": 13,
        "start_time": "2023-08-09T19:05:31.750Z"
      },
      {
        "duration": 3,
        "start_time": "2023-08-09T19:05:49.347Z"
      },
      {
        "duration": 16,
        "start_time": "2023-08-09T19:05:56.843Z"
      },
      {
        "duration": 134,
        "start_time": "2023-08-09T19:06:13.803Z"
      },
      {
        "duration": 126,
        "start_time": "2023-08-09T19:06:16.800Z"
      },
      {
        "duration": 12,
        "start_time": "2023-08-09T19:06:21.959Z"
      },
      {
        "duration": 29,
        "start_time": "2023-08-09T19:06:53.292Z"
      },
      {
        "duration": 41,
        "start_time": "2023-08-09T19:07:31.520Z"
      },
      {
        "duration": 5,
        "start_time": "2023-08-09T19:07:38.619Z"
      },
      {
        "duration": 9,
        "start_time": "2023-08-09T19:08:53.160Z"
      },
      {
        "duration": 163,
        "start_time": "2023-08-09T19:09:57.019Z"
      },
      {
        "duration": 219,
        "start_time": "2023-08-09T19:10:32.609Z"
      },
      {
        "duration": 118,
        "start_time": "2023-08-09T19:10:49.501Z"
      },
      {
        "duration": 2376,
        "start_time": "2023-08-09T19:12:39.811Z"
      },
      {
        "duration": 2175,
        "start_time": "2023-08-09T19:12:51.520Z"
      },
      {
        "duration": 11,
        "start_time": "2023-08-09T19:13:07.128Z"
      },
      {
        "duration": 239,
        "start_time": "2023-08-09T19:13:09.840Z"
      },
      {
        "duration": 2981,
        "start_time": "2023-08-09T19:13:40.100Z"
      },
      {
        "duration": 10,
        "start_time": "2023-08-09T19:13:45.800Z"
      },
      {
        "duration": 3333,
        "start_time": "2023-08-09T19:28:51.360Z"
      },
      {
        "duration": 3617,
        "start_time": "2023-08-09T19:28:54.696Z"
      },
      {
        "duration": 3,
        "start_time": "2023-08-09T19:28:58.315Z"
      },
      {
        "duration": 86,
        "start_time": "2023-08-09T19:28:58.320Z"
      },
      {
        "duration": 11,
        "start_time": "2023-08-09T19:28:58.408Z"
      },
      {
        "duration": 26,
        "start_time": "2023-08-09T19:28:58.421Z"
      },
      {
        "duration": 26,
        "start_time": "2023-08-09T19:28:58.451Z"
      },
      {
        "duration": 14,
        "start_time": "2023-08-09T19:28:58.478Z"
      },
      {
        "duration": 14,
        "start_time": "2023-08-09T19:28:58.493Z"
      },
      {
        "duration": 10327,
        "start_time": "2023-08-09T19:28:58.509Z"
      },
      {
        "duration": 6,
        "start_time": "2023-08-09T19:29:08.838Z"
      },
      {
        "duration": 11,
        "start_time": "2023-08-09T19:29:08.846Z"
      },
      {
        "duration": 150,
        "start_time": "2023-08-09T19:29:08.858Z"
      },
      {
        "duration": 9,
        "start_time": "2023-08-09T19:29:09.011Z"
      },
      {
        "duration": 19,
        "start_time": "2023-08-09T19:29:09.022Z"
      },
      {
        "duration": 184,
        "start_time": "2023-08-09T19:29:09.043Z"
      },
      {
        "duration": 11,
        "start_time": "2023-08-09T19:29:09.228Z"
      },
      {
        "duration": 20,
        "start_time": "2023-08-09T19:29:09.240Z"
      },
      {
        "duration": 28,
        "start_time": "2023-08-09T19:29:09.261Z"
      },
      {
        "duration": 10,
        "start_time": "2023-08-09T19:29:09.293Z"
      },
      {
        "duration": 1600,
        "start_time": "2023-08-09T19:29:09.305Z"
      },
      {
        "duration": 25026,
        "start_time": "2023-08-09T19:29:16.060Z"
      },
      {
        "duration": 14,
        "start_time": "2023-08-09T19:29:50.240Z"
      },
      {
        "duration": 215,
        "start_time": "2023-08-09T19:29:52.970Z"
      },
      {
        "duration": 378,
        "start_time": "2023-08-09T19:30:00.131Z"
      },
      {
        "duration": 137,
        "start_time": "2023-08-09T19:30:01.511Z"
      },
      {
        "duration": 5086,
        "start_time": "2023-08-09T19:30:23.088Z"
      },
      {
        "duration": 12,
        "start_time": "2023-08-09T19:30:30.988Z"
      },
      {
        "duration": 178,
        "start_time": "2023-08-09T19:30:32.118Z"
      },
      {
        "duration": 4610,
        "start_time": "2023-08-09T19:30:33.871Z"
      },
      {
        "duration": 11,
        "start_time": "2023-08-09T19:30:39.801Z"
      },
      {
        "duration": 259,
        "start_time": "2023-08-09T19:30:44.528Z"
      },
      {
        "duration": 864,
        "start_time": "2023-08-09T19:30:49.720Z"
      },
      {
        "duration": 6031,
        "start_time": "2023-08-09T19:30:53.069Z"
      },
      {
        "duration": 13,
        "start_time": "2023-08-09T19:31:00.306Z"
      },
      {
        "duration": 329,
        "start_time": "2023-08-09T19:31:06.950Z"
      },
      {
        "duration": 259,
        "start_time": "2023-08-09T19:31:08.398Z"
      },
      {
        "duration": 137,
        "start_time": "2023-08-09T19:31:09.758Z"
      },
      {
        "duration": 8,
        "start_time": "2023-08-09T19:37:41.419Z"
      },
      {
        "duration": 942,
        "start_time": "2023-08-09T19:37:41.430Z"
      },
      {
        "duration": 649,
        "start_time": "2023-08-09T19:37:42.376Z"
      },
      {
        "duration": 85,
        "start_time": "2023-08-09T19:37:43.027Z"
      },
      {
        "duration": 19,
        "start_time": "2023-08-09T19:37:43.114Z"
      },
      {
        "duration": 17,
        "start_time": "2023-08-09T19:37:43.136Z"
      },
      {
        "duration": 29,
        "start_time": "2023-08-09T19:37:43.155Z"
      },
      {
        "duration": 25,
        "start_time": "2023-08-09T19:37:43.187Z"
      },
      {
        "duration": 136626,
        "start_time": "2023-08-09T19:38:09.897Z"
      },
      {
        "duration": 10,
        "start_time": "2023-08-09T19:40:46.551Z"
      },
      {
        "duration": 4,
        "start_time": "2023-08-09T19:41:13.030Z"
      },
      {
        "duration": 2659,
        "start_time": "2023-08-09T19:41:15.269Z"
      },
      {
        "duration": 10,
        "start_time": "2023-08-09T19:41:17.930Z"
      },
      {
        "duration": 81,
        "start_time": "2023-08-09T19:41:27.060Z"
      },
      {
        "duration": 2364,
        "start_time": "2023-08-09T19:41:33.904Z"
      },
      {
        "duration": 134,
        "start_time": "2023-08-09T19:41:37.858Z"
      },
      {
        "duration": 72,
        "start_time": "2023-08-09T19:41:43.460Z"
      },
      {
        "duration": 49,
        "start_time": "2023-08-09T19:41:44.408Z"
      },
      {
        "duration": 12,
        "start_time": "2023-08-09T19:41:58.791Z"
      },
      {
        "duration": 8,
        "start_time": "2023-08-09T19:42:09.594Z"
      },
      {
        "duration": 43,
        "start_time": "2023-08-09T19:42:23.097Z"
      },
      {
        "duration": 1975,
        "start_time": "2023-08-09T20:23:08.534Z"
      },
      {
        "duration": 3605,
        "start_time": "2023-08-09T20:23:10.511Z"
      },
      {
        "duration": 28,
        "start_time": "2023-08-09T20:23:14.117Z"
      },
      {
        "duration": 353,
        "start_time": "2023-08-09T20:23:14.148Z"
      },
      {
        "duration": 44,
        "start_time": "2023-08-09T20:23:14.502Z"
      },
      {
        "duration": 23,
        "start_time": "2023-08-09T20:23:14.548Z"
      },
      {
        "duration": 19,
        "start_time": "2023-08-09T20:23:14.572Z"
      },
      {
        "duration": 7,
        "start_time": "2023-08-09T20:23:14.592Z"
      },
      {
        "duration": 20,
        "start_time": "2023-08-09T20:23:14.600Z"
      },
      {
        "duration": 65249,
        "start_time": "2023-08-09T20:23:14.623Z"
      },
      {
        "duration": 11,
        "start_time": "2023-08-09T20:24:19.874Z"
      },
      {
        "duration": 1209,
        "start_time": "2023-08-09T20:24:19.886Z"
      },
      {
        "duration": 8,
        "start_time": "2023-08-09T20:24:21.096Z"
      },
      {
        "duration": 1084,
        "start_time": "2023-08-09T20:24:21.106Z"
      },
      {
        "duration": 63,
        "start_time": "2023-08-09T20:24:22.192Z"
      },
      {
        "duration": 49,
        "start_time": "2023-08-09T20:24:22.257Z"
      },
      {
        "duration": 33,
        "start_time": "2023-08-09T20:24:22.308Z"
      },
      {
        "duration": 10,
        "start_time": "2023-08-09T20:24:22.343Z"
      },
      {
        "duration": 46,
        "start_time": "2023-08-09T20:24:22.355Z"
      },
      {
        "duration": 2014,
        "start_time": "2023-08-09T20:25:16.353Z"
      },
      {
        "duration": 3658,
        "start_time": "2023-08-09T20:25:19.833Z"
      },
      {
        "duration": 23,
        "start_time": "2023-08-09T20:25:23.492Z"
      },
      {
        "duration": 214,
        "start_time": "2023-08-09T20:25:26.294Z"
      },
      {
        "duration": 36,
        "start_time": "2023-08-09T20:25:27.793Z"
      },
      {
        "duration": 8,
        "start_time": "2023-08-09T20:25:28.793Z"
      },
      {
        "duration": 7,
        "start_time": "2023-08-09T20:25:29.823Z"
      },
      {
        "duration": 9,
        "start_time": "2023-08-09T20:25:30.342Z"
      },
      {
        "duration": 12,
        "start_time": "2023-08-09T20:25:31.954Z"
      },
      {
        "duration": 43634,
        "start_time": "2023-08-09T20:25:34.651Z"
      },
      {
        "duration": 3,
        "start_time": "2023-08-09T20:26:18.289Z"
      },
      {
        "duration": 697,
        "start_time": "2023-08-09T20:26:18.294Z"
      },
      {
        "duration": 10,
        "start_time": "2023-08-09T20:26:18.993Z"
      },
      {
        "duration": 693,
        "start_time": "2023-08-09T20:26:19.004Z"
      },
      {
        "duration": 36,
        "start_time": "2023-08-09T20:26:19.699Z"
      },
      {
        "duration": 52,
        "start_time": "2023-08-09T20:26:19.737Z"
      },
      {
        "duration": 24,
        "start_time": "2023-08-09T20:26:19.791Z"
      },
      {
        "duration": 7,
        "start_time": "2023-08-09T20:26:19.817Z"
      },
      {
        "duration": 23,
        "start_time": "2023-08-09T20:26:19.827Z"
      },
      {
        "duration": 2433,
        "start_time": "2023-08-10T08:02:15.378Z"
      },
      {
        "duration": 2385,
        "start_time": "2023-08-10T08:02:17.814Z"
      },
      {
        "duration": 24,
        "start_time": "2023-08-10T08:02:20.201Z"
      },
      {
        "duration": 157,
        "start_time": "2023-08-10T08:02:20.228Z"
      },
      {
        "duration": 33,
        "start_time": "2023-08-10T08:02:20.389Z"
      },
      {
        "duration": 30,
        "start_time": "2023-08-10T08:02:20.424Z"
      },
      {
        "duration": 36,
        "start_time": "2023-08-10T08:02:20.456Z"
      },
      {
        "duration": 21,
        "start_time": "2023-08-10T08:02:20.494Z"
      },
      {
        "duration": 14,
        "start_time": "2023-08-10T08:02:20.517Z"
      },
      {
        "duration": 18539,
        "start_time": "2023-08-10T08:02:20.533Z"
      },
      {
        "duration": 3,
        "start_time": "2023-08-10T08:02:39.074Z"
      },
      {
        "duration": 298,
        "start_time": "2023-08-10T08:02:39.078Z"
      },
      {
        "duration": 10,
        "start_time": "2023-08-10T08:02:39.378Z"
      },
      {
        "duration": 325,
        "start_time": "2023-08-10T08:02:39.390Z"
      },
      {
        "duration": 21,
        "start_time": "2023-08-10T08:02:39.717Z"
      },
      {
        "duration": 27,
        "start_time": "2023-08-10T08:02:39.740Z"
      },
      {
        "duration": 48,
        "start_time": "2023-08-10T08:02:39.769Z"
      },
      {
        "duration": 64,
        "start_time": "2023-08-10T08:02:39.819Z"
      },
      {
        "duration": 40,
        "start_time": "2023-08-10T08:02:39.885Z"
      },
      {
        "duration": 3313,
        "start_time": "2023-08-10T08:02:39.927Z"
      },
      {
        "duration": 62042,
        "start_time": "2023-08-10T08:03:10.872Z"
      },
      {
        "duration": 96,
        "start_time": "2023-08-10T08:04:12.916Z"
      },
      {
        "duration": 395,
        "start_time": "2023-08-10T08:04:13.015Z"
      },
      {
        "duration": 396,
        "start_time": "2023-08-10T08:04:13.412Z"
      },
      {
        "duration": 146,
        "start_time": "2023-08-10T08:04:13.811Z"
      },
      {
        "duration": 2168,
        "start_time": "2023-08-10T08:04:41.585Z"
      },
      {
        "duration": 2347,
        "start_time": "2023-08-10T08:04:43.755Z"
      },
      {
        "duration": 25,
        "start_time": "2023-08-10T08:04:46.104Z"
      },
      {
        "duration": 158,
        "start_time": "2023-08-10T08:04:46.133Z"
      },
      {
        "duration": 21,
        "start_time": "2023-08-10T08:04:46.308Z"
      },
      {
        "duration": 25,
        "start_time": "2023-08-10T08:04:46.330Z"
      },
      {
        "duration": 15,
        "start_time": "2023-08-10T08:04:46.357Z"
      },
      {
        "duration": 16,
        "start_time": "2023-08-10T08:04:46.373Z"
      },
      {
        "duration": 13,
        "start_time": "2023-08-10T08:04:46.390Z"
      },
      {
        "duration": 17933,
        "start_time": "2023-08-10T08:04:46.404Z"
      },
      {
        "duration": 3,
        "start_time": "2023-08-10T08:05:04.339Z"
      },
      {
        "duration": 332,
        "start_time": "2023-08-10T08:05:04.344Z"
      },
      {
        "duration": 11,
        "start_time": "2023-08-10T08:05:04.678Z"
      },
      {
        "duration": 391,
        "start_time": "2023-08-10T08:05:04.693Z"
      },
      {
        "duration": 30,
        "start_time": "2023-08-10T08:05:05.086Z"
      },
      {
        "duration": 38,
        "start_time": "2023-08-10T08:05:05.118Z"
      },
      {
        "duration": 72,
        "start_time": "2023-08-10T08:05:05.157Z"
      },
      {
        "duration": 34,
        "start_time": "2023-08-10T08:05:05.232Z"
      },
      {
        "duration": 49,
        "start_time": "2023-08-10T08:05:05.268Z"
      },
      {
        "duration": 3243,
        "start_time": "2023-08-10T08:05:05.320Z"
      },
      {
        "duration": 50143,
        "start_time": "2023-08-10T08:05:08.565Z"
      },
      {
        "duration": 12,
        "start_time": "2023-08-10T08:05:58.710Z"
      },
      {
        "duration": 392,
        "start_time": "2023-08-10T08:05:58.725Z"
      },
      {
        "duration": 312,
        "start_time": "2023-08-10T08:05:59.208Z"
      },
      {
        "duration": 156,
        "start_time": "2023-08-10T08:05:59.522Z"
      },
      {
        "duration": 2161,
        "start_time": "2023-08-10T08:06:34.341Z"
      },
      {
        "duration": 2374,
        "start_time": "2023-08-10T08:06:36.509Z"
      },
      {
        "duration": 25,
        "start_time": "2023-08-10T08:06:38.885Z"
      },
      {
        "duration": 157,
        "start_time": "2023-08-10T08:06:38.914Z"
      },
      {
        "duration": 36,
        "start_time": "2023-08-10T08:06:39.074Z"
      },
      {
        "duration": 23,
        "start_time": "2023-08-10T08:06:39.112Z"
      },
      {
        "duration": 13,
        "start_time": "2023-08-10T08:06:39.137Z"
      },
      {
        "duration": 15,
        "start_time": "2023-08-10T08:06:39.152Z"
      },
      {
        "duration": 16,
        "start_time": "2023-08-10T08:06:39.168Z"
      },
      {
        "duration": 14193,
        "start_time": "2023-08-10T08:06:39.187Z"
      },
      {
        "duration": 2,
        "start_time": "2023-08-10T08:06:53.382Z"
      },
      {
        "duration": 216,
        "start_time": "2023-08-10T08:06:53.387Z"
      },
      {
        "duration": 10,
        "start_time": "2023-08-10T08:06:53.606Z"
      },
      {
        "duration": 235,
        "start_time": "2023-08-10T08:06:53.618Z"
      },
      {
        "duration": 18,
        "start_time": "2023-08-10T08:06:53.855Z"
      },
      {
        "duration": 39,
        "start_time": "2023-08-10T08:06:53.875Z"
      },
      {
        "duration": 26,
        "start_time": "2023-08-10T08:06:53.916Z"
      },
      {
        "duration": 12,
        "start_time": "2023-08-10T08:06:53.944Z"
      },
      {
        "duration": 16,
        "start_time": "2023-08-10T08:06:53.958Z"
      },
      {
        "duration": 2454,
        "start_time": "2023-08-10T08:06:53.976Z"
      },
      {
        "duration": 34479,
        "start_time": "2023-08-10T08:06:56.432Z"
      },
      {
        "duration": 101,
        "start_time": "2023-08-10T08:07:30.917Z"
      },
      {
        "duration": 393,
        "start_time": "2023-08-10T08:07:31.020Z"
      },
      {
        "duration": 388,
        "start_time": "2023-08-10T08:07:31.415Z"
      },
      {
        "duration": 165,
        "start_time": "2023-08-10T08:07:31.808Z"
      },
      {
        "duration": 280322,
        "start_time": "2023-08-10T08:07:50.320Z"
      },
      {
        "duration": 12,
        "start_time": "2023-08-10T08:12:47.393Z"
      },
      {
        "duration": 768,
        "start_time": "2023-08-10T08:12:51.040Z"
      },
      {
        "duration": 317,
        "start_time": "2023-08-10T08:12:53.077Z"
      },
      {
        "duration": 191,
        "start_time": "2023-08-10T08:12:55.741Z"
      },
      {
        "duration": 3760231,
        "start_time": "2023-08-10T08:13:04.636Z"
      },
      {
        "duration": 11,
        "start_time": "2023-08-10T09:16:41.809Z"
      },
      {
        "duration": 331,
        "start_time": "2023-08-10T09:16:43.481Z"
      },
      {
        "duration": 280,
        "start_time": "2023-08-10T09:16:47.898Z"
      },
      {
        "duration": 13,
        "start_time": "2023-08-10T09:16:53.596Z"
      },
      {
        "duration": 5729,
        "start_time": "2023-08-10T09:17:02.596Z"
      },
      {
        "duration": 13,
        "start_time": "2023-08-10T09:17:12.073Z"
      },
      {
        "duration": 272,
        "start_time": "2023-08-10T09:17:15.137Z"
      },
      {
        "duration": 8414,
        "start_time": "2023-08-10T09:17:17.394Z"
      },
      {
        "duration": 10,
        "start_time": "2023-08-10T09:17:28.281Z"
      },
      {
        "duration": 211,
        "start_time": "2023-08-10T09:17:31.710Z"
      },
      {
        "duration": 55,
        "start_time": "2023-08-10T09:18:02.796Z"
      },
      {
        "duration": 2390,
        "start_time": "2023-08-10T09:19:30.983Z"
      },
      {
        "duration": 2336,
        "start_time": "2023-08-10T09:19:33.376Z"
      },
      {
        "duration": 24,
        "start_time": "2023-08-10T09:19:35.714Z"
      },
      {
        "duration": 234,
        "start_time": "2023-08-10T09:19:35.742Z"
      },
      {
        "duration": 38,
        "start_time": "2023-08-10T09:19:35.979Z"
      },
      {
        "duration": 99,
        "start_time": "2023-08-10T09:19:36.019Z"
      },
      {
        "duration": 55,
        "start_time": "2023-08-10T09:19:36.120Z"
      },
      {
        "duration": 41,
        "start_time": "2023-08-10T09:19:36.178Z"
      },
      {
        "duration": 21,
        "start_time": "2023-08-10T09:19:36.221Z"
      },
      {
        "duration": 13710,
        "start_time": "2023-08-10T09:19:36.245Z"
      },
      {
        "duration": 3,
        "start_time": "2023-08-10T09:19:49.958Z"
      },
      {
        "duration": 220,
        "start_time": "2023-08-10T09:19:49.963Z"
      },
      {
        "duration": 9,
        "start_time": "2023-08-10T09:19:50.185Z"
      },
      {
        "duration": 294,
        "start_time": "2023-08-10T09:19:50.197Z"
      },
      {
        "duration": 19,
        "start_time": "2023-08-10T09:19:50.493Z"
      },
      {
        "duration": 113,
        "start_time": "2023-08-10T09:19:50.514Z"
      },
      {
        "duration": 99,
        "start_time": "2023-08-10T09:19:50.628Z"
      },
      {
        "duration": 50,
        "start_time": "2023-08-10T09:19:50.729Z"
      },
      {
        "duration": 23,
        "start_time": "2023-08-10T09:19:50.781Z"
      },
      {
        "duration": 2413,
        "start_time": "2023-08-10T09:19:55.123Z"
      },
      {
        "duration": 5998,
        "start_time": "2023-08-10T09:20:09.414Z"
      },
      {
        "duration": 12,
        "start_time": "2023-08-10T09:20:22.207Z"
      },
      {
        "duration": 2253,
        "start_time": "2023-08-10T09:21:12.188Z"
      },
      {
        "duration": 2337,
        "start_time": "2023-08-10T09:21:14.443Z"
      },
      {
        "duration": 26,
        "start_time": "2023-08-10T09:21:16.782Z"
      },
      {
        "duration": 135,
        "start_time": "2023-08-10T09:21:16.812Z"
      },
      {
        "duration": 17,
        "start_time": "2023-08-10T09:21:16.950Z"
      },
      {
        "duration": 17,
        "start_time": "2023-08-10T09:21:16.969Z"
      },
      {
        "duration": 22,
        "start_time": "2023-08-10T09:21:16.988Z"
      },
      {
        "duration": 28,
        "start_time": "2023-08-10T09:21:17.011Z"
      },
      {
        "duration": 33,
        "start_time": "2023-08-10T09:21:17.041Z"
      },
      {
        "duration": 13384,
        "start_time": "2023-08-10T09:21:17.076Z"
      },
      {
        "duration": 4,
        "start_time": "2023-08-10T09:21:30.462Z"
      },
      {
        "duration": 292,
        "start_time": "2023-08-10T09:21:30.467Z"
      },
      {
        "duration": 9,
        "start_time": "2023-08-10T09:21:30.760Z"
      },
      {
        "duration": 322,
        "start_time": "2023-08-10T09:21:30.772Z"
      },
      {
        "duration": 20,
        "start_time": "2023-08-10T09:21:31.096Z"
      },
      {
        "duration": 98,
        "start_time": "2023-08-10T09:21:31.118Z"
      },
      {
        "duration": 70,
        "start_time": "2023-08-10T09:21:31.218Z"
      },
      {
        "duration": 49,
        "start_time": "2023-08-10T09:21:31.289Z"
      },
      {
        "duration": 101,
        "start_time": "2023-08-10T09:21:31.340Z"
      },
      {
        "duration": 2221,
        "start_time": "2023-08-10T09:21:31.443Z"
      },
      {
        "duration": 4471,
        "start_time": "2023-08-10T09:21:45.768Z"
      },
      {
        "duration": 11,
        "start_time": "2023-08-10T09:21:53.195Z"
      },
      {
        "duration": 52,
        "start_time": "2023-08-10T09:27:40.006Z"
      },
      {
        "duration": 2234,
        "start_time": "2023-08-10T09:27:53.781Z"
      },
      {
        "duration": 96,
        "start_time": "2023-08-10T09:28:05.603Z"
      },
      {
        "duration": 7,
        "start_time": "2023-08-10T10:17:16.063Z"
      },
      {
        "duration": 2295,
        "start_time": "2023-08-10T10:17:24.574Z"
      },
      {
        "duration": 23,
        "start_time": "2023-08-10T10:17:34.507Z"
      },
      {
        "duration": 8,
        "start_time": "2023-08-10T10:24:05.967Z"
      },
      {
        "duration": 126,
        "start_time": "2023-08-10T10:24:11.366Z"
      },
      {
        "duration": 18,
        "start_time": "2023-08-10T10:24:14.342Z"
      },
      {
        "duration": 6,
        "start_time": "2023-08-10T10:24:15.267Z"
      },
      {
        "duration": 10,
        "start_time": "2023-08-10T10:24:16.139Z"
      },
      {
        "duration": 7,
        "start_time": "2023-08-10T10:24:16.988Z"
      },
      {
        "duration": 13,
        "start_time": "2023-08-10T10:24:19.897Z"
      },
      {
        "duration": 13392,
        "start_time": "2023-08-10T10:24:29.102Z"
      },
      {
        "duration": 8,
        "start_time": "2023-08-10T10:34:25.714Z"
      },
      {
        "duration": 36,
        "start_time": "2023-08-10T10:34:29.903Z"
      },
      {
        "duration": 2,
        "start_time": "2023-08-10T10:34:55.552Z"
      },
      {
        "duration": 26,
        "start_time": "2023-08-10T10:34:55.908Z"
      },
      {
        "duration": 3,
        "start_time": "2023-08-10T10:35:01.472Z"
      },
      {
        "duration": 4,
        "start_time": "2023-08-10T10:35:01.943Z"
      },
      {
        "duration": 3,
        "start_time": "2023-08-10T10:35:44.079Z"
      },
      {
        "duration": 4,
        "start_time": "2023-08-10T10:36:03.320Z"
      },
      {
        "duration": 6,
        "start_time": "2023-08-10T10:36:05.314Z"
      },
      {
        "duration": 3,
        "start_time": "2023-08-10T10:36:39.682Z"
      },
      {
        "duration": 15,
        "start_time": "2023-08-10T10:36:40.106Z"
      },
      {
        "duration": 5,
        "start_time": "2023-08-10T10:36:44.929Z"
      },
      {
        "duration": 7,
        "start_time": "2023-08-10T10:36:47.619Z"
      },
      {
        "duration": 100,
        "start_time": "2023-08-10T10:38:32.443Z"
      },
      {
        "duration": 11,
        "start_time": "2023-08-10T10:38:35.285Z"
      },
      {
        "duration": 5,
        "start_time": "2023-08-10T10:38:42.619Z"
      },
      {
        "duration": 4,
        "start_time": "2023-08-10T10:38:43.976Z"
      },
      {
        "duration": 24,
        "start_time": "2023-08-10T10:39:35.299Z"
      },
      {
        "duration": 3,
        "start_time": "2023-08-10T10:41:44.961Z"
      },
      {
        "duration": 4,
        "start_time": "2023-08-10T10:41:45.520Z"
      },
      {
        "duration": 91,
        "start_time": "2023-08-10T10:41:46.380Z"
      },
      {
        "duration": 5,
        "start_time": "2023-08-10T10:42:06.092Z"
      },
      {
        "duration": 93,
        "start_time": "2023-08-10T10:43:36.577Z"
      },
      {
        "duration": 17,
        "start_time": "2023-08-10T10:43:41.906Z"
      },
      {
        "duration": 124,
        "start_time": "2023-08-10T10:43:58.130Z"
      },
      {
        "duration": 167,
        "start_time": "2023-08-10T10:44:07.183Z"
      },
      {
        "duration": 22326,
        "start_time": "2023-08-10T10:49:08.894Z"
      },
      {
        "duration": 8341,
        "start_time": "2023-08-10T10:49:44.072Z"
      },
      {
        "duration": 538,
        "start_time": "2023-08-10T10:50:26.363Z"
      },
      {
        "duration": 140,
        "start_time": "2023-08-10T10:50:29.220Z"
      },
      {
        "duration": 6,
        "start_time": "2023-08-10T10:50:44.172Z"
      },
      {
        "duration": 8,
        "start_time": "2023-08-10T10:56:20.640Z"
      },
      {
        "duration": 34,
        "start_time": "2023-08-10T10:58:41.956Z"
      },
      {
        "duration": 10,
        "start_time": "2023-08-10T10:59:25.982Z"
      },
      {
        "duration": 4,
        "start_time": "2023-08-10T11:00:58.678Z"
      },
      {
        "duration": 8,
        "start_time": "2023-08-10T11:04:05.934Z"
      },
      {
        "duration": 125132,
        "start_time": "2023-08-10T11:04:06.374Z"
      },
      {
        "duration": 14,
        "start_time": "2023-08-10T11:06:41.428Z"
      },
      {
        "duration": 41276,
        "start_time": "2023-08-10T11:09:21.545Z"
      },
      {
        "duration": 12,
        "start_time": "2023-08-10T11:11:35.487Z"
      },
      {
        "duration": 6,
        "start_time": "2023-08-10T11:11:55.078Z"
      },
      {
        "duration": 42539,
        "start_time": "2023-08-10T11:12:24.845Z"
      },
      {
        "duration": 16,
        "start_time": "2023-08-10T11:13:46.994Z"
      },
      {
        "duration": 8,
        "start_time": "2023-08-10T11:13:56.733Z"
      },
      {
        "duration": 863,
        "start_time": "2023-08-10T11:13:56.743Z"
      },
      {
        "duration": 30,
        "start_time": "2023-08-10T11:13:57.609Z"
      },
      {
        "duration": 170,
        "start_time": "2023-08-10T11:13:57.642Z"
      },
      {
        "duration": 22,
        "start_time": "2023-08-10T11:13:57.815Z"
      },
      {
        "duration": 25,
        "start_time": "2023-08-10T11:13:57.839Z"
      },
      {
        "duration": 11,
        "start_time": "2023-08-10T11:13:57.866Z"
      },
      {
        "duration": 13,
        "start_time": "2023-08-10T11:13:57.879Z"
      },
      {
        "duration": 29,
        "start_time": "2023-08-10T11:13:57.894Z"
      },
      {
        "duration": 122949,
        "start_time": "2023-08-10T11:14:34.202Z"
      },
      {
        "duration": 7,
        "start_time": "2023-08-10T11:16:45.582Z"
      },
      {
        "duration": 885,
        "start_time": "2023-08-10T11:16:45.592Z"
      },
      {
        "duration": 40,
        "start_time": "2023-08-10T11:16:46.480Z"
      },
      {
        "duration": 146,
        "start_time": "2023-08-10T11:16:46.526Z"
      },
      {
        "duration": 39,
        "start_time": "2023-08-10T11:16:46.675Z"
      },
      {
        "duration": 44,
        "start_time": "2023-08-10T11:16:46.720Z"
      },
      {
        "duration": 28,
        "start_time": "2023-08-10T11:16:46.766Z"
      },
      {
        "duration": 46,
        "start_time": "2023-08-10T11:16:46.796Z"
      },
      {
        "duration": 26,
        "start_time": "2023-08-10T11:16:46.844Z"
      },
      {
        "duration": 139376,
        "start_time": "2023-08-10T11:16:52.474Z"
      },
      {
        "duration": 16,
        "start_time": "2023-08-10T11:22:08.383Z"
      },
      {
        "duration": 3,
        "start_time": "2023-08-10T11:27:47.898Z"
      },
      {
        "duration": 255,
        "start_time": "2023-08-10T11:27:48.804Z"
      },
      {
        "duration": 9,
        "start_time": "2023-08-10T11:27:52.124Z"
      },
      {
        "duration": 250,
        "start_time": "2023-08-10T11:28:00.872Z"
      },
      {
        "duration": 33,
        "start_time": "2023-08-10T11:28:02.393Z"
      },
      {
        "duration": 11,
        "start_time": "2023-08-10T11:28:10.348Z"
      },
      {
        "duration": 21,
        "start_time": "2023-08-10T11:28:10.785Z"
      },
      {
        "duration": 11,
        "start_time": "2023-08-10T11:28:12.101Z"
      },
      {
        "duration": 14,
        "start_time": "2023-08-10T11:28:18.981Z"
      },
      {
        "duration": 2466,
        "start_time": "2023-08-10T11:28:38.264Z"
      },
      {
        "duration": 37825,
        "start_time": "2023-08-10T11:29:22.188Z"
      },
      {
        "duration": 11,
        "start_time": "2023-08-10T11:35:53.924Z"
      },
      {
        "duration": 233,
        "start_time": "2023-08-10T11:35:59.208Z"
      },
      {
        "duration": 300,
        "start_time": "2023-08-10T11:36:02.602Z"
      },
      {
        "duration": 151,
        "start_time": "2023-08-10T11:36:05.412Z"
      },
      {
        "duration": 15,
        "start_time": "2023-08-10T11:36:30.966Z"
      },
      {
        "duration": 2456,
        "start_time": "2023-08-10T11:37:15.199Z"
      },
      {
        "duration": 2631,
        "start_time": "2023-08-10T11:37:17.657Z"
      },
      {
        "duration": 36,
        "start_time": "2023-08-10T11:37:20.291Z"
      },
      {
        "duration": 149,
        "start_time": "2023-08-10T11:37:20.331Z"
      },
      {
        "duration": 31,
        "start_time": "2023-08-10T11:37:20.483Z"
      },
      {
        "duration": 25,
        "start_time": "2023-08-10T11:37:20.515Z"
      },
      {
        "duration": 40,
        "start_time": "2023-08-10T11:37:20.543Z"
      },
      {
        "duration": 58,
        "start_time": "2023-08-10T11:37:20.584Z"
      },
      {
        "duration": 53,
        "start_time": "2023-08-10T11:37:20.645Z"
      },
      {
        "duration": 139264,
        "start_time": "2023-08-10T11:37:20.701Z"
      },
      {
        "duration": 3,
        "start_time": "2023-08-10T11:39:39.967Z"
      },
      {
        "duration": 302,
        "start_time": "2023-08-10T11:39:39.972Z"
      },
      {
        "duration": 11,
        "start_time": "2023-08-10T11:39:40.277Z"
      },
      {
        "duration": 320,
        "start_time": "2023-08-10T11:39:40.292Z"
      },
      {
        "duration": 12,
        "start_time": "2023-08-10T11:39:40.614Z"
      },
      {
        "duration": 24,
        "start_time": "2023-08-10T11:39:40.629Z"
      },
      {
        "duration": 20,
        "start_time": "2023-08-10T11:39:40.655Z"
      },
      {
        "duration": 26,
        "start_time": "2023-08-10T11:39:40.677Z"
      },
      {
        "duration": 2350,
        "start_time": "2023-08-10T11:39:40.705Z"
      },
      {
        "duration": 42142,
        "start_time": "2023-08-10T11:40:45.573Z"
      },
      {
        "duration": 11,
        "start_time": "2023-08-10T11:41:33.873Z"
      },
      {
        "duration": 307,
        "start_time": "2023-08-10T11:41:36.303Z"
      },
      {
        "duration": 281,
        "start_time": "2023-08-10T11:41:37.431Z"
      },
      {
        "duration": 168,
        "start_time": "2023-08-10T11:41:37.919Z"
      },
      {
        "duration": 253184,
        "start_time": "2023-08-10T11:41:40.359Z"
      },
      {
        "duration": 11,
        "start_time": "2023-08-10T11:47:10.394Z"
      },
      {
        "duration": 613,
        "start_time": "2023-08-10T11:47:12.630Z"
      },
      {
        "duration": 268,
        "start_time": "2023-08-10T11:47:13.245Z"
      },
      {
        "duration": 148,
        "start_time": "2023-08-10T11:47:13.515Z"
      },
      {
        "duration": 2101,
        "start_time": "2023-08-10T15:37:47.090Z"
      },
      {
        "duration": 850,
        "start_time": "2023-08-10T15:37:49.194Z"
      },
      {
        "duration": 28,
        "start_time": "2023-08-10T15:37:50.046Z"
      },
      {
        "duration": 188,
        "start_time": "2023-08-10T15:37:50.078Z"
      },
      {
        "duration": 21,
        "start_time": "2023-08-10T15:37:50.268Z"
      },
      {
        "duration": 57,
        "start_time": "2023-08-10T15:37:50.291Z"
      },
      {
        "duration": 40,
        "start_time": "2023-08-10T15:37:50.351Z"
      },
      {
        "duration": 91,
        "start_time": "2023-08-10T15:37:50.393Z"
      },
      {
        "duration": 71,
        "start_time": "2023-08-10T15:37:50.486Z"
      },
      {
        "duration": 132196,
        "start_time": "2023-08-10T15:37:50.560Z"
      },
      {
        "duration": 4,
        "start_time": "2023-08-10T15:40:02.757Z"
      },
      {
        "duration": 232,
        "start_time": "2023-08-10T15:40:02.762Z"
      },
      {
        "duration": 18,
        "start_time": "2023-08-10T15:40:02.996Z"
      },
      {
        "duration": 244,
        "start_time": "2023-08-10T15:40:03.016Z"
      },
      {
        "duration": 11,
        "start_time": "2023-08-10T15:40:03.262Z"
      },
      {
        "duration": 75,
        "start_time": "2023-08-10T15:40:03.276Z"
      },
      {
        "duration": 31,
        "start_time": "2023-08-10T15:40:03.353Z"
      },
      {
        "duration": 53,
        "start_time": "2023-08-10T15:40:03.386Z"
      },
      {
        "duration": 2225,
        "start_time": "2023-08-10T15:41:06.072Z"
      },
      {
        "duration": 38026,
        "start_time": "2023-08-10T15:41:09.085Z"
      },
      {
        "duration": 10,
        "start_time": "2023-08-10T15:53:46.860Z"
      },
      {
        "duration": 243,
        "start_time": "2023-08-10T15:53:48.488Z"
      },
      {
        "duration": 318,
        "start_time": "2023-08-10T15:53:49.566Z"
      },
      {
        "duration": 155,
        "start_time": "2023-08-10T15:53:50.023Z"
      },
      {
        "duration": 251320,
        "start_time": "2023-08-10T15:53:51.476Z"
      },
      {
        "duration": 16,
        "start_time": "2023-08-10T15:58:18.797Z"
      },
      {
        "duration": 633,
        "start_time": "2023-08-10T15:58:19.596Z"
      },
      {
        "duration": 270,
        "start_time": "2023-08-10T15:58:20.231Z"
      },
      {
        "duration": 145,
        "start_time": "2023-08-10T15:58:20.583Z"
      },
      {
        "duration": 3671456,
        "start_time": "2023-08-10T15:58:21.506Z"
      },
      {
        "duration": 27,
        "start_time": "2023-08-10T17:03:11.852Z"
      },
      {
        "duration": 493,
        "start_time": "2023-08-10T17:03:17.438Z"
      },
      {
        "duration": 366,
        "start_time": "2023-08-10T17:03:19.287Z"
      },
      {
        "duration": 195,
        "start_time": "2023-08-10T17:03:21.096Z"
      },
      {
        "duration": 31,
        "start_time": "2023-08-10T17:03:24.914Z"
      },
      {
        "duration": 9524,
        "start_time": "2023-08-10T17:03:45.987Z"
      },
      {
        "duration": 16,
        "start_time": "2023-08-10T17:04:12.864Z"
      },
      {
        "duration": 412,
        "start_time": "2023-08-10T17:04:15.630Z"
      },
      {
        "duration": 9536,
        "start_time": "2023-08-10T17:04:21.105Z"
      },
      {
        "duration": 23,
        "start_time": "2023-08-10T17:05:15.606Z"
      },
      {
        "duration": 337,
        "start_time": "2023-08-10T17:05:18.077Z"
      },
      {
        "duration": 2847,
        "start_time": "2023-08-10T17:06:49.669Z"
      },
      {
        "duration": 3450,
        "start_time": "2023-08-10T17:06:52.523Z"
      },
      {
        "duration": 33,
        "start_time": "2023-08-10T17:06:55.976Z"
      },
      {
        "duration": 232,
        "start_time": "2023-08-10T17:06:56.017Z"
      },
      {
        "duration": 28,
        "start_time": "2023-08-10T17:06:56.258Z"
      },
      {
        "duration": 21,
        "start_time": "2023-08-10T17:06:56.289Z"
      },
      {
        "duration": 82,
        "start_time": "2023-08-10T17:06:56.317Z"
      },
      {
        "duration": 96,
        "start_time": "2023-08-10T17:06:56.402Z"
      },
      {
        "duration": 63,
        "start_time": "2023-08-10T17:06:56.501Z"
      },
      {
        "duration": 159004,
        "start_time": "2023-08-10T17:06:56.566Z"
      },
      {
        "duration": 3,
        "start_time": "2023-08-10T17:09:35.572Z"
      },
      {
        "duration": 275,
        "start_time": "2023-08-10T17:09:35.577Z"
      },
      {
        "duration": 14,
        "start_time": "2023-08-10T17:09:35.856Z"
      },
      {
        "duration": 309,
        "start_time": "2023-08-10T17:09:35.874Z"
      },
      {
        "duration": 15,
        "start_time": "2023-08-10T17:09:36.186Z"
      },
      {
        "duration": 113,
        "start_time": "2023-08-10T17:09:36.212Z"
      },
      {
        "duration": 42,
        "start_time": "2023-08-10T17:09:36.333Z"
      },
      {
        "duration": 42,
        "start_time": "2023-08-10T17:09:36.378Z"
      },
      {
        "duration": 2412,
        "start_time": "2023-08-10T17:09:36.422Z"
      },
      {
        "duration": 39489,
        "start_time": "2023-08-10T17:09:51.929Z"
      },
      {
        "duration": 229,
        "start_time": "2023-08-10T17:21:06.205Z"
      },
      {
        "duration": 2987,
        "start_time": "2023-08-10T17:26:25.600Z"
      },
      {
        "duration": 5053,
        "start_time": "2023-08-10T17:26:28.589Z"
      },
      {
        "duration": 44,
        "start_time": "2023-08-10T17:26:33.644Z"
      },
      {
        "duration": 196,
        "start_time": "2023-08-10T17:26:33.692Z"
      },
      {
        "duration": 31,
        "start_time": "2023-08-10T17:26:33.894Z"
      },
      {
        "duration": 77,
        "start_time": "2023-08-10T17:26:33.927Z"
      },
      {
        "duration": 81,
        "start_time": "2023-08-10T17:26:34.006Z"
      },
      {
        "duration": 8,
        "start_time": "2023-08-10T17:26:34.089Z"
      },
      {
        "duration": 68,
        "start_time": "2023-08-10T17:26:34.099Z"
      },
      {
        "duration": 176816,
        "start_time": "2023-08-10T17:26:34.172Z"
      },
      {
        "duration": 4,
        "start_time": "2023-08-10T17:29:30.991Z"
      },
      {
        "duration": 414,
        "start_time": "2023-08-10T17:29:30.997Z"
      },
      {
        "duration": 18,
        "start_time": "2023-08-10T17:29:31.413Z"
      },
      {
        "duration": 403,
        "start_time": "2023-08-10T17:29:31.435Z"
      },
      {
        "duration": 19,
        "start_time": "2023-08-10T17:29:31.841Z"
      },
      {
        "duration": 135,
        "start_time": "2023-08-10T17:29:31.863Z"
      },
      {
        "duration": 100,
        "start_time": "2023-08-10T17:29:32.000Z"
      },
      {
        "duration": 119,
        "start_time": "2023-08-10T17:29:32.102Z"
      },
      {
        "duration": 2929,
        "start_time": "2023-08-10T17:29:38.484Z"
      },
      {
        "duration": 94,
        "start_time": "2023-08-10T17:30:14.584Z"
      },
      {
        "duration": 4475,
        "start_time": "2023-08-10T17:30:30.338Z"
      },
      {
        "duration": 18,
        "start_time": "2023-08-10T17:30:44.852Z"
      },
      {
        "duration": 5759,
        "start_time": "2023-08-10T17:30:44.875Z"
      },
      {
        "duration": 42,
        "start_time": "2023-08-10T17:30:50.636Z"
      },
      {
        "duration": 306,
        "start_time": "2023-08-10T17:30:50.688Z"
      },
      {
        "duration": 41,
        "start_time": "2023-08-10T17:30:51.002Z"
      },
      {
        "duration": 31,
        "start_time": "2023-08-10T17:30:51.051Z"
      },
      {
        "duration": 24,
        "start_time": "2023-08-10T17:30:51.091Z"
      },
      {
        "duration": 65,
        "start_time": "2023-08-10T17:30:51.123Z"
      },
      {
        "duration": 23,
        "start_time": "2023-08-10T17:30:51.191Z"
      },
      {
        "duration": 178330,
        "start_time": "2023-08-10T17:30:51.217Z"
      },
      {
        "duration": 9,
        "start_time": "2023-08-10T17:33:49.553Z"
      },
      {
        "duration": 411,
        "start_time": "2023-08-10T17:33:49.576Z"
      },
      {
        "duration": 16,
        "start_time": "2023-08-10T17:33:49.992Z"
      },
      {
        "duration": 465,
        "start_time": "2023-08-10T17:33:50.019Z"
      },
      {
        "duration": 10,
        "start_time": "2023-08-10T17:33:50.486Z"
      },
      {
        "duration": 89,
        "start_time": "2023-08-10T17:33:50.499Z"
      },
      {
        "duration": 27,
        "start_time": "2023-08-10T17:33:50.591Z"
      },
      {
        "duration": 131,
        "start_time": "2023-08-10T17:33:50.621Z"
      },
      {
        "duration": 2761,
        "start_time": "2023-08-10T17:33:50.755Z"
      },
      {
        "duration": 59,
        "start_time": "2023-08-10T17:34:55.127Z"
      },
      {
        "duration": 5957,
        "start_time": "2023-08-10T17:37:15.974Z"
      },
      {
        "duration": 288,
        "start_time": "2023-08-10T17:37:47.036Z"
      },
      {
        "duration": 2951,
        "start_time": "2023-08-10T17:38:12.376Z"
      },
      {
        "duration": 348,
        "start_time": "2023-08-10T17:38:17.708Z"
      },
      {
        "duration": 3300,
        "start_time": "2023-08-10T17:39:28.514Z"
      },
      {
        "duration": 5894,
        "start_time": "2023-08-10T17:39:38.845Z"
      },
      {
        "duration": 3389,
        "start_time": "2023-08-10T17:39:54.827Z"
      },
      {
        "duration": 3473,
        "start_time": "2023-08-10T17:40:03.260Z"
      },
      {
        "duration": 6736,
        "start_time": "2023-08-10T17:40:20.508Z"
      },
      {
        "duration": 6538,
        "start_time": "2023-08-10T17:40:33.872Z"
      },
      {
        "duration": 3347,
        "start_time": "2023-08-10T17:40:50.388Z"
      },
      {
        "duration": 209,
        "start_time": "2023-08-10T17:41:13.255Z"
      },
      {
        "duration": 3646,
        "start_time": "2023-08-10T17:42:03.966Z"
      },
      {
        "duration": 93,
        "start_time": "2023-08-10T17:44:42.781Z"
      },
      {
        "duration": 2813,
        "start_time": "2023-08-10T17:45:19.337Z"
      },
      {
        "duration": 4202,
        "start_time": "2023-08-10T17:45:22.157Z"
      },
      {
        "duration": 33,
        "start_time": "2023-08-10T17:45:26.368Z"
      },
      {
        "duration": 197,
        "start_time": "2023-08-10T17:45:26.405Z"
      },
      {
        "duration": 62,
        "start_time": "2023-08-10T17:45:26.604Z"
      },
      {
        "duration": 65,
        "start_time": "2023-08-10T17:45:26.668Z"
      },
      {
        "duration": 41,
        "start_time": "2023-08-10T17:45:26.739Z"
      },
      {
        "duration": 17,
        "start_time": "2023-08-10T17:45:26.782Z"
      },
      {
        "duration": 40,
        "start_time": "2023-08-10T17:45:26.801Z"
      },
      {
        "duration": 162127,
        "start_time": "2023-08-10T17:45:26.847Z"
      },
      {
        "duration": 4,
        "start_time": "2023-08-10T17:48:08.976Z"
      },
      {
        "duration": 259,
        "start_time": "2023-08-10T17:48:08.982Z"
      },
      {
        "duration": 10,
        "start_time": "2023-08-10T17:48:09.248Z"
      },
      {
        "duration": 302,
        "start_time": "2023-08-10T17:48:09.261Z"
      },
      {
        "duration": 14,
        "start_time": "2023-08-10T17:48:09.566Z"
      },
      {
        "duration": 41,
        "start_time": "2023-08-10T17:48:09.582Z"
      },
      {
        "duration": 36,
        "start_time": "2023-08-10T17:48:09.627Z"
      },
      {
        "duration": 17,
        "start_time": "2023-08-10T17:48:09.665Z"
      },
      {
        "duration": 2316,
        "start_time": "2023-08-10T17:48:09.685Z"
      },
      {
        "duration": 72,
        "start_time": "2023-08-10T17:58:27.235Z"
      },
      {
        "duration": 2200,
        "start_time": "2023-08-11T14:17:21.494Z"
      },
      {
        "duration": 2301,
        "start_time": "2023-08-11T14:17:23.696Z"
      },
      {
        "duration": 22,
        "start_time": "2023-08-11T14:17:25.998Z"
      },
      {
        "duration": 199,
        "start_time": "2023-08-11T14:17:26.023Z"
      },
      {
        "duration": 29,
        "start_time": "2023-08-11T14:17:26.224Z"
      },
      {
        "duration": 32,
        "start_time": "2023-08-11T14:17:26.254Z"
      },
      {
        "duration": 11,
        "start_time": "2023-08-11T14:17:26.288Z"
      },
      {
        "duration": 14,
        "start_time": "2023-08-11T14:17:26.300Z"
      },
      {
        "duration": 13,
        "start_time": "2023-08-11T14:17:26.315Z"
      },
      {
        "duration": 237059,
        "start_time": "2023-08-11T14:17:26.330Z"
      },
      {
        "duration": 2,
        "start_time": "2023-08-11T14:21:23.391Z"
      },
      {
        "duration": 384,
        "start_time": "2023-08-11T14:21:23.395Z"
      },
      {
        "duration": 7,
        "start_time": "2023-08-11T14:21:23.781Z"
      },
      {
        "duration": 393,
        "start_time": "2023-08-11T14:21:23.790Z"
      },
      {
        "duration": 10,
        "start_time": "2023-08-11T14:21:24.184Z"
      },
      {
        "duration": 16,
        "start_time": "2023-08-11T14:21:24.196Z"
      },
      {
        "duration": 7,
        "start_time": "2023-08-11T14:21:24.213Z"
      },
      {
        "duration": 14,
        "start_time": "2023-08-11T14:21:24.238Z"
      },
      {
        "duration": 3904,
        "start_time": "2023-08-11T14:21:24.253Z"
      },
      {
        "duration": 183229,
        "start_time": "2023-08-11T14:21:44.393Z"
      },
      {
        "duration": 180790,
        "start_time": "2023-08-11T14:25:43.678Z"
      },
      {
        "duration": 2468,
        "start_time": "2023-08-11T14:43:00.520Z"
      },
      {
        "duration": 2395,
        "start_time": "2023-08-11T14:43:02.990Z"
      },
      {
        "duration": 144,
        "start_time": "2023-08-11T14:43:25.724Z"
      },
      {
        "duration": 14,
        "start_time": "2023-08-11T14:43:56.357Z"
      },
      {
        "duration": 875,
        "start_time": "2023-08-11T14:43:56.373Z"
      },
      {
        "duration": 18,
        "start_time": "2023-08-11T14:43:57.249Z"
      },
      {
        "duration": 214,
        "start_time": "2023-08-11T14:43:57.271Z"
      },
      {
        "duration": 24,
        "start_time": "2023-08-11T14:43:57.487Z"
      },
      {
        "duration": 13,
        "start_time": "2023-08-11T14:43:57.513Z"
      },
      {
        "duration": 19,
        "start_time": "2023-08-11T14:43:57.537Z"
      },
      {
        "duration": 24,
        "start_time": "2023-08-11T14:43:57.558Z"
      },
      {
        "duration": 15,
        "start_time": "2023-08-11T14:43:57.584Z"
      },
      {
        "duration": 234752,
        "start_time": "2023-08-11T14:43:57.602Z"
      },
      {
        "duration": 4,
        "start_time": "2023-08-11T14:47:52.355Z"
      },
      {
        "duration": 389,
        "start_time": "2023-08-11T14:47:52.361Z"
      },
      {
        "duration": 9,
        "start_time": "2023-08-11T14:47:52.751Z"
      },
      {
        "duration": 417,
        "start_time": "2023-08-11T14:47:52.762Z"
      },
      {
        "duration": 13,
        "start_time": "2023-08-11T14:47:53.181Z"
      },
      {
        "duration": 40,
        "start_time": "2023-08-11T14:47:53.195Z"
      },
      {
        "duration": 19,
        "start_time": "2023-08-11T14:47:53.237Z"
      },
      {
        "duration": 24,
        "start_time": "2023-08-11T14:47:53.258Z"
      },
      {
        "duration": 3935,
        "start_time": "2023-08-11T14:47:53.284Z"
      },
      {
        "duration": 168914,
        "start_time": "2023-08-11T14:47:57.220Z"
      },
      {
        "duration": 3271,
        "start_time": "2023-08-11T20:02:23.300Z"
      },
      {
        "duration": 2319,
        "start_time": "2023-08-11T20:02:26.574Z"
      },
      {
        "duration": 21,
        "start_time": "2023-08-11T20:02:28.895Z"
      },
      {
        "duration": 151,
        "start_time": "2023-08-11T20:02:28.919Z"
      },
      {
        "duration": 34,
        "start_time": "2023-08-11T20:02:29.072Z"
      },
      {
        "duration": 29,
        "start_time": "2023-08-11T20:02:29.109Z"
      },
      {
        "duration": 29,
        "start_time": "2023-08-11T20:02:29.140Z"
      },
      {
        "duration": 9,
        "start_time": "2023-08-11T20:02:29.171Z"
      },
      {
        "duration": 11,
        "start_time": "2023-08-11T20:02:29.182Z"
      },
      {
        "duration": 198436,
        "start_time": "2023-08-11T20:02:29.195Z"
      },
      {
        "duration": 3,
        "start_time": "2023-08-11T20:05:47.632Z"
      },
      {
        "duration": 328,
        "start_time": "2023-08-11T20:05:47.637Z"
      },
      {
        "duration": 9,
        "start_time": "2023-08-11T20:05:47.967Z"
      },
      {
        "duration": 342,
        "start_time": "2023-08-11T20:05:47.978Z"
      },
      {
        "duration": 11,
        "start_time": "2023-08-11T20:05:48.322Z"
      },
      {
        "duration": 24,
        "start_time": "2023-08-11T20:05:48.335Z"
      },
      {
        "duration": 7,
        "start_time": "2023-08-11T20:05:48.360Z"
      },
      {
        "duration": 72,
        "start_time": "2023-08-11T20:05:48.369Z"
      },
      {
        "duration": 3960,
        "start_time": "2023-08-11T20:05:48.443Z"
      },
      {
        "duration": 1868,
        "start_time": "2023-08-11T20:15:53.077Z"
      },
      {
        "duration": 2311,
        "start_time": "2023-08-11T20:15:54.947Z"
      },
      {
        "duration": 23,
        "start_time": "2023-08-11T20:15:57.260Z"
      },
      {
        "duration": 139,
        "start_time": "2023-08-11T20:15:57.286Z"
      },
      {
        "duration": 19,
        "start_time": "2023-08-11T20:15:57.427Z"
      },
      {
        "duration": 9,
        "start_time": "2023-08-11T20:15:57.447Z"
      },
      {
        "duration": 13,
        "start_time": "2023-08-11T20:15:57.458Z"
      },
      {
        "duration": 9,
        "start_time": "2023-08-11T20:15:57.473Z"
      },
      {
        "duration": 20,
        "start_time": "2023-08-11T20:15:57.483Z"
      },
      {
        "duration": 190589,
        "start_time": "2023-08-11T20:15:57.505Z"
      },
      {
        "duration": 3,
        "start_time": "2023-08-11T20:19:08.096Z"
      },
      {
        "duration": 316,
        "start_time": "2023-08-11T20:19:08.101Z"
      },
      {
        "duration": 8,
        "start_time": "2023-08-11T20:19:08.419Z"
      },
      {
        "duration": 320,
        "start_time": "2023-08-11T20:19:08.429Z"
      },
      {
        "duration": 12,
        "start_time": "2023-08-11T20:19:08.750Z"
      },
      {
        "duration": 21,
        "start_time": "2023-08-11T20:19:08.763Z"
      },
      {
        "duration": 13,
        "start_time": "2023-08-11T20:19:08.786Z"
      },
      {
        "duration": 16,
        "start_time": "2023-08-11T20:19:08.802Z"
      },
      {
        "duration": 3764,
        "start_time": "2023-08-11T20:19:08.820Z"
      },
      {
        "duration": 2041,
        "start_time": "2023-08-11T21:02:10.944Z"
      },
      {
        "duration": 2459,
        "start_time": "2023-08-11T21:02:12.988Z"
      },
      {
        "duration": 24,
        "start_time": "2023-08-11T21:02:15.448Z"
      },
      {
        "duration": 160,
        "start_time": "2023-08-11T21:02:15.479Z"
      },
      {
        "duration": 20,
        "start_time": "2023-08-11T21:02:15.641Z"
      },
      {
        "duration": 27,
        "start_time": "2023-08-11T21:02:15.663Z"
      },
      {
        "duration": 24,
        "start_time": "2023-08-11T21:02:15.692Z"
      },
      {
        "duration": 23,
        "start_time": "2023-08-11T21:02:15.718Z"
      },
      {
        "duration": 21,
        "start_time": "2023-08-11T21:02:15.743Z"
      },
      {
        "duration": 194987,
        "start_time": "2023-08-11T21:02:15.768Z"
      },
      {
        "duration": 3,
        "start_time": "2023-08-11T21:05:30.757Z"
      },
      {
        "duration": 366,
        "start_time": "2023-08-11T21:05:30.762Z"
      },
      {
        "duration": 10,
        "start_time": "2023-08-11T21:05:31.129Z"
      },
      {
        "duration": 366,
        "start_time": "2023-08-11T21:05:31.141Z"
      },
      {
        "duration": 12,
        "start_time": "2023-08-11T21:05:31.509Z"
      },
      {
        "duration": 34,
        "start_time": "2023-08-11T21:05:31.523Z"
      },
      {
        "duration": 22,
        "start_time": "2023-08-11T21:05:31.559Z"
      },
      {
        "duration": 27,
        "start_time": "2023-08-11T21:05:31.583Z"
      },
      {
        "duration": 3268,
        "start_time": "2023-08-11T21:05:31.612Z"
      },
      {
        "duration": 0,
        "start_time": "2023-08-11T21:05:34.882Z"
      },
      {
        "duration": 3910,
        "start_time": "2023-08-11T21:07:05.371Z"
      },
      {
        "duration": 2472,
        "start_time": "2023-08-12T08:17:39.800Z"
      },
      {
        "duration": 3366,
        "start_time": "2023-08-12T08:17:42.274Z"
      },
      {
        "duration": 24,
        "start_time": "2023-08-12T08:17:48.250Z"
      },
      {
        "duration": 24,
        "start_time": "2023-08-12T08:17:57.188Z"
      },
      {
        "duration": 168,
        "start_time": "2023-08-12T09:16:54.763Z"
      },
      {
        "duration": 18163,
        "start_time": "2023-08-12T09:17:30.338Z"
      },
      {
        "duration": 10739,
        "start_time": "2023-08-12T09:17:53.989Z"
      },
      {
        "duration": 853,
        "start_time": "2023-08-12T09:18:20.145Z"
      },
      {
        "duration": 21,
        "start_time": "2023-08-12T09:18:21.001Z"
      },
      {
        "duration": 23,
        "start_time": "2023-08-12T09:18:23.229Z"
      },
      {
        "duration": 844,
        "start_time": "2023-08-12T09:18:31.872Z"
      },
      {
        "duration": 24,
        "start_time": "2023-08-12T09:18:32.719Z"
      },
      {
        "duration": 799,
        "start_time": "2023-08-12T09:18:37.486Z"
      },
      {
        "duration": 27,
        "start_time": "2023-08-12T09:18:38.288Z"
      },
      {
        "duration": 162,
        "start_time": "2023-08-12T09:18:40.153Z"
      },
      {
        "duration": 41,
        "start_time": "2023-08-12T09:18:43.253Z"
      },
      {
        "duration": 7,
        "start_time": "2023-08-12T09:18:44.317Z"
      },
      {
        "duration": 6,
        "start_time": "2023-08-12T09:18:45.297Z"
      },
      {
        "duration": 7,
        "start_time": "2023-08-12T09:18:46.632Z"
      },
      {
        "duration": 11,
        "start_time": "2023-08-12T09:18:50.240Z"
      },
      {
        "duration": 4,
        "start_time": "2023-08-12T09:18:55.191Z"
      },
      {
        "duration": 221,
        "start_time": "2023-08-12T09:18:55.909Z"
      },
      {
        "duration": 13,
        "start_time": "2023-08-12T09:18:59.930Z"
      },
      {
        "duration": 244,
        "start_time": "2023-08-12T09:19:04.469Z"
      },
      {
        "duration": 12,
        "start_time": "2023-08-12T09:19:04.920Z"
      },
      {
        "duration": 20,
        "start_time": "2023-08-12T09:22:48.381Z"
      },
      {
        "duration": 155160,
        "start_time": "2023-08-12T09:23:10.772Z"
      },
      {
        "duration": 20,
        "start_time": "2023-08-12T09:26:23.132Z"
      },
      {
        "duration": 15703,
        "start_time": "2023-08-12T10:38:10.351Z"
      },
      {
        "duration": 8877,
        "start_time": "2023-08-12T10:38:26.056Z"
      },
      {
        "duration": 0,
        "start_time": "2023-08-12T10:38:34.936Z"
      },
      {
        "duration": 0,
        "start_time": "2023-08-12T10:38:34.938Z"
      },
      {
        "duration": 0,
        "start_time": "2023-08-12T10:38:34.939Z"
      },
      {
        "duration": 0,
        "start_time": "2023-08-12T10:38:34.940Z"
      },
      {
        "duration": 0,
        "start_time": "2023-08-12T10:38:34.941Z"
      },
      {
        "duration": 0,
        "start_time": "2023-08-12T10:38:34.942Z"
      },
      {
        "duration": 0,
        "start_time": "2023-08-12T10:38:34.943Z"
      },
      {
        "duration": 0,
        "start_time": "2023-08-12T10:38:34.944Z"
      },
      {
        "duration": 0,
        "start_time": "2023-08-12T10:38:34.945Z"
      },
      {
        "duration": 0,
        "start_time": "2023-08-12T10:38:34.946Z"
      },
      {
        "duration": 0,
        "start_time": "2023-08-12T10:38:34.947Z"
      },
      {
        "duration": 3,
        "start_time": "2023-08-12T10:45:56.234Z"
      },
      {
        "duration": 9,
        "start_time": "2023-08-12T10:46:27.482Z"
      },
      {
        "duration": 2002,
        "start_time": "2023-08-12T10:46:38.550Z"
      },
      {
        "duration": 464,
        "start_time": "2023-08-12T10:46:40.554Z"
      },
      {
        "duration": 2394,
        "start_time": "2023-08-12T10:46:41.019Z"
      },
      {
        "duration": 16,
        "start_time": "2023-08-12T10:46:43.415Z"
      },
      {
        "duration": 124,
        "start_time": "2023-08-12T10:46:43.434Z"
      },
      {
        "duration": 13,
        "start_time": "2023-08-12T10:46:43.560Z"
      },
      {
        "duration": 25,
        "start_time": "2023-08-12T10:46:43.574Z"
      },
      {
        "duration": 8,
        "start_time": "2023-08-12T10:46:43.600Z"
      },
      {
        "duration": 6,
        "start_time": "2023-08-12T10:46:43.610Z"
      },
      {
        "duration": 10,
        "start_time": "2023-08-12T10:46:43.618Z"
      },
      {
        "duration": 2,
        "start_time": "2023-08-12T10:46:43.638Z"
      },
      {
        "duration": 227,
        "start_time": "2023-08-12T10:46:43.641Z"
      },
      {
        "duration": 123264,
        "start_time": "2023-08-12T10:46:43.869Z"
      },
      {
        "duration": 9,
        "start_time": "2023-08-12T10:48:47.135Z"
      },
      {
        "duration": 68,
        "start_time": "2023-08-12T10:48:47.146Z"
      },
      {
        "duration": 12,
        "start_time": "2023-08-12T10:48:49.609Z"
      },
      {
        "duration": 2078,
        "start_time": "2023-08-12T11:02:44.355Z"
      },
      {
        "duration": 13,
        "start_time": "2023-08-12T11:02:46.435Z"
      },
      {
        "duration": 810,
        "start_time": "2023-08-12T11:02:46.449Z"
      },
      {
        "duration": 15,
        "start_time": "2023-08-12T11:02:47.260Z"
      },
      {
        "duration": 136,
        "start_time": "2023-08-12T11:02:47.278Z"
      },
      {
        "duration": 26,
        "start_time": "2023-08-12T11:02:47.416Z"
      },
      {
        "duration": 13,
        "start_time": "2023-08-12T11:02:47.443Z"
      },
      {
        "duration": 8,
        "start_time": "2023-08-12T11:02:47.457Z"
      },
      {
        "duration": 12,
        "start_time": "2023-08-12T11:02:47.467Z"
      },
      {
        "duration": 16,
        "start_time": "2023-08-12T11:02:47.481Z"
      },
      {
        "duration": 3,
        "start_time": "2023-08-12T11:02:47.498Z"
      },
      {
        "duration": 219,
        "start_time": "2023-08-12T11:02:47.503Z"
      },
      {
        "duration": 124087,
        "start_time": "2023-08-12T11:02:47.723Z"
      },
      {
        "duration": 3,
        "start_time": "2023-08-12T11:04:51.812Z"
      },
      {
        "duration": 104,
        "start_time": "2023-08-12T11:04:51.816Z"
      },
      {
        "duration": 11,
        "start_time": "2023-08-12T11:04:51.922Z"
      },
      {
        "duration": 12,
        "start_time": "2023-08-12T11:05:08.996Z"
      },
      {
        "duration": 110,
        "start_time": "2023-08-12T11:05:15.406Z"
      },
      {
        "duration": 13,
        "start_time": "2023-08-12T11:05:17.507Z"
      },
      {
        "duration": 2221,
        "start_time": "2023-08-12T11:05:36.233Z"
      },
      {
        "duration": 9,
        "start_time": "2023-08-12T11:05:38.457Z"
      },
      {
        "duration": 878,
        "start_time": "2023-08-12T11:05:38.467Z"
      },
      {
        "duration": 19,
        "start_time": "2023-08-12T11:05:39.347Z"
      },
      {
        "duration": 149,
        "start_time": "2023-08-12T11:05:39.371Z"
      },
      {
        "duration": 19,
        "start_time": "2023-08-12T11:05:39.521Z"
      },
      {
        "duration": 9,
        "start_time": "2023-08-12T11:05:39.542Z"
      },
      {
        "duration": 10,
        "start_time": "2023-08-12T11:05:39.553Z"
      },
      {
        "duration": 11,
        "start_time": "2023-08-12T11:05:39.564Z"
      },
      {
        "duration": 13,
        "start_time": "2023-08-12T11:05:39.577Z"
      },
      {
        "duration": 10,
        "start_time": "2023-08-12T11:05:39.592Z"
      },
      {
        "duration": 262,
        "start_time": "2023-08-12T11:05:39.604Z"
      },
      {
        "duration": 125043,
        "start_time": "2023-08-12T11:05:39.867Z"
      },
      {
        "duration": 2,
        "start_time": "2023-08-12T11:07:44.912Z"
      },
      {
        "duration": 53,
        "start_time": "2023-08-12T11:07:44.916Z"
      },
      {
        "duration": 11,
        "start_time": "2023-08-12T11:07:59.507Z"
      },
      {
        "duration": 9,
        "start_time": "2023-08-12T11:08:03.109Z"
      },
      {
        "duration": 7,
        "start_time": "2023-08-12T11:08:03.423Z"
      },
      {
        "duration": 2029,
        "start_time": "2023-08-12T11:11:56.528Z"
      },
      {
        "duration": 9,
        "start_time": "2023-08-12T11:11:58.560Z"
      },
      {
        "duration": 817,
        "start_time": "2023-08-12T11:11:58.570Z"
      },
      {
        "duration": 16,
        "start_time": "2023-08-12T11:11:59.388Z"
      },
      {
        "duration": 131,
        "start_time": "2023-08-12T11:11:59.408Z"
      },
      {
        "duration": 14,
        "start_time": "2023-08-12T11:11:59.541Z"
      },
      {
        "duration": 11,
        "start_time": "2023-08-12T11:11:59.556Z"
      },
      {
        "duration": 7,
        "start_time": "2023-08-12T11:11:59.569Z"
      },
      {
        "duration": 24,
        "start_time": "2023-08-12T11:11:59.577Z"
      },
      {
        "duration": 17,
        "start_time": "2023-08-12T11:11:59.603Z"
      },
      {
        "duration": 3,
        "start_time": "2023-08-12T11:11:59.621Z"
      },
      {
        "duration": 213,
        "start_time": "2023-08-12T11:11:59.626Z"
      },
      {
        "duration": 124526,
        "start_time": "2023-08-12T11:11:59.841Z"
      },
      {
        "duration": 2,
        "start_time": "2023-08-12T11:14:04.370Z"
      },
      {
        "duration": 52,
        "start_time": "2023-08-12T11:14:04.373Z"
      },
      {
        "duration": 11,
        "start_time": "2023-08-12T11:14:04.427Z"
      },
      {
        "duration": 226,
        "start_time": "2023-08-12T11:14:04.439Z"
      },
      {
        "duration": 9,
        "start_time": "2023-08-12T11:14:04.666Z"
      },
      {
        "duration": 25,
        "start_time": "2023-08-12T11:14:04.676Z"
      },
      {
        "duration": 10,
        "start_time": "2023-08-12T11:14:33.621Z"
      },
      {
        "duration": 1981,
        "start_time": "2023-08-12T11:14:37.262Z"
      },
      {
        "duration": 1949,
        "start_time": "2023-08-12T11:15:19.869Z"
      },
      {
        "duration": 10926,
        "start_time": "2023-08-12T11:15:21.820Z"
      },
      {
        "duration": 2213,
        "start_time": "2023-08-12T11:15:32.747Z"
      },
      {
        "duration": 16,
        "start_time": "2023-08-12T11:15:34.961Z"
      },
      {
        "duration": 121,
        "start_time": "2023-08-12T11:15:34.980Z"
      },
      {
        "duration": 15,
        "start_time": "2023-08-12T11:15:35.102Z"
      },
      {
        "duration": 24,
        "start_time": "2023-08-12T11:15:35.118Z"
      },
      {
        "duration": 33,
        "start_time": "2023-08-12T11:15:35.145Z"
      },
      {
        "duration": 12,
        "start_time": "2023-08-12T11:15:35.180Z"
      },
      {
        "duration": 11,
        "start_time": "2023-08-12T11:15:35.193Z"
      },
      {
        "duration": 2,
        "start_time": "2023-08-12T11:15:35.205Z"
      },
      {
        "duration": 210,
        "start_time": "2023-08-12T11:15:35.209Z"
      },
      {
        "duration": 124240,
        "start_time": "2023-08-12T11:15:35.421Z"
      },
      {
        "duration": 2,
        "start_time": "2023-08-12T11:17:39.664Z"
      },
      {
        "duration": 40,
        "start_time": "2023-08-12T11:17:39.668Z"
      },
      {
        "duration": 11,
        "start_time": "2023-08-12T11:17:39.709Z"
      },
      {
        "duration": 226,
        "start_time": "2023-08-12T11:17:39.738Z"
      },
      {
        "duration": 9,
        "start_time": "2023-08-12T11:17:39.966Z"
      },
      {
        "duration": 45,
        "start_time": "2023-08-12T11:17:39.977Z"
      },
      {
        "duration": 7,
        "start_time": "2023-08-12T11:17:45.812Z"
      },
      {
        "duration": 10,
        "start_time": "2023-08-12T11:17:52.332Z"
      },
      {
        "duration": 1944,
        "start_time": "2023-08-12T11:17:56.274Z"
      },
      {
        "duration": 50,
        "start_time": "2023-08-12T12:06:03.292Z"
      },
      {
        "duration": 2173,
        "start_time": "2023-08-12T12:06:08.537Z"
      },
      {
        "duration": 10491,
        "start_time": "2023-08-12T12:06:10.712Z"
      },
      {
        "duration": 2215,
        "start_time": "2023-08-12T12:06:21.205Z"
      },
      {
        "duration": 14,
        "start_time": "2023-08-12T12:06:23.421Z"
      },
      {
        "duration": 124,
        "start_time": "2023-08-12T12:06:23.438Z"
      },
      {
        "duration": 13,
        "start_time": "2023-08-12T12:06:23.563Z"
      },
      {
        "duration": 14,
        "start_time": "2023-08-12T12:06:23.577Z"
      },
      {
        "duration": 10,
        "start_time": "2023-08-12T12:06:23.592Z"
      },
      {
        "duration": 22,
        "start_time": "2023-08-12T12:06:23.603Z"
      },
      {
        "duration": 9,
        "start_time": "2023-08-12T12:06:23.627Z"
      },
      {
        "duration": 5,
        "start_time": "2023-08-12T12:06:23.637Z"
      },
      {
        "duration": 207,
        "start_time": "2023-08-12T12:06:23.643Z"
      },
      {
        "duration": 123536,
        "start_time": "2023-08-12T12:06:23.851Z"
      },
      {
        "duration": 2,
        "start_time": "2023-08-12T12:08:27.390Z"
      },
      {
        "duration": 47,
        "start_time": "2023-08-12T12:08:27.393Z"
      },
      {
        "duration": 10,
        "start_time": "2023-08-12T12:08:27.441Z"
      },
      {
        "duration": 210,
        "start_time": "2023-08-12T12:08:27.452Z"
      },
      {
        "duration": 8,
        "start_time": "2023-08-12T12:08:27.663Z"
      },
      {
        "duration": 13,
        "start_time": "2023-08-12T12:08:27.673Z"
      },
      {
        "duration": 1572,
        "start_time": "2023-08-12T12:08:27.687Z"
      },
      {
        "duration": 0,
        "start_time": "2023-08-12T12:08:29.260Z"
      },
      {
        "duration": 0,
        "start_time": "2023-08-12T12:08:29.261Z"
      },
      {
        "duration": 0,
        "start_time": "2023-08-12T12:08:29.262Z"
      },
      {
        "duration": 0,
        "start_time": "2023-08-12T12:08:29.263Z"
      },
      {
        "duration": 0,
        "start_time": "2023-08-12T12:08:29.264Z"
      },
      {
        "duration": 0,
        "start_time": "2023-08-12T12:08:29.265Z"
      },
      {
        "duration": 0,
        "start_time": "2023-08-12T12:08:29.266Z"
      },
      {
        "duration": 0,
        "start_time": "2023-08-12T12:08:29.267Z"
      },
      {
        "duration": 8,
        "start_time": "2023-08-12T12:09:26.628Z"
      },
      {
        "duration": 1998,
        "start_time": "2023-08-12T12:09:34.203Z"
      },
      {
        "duration": 6,
        "start_time": "2023-08-12T12:09:36.204Z"
      },
      {
        "duration": 783,
        "start_time": "2023-08-12T12:09:36.212Z"
      },
      {
        "duration": 15,
        "start_time": "2023-08-12T12:09:36.996Z"
      },
      {
        "duration": 112,
        "start_time": "2023-08-12T12:09:37.013Z"
      },
      {
        "duration": 15,
        "start_time": "2023-08-12T12:09:37.138Z"
      },
      {
        "duration": 18,
        "start_time": "2023-08-12T12:09:37.154Z"
      },
      {
        "duration": 6,
        "start_time": "2023-08-12T12:09:37.173Z"
      },
      {
        "duration": 10,
        "start_time": "2023-08-12T12:09:37.180Z"
      },
      {
        "duration": 10,
        "start_time": "2023-08-12T12:09:37.192Z"
      },
      {
        "duration": 3,
        "start_time": "2023-08-12T12:09:37.203Z"
      },
      {
        "duration": 215,
        "start_time": "2023-08-12T12:09:37.207Z"
      },
      {
        "duration": 123307,
        "start_time": "2023-08-12T12:09:37.423Z"
      },
      {
        "duration": 6,
        "start_time": "2023-08-12T12:11:40.732Z"
      },
      {
        "duration": 37,
        "start_time": "2023-08-12T12:11:40.739Z"
      },
      {
        "duration": 10,
        "start_time": "2023-08-12T12:11:40.778Z"
      },
      {
        "duration": 227,
        "start_time": "2023-08-12T12:11:40.789Z"
      },
      {
        "duration": 8,
        "start_time": "2023-08-12T12:11:41.017Z"
      },
      {
        "duration": 22,
        "start_time": "2023-08-12T12:11:41.026Z"
      },
      {
        "duration": 1465,
        "start_time": "2023-08-12T12:11:41.049Z"
      },
      {
        "duration": 0,
        "start_time": "2023-08-12T12:11:42.515Z"
      },
      {
        "duration": 0,
        "start_time": "2023-08-12T12:11:42.516Z"
      },
      {
        "duration": 0,
        "start_time": "2023-08-12T12:11:42.517Z"
      },
      {
        "duration": 0,
        "start_time": "2023-08-12T12:11:42.518Z"
      },
      {
        "duration": 1,
        "start_time": "2023-08-12T12:11:42.519Z"
      },
      {
        "duration": 0,
        "start_time": "2023-08-12T12:11:42.520Z"
      },
      {
        "duration": 0,
        "start_time": "2023-08-12T12:11:42.522Z"
      },
      {
        "duration": 0,
        "start_time": "2023-08-12T12:11:42.523Z"
      },
      {
        "duration": 9,
        "start_time": "2023-08-12T12:12:51.727Z"
      },
      {
        "duration": 1985,
        "start_time": "2023-08-12T12:13:29.888Z"
      },
      {
        "duration": 8,
        "start_time": "2023-08-12T12:13:31.876Z"
      },
      {
        "duration": 911,
        "start_time": "2023-08-12T12:13:31.886Z"
      },
      {
        "duration": 17,
        "start_time": "2023-08-12T12:13:32.798Z"
      },
      {
        "duration": 161,
        "start_time": "2023-08-12T12:13:32.820Z"
      },
      {
        "duration": 13,
        "start_time": "2023-08-12T12:13:32.983Z"
      },
      {
        "duration": 88,
        "start_time": "2023-08-12T12:13:32.998Z"
      },
      {
        "duration": 30,
        "start_time": "2023-08-12T12:13:33.088Z"
      },
      {
        "duration": 23,
        "start_time": "2023-08-12T12:13:33.120Z"
      },
      {
        "duration": 25,
        "start_time": "2023-08-12T12:13:33.144Z"
      },
      {
        "duration": 4,
        "start_time": "2023-08-12T12:13:33.171Z"
      },
      {
        "duration": 240,
        "start_time": "2023-08-12T12:13:33.176Z"
      },
      {
        "duration": 123593,
        "start_time": "2023-08-12T12:13:33.417Z"
      },
      {
        "duration": 2,
        "start_time": "2023-08-12T12:15:37.013Z"
      },
      {
        "duration": 42,
        "start_time": "2023-08-12T12:15:37.017Z"
      },
      {
        "duration": 10,
        "start_time": "2023-08-12T12:15:37.061Z"
      },
      {
        "duration": 239,
        "start_time": "2023-08-12T12:15:37.072Z"
      },
      {
        "duration": 9,
        "start_time": "2023-08-12T12:15:37.313Z"
      },
      {
        "duration": 14,
        "start_time": "2023-08-12T12:15:37.324Z"
      },
      {
        "duration": 15,
        "start_time": "2023-08-12T12:16:47.954Z"
      },
      {
        "duration": 6,
        "start_time": "2023-08-12T12:16:52.714Z"
      },
      {
        "duration": 6,
        "start_time": "2023-08-12T12:17:03.118Z"
      },
      {
        "duration": 2006,
        "start_time": "2023-08-12T12:17:11.297Z"
      },
      {
        "duration": 2098,
        "start_time": "2023-08-12T12:20:14.215Z"
      },
      {
        "duration": 10717,
        "start_time": "2023-08-12T12:20:16.314Z"
      },
      {
        "duration": 2178,
        "start_time": "2023-08-12T12:20:27.032Z"
      },
      {
        "duration": 19,
        "start_time": "2023-08-12T12:20:29.212Z"
      },
      {
        "duration": 120,
        "start_time": "2023-08-12T12:20:29.235Z"
      },
      {
        "duration": 13,
        "start_time": "2023-08-12T12:20:29.357Z"
      },
      {
        "duration": 13,
        "start_time": "2023-08-12T12:20:29.372Z"
      },
      {
        "duration": 11,
        "start_time": "2023-08-12T12:20:29.387Z"
      },
      {
        "duration": 8,
        "start_time": "2023-08-12T12:20:29.400Z"
      },
      {
        "duration": 15,
        "start_time": "2023-08-12T12:20:29.409Z"
      },
      {
        "duration": 2,
        "start_time": "2023-08-12T12:20:29.425Z"
      },
      {
        "duration": 214,
        "start_time": "2023-08-12T12:20:29.428Z"
      },
      {
        "duration": 124071,
        "start_time": "2023-08-12T12:20:29.644Z"
      },
      {
        "duration": 2,
        "start_time": "2023-08-12T12:22:33.718Z"
      },
      {
        "duration": 45,
        "start_time": "2023-08-12T12:22:33.722Z"
      },
      {
        "duration": 11,
        "start_time": "2023-08-12T12:22:33.769Z"
      },
      {
        "duration": 218,
        "start_time": "2023-08-12T12:22:33.781Z"
      },
      {
        "duration": 7,
        "start_time": "2023-08-12T12:22:34.001Z"
      },
      {
        "duration": 49,
        "start_time": "2023-08-12T12:22:34.009Z"
      },
      {
        "duration": 14,
        "start_time": "2023-08-12T12:25:38.943Z"
      },
      {
        "duration": 2113,
        "start_time": "2023-08-12T12:25:44.197Z"
      },
      {
        "duration": 2013,
        "start_time": "2023-08-12T12:27:39.815Z"
      },
      {
        "duration": 11227,
        "start_time": "2023-08-12T12:27:41.830Z"
      },
      {
        "duration": 2255,
        "start_time": "2023-08-12T12:27:53.059Z"
      },
      {
        "duration": 16,
        "start_time": "2023-08-12T12:27:55.315Z"
      },
      {
        "duration": 115,
        "start_time": "2023-08-12T12:27:55.334Z"
      },
      {
        "duration": 12,
        "start_time": "2023-08-12T12:27:55.450Z"
      },
      {
        "duration": 26,
        "start_time": "2023-08-12T12:27:55.464Z"
      },
      {
        "duration": 7,
        "start_time": "2023-08-12T12:27:55.492Z"
      },
      {
        "duration": 10,
        "start_time": "2023-08-12T12:27:55.500Z"
      },
      {
        "duration": 13,
        "start_time": "2023-08-12T12:27:55.511Z"
      },
      {
        "duration": 16,
        "start_time": "2023-08-12T12:27:55.525Z"
      },
      {
        "duration": 217,
        "start_time": "2023-08-12T12:27:55.542Z"
      },
      {
        "duration": 123443,
        "start_time": "2023-08-12T12:27:55.760Z"
      },
      {
        "duration": 3,
        "start_time": "2023-08-12T12:29:59.205Z"
      },
      {
        "duration": 42,
        "start_time": "2023-08-12T12:29:59.209Z"
      },
      {
        "duration": 11,
        "start_time": "2023-08-12T12:29:59.252Z"
      },
      {
        "duration": 229,
        "start_time": "2023-08-12T12:29:59.265Z"
      },
      {
        "duration": 10,
        "start_time": "2023-08-12T12:29:59.495Z"
      },
      {
        "duration": 14,
        "start_time": "2023-08-12T12:29:59.506Z"
      },
      {
        "duration": 14,
        "start_time": "2023-08-12T12:31:09.377Z"
      },
      {
        "duration": 2248,
        "start_time": "2023-08-12T12:31:13.065Z"
      },
      {
        "duration": 29501,
        "start_time": "2023-08-12T12:31:45.148Z"
      },
      {
        "duration": 9,
        "start_time": "2023-08-12T12:32:20.795Z"
      },
      {
        "duration": 211,
        "start_time": "2023-08-12T12:32:23.727Z"
      },
      {
        "duration": 3390,
        "start_time": "2023-08-12T12:32:35.399Z"
      },
      {
        "duration": 3329,
        "start_time": "2023-08-12T12:32:43.710Z"
      },
      {
        "duration": 2549,
        "start_time": "2023-08-12T12:32:59.190Z"
      },
      {
        "duration": 49,
        "start_time": "2023-08-12T12:42:13.162Z"
      },
      {
        "duration": 1990,
        "start_time": "2023-08-12T12:42:48.838Z"
      },
      {
        "duration": 11227,
        "start_time": "2023-08-12T12:42:50.830Z"
      },
      {
        "duration": 2221,
        "start_time": "2023-08-12T12:43:02.059Z"
      },
      {
        "duration": 14,
        "start_time": "2023-08-12T12:43:04.282Z"
      },
      {
        "duration": 110,
        "start_time": "2023-08-12T12:43:04.298Z"
      },
      {
        "duration": 29,
        "start_time": "2023-08-12T12:43:04.410Z"
      },
      {
        "duration": 15,
        "start_time": "2023-08-12T12:43:04.441Z"
      },
      {
        "duration": 20,
        "start_time": "2023-08-12T12:43:04.457Z"
      },
      {
        "duration": 11,
        "start_time": "2023-08-12T12:43:04.479Z"
      },
      {
        "duration": 16,
        "start_time": "2023-08-12T12:43:04.494Z"
      },
      {
        "duration": 3,
        "start_time": "2023-08-12T12:43:04.512Z"
      },
      {
        "duration": 231,
        "start_time": "2023-08-12T12:43:04.517Z"
      },
      {
        "duration": 125114,
        "start_time": "2023-08-12T12:43:04.749Z"
      },
      {
        "duration": 2,
        "start_time": "2023-08-12T12:45:09.865Z"
      },
      {
        "duration": 39,
        "start_time": "2023-08-12T12:45:09.869Z"
      },
      {
        "duration": 11,
        "start_time": "2023-08-12T12:45:09.910Z"
      },
      {
        "duration": 228,
        "start_time": "2023-08-12T12:45:09.922Z"
      },
      {
        "duration": 9,
        "start_time": "2023-08-12T12:45:10.151Z"
      },
      {
        "duration": 10,
        "start_time": "2023-08-12T12:45:10.161Z"
      },
      {
        "duration": 16,
        "start_time": "2023-08-12T12:45:32.304Z"
      },
      {
        "duration": 2053,
        "start_time": "2023-08-12T12:46:28.476Z"
      },
      {
        "duration": 2073,
        "start_time": "2023-08-12T12:59:28.221Z"
      },
      {
        "duration": 11253,
        "start_time": "2023-08-12T12:59:30.296Z"
      },
      {
        "duration": 2275,
        "start_time": "2023-08-12T12:59:41.551Z"
      },
      {
        "duration": 16,
        "start_time": "2023-08-12T12:59:43.827Z"
      },
      {
        "duration": 126,
        "start_time": "2023-08-12T12:59:43.846Z"
      },
      {
        "duration": 13,
        "start_time": "2023-08-12T12:59:43.974Z"
      },
      {
        "duration": 14,
        "start_time": "2023-08-12T12:59:43.988Z"
      },
      {
        "duration": 9,
        "start_time": "2023-08-12T12:59:44.003Z"
      },
      {
        "duration": 6,
        "start_time": "2023-08-12T12:59:44.013Z"
      },
      {
        "duration": 28,
        "start_time": "2023-08-12T12:59:44.021Z"
      },
      {
        "duration": 3,
        "start_time": "2023-08-12T12:59:44.051Z"
      },
      {
        "duration": 241,
        "start_time": "2023-08-12T12:59:44.056Z"
      },
      {
        "duration": 126404,
        "start_time": "2023-08-12T12:59:44.298Z"
      },
      {
        "duration": 3,
        "start_time": "2023-08-12T13:01:50.704Z"
      },
      {
        "duration": 66,
        "start_time": "2023-08-12T13:01:50.709Z"
      },
      {
        "duration": 12,
        "start_time": "2023-08-12T13:01:50.777Z"
      },
      {
        "duration": 252,
        "start_time": "2023-08-12T13:01:50.790Z"
      },
      {
        "duration": 8,
        "start_time": "2023-08-12T13:01:51.044Z"
      },
      {
        "duration": 11,
        "start_time": "2023-08-12T13:01:51.054Z"
      },
      {
        "duration": 2102,
        "start_time": "2023-08-12T14:24:35.650Z"
      },
      {
        "duration": 167,
        "start_time": "2023-08-12T14:24:37.754Z"
      },
      {
        "duration": 816,
        "start_time": "2023-08-12T14:24:37.922Z"
      },
      {
        "duration": 18,
        "start_time": "2023-08-12T14:24:38.739Z"
      },
      {
        "duration": 122,
        "start_time": "2023-08-12T14:24:38.760Z"
      },
      {
        "duration": 12,
        "start_time": "2023-08-12T14:24:38.884Z"
      },
      {
        "duration": 167,
        "start_time": "2023-08-12T14:24:38.898Z"
      },
      {
        "duration": 16,
        "start_time": "2023-08-12T14:24:39.066Z"
      },
      {
        "duration": 6,
        "start_time": "2023-08-12T14:24:39.084Z"
      },
      {
        "duration": 10,
        "start_time": "2023-08-12T14:24:39.091Z"
      },
      {
        "duration": 2,
        "start_time": "2023-08-12T14:24:39.103Z"
      },
      {
        "duration": 237,
        "start_time": "2023-08-12T14:24:39.107Z"
      },
      {
        "duration": 133986,
        "start_time": "2023-08-12T14:24:39.346Z"
      },
      {
        "duration": 3,
        "start_time": "2023-08-12T14:26:53.335Z"
      },
      {
        "duration": 55,
        "start_time": "2023-08-12T14:26:53.339Z"
      },
      {
        "duration": 12,
        "start_time": "2023-08-12T14:26:53.395Z"
      },
      {
        "duration": 239,
        "start_time": "2023-08-12T14:26:53.408Z"
      },
      {
        "duration": 10,
        "start_time": "2023-08-12T14:26:53.650Z"
      },
      {
        "duration": 36,
        "start_time": "2023-08-12T14:26:53.661Z"
      },
      {
        "duration": 25,
        "start_time": "2023-08-12T14:27:20.676Z"
      },
      {
        "duration": 2092,
        "start_time": "2023-08-12T14:27:23.579Z"
      },
      {
        "duration": 23911,
        "start_time": "2023-08-12T15:52:53.703Z"
      },
      {
        "duration": 10804,
        "start_time": "2023-08-12T15:53:17.617Z"
      },
      {
        "duration": 0,
        "start_time": "2023-08-12T15:53:28.423Z"
      },
      {
        "duration": 0,
        "start_time": "2023-08-12T15:53:28.425Z"
      },
      {
        "duration": 0,
        "start_time": "2023-08-12T15:53:28.426Z"
      },
      {
        "duration": 0,
        "start_time": "2023-08-12T15:53:28.428Z"
      },
      {
        "duration": 0,
        "start_time": "2023-08-12T15:53:28.429Z"
      },
      {
        "duration": 0,
        "start_time": "2023-08-12T15:53:28.430Z"
      },
      {
        "duration": 0,
        "start_time": "2023-08-12T15:53:28.431Z"
      },
      {
        "duration": 0,
        "start_time": "2023-08-12T15:53:28.432Z"
      },
      {
        "duration": 0,
        "start_time": "2023-08-12T15:53:28.434Z"
      },
      {
        "duration": 0,
        "start_time": "2023-08-12T15:53:28.435Z"
      },
      {
        "duration": 0,
        "start_time": "2023-08-12T15:53:28.437Z"
      },
      {
        "duration": 0,
        "start_time": "2023-08-12T15:53:28.438Z"
      },
      {
        "duration": 0,
        "start_time": "2023-08-12T15:53:28.439Z"
      },
      {
        "duration": 0,
        "start_time": "2023-08-12T15:53:28.439Z"
      },
      {
        "duration": 0,
        "start_time": "2023-08-12T15:53:28.441Z"
      },
      {
        "duration": 0,
        "start_time": "2023-08-12T15:53:28.441Z"
      },
      {
        "duration": 0,
        "start_time": "2023-08-12T15:53:28.442Z"
      },
      {
        "duration": 14,
        "start_time": "2023-08-12T15:54:54.376Z"
      },
      {
        "duration": 2345,
        "start_time": "2023-08-12T15:55:06.544Z"
      },
      {
        "duration": 660,
        "start_time": "2023-08-12T15:55:08.892Z"
      },
      {
        "duration": 2553,
        "start_time": "2023-08-12T15:55:09.553Z"
      },
      {
        "duration": 27,
        "start_time": "2023-08-12T15:55:12.108Z"
      },
      {
        "duration": 166,
        "start_time": "2023-08-12T15:55:12.139Z"
      },
      {
        "duration": 23,
        "start_time": "2023-08-12T15:55:12.307Z"
      },
      {
        "duration": 30,
        "start_time": "2023-08-12T15:55:12.332Z"
      },
      {
        "duration": 13,
        "start_time": "2023-08-12T15:55:12.364Z"
      },
      {
        "duration": 9,
        "start_time": "2023-08-12T15:55:12.379Z"
      },
      {
        "duration": 12,
        "start_time": "2023-08-12T15:55:12.390Z"
      },
      {
        "duration": 3,
        "start_time": "2023-08-12T15:55:12.404Z"
      },
      {
        "duration": 267,
        "start_time": "2023-08-12T15:55:12.409Z"
      },
      {
        "duration": 146464,
        "start_time": "2023-08-12T15:55:12.678Z"
      },
      {
        "duration": 3,
        "start_time": "2023-08-12T15:57:39.145Z"
      },
      {
        "duration": 53,
        "start_time": "2023-08-12T15:57:39.159Z"
      },
      {
        "duration": 13,
        "start_time": "2023-08-12T15:57:39.214Z"
      },
      {
        "duration": 241,
        "start_time": "2023-08-12T15:57:39.229Z"
      },
      {
        "duration": 14,
        "start_time": "2023-08-12T15:57:39.472Z"
      },
      {
        "duration": 7,
        "start_time": "2023-08-12T15:57:39.488Z"
      },
      {
        "duration": 17,
        "start_time": "2023-08-12T16:02:17.119Z"
      },
      {
        "duration": 18,
        "start_time": "2023-08-12T16:02:21.164Z"
      },
      {
        "duration": 2484,
        "start_time": "2023-08-12T16:02:24.370Z"
      },
      {
        "duration": 2252,
        "start_time": "2023-08-12T16:02:38.572Z"
      },
      {
        "duration": 2329,
        "start_time": "2023-08-12T16:10:07.757Z"
      },
      {
        "duration": 13218,
        "start_time": "2023-08-12T16:10:10.089Z"
      },
      {
        "duration": 2292,
        "start_time": "2023-08-12T16:10:23.309Z"
      },
      {
        "duration": 23,
        "start_time": "2023-08-12T16:10:25.603Z"
      },
      {
        "duration": 153,
        "start_time": "2023-08-12T16:10:25.629Z"
      },
      {
        "duration": 18,
        "start_time": "2023-08-12T16:10:25.784Z"
      },
      {
        "duration": 9,
        "start_time": "2023-08-12T16:10:25.804Z"
      },
      {
        "duration": 11,
        "start_time": "2023-08-12T16:10:25.815Z"
      },
      {
        "duration": 506,
        "start_time": "2023-08-12T16:10:25.827Z"
      },
      {
        "duration": 17,
        "start_time": "2023-08-12T16:10:26.336Z"
      },
      {
        "duration": 11,
        "start_time": "2023-08-12T16:10:26.354Z"
      },
      {
        "duration": 230,
        "start_time": "2023-08-12T16:10:26.367Z"
      },
      {
        "duration": 140777,
        "start_time": "2023-08-12T16:10:26.598Z"
      },
      {
        "duration": 3,
        "start_time": "2023-08-12T16:12:47.377Z"
      },
      {
        "duration": 52,
        "start_time": "2023-08-12T16:12:47.382Z"
      },
      {
        "duration": 12,
        "start_time": "2023-08-12T16:12:47.436Z"
      },
      {
        "duration": 223,
        "start_time": "2023-08-12T16:12:47.459Z"
      },
      {
        "duration": 13,
        "start_time": "2023-08-12T16:12:47.684Z"
      },
      {
        "duration": 13,
        "start_time": "2023-08-12T16:12:47.699Z"
      },
      {
        "duration": 15,
        "start_time": "2023-08-12T16:12:47.715Z"
      },
      {
        "duration": 2291,
        "start_time": "2023-08-12T16:12:54.882Z"
      },
      {
        "duration": 50,
        "start_time": "2023-08-12T16:14:48.053Z"
      },
      {
        "duration": 2287,
        "start_time": "2023-08-12T16:21:17.361Z"
      },
      {
        "duration": 12783,
        "start_time": "2023-08-12T16:21:19.651Z"
      },
      {
        "duration": 2214,
        "start_time": "2023-08-12T16:21:32.437Z"
      },
      {
        "duration": 24,
        "start_time": "2023-08-12T16:21:34.654Z"
      },
      {
        "duration": 147,
        "start_time": "2023-08-12T16:21:34.683Z"
      },
      {
        "duration": 28,
        "start_time": "2023-08-12T16:21:34.831Z"
      },
      {
        "duration": 6,
        "start_time": "2023-08-12T16:21:34.862Z"
      },
      {
        "duration": 10,
        "start_time": "2023-08-12T16:21:34.870Z"
      },
      {
        "duration": 13,
        "start_time": "2023-08-12T16:21:34.882Z"
      },
      {
        "duration": 16,
        "start_time": "2023-08-12T16:21:34.898Z"
      },
      {
        "duration": 12,
        "start_time": "2023-08-12T16:21:34.916Z"
      },
      {
        "duration": 241,
        "start_time": "2023-08-12T16:21:34.932Z"
      },
      {
        "duration": 141294,
        "start_time": "2023-08-12T16:21:35.175Z"
      },
      {
        "duration": 3,
        "start_time": "2023-08-12T16:23:56.471Z"
      },
      {
        "duration": 51,
        "start_time": "2023-08-12T16:23:56.476Z"
      },
      {
        "duration": 13,
        "start_time": "2023-08-12T16:23:56.529Z"
      },
      {
        "duration": 253,
        "start_time": "2023-08-12T16:23:56.544Z"
      },
      {
        "duration": 17,
        "start_time": "2023-08-12T16:23:56.799Z"
      },
      {
        "duration": 25,
        "start_time": "2023-08-12T16:23:56.818Z"
      },
      {
        "duration": 18,
        "start_time": "2023-08-12T16:24:06.661Z"
      },
      {
        "duration": 2362,
        "start_time": "2023-08-12T16:24:11.696Z"
      },
      {
        "duration": 46627,
        "start_time": "2023-08-12T16:24:22.935Z"
      },
      {
        "duration": 13,
        "start_time": "2023-08-12T16:28:07.975Z"
      },
      {
        "duration": 248,
        "start_time": "2023-08-12T16:28:12.213Z"
      },
      {
        "duration": 300,
        "start_time": "2023-08-12T16:28:14.411Z"
      },
      {
        "duration": 142,
        "start_time": "2023-08-12T16:28:17.082Z"
      },
      {
        "duration": 2371,
        "start_time": "2023-08-12T18:23:20.254Z"
      },
      {
        "duration": 13607,
        "start_time": "2023-08-12T18:23:22.628Z"
      },
      {
        "duration": 2389,
        "start_time": "2023-08-12T18:23:36.236Z"
      },
      {
        "duration": 30,
        "start_time": "2023-08-12T18:23:38.627Z"
      },
      {
        "duration": 160,
        "start_time": "2023-08-12T18:23:38.662Z"
      },
      {
        "duration": 19,
        "start_time": "2023-08-12T18:23:38.824Z"
      },
      {
        "duration": 9,
        "start_time": "2023-08-12T18:23:38.860Z"
      },
      {
        "duration": 7,
        "start_time": "2023-08-12T18:23:38.871Z"
      },
      {
        "duration": 11,
        "start_time": "2023-08-12T18:23:38.880Z"
      },
      {
        "duration": 19,
        "start_time": "2023-08-12T18:23:38.893Z"
      },
      {
        "duration": 4,
        "start_time": "2023-08-12T18:23:38.915Z"
      },
      {
        "duration": 251,
        "start_time": "2023-08-12T18:23:38.921Z"
      },
      {
        "duration": 151641,
        "start_time": "2023-08-12T18:23:39.174Z"
      },
      {
        "duration": 3,
        "start_time": "2023-08-12T18:26:10.818Z"
      },
      {
        "duration": 61,
        "start_time": "2023-08-12T18:26:10.823Z"
      },
      {
        "duration": 13,
        "start_time": "2023-08-12T18:26:10.886Z"
      },
      {
        "duration": 236,
        "start_time": "2023-08-12T18:26:10.901Z"
      },
      {
        "duration": 20,
        "start_time": "2023-08-12T18:26:11.139Z"
      },
      {
        "duration": 12,
        "start_time": "2023-08-12T18:26:11.161Z"
      },
      {
        "duration": 2566,
        "start_time": "2023-08-12T18:32:14.497Z"
      },
      {
        "duration": 11,
        "start_time": "2023-08-12T18:32:17.067Z"
      },
      {
        "duration": 918,
        "start_time": "2023-08-12T18:32:17.081Z"
      },
      {
        "duration": 35,
        "start_time": "2023-08-12T18:32:18.002Z"
      },
      {
        "duration": 203,
        "start_time": "2023-08-12T18:32:18.042Z"
      },
      {
        "duration": 26,
        "start_time": "2023-08-12T18:32:18.262Z"
      },
      {
        "duration": 21,
        "start_time": "2023-08-12T18:32:18.290Z"
      },
      {
        "duration": 21,
        "start_time": "2023-08-12T18:32:18.313Z"
      },
      {
        "duration": 16,
        "start_time": "2023-08-12T18:32:18.337Z"
      },
      {
        "duration": 57,
        "start_time": "2023-08-12T18:32:18.356Z"
      },
      {
        "duration": 11,
        "start_time": "2023-08-12T18:32:18.416Z"
      },
      {
        "duration": 314,
        "start_time": "2023-08-12T18:32:18.430Z"
      },
      {
        "duration": 155633,
        "start_time": "2023-08-12T18:32:18.746Z"
      },
      {
        "duration": 3,
        "start_time": "2023-08-12T18:34:54.381Z"
      },
      {
        "duration": 111,
        "start_time": "2023-08-12T18:34:54.386Z"
      },
      {
        "duration": 9,
        "start_time": "2023-08-12T18:34:54.499Z"
      },
      {
        "duration": 252,
        "start_time": "2023-08-12T18:34:54.510Z"
      },
      {
        "duration": 155,
        "start_time": "2023-08-12T18:34:54.767Z"
      },
      {
        "duration": 0,
        "start_time": "2023-08-12T18:34:54.923Z"
      },
      {
        "duration": 0,
        "start_time": "2023-08-12T18:34:54.925Z"
      },
      {
        "duration": 7,
        "start_time": "2023-08-12T18:35:47.590Z"
      },
      {
        "duration": 4,
        "start_time": "2023-08-12T18:37:58.092Z"
      },
      {
        "duration": 16,
        "start_time": "2023-08-12T18:41:03.833Z"
      },
      {
        "duration": 14,
        "start_time": "2023-08-12T18:41:22.189Z"
      },
      {
        "duration": 16,
        "start_time": "2023-08-12T18:41:24.382Z"
      },
      {
        "duration": 16,
        "start_time": "2023-08-12T18:41:29.822Z"
      },
      {
        "duration": 8,
        "start_time": "2023-08-12T18:41:42.526Z"
      },
      {
        "duration": 12,
        "start_time": "2023-08-12T18:46:47.224Z"
      },
      {
        "duration": 20,
        "start_time": "2023-08-12T18:46:58.741Z"
      },
      {
        "duration": 4,
        "start_time": "2023-08-12T18:47:04.683Z"
      },
      {
        "duration": 13,
        "start_time": "2023-08-12T18:47:05.525Z"
      },
      {
        "duration": 14,
        "start_time": "2023-08-12T18:47:12.320Z"
      },
      {
        "duration": 23,
        "start_time": "2023-08-12T18:47:43.318Z"
      },
      {
        "duration": 18,
        "start_time": "2023-08-12T18:48:14.917Z"
      },
      {
        "duration": 9087,
        "start_time": "2023-08-12T18:48:35.767Z"
      },
      {
        "duration": 41,
        "start_time": "2023-08-12T18:48:48.281Z"
      },
      {
        "duration": 2571,
        "start_time": "2023-08-12T18:50:04.334Z"
      },
      {
        "duration": 2703,
        "start_time": "2023-08-12T18:50:06.908Z"
      },
      {
        "duration": 63,
        "start_time": "2023-08-12T18:50:28.161Z"
      },
      {
        "duration": 2294,
        "start_time": "2023-08-12T18:50:45.979Z"
      },
      {
        "duration": 2569,
        "start_time": "2023-08-12T18:50:49.450Z"
      },
      {
        "duration": 13293,
        "start_time": "2023-08-12T18:50:53.632Z"
      },
      {
        "duration": 865,
        "start_time": "2023-08-12T18:51:09.802Z"
      },
      {
        "duration": 28,
        "start_time": "2023-08-12T18:51:10.670Z"
      },
      {
        "duration": 162,
        "start_time": "2023-08-12T18:51:12.016Z"
      },
      {
        "duration": 21,
        "start_time": "2023-08-12T18:51:12.880Z"
      },
      {
        "duration": 6,
        "start_time": "2023-08-12T18:51:13.709Z"
      },
      {
        "duration": 7,
        "start_time": "2023-08-12T18:51:14.475Z"
      },
      {
        "duration": 9,
        "start_time": "2023-08-12T18:51:14.875Z"
      },
      {
        "duration": 18,
        "start_time": "2023-08-12T18:51:16.207Z"
      },
      {
        "duration": 4,
        "start_time": "2023-08-12T18:51:19.348Z"
      },
      {
        "duration": 262,
        "start_time": "2023-08-12T18:51:19.825Z"
      },
      {
        "duration": 156263,
        "start_time": "2023-08-12T18:51:20.771Z"
      },
      {
        "duration": 3,
        "start_time": "2023-08-12T18:53:57.036Z"
      },
      {
        "duration": 103,
        "start_time": "2023-08-12T18:53:57.041Z"
      },
      {
        "duration": 11,
        "start_time": "2023-08-12T18:53:57.147Z"
      },
      {
        "duration": 261,
        "start_time": "2023-08-12T18:53:57.161Z"
      },
      {
        "duration": 10,
        "start_time": "2023-08-12T18:53:57.424Z"
      },
      {
        "duration": 31,
        "start_time": "2023-08-12T18:53:57.437Z"
      },
      {
        "duration": 10,
        "start_time": "2023-08-12T18:53:57.473Z"
      },
      {
        "duration": 24,
        "start_time": "2023-08-12T18:53:57.486Z"
      },
      {
        "duration": 3,
        "start_time": "2023-08-12T18:53:57.512Z"
      },
      {
        "duration": 6,
        "start_time": "2023-08-12T18:53:57.517Z"
      },
      {
        "duration": 4,
        "start_time": "2023-08-12T18:54:16.475Z"
      },
      {
        "duration": 159546,
        "start_time": "2023-08-12T18:54:17.276Z"
      },
      {
        "duration": 99,
        "start_time": "2023-08-12T18:56:56.825Z"
      },
      {
        "duration": 0,
        "start_time": "2023-08-12T18:56:56.926Z"
      },
      {
        "duration": 0,
        "start_time": "2023-08-12T18:58:30.889Z"
      },
      {
        "duration": 14,
        "start_time": "2023-08-12T18:58:36.189Z"
      },
      {
        "duration": 3,
        "start_time": "2023-08-12T18:58:55.850Z"
      },
      {
        "duration": 4,
        "start_time": "2023-08-12T18:58:59.206Z"
      },
      {
        "duration": 4,
        "start_time": "2023-08-12T18:59:02.503Z"
      },
      {
        "duration": 80306,
        "start_time": "2023-08-12T18:59:06.237Z"
      },
      {
        "duration": 19,
        "start_time": "2023-08-12T19:02:22.735Z"
      },
      {
        "duration": 62,
        "start_time": "2023-08-12T19:02:46.291Z"
      },
      {
        "duration": 60,
        "start_time": "2023-08-12T19:03:35.181Z"
      },
      {
        "duration": 15,
        "start_time": "2023-08-12T19:04:49.602Z"
      },
      {
        "duration": 77,
        "start_time": "2023-08-12T19:05:49.825Z"
      },
      {
        "duration": 293,
        "start_time": "2023-08-12T19:06:04.348Z"
      },
      {
        "duration": 156,
        "start_time": "2023-08-12T19:06:13.195Z"
      },
      {
        "duration": 20,
        "start_time": "2023-08-12T19:10:11.034Z"
      },
      {
        "duration": 11,
        "start_time": "2023-08-12T19:11:18.301Z"
      },
      {
        "duration": 46955,
        "start_time": "2023-08-12T19:11:27.527Z"
      },
      {
        "duration": 12,
        "start_time": "2023-08-12T19:15:00.176Z"
      },
      {
        "duration": 15,
        "start_time": "2023-08-12T19:16:54.525Z"
      },
      {
        "duration": 4,
        "start_time": "2023-08-12T19:17:40.746Z"
      },
      {
        "duration": 15,
        "start_time": "2023-08-12T19:17:42.727Z"
      },
      {
        "duration": 4,
        "start_time": "2023-08-12T19:17:51.786Z"
      },
      {
        "duration": 22,
        "start_time": "2023-08-12T19:17:52.754Z"
      },
      {
        "duration": 4,
        "start_time": "2023-08-12T19:18:09.913Z"
      },
      {
        "duration": 96770,
        "start_time": "2023-08-12T19:22:25.140Z"
      },
      {
        "duration": 196,
        "start_time": "2023-08-12T19:25:02.569Z"
      },
      {
        "duration": 14,
        "start_time": "2023-08-12T19:25:43.019Z"
      },
      {
        "duration": 182,
        "start_time": "2023-08-12T19:26:03.697Z"
      },
      {
        "duration": 308,
        "start_time": "2023-08-12T19:26:12.677Z"
      },
      {
        "duration": 150,
        "start_time": "2023-08-12T19:26:14.001Z"
      },
      {
        "duration": 182,
        "start_time": "2023-08-12T19:26:20.402Z"
      },
      {
        "duration": 14,
        "start_time": "2023-08-12T19:28:44.180Z"
      },
      {
        "duration": 90561,
        "start_time": "2023-08-12T19:29:05.079Z"
      },
      {
        "duration": 101,
        "start_time": "2023-08-12T19:32:21.785Z"
      },
      {
        "duration": 22,
        "start_time": "2023-08-12T19:32:45.515Z"
      },
      {
        "duration": 68,
        "start_time": "2023-08-12T19:33:02.279Z"
      },
      {
        "duration": 299,
        "start_time": "2023-08-12T19:33:21.952Z"
      },
      {
        "duration": 154,
        "start_time": "2023-08-12T19:33:26.853Z"
      },
      {
        "duration": 13,
        "start_time": "2023-08-12T19:33:36.744Z"
      },
      {
        "duration": 6,
        "start_time": "2023-08-12T19:37:21.272Z"
      },
      {
        "duration": 71,
        "start_time": "2023-08-12T19:45:21.167Z"
      },
      {
        "duration": 6,
        "start_time": "2023-08-12T19:49:04.537Z"
      },
      {
        "duration": 60438,
        "start_time": "2023-08-12T19:50:10.242Z"
      },
      {
        "duration": 10208,
        "start_time": "2023-08-12T19:53:33.897Z"
      },
      {
        "duration": 4,
        "start_time": "2023-08-12T19:55:14.525Z"
      },
      {
        "duration": 3097,
        "start_time": "2023-08-12T19:55:23.225Z"
      },
      {
        "duration": 93,
        "start_time": "2023-08-12T19:55:38.246Z"
      },
      {
        "duration": 75525,
        "start_time": "2023-08-12T19:57:09.586Z"
      },
      {
        "duration": 82,
        "start_time": "2023-08-12T19:58:30.543Z"
      },
      {
        "duration": 168,
        "start_time": "2023-08-12T20:21:49.779Z"
      },
      {
        "duration": 224826,
        "start_time": "2023-08-12T20:24:49.287Z"
      },
      {
        "duration": 74324,
        "start_time": "2023-08-12T20:28:37.937Z"
      },
      {
        "duration": 122566,
        "start_time": "2023-08-12T20:30:52.532Z"
      },
      {
        "duration": 83,
        "start_time": "2023-08-12T20:33:11.749Z"
      },
      {
        "duration": 297,
        "start_time": "2023-08-12T20:33:14.379Z"
      },
      {
        "duration": 195,
        "start_time": "2023-08-12T20:33:15.800Z"
      },
      {
        "duration": 21,
        "start_time": "2023-08-12T20:33:20.557Z"
      },
      {
        "duration": 21,
        "start_time": "2023-08-12T20:37:06.987Z"
      },
      {
        "duration": 3567,
        "start_time": "2023-08-12T20:37:28.439Z"
      },
      {
        "duration": 8,
        "start_time": "2023-08-12T20:38:09.956Z"
      },
      {
        "duration": 4,
        "start_time": "2023-08-12T20:38:10.428Z"
      },
      {
        "duration": 2628,
        "start_time": "2023-08-12T20:39:39.889Z"
      },
      {
        "duration": 2530,
        "start_time": "2023-08-12T20:39:42.519Z"
      },
      {
        "duration": 15,
        "start_time": "2023-08-12T20:39:45.051Z"
      },
      {
        "duration": 961,
        "start_time": "2023-08-12T20:39:45.068Z"
      },
      {
        "duration": 43,
        "start_time": "2023-08-12T20:39:46.031Z"
      },
      {
        "duration": 137,
        "start_time": "2023-08-12T20:39:46.091Z"
      },
      {
        "duration": 46,
        "start_time": "2023-08-12T20:39:46.230Z"
      },
      {
        "duration": 20,
        "start_time": "2023-08-12T20:39:46.289Z"
      },
      {
        "duration": 15,
        "start_time": "2023-08-12T20:39:46.312Z"
      },
      {
        "duration": 10,
        "start_time": "2023-08-12T20:39:46.329Z"
      },
      {
        "duration": 24,
        "start_time": "2023-08-12T20:39:46.342Z"
      },
      {
        "duration": 3,
        "start_time": "2023-08-12T20:39:46.368Z"
      },
      {
        "duration": 287,
        "start_time": "2023-08-12T20:39:46.380Z"
      },
      {
        "duration": 9460,
        "start_time": "2023-08-12T20:39:46.671Z"
      },
      {
        "duration": 0,
        "start_time": "2023-08-12T20:39:56.133Z"
      },
      {
        "duration": 0,
        "start_time": "2023-08-12T20:39:56.135Z"
      },
      {
        "duration": 0,
        "start_time": "2023-08-12T20:39:56.136Z"
      },
      {
        "duration": 0,
        "start_time": "2023-08-12T20:39:56.138Z"
      },
      {
        "duration": 0,
        "start_time": "2023-08-12T20:39:56.140Z"
      },
      {
        "duration": 0,
        "start_time": "2023-08-12T20:39:56.142Z"
      },
      {
        "duration": 0,
        "start_time": "2023-08-12T20:39:56.143Z"
      },
      {
        "duration": 0,
        "start_time": "2023-08-12T20:39:56.145Z"
      },
      {
        "duration": 2695,
        "start_time": "2023-08-12T20:40:05.850Z"
      },
      {
        "duration": 2675,
        "start_time": "2023-08-12T20:40:08.550Z"
      },
      {
        "duration": 10,
        "start_time": "2023-08-12T20:40:11.227Z"
      },
      {
        "duration": 995,
        "start_time": "2023-08-12T20:40:11.240Z"
      },
      {
        "duration": 23,
        "start_time": "2023-08-12T20:40:16.952Z"
      },
      {
        "duration": 23,
        "start_time": "2023-08-12T20:40:39.600Z"
      },
      {
        "duration": 50,
        "start_time": "2023-08-12T20:40:45.347Z"
      },
      {
        "duration": 2845,
        "start_time": "2023-08-12T20:40:51.776Z"
      },
      {
        "duration": 3008,
        "start_time": "2023-08-12T20:40:54.625Z"
      },
      {
        "duration": 16,
        "start_time": "2023-08-12T20:40:57.636Z"
      },
      {
        "duration": 1078,
        "start_time": "2023-08-12T20:40:57.655Z"
      },
      {
        "duration": 49,
        "start_time": "2023-08-12T20:40:58.737Z"
      },
      {
        "duration": 312,
        "start_time": "2023-08-12T20:40:58.792Z"
      },
      {
        "duration": 36,
        "start_time": "2023-08-12T20:40:59.106Z"
      },
      {
        "duration": 79,
        "start_time": "2023-08-12T20:40:59.144Z"
      },
      {
        "duration": 74,
        "start_time": "2023-08-12T20:40:59.225Z"
      },
      {
        "duration": 23,
        "start_time": "2023-08-12T20:40:59.301Z"
      },
      {
        "duration": 89,
        "start_time": "2023-08-12T20:40:59.327Z"
      },
      {
        "duration": 8,
        "start_time": "2023-08-12T20:40:59.418Z"
      },
      {
        "duration": 514,
        "start_time": "2023-08-12T20:40:59.428Z"
      },
      {
        "duration": 350032,
        "start_time": "2023-08-12T20:40:59.944Z"
      },
      {
        "duration": 3,
        "start_time": "2023-08-12T20:46:49.979Z"
      },
      {
        "duration": 308,
        "start_time": "2023-08-12T20:46:49.984Z"
      },
      {
        "duration": 20,
        "start_time": "2023-08-12T20:46:50.296Z"
      },
      {
        "duration": 633,
        "start_time": "2023-08-12T20:46:50.319Z"
      },
      {
        "duration": 42,
        "start_time": "2023-08-12T20:46:50.955Z"
      },
      {
        "duration": 34,
        "start_time": "2023-08-12T20:46:51.005Z"
      },
      {
        "duration": 10,
        "start_time": "2023-08-12T20:46:51.041Z"
      },
      {
        "duration": 69,
        "start_time": "2023-08-12T20:46:51.054Z"
      },
      {
        "duration": 10,
        "start_time": "2023-08-12T20:47:26.681Z"
      },
      {
        "duration": 281825,
        "start_time": "2023-08-12T20:47:29.944Z"
      },
      {
        "duration": 472272,
        "start_time": "2023-08-12T20:56:25.929Z"
      },
      {
        "duration": 32,
        "start_time": "2023-08-12T21:04:27.514Z"
      },
      {
        "duration": 14,
        "start_time": "2023-08-12T21:05:34.857Z"
      },
      {
        "duration": 5,
        "start_time": "2023-08-12T21:05:49.106Z"
      },
      {
        "duration": 43,
        "start_time": "2023-08-12T21:06:26.775Z"
      },
      {
        "duration": 168,
        "start_time": "2023-08-12T21:07:14.942Z"
      },
      {
        "duration": 30,
        "start_time": "2023-08-12T21:07:17.841Z"
      },
      {
        "duration": 18236,
        "start_time": "2023-08-12T21:07:24.438Z"
      },
      {
        "duration": 621767,
        "start_time": "2023-08-12T21:08:08.326Z"
      },
      {
        "duration": 386,
        "start_time": "2023-08-12T21:18:43.007Z"
      },
      {
        "duration": 22,
        "start_time": "2023-08-12T21:18:55.117Z"
      },
      {
        "duration": 595,
        "start_time": "2023-08-12T21:19:01.037Z"
      },
      {
        "duration": 419,
        "start_time": "2023-08-12T21:19:21.794Z"
      },
      {
        "duration": 172,
        "start_time": "2023-08-12T21:19:23.453Z"
      },
      {
        "duration": 269507,
        "start_time": "2023-08-12T21:20:57.110Z"
      },
      {
        "duration": 0,
        "start_time": "2023-08-12T21:25:26.622Z"
      },
      {
        "duration": 126,
        "start_time": "2023-08-12T21:25:31.415Z"
      },
      {
        "duration": 57,
        "start_time": "2023-08-12T21:25:41.824Z"
      },
      {
        "duration": 96711,
        "start_time": "2023-08-12T21:25:46.911Z"
      },
      {
        "duration": 369091,
        "start_time": "2023-08-12T21:27:31.784Z"
      },
      {
        "duration": 16,
        "start_time": "2023-08-12T21:33:52.218Z"
      },
      {
        "duration": 131,
        "start_time": "2023-08-12T21:34:07.607Z"
      },
      {
        "duration": 360,
        "start_time": "2023-08-12T21:34:12.538Z"
      },
      {
        "duration": 160,
        "start_time": "2023-08-12T21:34:13.895Z"
      },
      {
        "duration": 347055,
        "start_time": "2023-08-12T21:34:36.243Z"
      },
      {
        "duration": 196,
        "start_time": "2023-08-12T21:40:23.302Z"
      },
      {
        "duration": 22,
        "start_time": "2023-08-12T21:40:23.500Z"
      },
      {
        "duration": 15,
        "start_time": "2023-08-12T21:40:32.932Z"
      },
      {
        "duration": 155,
        "start_time": "2023-08-12T21:40:34.850Z"
      },
      {
        "duration": 282,
        "start_time": "2023-08-12T21:40:36.508Z"
      },
      {
        "duration": 172,
        "start_time": "2023-08-12T21:40:37.822Z"
      },
      {
        "duration": 13,
        "start_time": "2023-08-12T21:40:43.906Z"
      },
      {
        "duration": 551914,
        "start_time": "2023-08-12T21:41:19.822Z"
      },
      {
        "duration": 35,
        "start_time": "2023-08-12T21:51:04.451Z"
      },
      {
        "duration": 411,
        "start_time": "2023-08-12T21:51:09.653Z"
      },
      {
        "duration": 299,
        "start_time": "2023-08-12T21:51:12.539Z"
      },
      {
        "duration": 199,
        "start_time": "2023-08-12T21:51:14.997Z"
      },
      {
        "duration": 30,
        "start_time": "2023-08-12T21:51:21.650Z"
      },
      {
        "duration": 5,
        "start_time": "2023-08-12T21:52:00.733Z"
      },
      {
        "duration": 7045,
        "start_time": "2023-08-12T21:54:16.557Z"
      },
      {
        "duration": 4,
        "start_time": "2023-08-12T21:54:30.531Z"
      },
      {
        "duration": 5,
        "start_time": "2023-08-12T21:54:31.431Z"
      }
    ],
    "accelerator": "TPU",
    "colab": {
      "provenance": []
    },
    "kernelspec": {
      "display_name": "Python 3 (ipykernel)",
      "language": "python",
      "name": "python3"
    },
    "language_info": {
      "codemirror_mode": {
        "name": "ipython",
        "version": 3
      },
      "file_extension": ".py",
      "mimetype": "text/x-python",
      "name": "python",
      "nbconvert_exporter": "python",
      "pygments_lexer": "ipython3",
      "version": "3.9.5"
    },
    "toc": {
      "base_numbering": 1,
      "nav_menu": {},
      "number_sections": true,
      "sideBar": true,
      "skip_h1_title": true,
      "title_cell": "Содержание",
      "title_sidebar": "Contents",
      "toc_cell": true,
      "toc_position": {
        "height": "calc(100% - 180px)",
        "left": "10px",
        "top": "150px",
        "width": "208.391px"
      },
      "toc_section_display": true,
      "toc_window_display": true
    }
  },
  "nbformat": 4,
  "nbformat_minor": 0
}