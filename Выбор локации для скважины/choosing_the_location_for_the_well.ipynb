{
  "cells": [
    {
      "cell_type": "markdown",
      "metadata": {
        "id": "P6ncHkQ1054L"
      },
      "source": [
        "# Выбор локации для скважины"
      ]
    },
    {
      "cell_type": "markdown",
      "metadata": {
        "id": "QdQbVisy054L"
      },
      "source": [
        "Для добывающей компании «ГлавРосГосНефть» нужно решить, где бурить новую скважину.\n",
        "\n",
        "Предоставлены пробы нефти в трёх регионах: в каждом 10 000 месторождений, где измерили качество нефти и объём её запасов. Требуется построить модель машинного обучения, которая поможет определить регион, где добыча принесёт наибольшую прибыль. Проанализировать возможную прибыль и риски техникой *Bootstrap.*\n",
        "\n",
        "Шаги для выбора локации:\n",
        "\n",
        "- в избранном регионе ищут месторождения, для каждого определяют значения признаков\n",
        "- строят модель и оценивают объём запасов\n",
        "- выбирают месторождения с самым высокими оценками значений. Количество месторождений зависит от бюджета компании и стоимости разработки одной скважины\n",
        "- прибыль равна суммарной прибыли отобранных месторождений\n",
        "\n",
        "Условия проекта:\n",
        "- для обучения модели подходит только линейная регрессия (остальные недостаточно предсказуемые)\n",
        "- при разведке региона исследуют 500 точек, из которых с помощью машинного обучения выбирают 200 лучших для разработки\n",
        "- бюджет на разработку скважин в регионе - 10 млрд рублей\n",
        "- при нынешних ценах один баррель сырья приносит 450 рублей дохода. Доход с каждой единицы продукта составляет 450 тыс. рублей, поскольку объём указан в тысячах баррелей\n",
        "- после оценки рисков нужно оставить лишь те регионы, в которых вероятность убытков меньше 2.5%. Среди них выбирают регион с наибольшей средней прибылью"
      ]
    },
    {
      "cell_type": "markdown",
      "metadata": {
        "id": "yKEWJg8d054M"
      },
      "source": [
        "## Загрузка и подготовка данных"
      ]
    },
    {
      "cell_type": "markdown",
      "metadata": {
        "id": "jIs4Hz5l054M"
      },
      "source": [
        "Загрузим нужные для работы библиотеки и загрузим и сохраним данные в переменную df"
      ]
    },
    {
      "cell_type": "code",
      "execution_count": null,
      "metadata": {
        "id": "eVwwCs42054M",
        "outputId": "3a52fbd8-2f30-4cf4-deb1-dc1e6b15a51a"
      },
      "outputs": [
        {
          "data": {
            "text/html": [
              "<style>.container { width:90% !important; }</style>"
            ],
            "text/plain": [
              "<IPython.core.display.HTML object>"
            ]
          },
          "metadata": {},
          "output_type": "display_data"
        }
      ],
      "source": [
        "import pandas as pd\n",
        "import numpy as np\n",
        "import matplotlib.pyplot as plt\n",
        "from sklearn.model_selection import train_test_split\n",
        "from sklearn.linear_model import LinearRegression\n",
        "from sklearn.preprocessing import StandardScaler\n",
        "from sklearn.metrics import mean_squared_error\n",
        "\n",
        "RANDOM_STATE_ = 12345"
      ]
    },
    {
      "cell_type": "code",
      "execution_count": null,
      "metadata": {
        "id": "AkVFG_0K054N"
      },
      "outputs": [],
      "source": [
        "try:\n",
        "    df_0 = pd.read_csv('/datasets/geo_data_0.csv')\n",
        "except:\n",
        "    df_0 = pd.read_csv('https://code.s3.yandex.net/datasets/geo_data_0.csv')"
      ]
    },
    {
      "cell_type": "markdown",
      "metadata": {
        "id": "2tULwKIS054O"
      },
      "source": [
        "<div class=\"alert alert-success\">\n",
        "<h2> Комментарий ревьюера ✔️ <a class=\"tocSkip\"> </h2>\n",
        "\n",
        "Здорово, что ты используешь конструкцию `try-except`, это повышает отказоустойчивость кода\n",
        "\n",
        "</div>\n"
      ]
    },
    {
      "cell_type": "code",
      "execution_count": null,
      "metadata": {
        "id": "xZsdOx5K054O"
      },
      "outputs": [],
      "source": [
        "try:\n",
        "    df_1 = pd.read_csv('/datasets/geo_data_1.csv')\n",
        "except:\n",
        "    df_1 = pd.read_csv('https://code.s3.yandex.net/datasets/geo_data_1.csv')"
      ]
    },
    {
      "cell_type": "code",
      "execution_count": null,
      "metadata": {
        "id": "ct6eCfR3054O"
      },
      "outputs": [],
      "source": [
        "try:\n",
        "    df_2 = pd.read_csv('/datasets/geo_data_2.csv')\n",
        "except:\n",
        "    df_2 = pd.read_csv('https://code.s3.yandex.net/datasets/geo_data_2.csv')"
      ]
    },
    {
      "cell_type": "code",
      "execution_count": null,
      "metadata": {
        "id": "ZYRkHjsF054O",
        "outputId": "682870c2-48c3-4565-cbb0-5da8aac3a595"
      },
      "outputs": [
        {
          "data": {
            "text/html": [
              "<div>\n",
              "<style scoped>\n",
              "    .dataframe tbody tr th:only-of-type {\n",
              "        vertical-align: middle;\n",
              "    }\n",
              "\n",
              "    .dataframe tbody tr th {\n",
              "        vertical-align: top;\n",
              "    }\n",
              "\n",
              "    .dataframe thead th {\n",
              "        text-align: right;\n",
              "    }\n",
              "</style>\n",
              "<table border=\"1\" class=\"dataframe\">\n",
              "  <thead>\n",
              "    <tr style=\"text-align: right;\">\n",
              "      <th></th>\n",
              "      <th>id</th>\n",
              "      <th>f0</th>\n",
              "      <th>f1</th>\n",
              "      <th>f2</th>\n",
              "      <th>product</th>\n",
              "    </tr>\n",
              "  </thead>\n",
              "  <tbody>\n",
              "    <tr>\n",
              "      <th>0</th>\n",
              "      <td>txEyH</td>\n",
              "      <td>0.705745</td>\n",
              "      <td>-0.497823</td>\n",
              "      <td>1.221170</td>\n",
              "      <td>105.280062</td>\n",
              "    </tr>\n",
              "    <tr>\n",
              "      <th>1</th>\n",
              "      <td>2acmU</td>\n",
              "      <td>1.334711</td>\n",
              "      <td>-0.340164</td>\n",
              "      <td>4.365080</td>\n",
              "      <td>73.037750</td>\n",
              "    </tr>\n",
              "    <tr>\n",
              "      <th>2</th>\n",
              "      <td>409Wp</td>\n",
              "      <td>1.022732</td>\n",
              "      <td>0.151990</td>\n",
              "      <td>1.419926</td>\n",
              "      <td>85.265647</td>\n",
              "    </tr>\n",
              "    <tr>\n",
              "      <th>3</th>\n",
              "      <td>iJLyR</td>\n",
              "      <td>-0.032172</td>\n",
              "      <td>0.139033</td>\n",
              "      <td>2.978566</td>\n",
              "      <td>168.620776</td>\n",
              "    </tr>\n",
              "    <tr>\n",
              "      <th>4</th>\n",
              "      <td>Xdl7t</td>\n",
              "      <td>1.988431</td>\n",
              "      <td>0.155413</td>\n",
              "      <td>4.751769</td>\n",
              "      <td>154.036647</td>\n",
              "    </tr>\n",
              "  </tbody>\n",
              "</table>\n",
              "</div>"
            ],
            "text/plain": [
              "      id        f0        f1        f2     product\n",
              "0  txEyH  0.705745 -0.497823  1.221170  105.280062\n",
              "1  2acmU  1.334711 -0.340164  4.365080   73.037750\n",
              "2  409Wp  1.022732  0.151990  1.419926   85.265647\n",
              "3  iJLyR -0.032172  0.139033  2.978566  168.620776\n",
              "4  Xdl7t  1.988431  0.155413  4.751769  154.036647"
            ]
          },
          "metadata": {},
          "output_type": "display_data"
        },
        {
          "data": {
            "text/html": [
              "<div>\n",
              "<style scoped>\n",
              "    .dataframe tbody tr th:only-of-type {\n",
              "        vertical-align: middle;\n",
              "    }\n",
              "\n",
              "    .dataframe tbody tr th {\n",
              "        vertical-align: top;\n",
              "    }\n",
              "\n",
              "    .dataframe thead th {\n",
              "        text-align: right;\n",
              "    }\n",
              "</style>\n",
              "<table border=\"1\" class=\"dataframe\">\n",
              "  <thead>\n",
              "    <tr style=\"text-align: right;\">\n",
              "      <th></th>\n",
              "      <th>id</th>\n",
              "      <th>f0</th>\n",
              "      <th>f1</th>\n",
              "      <th>f2</th>\n",
              "      <th>product</th>\n",
              "    </tr>\n",
              "  </thead>\n",
              "  <tbody>\n",
              "    <tr>\n",
              "      <th>0</th>\n",
              "      <td>kBEdx</td>\n",
              "      <td>-15.001348</td>\n",
              "      <td>-8.276000</td>\n",
              "      <td>-0.005876</td>\n",
              "      <td>3.179103</td>\n",
              "    </tr>\n",
              "    <tr>\n",
              "      <th>1</th>\n",
              "      <td>62mP7</td>\n",
              "      <td>14.272088</td>\n",
              "      <td>-3.475083</td>\n",
              "      <td>0.999183</td>\n",
              "      <td>26.953261</td>\n",
              "    </tr>\n",
              "    <tr>\n",
              "      <th>2</th>\n",
              "      <td>vyE1P</td>\n",
              "      <td>6.263187</td>\n",
              "      <td>-5.948386</td>\n",
              "      <td>5.001160</td>\n",
              "      <td>134.766305</td>\n",
              "    </tr>\n",
              "    <tr>\n",
              "      <th>3</th>\n",
              "      <td>KcrkZ</td>\n",
              "      <td>-13.081196</td>\n",
              "      <td>-11.506057</td>\n",
              "      <td>4.999415</td>\n",
              "      <td>137.945408</td>\n",
              "    </tr>\n",
              "    <tr>\n",
              "      <th>4</th>\n",
              "      <td>AHL4O</td>\n",
              "      <td>12.702195</td>\n",
              "      <td>-8.147433</td>\n",
              "      <td>5.004363</td>\n",
              "      <td>134.766305</td>\n",
              "    </tr>\n",
              "  </tbody>\n",
              "</table>\n",
              "</div>"
            ],
            "text/plain": [
              "      id         f0         f1        f2     product\n",
              "0  kBEdx -15.001348  -8.276000 -0.005876    3.179103\n",
              "1  62mP7  14.272088  -3.475083  0.999183   26.953261\n",
              "2  vyE1P   6.263187  -5.948386  5.001160  134.766305\n",
              "3  KcrkZ -13.081196 -11.506057  4.999415  137.945408\n",
              "4  AHL4O  12.702195  -8.147433  5.004363  134.766305"
            ]
          },
          "metadata": {},
          "output_type": "display_data"
        },
        {
          "data": {
            "text/html": [
              "<div>\n",
              "<style scoped>\n",
              "    .dataframe tbody tr th:only-of-type {\n",
              "        vertical-align: middle;\n",
              "    }\n",
              "\n",
              "    .dataframe tbody tr th {\n",
              "        vertical-align: top;\n",
              "    }\n",
              "\n",
              "    .dataframe thead th {\n",
              "        text-align: right;\n",
              "    }\n",
              "</style>\n",
              "<table border=\"1\" class=\"dataframe\">\n",
              "  <thead>\n",
              "    <tr style=\"text-align: right;\">\n",
              "      <th></th>\n",
              "      <th>id</th>\n",
              "      <th>f0</th>\n",
              "      <th>f1</th>\n",
              "      <th>f2</th>\n",
              "      <th>product</th>\n",
              "    </tr>\n",
              "  </thead>\n",
              "  <tbody>\n",
              "    <tr>\n",
              "      <th>0</th>\n",
              "      <td>fwXo0</td>\n",
              "      <td>-1.146987</td>\n",
              "      <td>0.963328</td>\n",
              "      <td>-0.828965</td>\n",
              "      <td>27.758673</td>\n",
              "    </tr>\n",
              "    <tr>\n",
              "      <th>1</th>\n",
              "      <td>WJtFt</td>\n",
              "      <td>0.262778</td>\n",
              "      <td>0.269839</td>\n",
              "      <td>-2.530187</td>\n",
              "      <td>56.069697</td>\n",
              "    </tr>\n",
              "    <tr>\n",
              "      <th>2</th>\n",
              "      <td>ovLUW</td>\n",
              "      <td>0.194587</td>\n",
              "      <td>0.289035</td>\n",
              "      <td>-5.586433</td>\n",
              "      <td>62.871910</td>\n",
              "    </tr>\n",
              "    <tr>\n",
              "      <th>3</th>\n",
              "      <td>q6cA6</td>\n",
              "      <td>2.236060</td>\n",
              "      <td>-0.553760</td>\n",
              "      <td>0.930038</td>\n",
              "      <td>114.572842</td>\n",
              "    </tr>\n",
              "    <tr>\n",
              "      <th>4</th>\n",
              "      <td>WPMUX</td>\n",
              "      <td>-0.515993</td>\n",
              "      <td>1.716266</td>\n",
              "      <td>5.899011</td>\n",
              "      <td>149.600746</td>\n",
              "    </tr>\n",
              "  </tbody>\n",
              "</table>\n",
              "</div>"
            ],
            "text/plain": [
              "      id        f0        f1        f2     product\n",
              "0  fwXo0 -1.146987  0.963328 -0.828965   27.758673\n",
              "1  WJtFt  0.262778  0.269839 -2.530187   56.069697\n",
              "2  ovLUW  0.194587  0.289035 -5.586433   62.871910\n",
              "3  q6cA6  2.236060 -0.553760  0.930038  114.572842\n",
              "4  WPMUX -0.515993  1.716266  5.899011  149.600746"
            ]
          },
          "metadata": {},
          "output_type": "display_data"
        }
      ],
      "source": [
        "display(df_0.head())\n",
        "display(df_1.head())\n",
        "display(df_2.head())"
      ]
    },
    {
      "cell_type": "markdown",
      "metadata": {
        "id": "wtFfdaYt054O"
      },
      "source": [
        "Опишем данные:\n",
        "\n",
        "- id — уникальный идентификатор скважины\n",
        "\n",
        "- f0, f1, f2 — три признака точек (неважно, что они означают, но сами признаки значимы)\n",
        "\n",
        "- product — объём запасов в скважине (тыс. баррелей)"
      ]
    },
    {
      "cell_type": "code",
      "execution_count": null,
      "metadata": {
        "id": "pq-2IpUW054P",
        "outputId": "7e210dd5-d006-42bb-804e-b38b1cdb1af5"
      },
      "outputs": [
        {
          "name": "stdout",
          "output_type": "stream",
          "text": [
            "<class 'pandas.core.frame.DataFrame'>\n",
            "RangeIndex: 100000 entries, 0 to 99999\n",
            "Data columns (total 5 columns):\n",
            " #   Column   Non-Null Count   Dtype  \n",
            "---  ------   --------------   -----  \n",
            " 0   id       100000 non-null  object \n",
            " 1   f0       100000 non-null  float64\n",
            " 2   f1       100000 non-null  float64\n",
            " 3   f2       100000 non-null  float64\n",
            " 4   product  100000 non-null  float64\n",
            "dtypes: float64(4), object(1)\n",
            "memory usage: 3.8+ MB\n"
          ]
        },
        {
          "data": {
            "text/plain": [
              "None"
            ]
          },
          "metadata": {},
          "output_type": "display_data"
        },
        {
          "name": "stdout",
          "output_type": "stream",
          "text": [
            "<class 'pandas.core.frame.DataFrame'>\n",
            "RangeIndex: 100000 entries, 0 to 99999\n",
            "Data columns (total 5 columns):\n",
            " #   Column   Non-Null Count   Dtype  \n",
            "---  ------   --------------   -----  \n",
            " 0   id       100000 non-null  object \n",
            " 1   f0       100000 non-null  float64\n",
            " 2   f1       100000 non-null  float64\n",
            " 3   f2       100000 non-null  float64\n",
            " 4   product  100000 non-null  float64\n",
            "dtypes: float64(4), object(1)\n",
            "memory usage: 3.8+ MB\n"
          ]
        },
        {
          "data": {
            "text/plain": [
              "None"
            ]
          },
          "metadata": {},
          "output_type": "display_data"
        },
        {
          "name": "stdout",
          "output_type": "stream",
          "text": [
            "<class 'pandas.core.frame.DataFrame'>\n",
            "RangeIndex: 100000 entries, 0 to 99999\n",
            "Data columns (total 5 columns):\n",
            " #   Column   Non-Null Count   Dtype  \n",
            "---  ------   --------------   -----  \n",
            " 0   id       100000 non-null  object \n",
            " 1   f0       100000 non-null  float64\n",
            " 2   f1       100000 non-null  float64\n",
            " 3   f2       100000 non-null  float64\n",
            " 4   product  100000 non-null  float64\n",
            "dtypes: float64(4), object(1)\n",
            "memory usage: 3.8+ MB\n"
          ]
        },
        {
          "data": {
            "text/plain": [
              "None"
            ]
          },
          "metadata": {},
          "output_type": "display_data"
        }
      ],
      "source": [
        "display(df_0.info())\n",
        "display(df_1.info())\n",
        "display(df_2.info())"
      ]
    },
    {
      "cell_type": "markdown",
      "metadata": {
        "id": "HceB1xWC054P"
      },
      "source": [
        "Видим, что типы данных корректные, пропусков нет"
      ]
    },
    {
      "cell_type": "code",
      "execution_count": null,
      "metadata": {
        "id": "pX60-1cQ054P",
        "outputId": "c0fb7b54-094b-4e10-d965-8ee3867f54c0"
      },
      "outputs": [
        {
          "data": {
            "text/html": [
              "<div>\n",
              "<style scoped>\n",
              "    .dataframe tbody tr th:only-of-type {\n",
              "        vertical-align: middle;\n",
              "    }\n",
              "\n",
              "    .dataframe tbody tr th {\n",
              "        vertical-align: top;\n",
              "    }\n",
              "\n",
              "    .dataframe thead th {\n",
              "        text-align: right;\n",
              "    }\n",
              "</style>\n",
              "<table border=\"1\" class=\"dataframe\">\n",
              "  <thead>\n",
              "    <tr style=\"text-align: right;\">\n",
              "      <th></th>\n",
              "      <th>f0</th>\n",
              "      <th>f1</th>\n",
              "      <th>f2</th>\n",
              "      <th>product</th>\n",
              "    </tr>\n",
              "  </thead>\n",
              "  <tbody>\n",
              "    <tr>\n",
              "      <th>count</th>\n",
              "      <td>100000.000000</td>\n",
              "      <td>100000.000000</td>\n",
              "      <td>100000.000000</td>\n",
              "      <td>100000.000000</td>\n",
              "    </tr>\n",
              "    <tr>\n",
              "      <th>mean</th>\n",
              "      <td>0.500419</td>\n",
              "      <td>0.250143</td>\n",
              "      <td>2.502647</td>\n",
              "      <td>92.500000</td>\n",
              "    </tr>\n",
              "    <tr>\n",
              "      <th>std</th>\n",
              "      <td>0.871832</td>\n",
              "      <td>0.504433</td>\n",
              "      <td>3.248248</td>\n",
              "      <td>44.288691</td>\n",
              "    </tr>\n",
              "    <tr>\n",
              "      <th>min</th>\n",
              "      <td>-1.408605</td>\n",
              "      <td>-0.848218</td>\n",
              "      <td>-12.088328</td>\n",
              "      <td>0.000000</td>\n",
              "    </tr>\n",
              "    <tr>\n",
              "      <th>25%</th>\n",
              "      <td>-0.072580</td>\n",
              "      <td>-0.200881</td>\n",
              "      <td>0.287748</td>\n",
              "      <td>56.497507</td>\n",
              "    </tr>\n",
              "    <tr>\n",
              "      <th>50%</th>\n",
              "      <td>0.502360</td>\n",
              "      <td>0.250252</td>\n",
              "      <td>2.515969</td>\n",
              "      <td>91.849972</td>\n",
              "    </tr>\n",
              "    <tr>\n",
              "      <th>75%</th>\n",
              "      <td>1.073581</td>\n",
              "      <td>0.700646</td>\n",
              "      <td>4.715088</td>\n",
              "      <td>128.564089</td>\n",
              "    </tr>\n",
              "    <tr>\n",
              "      <th>max</th>\n",
              "      <td>2.362331</td>\n",
              "      <td>1.343769</td>\n",
              "      <td>16.003790</td>\n",
              "      <td>185.364347</td>\n",
              "    </tr>\n",
              "  </tbody>\n",
              "</table>\n",
              "</div>"
            ],
            "text/plain": [
              "                  f0             f1             f2        product\n",
              "count  100000.000000  100000.000000  100000.000000  100000.000000\n",
              "mean        0.500419       0.250143       2.502647      92.500000\n",
              "std         0.871832       0.504433       3.248248      44.288691\n",
              "min        -1.408605      -0.848218     -12.088328       0.000000\n",
              "25%        -0.072580      -0.200881       0.287748      56.497507\n",
              "50%         0.502360       0.250252       2.515969      91.849972\n",
              "75%         1.073581       0.700646       4.715088     128.564089\n",
              "max         2.362331       1.343769      16.003790     185.364347"
            ]
          },
          "metadata": {},
          "output_type": "display_data"
        },
        {
          "data": {
            "text/html": [
              "<div>\n",
              "<style scoped>\n",
              "    .dataframe tbody tr th:only-of-type {\n",
              "        vertical-align: middle;\n",
              "    }\n",
              "\n",
              "    .dataframe tbody tr th {\n",
              "        vertical-align: top;\n",
              "    }\n",
              "\n",
              "    .dataframe thead th {\n",
              "        text-align: right;\n",
              "    }\n",
              "</style>\n",
              "<table border=\"1\" class=\"dataframe\">\n",
              "  <thead>\n",
              "    <tr style=\"text-align: right;\">\n",
              "      <th></th>\n",
              "      <th>f0</th>\n",
              "      <th>f1</th>\n",
              "      <th>f2</th>\n",
              "      <th>product</th>\n",
              "    </tr>\n",
              "  </thead>\n",
              "  <tbody>\n",
              "    <tr>\n",
              "      <th>count</th>\n",
              "      <td>100000.000000</td>\n",
              "      <td>100000.000000</td>\n",
              "      <td>100000.000000</td>\n",
              "      <td>100000.000000</td>\n",
              "    </tr>\n",
              "    <tr>\n",
              "      <th>mean</th>\n",
              "      <td>1.141296</td>\n",
              "      <td>-4.796579</td>\n",
              "      <td>2.494541</td>\n",
              "      <td>68.825000</td>\n",
              "    </tr>\n",
              "    <tr>\n",
              "      <th>std</th>\n",
              "      <td>8.965932</td>\n",
              "      <td>5.119872</td>\n",
              "      <td>1.703572</td>\n",
              "      <td>45.944423</td>\n",
              "    </tr>\n",
              "    <tr>\n",
              "      <th>min</th>\n",
              "      <td>-31.609576</td>\n",
              "      <td>-26.358598</td>\n",
              "      <td>-0.018144</td>\n",
              "      <td>0.000000</td>\n",
              "    </tr>\n",
              "    <tr>\n",
              "      <th>25%</th>\n",
              "      <td>-6.298551</td>\n",
              "      <td>-8.267985</td>\n",
              "      <td>1.000021</td>\n",
              "      <td>26.953261</td>\n",
              "    </tr>\n",
              "    <tr>\n",
              "      <th>50%</th>\n",
              "      <td>1.153055</td>\n",
              "      <td>-4.813172</td>\n",
              "      <td>2.011479</td>\n",
              "      <td>57.085625</td>\n",
              "    </tr>\n",
              "    <tr>\n",
              "      <th>75%</th>\n",
              "      <td>8.621015</td>\n",
              "      <td>-1.332816</td>\n",
              "      <td>3.999904</td>\n",
              "      <td>107.813044</td>\n",
              "    </tr>\n",
              "    <tr>\n",
              "      <th>max</th>\n",
              "      <td>29.421755</td>\n",
              "      <td>18.734063</td>\n",
              "      <td>5.019721</td>\n",
              "      <td>137.945408</td>\n",
              "    </tr>\n",
              "  </tbody>\n",
              "</table>\n",
              "</div>"
            ],
            "text/plain": [
              "                  f0             f1             f2        product\n",
              "count  100000.000000  100000.000000  100000.000000  100000.000000\n",
              "mean        1.141296      -4.796579       2.494541      68.825000\n",
              "std         8.965932       5.119872       1.703572      45.944423\n",
              "min       -31.609576     -26.358598      -0.018144       0.000000\n",
              "25%        -6.298551      -8.267985       1.000021      26.953261\n",
              "50%         1.153055      -4.813172       2.011479      57.085625\n",
              "75%         8.621015      -1.332816       3.999904     107.813044\n",
              "max        29.421755      18.734063       5.019721     137.945408"
            ]
          },
          "metadata": {},
          "output_type": "display_data"
        },
        {
          "data": {
            "text/html": [
              "<div>\n",
              "<style scoped>\n",
              "    .dataframe tbody tr th:only-of-type {\n",
              "        vertical-align: middle;\n",
              "    }\n",
              "\n",
              "    .dataframe tbody tr th {\n",
              "        vertical-align: top;\n",
              "    }\n",
              "\n",
              "    .dataframe thead th {\n",
              "        text-align: right;\n",
              "    }\n",
              "</style>\n",
              "<table border=\"1\" class=\"dataframe\">\n",
              "  <thead>\n",
              "    <tr style=\"text-align: right;\">\n",
              "      <th></th>\n",
              "      <th>f0</th>\n",
              "      <th>f1</th>\n",
              "      <th>f2</th>\n",
              "      <th>product</th>\n",
              "    </tr>\n",
              "  </thead>\n",
              "  <tbody>\n",
              "    <tr>\n",
              "      <th>count</th>\n",
              "      <td>100000.000000</td>\n",
              "      <td>100000.000000</td>\n",
              "      <td>100000.000000</td>\n",
              "      <td>100000.000000</td>\n",
              "    </tr>\n",
              "    <tr>\n",
              "      <th>mean</th>\n",
              "      <td>0.002023</td>\n",
              "      <td>-0.002081</td>\n",
              "      <td>2.495128</td>\n",
              "      <td>95.000000</td>\n",
              "    </tr>\n",
              "    <tr>\n",
              "      <th>std</th>\n",
              "      <td>1.732045</td>\n",
              "      <td>1.730417</td>\n",
              "      <td>3.473445</td>\n",
              "      <td>44.749921</td>\n",
              "    </tr>\n",
              "    <tr>\n",
              "      <th>min</th>\n",
              "      <td>-8.760004</td>\n",
              "      <td>-7.084020</td>\n",
              "      <td>-11.970335</td>\n",
              "      <td>0.000000</td>\n",
              "    </tr>\n",
              "    <tr>\n",
              "      <th>25%</th>\n",
              "      <td>-1.162288</td>\n",
              "      <td>-1.174820</td>\n",
              "      <td>0.130359</td>\n",
              "      <td>59.450441</td>\n",
              "    </tr>\n",
              "    <tr>\n",
              "      <th>50%</th>\n",
              "      <td>0.009424</td>\n",
              "      <td>-0.009482</td>\n",
              "      <td>2.484236</td>\n",
              "      <td>94.925613</td>\n",
              "    </tr>\n",
              "    <tr>\n",
              "      <th>75%</th>\n",
              "      <td>1.158535</td>\n",
              "      <td>1.163678</td>\n",
              "      <td>4.858794</td>\n",
              "      <td>130.595027</td>\n",
              "    </tr>\n",
              "    <tr>\n",
              "      <th>max</th>\n",
              "      <td>7.238262</td>\n",
              "      <td>7.844801</td>\n",
              "      <td>16.739402</td>\n",
              "      <td>190.029838</td>\n",
              "    </tr>\n",
              "  </tbody>\n",
              "</table>\n",
              "</div>"
            ],
            "text/plain": [
              "                  f0             f1             f2        product\n",
              "count  100000.000000  100000.000000  100000.000000  100000.000000\n",
              "mean        0.002023      -0.002081       2.495128      95.000000\n",
              "std         1.732045       1.730417       3.473445      44.749921\n",
              "min        -8.760004      -7.084020     -11.970335       0.000000\n",
              "25%        -1.162288      -1.174820       0.130359      59.450441\n",
              "50%         0.009424      -0.009482       2.484236      94.925613\n",
              "75%         1.158535       1.163678       4.858794     130.595027\n",
              "max         7.238262       7.844801      16.739402     190.029838"
            ]
          },
          "metadata": {},
          "output_type": "display_data"
        }
      ],
      "source": [
        "display(df_0.describe())\n",
        "display(df_1.describe())\n",
        "display(df_2.describe())"
      ]
    },
    {
      "cell_type": "markdown",
      "metadata": {
        "id": "ZuQR8Bkq054P"
      },
      "source": [
        "Видим нулевые значения объёма запасов в скважине"
      ]
    },
    {
      "cell_type": "markdown",
      "metadata": {
        "id": "U0TmYUcC054P"
      },
      "source": [
        "Проверим данные на наличие явных дубликатов и уникальность значений"
      ]
    },
    {
      "cell_type": "code",
      "execution_count": null,
      "metadata": {
        "scrolled": true,
        "id": "KUvrNEON054P",
        "outputId": "5f274a1c-6541-4a8f-8b18-0208828218c9"
      },
      "outputs": [
        {
          "name": "stdout",
          "output_type": "stream",
          "text": [
            "0\n",
            "0\n",
            "0\n"
          ]
        }
      ],
      "source": [
        "print(df_0.duplicated().sum())\n",
        "print(df_1.duplicated().sum())\n",
        "print(df_2.duplicated().sum())"
      ]
    },
    {
      "cell_type": "code",
      "execution_count": null,
      "metadata": {
        "id": "s4RdM_OH054Q",
        "outputId": "ffb37287-aa7c-49da-b073-659b81540d33"
      },
      "outputs": [
        {
          "name": "stdout",
          "output_type": "stream",
          "text": [
            "id          99990\n",
            "f0         100000\n",
            "f1         100000\n",
            "f2         100000\n",
            "product    100000\n",
            "dtype: int64\n",
            "id          99996\n",
            "f0         100000\n",
            "f1         100000\n",
            "f2         100000\n",
            "product        12\n",
            "dtype: int64\n",
            "id          99996\n",
            "f0         100000\n",
            "f1         100000\n",
            "f2         100000\n",
            "product    100000\n",
            "dtype: int64\n"
          ]
        }
      ],
      "source": [
        "print(df_0.nunique())\n",
        "print(df_1.nunique())\n",
        "print(df_2.nunique())"
      ]
    },
    {
      "cell_type": "markdown",
      "metadata": {
        "id": "zLqFxKjQ054Q"
      },
      "source": [
        "- в регионе 1 по параметру `product`только 12 уникальных значений из 10000\n",
        "- есть пересечения по id в каждом из регионов"
      ]
    },
    {
      "cell_type": "markdown",
      "metadata": {
        "id": "ulesR3KU054Q"
      },
      "source": [
        "Проверим данные на артефакты по id"
      ]
    },
    {
      "cell_type": "code",
      "execution_count": null,
      "metadata": {
        "id": "IEVXO35x054Q",
        "outputId": "e8fb4f2b-fcf7-4124-e614-c8c9875c4f48"
      },
      "outputs": [
        {
          "data": {
            "text/html": [
              "<div>\n",
              "<style scoped>\n",
              "    .dataframe tbody tr th:only-of-type {\n",
              "        vertical-align: middle;\n",
              "    }\n",
              "\n",
              "    .dataframe tbody tr th {\n",
              "        vertical-align: top;\n",
              "    }\n",
              "\n",
              "    .dataframe thead th {\n",
              "        text-align: right;\n",
              "    }\n",
              "</style>\n",
              "<table border=\"1\" class=\"dataframe\">\n",
              "  <thead>\n",
              "    <tr style=\"text-align: right;\">\n",
              "      <th></th>\n",
              "      <th>id</th>\n",
              "      <th>f0</th>\n",
              "      <th>f1</th>\n",
              "      <th>f2</th>\n",
              "      <th>product</th>\n",
              "    </tr>\n",
              "  </thead>\n",
              "  <tbody>\n",
              "    <tr>\n",
              "      <th>7530</th>\n",
              "      <td>HZww2</td>\n",
              "      <td>1.061194</td>\n",
              "      <td>-0.373969</td>\n",
              "      <td>10.430210</td>\n",
              "      <td>158.828695</td>\n",
              "    </tr>\n",
              "    <tr>\n",
              "      <th>41724</th>\n",
              "      <td>bxg6G</td>\n",
              "      <td>-0.823752</td>\n",
              "      <td>0.546319</td>\n",
              "      <td>3.630479</td>\n",
              "      <td>93.007798</td>\n",
              "    </tr>\n",
              "    <tr>\n",
              "      <th>51970</th>\n",
              "      <td>A5aEY</td>\n",
              "      <td>-0.180335</td>\n",
              "      <td>0.935548</td>\n",
              "      <td>-2.094773</td>\n",
              "      <td>33.020205</td>\n",
              "    </tr>\n",
              "    <tr>\n",
              "      <th>63593</th>\n",
              "      <td>QcMuo</td>\n",
              "      <td>0.635635</td>\n",
              "      <td>-0.473422</td>\n",
              "      <td>0.862670</td>\n",
              "      <td>64.578675</td>\n",
              "    </tr>\n",
              "    <tr>\n",
              "      <th>66136</th>\n",
              "      <td>74z30</td>\n",
              "      <td>1.084962</td>\n",
              "      <td>-0.312358</td>\n",
              "      <td>6.990771</td>\n",
              "      <td>127.643327</td>\n",
              "    </tr>\n",
              "    <tr>\n",
              "      <th>69163</th>\n",
              "      <td>AGS9W</td>\n",
              "      <td>-0.933795</td>\n",
              "      <td>0.116194</td>\n",
              "      <td>-3.655896</td>\n",
              "      <td>19.230453</td>\n",
              "    </tr>\n",
              "    <tr>\n",
              "      <th>75715</th>\n",
              "      <td>Tdehs</td>\n",
              "      <td>0.112079</td>\n",
              "      <td>0.430296</td>\n",
              "      <td>3.218993</td>\n",
              "      <td>60.964018</td>\n",
              "    </tr>\n",
              "    <tr>\n",
              "      <th>90815</th>\n",
              "      <td>fiKDv</td>\n",
              "      <td>0.049883</td>\n",
              "      <td>0.841313</td>\n",
              "      <td>6.394613</td>\n",
              "      <td>137.346586</td>\n",
              "    </tr>\n",
              "    <tr>\n",
              "      <th>92341</th>\n",
              "      <td>TtcGQ</td>\n",
              "      <td>0.110711</td>\n",
              "      <td>1.022689</td>\n",
              "      <td>0.911381</td>\n",
              "      <td>101.318008</td>\n",
              "    </tr>\n",
              "    <tr>\n",
              "      <th>97785</th>\n",
              "      <td>bsk9y</td>\n",
              "      <td>0.378429</td>\n",
              "      <td>0.005837</td>\n",
              "      <td>0.160827</td>\n",
              "      <td>160.637302</td>\n",
              "    </tr>\n",
              "  </tbody>\n",
              "</table>\n",
              "</div>"
            ],
            "text/plain": [
              "          id        f0        f1         f2     product\n",
              "7530   HZww2  1.061194 -0.373969  10.430210  158.828695\n",
              "41724  bxg6G -0.823752  0.546319   3.630479   93.007798\n",
              "51970  A5aEY -0.180335  0.935548  -2.094773   33.020205\n",
              "63593  QcMuo  0.635635 -0.473422   0.862670   64.578675\n",
              "66136  74z30  1.084962 -0.312358   6.990771  127.643327\n",
              "69163  AGS9W -0.933795  0.116194  -3.655896   19.230453\n",
              "75715  Tdehs  0.112079  0.430296   3.218993   60.964018\n",
              "90815  fiKDv  0.049883  0.841313   6.394613  137.346586\n",
              "92341  TtcGQ  0.110711  1.022689   0.911381  101.318008\n",
              "97785  bsk9y  0.378429  0.005837   0.160827  160.637302"
            ]
          },
          "execution_count": 49,
          "metadata": {},
          "output_type": "execute_result"
        }
      ],
      "source": [
        "df_0[df_0.duplicated(['id'])]"
      ]
    },
    {
      "cell_type": "code",
      "execution_count": null,
      "metadata": {
        "id": "h4NBdpRf054Q",
        "outputId": "d15ef74c-522a-4e0b-af88-b5c4b6ec037d"
      },
      "outputs": [
        {
          "data": {
            "text/html": [
              "<div>\n",
              "<style scoped>\n",
              "    .dataframe tbody tr th:only-of-type {\n",
              "        vertical-align: middle;\n",
              "    }\n",
              "\n",
              "    .dataframe tbody tr th {\n",
              "        vertical-align: top;\n",
              "    }\n",
              "\n",
              "    .dataframe thead th {\n",
              "        text-align: right;\n",
              "    }\n",
              "</style>\n",
              "<table border=\"1\" class=\"dataframe\">\n",
              "  <thead>\n",
              "    <tr style=\"text-align: right;\">\n",
              "      <th></th>\n",
              "      <th>id</th>\n",
              "      <th>f0</th>\n",
              "      <th>f1</th>\n",
              "      <th>f2</th>\n",
              "      <th>product</th>\n",
              "    </tr>\n",
              "  </thead>\n",
              "  <tbody>\n",
              "    <tr>\n",
              "      <th>931</th>\n",
              "      <td>HZww2</td>\n",
              "      <td>0.755284</td>\n",
              "      <td>0.368511</td>\n",
              "      <td>1.863211</td>\n",
              "      <td>30.681774</td>\n",
              "    </tr>\n",
              "    <tr>\n",
              "      <th>7530</th>\n",
              "      <td>HZww2</td>\n",
              "      <td>1.061194</td>\n",
              "      <td>-0.373969</td>\n",
              "      <td>10.430210</td>\n",
              "      <td>158.828695</td>\n",
              "    </tr>\n",
              "  </tbody>\n",
              "</table>\n",
              "</div>"
            ],
            "text/plain": [
              "         id        f0        f1         f2     product\n",
              "931   HZww2  0.755284  0.368511   1.863211   30.681774\n",
              "7530  HZww2  1.061194 -0.373969  10.430210  158.828695"
            ]
          },
          "execution_count": 50,
          "metadata": {},
          "output_type": "execute_result"
        }
      ],
      "source": [
        "df_0[df_0['id'] == 'HZww2']"
      ]
    },
    {
      "cell_type": "code",
      "execution_count": null,
      "metadata": {
        "scrolled": true,
        "id": "bnl5C2zX054Q",
        "outputId": "443c6706-c5f3-4453-b688-70ea3da4dc34"
      },
      "outputs": [
        {
          "data": {
            "text/html": [
              "<div>\n",
              "<style scoped>\n",
              "    .dataframe tbody tr th:only-of-type {\n",
              "        vertical-align: middle;\n",
              "    }\n",
              "\n",
              "    .dataframe tbody tr th {\n",
              "        vertical-align: top;\n",
              "    }\n",
              "\n",
              "    .dataframe thead th {\n",
              "        text-align: right;\n",
              "    }\n",
              "</style>\n",
              "<table border=\"1\" class=\"dataframe\">\n",
              "  <thead>\n",
              "    <tr style=\"text-align: right;\">\n",
              "      <th></th>\n",
              "      <th>id</th>\n",
              "      <th>f0</th>\n",
              "      <th>f1</th>\n",
              "      <th>f2</th>\n",
              "      <th>product</th>\n",
              "    </tr>\n",
              "  </thead>\n",
              "  <tbody>\n",
              "    <tr>\n",
              "      <th>1364</th>\n",
              "      <td>bxg6G</td>\n",
              "      <td>0.411645</td>\n",
              "      <td>0.856830</td>\n",
              "      <td>-3.653440</td>\n",
              "      <td>73.604260</td>\n",
              "    </tr>\n",
              "    <tr>\n",
              "      <th>41724</th>\n",
              "      <td>bxg6G</td>\n",
              "      <td>-0.823752</td>\n",
              "      <td>0.546319</td>\n",
              "      <td>3.630479</td>\n",
              "      <td>93.007798</td>\n",
              "    </tr>\n",
              "  </tbody>\n",
              "</table>\n",
              "</div>"
            ],
            "text/plain": [
              "          id        f0        f1        f2    product\n",
              "1364   bxg6G  0.411645  0.856830 -3.653440  73.604260\n",
              "41724  bxg6G -0.823752  0.546319  3.630479  93.007798"
            ]
          },
          "execution_count": 51,
          "metadata": {},
          "output_type": "execute_result"
        }
      ],
      "source": [
        "df_0[df_0['id'] == 'bxg6G']"
      ]
    },
    {
      "cell_type": "markdown",
      "metadata": {
        "id": "y4qfMg5E054Q"
      },
      "source": [
        "Артефакты есть, но неизвестно какие значения из 2-х строк корректные, складывать эти данные также неправильно. Таких артефактов немного, примем решение использовать данные как с разных скважин"
      ]
    },
    {
      "cell_type": "code",
      "execution_count": null,
      "metadata": {
        "id": "FSVQBocR054Q",
        "outputId": "2c26b5eb-2043-491b-be13-9e26db84e6e5"
      },
      "outputs": [
        {
          "data": {
            "text/plain": [
              "53.906522     8472\n",
              "26.953261     8468\n",
              "84.038886     8431\n",
              "57.085625     8390\n",
              "3.179103      8337\n",
              "80.859783     8320\n",
              "30.132364     8306\n",
              "134.766305    8304\n",
              "110.992147    8303\n",
              "0.000000      8235\n",
              "137.945408    8233\n",
              "107.813044    8201\n",
              "Name: product, dtype: int64"
            ]
          },
          "execution_count": 52,
          "metadata": {},
          "output_type": "execute_result"
        }
      ],
      "source": [
        "df_1['product'].value_counts()"
      ]
    },
    {
      "cell_type": "markdown",
      "metadata": {
        "id": "2XirJ6Zi054R"
      },
      "source": [
        "Регион один имеет другую дискретизацию - мы видим равное распределение, большое количество нулевых значений и низкое количество уникальных значений. Можно сделать предположение, что данные вручную подвергались категоризации, вследствие чего образовалось много нулевых значений. Природу такой дискретизации лучше всего будет уточнить у заказчика"
      ]
    },
    {
      "cell_type": "markdown",
      "metadata": {
        "id": "e7m49e63054R"
      },
      "source": [
        "Посмотрим на распределения признаков"
      ]
    },
    {
      "cell_type": "code",
      "execution_count": null,
      "metadata": {
        "id": "0Z02pIwv054R",
        "outputId": "7b5cf600-fc03-4fbd-847c-3f5c76bc0e4c"
      },
      "outputs": [
        {
          "data": {
            "image/png": "[encoded data removed]",
            "text/plain": [
              "<Figure size 432x288 with 4 Axes>"
            ]
          },
          "metadata": {
            "needs_background": "light"
          },
          "output_type": "display_data"
        }
      ],
      "source": [
        "df_0.hist();"
      ]
    },
    {
      "cell_type": "code",
      "execution_count": null,
      "metadata": {
        "id": "7Mp_gOgQ054R",
        "outputId": "1d869696-15c1-4149-a366-db37caf8abb4"
      },
      "outputs": [
        {
          "data": {
            "image/png": "[encoded data removed]",
            "text/plain": [
              "<Figure size 432x288 with 4 Axes>"
            ]
          },
          "metadata": {
            "needs_background": "light"
          },
          "output_type": "display_data"
        }
      ],
      "source": [
        "df_1.hist();"
      ]
    },
    {
      "cell_type": "code",
      "execution_count": null,
      "metadata": {
        "id": "ch7J-Pgm054R",
        "outputId": "bbd16bf0-0742-4b91-f653-f1214f83f8b3"
      },
      "outputs": [
        {
          "data": {
            "image/png": "[encoded data removed]",
            "text/plain": [
              "<Figure size 432x288 with 4 Axes>"
            ]
          },
          "metadata": {
            "needs_background": "light"
          },
          "output_type": "display_data"
        }
      ],
      "source": [
        "df_2.hist();"
      ]
    },
    {
      "cell_type": "code",
      "execution_count": null,
      "metadata": {
        "id": "aI_kKEe0054R",
        "outputId": "0583b396-2be1-4d72-d0d0-0bf3baab7b3f"
      },
      "outputs": [
        {
          "data": {
            "text/html": [
              "<div>\n",
              "<style scoped>\n",
              "    .dataframe tbody tr th:only-of-type {\n",
              "        vertical-align: middle;\n",
              "    }\n",
              "\n",
              "    .dataframe tbody tr th {\n",
              "        vertical-align: top;\n",
              "    }\n",
              "\n",
              "    .dataframe thead th {\n",
              "        text-align: right;\n",
              "    }\n",
              "</style>\n",
              "<table border=\"1\" class=\"dataframe\">\n",
              "  <thead>\n",
              "    <tr style=\"text-align: right;\">\n",
              "      <th></th>\n",
              "      <th>f0</th>\n",
              "      <th>f1</th>\n",
              "      <th>f2</th>\n",
              "      <th>product</th>\n",
              "    </tr>\n",
              "  </thead>\n",
              "  <tbody>\n",
              "    <tr>\n",
              "      <th>f0</th>\n",
              "      <td>1.000000</td>\n",
              "      <td>-0.440723</td>\n",
              "      <td>-0.003153</td>\n",
              "      <td>0.143536</td>\n",
              "    </tr>\n",
              "    <tr>\n",
              "      <th>f1</th>\n",
              "      <td>-0.440723</td>\n",
              "      <td>1.000000</td>\n",
              "      <td>0.001724</td>\n",
              "      <td>-0.192356</td>\n",
              "    </tr>\n",
              "    <tr>\n",
              "      <th>f2</th>\n",
              "      <td>-0.003153</td>\n",
              "      <td>0.001724</td>\n",
              "      <td>1.000000</td>\n",
              "      <td>0.483663</td>\n",
              "    </tr>\n",
              "    <tr>\n",
              "      <th>product</th>\n",
              "      <td>0.143536</td>\n",
              "      <td>-0.192356</td>\n",
              "      <td>0.483663</td>\n",
              "      <td>1.000000</td>\n",
              "    </tr>\n",
              "  </tbody>\n",
              "</table>\n",
              "</div>"
            ],
            "text/plain": [
              "               f0        f1        f2   product\n",
              "f0       1.000000 -0.440723 -0.003153  0.143536\n",
              "f1      -0.440723  1.000000  0.001724 -0.192356\n",
              "f2      -0.003153  0.001724  1.000000  0.483663\n",
              "product  0.143536 -0.192356  0.483663  1.000000"
            ]
          },
          "metadata": {},
          "output_type": "display_data"
        },
        {
          "data": {
            "text/html": [
              "<div>\n",
              "<style scoped>\n",
              "    .dataframe tbody tr th:only-of-type {\n",
              "        vertical-align: middle;\n",
              "    }\n",
              "\n",
              "    .dataframe tbody tr th {\n",
              "        vertical-align: top;\n",
              "    }\n",
              "\n",
              "    .dataframe thead th {\n",
              "        text-align: right;\n",
              "    }\n",
              "</style>\n",
              "<table border=\"1\" class=\"dataframe\">\n",
              "  <thead>\n",
              "    <tr style=\"text-align: right;\">\n",
              "      <th></th>\n",
              "      <th>f0</th>\n",
              "      <th>f1</th>\n",
              "      <th>f2</th>\n",
              "      <th>product</th>\n",
              "    </tr>\n",
              "  </thead>\n",
              "  <tbody>\n",
              "    <tr>\n",
              "      <th>f0</th>\n",
              "      <td>1.000000</td>\n",
              "      <td>0.182287</td>\n",
              "      <td>-0.001777</td>\n",
              "      <td>-0.030491</td>\n",
              "    </tr>\n",
              "    <tr>\n",
              "      <th>f1</th>\n",
              "      <td>0.182287</td>\n",
              "      <td>1.000000</td>\n",
              "      <td>-0.002595</td>\n",
              "      <td>-0.010155</td>\n",
              "    </tr>\n",
              "    <tr>\n",
              "      <th>f2</th>\n",
              "      <td>-0.001777</td>\n",
              "      <td>-0.002595</td>\n",
              "      <td>1.000000</td>\n",
              "      <td>0.999397</td>\n",
              "    </tr>\n",
              "    <tr>\n",
              "      <th>product</th>\n",
              "      <td>-0.030491</td>\n",
              "      <td>-0.010155</td>\n",
              "      <td>0.999397</td>\n",
              "      <td>1.000000</td>\n",
              "    </tr>\n",
              "  </tbody>\n",
              "</table>\n",
              "</div>"
            ],
            "text/plain": [
              "               f0        f1        f2   product\n",
              "f0       1.000000  0.182287 -0.001777 -0.030491\n",
              "f1       0.182287  1.000000 -0.002595 -0.010155\n",
              "f2      -0.001777 -0.002595  1.000000  0.999397\n",
              "product -0.030491 -0.010155  0.999397  1.000000"
            ]
          },
          "metadata": {},
          "output_type": "display_data"
        },
        {
          "data": {
            "text/html": [
              "<div>\n",
              "<style scoped>\n",
              "    .dataframe tbody tr th:only-of-type {\n",
              "        vertical-align: middle;\n",
              "    }\n",
              "\n",
              "    .dataframe tbody tr th {\n",
              "        vertical-align: top;\n",
              "    }\n",
              "\n",
              "    .dataframe thead th {\n",
              "        text-align: right;\n",
              "    }\n",
              "</style>\n",
              "<table border=\"1\" class=\"dataframe\">\n",
              "  <thead>\n",
              "    <tr style=\"text-align: right;\">\n",
              "      <th></th>\n",
              "      <th>f0</th>\n",
              "      <th>f1</th>\n",
              "      <th>f2</th>\n",
              "      <th>product</th>\n",
              "    </tr>\n",
              "  </thead>\n",
              "  <tbody>\n",
              "    <tr>\n",
              "      <th>f0</th>\n",
              "      <td>1.000000</td>\n",
              "      <td>0.000528</td>\n",
              "      <td>-0.000448</td>\n",
              "      <td>-0.001987</td>\n",
              "    </tr>\n",
              "    <tr>\n",
              "      <th>f1</th>\n",
              "      <td>0.000528</td>\n",
              "      <td>1.000000</td>\n",
              "      <td>0.000779</td>\n",
              "      <td>-0.001012</td>\n",
              "    </tr>\n",
              "    <tr>\n",
              "      <th>f2</th>\n",
              "      <td>-0.000448</td>\n",
              "      <td>0.000779</td>\n",
              "      <td>1.000000</td>\n",
              "      <td>0.445871</td>\n",
              "    </tr>\n",
              "    <tr>\n",
              "      <th>product</th>\n",
              "      <td>-0.001987</td>\n",
              "      <td>-0.001012</td>\n",
              "      <td>0.445871</td>\n",
              "      <td>1.000000</td>\n",
              "    </tr>\n",
              "  </tbody>\n",
              "</table>\n",
              "</div>"
            ],
            "text/plain": [
              "               f0        f1        f2   product\n",
              "f0       1.000000  0.000528 -0.000448 -0.001987\n",
              "f1       0.000528  1.000000  0.000779 -0.001012\n",
              "f2      -0.000448  0.000779  1.000000  0.445871\n",
              "product -0.001987 -0.001012  0.445871  1.000000"
            ]
          },
          "metadata": {},
          "output_type": "display_data"
        }
      ],
      "source": [
        "display(df_0.corr())\n",
        "display(df_1.corr())\n",
        "display(df_2.corr())"
      ]
    },
    {
      "cell_type": "markdown",
      "metadata": {
        "id": "OTN-on9p054R"
      },
      "source": [
        "В поисках нелинейной зависимости признаков построим диаграммы рассеивания"
      ]
    },
    {
      "cell_type": "code",
      "execution_count": null,
      "metadata": {
        "id": "1ATyyVu2054R",
        "outputId": "ac80c84e-cbf8-4ae2-b47e-814d44b9f13a"
      },
      "outputs": [
        {
          "data": {
            "image/png": "[encoded data removed]",
            "text/plain": [
              "<Figure size 720x432 with 16 Axes>"
            ]
          },
          "metadata": {
            "needs_background": "light"
          },
          "output_type": "display_data"
        }
      ],
      "source": [
        "pd.plotting.scatter_matrix(df_0, figsize=(10,6));"
      ]
    },
    {
      "cell_type": "code",
      "execution_count": null,
      "metadata": {
        "id": "OD4h5gJ3054d",
        "outputId": "dd296b64-fa3a-4b3a-b132-39e13494fe41"
      },
      "outputs": [
        {
          "data": {
            "image/png": "[encoded data removed]",
            "text/plain": [
              "<Figure size 720x432 with 16 Axes>"
            ]
          },
          "metadata": {
            "needs_background": "light"
          },
          "output_type": "display_data"
        }
      ],
      "source": [
        "pd.plotting.scatter_matrix(df_1, figsize=(10,6));"
      ]
    },
    {
      "cell_type": "code",
      "execution_count": null,
      "metadata": {
        "id": "fSL-rJZh054d",
        "outputId": "79d2150a-c5c7-4ce6-c323-90a60366c1d2"
      },
      "outputs": [
        {
          "data": {
            "image/png": "[encoded data removed]",
            "text/plain": [
              "<Figure size 720x432 with 16 Axes>"
            ]
          },
          "metadata": {
            "needs_background": "light"
          },
          "output_type": "display_data"
        }
      ],
      "source": [
        "pd.plotting.scatter_matrix(df_2, figsize=(10,6));"
      ]
    },
    {
      "cell_type": "markdown",
      "metadata": {
        "id": "KrESd6lz054e"
      },
      "source": [
        "- наблюдаем интересные нелинейные зависимости признаков `f1` и `f0` в регионе 0\n",
        "- в регионе 1 есть явно выраженные зависимости `f0` и `f1` с `f2` и `product`"
      ]
    },
    {
      "cell_type": "markdown",
      "metadata": {
        "id": "kOHzzbYP054e"
      },
      "source": [
        "**Выводы:**\n",
        "- типы данных корректные, пропусков нет по всем регионам\n",
        "- существуют строки с нулевыми значениями объёма запасов в скважине\n",
        "- явных дубликатов нет, однако:\n",
        "    - есть пересечения по id в каждом из регионов\n",
        "    - в регионе 1 по параметру `product`только 12 уникальных значений из 10000. Пока сложно интерпретировать причину такого распределения значений. Малое количество уникальных значений в этом параметре может влиять на процесс и исход машинного обучения, будем иметь это ввиду\n",
        "- во всех трёх регионах присутствует выраженная корреляция признака `f2` с признаком `product`, вместе с тем особенно сильная она в 1 регионе (более 0.99)\n",
        "- наблюдаем интересные нелинейные зависимости признаков `f1` и `f0` в регионе 0, в регионе 1 есть явно выраженные зависимости `f0` и `f1` с `f2` и `product`\n",
        "- в целях моделирования уникальный идентификатор скважины (id) не несет никакой информации, от него мы избавимся\n",
        "- признаки имеют разный масштаб, соответственно перед исследованием прибегнем к стандартизации"
      ]
    },
    {
      "cell_type": "markdown",
      "metadata": {
        "id": "BBcrrt79054e"
      },
      "source": [
        "Удалим столбцы с id"
      ]
    },
    {
      "cell_type": "code",
      "execution_count": null,
      "metadata": {
        "id": "TR3c604g054e"
      },
      "outputs": [],
      "source": [
        "df_0 = df_0.drop(['id'], axis=1)\n",
        "df_1 = df_1.drop(['id'], axis=1)\n",
        "df_2 = df_2.drop(['id'], axis=1)"
      ]
    },
    {
      "cell_type": "markdown",
      "metadata": {
        "id": "Hsb-Q0bX054e"
      },
      "source": [
        "## Обучение и проверка модели"
      ]
    },
    {
      "cell_type": "markdown",
      "metadata": {
        "id": "Ei68_tdf054e"
      },
      "source": [
        "Обучим и проверим модель для каждого региона. Для обучения модели подходит только линейная регрессия (остальные — недостаточно предсказуемые)\n",
        "- разобьём данные на обучающую и валидационную выборки в соотношении 75:25\n",
        "- сохраним предсказания и правильные ответы на валидационной выборке\n",
        "- найдём средний запас предсказанного сырья и RMSE модели, и проанализируем результаты\n",
        "\n",
        "Напишем функцию: на вход она получает регион, делит его на признаки и таргет, разбивает данные на обучающую и валидационные выборки, стандартизирует данные и рассчитывает метрики RMSE"
      ]
    },
    {
      "cell_type": "code",
      "execution_count": null,
      "metadata": {
        "id": "5JjLWibw054e"
      },
      "outputs": [],
      "source": [
        "def region_model(data):\n",
        "    #разобьём данные на обучающую и валидационную выборки\n",
        "    features = data.drop(['product'], axis=1)\n",
        "    target = data['product']\n",
        "    features_train, features_valid, target_train, target_valid = train_test_split(features,\n",
        "                                                                                  target,\n",
        "                                                                                  test_size=0.25,\n",
        "                                                                                  random_state=RANDOM_STATE_)\n",
        "\n",
        "    #стандартизируем данные\n",
        "    scaler = StandardScaler()\n",
        "    features_train = scaler.fit_transform(features_train)\n",
        "    features_valid = scaler.fit_transform(features_valid)\n",
        "\n",
        "    #создадим модель линейной регрессии, найдем rmse и средние запасы\n",
        "    lr = LinearRegression(normalize=False)\n",
        "    lr.fit(features_train, target_train)\n",
        "    predictions = lr.predict(features_valid)\n",
        "    predictions = pd.Series(predictions)\n",
        "    rmse = mean_squared_error(target_valid, predictions, squared=False)\n",
        "    stock_mean = data['product'].mean()\n",
        "    stock_mean_predictions = predictions.mean()\n",
        "    return predictions, rmse, stock_mean, stock_mean_predictions, target_valid.reset_index(drop=True)"
      ]
    },
    {
      "cell_type": "code",
      "execution_count": null,
      "metadata": {
        "id": "K9Rzi9AQ054f",
        "outputId": "eb28a6a2-6d56-4b46-8370-6501d942f3d1"
      },
      "outputs": [
        {
          "name": "stdout",
          "output_type": "stream",
          "text": [
            "RMSE по региону 0: 37.58010943632562\n",
            "Средний запас предсказанного сырья по региону 0, тыс. баррелей: 92.64046775305692\n"
          ]
        }
      ],
      "source": [
        "pred_0, rmse_0, stock_mean_0, stock_mean_predictions_0, target_valid_0 = region_model(df_0)\n",
        "print('RMSE по региону 0:', rmse_0)\n",
        "print('Средний запас предсказанного сырья по региону 0, тыс. баррелей:', stock_mean_predictions_0)"
      ]
    },
    {
      "cell_type": "code",
      "execution_count": null,
      "metadata": {
        "id": "dy--rAPy054f",
        "outputId": "f3846286-c5a6-4a5e-c8dd-a4398a5f08cc"
      },
      "outputs": [
        {
          "name": "stdout",
          "output_type": "stream",
          "text": [
            "RMSE по региону 0: 0.910164709305544\n",
            "Средний запас предсказанного сырья по региону 0, тыс. баррелей: 68.85895465854666\n"
          ]
        }
      ],
      "source": [
        "pred_1, rmse_1, stock_mean_1, stock_mean_predictions_1, target_valid_1 = region_model(df_1)\n",
        "print('RMSE по региону 0:', rmse_1)\n",
        "print('Средний запас предсказанного сырья по региону 0, тыс. баррелей:', stock_mean_predictions_1)"
      ]
    },
    {
      "cell_type": "code",
      "execution_count": null,
      "metadata": {
        "id": "1cT1i-P6054f",
        "outputId": "be42e3e1-8e1d-48fc-ca7c-aef821df4e56"
      },
      "outputs": [
        {
          "name": "stdout",
          "output_type": "stream",
          "text": [
            "RMSE по региону 0: 40.0303627970992\n",
            "Средний запас предсказанного сырья по региону 0, тыс. баррелей: 95.03858906371521\n"
          ]
        }
      ],
      "source": [
        "pred_2, rmse_2, stock_mean_2, stock_mean_predictions_2, target_valid_2 = region_model(df_2)\n",
        "print('RMSE по региону 0:', rmse_2)\n",
        "print('Средний запас предсказанного сырья по региону 0, тыс. баррелей:', stock_mean_predictions_2)"
      ]
    },
    {
      "cell_type": "markdown",
      "metadata": {
        "id": "NkXGk8uC054f"
      },
      "source": [
        "**Выводы:**\n",
        "    \n",
        "- лучшие показатели RMSE модели в регионе 1 (RMSE = 0.91) - этот регион более предсказуем. Можно предположить, что причина в отредактированных данных\n",
        "\n",
        "- средний запас предсказанного сырья по региону 1 = 68.858 тыс. баррелей, что меньше чем в двух других регионах\n",
        "\n",
        "- значения RMSE в регионах 0 и 2 говорят о том, что модель работает хуже, и это дает более непредсказуемые результаты"
      ]
    },
    {
      "cell_type": "markdown",
      "metadata": {
        "id": "Dz8y0TSZ054f"
      },
      "source": [
        "## Подготовка к расчёту прибыли"
      ]
    },
    {
      "cell_type": "markdown",
      "metadata": {
        "id": "Mp2pSJCY054f"
      },
      "source": [
        "Согласно условию:\n",
        "- при разведке региона исследуют 500 точек, из которых с помощью машинного обучения выбирают 200 лучших для разработки\n",
        "- бюджет на разработку скважин в регионе — 10 млрд рублей\n",
        "- один баррель сырья приносит 450 рублей дохода (доход с каждой единицы продукта составляет 450 тыс. рублей, поскольку объём указан в тысячах баррелей)\n",
        "\n",
        "После оценки рисков нужно оставить лишь те регионы, в которых вероятность убытков меньше 2.5%. Среди них выбирать регион с наибольшей средней прибылью.\n",
        "\n",
        "Все ключевые значения для расчётов сохраним в отдельных переменных"
      ]
    },
    {
      "cell_type": "code",
      "execution_count": null,
      "metadata": {
        "id": "SrtL0rPP054g"
      },
      "outputs": [],
      "source": [
        "TOTAL_WELLS = 500\n",
        "BEST_WELLS = 200\n",
        "BUDGET = 10000000\n",
        "BARREL_REVENUE = 450\n",
        "PROBABILITY_LOSSES = 0.025"
      ]
    },
    {
      "cell_type": "markdown",
      "metadata": {
        "id": "mDtOoj4Q054g"
      },
      "source": [
        "- рассчитаем достаточный объём сырья для безубыточной разработки новой скважины\n",
        "- сравним полученный объём сырья со средним запасом в каждом регионе."
      ]
    },
    {
      "cell_type": "code",
      "execution_count": null,
      "metadata": {
        "id": "TJ8NgsHi054g",
        "outputId": "a82354e6-b115-40bf-a46b-8176a779636f"
      },
      "outputs": [
        {
          "name": "stdout",
          "output_type": "stream",
          "text": [
            "Бюджет бурения одного месторождения, тыс. рублей: 50000\n"
          ]
        }
      ],
      "source": [
        "drilling_cost = BUDGET / BEST_WELLS\n",
        "print('Бюджет бурения одного месторождения, тыс. рублей:', int(drilling_cost))"
      ]
    },
    {
      "cell_type": "code",
      "execution_count": null,
      "metadata": {
        "id": "vUDCk48Y054g",
        "outputId": "4936a7cb-3c3a-40f0-9f35-c123ff1d7022"
      },
      "outputs": [
        {
          "name": "stdout",
          "output_type": "stream",
          "text": [
            "Объём сырья для безубыточной разработки новой скважины, тыс. баррелей: 111.11111111111111\n"
          ]
        }
      ],
      "source": [
        "print('Объём сырья для безубыточной разработки новой скважины, тыс. баррелей:', drilling_cost / BARREL_REVENUE)"
      ]
    },
    {
      "cell_type": "code",
      "execution_count": null,
      "metadata": {
        "id": "U7MCewya054g",
        "outputId": "11f28ae9-70cb-4fc1-8c81-80ebf99bb5f8"
      },
      "outputs": [
        {
          "name": "stdout",
          "output_type": "stream",
          "text": [
            "Средний запас сырья региона 0, тыс. баррелей: 92.50000000000001\n",
            "Средний запас сырья региона 1, тыс. баррелей: 68.82500000000002\n",
            "Средний запас сырья региона 2, тыс. баррелей: 95.00000000000004\n"
          ]
        }
      ],
      "source": [
        "print('Средний запас сырья региона 0, тыс. баррелей:', stock_mean_0)\n",
        "print('Средний запас сырья региона 1, тыс. баррелей:', stock_mean_1)\n",
        "print('Средний запас сырья региона 2, тыс. баррелей:', stock_mean_2)"
      ]
    },
    {
      "cell_type": "markdown",
      "metadata": {
        "id": "r6oaK6ho054g"
      },
      "source": [
        "**Выводы:**\n",
        "\n",
        "- бюджет бурения одного месторождения - 50000 тыс. рублей\n",
        "- необходимый объём сырья для безубыточной разработки новой скважины - 111.11 тыс. баррелей\n",
        "- средний запас сырья в скважинах меньше, чем достаточный объём сырья для безубыточной разработки новой скважины"
      ]
    },
    {
      "cell_type": "markdown",
      "metadata": {
        "id": "-uqW_NIr054g"
      },
      "source": [
        "## Расчёт прибыли и рисков"
      ]
    },
    {
      "cell_type": "markdown",
      "metadata": {
        "id": "AOZVxCVC054g"
      },
      "source": [
        "Напишем функцию для расчёта прибыли по выбранным скважинам и предсказаниям модели:\n",
        "- выберем скважины с максимальными значениями предсказаний\n",
        "- просуммируем целевое значение объёма сырья, соответствующее этим предсказаниям\n",
        "- рассчитаем прибыль для полученного объёма сырья"
      ]
    },
    {
      "cell_type": "code",
      "execution_count": null,
      "metadata": {
        "id": "zZ702nA6054g"
      },
      "outputs": [],
      "source": [
        "def profit(prediction, target):\n",
        "    data = pd.concat([prediction, target], axis=1)\n",
        "    data.columns = ['prediction','target']\n",
        "    data = data.sort_values(by='prediction', ascending=False)\n",
        "    data = data[:BEST_WELLS]\n",
        "    return (data['target'].sum() * BARREL_REVENUE - BUDGET)"
      ]
    },
    {
      "cell_type": "code",
      "execution_count": null,
      "metadata": {
        "id": "J6c7FT2c054h",
        "outputId": "dfdaca3c-b816-4dc8-a2c7-8cd80808f9ff"
      },
      "outputs": [
        {
          "name": "stdout",
          "output_type": "stream",
          "text": [
            "Прибыль для полученного объёма сырья региона 0, млн. руб: 3320.8260431398526\n"
          ]
        }
      ],
      "source": [
        "revenue_0 = profit(pred_0, target_valid_0)\n",
        "\n",
        "print('Прибыль для полученного объёма сырья региона 0, млн. руб:', revenue_0 / 1000)"
      ]
    },
    {
      "cell_type": "code",
      "execution_count": null,
      "metadata": {
        "id": "d03rlN8X054h",
        "outputId": "b9e778f2-6826-467a-fa59-a260efce0e20"
      },
      "outputs": [
        {
          "name": "stdout",
          "output_type": "stream",
          "text": [
            "Прибыль для полученного объёма сырья региона 1, млн. руб: 2415.0866966815124\n"
          ]
        }
      ],
      "source": [
        "revenue_1 = profit(pred_1, target_valid_1)\n",
        "\n",
        "print('Прибыль для полученного объёма сырья региона 1, млн. руб:', revenue_1 / 1000)"
      ]
    },
    {
      "cell_type": "code",
      "execution_count": null,
      "metadata": {
        "id": "pqOKl9Yc054h",
        "outputId": "747e0b90-37f8-414c-8bb7-f3114191c46a"
      },
      "outputs": [
        {
          "name": "stdout",
          "output_type": "stream",
          "text": [
            "Прибыль для полученного объёма сырья региона 2, млн. руб: 2710.349963599833\n"
          ]
        }
      ],
      "source": [
        "revenue_2 = profit(pred_2, target_valid_2)\n",
        "\n",
        "print('Прибыль для полученного объёма сырья региона 2, млн. руб:', revenue_2 / 1000)"
      ]
    },
    {
      "cell_type": "markdown",
      "metadata": {
        "id": "vCM-bg18054h"
      },
      "source": [
        "Посчитаем риски и прибыль для каждого региона:\n",
        "- применим технику Bootstrap с 1000 выборок, чтобы найти распределение прибыли\n",
        "- найдём среднюю прибыль, 95%-й доверительный интервал и риск убытков\n",
        "- предложим регион для разработки скважин и обоснуем выбор"
      ]
    },
    {
      "cell_type": "code",
      "execution_count": null,
      "metadata": {
        "id": "C4clrjk7054h"
      },
      "outputs": [],
      "source": [
        "def bootstrap(prediction, target):\n",
        "    state = np.random.RandomState(12345)\n",
        "    values = []\n",
        "    for i in range(1000):\n",
        "        target_subsample = target.sample(n=500, replace=True, random_state=state)\n",
        "        pred_subsample = prediction[target_subsample.index]\n",
        "        values.append(profit(pred_subsample, target_subsample))\n",
        "\n",
        "    values = pd.Series(values)\n",
        "    mean = np.mean(values) / 1000\n",
        "\n",
        "    lower = values.quantile(0.025) / 1000\n",
        "    upper = values.quantile(0.975) / 1000\n",
        "\n",
        "    confidence_interval = (lower, upper)\n",
        "    risk_loss = (values < 0).mean() * 100\n",
        "\n",
        "    print('Средняя прибыль, млн. рублей', mean)\n",
        "    print('95% доверительный интервал от', lower, 'до', upper, 'млн. рублей')\n",
        "    print('Процент риска', risk_loss, '%')"
      ]
    },
    {
      "cell_type": "code",
      "execution_count": null,
      "metadata": {
        "id": "qun5iXAn054h",
        "outputId": "7e05cb88-6953-49ca-a6b0-3af2a8454f4f"
      },
      "outputs": [
        {
          "name": "stdout",
          "output_type": "stream",
          "text": [
            "Средняя прибыль, млн. рублей 395.86551198497347\n",
            "95% доверительный интервал от -108.9542256755867 до 909.105814835893 млн. рублей\n",
            "Процент риска 7.000000000000001 %\n"
          ]
        }
      ],
      "source": [
        "region_0 = bootstrap(pred_0, target_valid_0)"
      ]
    },
    {
      "cell_type": "code",
      "execution_count": null,
      "metadata": {
        "id": "CcElAl_4054h",
        "outputId": "e7e380bd-25b9-49a7-fdc2-fb7d1ebf4964"
      },
      "outputs": [
        {
          "name": "stdout",
          "output_type": "stream",
          "text": [
            "Средняя прибыль, млн. рублей 456.0436751904983\n",
            "95% доверительный интервал от 33.820509398983845 до 852.2894538660345 млн. рублей\n",
            "Процент риска 1.5 %\n"
          ]
        }
      ],
      "source": [
        "region_1 = bootstrap(pred_1, target_valid_1)"
      ]
    },
    {
      "cell_type": "code",
      "execution_count": null,
      "metadata": {
        "id": "B7_etrJk054i",
        "outputId": "efcc17fe-a909-42db-84f7-649f4fa12276"
      },
      "outputs": [
        {
          "name": "stdout",
          "output_type": "stream",
          "text": [
            "Средняя прибыль, млн. рублей 404.4049302502108\n",
            "95% доверительный интервал от -163.3504133955995 до 950.3595749238009 млн. рублей\n",
            "Процент риска 7.6 %\n"
          ]
        }
      ],
      "source": [
        "region_2 = bootstrap(pred_2, target_valid_2)"
      ]
    },
    {
      "cell_type": "markdown",
      "metadata": {
        "id": "Ac77jU7O054i"
      },
      "source": [
        "**Общие выводы:**\n",
        "\n",
        "- изучены предоставленные данные трёх регионов, обучена модель линейной регрессии и предложен расчёт прибыли и рисков для каждого региона\n",
        "- регион 1 - единственный, у которого доверительный интервал не уходит в минус\n",
        "- наиболее перспективный - регион 1. Добыча нефти в нем связана с наименьшим риском и предполагает получение наибольшой средней прибыли\n",
        "- регион 0 и регион 2 имеют вероятность убытков больше 2.5% (более чем в 2 и 3 раза соответственно), что не соответствует условию поставленной задачи"
      ]
    }
  ],
  "metadata": {
    "ExecuteTimeLog": [
      {
        "duration": 1654,
        "start_time": "2023-05-27T08:42:40.124Z"
      },
      {
        "duration": 533,
        "start_time": "2023-05-27T08:44:29.557Z"
      },
      {
        "duration": 25,
        "start_time": "2023-05-27T08:44:32.355Z"
      },
      {
        "duration": 581,
        "start_time": "2023-05-27T08:45:14.733Z"
      },
      {
        "duration": 544,
        "start_time": "2023-05-27T08:45:40.859Z"
      },
      {
        "duration": 134,
        "start_time": "2023-05-27T08:45:49.980Z"
      },
      {
        "duration": 114,
        "start_time": "2023-05-27T08:45:50.380Z"
      },
      {
        "duration": 122,
        "start_time": "2023-05-27T08:45:50.739Z"
      },
      {
        "duration": 20,
        "start_time": "2023-05-27T08:45:56.353Z"
      },
      {
        "duration": 10,
        "start_time": "2023-05-27T08:47:15.438Z"
      },
      {
        "duration": 5,
        "start_time": "2023-05-27T09:57:38.690Z"
      },
      {
        "duration": 143,
        "start_time": "2023-05-27T09:57:39.413Z"
      },
      {
        "duration": 136,
        "start_time": "2023-05-27T09:57:40.086Z"
      },
      {
        "duration": 150,
        "start_time": "2023-05-27T09:57:40.519Z"
      },
      {
        "duration": 10,
        "start_time": "2023-05-27T09:57:41.128Z"
      },
      {
        "duration": 14,
        "start_time": "2023-05-27T09:57:54.470Z"
      },
      {
        "duration": 12,
        "start_time": "2023-05-27T09:58:05.335Z"
      },
      {
        "duration": 20,
        "start_time": "2023-05-27T09:58:09.749Z"
      },
      {
        "duration": 22,
        "start_time": "2023-05-27T09:58:17.497Z"
      },
      {
        "duration": 48,
        "start_time": "2023-05-27T09:58:45.641Z"
      },
      {
        "duration": 52,
        "start_time": "2023-05-27T10:00:34.393Z"
      },
      {
        "duration": 74,
        "start_time": "2023-05-27T10:01:08.891Z"
      },
      {
        "duration": 188,
        "start_time": "2023-05-27T10:01:19.154Z"
      },
      {
        "duration": 57,
        "start_time": "2023-05-27T10:02:46.937Z"
      },
      {
        "duration": 138,
        "start_time": "2023-05-27T10:03:17.497Z"
      },
      {
        "duration": 125,
        "start_time": "2023-05-27T10:07:24.038Z"
      },
      {
        "duration": 62,
        "start_time": "2023-05-27T10:09:58.735Z"
      },
      {
        "duration": 14,
        "start_time": "2023-05-27T10:13:52.321Z"
      },
      {
        "duration": 177,
        "start_time": "2023-05-27T10:14:02.534Z"
      },
      {
        "duration": 402,
        "start_time": "2023-05-27T10:14:15.936Z"
      },
      {
        "duration": 477,
        "start_time": "2023-05-27T10:14:26.558Z"
      },
      {
        "duration": 381,
        "start_time": "2023-05-27T10:18:42.740Z"
      },
      {
        "duration": 19,
        "start_time": "2023-05-27T10:31:20.940Z"
      },
      {
        "duration": 61,
        "start_time": "2023-05-27T10:31:40.349Z"
      },
      {
        "duration": 195,
        "start_time": "2023-05-27T10:38:14.974Z"
      },
      {
        "duration": 179,
        "start_time": "2023-05-27T10:38:26.200Z"
      },
      {
        "duration": 259,
        "start_time": "2023-05-27T10:38:34.783Z"
      },
      {
        "duration": 167,
        "start_time": "2023-05-27T10:38:42.187Z"
      },
      {
        "duration": 167,
        "start_time": "2023-05-27T10:39:03.002Z"
      },
      {
        "duration": 11,
        "start_time": "2023-05-27T10:39:30.786Z"
      },
      {
        "duration": 20,
        "start_time": "2023-05-27T10:39:59.858Z"
      },
      {
        "duration": 54,
        "start_time": "2023-05-27T10:44:56.341Z"
      },
      {
        "duration": 23,
        "start_time": "2023-05-27T10:45:33.142Z"
      },
      {
        "duration": 15,
        "start_time": "2023-05-27T10:45:36.042Z"
      },
      {
        "duration": 1965,
        "start_time": "2023-05-27T13:18:40.198Z"
      },
      {
        "duration": 702,
        "start_time": "2023-05-27T13:18:42.166Z"
      },
      {
        "duration": 756,
        "start_time": "2023-05-27T13:18:42.870Z"
      },
      {
        "duration": 795,
        "start_time": "2023-05-27T13:18:43.628Z"
      },
      {
        "duration": 42,
        "start_time": "2023-05-27T13:18:44.430Z"
      },
      {
        "duration": 84,
        "start_time": "2023-05-27T13:18:44.477Z"
      },
      {
        "duration": 190,
        "start_time": "2023-05-27T13:18:44.564Z"
      },
      {
        "duration": 166,
        "start_time": "2023-05-27T13:18:44.756Z"
      },
      {
        "duration": 211,
        "start_time": "2023-05-27T13:18:44.924Z"
      },
      {
        "duration": 9,
        "start_time": "2023-05-27T13:18:45.138Z"
      },
      {
        "duration": 487,
        "start_time": "2023-05-27T13:18:45.149Z"
      },
      {
        "duration": 409,
        "start_time": "2023-05-27T13:18:45.637Z"
      },
      {
        "duration": 524,
        "start_time": "2023-05-27T13:18:46.048Z"
      },
      {
        "duration": 61,
        "start_time": "2023-05-27T13:18:46.576Z"
      },
      {
        "duration": 23,
        "start_time": "2023-05-27T13:18:46.646Z"
      },
      {
        "duration": 25,
        "start_time": "2023-05-27T13:19:18.072Z"
      },
      {
        "duration": 4,
        "start_time": "2023-05-27T13:22:14.623Z"
      },
      {
        "duration": 152,
        "start_time": "2023-05-27T13:22:27.471Z"
      },
      {
        "duration": 31,
        "start_time": "2023-05-27T13:22:49.035Z"
      },
      {
        "duration": 4,
        "start_time": "2023-05-27T13:23:27.667Z"
      },
      {
        "duration": 4,
        "start_time": "2023-05-27T13:23:39.835Z"
      },
      {
        "duration": 190,
        "start_time": "2023-05-27T13:23:40.248Z"
      },
      {
        "duration": 8,
        "start_time": "2023-05-27T13:24:11.817Z"
      },
      {
        "duration": 106,
        "start_time": "2023-05-27T13:24:16.571Z"
      },
      {
        "duration": 84,
        "start_time": "2023-05-27T13:25:10.949Z"
      },
      {
        "duration": 63,
        "start_time": "2023-05-27T13:25:31.043Z"
      },
      {
        "duration": 78,
        "start_time": "2023-05-27T13:25:39.771Z"
      },
      {
        "duration": 4,
        "start_time": "2023-05-27T13:43:41.645Z"
      },
      {
        "duration": 4,
        "start_time": "2023-05-27T13:45:04.426Z"
      },
      {
        "duration": 3,
        "start_time": "2023-05-27T13:45:20.888Z"
      },
      {
        "duration": 5,
        "start_time": "2023-05-27T13:45:21.298Z"
      },
      {
        "duration": 4,
        "start_time": "2023-05-27T13:46:04.131Z"
      },
      {
        "duration": 4,
        "start_time": "2023-05-27T13:46:29.907Z"
      },
      {
        "duration": 3,
        "start_time": "2023-05-27T13:46:34.966Z"
      },
      {
        "duration": 4,
        "start_time": "2023-05-27T13:53:41.146Z"
      },
      {
        "duration": 3,
        "start_time": "2023-05-27T13:53:46.611Z"
      },
      {
        "duration": 3,
        "start_time": "2023-05-27T13:54:19.503Z"
      },
      {
        "duration": 18,
        "start_time": "2023-05-27T13:55:01.471Z"
      },
      {
        "duration": 35,
        "start_time": "2023-05-27T13:55:44.927Z"
      },
      {
        "duration": 4,
        "start_time": "2023-05-27T13:56:41.342Z"
      },
      {
        "duration": 3,
        "start_time": "2023-05-27T13:56:54.947Z"
      },
      {
        "duration": 4,
        "start_time": "2023-05-27T13:56:55.459Z"
      },
      {
        "duration": 7,
        "start_time": "2023-05-27T13:56:56.398Z"
      },
      {
        "duration": 4,
        "start_time": "2023-05-27T13:57:06.543Z"
      },
      {
        "duration": 163,
        "start_time": "2023-05-27T13:57:06.550Z"
      },
      {
        "duration": 119,
        "start_time": "2023-05-27T13:57:06.715Z"
      },
      {
        "duration": 128,
        "start_time": "2023-05-27T13:57:06.836Z"
      },
      {
        "duration": 45,
        "start_time": "2023-05-27T13:57:06.965Z"
      },
      {
        "duration": 42,
        "start_time": "2023-05-27T13:57:07.012Z"
      },
      {
        "duration": 109,
        "start_time": "2023-05-27T13:57:07.055Z"
      },
      {
        "duration": 144,
        "start_time": "2023-05-27T13:57:07.165Z"
      },
      {
        "duration": 114,
        "start_time": "2023-05-27T13:57:07.311Z"
      },
      {
        "duration": 5,
        "start_time": "2023-05-27T13:57:07.428Z"
      },
      {
        "duration": 380,
        "start_time": "2023-05-27T13:57:07.435Z"
      },
      {
        "duration": 414,
        "start_time": "2023-05-27T13:57:07.817Z"
      },
      {
        "duration": 370,
        "start_time": "2023-05-27T13:57:08.232Z"
      },
      {
        "duration": 38,
        "start_time": "2023-05-27T13:57:08.604Z"
      },
      {
        "duration": 11,
        "start_time": "2023-05-27T13:57:08.644Z"
      },
      {
        "duration": 34,
        "start_time": "2023-05-27T13:57:08.657Z"
      },
      {
        "duration": 81,
        "start_time": "2023-05-27T13:57:08.696Z"
      },
      {
        "duration": 127,
        "start_time": "2023-05-27T13:57:08.782Z"
      },
      {
        "duration": 200,
        "start_time": "2023-05-27T13:57:08.911Z"
      },
      {
        "duration": 66,
        "start_time": "2023-05-27T13:57:09.116Z"
      },
      {
        "duration": 4,
        "start_time": "2023-05-27T13:57:09.187Z"
      },
      {
        "duration": 3,
        "start_time": "2023-05-27T13:57:09.192Z"
      },
      {
        "duration": 5,
        "start_time": "2023-05-27T13:57:12.411Z"
      },
      {
        "duration": 7,
        "start_time": "2023-05-27T14:12:02.816Z"
      },
      {
        "duration": 8,
        "start_time": "2023-05-27T14:12:55.729Z"
      },
      {
        "duration": 14,
        "start_time": "2023-05-27T14:12:59.767Z"
      },
      {
        "duration": 5,
        "start_time": "2023-05-27T14:14:43.430Z"
      },
      {
        "duration": 4,
        "start_time": "2023-05-27T14:14:55.150Z"
      },
      {
        "duration": 10,
        "start_time": "2023-05-27T14:16:41.631Z"
      },
      {
        "duration": 4,
        "start_time": "2023-05-27T14:17:03.755Z"
      },
      {
        "duration": 8,
        "start_time": "2023-05-27T14:17:09.716Z"
      },
      {
        "duration": 18,
        "start_time": "2023-05-27T14:18:52.409Z"
      },
      {
        "duration": 8,
        "start_time": "2023-05-27T14:19:19.923Z"
      },
      {
        "duration": 12,
        "start_time": "2023-05-27T14:22:05.705Z"
      },
      {
        "duration": 9,
        "start_time": "2023-05-27T14:23:11.602Z"
      },
      {
        "duration": 10,
        "start_time": "2023-05-27T14:23:18.649Z"
      },
      {
        "duration": 7,
        "start_time": "2023-05-27T14:26:54.958Z"
      },
      {
        "duration": 7,
        "start_time": "2023-05-27T14:28:49.025Z"
      },
      {
        "duration": 1958,
        "start_time": "2023-05-27T14:29:00.839Z"
      },
      {
        "duration": 1825,
        "start_time": "2023-05-27T14:29:17.831Z"
      },
      {
        "duration": 1902,
        "start_time": "2023-05-27T14:29:25.228Z"
      },
      {
        "duration": 5,
        "start_time": "2023-05-27T14:30:07.219Z"
      },
      {
        "duration": 2079,
        "start_time": "2023-05-27T14:30:08.064Z"
      },
      {
        "duration": 1954,
        "start_time": "2023-05-27T14:30:10.800Z"
      },
      {
        "duration": 2037,
        "start_time": "2023-05-27T14:30:12.756Z"
      },
      {
        "duration": 5,
        "start_time": "2023-05-27T14:30:18.637Z"
      },
      {
        "duration": 1807,
        "start_time": "2023-05-27T14:30:19.398Z"
      },
      {
        "duration": 1843,
        "start_time": "2023-05-27T14:30:21.209Z"
      },
      {
        "duration": 1935,
        "start_time": "2023-05-27T14:30:23.055Z"
      },
      {
        "duration": 1992,
        "start_time": "2023-05-27T20:06:40.896Z"
      },
      {
        "duration": 130,
        "start_time": "2023-05-27T20:06:42.889Z"
      },
      {
        "duration": 111,
        "start_time": "2023-05-27T20:06:43.020Z"
      },
      {
        "duration": 129,
        "start_time": "2023-05-27T20:06:43.133Z"
      },
      {
        "duration": 21,
        "start_time": "2023-05-27T20:06:43.264Z"
      },
      {
        "duration": 51,
        "start_time": "2023-05-27T20:06:43.286Z"
      },
      {
        "duration": 117,
        "start_time": "2023-05-27T20:06:43.339Z"
      },
      {
        "duration": 135,
        "start_time": "2023-05-27T20:06:43.457Z"
      },
      {
        "duration": 142,
        "start_time": "2023-05-27T20:06:43.594Z"
      },
      {
        "duration": 6,
        "start_time": "2023-05-27T20:06:43.739Z"
      },
      {
        "duration": 317,
        "start_time": "2023-05-27T20:06:43.747Z"
      },
      {
        "duration": 339,
        "start_time": "2023-05-27T20:06:44.066Z"
      },
      {
        "duration": 408,
        "start_time": "2023-05-27T20:06:44.407Z"
      },
      {
        "duration": 37,
        "start_time": "2023-05-27T20:06:44.816Z"
      },
      {
        "duration": 14,
        "start_time": "2023-05-27T20:06:44.854Z"
      },
      {
        "duration": 5,
        "start_time": "2023-05-27T20:06:44.870Z"
      },
      {
        "duration": 53,
        "start_time": "2023-05-27T20:06:44.876Z"
      },
      {
        "duration": 208,
        "start_time": "2023-05-27T20:06:44.930Z"
      },
      {
        "duration": 197,
        "start_time": "2023-05-27T20:06:45.139Z"
      },
      {
        "duration": 80,
        "start_time": "2023-05-27T20:06:45.338Z"
      },
      {
        "duration": 97,
        "start_time": "2023-05-27T20:06:45.420Z"
      },
      {
        "duration": 4,
        "start_time": "2023-05-27T20:06:45.519Z"
      },
      {
        "duration": 5,
        "start_time": "2023-05-27T20:06:45.524Z"
      },
      {
        "duration": 4,
        "start_time": "2023-05-27T20:06:45.531Z"
      },
      {
        "duration": 18,
        "start_time": "2023-05-27T20:06:45.536Z"
      },
      {
        "duration": 13,
        "start_time": "2023-05-27T20:06:45.555Z"
      },
      {
        "duration": 7,
        "start_time": "2023-05-27T20:06:45.570Z"
      },
      {
        "duration": 5,
        "start_time": "2023-05-27T20:06:45.579Z"
      },
      {
        "duration": 1379,
        "start_time": "2023-05-27T20:06:45.585Z"
      },
      {
        "duration": 1335,
        "start_time": "2023-05-27T20:06:46.966Z"
      },
      {
        "duration": 1314,
        "start_time": "2023-05-27T20:06:48.302Z"
      },
      {
        "duration": 1531,
        "start_time": "2023-05-28T08:13:45.288Z"
      },
      {
        "duration": 32,
        "start_time": "2023-05-28T08:14:01.308Z"
      },
      {
        "duration": 540,
        "start_time": "2023-05-28T08:14:14.196Z"
      },
      {
        "duration": 568,
        "start_time": "2023-05-28T08:14:17.848Z"
      },
      {
        "duration": 520,
        "start_time": "2023-05-28T08:14:18.418Z"
      },
      {
        "duration": 108,
        "start_time": "2023-05-28T08:15:17.105Z"
      },
      {
        "duration": 3,
        "start_time": "2023-05-28T08:17:53.860Z"
      },
      {
        "duration": 27,
        "start_time": "2023-05-28T08:18:02.807Z"
      },
      {
        "duration": 4,
        "start_time": "2023-05-28T08:22:20.494Z"
      },
      {
        "duration": 526,
        "start_time": "2023-05-28T08:22:22.860Z"
      },
      {
        "duration": 4,
        "start_time": "2023-05-28T08:23:28.819Z"
      },
      {
        "duration": 542,
        "start_time": "2023-05-28T08:23:30.546Z"
      },
      {
        "duration": 14,
        "start_time": "2023-05-28T08:27:16.493Z"
      },
      {
        "duration": 37,
        "start_time": "2023-05-28T08:27:47.862Z"
      },
      {
        "duration": 20,
        "start_time": "2023-05-28T08:27:52.787Z"
      },
      {
        "duration": 1549,
        "start_time": "2023-05-28T10:39:00.267Z"
      },
      {
        "duration": 662,
        "start_time": "2023-05-28T10:39:04.506Z"
      },
      {
        "duration": 572,
        "start_time": "2023-05-28T10:39:05.393Z"
      },
      {
        "duration": 522,
        "start_time": "2023-05-28T10:39:05.967Z"
      },
      {
        "duration": 3,
        "start_time": "2023-05-28T10:39:07.889Z"
      },
      {
        "duration": 388,
        "start_time": "2023-05-28T10:39:08.591Z"
      },
      {
        "duration": 24,
        "start_time": "2023-05-28T10:39:33.733Z"
      },
      {
        "duration": 28,
        "start_time": "2023-05-28T10:40:22.501Z"
      },
      {
        "duration": 53,
        "start_time": "2023-05-28T10:41:01.937Z"
      },
      {
        "duration": 111,
        "start_time": "2023-05-28T10:41:15.398Z"
      },
      {
        "duration": 20,
        "start_time": "2023-05-28T10:43:25.202Z"
      },
      {
        "duration": 25,
        "start_time": "2023-05-28T10:43:41.632Z"
      },
      {
        "duration": 30,
        "start_time": "2023-05-28T10:45:51.067Z"
      },
      {
        "duration": 21,
        "start_time": "2023-05-28T10:49:01.320Z"
      },
      {
        "duration": 22,
        "start_time": "2023-05-28T10:49:26.293Z"
      },
      {
        "duration": 15,
        "start_time": "2023-05-28T10:49:32.815Z"
      },
      {
        "duration": 18,
        "start_time": "2023-05-28T10:50:03.106Z"
      },
      {
        "duration": 15,
        "start_time": "2023-05-28T10:50:24.812Z"
      },
      {
        "duration": 7,
        "start_time": "2023-05-28T10:57:36.315Z"
      },
      {
        "duration": 380,
        "start_time": "2023-05-28T10:58:04.923Z"
      },
      {
        "duration": 432,
        "start_time": "2023-05-28T10:58:05.389Z"
      },
      {
        "duration": 471,
        "start_time": "2023-05-28T10:58:05.822Z"
      },
      {
        "duration": 356,
        "start_time": "2023-05-28T11:01:52.821Z"
      },
      {
        "duration": 167,
        "start_time": "2023-05-28T11:02:14.447Z"
      },
      {
        "duration": 9,
        "start_time": "2023-05-28T11:03:47.813Z"
      },
      {
        "duration": 5,
        "start_time": "2023-05-28T11:04:30.698Z"
      },
      {
        "duration": 11,
        "start_time": "2023-05-28T11:04:38.847Z"
      },
      {
        "duration": 5200,
        "start_time": "2023-05-28T11:06:39.701Z"
      },
      {
        "duration": 26,
        "start_time": "2023-05-28T11:08:07.293Z"
      },
      {
        "duration": 42,
        "start_time": "2023-05-28T11:08:13.967Z"
      },
      {
        "duration": 6279,
        "start_time": "2023-05-28T11:08:16.901Z"
      },
      {
        "duration": 5338,
        "start_time": "2023-05-28T11:08:37.889Z"
      },
      {
        "duration": 354,
        "start_time": "2023-05-28T11:09:04.730Z"
      },
      {
        "duration": 515,
        "start_time": "2023-05-28T11:09:12.090Z"
      },
      {
        "duration": 387,
        "start_time": "2023-05-28T11:09:15.910Z"
      },
      {
        "duration": 5053,
        "start_time": "2023-05-28T11:09:30.493Z"
      },
      {
        "duration": 5164,
        "start_time": "2023-05-28T11:09:50.006Z"
      },
      {
        "duration": 5013,
        "start_time": "2023-05-28T11:09:55.172Z"
      },
      {
        "duration": 61,
        "start_time": "2023-05-28T11:12:50.424Z"
      },
      {
        "duration": 29,
        "start_time": "2023-05-28T11:19:42.069Z"
      },
      {
        "duration": 138,
        "start_time": "2023-05-28T11:19:42.100Z"
      },
      {
        "duration": 137,
        "start_time": "2023-05-28T11:19:42.240Z"
      },
      {
        "duration": 140,
        "start_time": "2023-05-28T11:19:42.379Z"
      },
      {
        "duration": 48,
        "start_time": "2023-05-28T11:19:42.522Z"
      },
      {
        "duration": 41,
        "start_time": "2023-05-28T11:19:42.571Z"
      },
      {
        "duration": 122,
        "start_time": "2023-05-28T11:19:42.613Z"
      },
      {
        "duration": 139,
        "start_time": "2023-05-28T11:19:42.737Z"
      },
      {
        "duration": 127,
        "start_time": "2023-05-28T11:19:42.878Z"
      },
      {
        "duration": 30,
        "start_time": "2023-05-28T11:19:43.007Z"
      },
      {
        "duration": 18,
        "start_time": "2023-05-28T11:19:43.059Z"
      },
      {
        "duration": 21,
        "start_time": "2023-05-28T11:19:43.079Z"
      },
      {
        "duration": 10,
        "start_time": "2023-05-28T11:19:43.101Z"
      },
      {
        "duration": 540,
        "start_time": "2023-05-28T11:19:43.114Z"
      },
      {
        "duration": 369,
        "start_time": "2023-05-28T11:19:43.655Z"
      },
      {
        "duration": 448,
        "start_time": "2023-05-28T11:19:44.025Z"
      },
      {
        "duration": 44,
        "start_time": "2023-05-28T11:19:44.476Z"
      },
      {
        "duration": 4964,
        "start_time": "2023-05-28T11:19:44.522Z"
      },
      {
        "duration": 5277,
        "start_time": "2023-05-28T11:19:49.488Z"
      },
      {
        "duration": 5117,
        "start_time": "2023-05-28T11:19:54.768Z"
      },
      {
        "duration": 16,
        "start_time": "2023-05-28T11:19:59.887Z"
      },
      {
        "duration": 5,
        "start_time": "2023-05-28T11:19:59.905Z"
      },
      {
        "duration": 7,
        "start_time": "2023-05-28T11:20:34.181Z"
      },
      {
        "duration": 128,
        "start_time": "2023-05-28T11:20:37.325Z"
      },
      {
        "duration": 30,
        "start_time": "2023-05-28T11:20:44.710Z"
      },
      {
        "duration": 39,
        "start_time": "2023-05-28T11:20:48.642Z"
      },
      {
        "duration": 3,
        "start_time": "2023-05-28T11:21:18.250Z"
      },
      {
        "duration": 3,
        "start_time": "2023-05-28T11:21:47.028Z"
      },
      {
        "duration": 4,
        "start_time": "2023-05-28T11:21:48.316Z"
      },
      {
        "duration": 8,
        "start_time": "2023-05-28T11:22:06.557Z"
      },
      {
        "duration": 4,
        "start_time": "2023-05-28T11:22:15.116Z"
      },
      {
        "duration": 4,
        "start_time": "2023-05-28T11:23:10.164Z"
      },
      {
        "duration": 10,
        "start_time": "2023-05-28T11:23:11.889Z"
      },
      {
        "duration": 10,
        "start_time": "2023-05-28T11:23:14.518Z"
      },
      {
        "duration": 10,
        "start_time": "2023-05-28T11:23:15.343Z"
      },
      {
        "duration": 6,
        "start_time": "2023-05-28T11:23:27.516Z"
      },
      {
        "duration": 1837,
        "start_time": "2023-05-28T11:23:30.326Z"
      },
      {
        "duration": 1749,
        "start_time": "2023-05-28T11:23:35.295Z"
      },
      {
        "duration": 5,
        "start_time": "2023-05-28T11:24:17.942Z"
      },
      {
        "duration": 1778,
        "start_time": "2023-05-28T11:24:20.291Z"
      },
      {
        "duration": 1877,
        "start_time": "2023-05-28T11:24:23.532Z"
      },
      {
        "duration": 1921,
        "start_time": "2023-05-28T11:24:30.594Z"
      }
    ],
    "kernelspec": {
      "display_name": "Python 3 (ipykernel)",
      "language": "python",
      "name": "python3"
    },
    "language_info": {
      "codemirror_mode": {
        "name": "ipython",
        "version": 3
      },
      "file_extension": ".py",
      "mimetype": "text/x-python",
      "name": "python",
      "nbconvert_exporter": "python",
      "pygments_lexer": "ipython3",
      "version": "3.9.5"
    },
    "toc": {
      "base_numbering": 1,
      "nav_menu": {},
      "number_sections": true,
      "sideBar": true,
      "skip_h1_title": true,
      "title_cell": "Table of Contents",
      "title_sidebar": "Contents",
      "toc_cell": false,
      "toc_position": {},
      "toc_section_display": true,
      "toc_window_display": false
    },
    "colab": {
      "provenance": []
    }
  },
  "nbformat": 4,
  "nbformat_minor": 0
}