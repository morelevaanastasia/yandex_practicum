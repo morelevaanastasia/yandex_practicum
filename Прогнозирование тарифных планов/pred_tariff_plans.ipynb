{
  "cells": [ 
    {
      "cell_type": "markdown",
      "metadata": {
        "id": "jIW9elYGeHQD"
      },
      "source": [
        "# Рекомендация тарифов\n"
      ]
    },
    {
      "cell_type": "markdown",
      "metadata": {
        "id": "6qMdChckeHQD"
      },
      "source": [
        "Оператор мобильной связи «Мегалайн» выяснил: многие клиенты пользуются архивными тарифами. Они хотят построить систему, способную проанализировать поведение клиентов и предложить пользователям новый тариф: «Смарт» или «Ультра».\n",
        "\n",
        "В нашем распоряжении данные о поведении клиентов, которые уже перешли на эти тарифы. Нужно построить модель для задачи классификации, которая выберет подходящий тариф. Предобработка данных уже сделана.\n",
        "\n",
        "Требуется построить модель с максимально большим значением accuracy (тнеобходимо довести долю правильных ответов по крайней мере до 0.75)"
      ]
    },
    {
      "cell_type": "markdown",
      "metadata": {
        "id": "wi4JIcdHeHQD"
      },
      "source": [
        "## Подготовка данных"
      ]
    },
    {
      "cell_type": "markdown",
      "metadata": {
        "id": "oztfvyXueRLS"
      },
      "source": [
        "Загрузим нужные для работы библиотеки и загрузим данные в переменную df"
      ]
    },
    {
      "cell_type": "code",
      "execution_count": 121,
      "metadata": {
        "id": "HZvUhpEpeHQD"
      },
      "outputs": [],
      "source": [
        "import pandas as pd\n",
        "import numpy as np\n",
        "from sklearn.model_selection import train_test_split\n",
        "from sklearn.metrics import accuracy_score, recall_score, precision_score, confusion_matrix\n",
        "from sklearn.linear_model import LogisticRegression\n",
        "from sklearn.ensemble import RandomForestClassifier\n",
        "from sklearn.tree import DecisionTreeClassifier\n",
        "from sklearn.dummy import DummyClassifier\n",
        "\n",
        "RANDOM_STATE_ = 12345"
      ]
    },
    {
      "cell_type": "code",
      "execution_count": 122,
      "metadata": {
        "id": "hMrrZAzgeHQD"
      },
      "outputs": [],
      "source": [
        "try:\n",
        "    df = pd.read_csv('/datasets/users_behavior.csv')\n",
        "except:\n",
        "    df = pd.read_csv('https://code.s3.yandex.net/datasets/users_behavior.csv')"
      ]
    },
    {
      "cell_type": "code",
      "execution_count": 123,
      "metadata": {
        "colab": {
          "base_uri": "https://localhost:8080/",
          "height": 206
        },
        "id": "RzupuVUqeHQE",
        "outputId": "f1747ac2-c8db-4939-f46f-2d1a8790d885"
      },
      "outputs": [
        {
          "output_type": "execute_result",
          "data": {
            "text/plain": [
              "   calls  minutes  messages   mb_used  is_ultra\n",
              "0   40.0   311.90      83.0  19915.42         0\n",
              "1   85.0   516.75      56.0  22696.96         0\n",
              "2   77.0   467.66      86.0  21060.45         0\n",
              "3  106.0   745.53      81.0   8437.39         1\n",
              "4   66.0   418.74       1.0  14502.75         0"
            ],
            "text/html": [
              "\n",
              "  <div id=\"df-58089d1f-495e-4de4-bf02-0b277ab99c0e\" class=\"colab-df-container\">\n",
              "    <div>\n",
              "<style scoped>\n",
              "    .dataframe tbody tr th:only-of-type {\n",
              "        vertical-align: middle;\n",
              "    }\n",
              "\n",
              "    .dataframe tbody tr th {\n",
              "        vertical-align: top;\n",
              "    }\n",
              "\n",
              "    .dataframe thead th {\n",
              "        text-align: right;\n",
              "    }\n",
              "</style>\n",
              "<table border=\"1\" class=\"dataframe\">\n",
              "  <thead>\n",
              "    <tr style=\"text-align: right;\">\n",
              "      <th></th>\n",
              "      <th>calls</th>\n",
              "      <th>minutes</th>\n",
              "      <th>messages</th>\n",
              "      <th>mb_used</th>\n",
              "      <th>is_ultra</th>\n",
              "    </tr>\n",
              "  </thead>\n",
              "  <tbody>\n",
              "    <tr>\n",
              "      <th>0</th>\n",
              "      <td>40.0</td>\n",
              "      <td>311.90</td>\n",
              "      <td>83.0</td>\n",
              "      <td>19915.42</td>\n",
              "      <td>0</td>\n",
              "    </tr>\n",
              "    <tr>\n",
              "      <th>1</th>\n",
              "      <td>85.0</td>\n",
              "      <td>516.75</td>\n",
              "      <td>56.0</td>\n",
              "      <td>22696.96</td>\n",
              "      <td>0</td>\n",
              "    </tr>\n",
              "    <tr>\n",
              "      <th>2</th>\n",
              "      <td>77.0</td>\n",
              "      <td>467.66</td>\n",
              "      <td>86.0</td>\n",
              "      <td>21060.45</td>\n",
              "      <td>0</td>\n",
              "    </tr>\n",
              "    <tr>\n",
              "      <th>3</th>\n",
              "      <td>106.0</td>\n",
              "      <td>745.53</td>\n",
              "      <td>81.0</td>\n",
              "      <td>8437.39</td>\n",
              "      <td>1</td>\n",
              "    </tr>\n",
              "    <tr>\n",
              "      <th>4</th>\n",
              "      <td>66.0</td>\n",
              "      <td>418.74</td>\n",
              "      <td>1.0</td>\n",
              "      <td>14502.75</td>\n",
              "      <td>0</td>\n",
              "    </tr>\n",
              "  </tbody>\n",
              "</table>\n",
              "</div>\n",
              "    <div class=\"colab-df-buttons\">\n",
              "\n",
              "  <div class=\"colab-df-container\">\n",
              "    <button class=\"colab-df-convert\" onclick=\"convertToInteractive('df-58089d1f-495e-4de4-bf02-0b277ab99c0e')\"\n",
              "            title=\"Convert this dataframe to an interactive table.\"\n",
              "            style=\"display:none;\">\n",
              "\n",
              "  <svg xmlns=\"http://www.w3.org/2000/svg\" height=\"24px\" viewBox=\"0 -960 960 960\">\n",
              "    <path d=\"M120-120v-720h720v720H120Zm60-500h600v-160H180v160Zm220 220h160v-160H400v160Zm0 220h160v-160H400v160ZM180-400h160v-160H180v160Zm440 0h160v-160H620v160ZM180-180h160v-160H180v160Zm440 0h160v-160H620v160Z\"/>\n",
              "  </svg>\n",
              "    </button>\n",
              "\n",
              "  <style>\n",
              "    .colab-df-container {\n",
              "      display:flex;\n",
              "      gap: 12px;\n",
              "    }\n",
              "\n",
              "    .colab-df-convert {\n",
              "      background-color: #E8F0FE;\n",
              "      border: none;\n",
              "      border-radius: 50%;\n",
              "      cursor: pointer;\n",
              "      display: none;\n",
              "      fill: #1967D2;\n",
              "      height: 32px;\n",
              "      padding: 0 0 0 0;\n",
              "      width: 32px;\n",
              "    }\n",
              "\n",
              "    .colab-df-convert:hover {\n",
              "      background-color: #E2EBFA;\n",
              "      box-shadow: 0px 1px 2px rgba(60, 64, 67, 0.3), 0px 1px 3px 1px rgba(60, 64, 67, 0.15);\n",
              "      fill: #174EA6;\n",
              "    }\n",
              "\n",
              "    .colab-df-buttons div {\n",
              "      margin-bottom: 4px;\n",
              "    }\n",
              "\n",
              "    [theme=dark] .colab-df-convert {\n",
              "      background-color: #3B4455;\n",
              "      fill: #D2E3FC;\n",
              "    }\n",
              "\n",
              "    [theme=dark] .colab-df-convert:hover {\n",
              "      background-color: #434B5C;\n",
              "      box-shadow: 0px 1px 3px 1px rgba(0, 0, 0, 0.15);\n",
              "      filter: drop-shadow(0px 1px 2px rgba(0, 0, 0, 0.3));\n",
              "      fill: #FFFFFF;\n",
              "    }\n",
              "  </style>\n",
              "\n",
              "    <script>\n",
              "      const buttonEl =\n",
              "        document.querySelector('#df-58089d1f-495e-4de4-bf02-0b277ab99c0e button.colab-df-convert');\n",
              "      buttonEl.style.display =\n",
              "        google.colab.kernel.accessAllowed ? 'block' : 'none';\n",
              "\n",
              "      async function convertToInteractive(key) {\n",
              "        const element = document.querySelector('#df-58089d1f-495e-4de4-bf02-0b277ab99c0e');\n",
              "        const dataTable =\n",
              "          await google.colab.kernel.invokeFunction('convertToInteractive',\n",
              "                                                    [key], {});\n",
              "        if (!dataTable) return;\n",
              "\n",
              "        const docLinkHtml = 'Like what you see? Visit the ' +\n",
              "          '<a target=\"_blank\" href=https://colab.research.google.com/notebooks/data_table.ipynb>data table notebook</a>'\n",
              "          + ' to learn more about interactive tables.';\n",
              "        element.innerHTML = '';\n",
              "        dataTable['output_type'] = 'display_data';\n",
              "        await google.colab.output.renderOutput(dataTable, element);\n",
              "        const docLink = document.createElement('div');\n",
              "        docLink.innerHTML = docLinkHtml;\n",
              "        element.appendChild(docLink);\n",
              "      }\n",
              "    </script>\n",
              "  </div>\n",
              "\n",
              "\n",
              "<div id=\"df-46d81350-8e30-46de-9772-77c190c02c51\">\n",
              "  <button class=\"colab-df-quickchart\" onclick=\"quickchart('df-46d81350-8e30-46de-9772-77c190c02c51')\"\n",
              "            title=\"Suggest charts.\"\n",
              "            style=\"display:none;\">\n",
              "\n",
              "<svg xmlns=\"http://www.w3.org/2000/svg\" height=\"24px\"viewBox=\"0 0 24 24\"\n",
              "     width=\"24px\">\n",
              "    <g>\n",
              "        <path d=\"M19 3H5c-1.1 0-2 .9-2 2v14c0 1.1.9 2 2 2h14c1.1 0 2-.9 2-2V5c0-1.1-.9-2-2-2zM9 17H7v-7h2v7zm4 0h-2V7h2v10zm4 0h-2v-4h2v4z\"/>\n",
              "    </g>\n",
              "</svg>\n",
              "  </button>\n",
              "\n",
              "<style>\n",
              "  .colab-df-quickchart {\n",
              "      --bg-color: #E8F0FE;\n",
              "      --fill-color: #1967D2;\n",
              "      --hover-bg-color: #E2EBFA;\n",
              "      --hover-fill-color: #174EA6;\n",
              "      --disabled-fill-color: #AAA;\n",
              "      --disabled-bg-color: #DDD;\n",
              "  }\n",
              "\n",
              "  [theme=dark] .colab-df-quickchart {\n",
              "      --bg-color: #3B4455;\n",
              "      --fill-color: #D2E3FC;\n",
              "      --hover-bg-color: #434B5C;\n",
              "      --hover-fill-color: #FFFFFF;\n",
              "      --disabled-bg-color: #3B4455;\n",
              "      --disabled-fill-color: #666;\n",
              "  }\n",
              "\n",
              "  .colab-df-quickchart {\n",
              "    background-color: var(--bg-color);\n",
              "    border: none;\n",
              "    border-radius: 50%;\n",
              "    cursor: pointer;\n",
              "    display: none;\n",
              "    fill: var(--fill-color);\n",
              "    height: 32px;\n",
              "    padding: 0;\n",
              "    width: 32px;\n",
              "  }\n",
              "\n",
              "  .colab-df-quickchart:hover {\n",
              "    background-color: var(--hover-bg-color);\n",
              "    box-shadow: 0 1px 2px rgba(60, 64, 67, 0.3), 0 1px 3px 1px rgba(60, 64, 67, 0.15);\n",
              "    fill: var(--button-hover-fill-color);\n",
              "  }\n",
              "\n",
              "  .colab-df-quickchart-complete:disabled,\n",
              "  .colab-df-quickchart-complete:disabled:hover {\n",
              "    background-color: var(--disabled-bg-color);\n",
              "    fill: var(--disabled-fill-color);\n",
              "    box-shadow: none;\n",
              "  }\n",
              "\n",
              "  .colab-df-spinner {\n",
              "    border: 2px solid var(--fill-color);\n",
              "    border-color: transparent;\n",
              "    border-bottom-color: var(--fill-color);\n",
              "    animation:\n",
              "      spin 1s steps(1) infinite;\n",
              "  }\n",
              "\n",
              "  @keyframes spin {\n",
              "    0% {\n",
              "      border-color: transparent;\n",
              "      border-bottom-color: var(--fill-color);\n",
              "      border-left-color: var(--fill-color);\n",
              "    }\n",
              "    20% {\n",
              "      border-color: transparent;\n",
              "      border-left-color: var(--fill-color);\n",
              "      border-top-color: var(--fill-color);\n",
              "    }\n",
              "    30% {\n",
              "      border-color: transparent;\n",
              "      border-left-color: var(--fill-color);\n",
              "      border-top-color: var(--fill-color);\n",
              "      border-right-color: var(--fill-color);\n",
              "    }\n",
              "    40% {\n",
              "      border-color: transparent;\n",
              "      border-right-color: var(--fill-color);\n",
              "      border-top-color: var(--fill-color);\n",
              "    }\n",
              "    60% {\n",
              "      border-color: transparent;\n",
              "      border-right-color: var(--fill-color);\n",
              "    }\n",
              "    80% {\n",
              "      border-color: transparent;\n",
              "      border-right-color: var(--fill-color);\n",
              "      border-bottom-color: var(--fill-color);\n",
              "    }\n",
              "    90% {\n",
              "      border-color: transparent;\n",
              "      border-bottom-color: var(--fill-color);\n",
              "    }\n",
              "  }\n",
              "</style>\n",
              "\n",
              "  <script>\n",
              "    async function quickchart(key) {\n",
              "      const quickchartButtonEl =\n",
              "        document.querySelector('#' + key + ' button');\n",
              "      quickchartButtonEl.disabled = true;  // To prevent multiple clicks.\n",
              "      quickchartButtonEl.classList.add('colab-df-spinner');\n",
              "      try {\n",
              "        const charts = await google.colab.kernel.invokeFunction(\n",
              "            'suggestCharts', [key], {});\n",
              "      } catch (error) {\n",
              "        console.error('Error during call to suggestCharts:', error);\n",
              "      }\n",
              "      quickchartButtonEl.classList.remove('colab-df-spinner');\n",
              "      quickchartButtonEl.classList.add('colab-df-quickchart-complete');\n",
              "    }\n",
              "    (() => {\n",
              "      let quickchartButtonEl =\n",
              "        document.querySelector('#df-46d81350-8e30-46de-9772-77c190c02c51 button');\n",
              "      quickchartButtonEl.style.display =\n",
              "        google.colab.kernel.accessAllowed ? 'block' : 'none';\n",
              "    })();\n",
              "  </script>\n",
              "</div>\n",
              "    </div>\n",
              "  </div>\n"
            ]
          },
          "metadata": {},
          "execution_count": 123
        }
      ],
      "source": [
        "df.head()"
      ]
    },
    {
      "cell_type": "markdown",
      "source": [
        "**Описание данных:**\n",
        "\n",
        "Каждый объект в наборе данных — это информация о поведении одного пользователя за месяц. Известно:\n",
        "\n",
        "сalls — количество звонков <br>\n",
        "minutes — суммарная длительность звонков в минутах <br>\n",
        "messages — количество sms-сообщений <br>\n",
        "mb_used — израсходованный интернет-трафик в Мб <br>\n",
        "is_ultra — каким тарифом пользовался в течение месяца («Ультра» — 1, «Смарт» — 0)"
      ],
      "metadata": {
        "id": "lkBNu_1e3BKS"
      }
    },
    {
      "cell_type": "code",
      "execution_count": 124,
      "metadata": {
        "colab": {
          "base_uri": "https://localhost:8080/"
        },
        "id": "QlQ_uilXeHQE",
        "outputId": "1e950a4c-38bf-44cd-a177-ec3dfcc29304"
      },
      "outputs": [
        {
          "output_type": "stream",
          "name": "stdout",
          "text": [
            "<class 'pandas.core.frame.DataFrame'>\n",
            "RangeIndex: 3214 entries, 0 to 3213\n",
            "Data columns (total 5 columns):\n",
            " #   Column    Non-Null Count  Dtype  \n",
            "---  ------    --------------  -----  \n",
            " 0   calls     3214 non-null   float64\n",
            " 1   minutes   3214 non-null   float64\n",
            " 2   messages  3214 non-null   float64\n",
            " 3   mb_used   3214 non-null   float64\n",
            " 4   is_ultra  3214 non-null   int64  \n",
            "dtypes: float64(4), int64(1)\n",
            "memory usage: 125.7 KB\n"
          ]
        }
      ],
      "source": [
        "df.info()"
      ]
    },
    {
      "cell_type": "code",
      "execution_count": 125,
      "metadata": {
        "colab": {
          "base_uri": "https://localhost:8080/",
          "height": 300
        },
        "id": "TcT69-uYeHQF",
        "outputId": "bf3f5510-baad-43d4-e2e1-4a4206307cd6"
      },
      "outputs": [
        {
          "output_type": "execute_result",
          "data": {
            "text/plain": [
              "             calls      minutes     messages       mb_used     is_ultra\n",
              "count  3214.000000  3214.000000  3214.000000   3214.000000  3214.000000\n",
              "mean     63.038892   438.208787    38.281269  17207.673836     0.306472\n",
              "std      33.236368   234.569872    36.148326   7570.968246     0.461100\n",
              "min       0.000000     0.000000     0.000000      0.000000     0.000000\n",
              "25%      40.000000   274.575000     9.000000  12491.902500     0.000000\n",
              "50%      62.000000   430.600000    30.000000  16943.235000     0.000000\n",
              "75%      82.000000   571.927500    57.000000  21424.700000     1.000000\n",
              "max     244.000000  1632.060000   224.000000  49745.730000     1.000000"
            ],
            "text/html": [
              "\n",
              "  <div id=\"df-0b8fb565-cdb3-494d-84f5-8ab49f9ed8a6\" class=\"colab-df-container\">\n",
              "    <div>\n",
              "<style scoped>\n",
              "    .dataframe tbody tr th:only-of-type {\n",
              "        vertical-align: middle;\n",
              "    }\n",
              "\n",
              "    .dataframe tbody tr th {\n",
              "        vertical-align: top;\n",
              "    }\n",
              "\n",
              "    .dataframe thead th {\n",
              "        text-align: right;\n",
              "    }\n",
              "</style>\n",
              "<table border=\"1\" class=\"dataframe\">\n",
              "  <thead>\n",
              "    <tr style=\"text-align: right;\">\n",
              "      <th></th>\n",
              "      <th>calls</th>\n",
              "      <th>minutes</th>\n",
              "      <th>messages</th>\n",
              "      <th>mb_used</th>\n",
              "      <th>is_ultra</th>\n",
              "    </tr>\n",
              "  </thead>\n",
              "  <tbody>\n",
              "    <tr>\n",
              "      <th>count</th>\n",
              "      <td>3214.000000</td>\n",
              "      <td>3214.000000</td>\n",
              "      <td>3214.000000</td>\n",
              "      <td>3214.000000</td>\n",
              "      <td>3214.000000</td>\n",
              "    </tr>\n",
              "    <tr>\n",
              "      <th>mean</th>\n",
              "      <td>63.038892</td>\n",
              "      <td>438.208787</td>\n",
              "      <td>38.281269</td>\n",
              "      <td>17207.673836</td>\n",
              "      <td>0.306472</td>\n",
              "    </tr>\n",
              "    <tr>\n",
              "      <th>std</th>\n",
              "      <td>33.236368</td>\n",
              "      <td>234.569872</td>\n",
              "      <td>36.148326</td>\n",
              "      <td>7570.968246</td>\n",
              "      <td>0.461100</td>\n",
              "    </tr>\n",
              "    <tr>\n",
              "      <th>min</th>\n",
              "      <td>0.000000</td>\n",
              "      <td>0.000000</td>\n",
              "      <td>0.000000</td>\n",
              "      <td>0.000000</td>\n",
              "      <td>0.000000</td>\n",
              "    </tr>\n",
              "    <tr>\n",
              "      <th>25%</th>\n",
              "      <td>40.000000</td>\n",
              "      <td>274.575000</td>\n",
              "      <td>9.000000</td>\n",
              "      <td>12491.902500</td>\n",
              "      <td>0.000000</td>\n",
              "    </tr>\n",
              "    <tr>\n",
              "      <th>50%</th>\n",
              "      <td>62.000000</td>\n",
              "      <td>430.600000</td>\n",
              "      <td>30.000000</td>\n",
              "      <td>16943.235000</td>\n",
              "      <td>0.000000</td>\n",
              "    </tr>\n",
              "    <tr>\n",
              "      <th>75%</th>\n",
              "      <td>82.000000</td>\n",
              "      <td>571.927500</td>\n",
              "      <td>57.000000</td>\n",
              "      <td>21424.700000</td>\n",
              "      <td>1.000000</td>\n",
              "    </tr>\n",
              "    <tr>\n",
              "      <th>max</th>\n",
              "      <td>244.000000</td>\n",
              "      <td>1632.060000</td>\n",
              "      <td>224.000000</td>\n",
              "      <td>49745.730000</td>\n",
              "      <td>1.000000</td>\n",
              "    </tr>\n",
              "  </tbody>\n",
              "</table>\n",
              "</div>\n",
              "    <div class=\"colab-df-buttons\">\n",
              "\n",
              "  <div class=\"colab-df-container\">\n",
              "    <button class=\"colab-df-convert\" onclick=\"convertToInteractive('df-0b8fb565-cdb3-494d-84f5-8ab49f9ed8a6')\"\n",
              "            title=\"Convert this dataframe to an interactive table.\"\n",
              "            style=\"display:none;\">\n",
              "\n",
              "  <svg xmlns=\"http://www.w3.org/2000/svg\" height=\"24px\" viewBox=\"0 -960 960 960\">\n",
              "    <path d=\"M120-120v-720h720v720H120Zm60-500h600v-160H180v160Zm220 220h160v-160H400v160Zm0 220h160v-160H400v160ZM180-400h160v-160H180v160Zm440 0h160v-160H620v160ZM180-180h160v-160H180v160Zm440 0h160v-160H620v160Z\"/>\n",
              "  </svg>\n",
              "    </button>\n",
              "\n",
              "  <style>\n",
              "    .colab-df-container {\n",
              "      display:flex;\n",
              "      gap: 12px;\n",
              "    }\n",
              "\n",
              "    .colab-df-convert {\n",
              "      background-color: #E8F0FE;\n",
              "      border: none;\n",
              "      border-radius: 50%;\n",
              "      cursor: pointer;\n",
              "      display: none;\n",
              "      fill: #1967D2;\n",
              "      height: 32px;\n",
              "      padding: 0 0 0 0;\n",
              "      width: 32px;\n",
              "    }\n",
              "\n",
              "    .colab-df-convert:hover {\n",
              "      background-color: #E2EBFA;\n",
              "      box-shadow: 0px 1px 2px rgba(60, 64, 67, 0.3), 0px 1px 3px 1px rgba(60, 64, 67, 0.15);\n",
              "      fill: #174EA6;\n",
              "    }\n",
              "\n",
              "    .colab-df-buttons div {\n",
              "      margin-bottom: 4px;\n",
              "    }\n",
              "\n",
              "    [theme=dark] .colab-df-convert {\n",
              "      background-color: #3B4455;\n",
              "      fill: #D2E3FC;\n",
              "    }\n",
              "\n",
              "    [theme=dark] .colab-df-convert:hover {\n",
              "      background-color: #434B5C;\n",
              "      box-shadow: 0px 1px 3px 1px rgba(0, 0, 0, 0.15);\n",
              "      filter: drop-shadow(0px 1px 2px rgba(0, 0, 0, 0.3));\n",
              "      fill: #FFFFFF;\n",
              "    }\n",
              "  </style>\n",
              "\n",
              "    <script>\n",
              "      const buttonEl =\n",
              "        document.querySelector('#df-0b8fb565-cdb3-494d-84f5-8ab49f9ed8a6 button.colab-df-convert');\n",
              "      buttonEl.style.display =\n",
              "        google.colab.kernel.accessAllowed ? 'block' : 'none';\n",
              "\n",
              "      async function convertToInteractive(key) {\n",
              "        const element = document.querySelector('#df-0b8fb565-cdb3-494d-84f5-8ab49f9ed8a6');\n",
              "        const dataTable =\n",
              "          await google.colab.kernel.invokeFunction('convertToInteractive',\n",
              "                                                    [key], {});\n",
              "        if (!dataTable) return;\n",
              "\n",
              "        const docLinkHtml = 'Like what you see? Visit the ' +\n",
              "          '<a target=\"_blank\" href=https://colab.research.google.com/notebooks/data_table.ipynb>data table notebook</a>'\n",
              "          + ' to learn more about interactive tables.';\n",
              "        element.innerHTML = '';\n",
              "        dataTable['output_type'] = 'display_data';\n",
              "        await google.colab.output.renderOutput(dataTable, element);\n",
              "        const docLink = document.createElement('div');\n",
              "        docLink.innerHTML = docLinkHtml;\n",
              "        element.appendChild(docLink);\n",
              "      }\n",
              "    </script>\n",
              "  </div>\n",
              "\n",
              "\n",
              "<div id=\"df-c7e0e920-f7b6-4bcd-b6b3-e2cbbd7ab5bd\">\n",
              "  <button class=\"colab-df-quickchart\" onclick=\"quickchart('df-c7e0e920-f7b6-4bcd-b6b3-e2cbbd7ab5bd')\"\n",
              "            title=\"Suggest charts.\"\n",
              "            style=\"display:none;\">\n",
              "\n",
              "<svg xmlns=\"http://www.w3.org/2000/svg\" height=\"24px\"viewBox=\"0 0 24 24\"\n",
              "     width=\"24px\">\n",
              "    <g>\n",
              "        <path d=\"M19 3H5c-1.1 0-2 .9-2 2v14c0 1.1.9 2 2 2h14c1.1 0 2-.9 2-2V5c0-1.1-.9-2-2-2zM9 17H7v-7h2v7zm4 0h-2V7h2v10zm4 0h-2v-4h2v4z\"/>\n",
              "    </g>\n",
              "</svg>\n",
              "  </button>\n",
              "\n",
              "<style>\n",
              "  .colab-df-quickchart {\n",
              "      --bg-color: #E8F0FE;\n",
              "      --fill-color: #1967D2;\n",
              "      --hover-bg-color: #E2EBFA;\n",
              "      --hover-fill-color: #174EA6;\n",
              "      --disabled-fill-color: #AAA;\n",
              "      --disabled-bg-color: #DDD;\n",
              "  }\n",
              "\n",
              "  [theme=dark] .colab-df-quickchart {\n",
              "      --bg-color: #3B4455;\n",
              "      --fill-color: #D2E3FC;\n",
              "      --hover-bg-color: #434B5C;\n",
              "      --hover-fill-color: #FFFFFF;\n",
              "      --disabled-bg-color: #3B4455;\n",
              "      --disabled-fill-color: #666;\n",
              "  }\n",
              "\n",
              "  .colab-df-quickchart {\n",
              "    background-color: var(--bg-color);\n",
              "    border: none;\n",
              "    border-radius: 50%;\n",
              "    cursor: pointer;\n",
              "    display: none;\n",
              "    fill: var(--fill-color);\n",
              "    height: 32px;\n",
              "    padding: 0;\n",
              "    width: 32px;\n",
              "  }\n",
              "\n",
              "  .colab-df-quickchart:hover {\n",
              "    background-color: var(--hover-bg-color);\n",
              "    box-shadow: 0 1px 2px rgba(60, 64, 67, 0.3), 0 1px 3px 1px rgba(60, 64, 67, 0.15);\n",
              "    fill: var(--button-hover-fill-color);\n",
              "  }\n",
              "\n",
              "  .colab-df-quickchart-complete:disabled,\n",
              "  .colab-df-quickchart-complete:disabled:hover {\n",
              "    background-color: var(--disabled-bg-color);\n",
              "    fill: var(--disabled-fill-color);\n",
              "    box-shadow: none;\n",
              "  }\n",
              "\n",
              "  .colab-df-spinner {\n",
              "    border: 2px solid var(--fill-color);\n",
              "    border-color: transparent;\n",
              "    border-bottom-color: var(--fill-color);\n",
              "    animation:\n",
              "      spin 1s steps(1) infinite;\n",
              "  }\n",
              "\n",
              "  @keyframes spin {\n",
              "    0% {\n",
              "      border-color: transparent;\n",
              "      border-bottom-color: var(--fill-color);\n",
              "      border-left-color: var(--fill-color);\n",
              "    }\n",
              "    20% {\n",
              "      border-color: transparent;\n",
              "      border-left-color: var(--fill-color);\n",
              "      border-top-color: var(--fill-color);\n",
              "    }\n",
              "    30% {\n",
              "      border-color: transparent;\n",
              "      border-left-color: var(--fill-color);\n",
              "      border-top-color: var(--fill-color);\n",
              "      border-right-color: var(--fill-color);\n",
              "    }\n",
              "    40% {\n",
              "      border-color: transparent;\n",
              "      border-right-color: var(--fill-color);\n",
              "      border-top-color: var(--fill-color);\n",
              "    }\n",
              "    60% {\n",
              "      border-color: transparent;\n",
              "      border-right-color: var(--fill-color);\n",
              "    }\n",
              "    80% {\n",
              "      border-color: transparent;\n",
              "      border-right-color: var(--fill-color);\n",
              "      border-bottom-color: var(--fill-color);\n",
              "    }\n",
              "    90% {\n",
              "      border-color: transparent;\n",
              "      border-bottom-color: var(--fill-color);\n",
              "    }\n",
              "  }\n",
              "</style>\n",
              "\n",
              "  <script>\n",
              "    async function quickchart(key) {\n",
              "      const quickchartButtonEl =\n",
              "        document.querySelector('#' + key + ' button');\n",
              "      quickchartButtonEl.disabled = true;  // To prevent multiple clicks.\n",
              "      quickchartButtonEl.classList.add('colab-df-spinner');\n",
              "      try {\n",
              "        const charts = await google.colab.kernel.invokeFunction(\n",
              "            'suggestCharts', [key], {});\n",
              "      } catch (error) {\n",
              "        console.error('Error during call to suggestCharts:', error);\n",
              "      }\n",
              "      quickchartButtonEl.classList.remove('colab-df-spinner');\n",
              "      quickchartButtonEl.classList.add('colab-df-quickchart-complete');\n",
              "    }\n",
              "    (() => {\n",
              "      let quickchartButtonEl =\n",
              "        document.querySelector('#df-c7e0e920-f7b6-4bcd-b6b3-e2cbbd7ab5bd button');\n",
              "      quickchartButtonEl.style.display =\n",
              "        google.colab.kernel.accessAllowed ? 'block' : 'none';\n",
              "    })();\n",
              "  </script>\n",
              "</div>\n",
              "    </div>\n",
              "  </div>\n"
            ]
          },
          "metadata": {},
          "execution_count": 125
        }
      ],
      "source": [
        "df.describe()"
      ]
    },
    {
      "cell_type": "code",
      "source": [
        "df.nunique()"
      ],
      "metadata": {
        "colab": {
          "base_uri": "https://localhost:8080/"
        },
        "id": "1L4ueJ-F7Qfm",
        "outputId": "b9df7790-a00a-4df1-bcf0-d7783b5bd4df"
      },
      "execution_count": 126,
      "outputs": [
        {
          "output_type": "execute_result",
          "data": {
            "text/plain": [
              "calls        184\n",
              "minutes     3144\n",
              "messages     180\n",
              "mb_used     3203\n",
              "is_ultra       2\n",
              "dtype: int64"
            ]
          },
          "metadata": {},
          "execution_count": 126
        }
      ]
    },
    {
      "cell_type": "markdown",
      "source": [
        "Проверим соотношение классов - долю тарифов «Ультра» и «Смарт» в общем наборе данных:"
      ],
      "metadata": {
        "id": "14XFIooQ4G3H"
      }
    },
    {
      "cell_type": "code",
      "source": [
        "df['is_ultra'].value_counts()"
      ],
      "metadata": {
        "colab": {
          "base_uri": "https://localhost:8080/"
        },
        "id": "klZXVSRW51yl",
        "outputId": "0212dc5c-bd2e-4171-ed42-211da154b417"
      },
      "execution_count": 127,
      "outputs": [
        {
          "output_type": "execute_result",
          "data": {
            "text/plain": [
              "0    2229\n",
              "1     985\n",
              "Name: is_ultra, dtype: int64"
            ]
          },
          "metadata": {},
          "execution_count": 127
        }
      ]
    },
    {
      "cell_type": "code",
      "source": [
        "print('Доля тарифа «Ультра»:', round((df[df['is_ultra'] == 1].shape[0] / df.shape[0]) * 100, 2), '%')\n",
        "print('Доля тарифа «Смарт»:', round((df[df['is_ultra'] == 0].shape[0] / df.shape[0]) * 100, 2), '%')"
      ],
      "metadata": {
        "colab": {
          "base_uri": "https://localhost:8080/"
        },
        "id": "kesPlVUQ2lDK",
        "outputId": "065be773-ab18-470e-c18d-a00853a0e527"
      },
      "execution_count": 128,
      "outputs": [
        {
          "output_type": "stream",
          "name": "stdout",
          "text": [
            "Доля тарифа «Ультра»: 30.65 %\n",
            "Доля тарифа «Смарт»: 69.35 %\n"
          ]
        }
      ]
    },
    {
      "cell_type": "markdown",
      "metadata": {
        "id": "0X8Ob3X8ethC"
      },
      "source": [
        "Тариф \"Смарт\" преобладает в данных - это означает, что классы не сбалансированы с соотношением примерно равным 70/30"
      ]
    },
    {
      "cell_type": "markdown",
      "metadata": {
        "id": "xlTCRxijhY0Q"
      },
      "source": [
        "Итак, мы провели предварительный анализ данных, проверили данные на наличие пропусков, можно приступать к построению моделей и ответам на вопросы проекта"
      ]
    },
    {
      "cell_type": "markdown",
      "metadata": {
        "id": "PveX49obh-nN"
      },
      "source": [
        "Для определения тарифа мы будем решать задачу классификации с учителем.\n",
        "\n",
        "Но прежде имеет смысл смотреть на корреляцию признаков. При высокой их степени коррелированности возникает проблема мультиколлиниарность признаков. Проблема \"мультиколлинеарности\" - это и про переобучение модели, и про её интерпретируемость, и про сложность модели (содержание в модели избыточного количества переменных).\n",
        "\n",
        "В чем негативный эффект сложной модели? Вот в чем: усложняется интерпретация параметров, оценки параметров ненадежны - получаются большие стандартные ошибки, которые меняются с изменением объема наблюдений, что делает модель непригодной для прогнозирования"
      ]
    },
    {
      "cell_type": "code",
      "execution_count": 129,
      "metadata": {
        "colab": {
          "base_uri": "https://localhost:8080/",
          "height": 206
        },
        "id": "ehTrXSw-it7m",
        "outputId": "f1cc5e34-73df-460d-d342-0764c9949576"
      },
      "outputs": [
        {
          "output_type": "execute_result",
          "data": {
            "text/plain": [
              "             calls   minutes  messages   mb_used  is_ultra\n",
              "calls     1.000000  0.982083  0.177385  0.286442  0.207122\n",
              "minutes   0.982083  1.000000  0.173110  0.280967  0.206955\n",
              "messages  0.177385  0.173110  1.000000  0.195721  0.203830\n",
              "mb_used   0.286442  0.280967  0.195721  1.000000  0.198568\n",
              "is_ultra  0.207122  0.206955  0.203830  0.198568  1.000000"
            ],
            "text/html": [
              "\n",
              "  <div id=\"df-c27e8e94-003d-4813-bb26-3c33e3a286dd\" class=\"colab-df-container\">\n",
              "    <div>\n",
              "<style scoped>\n",
              "    .dataframe tbody tr th:only-of-type {\n",
              "        vertical-align: middle;\n",
              "    }\n",
              "\n",
              "    .dataframe tbody tr th {\n",
              "        vertical-align: top;\n",
              "    }\n",
              "\n",
              "    .dataframe thead th {\n",
              "        text-align: right;\n",
              "    }\n",
              "</style>\n",
              "<table border=\"1\" class=\"dataframe\">\n",
              "  <thead>\n",
              "    <tr style=\"text-align: right;\">\n",
              "      <th></th>\n",
              "      <th>calls</th>\n",
              "      <th>minutes</th>\n",
              "      <th>messages</th>\n",
              "      <th>mb_used</th>\n",
              "      <th>is_ultra</th>\n",
              "    </tr>\n",
              "  </thead>\n",
              "  <tbody>\n",
              "    <tr>\n",
              "      <th>calls</th>\n",
              "      <td>1.000000</td>\n",
              "      <td>0.982083</td>\n",
              "      <td>0.177385</td>\n",
              "      <td>0.286442</td>\n",
              "      <td>0.207122</td>\n",
              "    </tr>\n",
              "    <tr>\n",
              "      <th>minutes</th>\n",
              "      <td>0.982083</td>\n",
              "      <td>1.000000</td>\n",
              "      <td>0.173110</td>\n",
              "      <td>0.280967</td>\n",
              "      <td>0.206955</td>\n",
              "    </tr>\n",
              "    <tr>\n",
              "      <th>messages</th>\n",
              "      <td>0.177385</td>\n",
              "      <td>0.173110</td>\n",
              "      <td>1.000000</td>\n",
              "      <td>0.195721</td>\n",
              "      <td>0.203830</td>\n",
              "    </tr>\n",
              "    <tr>\n",
              "      <th>mb_used</th>\n",
              "      <td>0.286442</td>\n",
              "      <td>0.280967</td>\n",
              "      <td>0.195721</td>\n",
              "      <td>1.000000</td>\n",
              "      <td>0.198568</td>\n",
              "    </tr>\n",
              "    <tr>\n",
              "      <th>is_ultra</th>\n",
              "      <td>0.207122</td>\n",
              "      <td>0.206955</td>\n",
              "      <td>0.203830</td>\n",
              "      <td>0.198568</td>\n",
              "      <td>1.000000</td>\n",
              "    </tr>\n",
              "  </tbody>\n",
              "</table>\n",
              "</div>\n",
              "    <div class=\"colab-df-buttons\">\n",
              "\n",
              "  <div class=\"colab-df-container\">\n",
              "    <button class=\"colab-df-convert\" onclick=\"convertToInteractive('df-c27e8e94-003d-4813-bb26-3c33e3a286dd')\"\n",
              "            title=\"Convert this dataframe to an interactive table.\"\n",
              "            style=\"display:none;\">\n",
              "\n",
              "  <svg xmlns=\"http://www.w3.org/2000/svg\" height=\"24px\" viewBox=\"0 -960 960 960\">\n",
              "    <path d=\"M120-120v-720h720v720H120Zm60-500h600v-160H180v160Zm220 220h160v-160H400v160Zm0 220h160v-160H400v160ZM180-400h160v-160H180v160Zm440 0h160v-160H620v160ZM180-180h160v-160H180v160Zm440 0h160v-160H620v160Z\"/>\n",
              "  </svg>\n",
              "    </button>\n",
              "\n",
              "  <style>\n",
              "    .colab-df-container {\n",
              "      display:flex;\n",
              "      gap: 12px;\n",
              "    }\n",
              "\n",
              "    .colab-df-convert {\n",
              "      background-color: #E8F0FE;\n",
              "      border: none;\n",
              "      border-radius: 50%;\n",
              "      cursor: pointer;\n",
              "      display: none;\n",
              "      fill: #1967D2;\n",
              "      height: 32px;\n",
              "      padding: 0 0 0 0;\n",
              "      width: 32px;\n",
              "    }\n",
              "\n",
              "    .colab-df-convert:hover {\n",
              "      background-color: #E2EBFA;\n",
              "      box-shadow: 0px 1px 2px rgba(60, 64, 67, 0.3), 0px 1px 3px 1px rgba(60, 64, 67, 0.15);\n",
              "      fill: #174EA6;\n",
              "    }\n",
              "\n",
              "    .colab-df-buttons div {\n",
              "      margin-bottom: 4px;\n",
              "    }\n",
              "\n",
              "    [theme=dark] .colab-df-convert {\n",
              "      background-color: #3B4455;\n",
              "      fill: #D2E3FC;\n",
              "    }\n",
              "\n",
              "    [theme=dark] .colab-df-convert:hover {\n",
              "      background-color: #434B5C;\n",
              "      box-shadow: 0px 1px 3px 1px rgba(0, 0, 0, 0.15);\n",
              "      filter: drop-shadow(0px 1px 2px rgba(0, 0, 0, 0.3));\n",
              "      fill: #FFFFFF;\n",
              "    }\n",
              "  </style>\n",
              "\n",
              "    <script>\n",
              "      const buttonEl =\n",
              "        document.querySelector('#df-c27e8e94-003d-4813-bb26-3c33e3a286dd button.colab-df-convert');\n",
              "      buttonEl.style.display =\n",
              "        google.colab.kernel.accessAllowed ? 'block' : 'none';\n",
              "\n",
              "      async function convertToInteractive(key) {\n",
              "        const element = document.querySelector('#df-c27e8e94-003d-4813-bb26-3c33e3a286dd');\n",
              "        const dataTable =\n",
              "          await google.colab.kernel.invokeFunction('convertToInteractive',\n",
              "                                                    [key], {});\n",
              "        if (!dataTable) return;\n",
              "\n",
              "        const docLinkHtml = 'Like what you see? Visit the ' +\n",
              "          '<a target=\"_blank\" href=https://colab.research.google.com/notebooks/data_table.ipynb>data table notebook</a>'\n",
              "          + ' to learn more about interactive tables.';\n",
              "        element.innerHTML = '';\n",
              "        dataTable['output_type'] = 'display_data';\n",
              "        await google.colab.output.renderOutput(dataTable, element);\n",
              "        const docLink = document.createElement('div');\n",
              "        docLink.innerHTML = docLinkHtml;\n",
              "        element.appendChild(docLink);\n",
              "      }\n",
              "    </script>\n",
              "  </div>\n",
              "\n",
              "\n",
              "<div id=\"df-c8164285-27ad-4405-b7fb-460c638e756a\">\n",
              "  <button class=\"colab-df-quickchart\" onclick=\"quickchart('df-c8164285-27ad-4405-b7fb-460c638e756a')\"\n",
              "            title=\"Suggest charts.\"\n",
              "            style=\"display:none;\">\n",
              "\n",
              "<svg xmlns=\"http://www.w3.org/2000/svg\" height=\"24px\"viewBox=\"0 0 24 24\"\n",
              "     width=\"24px\">\n",
              "    <g>\n",
              "        <path d=\"M19 3H5c-1.1 0-2 .9-2 2v14c0 1.1.9 2 2 2h14c1.1 0 2-.9 2-2V5c0-1.1-.9-2-2-2zM9 17H7v-7h2v7zm4 0h-2V7h2v10zm4 0h-2v-4h2v4z\"/>\n",
              "    </g>\n",
              "</svg>\n",
              "  </button>\n",
              "\n",
              "<style>\n",
              "  .colab-df-quickchart {\n",
              "      --bg-color: #E8F0FE;\n",
              "      --fill-color: #1967D2;\n",
              "      --hover-bg-color: #E2EBFA;\n",
              "      --hover-fill-color: #174EA6;\n",
              "      --disabled-fill-color: #AAA;\n",
              "      --disabled-bg-color: #DDD;\n",
              "  }\n",
              "\n",
              "  [theme=dark] .colab-df-quickchart {\n",
              "      --bg-color: #3B4455;\n",
              "      --fill-color: #D2E3FC;\n",
              "      --hover-bg-color: #434B5C;\n",
              "      --hover-fill-color: #FFFFFF;\n",
              "      --disabled-bg-color: #3B4455;\n",
              "      --disabled-fill-color: #666;\n",
              "  }\n",
              "\n",
              "  .colab-df-quickchart {\n",
              "    background-color: var(--bg-color);\n",
              "    border: none;\n",
              "    border-radius: 50%;\n",
              "    cursor: pointer;\n",
              "    display: none;\n",
              "    fill: var(--fill-color);\n",
              "    height: 32px;\n",
              "    padding: 0;\n",
              "    width: 32px;\n",
              "  }\n",
              "\n",
              "  .colab-df-quickchart:hover {\n",
              "    background-color: var(--hover-bg-color);\n",
              "    box-shadow: 0 1px 2px rgba(60, 64, 67, 0.3), 0 1px 3px 1px rgba(60, 64, 67, 0.15);\n",
              "    fill: var(--button-hover-fill-color);\n",
              "  }\n",
              "\n",
              "  .colab-df-quickchart-complete:disabled,\n",
              "  .colab-df-quickchart-complete:disabled:hover {\n",
              "    background-color: var(--disabled-bg-color);\n",
              "    fill: var(--disabled-fill-color);\n",
              "    box-shadow: none;\n",
              "  }\n",
              "\n",
              "  .colab-df-spinner {\n",
              "    border: 2px solid var(--fill-color);\n",
              "    border-color: transparent;\n",
              "    border-bottom-color: var(--fill-color);\n",
              "    animation:\n",
              "      spin 1s steps(1) infinite;\n",
              "  }\n",
              "\n",
              "  @keyframes spin {\n",
              "    0% {\n",
              "      border-color: transparent;\n",
              "      border-bottom-color: var(--fill-color);\n",
              "      border-left-color: var(--fill-color);\n",
              "    }\n",
              "    20% {\n",
              "      border-color: transparent;\n",
              "      border-left-color: var(--fill-color);\n",
              "      border-top-color: var(--fill-color);\n",
              "    }\n",
              "    30% {\n",
              "      border-color: transparent;\n",
              "      border-left-color: var(--fill-color);\n",
              "      border-top-color: var(--fill-color);\n",
              "      border-right-color: var(--fill-color);\n",
              "    }\n",
              "    40% {\n",
              "      border-color: transparent;\n",
              "      border-right-color: var(--fill-color);\n",
              "      border-top-color: var(--fill-color);\n",
              "    }\n",
              "    60% {\n",
              "      border-color: transparent;\n",
              "      border-right-color: var(--fill-color);\n",
              "    }\n",
              "    80% {\n",
              "      border-color: transparent;\n",
              "      border-right-color: var(--fill-color);\n",
              "      border-bottom-color: var(--fill-color);\n",
              "    }\n",
              "    90% {\n",
              "      border-color: transparent;\n",
              "      border-bottom-color: var(--fill-color);\n",
              "    }\n",
              "  }\n",
              "</style>\n",
              "\n",
              "  <script>\n",
              "    async function quickchart(key) {\n",
              "      const quickchartButtonEl =\n",
              "        document.querySelector('#' + key + ' button');\n",
              "      quickchartButtonEl.disabled = true;  // To prevent multiple clicks.\n",
              "      quickchartButtonEl.classList.add('colab-df-spinner');\n",
              "      try {\n",
              "        const charts = await google.colab.kernel.invokeFunction(\n",
              "            'suggestCharts', [key], {});\n",
              "      } catch (error) {\n",
              "        console.error('Error during call to suggestCharts:', error);\n",
              "      }\n",
              "      quickchartButtonEl.classList.remove('colab-df-spinner');\n",
              "      quickchartButtonEl.classList.add('colab-df-quickchart-complete');\n",
              "    }\n",
              "    (() => {\n",
              "      let quickchartButtonEl =\n",
              "        document.querySelector('#df-c8164285-27ad-4405-b7fb-460c638e756a button');\n",
              "      quickchartButtonEl.style.display =\n",
              "        google.colab.kernel.accessAllowed ? 'block' : 'none';\n",
              "    })();\n",
              "  </script>\n",
              "</div>\n",
              "    </div>\n",
              "  </div>\n"
            ]
          },
          "metadata": {},
          "execution_count": 129
        }
      ],
      "source": [
        "df.corr()"
      ]
    },
    {
      "cell_type": "markdown",
      "metadata": {
        "id": "RGrgkUdOi7BT"
      },
      "source": [
        "Мы видим, что параметры `calls` и `minutes` сильно коррелируют между собой - коэффициент корреляции стремится к единице. Имеет смысл убрать один из коррелирующих параметров для исключения мультиколлинеарности и переобучения модели."
      ]
    },
    {
      "cell_type": "markdown",
      "metadata": {
        "id": "uckno9RmeHQF"
      },
      "source": [
        "## Подготовка данных к ML\n"
      ]
    },
    {
      "cell_type": "markdown",
      "source": [
        "Разобьём набор данных на тренировочную, валидационную и тестовую выборки в соотношении 3:1:1. Параметром RANDOM_STATE_ обеспечим воспроизводимость результатов разбиения выборки, чтобы при каждом запуске кода подвыборки были идентичными"
      ],
      "metadata": {
        "id": "drHtHdJWGPcH"
      }
    },
    {
      "cell_type": "code",
      "execution_count": 130,
      "metadata": {
        "colab": {
          "base_uri": "https://localhost:8080/"
        },
        "id": "hGszg_njeHQF",
        "outputId": "4fd8e904-2882-4875-8cd4-e873a99c6239"
      },
      "outputs": [
        {
          "output_type": "stream",
          "name": "stdout",
          "text": [
            "0.5998755444928439\n",
            "0.2000622277535781\n",
            "0.2000622277535781\n"
          ]
        }
      ],
      "source": [
        "df_train, test = train_test_split(df, train_size=0.6, random_state=RANDOM_STATE_)\n",
        "\n",
        "df_valid, df_test = train_test_split(test, train_size=0.5, random_state=RANDOM_STATE_)\n",
        "\n",
        "features_train = df_train.drop(['is_ultra', 'calls'], axis=1)\n",
        "target_train = df_train['is_ultra']\n",
        "features_valid = df_valid.drop(['is_ultra', 'calls'], axis=1)\n",
        "target_valid = df_valid['is_ultra']\n",
        "features_test = df_test.drop(['is_ultra', 'calls'], axis=1)\n",
        "target_test = df_test['is_ultra']\n",
        "\n",
        "print(df_train.shape[0] / df.shape[0])\n",
        "print(df_valid.shape[0] / df.shape[0])\n",
        "print(df_test.shape[0] / df.shape[0])"
      ]
    },
    {
      "cell_type": "code",
      "execution_count": 131,
      "metadata": {
        "colab": {
          "base_uri": "https://localhost:8080/"
        },
        "id": "0fUE2_hReHQG",
        "outputId": "a73f53e4-3e35-4a2b-9c8f-8e35342017bc"
      },
      "outputs": [
        {
          "output_type": "stream",
          "name": "stdout",
          "text": [
            "(1928, 3)\n",
            "(1928,)\n",
            "(643, 3)\n",
            "(643,)\n",
            "(643, 3)\n",
            "(643,)\n"
          ]
        }
      ],
      "source": [
        "print(features_train.shape)\n",
        "print(target_train.shape)\n",
        "print(features_valid.shape)\n",
        "print(target_valid.shape)\n",
        "print(features_test.shape)\n",
        "print(target_test.shape)"
      ]
    },
    {
      "cell_type": "markdown",
      "metadata": {
        "id": "ae6t-Ll2eHQG"
      },
      "source": [
        "## ML\n"
      ]
    },
    {
      "cell_type": "markdown",
      "source": [
        "Использовать для ML будем модели LogisticRegression, DecisionTreeClassifier, RandomForestClassifier. Наша задача - подобрать лучшие гиперпараметры, максимизирующие метрику accuracy_score на валидационных данных. Выберем лучшую из моделей.\n",
        "\n",
        "После того, как подберем гиперпараметры на валидации протестируем модели на тестовых данных. По результатам тестирования на тесте выберем модель, которую сможем передать в продакшн"
      ],
      "metadata": {
        "id": "L9eRp2BfRUP3"
      }
    },
    {
      "cell_type": "markdown",
      "metadata": {
        "id": "lQz3xyfneHQG"
      },
      "source": [
        "Начнем с логистической регрессии"
      ]
    },
    {
      "cell_type": "code",
      "source": [
        "model = LogisticRegression(random_state=RANDOM_STATE_, solver='lbfgs', max_iter=1000)\n",
        "model.fit(features_train, target_train)\n",
        "predictions = model.predict(features_valid)\n",
        "\n",
        "best_accuracy_valid_lr = accuracy_score(target_valid, predictions)\n",
        "print('Accuracy на валидационной выборке:', best_accuracy_valid_lr)"
      ],
      "metadata": {
        "colab": {
          "base_uri": "https://localhost:8080/"
        },
        "id": "N1WKriLbZcr_",
        "outputId": "9fac1478-8d16-4b50-83a3-36fcb3dedf51"
      },
      "execution_count": 132,
      "outputs": [
        {
          "output_type": "stream",
          "name": "stdout",
          "text": [
            "Accuracy на валидационной выборке: 0.7076205287713841\n"
          ]
        }
      ]
    },
    {
      "cell_type": "markdown",
      "metadata": {
        "id": "NXseKOAheHQH"
      },
      "source": [
        "Проверим качество модели решающего дерева"
      ]
    },
    {
      "cell_type": "code",
      "execution_count": 133,
      "metadata": {
        "colab": {
          "base_uri": "https://localhost:8080/"
        },
        "id": "xiLv0vLYeHQH",
        "outputId": "e2054f68-7d46-44ff-93fe-80abef995c43"
      },
      "outputs": [
        {
          "output_type": "stream",
          "name": "stdout",
          "text": [
            "max_depth = 1 : 0.7542768273716952\n",
            "max_depth = 2 : 0.7822706065318819\n",
            "max_depth = 3 : 0.7853810264385692\n",
            "max_depth = 4 : 0.7884914463452566\n",
            "max_depth = 5 : 0.7884914463452566\n",
            "max_depth = 6 : 0.7744945567651633\n",
            "max_depth = 7 : 0.7713841368584758\n",
            "max_depth = 8 : 0.7744945567651633\n",
            "max_depth = 9 : 0.7791601866251944\n",
            "max_depth = 10 : 0.7698289269051322\n",
            "max_depth = 11 : 0.7667185069984448\n",
            "max_depth = 12 : 0.7698289269051322\n",
            "max_depth = 13 : 0.7573872472783826\n",
            "max_depth = 14 : 0.7387247278382582\n",
            "max_depth = 15 : 0.744945567651633\n",
            "max_depth = 16 : 0.7387247278382582\n",
            "max_depth = 17 : 0.7309486780715396\n",
            "max_depth = 18 : 0.7216174183514774\n",
            "max_depth = 19 : 0.7216174183514774\n"
          ]
        }
      ],
      "source": [
        "for i in range(1,20):\n",
        "    model = DecisionTreeClassifier(random_state=RANDOM_STATE_, max_depth=i)\n",
        "    model.fit(features_train, target_train)\n",
        "    predictions = model.predict(features_valid)\n",
        "    accuracy = accuracy_score(target_valid, predictions)\n",
        "    print(f'max_depth = {i} :', accuracy)"
      ]
    },
    {
      "cell_type": "code",
      "execution_count": 144,
      "metadata": {
        "colab": {
          "base_uri": "https://localhost:8080/"
        },
        "id": "6kc_0ljneHQH",
        "outputId": "fd901edd-987d-4040-d114-f03a4ba51042"
      },
      "outputs": [
        {
          "output_type": "stream",
          "name": "stdout",
          "text": [
            "Accuracy наилучшей модели на валидационной выборке: 0.7884914463452566\n",
            "Глубина дерева: 4\n"
          ]
        }
      ],
      "source": [
        "best_model = None\n",
        "best_result = 0\n",
        "\n",
        "for i in range(1,20):\n",
        "    model = DecisionTreeClassifier(random_state=RANDOM_STATE_, max_depth=i)\n",
        "    model.fit(features_train, target_train)\n",
        "    predictions = model.predict(features_valid)\n",
        "    accuracy = accuracy_score(target_valid, predictions)\n",
        "    if accuracy > best_accuracy_valid_dtc:\n",
        "        i_ = i\n",
        "        # сохраним наилучшую модель\n",
        "        best_model_decision_tree = model.fit(features_train, target_train)\n",
        "        #  сохраним наилучшее значение метрики accuracy на валидационных данных\n",
        "        best_accuracy_valid_dtc = accuracy\n",
        "print('Accuracy наилучшей модели на валидационной выборке:', best_accuracy_valid_dtc)\n",
        "print('Глубина дерева:', i_)\n"
      ]
    },
    {
      "cell_type": "markdown",
      "metadata": {
        "id": "2-h65RjleHQH"
      },
      "source": [
        "Проверим качество модели случайного леса"
      ]
    },
    {
      "cell_type": "code",
      "execution_count": 145,
      "metadata": {
        "colab": {
          "base_uri": "https://localhost:8080/"
        },
        "id": "uk9Y2EVHeHQH",
        "outputId": "454a4660-a1d1-401e-ddc1-de64752acf3a"
      },
      "outputs": [
        {
          "output_type": "stream",
          "name": "stdout",
          "text": [
            "Accuracy наилучшей модели на валидационной выборке: 0.7822706065318819\n",
            "Количество деревьев: 18\n"
          ]
        }
      ],
      "source": [
        "best_model = None\n",
        "best_result = 0\n",
        "for est in range(1, 50):\n",
        "    # создадим модель с заданным количеством деревьев\n",
        "    model = RandomForestClassifier(random_state=RANDOM_STATE_, n_estimators=est)\n",
        "    # обучим модель на тренировочной выборке\n",
        "    model.fit(features_train, target_train)\n",
        "    predictions = model.predict(features_valid)\n",
        "    # посчитаем качество модели на валидационной выборке\n",
        "    result = accuracy_score(target_valid, predictions)\n",
        "    if result > best_accuracy_valid_rfc:\n",
        "        est_ = est\n",
        "        # сохраним наилучшую модель\n",
        "        best_model_random_forest = model.fit(features_train, target_train)\n",
        "        #  сохраним наилучшее значение метрики accuracy на валидационных данных\n",
        "        best_accuracy_valid_rfc = result\n",
        "\n",
        "print('Accuracy наилучшей модели на валидационной выборке:', best_accuracy_valid_rfc)\n",
        "print('Количество деревьев:', est_)"
      ]
    },
    {
      "cell_type": "markdown",
      "source": [
        "Соберём данные исследования в таблицу"
      ],
      "metadata": {
        "id": "SK9q8sBNUPXl"
      }
    },
    {
      "cell_type": "code",
      "source": [
        "data = [\n",
        "     {'Accuracy': best_accuracy_valid_lr},\n",
        "     {'Accuracy': best_accuracy_valid_dtc},\n",
        "     {'Accuracy': best_accuracy_valid_rfc}\n",
        "     ]\n",
        "model_result = pd.DataFrame(data, index=['LogisticRegression',\n",
        "                                         'DecisionTreeClassifier',\n",
        "                                         'RandomForestClassifier'])\n",
        "model_result"
      ],
      "metadata": {
        "colab": {
          "base_uri": "https://localhost:8080/",
          "height": 143
        },
        "id": "r1eyWGzqUQC5",
        "outputId": "c381592c-d06d-4234-f3e2-812f953baf11"
      },
      "execution_count": 146,
      "outputs": [
        {
          "output_type": "execute_result",
          "data": {
            "text/plain": [
              "                        Accuracy\n",
              "LogisticRegression      0.707621\n",
              "DecisionTreeClassifier  0.788491\n",
              "RandomForestClassifier  0.782271"
            ],
            "text/html": [
              "\n",
              "  <div id=\"df-a3246d44-5e97-4691-ac26-f75f85e02055\" class=\"colab-df-container\">\n",
              "    <div>\n",
              "<style scoped>\n",
              "    .dataframe tbody tr th:only-of-type {\n",
              "        vertical-align: middle;\n",
              "    }\n",
              "\n",
              "    .dataframe tbody tr th {\n",
              "        vertical-align: top;\n",
              "    }\n",
              "\n",
              "    .dataframe thead th {\n",
              "        text-align: right;\n",
              "    }\n",
              "</style>\n",
              "<table border=\"1\" class=\"dataframe\">\n",
              "  <thead>\n",
              "    <tr style=\"text-align: right;\">\n",
              "      <th></th>\n",
              "      <th>Accuracy</th>\n",
              "    </tr>\n",
              "  </thead>\n",
              "  <tbody>\n",
              "    <tr>\n",
              "      <th>LogisticRegression</th>\n",
              "      <td>0.707621</td>\n",
              "    </tr>\n",
              "    <tr>\n",
              "      <th>DecisionTreeClassifier</th>\n",
              "      <td>0.788491</td>\n",
              "    </tr>\n",
              "    <tr>\n",
              "      <th>RandomForestClassifier</th>\n",
              "      <td>0.782271</td>\n",
              "    </tr>\n",
              "  </tbody>\n",
              "</table>\n",
              "</div>\n",
              "    <div class=\"colab-df-buttons\">\n",
              "\n",
              "  <div class=\"colab-df-container\">\n",
              "    <button class=\"colab-df-convert\" onclick=\"convertToInteractive('df-a3246d44-5e97-4691-ac26-f75f85e02055')\"\n",
              "            title=\"Convert this dataframe to an interactive table.\"\n",
              "            style=\"display:none;\">\n",
              "\n",
              "  <svg xmlns=\"http://www.w3.org/2000/svg\" height=\"24px\" viewBox=\"0 -960 960 960\">\n",
              "    <path d=\"M120-120v-720h720v720H120Zm60-500h600v-160H180v160Zm220 220h160v-160H400v160Zm0 220h160v-160H400v160ZM180-400h160v-160H180v160Zm440 0h160v-160H620v160ZM180-180h160v-160H180v160Zm440 0h160v-160H620v160Z\"/>\n",
              "  </svg>\n",
              "    </button>\n",
              "\n",
              "  <style>\n",
              "    .colab-df-container {\n",
              "      display:flex;\n",
              "      gap: 12px;\n",
              "    }\n",
              "\n",
              "    .colab-df-convert {\n",
              "      background-color: #E8F0FE;\n",
              "      border: none;\n",
              "      border-radius: 50%;\n",
              "      cursor: pointer;\n",
              "      display: none;\n",
              "      fill: #1967D2;\n",
              "      height: 32px;\n",
              "      padding: 0 0 0 0;\n",
              "      width: 32px;\n",
              "    }\n",
              "\n",
              "    .colab-df-convert:hover {\n",
              "      background-color: #E2EBFA;\n",
              "      box-shadow: 0px 1px 2px rgba(60, 64, 67, 0.3), 0px 1px 3px 1px rgba(60, 64, 67, 0.15);\n",
              "      fill: #174EA6;\n",
              "    }\n",
              "\n",
              "    .colab-df-buttons div {\n",
              "      margin-bottom: 4px;\n",
              "    }\n",
              "\n",
              "    [theme=dark] .colab-df-convert {\n",
              "      background-color: #3B4455;\n",
              "      fill: #D2E3FC;\n",
              "    }\n",
              "\n",
              "    [theme=dark] .colab-df-convert:hover {\n",
              "      background-color: #434B5C;\n",
              "      box-shadow: 0px 1px 3px 1px rgba(0, 0, 0, 0.15);\n",
              "      filter: drop-shadow(0px 1px 2px rgba(0, 0, 0, 0.3));\n",
              "      fill: #FFFFFF;\n",
              "    }\n",
              "  </style>\n",
              "\n",
              "    <script>\n",
              "      const buttonEl =\n",
              "        document.querySelector('#df-a3246d44-5e97-4691-ac26-f75f85e02055 button.colab-df-convert');\n",
              "      buttonEl.style.display =\n",
              "        google.colab.kernel.accessAllowed ? 'block' : 'none';\n",
              "\n",
              "      async function convertToInteractive(key) {\n",
              "        const element = document.querySelector('#df-a3246d44-5e97-4691-ac26-f75f85e02055');\n",
              "        const dataTable =\n",
              "          await google.colab.kernel.invokeFunction('convertToInteractive',\n",
              "                                                    [key], {});\n",
              "        if (!dataTable) return;\n",
              "\n",
              "        const docLinkHtml = 'Like what you see? Visit the ' +\n",
              "          '<a target=\"_blank\" href=https://colab.research.google.com/notebooks/data_table.ipynb>data table notebook</a>'\n",
              "          + ' to learn more about interactive tables.';\n",
              "        element.innerHTML = '';\n",
              "        dataTable['output_type'] = 'display_data';\n",
              "        await google.colab.output.renderOutput(dataTable, element);\n",
              "        const docLink = document.createElement('div');\n",
              "        docLink.innerHTML = docLinkHtml;\n",
              "        element.appendChild(docLink);\n",
              "      }\n",
              "    </script>\n",
              "  </div>\n",
              "\n",
              "\n",
              "<div id=\"df-9198166a-54a5-4810-9872-8c9fbfefb7ea\">\n",
              "  <button class=\"colab-df-quickchart\" onclick=\"quickchart('df-9198166a-54a5-4810-9872-8c9fbfefb7ea')\"\n",
              "            title=\"Suggest charts.\"\n",
              "            style=\"display:none;\">\n",
              "\n",
              "<svg xmlns=\"http://www.w3.org/2000/svg\" height=\"24px\"viewBox=\"0 0 24 24\"\n",
              "     width=\"24px\">\n",
              "    <g>\n",
              "        <path d=\"M19 3H5c-1.1 0-2 .9-2 2v14c0 1.1.9 2 2 2h14c1.1 0 2-.9 2-2V5c0-1.1-.9-2-2-2zM9 17H7v-7h2v7zm4 0h-2V7h2v10zm4 0h-2v-4h2v4z\"/>\n",
              "    </g>\n",
              "</svg>\n",
              "  </button>\n",
              "\n",
              "<style>\n",
              "  .colab-df-quickchart {\n",
              "      --bg-color: #E8F0FE;\n",
              "      --fill-color: #1967D2;\n",
              "      --hover-bg-color: #E2EBFA;\n",
              "      --hover-fill-color: #174EA6;\n",
              "      --disabled-fill-color: #AAA;\n",
              "      --disabled-bg-color: #DDD;\n",
              "  }\n",
              "\n",
              "  [theme=dark] .colab-df-quickchart {\n",
              "      --bg-color: #3B4455;\n",
              "      --fill-color: #D2E3FC;\n",
              "      --hover-bg-color: #434B5C;\n",
              "      --hover-fill-color: #FFFFFF;\n",
              "      --disabled-bg-color: #3B4455;\n",
              "      --disabled-fill-color: #666;\n",
              "  }\n",
              "\n",
              "  .colab-df-quickchart {\n",
              "    background-color: var(--bg-color);\n",
              "    border: none;\n",
              "    border-radius: 50%;\n",
              "    cursor: pointer;\n",
              "    display: none;\n",
              "    fill: var(--fill-color);\n",
              "    height: 32px;\n",
              "    padding: 0;\n",
              "    width: 32px;\n",
              "  }\n",
              "\n",
              "  .colab-df-quickchart:hover {\n",
              "    background-color: var(--hover-bg-color);\n",
              "    box-shadow: 0 1px 2px rgba(60, 64, 67, 0.3), 0 1px 3px 1px rgba(60, 64, 67, 0.15);\n",
              "    fill: var(--button-hover-fill-color);\n",
              "  }\n",
              "\n",
              "  .colab-df-quickchart-complete:disabled,\n",
              "  .colab-df-quickchart-complete:disabled:hover {\n",
              "    background-color: var(--disabled-bg-color);\n",
              "    fill: var(--disabled-fill-color);\n",
              "    box-shadow: none;\n",
              "  }\n",
              "\n",
              "  .colab-df-spinner {\n",
              "    border: 2px solid var(--fill-color);\n",
              "    border-color: transparent;\n",
              "    border-bottom-color: var(--fill-color);\n",
              "    animation:\n",
              "      spin 1s steps(1) infinite;\n",
              "  }\n",
              "\n",
              "  @keyframes spin {\n",
              "    0% {\n",
              "      border-color: transparent;\n",
              "      border-bottom-color: var(--fill-color);\n",
              "      border-left-color: var(--fill-color);\n",
              "    }\n",
              "    20% {\n",
              "      border-color: transparent;\n",
              "      border-left-color: var(--fill-color);\n",
              "      border-top-color: var(--fill-color);\n",
              "    }\n",
              "    30% {\n",
              "      border-color: transparent;\n",
              "      border-left-color: var(--fill-color);\n",
              "      border-top-color: var(--fill-color);\n",
              "      border-right-color: var(--fill-color);\n",
              "    }\n",
              "    40% {\n",
              "      border-color: transparent;\n",
              "      border-right-color: var(--fill-color);\n",
              "      border-top-color: var(--fill-color);\n",
              "    }\n",
              "    60% {\n",
              "      border-color: transparent;\n",
              "      border-right-color: var(--fill-color);\n",
              "    }\n",
              "    80% {\n",
              "      border-color: transparent;\n",
              "      border-right-color: var(--fill-color);\n",
              "      border-bottom-color: var(--fill-color);\n",
              "    }\n",
              "    90% {\n",
              "      border-color: transparent;\n",
              "      border-bottom-color: var(--fill-color);\n",
              "    }\n",
              "  }\n",
              "</style>\n",
              "\n",
              "  <script>\n",
              "    async function quickchart(key) {\n",
              "      const quickchartButtonEl =\n",
              "        document.querySelector('#' + key + ' button');\n",
              "      quickchartButtonEl.disabled = true;  // To prevent multiple clicks.\n",
              "      quickchartButtonEl.classList.add('colab-df-spinner');\n",
              "      try {\n",
              "        const charts = await google.colab.kernel.invokeFunction(\n",
              "            'suggestCharts', [key], {});\n",
              "      } catch (error) {\n",
              "        console.error('Error during call to suggestCharts:', error);\n",
              "      }\n",
              "      quickchartButtonEl.classList.remove('colab-df-spinner');\n",
              "      quickchartButtonEl.classList.add('colab-df-quickchart-complete');\n",
              "    }\n",
              "    (() => {\n",
              "      let quickchartButtonEl =\n",
              "        document.querySelector('#df-9198166a-54a5-4810-9872-8c9fbfefb7ea button');\n",
              "      quickchartButtonEl.style.display =\n",
              "        google.colab.kernel.accessAllowed ? 'block' : 'none';\n",
              "    })();\n",
              "  </script>\n",
              "</div>\n",
              "    </div>\n",
              "  </div>\n"
            ]
          },
          "metadata": {},
          "execution_count": 146
        }
      ]
    },
    {
      "cell_type": "markdown",
      "metadata": {
        "id": "4zOvIRcpxcPm"
      },
      "source": [
        "Значение Accuracy примерно равны у лучших моделей решающего дерева и случайного леса. Проверим их на тестовых данных"
      ]
    },
    {
      "cell_type": "markdown",
      "metadata": {
        "id": "-8o310QGeHQH"
      },
      "source": [
        "## Проверка модели на тестовой выборке"
      ]
    },
    {
      "cell_type": "markdown",
      "metadata": {
        "id": "FfOtQ125w7v8"
      },
      "source": [
        "Проверим, как поведут себя лучшие модели на тестовых данных"
      ]
    },
    {
      "cell_type": "markdown",
      "source": [
        "Для повышения качества модели объединим валидационную и обучающую выборки"
      ],
      "metadata": {
        "id": "dgm1JC8VdadA"
      }
    },
    {
      "cell_type": "code",
      "source": [
        "features_train_final = pd.concat([features_train, features_valid], axis=0, ignore_index=True)\n",
        "target_train_final = pd.concat([target_train, target_valid], axis=0, ignore_index=True)"
      ],
      "metadata": {
        "id": "_bvn1svGdcc2"
      },
      "execution_count": 165,
      "outputs": []
    },
    {
      "cell_type": "code",
      "source": [
        "best_model_random_forest = RandomForestClassifier(random_state=RANDOM_STATE_, n_estimators=est_)\n",
        "best_model_random_forest.fit(features_train_final, target_train_final)\n",
        "predictions = best_model_random_forest.predict(features_test)\n",
        "result = accuracy_score(target_test, predictions)\n",
        "\n",
        "print(result)"
      ],
      "metadata": {
        "colab": {
          "base_uri": "https://localhost:8080/"
        },
        "id": "2dfy0PBUc4MV",
        "outputId": "f9d3538d-4163-4dbc-913b-c3fc32df5a5b"
      },
      "execution_count": 170,
      "outputs": [
        {
          "output_type": "stream",
          "name": "stdout",
          "text": [
            "0.7853810264385692\n"
          ]
        }
      ]
    },
    {
      "cell_type": "code",
      "source": [
        "best_model_decision_tree = DecisionTreeClassifier(random_state=RANDOM_STATE_, max_depth=i_)\n",
        "best_model_decision_tree.fit(features_train_final, target_train_final)\n",
        "predictions = best_model_decision_tree.predict(features_test)\n",
        "result = accuracy_score(target_test, predictions)\n",
        "\n",
        "print(result)"
      ],
      "metadata": {
        "colab": {
          "base_uri": "https://localhost:8080/"
        },
        "id": "yeMQ-BTVd1pE",
        "outputId": "b2449aee-bd97-4cec-cebc-40df65f2d1ad"
      },
      "execution_count": 171,
      "outputs": [
        {
          "output_type": "stream",
          "name": "stdout",
          "text": [
            "0.7729393468118196\n"
          ]
        }
      ]
    },
    {
      "cell_type": "markdown",
      "metadata": {
        "id": "019UdceIy8Ma"
      },
      "source": [
        "Мы видим, что на тестовых данных лучше повела себя модель случайного леса, превысив значение метрики качества, полученное на валидационных данных"
      ]
    },
    {
      "cell_type": "markdown",
      "metadata": {
        "id": "f57RyyyQx4VE"
      },
      "source": [
        "Значение Accuracy далеко не всегда даёт корректные результаты в случае с неравномерными классами (в нашем случае).\n",
        "Проверим наши модели также ещё на 2 метрики качества на тестовых данных"
      ]
    },
    {
      "cell_type": "code",
      "execution_count": 172,
      "metadata": {
        "colab": {
          "base_uri": "https://localhost:8080/"
        },
        "id": "9wUMjLCBzbah",
        "outputId": "e8bf4392-d6aa-44bc-b29b-5f9ab867f272"
      },
      "outputs": [
        {
          "output_type": "execute_result",
          "data": {
            "text/plain": [
              "0.5221674876847291"
            ]
          },
          "metadata": {},
          "execution_count": 172
        }
      ],
      "source": [
        "recall_score(target_test, best_model_random_forest.predict(features_test))"
      ]
    },
    {
      "cell_type": "code",
      "execution_count": 173,
      "metadata": {
        "colab": {
          "base_uri": "https://localhost:8080/"
        },
        "id": "4yT0ehx00LZ9",
        "outputId": "62d7120c-dfdb-4b8c-c7b9-21df30974339"
      },
      "outputs": [
        {
          "output_type": "execute_result",
          "data": {
            "text/plain": [
              "0.4039408866995074"
            ]
          },
          "metadata": {},
          "execution_count": 173
        }
      ],
      "source": [
        "recall_score(target_test, best_model_decision_tree.predict(features_test))"
      ]
    },
    {
      "cell_type": "code",
      "execution_count": 174,
      "metadata": {
        "colab": {
          "base_uri": "https://localhost:8080/"
        },
        "id": "AsWnFDB8zodA",
        "outputId": "f9244627-3230-4f98-996e-0cea276dacd3"
      },
      "outputs": [
        {
          "output_type": "execute_result",
          "data": {
            "text/plain": [
              "0.7210884353741497"
            ]
          },
          "metadata": {},
          "execution_count": 174
        }
      ],
      "source": [
        "precision_score(target_test, best_model_random_forest.predict(features_test))"
      ]
    },
    {
      "cell_type": "code",
      "execution_count": 175,
      "metadata": {
        "colab": {
          "base_uri": "https://localhost:8080/"
        },
        "id": "BPboWRtM0MF2",
        "outputId": "6d771770-d6a7-4939-8196-cd1233abad33"
      },
      "outputs": [
        {
          "output_type": "execute_result",
          "data": {
            "text/plain": [
              "0.7663551401869159"
            ]
          },
          "metadata": {},
          "execution_count": 175
        }
      ],
      "source": [
        "precision_score(target_test, best_model_decision_tree.predict(features_test))"
      ]
    },
    {
      "cell_type": "markdown",
      "metadata": {
        "id": "qGw3-1210gyT"
      },
      "source": [
        "Мы видим, что по метрикам `Accuracy` и `Recall` лучшие результаты показывает модель случайного леса. По метрике `Precision` лучше результат у модели решающего дерева"
      ]
    },
    {
      "cell_type": "markdown",
      "metadata": {
        "id": "UZN1A96beHQI"
      },
      "source": [
        "## Проверка моделей на адекватность"
      ]
    },
    {
      "cell_type": "code",
      "execution_count": 178,
      "metadata": {
        "colab": {
          "base_uri": "https://localhost:8080/"
        },
        "id": "IwwozwbP4XpB",
        "outputId": "127e5f3a-44eb-4456-8c18-7ffab359f90c"
      },
      "outputs": [
        {
          "output_type": "execute_result",
          "data": {
            "text/plain": [
              "array([[436,  18],\n",
              "       [109,  80]])"
            ]
          },
          "metadata": {},
          "execution_count": 178
        }
      ],
      "source": [
        "confusion_matrix(target_valid, best_model_decision_tree.predict(features_valid))"
      ]
    },
    {
      "cell_type": "code",
      "execution_count": 179,
      "metadata": {
        "colab": {
          "base_uri": "https://localhost:8080/"
        },
        "id": "pjz8VWMp4ugN",
        "outputId": "f12baf0d-f733-4d8a-a91f-0477326ecc3c"
      },
      "outputs": [
        {
          "output_type": "execute_result",
          "data": {
            "text/plain": [
              "array([[415,  25],\n",
              "       [121,  82]])"
            ]
          },
          "metadata": {},
          "execution_count": 179
        }
      ],
      "source": [
        "confusion_matrix(target_test, best_model_decision_tree.predict(features_test))"
      ]
    },
    {
      "cell_type": "code",
      "execution_count": 180,
      "metadata": {
        "colab": {
          "base_uri": "https://localhost:8080/"
        },
        "id": "w21fwYUL4ueM",
        "outputId": "c0d7e1d1-79c2-4605-fa94-b292e4147747",
        "scrolled": true
      },
      "outputs": [
        {
          "output_type": "execute_result",
          "data": {
            "text/plain": [
              "array([[452,   2],\n",
              "       [  7, 182]])"
            ]
          },
          "metadata": {},
          "execution_count": 180
        }
      ],
      "source": [
        "confusion_matrix(target_valid, best_model_random_forest.predict(features_valid))"
      ]
    },
    {
      "cell_type": "code",
      "execution_count": 181,
      "metadata": {
        "colab": {
          "base_uri": "https://localhost:8080/"
        },
        "id": "M9Gj1S3v4ub8",
        "outputId": "a38428a5-1eb4-4ee0-f214-0ae92b99b480",
        "scrolled": true
      },
      "outputs": [
        {
          "output_type": "execute_result",
          "data": {
            "text/plain": [
              "array([[399,  41],\n",
              "       [ 97, 106]])"
            ]
          },
          "metadata": {},
          "execution_count": 181
        }
      ],
      "source": [
        "confusion_matrix(target_test, best_model_random_forest.predict(features_test))"
      ]
    },
    {
      "cell_type": "markdown",
      "source": [
        "Используем простейшую (dummy) модель: DummyClassifier для нашей задачи бинарной классификации. DummyClassifier \"предсказывает\" наиболее часто встречающийся класс. Здесь мы получаем контрольную accuracy, чтобы сравнить её с результатом работы нашей самой лучшей модели. Наша лучшая модель должна \"побить\" DummyClassifier.\n",
        "    \n",
        "Второй вариант - сравнить самый часто встречающийся класс в наших данных (это is_ultra == 0). Таких значений 2229 в нашем датафрейме. Всего же значений в датафрейме 3214. Значит самый часто встречающийся класс \"занимает\" 69% (2229 / 3214 == 0.693528313627878). Так мы и получили контрольные данные для сравнительной оценки, построенной нами \"лучшей\" модели. Наша лучшая модель \"бьёт\" этот скор"
      ],
      "metadata": {
        "id": "6IqWz8ehbbjo"
      }
    },
    {
      "cell_type": "code",
      "execution_count": 182,
      "metadata": {
        "colab": {
          "base_uri": "https://localhost:8080/"
        },
        "id": "FK03IF0L4uZz",
        "outputId": "c6d6bdd2-c4b8-4258-e35b-07e872e06a1d"
      },
      "outputs": [
        {
          "output_type": "stream",
          "name": "stdout",
          "text": [
            "Уникальные предсказанные метки:  [0]\n",
            "Оценка на тестовых данных:  0.6842923794712286\n"
          ]
        }
      ],
      "source": [
        "dummy_clf = DummyClassifier(strategy=\"most_frequent\", random_state=0)\n",
        "\n",
        "dummy = DummyClassifier(strategy='most_frequent').fit(features_train, target_train)\n",
        "dummy_pred = dummy.predict(features_test)\n",
        "\n",
        "print('Уникальные предсказанные метки: ', (np.unique(dummy_pred)))\n",
        "\n",
        "print('Оценка на тестовых данных: ', accuracy_score(target_test, dummy_pred))"
      ]
    },
    {
      "cell_type": "markdown",
      "metadata": {
        "id": "tLqMcsaj71uc"
      },
      "source": [
        "И лучшая модель решающего дерева и лучшая модель случайного леса \"бьёт\" показатель DummyClassifier и показатель наиболее часто встречающегося класса"
      ]
    },
    {
      "cell_type": "markdown",
      "metadata": {
        "id": "KSP5ZMeO8iEK"
      },
      "source": [
        "**Выводы по работе**\n",
        "\n",
        "Для решения задачи определения тарифа на имеющихся данных:\n",
        "- исключен параметр количества звонков ввиду сильной корреляции с суммарной длительностью звонков в минутах\n",
        "- было определено, что определять тариф будет задача классификации с учителем\n",
        "- данные были разделены на тренировочную, валидационную и тестовую выборки в пропорции 60%:20%:20%\n",
        "- на валидационной выборке по метрике `Accuracy` чуть лучше показала себя модель решающего дерева, на тестовых данных - модель случайного леса\n",
        "- в целом по валидационным и тестовым данным мы видим, что по метрикам `Accuracy` и `Recall` лучшие результаты показывает модель случайного леса. По метрике `Precision` лучше результат у модели решающего дерева\n",
        "- была проведена проверка на адекватность модели - получилось достичь плановых значений метрики качества выше 0.75\n",
        "\n",
        "Таким образом, в работу берем модель `best_model_random_forest`"
      ]
    }
  ],
  "metadata": {
    "ExecuteTimeLog": [
      {
        "duration": 466,
        "start_time": "2023-04-02T16:15:38.508Z"
      },
      {
        "duration": 102,
        "start_time": "2023-04-02T16:15:41.620Z"
      },
      {
        "duration": 135,
        "start_time": "2023-04-02T16:15:47.750Z"
      },
      {
        "duration": 21,
        "start_time": "2023-04-02T16:15:59.681Z"
      },
      {
        "duration": 14,
        "start_time": "2023-04-02T16:16:23.257Z"
      },
      {
        "duration": 33,
        "start_time": "2023-04-02T16:16:35.740Z"
      },
      {
        "duration": 862,
        "start_time": "2023-04-02T16:17:25.601Z"
      },
      {
        "duration": 8,
        "start_time": "2023-04-02T16:18:46.027Z"
      },
      {
        "duration": 13,
        "start_time": "2023-04-02T16:18:54.391Z"
      },
      {
        "duration": 8,
        "start_time": "2023-04-02T16:18:59.355Z"
      },
      {
        "duration": 11,
        "start_time": "2023-04-02T16:21:45.136Z"
      },
      {
        "duration": 13,
        "start_time": "2023-04-02T16:21:51.655Z"
      },
      {
        "duration": 5,
        "start_time": "2023-04-02T16:21:55.577Z"
      },
      {
        "duration": 3,
        "start_time": "2023-04-02T16:22:32.503Z"
      },
      {
        "duration": 4,
        "start_time": "2023-04-02T16:22:52.822Z"
      },
      {
        "duration": 5,
        "start_time": "2023-04-02T16:23:08.438Z"
      },
      {
        "duration": 3,
        "start_time": "2023-04-02T16:23:28.689Z"
      },
      {
        "duration": 3,
        "start_time": "2023-04-02T16:24:53.942Z"
      },
      {
        "duration": 1294,
        "start_time": "2023-04-02T16:25:39.739Z"
      },
      {
        "duration": 94,
        "start_time": "2023-04-02T16:27:15.694Z"
      },
      {
        "duration": 134,
        "start_time": "2023-04-02T16:28:06.532Z"
      },
      {
        "duration": 4,
        "start_time": "2023-04-02T16:28:10.532Z"
      },
      {
        "duration": 550,
        "start_time": "2023-04-02T16:28:13.982Z"
      },
      {
        "duration": 518,
        "start_time": "2023-04-02T16:30:24.585Z"
      },
      {
        "duration": 1266,
        "start_time": "2023-04-02T16:30:39.354Z"
      },
      {
        "duration": 1452,
        "start_time": "2023-04-02T16:30:58.178Z"
      },
      {
        "duration": 10,
        "start_time": "2023-04-02T16:34:38.188Z"
      },
      {
        "duration": 3,
        "start_time": "2023-04-02T16:34:41.580Z"
      },
      {
        "duration": 39,
        "start_time": "2023-04-02T16:34:44.922Z"
      },
      {
        "duration": 213,
        "start_time": "2023-04-02T16:34:52.905Z"
      },
      {
        "duration": 321,
        "start_time": "2023-04-02T16:37:26.663Z"
      },
      {
        "duration": 250,
        "start_time": "2023-04-02T16:37:48.063Z"
      },
      {
        "duration": 311,
        "start_time": "2023-04-02T16:38:34.988Z"
      },
      {
        "duration": 1388,
        "start_time": "2023-04-02T16:38:46.029Z"
      },
      {
        "duration": 276,
        "start_time": "2023-04-02T16:38:47.419Z"
      },
      {
        "duration": 322,
        "start_time": "2023-04-02T16:39:26.622Z"
      },
      {
        "duration": 1147,
        "start_time": "2023-04-08T10:37:36.256Z"
      },
      {
        "duration": 127,
        "start_time": "2023-04-08T10:37:38.352Z"
      },
      {
        "duration": 16,
        "start_time": "2023-04-08T10:37:39.519Z"
      },
      {
        "duration": 11,
        "start_time": "2023-04-08T10:37:41.598Z"
      },
      {
        "duration": 25,
        "start_time": "2023-04-08T10:37:44.803Z"
      },
      {
        "duration": 10,
        "start_time": "2023-04-08T10:48:50.218Z"
      },
      {
        "duration": 23,
        "start_time": "2023-04-08T10:48:51.881Z"
      },
      {
        "duration": 8,
        "start_time": "2023-04-08T10:48:53.192Z"
      },
      {
        "duration": 4,
        "start_time": "2023-04-08T10:48:54.704Z"
      },
      {
        "duration": 34,
        "start_time": "2023-04-08T10:48:56.662Z"
      },
      {
        "duration": 1310,
        "start_time": "2023-04-08T10:48:58.603Z"
      },
      {
        "duration": 262,
        "start_time": "2023-04-08T10:49:00.376Z"
      },
      {
        "duration": 208,
        "start_time": "2023-04-08T10:54:02.958Z"
      },
      {
        "duration": 1257,
        "start_time": "2023-04-08T10:55:12.281Z"
      },
      {
        "duration": 2168,
        "start_time": "2023-04-08T12:04:18.960Z"
      },
      {
        "duration": 34,
        "start_time": "2023-04-08T12:04:21.130Z"
      },
      {
        "duration": 14,
        "start_time": "2023-04-08T12:04:21.166Z"
      },
      {
        "duration": 10,
        "start_time": "2023-04-08T12:04:21.182Z"
      },
      {
        "duration": 39,
        "start_time": "2023-04-08T12:04:21.194Z"
      },
      {
        "duration": 19,
        "start_time": "2023-04-08T12:04:21.234Z"
      },
      {
        "duration": 5,
        "start_time": "2023-04-08T12:04:21.254Z"
      },
      {
        "duration": 95,
        "start_time": "2023-04-08T12:04:21.261Z"
      },
      {
        "duration": 394,
        "start_time": "2023-04-08T12:04:21.358Z"
      },
      {
        "duration": 202,
        "start_time": "2023-04-08T12:04:21.753Z"
      },
      {
        "duration": 1198,
        "start_time": "2023-04-08T12:04:21.956Z"
      },
      {
        "duration": 57,
        "start_time": "2023-04-08T17:52:53.412Z"
      },
      {
        "duration": 1151,
        "start_time": "2023-04-08T17:56:32.291Z"
      },
      {
        "duration": 62,
        "start_time": "2023-04-08T17:56:34.147Z"
      },
      {
        "duration": 19,
        "start_time": "2023-04-08T17:56:35.793Z"
      },
      {
        "duration": 14,
        "start_time": "2023-04-08T17:56:37.512Z"
      },
      {
        "duration": 24,
        "start_time": "2023-04-08T17:56:38.413Z"
      },
      {
        "duration": 6,
        "start_time": "2023-04-08T17:56:39.303Z"
      },
      {
        "duration": 12,
        "start_time": "2023-04-08T17:56:54.472Z"
      },
      {
        "duration": 13,
        "start_time": "2023-04-08T17:57:11.693Z"
      },
      {
        "duration": 5,
        "start_time": "2023-04-08T17:57:16.283Z"
      },
      {
        "duration": 20,
        "start_time": "2023-04-08T17:57:18.983Z"
      },
      {
        "duration": 165,
        "start_time": "2023-04-08T17:57:21.952Z"
      },
      {
        "duration": 155,
        "start_time": "2023-04-08T17:57:24.103Z"
      },
      {
        "duration": 4116,
        "start_time": "2023-04-08T17:57:26.203Z"
      },
      {
        "duration": 11,
        "start_time": "2023-04-08T17:57:37.653Z"
      },
      {
        "duration": 7,
        "start_time": "2023-04-08T17:57:38.602Z"
      },
      {
        "duration": 13,
        "start_time": "2023-04-08T17:57:49.012Z"
      },
      {
        "duration": 9,
        "start_time": "2023-04-08T17:57:49.402Z"
      },
      {
        "duration": 13,
        "start_time": "2023-04-08T17:57:49.783Z"
      },
      {
        "duration": 8,
        "start_time": "2023-04-08T17:57:51.052Z"
      },
      {
        "duration": 12,
        "start_time": "2023-04-08T17:57:53.082Z"
      },
      {
        "duration": 8,
        "start_time": "2023-04-08T17:57:53.472Z"
      },
      {
        "duration": 14,
        "start_time": "2023-04-08T17:57:53.912Z"
      },
      {
        "duration": 7,
        "start_time": "2023-04-08T17:57:54.383Z"
      },
      {
        "duration": 8,
        "start_time": "2023-04-08T17:57:58.864Z"
      },
      {
        "duration": 7,
        "start_time": "2023-04-08T17:57:59.303Z"
      },
      {
        "duration": 12,
        "start_time": "2023-04-08T17:57:59.882Z"
      },
      {
        "duration": 16,
        "start_time": "2023-04-08T17:58:00.432Z"
      },
      {
        "duration": 7,
        "start_time": "2023-04-08T17:58:01.153Z"
      }
    ],
    "colab": {
      "provenance": []
    },
    "kernelspec": {
      "display_name": "Python 3 (ipykernel)",
      "language": "python",
      "name": "python3"
    },
    "language_info": {
      "codemirror_mode": {
        "name": "ipython",
        "version": 3
      },
      "file_extension": ".py",
      "mimetype": "text/x-python",
      "name": "python",
      "nbconvert_exporter": "python",
      "pygments_lexer": "ipython3",
      "version": "3.9.5"
    },
    "toc": {
      "base_numbering": 1,
      "nav_menu": {},
      "number_sections": true,
      "sideBar": true,
      "skip_h1_title": true,
      "title_cell": "Table of Contents",
      "title_sidebar": "Contents",
      "toc_cell": false,
      "toc_position": {
        "height": "calc(100% - 180px)",
        "left": "10px",
        "top": "150px",
        "width": "165px"
      },
      "toc_section_display": true,
      "toc_window_display": true
    }
  },
  "nbformat": 4,
  "nbformat_minor": 0
}