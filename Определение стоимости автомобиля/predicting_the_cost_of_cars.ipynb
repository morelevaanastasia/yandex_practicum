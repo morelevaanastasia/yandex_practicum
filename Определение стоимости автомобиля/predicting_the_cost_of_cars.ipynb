{
 "cells": [ 
  {
   "cell_type": "markdown",
   "metadata": {
    "id": "x6Gaoouk-HV7"
   },
   "source": [
    "# Построение модели определения стоимости автомобиля\n",
    "\n"
   ]
  },
  {
   "cell_type": "markdown",
   "metadata": {
    "id": "_Z1-_EhQ-HV8"
   },
   "source": [
    "Сервис по продаже автомобилей с пробегом «Не бит, не крашен» разрабатывает приложение для привлечения новых клиентов. В нём можно быстро узнать рыночную стоимость своего автомобиля. В вашем распоряжении исторические данные: технические характеристики, комплектации и цены автомобилей. Требуется построить модель для определения стоимости.\n",
    "\n",
    "Заказчику важны:\n",
    "\n",
    "- качество предсказания;\n",
    "- скорость предсказания;\n",
    "- время обучения."
   ]
  },
  {
   "cell_type": "markdown",
   "metadata": {
    "id": "I6QsfsAE-HV8"
   },
   "source": [
    "## Подготовка данных"
   ]
  },
  {
   "cell_type": "code",
   "execution_count": 2,
   "metadata": {
    "id": "kVZSE8vS-HV9"
   },
   "outputs": [],
   "source": [
    "import pandas as pd\n",
    "import numpy as np\n",
    "import os\n",
    "\n",
    "import matplotlib.pyplot as plt\n",
    "import seaborn as sns\n",
    "\n",
    "from sklearn.preprocessing import StandardScaler, OneHotEncoder, OrdinalEncoder\n",
    "from sklearn.model_selection import train_test_split\n",
    "from sklearn.metrics import mean_squared_error\n",
    "from sklearn.linear_model import LinearRegression\n",
    "from sklearn.tree import DecisionTreeRegressor\n",
    "from catboost import CatBoostRegressor\n",
    "import lightgbm as ltb\n",
    "from sklearn.dummy import DummyRegressor  # константная модель\n",
    "\n",
    "plt.rcParams['figure.figsize'] = (8,5)\n",
    "\n",
    "import warnings\n",
    "warnings.filterwarnings(\"ignore\")\n",
    "\n",
    "RANDOM_STATE = 12345"
   ]
  },
  {
   "cell_type": "code",
   "execution_count": 3,
   "metadata": {
    "id": "eolJnjGv-HV-"
   },
   "outputs": [],
   "source": [
    "pth1 = '/datasets/autos.csv'\n",
    "pth2 = 'https://code.s3.yandex.net/datasets/autos.csv'\n",
    "\n",
    "if os.path.exists(pth1):\n",
    "    df = pd.read_csv(pth1)\n",
    "elif os.path.exists(pth2):\n",
    "    df = pd.read_csv(pth2)\n",
    "else:\n",
    "    print('Something is wrong')"
   ]
  },
  {
   "cell_type": "code",
   "execution_count": 4,
   "metadata": {
    "id": "M4WBqnuN-HV_"
   },
   "outputs": [],
   "source": [
    "def data_describe(data):\n",
    "    print('Общая информация:')\n",
    "    data.info()\n",
    "    print('Первые 5 строк:')\n",
    "    display(data.head())\n",
    "    print('Описание датафрейма:')\n",
    "    display(data.describe())\n",
    "    print('Пропуски:')\n",
    "    display(data.isna().sum().sort_values(ascending=False))\n",
    "    print('Дубликаты:')\n",
    "    display(data.duplicated().sum())\n",
    "    print('Уникальные значения:')\n",
    "    display(data.nunique().sort_values())\n",
    "    print('Разделим признаки на категориальные и числовые:')\n",
    "    num_columns = []\n",
    "    cat_columns = []\n",
    "    for num, i in enumerate(data.columns):\n",
    "        if pd.api.types.is_numeric_dtype(data[i]):\n",
    "            num_columns.append(i)\n",
    "        elif pd.api.types.is_object_dtype(data[i]):\n",
    "            cat_columns.append(i)\n",
    "    print('Всего числовых признаков:', len(num_columns))\n",
    "    print('Всего категориальных признаков:', len(cat_columns))"
   ]
  },
  {
   "cell_type": "code",
   "execution_count": 5,
   "metadata": {
    "colab": {
     "base_uri": "https://localhost:8080/",
     "height": 1000
    },
    "id": "u_R_JXJE-HV_",
    "outputId": "3260f65d-e7b9-428a-afe0-5026cc65456a",
    "scrolled": false
   },
   "outputs": [
    {
     "name": "stdout",
     "output_type": "stream",
     "text": [
      "Общая информация:\n",
      "<class 'pandas.core.frame.DataFrame'>\n",
      "RangeIndex: 354369 entries, 0 to 354368\n",
      "Data columns (total 16 columns):\n",
      " #   Column             Non-Null Count   Dtype \n",
      "---  ------             --------------   ----- \n",
      " 0   DateCrawled        354369 non-null  object\n",
      " 1   Price              354369 non-null  int64 \n",
      " 2   VehicleType        316879 non-null  object\n",
      " 3   RegistrationYear   354369 non-null  int64 \n",
      " 4   Gearbox            334536 non-null  object\n",
      " 5   Power              354369 non-null  int64 \n",
      " 6   Model              334664 non-null  object\n",
      " 7   Kilometer          354369 non-null  int64 \n",
      " 8   RegistrationMonth  354369 non-null  int64 \n",
      " 9   FuelType           321474 non-null  object\n",
      " 10  Brand              354369 non-null  object\n",
      " 11  Repaired           283215 non-null  object\n",
      " 12  DateCreated        354369 non-null  object\n",
      " 13  NumberOfPictures   354369 non-null  int64 \n",
      " 14  PostalCode         354369 non-null  int64 \n",
      " 15  LastSeen           354369 non-null  object\n",
      "dtypes: int64(7), object(9)\n",
      "memory usage: 43.3+ MB\n",
      "Первые 5 строк:\n"
     ]
    },
    {
     "data": {
      "text/html": [
       "<div>\n",
       "<style scoped>\n",
       "    .dataframe tbody tr th:only-of-type {\n",
       "        vertical-align: middle;\n",
       "    }\n",
       "\n",
       "    .dataframe tbody tr th {\n",
       "        vertical-align: top;\n",
       "    }\n",
       "\n",
       "    .dataframe thead th {\n",
       "        text-align: right;\n",
       "    }\n",
       "</style>\n",
       "<table border=\"1\" class=\"dataframe\">\n",
       "  <thead>\n",
       "    <tr style=\"text-align: right;\">\n",
       "      <th></th>\n",
       "      <th>DateCrawled</th>\n",
       "      <th>Price</th>\n",
       "      <th>VehicleType</th>\n",
       "      <th>RegistrationYear</th>\n",
       "      <th>Gearbox</th>\n",
       "      <th>Power</th>\n",
       "      <th>Model</th>\n",
       "      <th>Kilometer</th>\n",
       "      <th>RegistrationMonth</th>\n",
       "      <th>FuelType</th>\n",
       "      <th>Brand</th>\n",
       "      <th>Repaired</th>\n",
       "      <th>DateCreated</th>\n",
       "      <th>NumberOfPictures</th>\n",
       "      <th>PostalCode</th>\n",
       "      <th>LastSeen</th>\n",
       "    </tr>\n",
       "  </thead>\n",
       "  <tbody>\n",
       "    <tr>\n",
       "      <th>0</th>\n",
       "      <td>2016-03-24 11:52:17</td>\n",
       "      <td>480</td>\n",
       "      <td>NaN</td>\n",
       "      <td>1993</td>\n",
       "      <td>manual</td>\n",
       "      <td>0</td>\n",
       "      <td>golf</td>\n",
       "      <td>150000</td>\n",
       "      <td>0</td>\n",
       "      <td>petrol</td>\n",
       "      <td>volkswagen</td>\n",
       "      <td>NaN</td>\n",
       "      <td>2016-03-24 00:00:00</td>\n",
       "      <td>0</td>\n",
       "      <td>70435</td>\n",
       "      <td>2016-04-07 03:16:57</td>\n",
       "    </tr>\n",
       "    <tr>\n",
       "      <th>1</th>\n",
       "      <td>2016-03-24 10:58:45</td>\n",
       "      <td>18300</td>\n",
       "      <td>coupe</td>\n",
       "      <td>2011</td>\n",
       "      <td>manual</td>\n",
       "      <td>190</td>\n",
       "      <td>NaN</td>\n",
       "      <td>125000</td>\n",
       "      <td>5</td>\n",
       "      <td>gasoline</td>\n",
       "      <td>audi</td>\n",
       "      <td>yes</td>\n",
       "      <td>2016-03-24 00:00:00</td>\n",
       "      <td>0</td>\n",
       "      <td>66954</td>\n",
       "      <td>2016-04-07 01:46:50</td>\n",
       "    </tr>\n",
       "    <tr>\n",
       "      <th>2</th>\n",
       "      <td>2016-03-14 12:52:21</td>\n",
       "      <td>9800</td>\n",
       "      <td>suv</td>\n",
       "      <td>2004</td>\n",
       "      <td>auto</td>\n",
       "      <td>163</td>\n",
       "      <td>grand</td>\n",
       "      <td>125000</td>\n",
       "      <td>8</td>\n",
       "      <td>gasoline</td>\n",
       "      <td>jeep</td>\n",
       "      <td>NaN</td>\n",
       "      <td>2016-03-14 00:00:00</td>\n",
       "      <td>0</td>\n",
       "      <td>90480</td>\n",
       "      <td>2016-04-05 12:47:46</td>\n",
       "    </tr>\n",
       "    <tr>\n",
       "      <th>3</th>\n",
       "      <td>2016-03-17 16:54:04</td>\n",
       "      <td>1500</td>\n",
       "      <td>small</td>\n",
       "      <td>2001</td>\n",
       "      <td>manual</td>\n",
       "      <td>75</td>\n",
       "      <td>golf</td>\n",
       "      <td>150000</td>\n",
       "      <td>6</td>\n",
       "      <td>petrol</td>\n",
       "      <td>volkswagen</td>\n",
       "      <td>no</td>\n",
       "      <td>2016-03-17 00:00:00</td>\n",
       "      <td>0</td>\n",
       "      <td>91074</td>\n",
       "      <td>2016-03-17 17:40:17</td>\n",
       "    </tr>\n",
       "    <tr>\n",
       "      <th>4</th>\n",
       "      <td>2016-03-31 17:25:20</td>\n",
       "      <td>3600</td>\n",
       "      <td>small</td>\n",
       "      <td>2008</td>\n",
       "      <td>manual</td>\n",
       "      <td>69</td>\n",
       "      <td>fabia</td>\n",
       "      <td>90000</td>\n",
       "      <td>7</td>\n",
       "      <td>gasoline</td>\n",
       "      <td>skoda</td>\n",
       "      <td>no</td>\n",
       "      <td>2016-03-31 00:00:00</td>\n",
       "      <td>0</td>\n",
       "      <td>60437</td>\n",
       "      <td>2016-04-06 10:17:21</td>\n",
       "    </tr>\n",
       "  </tbody>\n",
       "</table>\n",
       "</div>"
      ],
      "text/plain": [
       "           DateCrawled  Price VehicleType  RegistrationYear Gearbox  Power  \\\n",
       "0  2016-03-24 11:52:17    480         NaN              1993  manual      0   \n",
       "1  2016-03-24 10:58:45  18300       coupe              2011  manual    190   \n",
       "2  2016-03-14 12:52:21   9800         suv              2004    auto    163   \n",
       "3  2016-03-17 16:54:04   1500       small              2001  manual     75   \n",
       "4  2016-03-31 17:25:20   3600       small              2008  manual     69   \n",
       "\n",
       "   Model  Kilometer  RegistrationMonth  FuelType       Brand Repaired  \\\n",
       "0   golf     150000                  0    petrol  volkswagen      NaN   \n",
       "1    NaN     125000                  5  gasoline        audi      yes   \n",
       "2  grand     125000                  8  gasoline        jeep      NaN   \n",
       "3   golf     150000                  6    petrol  volkswagen       no   \n",
       "4  fabia      90000                  7  gasoline       skoda       no   \n",
       "\n",
       "           DateCreated  NumberOfPictures  PostalCode             LastSeen  \n",
       "0  2016-03-24 00:00:00                 0       70435  2016-04-07 03:16:57  \n",
       "1  2016-03-24 00:00:00                 0       66954  2016-04-07 01:46:50  \n",
       "2  2016-03-14 00:00:00                 0       90480  2016-04-05 12:47:46  \n",
       "3  2016-03-17 00:00:00                 0       91074  2016-03-17 17:40:17  \n",
       "4  2016-03-31 00:00:00                 0       60437  2016-04-06 10:17:21  "
      ]
     },
     "metadata": {},
     "output_type": "display_data"
    },
    {
     "name": "stdout",
     "output_type": "stream",
     "text": [
      "Описание датафрейма:\n"
     ]
    },
    {
     "data": {
      "text/html": [
       "<div>\n",
       "<style scoped>\n",
       "    .dataframe tbody tr th:only-of-type {\n",
       "        vertical-align: middle;\n",
       "    }\n",
       "\n",
       "    .dataframe tbody tr th {\n",
       "        vertical-align: top;\n",
       "    }\n",
       "\n",
       "    .dataframe thead th {\n",
       "        text-align: right;\n",
       "    }\n",
       "</style>\n",
       "<table border=\"1\" class=\"dataframe\">\n",
       "  <thead>\n",
       "    <tr style=\"text-align: right;\">\n",
       "      <th></th>\n",
       "      <th>Price</th>\n",
       "      <th>RegistrationYear</th>\n",
       "      <th>Power</th>\n",
       "      <th>Kilometer</th>\n",
       "      <th>RegistrationMonth</th>\n",
       "      <th>NumberOfPictures</th>\n",
       "      <th>PostalCode</th>\n",
       "    </tr>\n",
       "  </thead>\n",
       "  <tbody>\n",
       "    <tr>\n",
       "      <th>count</th>\n",
       "      <td>354369.000000</td>\n",
       "      <td>354369.000000</td>\n",
       "      <td>354369.000000</td>\n",
       "      <td>354369.000000</td>\n",
       "      <td>354369.000000</td>\n",
       "      <td>354369.0</td>\n",
       "      <td>354369.000000</td>\n",
       "    </tr>\n",
       "    <tr>\n",
       "      <th>mean</th>\n",
       "      <td>4416.656776</td>\n",
       "      <td>2004.234448</td>\n",
       "      <td>110.094337</td>\n",
       "      <td>128211.172535</td>\n",
       "      <td>5.714645</td>\n",
       "      <td>0.0</td>\n",
       "      <td>50508.689087</td>\n",
       "    </tr>\n",
       "    <tr>\n",
       "      <th>std</th>\n",
       "      <td>4514.158514</td>\n",
       "      <td>90.227958</td>\n",
       "      <td>189.850405</td>\n",
       "      <td>37905.341530</td>\n",
       "      <td>3.726421</td>\n",
       "      <td>0.0</td>\n",
       "      <td>25783.096248</td>\n",
       "    </tr>\n",
       "    <tr>\n",
       "      <th>min</th>\n",
       "      <td>0.000000</td>\n",
       "      <td>1000.000000</td>\n",
       "      <td>0.000000</td>\n",
       "      <td>5000.000000</td>\n",
       "      <td>0.000000</td>\n",
       "      <td>0.0</td>\n",
       "      <td>1067.000000</td>\n",
       "    </tr>\n",
       "    <tr>\n",
       "      <th>25%</th>\n",
       "      <td>1050.000000</td>\n",
       "      <td>1999.000000</td>\n",
       "      <td>69.000000</td>\n",
       "      <td>125000.000000</td>\n",
       "      <td>3.000000</td>\n",
       "      <td>0.0</td>\n",
       "      <td>30165.000000</td>\n",
       "    </tr>\n",
       "    <tr>\n",
       "      <th>50%</th>\n",
       "      <td>2700.000000</td>\n",
       "      <td>2003.000000</td>\n",
       "      <td>105.000000</td>\n",
       "      <td>150000.000000</td>\n",
       "      <td>6.000000</td>\n",
       "      <td>0.0</td>\n",
       "      <td>49413.000000</td>\n",
       "    </tr>\n",
       "    <tr>\n",
       "      <th>75%</th>\n",
       "      <td>6400.000000</td>\n",
       "      <td>2008.000000</td>\n",
       "      <td>143.000000</td>\n",
       "      <td>150000.000000</td>\n",
       "      <td>9.000000</td>\n",
       "      <td>0.0</td>\n",
       "      <td>71083.000000</td>\n",
       "    </tr>\n",
       "    <tr>\n",
       "      <th>max</th>\n",
       "      <td>20000.000000</td>\n",
       "      <td>9999.000000</td>\n",
       "      <td>20000.000000</td>\n",
       "      <td>150000.000000</td>\n",
       "      <td>12.000000</td>\n",
       "      <td>0.0</td>\n",
       "      <td>99998.000000</td>\n",
       "    </tr>\n",
       "  </tbody>\n",
       "</table>\n",
       "</div>"
      ],
      "text/plain": [
       "               Price  RegistrationYear          Power      Kilometer  \\\n",
       "count  354369.000000     354369.000000  354369.000000  354369.000000   \n",
       "mean     4416.656776       2004.234448     110.094337  128211.172535   \n",
       "std      4514.158514         90.227958     189.850405   37905.341530   \n",
       "min         0.000000       1000.000000       0.000000    5000.000000   \n",
       "25%      1050.000000       1999.000000      69.000000  125000.000000   \n",
       "50%      2700.000000       2003.000000     105.000000  150000.000000   \n",
       "75%      6400.000000       2008.000000     143.000000  150000.000000   \n",
       "max     20000.000000       9999.000000   20000.000000  150000.000000   \n",
       "\n",
       "       RegistrationMonth  NumberOfPictures     PostalCode  \n",
       "count      354369.000000          354369.0  354369.000000  \n",
       "mean            5.714645               0.0   50508.689087  \n",
       "std             3.726421               0.0   25783.096248  \n",
       "min             0.000000               0.0    1067.000000  \n",
       "25%             3.000000               0.0   30165.000000  \n",
       "50%             6.000000               0.0   49413.000000  \n",
       "75%             9.000000               0.0   71083.000000  \n",
       "max            12.000000               0.0   99998.000000  "
      ]
     },
     "metadata": {},
     "output_type": "display_data"
    },
    {
     "name": "stdout",
     "output_type": "stream",
     "text": [
      "Пропуски:\n"
     ]
    },
    {
     "data": {
      "text/plain": [
       "Repaired             71154\n",
       "VehicleType          37490\n",
       "FuelType             32895\n",
       "Gearbox              19833\n",
       "Model                19705\n",
       "DateCrawled              0\n",
       "Price                    0\n",
       "RegistrationYear         0\n",
       "Power                    0\n",
       "Kilometer                0\n",
       "RegistrationMonth        0\n",
       "Brand                    0\n",
       "DateCreated              0\n",
       "NumberOfPictures         0\n",
       "PostalCode               0\n",
       "LastSeen                 0\n",
       "dtype: int64"
      ]
     },
     "metadata": {},
     "output_type": "display_data"
    },
    {
     "name": "stdout",
     "output_type": "stream",
     "text": [
      "Дубликаты:\n"
     ]
    },
    {
     "data": {
      "text/plain": [
       "4"
      ]
     },
     "metadata": {},
     "output_type": "display_data"
    },
    {
     "name": "stdout",
     "output_type": "stream",
     "text": [
      "Уникальные значения:\n"
     ]
    },
    {
     "data": {
      "text/plain": [
       "NumberOfPictures          1\n",
       "Gearbox                   2\n",
       "Repaired                  2\n",
       "FuelType                  7\n",
       "VehicleType               8\n",
       "Kilometer                13\n",
       "RegistrationMonth        13\n",
       "Brand                    40\n",
       "DateCreated             109\n",
       "RegistrationYear        151\n",
       "Model                   250\n",
       "Power                   712\n",
       "Price                  3731\n",
       "PostalCode             8143\n",
       "LastSeen             179150\n",
       "DateCrawled          271174\n",
       "dtype: int64"
      ]
     },
     "metadata": {},
     "output_type": "display_data"
    },
    {
     "name": "stdout",
     "output_type": "stream",
     "text": [
      "Разделим признаки на категориальные и числовые:\n",
      "Всего числовых признаков: 7\n",
      "Всего категориальных признаков: 9\n"
     ]
    }
   ],
   "source": [
    "data_describe(df)"
   ]
  },
  {
   "cell_type": "markdown",
   "metadata": {
    "id": "gRTO5S5i-HWA"
   },
   "source": [
    "Опишем признаки:"
   ]
  },
  {
   "cell_type": "markdown",
   "metadata": {
    "id": "PaoerE3f-HWA"
   },
   "source": [
    "**Признаки**\n",
    "\n",
    "\n",
    "DateCrawled — дата скачивания анкеты из базы <br>\n",
    "VehicleType — тип автомобильного кузова <br>\n",
    "RegistrationYear — год регистрации автомобиля <br>\n",
    "Gearbox — тип коробки передач <br>\n",
    "Power — мощность (л. с.) <br>\n",
    "Model — модель автомобиля <br>\n",
    "Kilometer — пробег (км) <br>\n",
    "RegistrationMonth — месяц регистрации автомобиля <br>\n",
    "FuelType — тип топлива <br>\n",
    "Brand — марка автомобиля <br>\n",
    "Repaired — была машина в ремонте или нет <br>\n",
    "DateCreated — дата создания анкеты <br>\n",
    "NumberOfPictures — количество фотографий автомобиля <br>\n",
    "PostalCode — почтовый индекс владельца анкеты (пользователя) <br>\n",
    "LastSeen — дата последней активности пользователя <br>\n",
    "\n",
    "**Целевой признак**\n",
    "\n",
    "\n",
    "Price — цена (евро)\n"
   ]
  },
  {
   "cell_type": "markdown",
   "metadata": {
    "id": "pgZ8Li8w-HWA"
   },
   "source": [
    "Определим важные для прогнозирования цены признаки: `VehicleType`, `RegistrationYear`, `Gearbox`, `Power`, `Model`, `Kilometer`, `FuelType`, `Brand`, `Repaired`\n",
    "\n",
    "Признаки `NumberOfPictures`, `PostalCode` и `RegistrationMonth` не несут полезной информации, их можно удалить.\n",
    "\n",
    "Признаки `DateCrawled` и `LastSeen` пригодились бы для прогнозирования, например, скорости продажи, в рамках нашего же исследования они также не несут полезной информации.\n",
    "\n",
    "`DateCreated` может быть полезна для анализа с учетом инфляции"
   ]
  },
  {
   "cell_type": "code",
   "execution_count": 6,
   "metadata": {
    "colab": {
     "base_uri": "https://localhost:8080/",
     "height": 699
    },
    "id": "6uyC1omO-HWA",
    "outputId": "7a969ccd-831a-4bd7-ceeb-d87b2f34817b"
   },
   "outputs": [
    {
     "data": {
      "image/png": "[encoded data removed]",
      "text/plain": [
       "<Figure size 720x576 with 9 Axes>"
      ]
     },
     "metadata": {
      "needs_background": "light"
     },
     "output_type": "display_data"
    }
   ],
   "source": [
    "df.hist(figsize=(10,8));"
   ]
  },
  {
   "cell_type": "markdown",
   "metadata": {
    "id": "JW6sbyeB-HWA"
   },
   "source": [
    "По пяти важным признакам есть пропуски, также присутствуют нулевые значения. Перед работой с моделями необходимо будет обработать признаки (восстановить их или удалить). Присутствуют аномалии и дубликаты"
   ]
  },
  {
   "cell_type": "markdown",
   "metadata": {
    "id": "VpV2RV1W-HWB"
   },
   "source": [
    "Посмотрим на количество нулевых значений у целевого признака и у признака мощности:"
   ]
  },
  {
   "cell_type": "code",
   "execution_count": 7,
   "metadata": {
    "colab": {
     "base_uri": "https://localhost:8080/"
    },
    "id": "ufn1z_3y-HWB",
    "outputId": "0d369e36-ee66-46a1-ac96-9fc6a6957790"
   },
   "outputs": [
    {
     "data": {
      "text/plain": [
       "0        10772\n",
       "500       5670\n",
       "1500      5394\n",
       "1000      4649\n",
       "1200      4594\n",
       "         ...  \n",
       "19770        1\n",
       "1587         1\n",
       "2101         1\n",
       "16444        1\n",
       "8188         1\n",
       "Name: Price, Length: 3731, dtype: int64"
      ]
     },
     "execution_count": 7,
     "metadata": {},
     "output_type": "execute_result"
    }
   ],
   "source": [
    "df['Price'].value_counts().sort_values(ascending=False)"
   ]
  },
  {
   "cell_type": "code",
   "execution_count": 8,
   "metadata": {
    "colab": {
     "base_uri": "https://localhost:8080/"
    },
    "id": "KNDRI_HV-HWB",
    "outputId": "5ae2a6a8-3d01-4241-a0c2-83170c1e13d5"
   },
   "outputs": [
    {
     "data": {
      "text/plain": [
       "count    354369.000000\n",
       "mean       4416.656776\n",
       "std        4514.158514\n",
       "min           0.000000\n",
       "25%        1050.000000\n",
       "50%        2700.000000\n",
       "75%        6400.000000\n",
       "max       20000.000000\n",
       "Name: Price, dtype: float64"
      ]
     },
     "execution_count": 8,
     "metadata": {},
     "output_type": "execute_result"
    }
   ],
   "source": [
    "df['Price'].describe()"
   ]
  },
  {
   "cell_type": "code",
   "execution_count": 9,
   "metadata": {
    "colab": {
     "base_uri": "https://localhost:8080/"
    },
    "id": "yhvG1P12-HWB",
    "outputId": "84dfb4a2-8da4-46d6-deeb-9558c3ca2095"
   },
   "outputs": [
    {
     "data": {
      "text/plain": [
       "0        40225\n",
       "75       24023\n",
       "60       15897\n",
       "150      14590\n",
       "101      13298\n",
       "         ...  \n",
       "604          1\n",
       "10000        1\n",
       "1771         1\n",
       "7529         1\n",
       "1158         1\n",
       "Name: Power, Length: 712, dtype: int64"
      ]
     },
     "execution_count": 9,
     "metadata": {},
     "output_type": "execute_result"
    }
   ],
   "source": [
    "df['Power'].value_counts().sort_values(ascending=False)"
   ]
  },
  {
   "cell_type": "code",
   "execution_count": 10,
   "metadata": {
    "colab": {
     "base_uri": "https://localhost:8080/"
    },
    "id": "b5uHIqRF-HWB",
    "outputId": "cc4f4e5d-3070-4fe4-d4b9-c8d470b54f36"
   },
   "outputs": [
    {
     "data": {
      "text/plain": [
       "count    354369.000000\n",
       "mean        110.094337\n",
       "std         189.850405\n",
       "min           0.000000\n",
       "25%          69.000000\n",
       "50%         105.000000\n",
       "75%         143.000000\n",
       "max       20000.000000\n",
       "Name: Power, dtype: float64"
      ]
     },
     "execution_count": 10,
     "metadata": {},
     "output_type": "execute_result"
    }
   ],
   "source": [
    "df['Power'].describe()"
   ]
  },
  {
   "cell_type": "markdown",
   "metadata": {
    "id": "4OaJCmpV-HWB"
   },
   "source": [
    "Нулевые значения преобладают, что является аномалией. Потребуется обработка этих значений"
   ]
  },
  {
   "cell_type": "markdown",
   "metadata": {
    "id": "sWRuE-GRAQ1y"
   },
   "source": [
    "Определим промежуток дат объявлений в наборе данных для дальнейшей работы с выбросами"
   ]
  },
  {
   "cell_type": "code",
   "execution_count": 11,
   "metadata": {
    "colab": {
     "base_uri": "https://localhost:8080/"
    },
    "id": "cfOaYc89AQD2",
    "outputId": "0ce60f2d-7d44-4ee1-c865-f7157d3b0fbf"
   },
   "outputs": [
    {
     "name": "stdout",
     "output_type": "stream",
     "text": [
      "2014-03-10 00:00:00\n",
      "2016-04-07 00:00:00\n"
     ]
    }
   ],
   "source": [
    "print(df['DateCreated'].min())\n",
    "print(df['DateCreated'].max())"
   ]
  },
  {
   "cell_type": "markdown",
   "metadata": {
    "id": "FYnyiqbZBemp"
   },
   "source": [
    "Данные содержат объявления, размещенные за более чем 2 года, начиная с 10 марта 2014 года по 7 апреля 2016 года"
   ]
  },
  {
   "cell_type": "markdown",
   "metadata": {
    "id": "2IN_AgQU-HWB"
   },
   "source": [
    "**Выводы:**\n",
    "- исходный датафрейм содержит 16 стобцов (7 числовых признаков и 9 категориальных) и 354369 записей\n",
    "- столбцы с датами `DateCrawled`, `DateCreated` и `LastSeen` необходимо привести к формату даты и времени\n",
    "- присутствуют пропуски в 5 столбцах `Repaired`, `VehicleType`, `FuelType`, `Gearbox`, `Model`\n",
    "- неявные пропуски присутствуют в `RegistrationMonth`, `Power` и `Price`\n",
    "- имеется 4 явных дубликата\n",
    "- присутствуют аномалии в столбцах `RegistrationYear` и `Power`\n",
    "- максимальное значение в столбце `Kilometer` ограничивается значением 150000\n",
    "- во всех признаках отсутствуют фотографии в столбце `NumberOfPictures`"
   ]
  },
  {
   "cell_type": "markdown",
   "metadata": {
    "id": "VEoP_tas-HWC"
   },
   "source": [
    "## Предобработка данных"
   ]
  },
  {
   "cell_type": "markdown",
   "metadata": {
    "id": "6qulUEbK-HWC"
   },
   "source": [
    "Предобработку данных начнем с целевого признака цены. Пропусков у таргета нет, но есть цена равная нулю. Проверим другие значения:"
   ]
  },
  {
   "cell_type": "code",
   "execution_count": 12,
   "metadata": {
    "colab": {
     "base_uri": "https://localhost:8080/"
    },
    "id": "i_4OQ0S8-HWC",
    "outputId": "4f2bbe67-b95b-4f9a-93a9-1050afa680bf"
   },
   "outputs": [
    {
     "data": {
      "text/plain": [
       "0        10772\n",
       "500       5670\n",
       "1500      5394\n",
       "1000      4649\n",
       "1200      4594\n",
       "         ...  \n",
       "19770        1\n",
       "1587         1\n",
       "2101         1\n",
       "16444        1\n",
       "8188         1\n",
       "Name: Price, Length: 3731, dtype: int64"
      ]
     },
     "execution_count": 12,
     "metadata": {},
     "output_type": "execute_result"
    }
   ],
   "source": [
    "df['Price'].value_counts().sort_values(ascending=False)"
   ]
  },
  {
   "cell_type": "code",
   "execution_count": 13,
   "metadata": {
    "colab": {
     "base_uri": "https://localhost:8080/",
     "height": 468
    },
    "id": "EIeo2lRI-HWC",
    "outputId": "0597e592-de0d-4a55-ca14-3afb0ca1a353"
   },
   "outputs": [
    {
     "data": {
      "image/png": "[encoded data removed]",
      "text/plain": [
       "<Figure size 576x360 with 1 Axes>"
      ]
     },
     "metadata": {
      "needs_background": "light"
     },
     "output_type": "display_data"
    }
   ],
   "source": [
    "df['Price'].plot(kind='box', title='Распределение цен', grid=True)\n",
    "plt.ylabel('Цена, евро')\n",
    "plt.show()"
   ]
  },
  {
   "cell_type": "code",
   "execution_count": 14,
   "metadata": {
    "colab": {
     "base_uri": "https://localhost:8080/",
     "height": 487
    },
    "id": "--wE0aCd-HWC",
    "outputId": "6f8ea21f-ec3c-4208-d201-6d28ba9eea62",
    "scrolled": false
   },
   "outputs": [
    {
     "data": {
      "image/png": "[encoded data removed]",
      "text/plain": [
       "<Figure size 576x360 with 1 Axes>"
      ]
     },
     "metadata": {
      "needs_background": "light"
     },
     "output_type": "display_data"
    }
   ],
   "source": [
    "df[(df['Price'] != 0) & (df['Price'] < df['Price'].quantile(0.035))]['Price'].hist()\n",
    "\n",
    "plt.title('Распределение цен по условию')\n",
    "plt.xlabel('Цена, евро')\n",
    "plt.ylabel('Количество машин, шт')\n",
    "\n",
    "plt.show()"
   ]
  },
  {
   "cell_type": "code",
   "execution_count": 15,
   "metadata": {
    "colab": {
     "base_uri": "https://localhost:8080/"
    },
    "id": "y1zHKhSP-HWC",
    "outputId": "06c88449-cd9a-42ee-ccfb-1d6f2472f0bc"
   },
   "outputs": [
    {
     "data": {
      "text/plain": [
       "1     1189\n",
       "10      84\n",
       "30      55\n",
       "20      51\n",
       "40      45\n",
       "25      33\n",
       "15      27\n",
       "5       26\n",
       "35      18\n",
       "2       12\n",
       "8        9\n",
       "9        8\n",
       "12       8\n",
       "3        8\n",
       "13       7\n",
       "39       6\n",
       "11       5\n",
       "14       5\n",
       "17       5\n",
       "7        3\n",
       "18       3\n",
       "19       3\n",
       "29       2\n",
       "16       2\n",
       "24       1\n",
       "26       1\n",
       "27       1\n",
       "21       1\n",
       "32       1\n",
       "33       1\n",
       "38       1\n",
       "4        1\n",
       "Name: Price, dtype: int64"
      ]
     },
     "execution_count": 15,
     "metadata": {},
     "output_type": "execute_result"
    }
   ],
   "source": [
    "df[(df['Price'] != 0) & (df['Price'] < df['Price'].quantile(0.035))]['Price'].value_counts()"
   ]
  },
  {
   "cell_type": "code",
   "execution_count": 16,
   "metadata": {
    "id": "Nh5zUqTn-HWC"
   },
   "outputs": [],
   "source": [
    "df = df.loc[df['Price'] > df['Price'].quantile(0.035)]"
   ]
  },
  {
   "cell_type": "markdown",
   "metadata": {
    "id": "XEq03Bxr-HWC"
   },
   "source": [
    "Цены меньше 3,5% квантиля в 45 евро будем считать аномальными и удалим эти записи.\n",
    "Восстановить все аномальные значения средним было бы некорректно, так как признак целевой и это напрямую повлияет на прогноз"
   ]
  },
  {
   "cell_type": "markdown",
   "metadata": {
    "id": "dCLuAwzf-HWD"
   },
   "source": [
    "Избавимся от дубликатов"
   ]
  },
  {
   "cell_type": "code",
   "execution_count": 17,
   "metadata": {
    "colab": {
     "base_uri": "https://localhost:8080/"
    },
    "id": "Jk_1YqQp-HWD",
    "outputId": "c6c4f3f1-fb75-49a1-a016-78cb0ad69eab"
   },
   "outputs": [
    {
     "data": {
      "text/plain": [
       "4"
      ]
     },
     "execution_count": 17,
     "metadata": {},
     "output_type": "execute_result"
    }
   ],
   "source": [
    "df.duplicated().sum()"
   ]
  },
  {
   "cell_type": "code",
   "execution_count": 18,
   "metadata": {
    "id": "8FCXdJfr-HWI"
   },
   "outputs": [],
   "source": [
    "df.drop_duplicates(inplace=True)"
   ]
  },
  {
   "cell_type": "code",
   "execution_count": 19,
   "metadata": {
    "colab": {
     "base_uri": "https://localhost:8080/"
    },
    "id": "y_VeWoNd-HWI",
    "outputId": "34180568-d809-4eeb-c3bc-8d547175f310"
   },
   "outputs": [
    {
     "data": {
      "text/plain": [
       "0"
      ]
     },
     "execution_count": 19,
     "metadata": {},
     "output_type": "execute_result"
    }
   ],
   "source": [
    "df.duplicated().sum()"
   ]
  },
  {
   "cell_type": "markdown",
   "metadata": {
    "id": "7VKFL9s6-HWJ"
   },
   "source": [
    "Удалим столбцы, не несущие информации об объектах"
   ]
  },
  {
   "cell_type": "code",
   "execution_count": 20,
   "metadata": {
    "colab": {
     "base_uri": "https://localhost:8080/"
    },
    "id": "mGm9ku61-HWJ",
    "outputId": "67785df6-f567-4ca7-cd69-c89b4b96cf3e",
    "scrolled": true
   },
   "outputs": [
    {
     "data": {
      "text/plain": [
       "0    341955\n",
       "Name: NumberOfPictures, dtype: int64"
      ]
     },
     "execution_count": 20,
     "metadata": {},
     "output_type": "execute_result"
    }
   ],
   "source": [
    "df['NumberOfPictures'].value_counts()"
   ]
  },
  {
   "cell_type": "code",
   "execution_count": 21,
   "metadata": {
    "id": "rOT925Le-HWJ"
   },
   "outputs": [],
   "source": [
    "df.drop(columns=['NumberOfPictures', 'PostalCode', 'DateCrawled', 'DateCreated', 'LastSeen', 'RegistrationMonth'], axis=1, inplace=True)"
   ]
  },
  {
   "cell_type": "markdown",
   "metadata": {
    "id": "wLRVROL0-HWJ"
   },
   "source": [
    "Проведем работу с выбросами. Согласно статистической сводке в данных присутствуют ошибочные записи: 9999 год регистрации автомобиля или бешеная мощность автомобиля в 20000 л.с. Такие объекты стоит исключить"
   ]
  },
  {
   "cell_type": "markdown",
   "metadata": {
    "id": "K_RG6i-Y-HWJ"
   },
   "source": [
    "Найдем количество записей с аномальным годом регистрации:"
   ]
  },
  {
   "cell_type": "code",
   "execution_count": 22,
   "metadata": {
    "colab": {
     "base_uri": "https://localhost:8080/"
    },
    "id": "pACyvsLi-HWJ",
    "outputId": "e5628e0c-92de-4dc5-d315-262c8263177b"
   },
   "outputs": [
    {
     "data": {
      "text/plain": [
       "13705"
      ]
     },
     "execution_count": 22,
     "metadata": {},
     "output_type": "execute_result"
    }
   ],
   "source": [
    "len(df[df['RegistrationYear'] > 2016])"
   ]
  },
  {
   "cell_type": "code",
   "execution_count": 23,
   "metadata": {
    "colab": {
     "base_uri": "https://localhost:8080/"
    },
    "id": "zHHKABBC_YN6",
    "outputId": "69d5f469-dadc-4ed1-f386-391623623e48"
   },
   "outputs": [
    {
     "data": {
      "text/plain": [
       "array([1000, 1001, 1039, 1111, 1234, 1255, 1300, 1400, 1500, 1600, 1602,\n",
       "       1800, 1910, 1923, 1925, 1927, 1928, 1929, 1930, 1931, 1932, 1933,\n",
       "       1934, 1935, 1936, 1937, 1938, 1940, 1941, 1942, 1943, 1944, 1945,\n",
       "       1946, 1947, 1948, 1949, 1950, 1951, 1952, 1953, 1954, 1955, 1956,\n",
       "       1957, 1958, 1959, 1960, 1961, 1962, 1963, 1964, 1965, 1966, 1967,\n",
       "       1968, 1969, 1970, 1971, 1972, 1973, 1974, 1975, 1976, 1977, 1978,\n",
       "       1979, 1980, 1981, 1982, 1983, 1984, 1985, 1986, 1987, 1988, 1989,\n",
       "       1990, 1991, 1992, 1993, 1994, 1995, 1996, 1997, 1998, 1999, 2000,\n",
       "       2001, 2002, 2003, 2004, 2005, 2006, 2007, 2008, 2009, 2010, 2011,\n",
       "       2012, 2013, 2014, 2015, 2016, 2017, 2018, 2019, 2066, 2200, 2222,\n",
       "       2290, 2500, 2800, 2900, 3000, 3200, 3700, 3800, 4000, 4100, 4500,\n",
       "       4800, 5000, 5300, 5555, 5600, 5900, 5911, 6000, 7000, 7100, 7800,\n",
       "       8000, 8200, 8500, 8888, 9000, 9450, 9999])"
      ]
     },
     "execution_count": 23,
     "metadata": {},
     "output_type": "execute_result"
    }
   ],
   "source": [
    "np.sort(df['RegistrationYear'].unique())"
   ]
  },
  {
   "cell_type": "markdown",
   "metadata": {
    "id": "JdFYSDvv_JEv"
   },
   "source": [
    "Из ранее определенного временного диапазона размещения объявлений следует, что объявления о продаже автомобилей, которые были выпущены слишком рано или в слишком далеком будущем, являются ошибочными (или содержат ошибочную информацию), поэтому удалим их.\n",
    "\n",
    "Если с верхней временной границей все довольно очевидно: отсечём объявления на момент последней выгрузки информации (2016-04-07 00:00:00), то с нижней ещё стоит определиться.\n",
    "\n",
    "Ее установим исходя из того, насколько много было автомобилей с конкретным годом выпуска. Посмотрим на график зависимости количества объявлений от года выпуска авто."
   ]
  },
  {
   "cell_type": "code",
   "execution_count": 24,
   "metadata": {
    "colab": {
     "base_uri": "https://localhost:8080/",
     "height": 487
    },
    "id": "vDs3nChWDimk",
    "outputId": "2a599df0-293c-48a4-fa0a-91a73e8ba6d5"
   },
   "outputs": [
    {
     "data": {
      "image/png": "[encoded data removed]",
      "text/plain": [
       "<Figure size 576x360 with 1 Axes>"
      ]
     },
     "metadata": {
      "needs_background": "light"
     },
     "output_type": "display_data"
    }
   ],
   "source": [
    "df['RegistrationYear'].hist(bins=100)\n",
    "\n",
    "plt.title('Распределение объявлений по годам регистрации авто')\n",
    "plt.xlabel('Год регистрации')\n",
    "plt.ylabel('Количество объявлений')\n",
    "\n",
    "plt.show()"
   ]
  },
  {
   "cell_type": "code",
   "execution_count": 25,
   "metadata": {
    "colab": {
     "base_uri": "https://localhost:8080/"
    },
    "id": "haBi3R29E2Bz",
    "outputId": "2107a43a-7200-49fe-eec2-f2a1f73c34c4"
   },
   "outputs": [
    {
     "data": {
      "text/plain": [
       "3088"
      ]
     },
     "execution_count": 25,
     "metadata": {},
     "output_type": "execute_result"
    }
   ],
   "source": [
    "len(df[df['RegistrationYear'] < 1980])"
   ]
  },
  {
   "cell_type": "markdown",
   "metadata": {
    "id": "iB_8QhCXEToh"
   },
   "source": [
    "Итак, нижней границей выберем 1980 год, так как количество продаваемых автомобилей начинает увеличиваться примерно с этой отметки.\n",
    "\n",
    "Все автомобили, произведенные ранее и выставленные на продажу, может и представляют интерес для коллекционеров, но все же оценка стоимости раритетных автомобилей не приоритетная цель разработки нашего алгоритма.\n",
    "\n",
    "Верхняя граница, как уже говорилось ранее, будет выбрана согласно дате последнего размещенного объявления.\n",
    "\n",
    "Год регистрации авто на практике важный параметр, между вариантом заполнения аномальных значений средним и избавлением от записей выберем последний, количество аномальных записей позволяет сделать это.\n",
    "\n",
    "Уберем ненужные объявления:"
   ]
  },
  {
   "cell_type": "code",
   "execution_count": 26,
   "metadata": {
    "id": "sT1jStXh-HWK"
   },
   "outputs": [],
   "source": [
    "df = df[(df['RegistrationYear'] <= 2016) & (df['RegistrationYear'] >= 1980)]"
   ]
  },
  {
   "cell_type": "code",
   "execution_count": 27,
   "metadata": {
    "colab": {
     "base_uri": "https://localhost:8080/",
     "height": 487
    },
    "id": "osee1Fvh-HWK",
    "outputId": "d2f65798-d471-4dc9-f77e-bb7ee3715e75"
   },
   "outputs": [
    {
     "data": {
      "image/png": "[encoded data removed]",
      "text/plain": [
       "<Figure size 576x360 with 1 Axes>"
      ]
     },
     "metadata": {
      "needs_background": "light"
     },
     "output_type": "display_data"
    }
   ],
   "source": [
    "df['RegistrationYear'].hist()\n",
    "\n",
    "plt.title('Распределение количества авто по году регистрации')\n",
    "plt.xlabel('Год регистрации авто')\n",
    "plt.ylabel('Количество машин, шт')\n",
    "\n",
    "plt.show()"
   ]
  },
  {
   "cell_type": "code",
   "execution_count": 28,
   "metadata": {
    "colab": {
     "base_uri": "https://localhost:8080/"
    },
    "id": "3C3Gw3sR-HWK",
    "outputId": "8fbf6beb-b9b9-4d83-d57b-4ddf6064f8e3",
    "scrolled": true
   },
   "outputs": [
    {
     "data": {
      "text/plain": [
       "0       31230\n",
       "75      21996\n",
       "60      14638\n",
       "150     13657\n",
       "101     12365\n",
       "        ...  \n",
       "1256        1\n",
       "1288        1\n",
       "489         1\n",
       "2792        1\n",
       "6006        1\n",
       "Name: Power, Length: 677, dtype: int64"
      ]
     },
     "execution_count": 28,
     "metadata": {},
     "output_type": "execute_result"
    }
   ],
   "source": [
    "df['Power'].value_counts().sort_values(ascending=False)"
   ]
  },
  {
   "cell_type": "code",
   "execution_count": 29,
   "metadata": {
    "colab": {
     "base_uri": "https://localhost:8080/"
    },
    "id": "gGfQnjfK-HWK",
    "outputId": "95802b9c-83c1-49c5-d5f0-9eefed21ede9",
    "scrolled": true
   },
   "outputs": [
    {
     "data": {
      "text/plain": [
       "count    325162.000000\n",
       "mean        112.442582\n",
       "std         183.621165\n",
       "min           0.000000\n",
       "25%          72.000000\n",
       "50%         105.000000\n",
       "75%         143.000000\n",
       "max       20000.000000\n",
       "Name: Power, dtype: float64"
      ]
     },
     "execution_count": 29,
     "metadata": {},
     "output_type": "execute_result"
    }
   ],
   "source": [
    "df['Power'].describe()"
   ]
  },
  {
   "cell_type": "code",
   "execution_count": 30,
   "metadata": {
    "colab": {
     "base_uri": "https://localhost:8080/"
    },
    "id": "H6FgswsV-HWK",
    "outputId": "3a10847e-0f04-49ae-b94d-f6ca4b1b6619",
    "scrolled": true
   },
   "outputs": [
    {
     "data": {
      "text/plain": [
       "400.0"
      ]
     },
     "execution_count": 30,
     "metadata": {},
     "output_type": "execute_result"
    }
   ],
   "source": [
    "df['Power'].quantile(0.998)"
   ]
  },
  {
   "cell_type": "markdown",
   "metadata": {
    "id": "io37gDjR-HWK"
   },
   "source": [
    "Значения `Power` равные 0 и больше 1000 являются некорректным, у нас нет оснований думать, что остальные призанки в этом наблюдении также в порядке. Удалим невалидные наблюдения"
   ]
  },
  {
   "cell_type": "code",
   "execution_count": 31,
   "metadata": {
    "id": "fCHwY65s-HWK"
   },
   "outputs": [],
   "source": [
    "df = df[~((df['Power'] > 1000) | (df['Power'] == 0))]"
   ]
  },
  {
   "cell_type": "code",
   "execution_count": 32,
   "metadata": {
    "colab": {
     "base_uri": "https://localhost:8080/",
     "height": 699
    },
    "id": "eGPt1o2m-HWL",
    "outputId": "fddd1724-8c15-4e21-e842-16a8252ad677"
   },
   "outputs": [
    {
     "data": {
      "image/png": "[encoded data removed]",
      "text/plain": [
       "<Figure size 720x576 with 4 Axes>"
      ]
     },
     "metadata": {
      "needs_background": "light"
     },
     "output_type": "display_data"
    }
   ],
   "source": [
    "df.hist(figsize=(10,8));"
   ]
  },
  {
   "cell_type": "markdown",
   "metadata": {
    "id": "AV2646c0-HWL"
   },
   "source": [
    "Далее обработаем пропуски:\n",
    "\n",
    "Как мы уже выяснили они присутствуют в 5 столбцах Repaired, VehicleType, FuelType, Gearbox, Model"
   ]
  },
  {
   "cell_type": "code",
   "execution_count": 33,
   "metadata": {
    "colab": {
     "base_uri": "https://localhost:8080/"
    },
    "id": "J2eKmsxx-HWL",
    "outputId": "6556cd6b-f250-403f-9d0a-70087b696f53"
   },
   "outputs": [
    {
     "data": {
      "text/plain": [
       "Repaired            42293\n",
       "FuelType            15293\n",
       "VehicleType         10862\n",
       "Model               10680\n",
       "Gearbox              5232\n",
       "Price                   0\n",
       "RegistrationYear        0\n",
       "Power                   0\n",
       "Kilometer               0\n",
       "Brand                   0\n",
       "dtype: int64"
      ]
     },
     "execution_count": 33,
     "metadata": {},
     "output_type": "execute_result"
    }
   ],
   "source": [
    "df.isna().sum().sort_values(ascending=False)"
   ]
  },
  {
   "cell_type": "markdown",
   "metadata": {
    "id": "tQkAo9q--HWL"
   },
   "source": [
    "Пропуски в `Model` восстановить не получится, заменим их на 'no info'"
   ]
  },
  {
   "cell_type": "code",
   "execution_count": 34,
   "metadata": {
    "id": "kobv2xcF-HWL"
   },
   "outputs": [],
   "source": [
    "df['Model'] = df['Model'].fillna('no info')"
   ]
  },
  {
   "cell_type": "markdown",
   "metadata": {
    "id": "J2N-XJhP-HWL"
   },
   "source": [
    "Пропуски в `FuelType` заменим на среднее по моделям"
   ]
  },
  {
   "cell_type": "code",
   "execution_count": 35,
   "metadata": {
    "id": "XYUDt-Hx-HWL"
   },
   "outputs": [],
   "source": [
    "df['FuelType'] = df['FuelType'].fillna(df.groupby('Model')['FuelType'].transform(lambda x: x.value_counts().idxmax()))"
   ]
  },
  {
   "cell_type": "markdown",
   "metadata": {
    "id": "kaofA-CI-HWL"
   },
   "source": [
    "Количество пропусков в `VehicleType` достаточно велико - более 10 процентов. Если пропуски заменить на среднее значение, это может сказаться на точности предсказания. В дальнейшем пользователи при оценке автомобиля могут так же не вводить тип кузова, стоит заменить пропущенные значения на 'no info'"
   ]
  },
  {
   "cell_type": "code",
   "execution_count": 36,
   "metadata": {
    "id": "98HMplfk-HWL"
   },
   "outputs": [],
   "source": [
    "df['VehicleType'] = df['VehicleType'].fillna('no info')"
   ]
  },
  {
   "cell_type": "markdown",
   "metadata": {
    "id": "FKioBYUn-HWM"
   },
   "source": [
    "Пропуски в `Gearbox` заменим на наиболее встречающийся тип коробки в модели"
   ]
  },
  {
   "cell_type": "code",
   "execution_count": 37,
   "metadata": {
    "id": "hJR9szCO-HWM"
   },
   "outputs": [],
   "source": [
    "df['Gearbox'] = df['Gearbox'].fillna(df.groupby('Model')['Gearbox'].transform(lambda x: x.value_counts().idxmax()))"
   ]
  },
  {
   "cell_type": "markdown",
   "metadata": {
    "id": "58dY2xO2-HWM"
   },
   "source": [
    "Пропусков в `Repaired` наибольшее количество ~ 20% от данных. Можно выдвинуть предположение, что этот параметр не заполнялся, если автомобиль не был в ремонте. Однако пропуски возможны и по иным причинам, когда продавец не желает изначально давать информацию о том, что автомобиль был в ремонте. Заполним пропуски в этом параметре как 'no info'"
   ]
  },
  {
   "cell_type": "code",
   "execution_count": 38,
   "metadata": {
    "id": "tY8_KMi0-HWM"
   },
   "outputs": [],
   "source": [
    "df['Repaired'] = df['Repaired'].fillna('no info')"
   ]
  },
  {
   "cell_type": "code",
   "execution_count": 39,
   "metadata": {
    "colab": {
     "base_uri": "https://localhost:8080/"
    },
    "id": "fRqHmANa-HWM",
    "outputId": "25830e78-6ab2-4d03-b0ce-316d41fae54d"
   },
   "outputs": [
    {
     "data": {
      "text/plain": [
       "Price               0\n",
       "VehicleType         0\n",
       "RegistrationYear    0\n",
       "Gearbox             0\n",
       "Power               0\n",
       "Model               0\n",
       "Kilometer           0\n",
       "FuelType            0\n",
       "Brand               0\n",
       "Repaired            0\n",
       "dtype: int64"
      ]
     },
     "execution_count": 39,
     "metadata": {},
     "output_type": "execute_result"
    }
   ],
   "source": [
    "df.isna().sum().sort_values(ascending=False)"
   ]
  },
  {
   "cell_type": "code",
   "execution_count": 40,
   "metadata": {
    "colab": {
     "base_uri": "https://localhost:8080/"
    },
    "id": "rDzzDVA3-HWM",
    "outputId": "d8dae462-73f7-4d62-934e-dcf517ad3d9b"
   },
   "outputs": [
    {
     "name": "stdout",
     "output_type": "stream",
     "text": [
      "<class 'pandas.core.frame.DataFrame'>\n",
      "Int64Index: 293676 entries, 1 to 354368\n",
      "Data columns (total 10 columns):\n",
      " #   Column            Non-Null Count   Dtype \n",
      "---  ------            --------------   ----- \n",
      " 0   Price             293676 non-null  int64 \n",
      " 1   VehicleType       293676 non-null  object\n",
      " 2   RegistrationYear  293676 non-null  int64 \n",
      " 3   Gearbox           293676 non-null  object\n",
      " 4   Power             293676 non-null  int64 \n",
      " 5   Model             293676 non-null  object\n",
      " 6   Kilometer         293676 non-null  int64 \n",
      " 7   FuelType          293676 non-null  object\n",
      " 8   Brand             293676 non-null  object\n",
      " 9   Repaired          293676 non-null  object\n",
      "dtypes: int64(4), object(6)\n",
      "memory usage: 24.6+ MB\n"
     ]
    }
   ],
   "source": [
    "df.info()"
   ]
  },
  {
   "cell_type": "code",
   "execution_count": 41,
   "metadata": {
    "colab": {
     "base_uri": "https://localhost:8080/",
     "height": 300
    },
    "id": "7oko0xrr-HWM",
    "outputId": "8c353a08-0559-49de-ec70-6837f394281d"
   },
   "outputs": [
    {
     "data": {
      "text/html": [
       "<div>\n",
       "<style scoped>\n",
       "    .dataframe tbody tr th:only-of-type {\n",
       "        vertical-align: middle;\n",
       "    }\n",
       "\n",
       "    .dataframe tbody tr th {\n",
       "        vertical-align: top;\n",
       "    }\n",
       "\n",
       "    .dataframe thead th {\n",
       "        text-align: right;\n",
       "    }\n",
       "</style>\n",
       "<table border=\"1\" class=\"dataframe\">\n",
       "  <thead>\n",
       "    <tr style=\"text-align: right;\">\n",
       "      <th></th>\n",
       "      <th>Price</th>\n",
       "      <th>RegistrationYear</th>\n",
       "      <th>Power</th>\n",
       "      <th>Kilometer</th>\n",
       "    </tr>\n",
       "  </thead>\n",
       "  <tbody>\n",
       "    <tr>\n",
       "      <th>count</th>\n",
       "      <td>293676.000000</td>\n",
       "      <td>293676.000000</td>\n",
       "      <td>293676.000000</td>\n",
       "      <td>293676.000000</td>\n",
       "    </tr>\n",
       "    <tr>\n",
       "      <th>mean</th>\n",
       "      <td>4842.061827</td>\n",
       "      <td>2003.063778</td>\n",
       "      <td>120.872237</td>\n",
       "      <td>128536.942072</td>\n",
       "    </tr>\n",
       "    <tr>\n",
       "      <th>std</th>\n",
       "      <td>4596.146520</td>\n",
       "      <td>5.911542</td>\n",
       "      <td>54.577192</td>\n",
       "      <td>36532.482632</td>\n",
       "    </tr>\n",
       "    <tr>\n",
       "      <th>min</th>\n",
       "      <td>47.000000</td>\n",
       "      <td>1980.000000</td>\n",
       "      <td>1.000000</td>\n",
       "      <td>5000.000000</td>\n",
       "    </tr>\n",
       "    <tr>\n",
       "      <th>25%</th>\n",
       "      <td>1350.000000</td>\n",
       "      <td>1999.000000</td>\n",
       "      <td>76.000000</td>\n",
       "      <td>125000.000000</td>\n",
       "    </tr>\n",
       "    <tr>\n",
       "      <th>50%</th>\n",
       "      <td>3199.000000</td>\n",
       "      <td>2003.000000</td>\n",
       "      <td>111.000000</td>\n",
       "      <td>150000.000000</td>\n",
       "    </tr>\n",
       "    <tr>\n",
       "      <th>75%</th>\n",
       "      <td>6990.000000</td>\n",
       "      <td>2007.000000</td>\n",
       "      <td>150.000000</td>\n",
       "      <td>150000.000000</td>\n",
       "    </tr>\n",
       "    <tr>\n",
       "      <th>max</th>\n",
       "      <td>20000.000000</td>\n",
       "      <td>2016.000000</td>\n",
       "      <td>1000.000000</td>\n",
       "      <td>150000.000000</td>\n",
       "    </tr>\n",
       "  </tbody>\n",
       "</table>\n",
       "</div>"
      ],
      "text/plain": [
       "               Price  RegistrationYear          Power      Kilometer\n",
       "count  293676.000000     293676.000000  293676.000000  293676.000000\n",
       "mean     4842.061827       2003.063778     120.872237  128536.942072\n",
       "std      4596.146520          5.911542      54.577192   36532.482632\n",
       "min        47.000000       1980.000000       1.000000    5000.000000\n",
       "25%      1350.000000       1999.000000      76.000000  125000.000000\n",
       "50%      3199.000000       2003.000000     111.000000  150000.000000\n",
       "75%      6990.000000       2007.000000     150.000000  150000.000000\n",
       "max     20000.000000       2016.000000    1000.000000  150000.000000"
      ]
     },
     "execution_count": 41,
     "metadata": {},
     "output_type": "execute_result"
    }
   ],
   "source": [
    "df.describe()"
   ]
  },
  {
   "cell_type": "markdown",
   "metadata": {
    "id": "KbDePy_V-HWM"
   },
   "source": [
    "**Выводы:**\n",
    "- удалили 4 явных дубликата\n",
    "- убрали столбцы, не дающие важной информации для предсказания цены: `NumberOfPictures`, `PostalCode`, `DateCrawled`, `LastSeen`, `RegistrationMonth`\n",
    "- обработали пропуски в 5 столбцах `Repaired`, `VehicleType`, `FuelType`, `Gearbox`, `Model`\n",
    "- обработали аномалии в столбцах `RegistrationYear` и `Power`, оставив записи, заполнив выбросы одним значением"
   ]
  },
  {
   "cell_type": "markdown",
   "metadata": {
    "id": "Xa5xnu5t-HWM"
   },
   "source": [
    "## Обучение моделей"
   ]
  },
  {
   "cell_type": "markdown",
   "metadata": {
    "id": "D8wsqCyb-HWM"
   },
   "source": [
    "Разделим датасет на 3 части в соотношении 3:1:1 (60% обучающая выборка, 20% валидационная и 20% тестовая). Значение аргумента shuffle=False, так как данные отсортированы во временной последовательности размещения объявлений"
   ]
  },
  {
   "cell_type": "code",
   "execution_count": 42,
   "metadata": {
    "colab": {
     "base_uri": "https://localhost:8080/"
    },
    "id": "zjkCud6i-HWN",
    "outputId": "b6449697-e4d8-46bf-868a-60bfab6fec94",
    "scrolled": true
   },
   "outputs": [
    {
     "name": "stdout",
     "output_type": "stream",
     "text": [
      "(176205, 9)\n",
      "(58735, 9)\n",
      "(58736, 9)\n",
      "0.5999979569321293\n",
      "0.19999931897737644\n",
      "0.2000027240904943\n"
     ]
    }
   ],
   "source": [
    "# создадим признаки\n",
    "features = df.drop('Price', axis=1)\n",
    "target = df['Price']\n",
    "\n",
    "# создадим обучающую выборку и валидационную выборки\n",
    "features_train, features_valid, target_train, target_valid = train_test_split(\n",
    "    features, target, test_size=0.40, random_state=RANDOM_STATE, shuffle=False)\n",
    "\n",
    "# разделим валидационную пополам - получим тестовую выборку\n",
    "features_valid, features_test, target_valid, target_test = train_test_split(\n",
    "    features_valid, target_valid, test_size=0.50, random_state=RANDOM_STATE)\n",
    "\n",
    "print(features_train.shape)\n",
    "print(features_valid.shape)\n",
    "print(features_test.shape)\n",
    "\n",
    "print(len(features_train) / len(df))\n",
    "print(len(features_valid) / len(df))\n",
    "print(len(features_test) / len(df))"
   ]
  },
  {
   "cell_type": "markdown",
   "metadata": {
    "id": "wwYB2RNl-HWN"
   },
   "source": [
    "**Кодирование категориальных признаков**"
   ]
  },
  {
   "cell_type": "markdown",
   "metadata": {
    "id": "xjpqI0DR-HWN"
   },
   "source": [
    "У числовых признаков в наборе данных разные диапазоны, что может привести к ситуации, когда один из признаков окажется более важен не по объективным причинам, а за счет масштаба. Приведем признаки к единому масштабу.\n",
    "\n",
    "Категориальные признаки перекодируем в числовые с помощью One-Hot Encoding."
   ]
  },
  {
   "cell_type": "code",
   "execution_count": 43,
   "metadata": {
    "colab": {
     "base_uri": "https://localhost:8080/"
    },
    "id": "uPKyf2AF-HWN",
    "outputId": "88525423-bec3-46f2-b824-bc8e024e9b3c"
   },
   "outputs": [
    {
     "name": "stdout",
     "output_type": "stream",
     "text": [
      "Cписок категориальных признаков: ['VehicleType', 'Gearbox', 'Model', 'FuelType', 'Brand', 'Repaired']\n",
      "Cписок числовых признаков: ['RegistrationYear', 'Power', 'Kilometer']\n"
     ]
    }
   ],
   "source": [
    "#создадим список категориальных признаков:\n",
    "categorial_features = df.select_dtypes(include='object').columns.to_list()\n",
    "print('Cписок категориальных признаков:', categorial_features)\n",
    "\n",
    "#создадим список числовых признаков и удалим из него бинарные признаки:\n",
    "num_features = df.drop(['Price'], axis=1).select_dtypes(exclude='object').columns.to_list()\n",
    "print('Cписок числовых признаков:', num_features)"
   ]
  },
  {
   "cell_type": "markdown",
   "metadata": {
    "id": "fjh85jI1-HWN"
   },
   "source": [
    "**Сравнение моделей с константной моделью**"
   ]
  },
  {
   "cell_type": "markdown",
   "metadata": {
    "id": "Vgb590Sj-HWN"
   },
   "source": [
    "Построим регрессор в качестве простого базиса, с ним будем сравнивать результаты других моделей обучения"
   ]
  },
  {
   "cell_type": "code",
   "execution_count": 44,
   "metadata": {
    "colab": {
     "base_uri": "https://localhost:8080/"
    },
    "id": "oq_VKTIP-HWN",
    "outputId": "718fcdd0-3f67-4ce9-cfdb-b2b8e3e23d63"
   },
   "outputs": [
    {
     "name": "stdout",
     "output_type": "stream",
     "text": [
      "RMSE для константной модели на тестовой выборке: 4593\n"
     ]
    }
   ],
   "source": [
    "dummy_model = DummyRegressor(strategy='mean')\n",
    "dummy_model.fit(features_train, target_train)\n",
    "dummy_predict = dummy_model.predict(features_test)\n",
    "rmse_dummy = mean_squared_error(target_test, dummy_predict, squared=False)\n",
    "print('RMSE для константной модели на тестовой выборке:', round(rmse_dummy))"
   ]
  },
  {
   "cell_type": "code",
   "execution_count": 45,
   "metadata": {
    "id": "ptno0QCNQmaS",
    "outputId": "ebf38084-649f-42b0-e8ae-198d934f98c2"
   },
   "outputs": [
    {
     "name": "stdout",
     "output_type": "stream",
     "text": [
      "   RegistrationYear  Power  Kilometer  x0_convertible  x0_coupe  x0_no info  \\\n",
      "1              2011    190     125000             0.0       1.0         0.0   \n",
      "2              2004    163     125000             0.0       0.0         0.0   \n",
      "3              2001     75     150000             0.0       0.0         0.0   \n",
      "4              2008     69      90000             0.0       0.0         0.0   \n",
      "5              1995    102     150000             0.0       0.0         0.0   \n",
      "\n",
      "   x0_other  x0_sedan  x0_small  x0_suv  ...  x4_smart  x4_sonstige_autos  \\\n",
      "1       0.0       0.0       0.0     0.0  ...       0.0                0.0   \n",
      "2       0.0       0.0       0.0     1.0  ...       0.0                0.0   \n",
      "3       0.0       0.0       1.0     0.0  ...       0.0                0.0   \n",
      "4       0.0       0.0       1.0     0.0  ...       0.0                0.0   \n",
      "5       0.0       1.0       0.0     0.0  ...       0.0                0.0   \n",
      "\n",
      "   x4_subaru  x4_suzuki  x4_toyota  x4_trabant  x4_volkswagen  x4_volvo  \\\n",
      "1        0.0        0.0        0.0         0.0            0.0       0.0   \n",
      "2        0.0        0.0        0.0         0.0            0.0       0.0   \n",
      "3        0.0        0.0        0.0         0.0            1.0       0.0   \n",
      "4        0.0        0.0        0.0         0.0            0.0       0.0   \n",
      "5        0.0        0.0        0.0         0.0            0.0       0.0   \n",
      "\n",
      "   x5_no info  x5_yes  \n",
      "1         0.0     1.0  \n",
      "2         1.0     0.0  \n",
      "3         0.0     0.0  \n",
      "4         0.0     0.0  \n",
      "5         0.0     1.0  \n",
      "\n",
      "[5 rows x 307 columns]\n"
     ]
    }
   ],
   "source": [
    "# кодирование категориальных признаков\n",
    "encoder_ohe = OneHotEncoder(drop='first', handle_unknown='error', sparse=False)\n",
    "encoder_ohe.fit(features_train[categorial_features])\n",
    "features_train[encoder_ohe.get_feature_names()] = encoder_ohe.transform(features_train[categorial_features])\n",
    "\n",
    "features_train = features_train.drop(categorial_features, axis=1)\n",
    "print(features_train.head())"
   ]
  },
  {
   "cell_type": "code",
   "execution_count": 46,
   "metadata": {
    "colab": {
     "base_uri": "https://localhost:8080/",
     "height": 296
    },
    "id": "hJu-3hci-HWN",
    "outputId": "455e17fe-b1a4-4bd0-d5e6-d1b4cd33d149",
    "scrolled": false
   },
   "outputs": [
    {
     "name": "stdout",
     "output_type": "stream",
     "text": [
      "Размер выборки: (176205, 307)\n",
      "   RegistrationYear     Power  Kilometer  x0_convertible  x0_coupe  \\\n",
      "1          1.337827  1.261053  -0.095819             0.0       1.0   \n",
      "2          0.155488  0.768588  -0.095819             0.0       0.0   \n",
      "3         -0.351228 -0.836481   0.588188             0.0       0.0   \n",
      "4          0.831110 -0.945917  -1.053429             0.0       0.0   \n",
      "5         -1.364661 -0.344016   0.588188             0.0       0.0   \n",
      "\n",
      "   x0_no info  x0_other  x0_sedan  x0_small  x0_suv  ...  x4_smart  \\\n",
      "1         0.0       0.0       0.0       0.0     0.0  ...       0.0   \n",
      "2         0.0       0.0       0.0       0.0     1.0  ...       0.0   \n",
      "3         0.0       0.0       0.0       1.0     0.0  ...       0.0   \n",
      "4         0.0       0.0       0.0       1.0     0.0  ...       0.0   \n",
      "5         0.0       0.0       1.0       0.0     0.0  ...       0.0   \n",
      "\n",
      "   x4_sonstige_autos  x4_subaru  x4_suzuki  x4_toyota  x4_trabant  \\\n",
      "1                0.0        0.0        0.0        0.0         0.0   \n",
      "2                0.0        0.0        0.0        0.0         0.0   \n",
      "3                0.0        0.0        0.0        0.0         0.0   \n",
      "4                0.0        0.0        0.0        0.0         0.0   \n",
      "5                0.0        0.0        0.0        0.0         0.0   \n",
      "\n",
      "   x4_volkswagen  x4_volvo  x5_no info  x5_yes  \n",
      "1            0.0       0.0         0.0     1.0  \n",
      "2            0.0       0.0         1.0     0.0  \n",
      "3            1.0       0.0         0.0     0.0  \n",
      "4            0.0       0.0         0.0     0.0  \n",
      "5            0.0       0.0         0.0     1.0  \n",
      "\n",
      "[5 rows x 307 columns]\n"
     ]
    }
   ],
   "source": [
    "# стандартизация (масштабирование) непрерывных признаков\n",
    "scaler = StandardScaler()\n",
    "features_train[num_features] = scaler.fit_transform(features_train[num_features])\n",
    "print('Размер выборки:', features_train.shape)\n",
    "print(features_train.head())"
   ]
  },
  {
   "cell_type": "code",
   "execution_count": 47,
   "metadata": {
    "id": "K8zemWEQ-HWN",
    "outputId": "938f35c8-e40f-43d4-b9ec-0523a5ec8f4f"
   },
   "outputs": [
    {
     "name": "stdout",
     "output_type": "stream",
     "text": [
      "Валидационная выборка: (58735, 307)\n",
      "        RegistrationYear     Power  Kilometer  x0_convertible  x0_coupe  \\\n",
      "300433         -2.040283  1.808235   0.588188             0.0       1.0   \n",
      "348438          1.000016  0.713870  -1.327032             1.0       0.0   \n",
      "338903         -0.520134  0.896264   0.588188             0.0       0.0   \n",
      "226949          0.662205  0.349082   0.588188             0.0       0.0   \n",
      "212777         -2.040283 -0.143383   0.588188             0.0       0.0   \n",
      "\n",
      "        x0_no info  x0_other  x0_sedan  x0_small  x0_suv  ...  x4_smart  \\\n",
      "300433         0.0       0.0       0.0       0.0     0.0  ...       0.0   \n",
      "348438         0.0       0.0       0.0       0.0     0.0  ...       0.0   \n",
      "338903         0.0       0.0       1.0       0.0     0.0  ...       0.0   \n",
      "226949         0.0       0.0       0.0       0.0     0.0  ...       0.0   \n",
      "212777         0.0       0.0       1.0       0.0     0.0  ...       0.0   \n",
      "\n",
      "        x4_sonstige_autos  x4_subaru  x4_suzuki  x4_toyota  x4_trabant  \\\n",
      "300433                0.0        0.0        0.0        0.0         0.0   \n",
      "348438                0.0        0.0        0.0        0.0         0.0   \n",
      "338903                0.0        0.0        0.0        0.0         0.0   \n",
      "226949                0.0        0.0        0.0        0.0         0.0   \n",
      "212777                0.0        0.0        0.0        0.0         0.0   \n",
      "\n",
      "        x4_volkswagen  x4_volvo  x5_no info  x5_yes  \n",
      "300433            0.0       0.0         0.0     0.0  \n",
      "348438            0.0       0.0         0.0     0.0  \n",
      "338903            0.0       0.0         0.0     0.0  \n",
      "226949            1.0       0.0         0.0     0.0  \n",
      "212777            0.0       0.0         0.0     1.0  \n",
      "\n",
      "[5 rows x 307 columns]\n"
     ]
    }
   ],
   "source": [
    "# трансформируем валидационную выборку\n",
    "features_valid[encoder_ohe.get_feature_names()] = encoder_ohe.transform(features_valid[categorial_features])\n",
    "\n",
    "features_valid = features_valid.drop(categorial_features, axis=1)\n",
    "\n",
    "features_valid[num_features] = scaler.transform(features_valid[num_features])\n",
    "\n",
    "print('Валидационная выборка:', features_valid.shape)\n",
    "print(features_valid.head())"
   ]
  },
  {
   "cell_type": "markdown",
   "metadata": {
    "id": "SJKG48cc-HWO"
   },
   "source": [
    "Повторим константную модель на данных после кодирования и масштабирования признаков"
   ]
  },
  {
   "cell_type": "code",
   "execution_count": 48,
   "metadata": {
    "id": "BVoRxkv_-HWO",
    "outputId": "04aa4baa-3615-4185-ae33-31d2fd6d25a4"
   },
   "outputs": [
    {
     "name": "stdout",
     "output_type": "stream",
     "text": [
      "RMSE для константной модели на тестовой выборке: 4593\n"
     ]
    }
   ],
   "source": [
    "dummy_model.fit(features_train, target_train)\n",
    "dummy_predict = dummy_model.predict(features_test)\n",
    "rmse_dummy = mean_squared_error(target_test, dummy_predict, squared=False)\n",
    "print('RMSE для константной модели на тестовой выборке:', round(rmse_dummy))"
   ]
  },
  {
   "cell_type": "markdown",
   "metadata": {
    "id": "ILpkjpQy-HWO"
   },
   "source": [
    "**Linear Regression**"
   ]
  },
  {
   "cell_type": "code",
   "execution_count": 49,
   "metadata": {
    "id": "Tby-bN6l-HWO",
    "outputId": "e72dc5f2-c3a9-4806-cd0f-c864d21b89b1"
   },
   "outputs": [
    {
     "name": "stdout",
     "output_type": "stream",
     "text": [
      "CPU times: user 11.5 s, sys: 3.78 s, total: 15.2 s\n",
      "Wall time: 15.3 s\n"
     ]
    },
    {
     "data": {
      "text/plain": [
       "LinearRegression()"
      ]
     },
     "execution_count": 49,
     "metadata": {},
     "output_type": "execute_result"
    }
   ],
   "source": [
    "%%time\n",
    "\n",
    "lmodel = LinearRegression()\n",
    "lmodel.fit(features_train, target_train)"
   ]
  },
  {
   "cell_type": "code",
   "execution_count": 50,
   "metadata": {
    "id": "3x1RBxDN-HWO",
    "outputId": "275fe29e-242a-4b35-8a13-079dbe52dc91"
   },
   "outputs": [
    {
     "name": "stdout",
     "output_type": "stream",
     "text": [
      "CPU times: user 96.9 ms, sys: 108 ms, total: 205 ms\n",
      "Wall time: 196 ms\n"
     ]
    }
   ],
   "source": [
    "%%time\n",
    "\n",
    "pred_lmodel = lmodel.predict(features_valid)"
   ]
  },
  {
   "cell_type": "code",
   "execution_count": 51,
   "metadata": {
    "id": "LdIGqVfC-HWO",
    "outputId": "a2a318f5-07b3-4255-b398-63f92bebf550"
   },
   "outputs": [
    {
     "name": "stdout",
     "output_type": "stream",
     "text": [
      "RMSE для LinearRegression на валидационной выборке: 2388\n"
     ]
    }
   ],
   "source": [
    "rmse_lmodel = mean_squared_error(target_valid, pred_lmodel, squared=False)\n",
    "print('RMSE для LinearRegression на валидационной выборке:', round(rmse_lmodel))"
   ]
  },
  {
   "cell_type": "markdown",
   "metadata": {
    "id": "Ewsb3jnP-HWO"
   },
   "source": [
    "Ранее использованная техника кодирования OneHotEncoder() увеличивает количество признаков, в результате чего следующим используемым моделям сложнее будет создавать разделяющие правила, поэтому время работы и расчётные характеристики моделей сильно страдают на больших наборах данных.\n",
    "\n",
    "Вместо этого используем OrdinalEncoder() - эта техника кодирует категориальные признаки так, что с ними удобнее работать в ходе создания разделяющих правил"
   ]
  },
  {
   "cell_type": "code",
   "execution_count": 52,
   "metadata": {
    "colab": {
     "base_uri": "https://localhost:8080/"
    },
    "id": "Z3acG44N-HWO",
    "outputId": "6be64eeb-d375-4c73-d60f-6304eca1736b"
   },
   "outputs": [
    {
     "name": "stdout",
     "output_type": "stream",
     "text": [
      "(176205, 9)\n",
      "(58735, 9)\n",
      "(58736, 9)\n",
      "0.5999979569321293\n",
      "0.19999931897737644\n",
      "0.2000027240904943\n"
     ]
    }
   ],
   "source": [
    "# создадим признаки\n",
    "features = df.drop('Price', axis=1)\n",
    "target = df['Price']\n",
    "\n",
    "# создадим обучающую выборку и валидационную выборки\n",
    "features_train, features_valid, target_train, target_valid = train_test_split(\n",
    "    features, target, test_size=0.40, random_state=RANDOM_STATE, shuffle=False)\n",
    "\n",
    "# разделим валидационную пополам - получим тестовую выборку\n",
    "features_valid, features_test, target_valid, target_test = train_test_split(\n",
    "    features_valid, target_valid, test_size=0.50, random_state=RANDOM_STATE)\n",
    "\n",
    "print(features_train.shape)\n",
    "print(features_valid.shape)\n",
    "print(features_test.shape)\n",
    "\n",
    "print(len(features_train) / len(df))\n",
    "print(len(features_valid) / len(df))\n",
    "print(len(features_test) / len(df))"
   ]
  },
  {
   "cell_type": "code",
   "execution_count": 53,
   "metadata": {
    "id": "jZMh4hl3-HWO"
   },
   "outputs": [],
   "source": [
    "encoder = OrdinalEncoder(handle_unknown='use_encoded_value', unknown_value=-1)"
   ]
  },
  {
   "cell_type": "code",
   "execution_count": 54,
   "metadata": {
    "colab": {
     "base_uri": "https://localhost:8080/",
     "height": 638
    },
    "id": "xCUVp2k6QmaT",
    "outputId": "4a3d9630-40e4-4979-b7b5-089b4513f37e"
   },
   "outputs": [],
   "source": [
    "features_train[categorial_features] = encoder.fit_transform(features_train[categorial_features])\n",
    "\n",
    "features_valid[categorial_features] = encoder.transform(features_valid[categorial_features])"
   ]
  },
  {
   "cell_type": "code",
   "execution_count": 55,
   "metadata": {
    "colab": {
     "base_uri": "https://localhost:8080/",
     "height": 638
    },
    "id": "bkvIU4bDQmaT",
    "outputId": "4a3d9630-40e4-4979-b7b5-089b4513f37e",
    "scrolled": true
   },
   "outputs": [
    {
     "name": "stdout",
     "output_type": "stream",
     "text": [
      "Тренировочная выборка: (176205, 9)\n",
      "   VehicleType  RegistrationYear  Gearbox  Power  Model  Kilometer  FuelType  \\\n",
      "1          2.0              2011      1.0    190  161.0     125000       2.0   \n",
      "2          7.0              2004      0.0    163  117.0     125000       2.0   \n",
      "3          6.0              2001      1.0     75  116.0     150000       6.0   \n",
      "4          6.0              2008      1.0     69  101.0      90000       2.0   \n",
      "5          5.0              1995      1.0    102   11.0     150000       6.0   \n",
      "\n",
      "   Brand  Repaired  \n",
      "1    1.0       2.0  \n",
      "2   14.0       1.0  \n",
      "3   38.0       0.0  \n",
      "4   31.0       0.0  \n",
      "5    2.0       2.0  \n",
      "Валидационная выборка: (58735, 9)\n",
      "        VehicleType  RegistrationYear  Gearbox  Power  Model  Kilometer  \\\n",
      "300433          2.0              1991      0.0    220  167.0     150000   \n",
      "348438          1.0              2009      1.0    160  224.0      80000   \n",
      "338903          5.0              2000      1.0    170   59.0     150000   \n",
      "226949          0.0              2007      1.0    140  203.0     150000   \n",
      "212777          5.0              1991      1.0    113    6.0     150000   \n",
      "\n",
      "        FuelType  Brand  Repaired  \n",
      "300433       6.0   20.0       0.0  \n",
      "348438       6.0    1.0       0.0  \n",
      "338903       6.0   20.0       0.0  \n",
      "226949       2.0   38.0       0.0  \n",
      "212777       6.0    2.0       2.0  \n",
      "Тестовая выборка: (58736, 9)\n",
      "        VehicleType  RegistrationYear Gearbox  Power     Model  Kilometer  \\\n",
      "285182        small              2010  manual     75      polo      90000   \n",
      "349212  convertible              1994  manual     71     astra     100000   \n",
      "271655        wagon              2005    auto    224  e_klasse     150000   \n",
      "243484        small              2014  manual     86        a1      20000   \n",
      "308079        wagon              1999  manual    101     astra     150000   \n",
      "\n",
      "        FuelType          Brand Repaired  \n",
      "285182  gasoline     volkswagen       no  \n",
      "349212    petrol           opel       no  \n",
      "271655  gasoline  mercedes_benz       no  \n",
      "243484    petrol           audi       no  \n",
      "308079    petrol           opel       no  \n"
     ]
    }
   ],
   "source": [
    "print('Тренировочная выборка:', features_train.shape)\n",
    "print(features_train.head())\n",
    "print('Валидационная выборка:', features_valid.shape)\n",
    "print(features_valid.head())\n",
    "print('Тестовая выборка:', features_test.shape)\n",
    "print(features_test.head())"
   ]
  },
  {
   "cell_type": "code",
   "execution_count": 56,
   "metadata": {
    "colab": {
     "base_uri": "https://localhost:8080/",
     "height": 638
    },
    "id": "pqu4gBl4Jnv4",
    "outputId": "b262e8c8-47b8-41c2-c925-fd82d84e9b7f"
   },
   "outputs": [],
   "source": [
    "# стандартизация (масштабирование) непрерывных признаков\n",
    "scaler = StandardScaler()\n",
    "features_train[num_features] = scaler.fit_transform(features_train[num_features])\n",
    "features_valid[num_features] = scaler.transform(features_valid[num_features])"
   ]
  },
  {
   "cell_type": "code",
   "execution_count": 57,
   "metadata": {
    "colab": {
     "base_uri": "https://localhost:8080/",
     "height": 638
    },
    "id": "jHd1w4JbQmaU",
    "outputId": "b262e8c8-47b8-41c2-c925-fd82d84e9b7f"
   },
   "outputs": [
    {
     "name": "stdout",
     "output_type": "stream",
     "text": [
      "Тренировочная выборка: (176205, 9)\n",
      "   VehicleType  RegistrationYear  Gearbox     Power  Model  Kilometer  \\\n",
      "1          2.0          1.337827      1.0  1.261053  161.0  -0.095819   \n",
      "2          7.0          0.155488      0.0  0.768588  117.0  -0.095819   \n",
      "3          6.0         -0.351228      1.0 -0.836481  116.0   0.588188   \n",
      "4          6.0          0.831110      1.0 -0.945917  101.0  -1.053429   \n",
      "5          5.0         -1.364661      1.0 -0.344016   11.0   0.588188   \n",
      "\n",
      "   FuelType  Brand  Repaired  \n",
      "1       2.0    1.0       2.0  \n",
      "2       2.0   14.0       1.0  \n",
      "3       6.0   38.0       0.0  \n",
      "4       2.0   31.0       0.0  \n",
      "5       6.0    2.0       2.0  \n",
      "Валидационная выборка: (58735, 9)\n",
      "        VehicleType  RegistrationYear  Gearbox     Power  Model  Kilometer  \\\n",
      "300433          2.0         -2.040283      0.0  1.808235  167.0   0.588188   \n",
      "348438          1.0          1.000016      1.0  0.713870  224.0  -1.327032   \n",
      "338903          5.0         -0.520134      1.0  0.896264   59.0   0.588188   \n",
      "226949          0.0          0.662205      1.0  0.349082  203.0   0.588188   \n",
      "212777          5.0         -2.040283      1.0 -0.143383    6.0   0.588188   \n",
      "\n",
      "        FuelType  Brand  Repaired  \n",
      "300433       6.0   20.0       0.0  \n",
      "348438       6.0    1.0       0.0  \n",
      "338903       6.0   20.0       0.0  \n",
      "226949       2.0   38.0       0.0  \n",
      "212777       6.0    2.0       2.0  \n",
      "Тестовая выборка: (58736, 9)\n",
      "        VehicleType  RegistrationYear Gearbox  Power     Model  Kilometer  \\\n",
      "285182        small              2010  manual     75      polo      90000   \n",
      "349212  convertible              1994  manual     71     astra     100000   \n",
      "271655        wagon              2005    auto    224  e_klasse     150000   \n",
      "243484        small              2014  manual     86        a1      20000   \n",
      "308079        wagon              1999  manual    101     astra     150000   \n",
      "\n",
      "        FuelType          Brand Repaired  \n",
      "285182  gasoline     volkswagen       no  \n",
      "349212    petrol           opel       no  \n",
      "271655  gasoline  mercedes_benz       no  \n",
      "243484    petrol           audi       no  \n",
      "308079    petrol           opel       no  \n"
     ]
    }
   ],
   "source": [
    "print('Тренировочная выборка:', features_train.shape)\n",
    "print(features_train.head())\n",
    "print('Валидационная выборка:', features_valid.shape)\n",
    "print(features_valid.head())\n",
    "print('Тестовая выборка:', features_test.shape)\n",
    "print(features_test.head())"
   ]
  },
  {
   "cell_type": "markdown",
   "metadata": {
    "id": "uj0YLuzf-HWO"
   },
   "source": [
    "**DecisionTreeRegressor**"
   ]
  },
  {
   "cell_type": "code",
   "execution_count": 58,
   "metadata": {
    "id": "1Qr4UvaLQmaU",
    "outputId": "21865495-b367-4825-9185-8aaea61d0b58"
   },
   "outputs": [
    {
     "name": "stdout",
     "output_type": "stream",
     "text": [
      "Лучший результат RMSE для DecisionTreeRegressor на валидационной выборке: 1701.907775148783\n",
      "Гиперпараметры: max_depth: 19 , min_samples_leaf: 8\n",
      "CPU times: user 3min 38s, sys: 297 ms, total: 3min 38s\n",
      "Wall time: 3min 38s\n"
     ]
    }
   ],
   "source": [
    "%%time\n",
    "\n",
    "best_model = None\n",
    "best_model_depth = 0\n",
    "best_model_leaf = 0\n",
    "best_result = round(rmse_lmodel)\n",
    "\n",
    "for depth in range(1, 20):\n",
    "    for i in range(1, 40):\n",
    "            model = DecisionTreeRegressor(random_state=RANDOM_STATE, max_depth=depth, min_samples_leaf=i)\n",
    "            model.fit(features_train, target_train)\n",
    "            predictions = model.predict(features_valid)\n",
    "            result = mean_squared_error(target_valid, predictions, squared=False)\n",
    "            if result < best_result:\n",
    "                best_model = model\n",
    "                best_model_depth = depth\n",
    "                best_model_leaf = i\n",
    "                best_result = result\n",
    "print('Лучший результат RMSE для DecisionTreeRegressor на валидационной выборке:', best_result)\n",
    "print('Гиперпараметры:', 'max_depth:', best_model_depth, ', min_samples_leaf:', best_model_leaf)"
   ]
  },
  {
   "cell_type": "code",
   "execution_count": 59,
   "metadata": {
    "id": "KQkOKvVpQmaU",
    "outputId": "6ec1bc63-b415-4eba-bf51-4652dc7a080b"
   },
   "outputs": [
    {
     "name": "stdout",
     "output_type": "stream",
     "text": [
      "CPU times: user 467 ms, sys: 7.56 ms, total: 475 ms\n",
      "Wall time: 485 ms\n"
     ]
    },
    {
     "data": {
      "text/plain": [
       "DecisionTreeRegressor(max_depth=19, min_samples_leaf=8, random_state=12345)"
      ]
     },
     "execution_count": 59,
     "metadata": {},
     "output_type": "execute_result"
    }
   ],
   "source": [
    "%%time\n",
    "\n",
    "trmodel = DecisionTreeRegressor(random_state=RANDOM_STATE,\n",
    "                                max_depth=best_model_depth,\n",
    "                                min_samples_leaf=best_model_leaf)\n",
    "trmodel.fit(features_train, target_train)"
   ]
  },
  {
   "cell_type": "code",
   "execution_count": 60,
   "metadata": {
    "id": "_XMmeVgt-HWP",
    "outputId": "0eafcf9d-414f-433d-ba09-617f274155bc"
   },
   "outputs": [
    {
     "name": "stdout",
     "output_type": "stream",
     "text": [
      "CPU times: user 17.2 ms, sys: 0 ns, total: 17.2 ms\n",
      "Wall time: 15.5 ms\n"
     ]
    }
   ],
   "source": [
    "%%time\n",
    "\n",
    "pred_trmodel = trmodel.predict(features_valid)"
   ]
  },
  {
   "cell_type": "code",
   "execution_count": 61,
   "metadata": {
    "id": "kFN3CBye-HWP",
    "outputId": "342074de-b974-4974-ffac-4658d255f1fa"
   },
   "outputs": [
    {
     "name": "stdout",
     "output_type": "stream",
     "text": [
      "RMSE для DecisionTreeRegressor на валидационной выборке: 1702\n"
     ]
    }
   ],
   "source": [
    "rmse_trmodel = mean_squared_error(target_valid, pred_trmodel, squared=False)\n",
    "print('RMSE для DecisionTreeRegressor на валидационной выборке:', round(rmse_trmodel))"
   ]
  },
  {
   "cell_type": "markdown",
   "metadata": {
    "id": "BERUzOLD-HWP"
   },
   "source": [
    "**CatBoostRegressor**"
   ]
  },
  {
   "cell_type": "markdown",
   "metadata": {
    "id": "Sz_A0hXk-HWP"
   },
   "source": [
    "Далее для моделей CatBoostRegressor и LGBMRegressor не потребуется масштабирование непрерывных признаков и кодирование категориальных, снова разделим данные на выборки"
   ]
  },
  {
   "cell_type": "code",
   "execution_count": 62,
   "metadata": {
    "id": "FB_aTZpX-HWP",
    "outputId": "495d8ff9-4c8b-44d3-a777-316ead4c73cc",
    "scrolled": true
   },
   "outputs": [
    {
     "name": "stdout",
     "output_type": "stream",
     "text": [
      "(176205, 9)\n",
      "(58735, 9)\n",
      "(58736, 9)\n",
      "0.5999979569321293\n",
      "0.19999931897737644\n",
      "0.2000027240904943\n"
     ]
    }
   ],
   "source": [
    "# создадим признаки\n",
    "features = df.drop('Price', axis=1)\n",
    "target = df['Price']\n",
    "\n",
    "# создадим обучающую выборку и валидационную выборки\n",
    "features_train, features_valid, target_train, target_valid = train_test_split(\n",
    "    features, target, test_size=0.40, random_state=RANDOM_STATE, shuffle=False)\n",
    "\n",
    "# разделим валидационную пополам - получим тестовую выборку\n",
    "features_valid, features_test, target_valid, target_test = train_test_split(\n",
    "    features_valid, target_valid, test_size=0.50, random_state=RANDOM_STATE)\n",
    "\n",
    "print(features_train.shape)\n",
    "print(features_valid.shape)\n",
    "print(features_test.shape)\n",
    "\n",
    "print(len(features_train) / len(df))\n",
    "print(len(features_valid) / len(df))\n",
    "print(len(features_test) / len(df))"
   ]
  },
  {
   "cell_type": "code",
   "execution_count": 63,
   "metadata": {
    "id": "RF5Llg72QmaU",
    "outputId": "cea6dad4-92ef-4877-a9c2-93a118ece0c6",
    "scrolled": true
   },
   "outputs": [
    {
     "name": "stdout",
     "output_type": "stream",
     "text": [
      "Learning rate set to 0.114689\n",
      "0:\tlearn: 4256.9674782\ttest: 4212.9389889\tbest: 4212.9389889 (0)\ttotal: 334ms\tremaining: 5m 33s\n",
      "100:\tlearn: 1686.8709752\ttest: 1666.1276379\tbest: 1666.1276379 (100)\ttotal: 17s\tremaining: 2m 31s\n",
      "200:\tlearn: 1611.5235607\ttest: 1601.3785285\tbest: 1601.3785285 (200)\ttotal: 33.1s\tremaining: 2m 11s\n",
      "300:\tlearn: 1576.2357996\ttest: 1574.2233941\tbest: 1574.2233941 (300)\ttotal: 49s\tremaining: 1m 53s\n",
      "400:\tlearn: 1550.1242339\ttest: 1555.6818967\tbest: 1555.6541516 (399)\ttotal: 1m 4s\tremaining: 1m 36s\n",
      "500:\tlearn: 1531.5653571\ttest: 1542.7769215\tbest: 1542.7769215 (500)\ttotal: 1m 20s\tremaining: 1m 19s\n",
      "600:\tlearn: 1515.4338060\ttest: 1533.6871450\tbest: 1533.6871450 (600)\ttotal: 1m 37s\tremaining: 1m 4s\n",
      "700:\tlearn: 1502.0125854\ttest: 1526.4728055\tbest: 1526.4728055 (700)\ttotal: 1m 53s\tremaining: 48.6s\n",
      "800:\tlearn: 1489.7979161\ttest: 1519.8456185\tbest: 1519.8456185 (800)\ttotal: 2m 10s\tremaining: 32.5s\n",
      "900:\tlearn: 1478.0933131\ttest: 1513.5507795\tbest: 1513.5507795 (900)\ttotal: 2m 26s\tremaining: 16.1s\n",
      "999:\tlearn: 1468.3864756\ttest: 1508.9751838\tbest: 1508.9751838 (999)\ttotal: 2m 43s\tremaining: 0us\n",
      "\n",
      "bestTest = 1508.975184\n",
      "bestIteration = 999\n",
      "\n",
      "CPU times: user 2min 43s, sys: 789 ms, total: 2min 44s\n",
      "Wall time: 2min 46s\n"
     ]
    },
    {
     "data": {
      "text/plain": [
       "<catboost.core.CatBoostRegressor at 0x7fa7ae8b6c70>"
      ]
     },
     "execution_count": 63,
     "metadata": {},
     "output_type": "execute_result"
    }
   ],
   "source": [
    "%%time\n",
    "\n",
    "catmodel = CatBoostRegressor(cat_features=categorial_features,\n",
    "                             eval_metric='RMSE',\n",
    "                             random_state=RANDOM_STATE,\n",
    "                             verbose=100) # выводится каждая 100 итерация\n",
    "catmodel.fit(features_train, target_train, eval_set=(features_valid, target_valid))"
   ]
  },
  {
   "cell_type": "code",
   "execution_count": 64,
   "metadata": {
    "id": "MfWx-LfcQmaU",
    "outputId": "14df8699-196d-46bc-b4a0-3c37805b2bcd"
   },
   "outputs": [
    {
     "name": "stdout",
     "output_type": "stream",
     "text": [
      "CPU times: user 427 ms, sys: 0 ns, total: 427 ms\n",
      "Wall time: 429 ms\n"
     ]
    }
   ],
   "source": [
    "%%time\n",
    "\n",
    "cat_predict = catmodel.predict(features_valid)"
   ]
  },
  {
   "cell_type": "code",
   "execution_count": 65,
   "metadata": {
    "id": "RW9srX8SQmaU",
    "outputId": "971f7637-2e63-4232-efb3-b09d468d8097"
   },
   "outputs": [
    {
     "name": "stdout",
     "output_type": "stream",
     "text": [
      "RMSE для CatBoostRegressor на валидационной выборке: 1509\n"
     ]
    }
   ],
   "source": [
    "rmse_catmodel = mean_squared_error(target_valid, cat_predict, squared=False)\n",
    "print('RMSE для CatBoostRegressor на валидационной выборке:', round(rmse_catmodel))"
   ]
  },
  {
   "cell_type": "markdown",
   "metadata": {
    "id": "xOAyRDTxQmaU"
   },
   "source": [
    "Результат этой модели лучше. Оптимизируем гиперпараметры\n",
    "\n",
    "Уменьшим learning rate"
   ]
  },
  {
   "cell_type": "code",
   "execution_count": 66,
   "metadata": {
    "id": "sBpZS9yJQmaV",
    "outputId": "6b5be335-8ff5-40a4-c81f-95fac402c3db"
   },
   "outputs": [
    {
     "name": "stdout",
     "output_type": "stream",
     "text": [
      "0:\tlearn: 4546.1740834\ttest: 4500.2364593\tbest: 4500.2364593 (0)\ttotal: 251ms\tremaining: 4m 10s\n",
      "100:\tlearn: 2126.2038611\ttest: 2090.0674253\tbest: 2090.0674253 (100)\ttotal: 19.1s\tremaining: 2m 50s\n",
      "200:\tlearn: 1839.3928095\ttest: 1807.5614322\tbest: 1807.5614322 (200)\ttotal: 34.5s\tremaining: 2m 17s\n",
      "300:\tlearn: 1766.9420038\ttest: 1738.0542111\tbest: 1738.0542111 (300)\ttotal: 50.8s\tremaining: 1m 57s\n",
      "400:\tlearn: 1728.4961977\ttest: 1702.1547566\tbest: 1702.1547566 (400)\ttotal: 1m 6s\tremaining: 1m 39s\n",
      "500:\tlearn: 1700.2669444\ttest: 1676.0355788\tbest: 1676.0355788 (500)\ttotal: 1m 22s\tremaining: 1m 21s\n",
      "600:\tlearn: 1678.5930862\ttest: 1655.9819552\tbest: 1655.9819552 (600)\ttotal: 1m 38s\tremaining: 1m 5s\n",
      "700:\tlearn: 1660.7748015\ttest: 1640.2653240\tbest: 1640.2653240 (700)\ttotal: 1m 54s\tremaining: 48.8s\n",
      "800:\tlearn: 1645.7491664\ttest: 1626.3812311\tbest: 1626.3812311 (800)\ttotal: 2m 10s\tremaining: 32.4s\n",
      "900:\tlearn: 1632.8983569\ttest: 1615.1975534\tbest: 1615.1975534 (900)\ttotal: 2m 25s\tremaining: 15.9s\n",
      "999:\tlearn: 1622.3500499\ttest: 1606.3021944\tbest: 1606.3021944 (999)\ttotal: 2m 40s\tremaining: 0us\n",
      "\n",
      "bestTest = 1606.302194\n",
      "bestIteration = 999\n",
      "\n",
      "CPU times: user 2min 40s, sys: 698 ms, total: 2min 40s\n",
      "Wall time: 2min 42s\n"
     ]
    },
    {
     "data": {
      "text/plain": [
       "<catboost.core.CatBoostRegressor at 0x7fa7ae8c7400>"
      ]
     },
     "execution_count": 66,
     "metadata": {},
     "output_type": "execute_result"
    }
   ],
   "source": [
    "%%time\n",
    "\n",
    "catmodel = CatBoostRegressor(cat_features=categorial_features,\n",
    "                             eval_metric='RMSE',\n",
    "                             learning_rate = 0.02,\n",
    "                             random_state=RANDOM_STATE,\n",
    "                             verbose=100) # выводится каждая 100 итерация\n",
    "catmodel.fit(features_train, target_train, eval_set=(features_valid, target_valid))"
   ]
  },
  {
   "cell_type": "code",
   "execution_count": 67,
   "metadata": {
    "id": "qcdbrTQeQmaV",
    "outputId": "d2ff5eaf-4102-4a3b-98e7-ef5225470663"
   },
   "outputs": [
    {
     "name": "stdout",
     "output_type": "stream",
     "text": [
      "CPU times: user 285 ms, sys: 724 µs, total: 286 ms\n",
      "Wall time: 291 ms\n"
     ]
    }
   ],
   "source": [
    "%%time\n",
    "\n",
    "cat_predict = catmodel.predict(features_valid)"
   ]
  },
  {
   "cell_type": "code",
   "execution_count": 68,
   "metadata": {
    "id": "gWnIHNw_QmaV",
    "outputId": "738b6baf-1724-4db5-dca9-2c466db3f048"
   },
   "outputs": [
    {
     "name": "stdout",
     "output_type": "stream",
     "text": [
      "RMSE для CatBoostRegressor на валидационной выборке: 1606\n"
     ]
    }
   ],
   "source": [
    "rmse_catmodel = mean_squared_error(target_valid, cat_predict, squared=False)\n",
    "print('RMSE для CatBoostRegressor на валидационной выборке:', round(rmse_catmodel))"
   ]
  },
  {
   "cell_type": "markdown",
   "metadata": {
    "id": "RecC4Cs4QmaV"
   },
   "source": [
    "Увеличим learning rate"
   ]
  },
  {
   "cell_type": "code",
   "execution_count": 69,
   "metadata": {
    "id": "W-7L75kFQmaV",
    "outputId": "4b954017-ac9e-4a48-aff3-41a8e65118b2"
   },
   "outputs": [
    {
     "name": "stdout",
     "output_type": "stream",
     "text": [
      "0:\tlearn: 3465.7180762\ttest: 3427.9392348\tbest: 3427.9392348 (0)\ttotal: 262ms\tremaining: 4m 22s\n",
      "100:\tlearn: 1576.7192455\ttest: 1582.5471845\tbest: 1582.5471845 (100)\ttotal: 16.6s\tremaining: 2m 27s\n",
      "200:\tlearn: 1514.8431490\ttest: 1545.9062524\tbest: 1545.9062524 (200)\ttotal: 32.3s\tremaining: 2m 8s\n",
      "300:\tlearn: 1477.2133717\ttest: 1527.2623645\tbest: 1527.2442048 (299)\ttotal: 49s\tremaining: 1m 53s\n",
      "400:\tlearn: 1453.1556453\ttest: 1518.8765141\tbest: 1518.6536050 (398)\ttotal: 1m 4s\tremaining: 1m 36s\n",
      "500:\tlearn: 1431.3875951\ttest: 1509.8361389\tbest: 1509.8232554 (499)\ttotal: 1m 21s\tremaining: 1m 21s\n",
      "600:\tlearn: 1413.1591847\ttest: 1505.5060174\tbest: 1505.2950903 (596)\ttotal: 1m 38s\tremaining: 1m 5s\n",
      "700:\tlearn: 1399.2015402\ttest: 1501.6258237\tbest: 1501.6258237 (700)\ttotal: 1m 54s\tremaining: 48.8s\n",
      "800:\tlearn: 1385.0092029\ttest: 1498.3536138\tbest: 1498.3536138 (800)\ttotal: 2m 11s\tremaining: 32.7s\n",
      "900:\tlearn: 1371.6659303\ttest: 1495.5618541\tbest: 1495.4681047 (893)\ttotal: 2m 28s\tremaining: 16.3s\n",
      "999:\tlearn: 1360.7444256\ttest: 1493.9997309\tbest: 1493.9674909 (997)\ttotal: 2m 43s\tremaining: 0us\n",
      "\n",
      "bestTest = 1493.967491\n",
      "bestIteration = 997\n",
      "\n",
      "Shrink model to first 998 iterations.\n",
      "CPU times: user 2min 44s, sys: 703 ms, total: 2min 44s\n",
      "Wall time: 2min 46s\n"
     ]
    },
    {
     "data": {
      "text/plain": [
       "<catboost.core.CatBoostRegressor at 0x7fa7b17ac280>"
      ]
     },
     "execution_count": 69,
     "metadata": {},
     "output_type": "execute_result"
    }
   ],
   "source": [
    "%%time\n",
    "\n",
    "catmodel = CatBoostRegressor(cat_features=categorial_features,\n",
    "                             eval_metric='RMSE',\n",
    "                             learning_rate = 0.4,\n",
    "                             random_state=RANDOM_STATE,\n",
    "                             verbose=100) # выводится каждая 100 итерация\n",
    "catmodel.fit(features_train, target_train, eval_set=(features_valid, target_valid))"
   ]
  },
  {
   "cell_type": "code",
   "execution_count": 70,
   "metadata": {
    "id": "digxtnarQmaV",
    "outputId": "9dd22291-d549-4e23-ed91-e8f6e57dc975"
   },
   "outputs": [
    {
     "name": "stdout",
     "output_type": "stream",
     "text": [
      "CPU times: user 608 ms, sys: 0 ns, total: 608 ms\n",
      "Wall time: 609 ms\n"
     ]
    }
   ],
   "source": [
    "%%time\n",
    "\n",
    "cat_predict = catmodel.predict(features_valid)"
   ]
  },
  {
   "cell_type": "code",
   "execution_count": 71,
   "metadata": {
    "id": "2qzMnIe8QmaV",
    "outputId": "fd0ce9e0-3e89-48b7-d784-b247dbcd72ee"
   },
   "outputs": [
    {
     "name": "stdout",
     "output_type": "stream",
     "text": [
      "RMSE для CatBoostRegressor на валидационной выборке: 1494\n"
     ]
    }
   ],
   "source": [
    "rmse_catmodel = mean_squared_error(target_valid, cat_predict, squared=False)\n",
    "print('RMSE для CatBoostRegressor на валидационной выборке:', round(rmse_catmodel))"
   ]
  },
  {
   "cell_type": "markdown",
   "metadata": {
    "id": "7JahpCgv-HWP"
   },
   "source": [
    "**Регрессия LGBMRegressor**"
   ]
  },
  {
   "cell_type": "code",
   "execution_count": 72,
   "metadata": {
    "id": "BRviHvzo-HWP",
    "outputId": "7723dff9-b5cb-4bae-d7ad-1f6ba9049daf",
    "scrolled": false
   },
   "outputs": [],
   "source": [
    "features_train[categorial_features] = features_train[categorial_features].astype('category')\n",
    "features_valid[categorial_features] = features_valid[categorial_features].astype('category')"
   ]
  },
  {
   "cell_type": "code",
   "execution_count": 73,
   "metadata": {
    "id": "mhOqBTbT-HWP",
    "outputId": "8b371a40-7f5f-46bf-980a-e1542db45f66"
   },
   "outputs": [
    {
     "name": "stdout",
     "output_type": "stream",
     "text": [
      "CPU times: user 4.61 s, sys: 7.96 ms, total: 4.62 s\n",
      "Wall time: 4.61 s\n"
     ]
    },
    {
     "data": {
      "text/plain": [
       "LGBMRegressor(random_state=12345)"
      ]
     },
     "execution_count": 73,
     "metadata": {},
     "output_type": "execute_result"
    }
   ],
   "source": [
    "%%time\n",
    "\n",
    "lgbmmodel = ltb.LGBMRegressor(random_state=RANDOM_STATE)\n",
    "lgbmmodel.fit(features_train, target_train)"
   ]
  },
  {
   "cell_type": "code",
   "execution_count": 74,
   "metadata": {
    "id": "BqFYmOO3-HWP",
    "outputId": "d17190cf-7254-486d-fc0c-c35dcfcbd2c7"
   },
   "outputs": [
    {
     "name": "stdout",
     "output_type": "stream",
     "text": [
      "CPU times: user 624 ms, sys: 1.89 ms, total: 626 ms\n",
      "Wall time: 689 ms\n"
     ]
    }
   ],
   "source": [
    "%%time\n",
    "\n",
    "lgbm_predict = lgbmmodel.predict(features_valid)"
   ]
  },
  {
   "cell_type": "code",
   "execution_count": 75,
   "metadata": {
    "id": "hiHsR4Ev-HWP",
    "outputId": "254cc462-0923-4492-f882-8d491ec80215"
   },
   "outputs": [
    {
     "name": "stdout",
     "output_type": "stream",
     "text": [
      "RMSE для LGBMRegressor на валидационной выборке: 1537\n"
     ]
    }
   ],
   "source": [
    "rmse_lgbmmodel = mean_squared_error(target_valid, lgbm_predict, squared=False)\n",
    "print('RMSE для LGBMRegressor на валидационной выборке:', round(rmse_lgbmmodel))"
   ]
  },
  {
   "cell_type": "markdown",
   "metadata": {
    "id": "B8CXCUe3QmaW"
   },
   "source": [
    "Изначально модель LGBMRegressor показывает неплохой результат, однако он хуже изначального результата RMSE на CatBoostRegressor, и  время обучения в два раза выше. Остановимся на модели CatBoostRegressor"
   ]
  },
  {
   "cell_type": "markdown",
   "metadata": {
    "id": "ee2jfAyn-HWQ"
   },
   "source": [
    "Модель CatBoostRegressor с подобранными гиперпараметрами (learning_rate = 0.4) показала лучшие результаты"
   ]
  },
  {
   "cell_type": "markdown",
   "metadata": {
    "id": "qk84haMuQmaW"
   },
   "source": [
    "**Проверка лучшей модели на тестовой выборке**"
   ]
  },
  {
   "cell_type": "code",
   "execution_count": 76,
   "metadata": {
    "id": "rqzAbpF8-HWQ",
    "outputId": "3ad883e3-1cd9-4ae6-c374-6248f1308522"
   },
   "outputs": [
    {
     "name": "stdout",
     "output_type": "stream",
     "text": [
      "RMSE для CatBoostRegressor на тестовой выборке: 1507\n"
     ]
    }
   ],
   "source": [
    "cat_predict = catmodel.predict(features_test)\n",
    "\n",
    "rmse_catmodel = mean_squared_error(target_test, cat_predict, squared=False)\n",
    "print('RMSE для CatBoostRegressor на тестовой выборке:', round(rmse_catmodel))"
   ]
  },
  {
   "cell_type": "markdown",
   "metadata": {
    "id": "gWJw-lUI-HWQ"
   },
   "source": [
    "**Сравнение лучшей модели с константной моделью (по результатам на тестовой выборке)**"
   ]
  },
  {
   "cell_type": "code",
   "execution_count": 77,
   "metadata": {
    "id": "VP5MorwR-HWQ"
   },
   "outputs": [],
   "source": [
    "def test_models(dummy_predictions, model_predictions):\n",
    "    if dummy_predictions > model_predictions:\n",
    "        print('Модель прошла проверку на адекватность')\n",
    "    else:\n",
    "        print('Модель не прошла проверку на адекватность')"
   ]
  },
  {
   "cell_type": "code",
   "execution_count": 78,
   "metadata": {
    "id": "Be8CDTOf-HWQ",
    "outputId": "690f1c32-f746-4297-e1e8-7bac1c45ec19"
   },
   "outputs": [
    {
     "name": "stdout",
     "output_type": "stream",
     "text": [
      "Модель прошла проверку на адекватность\n"
     ]
    }
   ],
   "source": [
    "test_models(rmse_dummy, rmse_catmodel)"
   ]
  },
  {
   "cell_type": "markdown",
   "metadata": {
    "id": "pAYlGsO6-HWQ"
   },
   "source": [
    "## Анализ моделей"
   ]
  },
  {
   "cell_type": "markdown",
   "metadata": {
    "id": "xSG3-h00-HWQ"
   },
   "source": [
    "**Таким образом, были произведены измерения:**\n",
    "- времени обучения моделей\n",
    "- качества предсказания метрикой RMSE\n",
    "\n",
    "Модель **LinearRegression** <br>\n",
    "Время обучения 22.9 s <br>\n",
    "RMSE 2388\n",
    "\n",
    "Модель **DecisionTreeRegressor** <br>\n",
    "Время обучения 529 ms <br>\n",
    "RMSE 1702\n",
    "\n",
    "Модель **CatBoostRegressor** <br>\n",
    "Время обучения 3min 8s <br>\n",
    "RMSE 1493\n",
    "\n",
    "Модель **LGBMRegressor** <br>\n",
    "Время обучения 6min 47s <br>\n",
    "RMSE 1539\n",
    "\n",
    "Наилучшее качество RMSE получилось у модели CatBoostRegressor - 1493, время обучения составило 3min 8s. Также незначительно хуже по метрике RMSE показала себя модель LGBMRegressor - 1539, однако время обучения больше более чем в 2 раза - 6min 47s"
   ]
  },
  {
   "cell_type": "markdown",
   "metadata": {
    "id": "aM22lZsy-HWQ"
   },
   "source": [
    "У лучшей модели был произведен подбор гиперпараметров и проверка на тестовой выборке"
   ]
  },
  {
   "cell_type": "markdown",
   "metadata": {
    "id": "1cFg_tzc-HWQ"
   },
   "source": [
    "**Выводы:**\n",
    "\n",
    "Для сервиса по продажам поддержанных авто \"Не бит, не крашен\" была разработана и протестирована модель машинного обучения для прогнозирования рыночной цены автомобиля исходя из его технических характеристик.\n",
    "\n",
    "\n",
    "- данные предварительно были подготовлены для обучения моделей - удалены дубликаты, столбцы, не дающие важной информации для предсказания цены; обработаны пропуски и аномалии, скорректированы распределения некоторых величин\n",
    "- произведено кодирование категориальных признаков с помощью One-Hot Encoding для модели линейной регрессии, с помощью OrdinalEncoder для DecisionTreeRegressor, признаки приведены к единому масштабу\n",
    "- для бустинговых алгоритмов были использованы внутренние кодировщики - в CatBoost параметр cat_features, в LightGBM категориальные признаки были приведены к типу category, и модель работала с категориальными признаками автоматически\n",
    "- исходя из критериев заказчика была определена лучшая модель обучения с точки зрения качества RMSE и времени обучения - CatBoostRegressor\n",
    "- лучшая модель была протестирована на тестовом наборе данных, метрика RMSE составила 1506\n",
    "- лучшая модель была проверена на адекватность (модель адекватна)\n",
    "\n",
    "\n",
    "  \n",
    "    \n",
    "| Модель                        | Значение RMSE | Время обучения |\n",
    "|-------------------------------|-----------------------------------------------|-----------------------------|\n",
    "| LinearRegression               | 2388                                      | 22.9 s                      |\n",
    "| DecisionTreeRegressor | 1702                                      | 529 ms                      |\n",
    "| CatBoostRegressor                | 1493  | 3min 8s                    |\n",
    "| LGBMRegressor               |  1539| 6min 47s                       |\n"
   ]
  }
 ],
 "metadata": {
  "ExecuteTimeLog": [
   {
    "duration": 1547,
    "start_time": "2023-07-17T16:19:18.396Z"
   },
   {
    "duration": 107,
    "start_time": "2023-07-17T16:19:19.945Z"
   },
   {
    "duration": 3154,
    "start_time": "2023-07-17T16:19:48.160Z"
   },
   {
    "duration": 23,
    "start_time": "2023-07-17T16:19:51.899Z"
   },
   {
    "duration": 7,
    "start_time": "2023-07-17T16:20:43.595Z"
   },
   {
    "duration": 1325,
    "start_time": "2023-07-17T16:20:52.124Z"
   },
   {
    "duration": 741,
    "start_time": "2023-07-17T16:22:30.756Z"
   },
   {
    "duration": 1605,
    "start_time": "2023-07-18T06:26:49.995Z"
   },
   {
    "duration": 2856,
    "start_time": "2023-07-18T06:26:51.602Z"
   },
   {
    "duration": 5,
    "start_time": "2023-07-18T06:26:54.459Z"
   },
   {
    "duration": 1350,
    "start_time": "2023-07-18T06:26:54.466Z"
   },
   {
    "duration": 808,
    "start_time": "2023-07-18T06:26:55.817Z"
   },
   {
    "duration": 485,
    "start_time": "2023-07-18T06:29:40.796Z"
   },
   {
    "duration": 98,
    "start_time": "2023-07-18T06:29:56.434Z"
   },
   {
    "duration": 10,
    "start_time": "2023-07-18T06:30:01.982Z"
   },
   {
    "duration": 112,
    "start_time": "2023-07-18T06:30:05.427Z"
   },
   {
    "duration": 119,
    "start_time": "2023-07-18T06:30:38.500Z"
   },
   {
    "duration": 458,
    "start_time": "2023-07-18T06:30:49.422Z"
   },
   {
    "duration": 60,
    "start_time": "2023-07-18T07:55:16.659Z"
   },
   {
    "duration": 29,
    "start_time": "2023-07-18T07:55:21.861Z"
   },
   {
    "duration": 134,
    "start_time": "2023-07-18T07:55:32.818Z"
   },
   {
    "duration": 231,
    "start_time": "2023-07-18T07:55:56.404Z"
   },
   {
    "duration": 87,
    "start_time": "2023-07-18T07:55:59.498Z"
   },
   {
    "duration": 7,
    "start_time": "2023-07-18T07:58:10.052Z"
   },
   {
    "duration": 7,
    "start_time": "2023-07-18T08:02:24.210Z"
   },
   {
    "duration": 96,
    "start_time": "2023-07-18T08:02:49.925Z"
   },
   {
    "duration": 49,
    "start_time": "2023-07-18T08:03:00.967Z"
   },
   {
    "duration": 22,
    "start_time": "2023-07-18T08:03:04.732Z"
   },
   {
    "duration": 92,
    "start_time": "2023-07-18T08:03:21.900Z"
   },
   {
    "duration": 3,
    "start_time": "2023-07-18T08:03:42.160Z"
   },
   {
    "duration": 911,
    "start_time": "2023-07-18T08:03:42.186Z"
   },
   {
    "duration": 7,
    "start_time": "2023-07-18T08:03:43.101Z"
   },
   {
    "duration": 1546,
    "start_time": "2023-07-18T08:03:43.110Z"
   },
   {
    "duration": 945,
    "start_time": "2023-07-18T08:03:44.658Z"
   },
   {
    "duration": 545,
    "start_time": "2023-07-18T08:03:45.604Z"
   },
   {
    "duration": 529,
    "start_time": "2023-07-18T08:03:46.151Z"
   },
   {
    "duration": 272,
    "start_time": "2023-07-18T08:03:46.682Z"
   },
   {
    "duration": 18,
    "start_time": "2023-07-18T08:03:46.956Z"
   },
   {
    "duration": 126,
    "start_time": "2023-07-18T08:03:46.982Z"
   },
   {
    "duration": 28,
    "start_time": "2023-07-18T08:03:47.110Z"
   },
   {
    "duration": 3,
    "start_time": "2023-07-18T08:04:28.509Z"
   },
   {
    "duration": 887,
    "start_time": "2023-07-18T08:04:28.525Z"
   },
   {
    "duration": 5,
    "start_time": "2023-07-18T08:04:29.414Z"
   },
   {
    "duration": 1394,
    "start_time": "2023-07-18T08:04:29.421Z"
   },
   {
    "duration": 867,
    "start_time": "2023-07-18T08:04:30.818Z"
   },
   {
    "duration": 514,
    "start_time": "2023-07-18T08:04:31.691Z"
   },
   {
    "duration": 518,
    "start_time": "2023-07-18T08:04:32.207Z"
   },
   {
    "duration": 251,
    "start_time": "2023-07-18T08:04:32.726Z"
   },
   {
    "duration": 18,
    "start_time": "2023-07-18T08:04:32.982Z"
   },
   {
    "duration": 114,
    "start_time": "2023-07-18T08:04:33.002Z"
   },
   {
    "duration": 40,
    "start_time": "2023-07-18T08:04:33.119Z"
   },
   {
    "duration": 10,
    "start_time": "2023-07-18T08:04:38.799Z"
   },
   {
    "duration": 10,
    "start_time": "2023-07-18T08:04:41.541Z"
   },
   {
    "duration": 8,
    "start_time": "2023-07-18T08:04:41.926Z"
   },
   {
    "duration": 3,
    "start_time": "2023-07-18T08:04:53.612Z"
   },
   {
    "duration": 891,
    "start_time": "2023-07-18T08:04:53.658Z"
   },
   {
    "duration": 6,
    "start_time": "2023-07-18T08:04:54.551Z"
   },
   {
    "duration": 1352,
    "start_time": "2023-07-18T08:04:54.558Z"
   },
   {
    "duration": 785,
    "start_time": "2023-07-18T08:04:55.912Z"
   },
   {
    "duration": 485,
    "start_time": "2023-07-18T08:04:56.698Z"
   },
   {
    "duration": 454,
    "start_time": "2023-07-18T08:04:57.185Z"
   },
   {
    "duration": 286,
    "start_time": "2023-07-18T08:04:57.641Z"
   },
   {
    "duration": 9,
    "start_time": "2023-07-18T08:04:57.929Z"
   },
   {
    "duration": 117,
    "start_time": "2023-07-18T08:04:57.939Z"
   },
   {
    "duration": 44,
    "start_time": "2023-07-18T08:04:58.058Z"
   },
   {
    "duration": 9,
    "start_time": "2023-07-18T08:04:58.103Z"
   },
   {
    "duration": 9,
    "start_time": "2023-07-18T08:05:12.210Z"
   },
   {
    "duration": 3,
    "start_time": "2023-07-18T08:05:17.440Z"
   },
   {
    "duration": 812,
    "start_time": "2023-07-18T08:05:17.528Z"
   },
   {
    "duration": 5,
    "start_time": "2023-07-18T08:05:18.342Z"
   },
   {
    "duration": 1415,
    "start_time": "2023-07-18T08:05:18.348Z"
   },
   {
    "duration": 740,
    "start_time": "2023-07-18T08:05:19.768Z"
   },
   {
    "duration": 484,
    "start_time": "2023-07-18T08:05:20.509Z"
   },
   {
    "duration": 487,
    "start_time": "2023-07-18T08:05:21.001Z"
   },
   {
    "duration": 256,
    "start_time": "2023-07-18T08:05:21.489Z"
   },
   {
    "duration": 7,
    "start_time": "2023-07-18T08:05:21.747Z"
   },
   {
    "duration": 139,
    "start_time": "2023-07-18T08:05:21.755Z"
   },
   {
    "duration": 46,
    "start_time": "2023-07-18T08:05:21.896Z"
   },
   {
    "duration": 15,
    "start_time": "2023-07-18T08:05:25.918Z"
   },
   {
    "duration": 3,
    "start_time": "2023-07-18T08:05:38.618Z"
   },
   {
    "duration": 879,
    "start_time": "2023-07-18T08:05:38.623Z"
   },
   {
    "duration": 6,
    "start_time": "2023-07-18T08:05:39.503Z"
   },
   {
    "duration": 1419,
    "start_time": "2023-07-18T08:05:39.511Z"
   },
   {
    "duration": 876,
    "start_time": "2023-07-18T08:05:40.932Z"
   },
   {
    "duration": 517,
    "start_time": "2023-07-18T08:05:41.810Z"
   },
   {
    "duration": 491,
    "start_time": "2023-07-18T08:05:42.330Z"
   },
   {
    "duration": 247,
    "start_time": "2023-07-18T08:05:42.823Z"
   },
   {
    "duration": 21,
    "start_time": "2023-07-18T08:05:43.071Z"
   },
   {
    "duration": 107,
    "start_time": "2023-07-18T08:05:43.096Z"
   },
   {
    "duration": 56,
    "start_time": "2023-07-18T08:05:43.205Z"
   },
   {
    "duration": 25,
    "start_time": "2023-07-18T08:05:50.756Z"
   },
   {
    "duration": 109,
    "start_time": "2023-07-18T08:06:01.212Z"
   },
   {
    "duration": 12,
    "start_time": "2023-07-18T08:07:44.212Z"
   },
   {
    "duration": 19,
    "start_time": "2023-07-18T08:09:37.242Z"
   },
   {
    "duration": 606,
    "start_time": "2023-07-18T08:09:50.619Z"
   },
   {
    "duration": 39,
    "start_time": "2023-07-18T08:09:55.411Z"
   },
   {
    "duration": 23,
    "start_time": "2023-07-18T08:10:15.317Z"
   },
   {
    "duration": 23,
    "start_time": "2023-07-18T08:10:28.001Z"
   },
   {
    "duration": 23,
    "start_time": "2023-07-18T08:10:40.518Z"
   },
   {
    "duration": 80,
    "start_time": "2023-07-18T08:11:01.145Z"
   },
   {
    "duration": 26,
    "start_time": "2023-07-18T08:12:22.855Z"
   },
   {
    "duration": 26,
    "start_time": "2023-07-18T08:12:31.255Z"
   },
   {
    "duration": 45,
    "start_time": "2023-07-18T08:13:43.408Z"
   },
   {
    "duration": 58,
    "start_time": "2023-07-18T08:14:26.742Z"
   },
   {
    "duration": 103,
    "start_time": "2023-07-18T08:15:09.400Z"
   },
   {
    "duration": 175,
    "start_time": "2023-07-18T08:15:29.482Z"
   },
   {
    "duration": 55,
    "start_time": "2023-07-18T08:16:09.580Z"
   },
   {
    "duration": 61,
    "start_time": "2023-07-18T08:16:14.541Z"
   },
   {
    "duration": 57,
    "start_time": "2023-07-18T08:16:32.393Z"
   },
   {
    "duration": 192,
    "start_time": "2023-07-18T08:17:25.860Z"
   },
   {
    "duration": 11,
    "start_time": "2023-07-18T08:17:42.155Z"
   },
   {
    "duration": 5,
    "start_time": "2023-07-18T08:18:05.496Z"
   },
   {
    "duration": 3,
    "start_time": "2023-07-18T08:18:13.214Z"
   },
   {
    "duration": 828,
    "start_time": "2023-07-18T08:18:13.229Z"
   },
   {
    "duration": 22,
    "start_time": "2023-07-18T08:18:14.060Z"
   },
   {
    "duration": 1406,
    "start_time": "2023-07-18T08:18:14.086Z"
   },
   {
    "duration": 857,
    "start_time": "2023-07-18T08:18:15.495Z"
   },
   {
    "duration": 534,
    "start_time": "2023-07-18T08:18:16.354Z"
   },
   {
    "duration": 510,
    "start_time": "2023-07-18T08:18:16.891Z"
   },
   {
    "duration": 247,
    "start_time": "2023-07-18T08:18:17.403Z"
   },
   {
    "duration": 6,
    "start_time": "2023-07-18T08:18:17.652Z"
   },
   {
    "duration": 37,
    "start_time": "2023-07-18T08:18:17.675Z"
   },
   {
    "duration": 28,
    "start_time": "2023-07-18T08:18:20.853Z"
   },
   {
    "duration": 34,
    "start_time": "2023-07-18T08:18:21.592Z"
   },
   {
    "duration": 5,
    "start_time": "2023-07-18T08:18:26.285Z"
   },
   {
    "duration": 229,
    "start_time": "2023-07-18T08:18:36.209Z"
   },
   {
    "duration": 3,
    "start_time": "2023-07-18T08:19:10.324Z"
   },
   {
    "duration": 786,
    "start_time": "2023-07-18T08:19:10.329Z"
   },
   {
    "duration": 5,
    "start_time": "2023-07-18T08:19:11.117Z"
   },
   {
    "duration": 1341,
    "start_time": "2023-07-18T08:19:11.124Z"
   },
   {
    "duration": 793,
    "start_time": "2023-07-18T08:19:12.468Z"
   },
   {
    "duration": 514,
    "start_time": "2023-07-18T08:19:13.268Z"
   },
   {
    "duration": 593,
    "start_time": "2023-07-18T08:19:13.784Z"
   },
   {
    "duration": 262,
    "start_time": "2023-07-18T08:19:14.379Z"
   },
   {
    "duration": 6,
    "start_time": "2023-07-18T08:19:14.643Z"
   },
   {
    "duration": 42,
    "start_time": "2023-07-18T08:19:14.651Z"
   },
   {
    "duration": 24,
    "start_time": "2023-07-18T08:19:14.696Z"
   },
   {
    "duration": 211,
    "start_time": "2023-07-18T08:19:14.721Z"
   },
   {
    "duration": 5,
    "start_time": "2023-07-18T08:19:20.368Z"
   },
   {
    "duration": 92,
    "start_time": "2023-07-18T08:20:17.893Z"
   },
   {
    "duration": 3,
    "start_time": "2023-07-18T08:20:31.805Z"
   },
   {
    "duration": 896,
    "start_time": "2023-07-18T08:20:31.811Z"
   },
   {
    "duration": 5,
    "start_time": "2023-07-18T08:20:32.709Z"
   },
   {
    "duration": 1487,
    "start_time": "2023-07-18T08:20:32.716Z"
   },
   {
    "duration": 916,
    "start_time": "2023-07-18T08:20:34.206Z"
   },
   {
    "duration": 532,
    "start_time": "2023-07-18T08:20:35.125Z"
   },
   {
    "duration": 533,
    "start_time": "2023-07-18T08:20:35.659Z"
   },
   {
    "duration": 289,
    "start_time": "2023-07-18T08:20:36.194Z"
   },
   {
    "duration": 8,
    "start_time": "2023-07-18T08:20:36.485Z"
   },
   {
    "duration": 27,
    "start_time": "2023-07-18T08:20:36.495Z"
   },
   {
    "duration": 20,
    "start_time": "2023-07-18T08:20:39.087Z"
   },
   {
    "duration": 33,
    "start_time": "2023-07-18T08:20:39.777Z"
   },
   {
    "duration": 100,
    "start_time": "2023-07-18T08:20:44.463Z"
   },
   {
    "duration": 105,
    "start_time": "2023-07-18T08:20:57.413Z"
   },
   {
    "duration": 5,
    "start_time": "2023-07-18T08:21:34.057Z"
   },
   {
    "duration": 1019,
    "start_time": "2023-07-18T08:21:34.064Z"
   },
   {
    "duration": 11,
    "start_time": "2023-07-18T08:21:35.092Z"
   },
   {
    "duration": 1697,
    "start_time": "2023-07-18T08:21:35.105Z"
   },
   {
    "duration": 940,
    "start_time": "2023-07-18T08:21:36.804Z"
   },
   {
    "duration": 618,
    "start_time": "2023-07-18T08:21:37.745Z"
   },
   {
    "duration": 599,
    "start_time": "2023-07-18T08:21:38.365Z"
   },
   {
    "duration": 279,
    "start_time": "2023-07-18T08:21:38.970Z"
   },
   {
    "duration": 8,
    "start_time": "2023-07-18T08:21:39.251Z"
   },
   {
    "duration": 59,
    "start_time": "2023-07-18T08:21:39.261Z"
   },
   {
    "duration": 24,
    "start_time": "2023-07-18T08:21:39.322Z"
   },
   {
    "duration": 32,
    "start_time": "2023-07-18T08:21:45.283Z"
   },
   {
    "duration": 272,
    "start_time": "2023-07-18T08:21:54.166Z"
   },
   {
    "duration": 177,
    "start_time": "2023-07-18T08:22:00.290Z"
   },
   {
    "duration": 81,
    "start_time": "2023-07-18T08:22:02.452Z"
   },
   {
    "duration": 4,
    "start_time": "2023-07-18T08:22:14.325Z"
   },
   {
    "duration": 850,
    "start_time": "2023-07-18T08:22:14.352Z"
   },
   {
    "duration": 5,
    "start_time": "2023-07-18T08:22:15.204Z"
   },
   {
    "duration": 1504,
    "start_time": "2023-07-18T08:22:15.211Z"
   },
   {
    "duration": 957,
    "start_time": "2023-07-18T08:22:16.717Z"
   },
   {
    "duration": 528,
    "start_time": "2023-07-18T08:22:17.681Z"
   },
   {
    "duration": 520,
    "start_time": "2023-07-18T08:22:18.211Z"
   },
   {
    "duration": 278,
    "start_time": "2023-07-18T08:22:18.732Z"
   },
   {
    "duration": 7,
    "start_time": "2023-07-18T08:22:19.011Z"
   },
   {
    "duration": 31,
    "start_time": "2023-07-18T08:22:19.020Z"
   },
   {
    "duration": 190,
    "start_time": "2023-07-18T08:22:22.798Z"
   },
   {
    "duration": 196,
    "start_time": "2023-07-18T08:22:38.482Z"
   },
   {
    "duration": 3,
    "start_time": "2023-07-18T08:22:47.195Z"
   },
   {
    "duration": 792,
    "start_time": "2023-07-18T08:22:47.202Z"
   },
   {
    "duration": 6,
    "start_time": "2023-07-18T08:22:47.996Z"
   },
   {
    "duration": 1412,
    "start_time": "2023-07-18T08:22:48.003Z"
   },
   {
    "duration": 789,
    "start_time": "2023-07-18T08:22:49.417Z"
   },
   {
    "duration": 524,
    "start_time": "2023-07-18T08:22:50.207Z"
   },
   {
    "duration": 528,
    "start_time": "2023-07-18T08:22:50.733Z"
   },
   {
    "duration": 298,
    "start_time": "2023-07-18T08:22:51.263Z"
   },
   {
    "duration": 11,
    "start_time": "2023-07-18T08:22:51.563Z"
   },
   {
    "duration": 54,
    "start_time": "2023-07-18T08:22:51.578Z"
   },
   {
    "duration": 13,
    "start_time": "2023-07-18T08:22:53.645Z"
   },
   {
    "duration": 266,
    "start_time": "2023-07-18T08:22:54.085Z"
   },
   {
    "duration": 3,
    "start_time": "2023-07-18T08:23:07.504Z"
   },
   {
    "duration": 872,
    "start_time": "2023-07-18T08:23:07.509Z"
   },
   {
    "duration": 9,
    "start_time": "2023-07-18T08:23:08.385Z"
   },
   {
    "duration": 1494,
    "start_time": "2023-07-18T08:23:08.396Z"
   },
   {
    "duration": 925,
    "start_time": "2023-07-18T08:23:09.892Z"
   },
   {
    "duration": 553,
    "start_time": "2023-07-18T08:23:10.818Z"
   },
   {
    "duration": 524,
    "start_time": "2023-07-18T08:23:11.381Z"
   },
   {
    "duration": 256,
    "start_time": "2023-07-18T08:23:11.907Z"
   },
   {
    "duration": 8,
    "start_time": "2023-07-18T08:23:12.165Z"
   },
   {
    "duration": 40,
    "start_time": "2023-07-18T08:23:12.175Z"
   },
   {
    "duration": 206,
    "start_time": "2023-07-18T08:23:12.217Z"
   },
   {
    "duration": 99,
    "start_time": "2023-07-18T08:23:22.119Z"
   },
   {
    "duration": 7,
    "start_time": "2023-07-18T08:43:59.412Z"
   },
   {
    "duration": 7,
    "start_time": "2023-07-18T08:47:18.620Z"
   },
   {
    "duration": 11,
    "start_time": "2023-07-18T08:47:32.891Z"
   },
   {
    "duration": 92,
    "start_time": "2023-07-18T08:48:08.867Z"
   },
   {
    "duration": 7,
    "start_time": "2023-07-18T08:50:48.519Z"
   },
   {
    "duration": 1267,
    "start_time": "2023-07-18T08:53:51.759Z"
   },
   {
    "duration": 6,
    "start_time": "2023-07-18T08:54:36.323Z"
   },
   {
    "duration": 10,
    "start_time": "2023-07-18T08:55:06.920Z"
   },
   {
    "duration": 13,
    "start_time": "2023-07-18T08:57:35.536Z"
   },
   {
    "duration": 10,
    "start_time": "2023-07-18T08:57:47.960Z"
   },
   {
    "duration": 12,
    "start_time": "2023-07-18T08:58:09.464Z"
   },
   {
    "duration": 8,
    "start_time": "2023-07-18T08:58:17.014Z"
   },
   {
    "duration": 14,
    "start_time": "2023-07-18T09:00:31.288Z"
   },
   {
    "duration": 10,
    "start_time": "2023-07-18T09:01:22.395Z"
   },
   {
    "duration": 1304,
    "start_time": "2023-07-18T09:03:48.995Z"
   },
   {
    "duration": 185,
    "start_time": "2023-07-18T09:05:14.136Z"
   },
   {
    "duration": 3,
    "start_time": "2023-07-18T09:05:52.331Z"
   },
   {
    "duration": 828,
    "start_time": "2023-07-18T09:05:52.336Z"
   },
   {
    "duration": 10,
    "start_time": "2023-07-18T09:05:53.166Z"
   },
   {
    "duration": 1452,
    "start_time": "2023-07-18T09:05:53.178Z"
   },
   {
    "duration": 964,
    "start_time": "2023-07-18T09:05:54.633Z"
   },
   {
    "duration": 9,
    "start_time": "2023-07-18T09:05:55.599Z"
   },
   {
    "duration": 511,
    "start_time": "2023-07-18T09:05:55.610Z"
   },
   {
    "duration": 494,
    "start_time": "2023-07-18T09:05:56.123Z"
   },
   {
    "duration": 305,
    "start_time": "2023-07-18T09:05:56.619Z"
   },
   {
    "duration": 8,
    "start_time": "2023-07-18T09:05:56.925Z"
   },
   {
    "duration": 54,
    "start_time": "2023-07-18T09:05:56.935Z"
   },
   {
    "duration": 203,
    "start_time": "2023-07-18T09:05:56.993Z"
   },
   {
    "duration": 9,
    "start_time": "2023-07-18T09:05:57.197Z"
   },
   {
    "duration": 10,
    "start_time": "2023-07-18T09:05:57.210Z"
   },
   {
    "duration": 30,
    "start_time": "2023-07-18T09:05:57.222Z"
   },
   {
    "duration": 11,
    "start_time": "2023-07-18T09:06:00.891Z"
   },
   {
    "duration": 34,
    "start_time": "2023-07-18T09:06:02.188Z"
   },
   {
    "duration": 29,
    "start_time": "2023-07-18T09:06:23.493Z"
   },
   {
    "duration": 30,
    "start_time": "2023-07-18T09:06:37.607Z"
   },
   {
    "duration": 188,
    "start_time": "2023-07-18T09:07:01.108Z"
   },
   {
    "duration": 145,
    "start_time": "2023-07-18T09:07:09.604Z"
   },
   {
    "duration": 36,
    "start_time": "2023-07-18T09:12:41.538Z"
   },
   {
    "duration": 9,
    "start_time": "2023-07-18T09:12:52.991Z"
   },
   {
    "duration": 9,
    "start_time": "2023-07-18T09:13:25.806Z"
   },
   {
    "duration": 1332,
    "start_time": "2023-07-18T09:14:02.366Z"
   },
   {
    "duration": 9,
    "start_time": "2023-07-18T09:15:17.647Z"
   },
   {
    "duration": 9,
    "start_time": "2023-07-18T09:15:55.591Z"
   },
   {
    "duration": 5,
    "start_time": "2023-07-18T09:16:02.811Z"
   },
   {
    "duration": 9,
    "start_time": "2023-07-18T09:17:48.342Z"
   },
   {
    "duration": 18,
    "start_time": "2023-07-18T09:18:01.404Z"
   },
   {
    "duration": 9,
    "start_time": "2023-07-18T09:20:47.198Z"
   },
   {
    "duration": 3,
    "start_time": "2023-07-18T09:25:20.134Z"
   },
   {
    "duration": 762,
    "start_time": "2023-07-18T09:25:20.139Z"
   },
   {
    "duration": 5,
    "start_time": "2023-07-18T09:25:20.903Z"
   },
   {
    "duration": 1303,
    "start_time": "2023-07-18T09:25:20.910Z"
   },
   {
    "duration": 871,
    "start_time": "2023-07-18T09:25:22.215Z"
   },
   {
    "duration": 8,
    "start_time": "2023-07-18T09:25:23.088Z"
   },
   {
    "duration": 11,
    "start_time": "2023-07-18T09:25:23.097Z"
   },
   {
    "duration": 16,
    "start_time": "2023-07-18T09:25:23.110Z"
   },
   {
    "duration": 7,
    "start_time": "2023-07-18T09:25:23.128Z"
   },
   {
    "duration": 22,
    "start_time": "2023-07-18T09:25:29.652Z"
   },
   {
    "duration": 584,
    "start_time": "2023-07-18T09:25:37.574Z"
   },
   {
    "duration": 519,
    "start_time": "2023-07-18T09:25:38.161Z"
   },
   {
    "duration": 289,
    "start_time": "2023-07-18T09:25:39.055Z"
   },
   {
    "duration": 8,
    "start_time": "2023-07-18T09:25:41.642Z"
   },
   {
    "duration": 32,
    "start_time": "2023-07-18T09:25:42.340Z"
   },
   {
    "duration": 206,
    "start_time": "2023-07-18T09:25:42.980Z"
   },
   {
    "duration": 9,
    "start_time": "2023-07-18T09:25:46.237Z"
   },
   {
    "duration": 143,
    "start_time": "2023-07-18T09:25:49.117Z"
   },
   {
    "duration": 8,
    "start_time": "2023-07-18T09:25:58.408Z"
   },
   {
    "duration": 1179,
    "start_time": "2023-07-18T09:26:02.210Z"
   },
   {
    "duration": 807,
    "start_time": "2023-07-18T09:27:27.199Z"
   },
   {
    "duration": 1284,
    "start_time": "2023-07-18T09:27:35.555Z"
   },
   {
    "duration": 1171,
    "start_time": "2023-07-18T09:27:43.637Z"
   },
   {
    "duration": 2277,
    "start_time": "2023-07-18T09:27:49.069Z"
   },
   {
    "duration": 1097,
    "start_time": "2023-07-18T09:27:56.052Z"
   },
   {
    "duration": 6,
    "start_time": "2023-07-18T09:28:27.839Z"
   },
   {
    "duration": 12,
    "start_time": "2023-07-18T09:28:44.142Z"
   },
   {
    "duration": 13,
    "start_time": "2023-07-18T09:29:03.280Z"
   },
   {
    "duration": 11,
    "start_time": "2023-07-18T09:29:38.051Z"
   },
   {
    "duration": 9,
    "start_time": "2023-07-18T09:29:41.880Z"
   },
   {
    "duration": 28,
    "start_time": "2023-07-18T09:30:01.522Z"
   },
   {
    "duration": 27,
    "start_time": "2023-07-18T09:31:18.681Z"
   },
   {
    "duration": 41,
    "start_time": "2023-07-18T09:31:51.838Z"
   },
   {
    "duration": 33,
    "start_time": "2023-07-18T09:32:02.993Z"
   },
   {
    "duration": 109,
    "start_time": "2023-07-18T09:33:14.040Z"
   },
   {
    "duration": 76,
    "start_time": "2023-07-18T09:33:54.810Z"
   },
   {
    "duration": 39,
    "start_time": "2023-07-18T09:36:12.152Z"
   },
   {
    "duration": 4,
    "start_time": "2023-07-18T09:36:43.651Z"
   },
   {
    "duration": 33,
    "start_time": "2023-07-18T09:36:46.147Z"
   },
   {
    "duration": 16,
    "start_time": "2023-07-18T09:37:01.243Z"
   },
   {
    "duration": 16,
    "start_time": "2023-07-18T09:37:08.017Z"
   },
   {
    "duration": 15,
    "start_time": "2023-07-18T09:37:39.500Z"
   },
   {
    "duration": 20,
    "start_time": "2023-07-18T09:39:29.637Z"
   },
   {
    "duration": 16,
    "start_time": "2023-07-18T09:39:50.236Z"
   },
   {
    "duration": 20,
    "start_time": "2023-07-18T09:39:50.645Z"
   },
   {
    "duration": 16,
    "start_time": "2023-07-18T09:39:51.367Z"
   },
   {
    "duration": 5,
    "start_time": "2023-07-18T09:40:08.489Z"
   },
   {
    "duration": 22,
    "start_time": "2023-07-18T09:40:13.331Z"
   },
   {
    "duration": 17,
    "start_time": "2023-07-18T09:41:06.368Z"
   },
   {
    "duration": 18,
    "start_time": "2023-07-18T09:41:43.441Z"
   },
   {
    "duration": 26,
    "start_time": "2023-07-18T09:41:44.210Z"
   },
   {
    "duration": 18,
    "start_time": "2023-07-18T09:41:44.796Z"
   },
   {
    "duration": 19,
    "start_time": "2023-07-18T09:43:08.991Z"
   },
   {
    "duration": 18,
    "start_time": "2023-07-18T09:43:09.672Z"
   },
   {
    "duration": 19,
    "start_time": "2023-07-18T09:43:10.310Z"
   },
   {
    "duration": 17,
    "start_time": "2023-07-18T09:45:36.137Z"
   },
   {
    "duration": 22,
    "start_time": "2023-07-18T09:45:36.758Z"
   },
   {
    "duration": 30,
    "start_time": "2023-07-18T09:45:37.214Z"
   },
   {
    "duration": 16,
    "start_time": "2023-07-18T09:50:15.173Z"
   },
   {
    "duration": 18,
    "start_time": "2023-07-18T09:50:15.557Z"
   },
   {
    "duration": 18,
    "start_time": "2023-07-18T09:50:16.383Z"
   },
   {
    "duration": 10,
    "start_time": "2023-07-18T10:01:16.086Z"
   },
   {
    "duration": 11,
    "start_time": "2023-07-18T10:01:44.390Z"
   },
   {
    "duration": 12,
    "start_time": "2023-07-18T10:01:51.167Z"
   },
   {
    "duration": 13,
    "start_time": "2023-07-18T10:01:56.398Z"
   },
   {
    "duration": 12,
    "start_time": "2023-07-18T10:02:27.397Z"
   },
   {
    "duration": 4,
    "start_time": "2023-07-18T10:02:30.912Z"
   },
   {
    "duration": 10,
    "start_time": "2023-07-18T10:02:38.869Z"
   },
   {
    "duration": 14,
    "start_time": "2023-07-18T10:02:42.666Z"
   },
   {
    "duration": 4,
    "start_time": "2023-07-18T10:04:02.534Z"
   },
   {
    "duration": 5,
    "start_time": "2023-07-18T10:04:17.069Z"
   },
   {
    "duration": 319,
    "start_time": "2023-07-18T10:04:27.177Z"
   },
   {
    "duration": 10,
    "start_time": "2023-07-18T10:04:32.439Z"
   },
   {
    "duration": 617,
    "start_time": "2023-07-18T10:05:28.996Z"
   },
   {
    "duration": 264,
    "start_time": "2023-07-18T10:06:59.240Z"
   },
   {
    "duration": 2,
    "start_time": "2023-07-18T10:08:40.438Z"
   },
   {
    "duration": 74,
    "start_time": "2023-07-18T10:08:41.923Z"
   },
   {
    "duration": 4,
    "start_time": "2023-07-18T10:08:54.471Z"
   },
   {
    "duration": 784,
    "start_time": "2023-07-18T10:08:54.490Z"
   },
   {
    "duration": 6,
    "start_time": "2023-07-18T10:08:55.276Z"
   },
   {
    "duration": 1270,
    "start_time": "2023-07-18T10:08:55.283Z"
   },
   {
    "duration": 839,
    "start_time": "2023-07-18T10:08:56.555Z"
   },
   {
    "duration": 7,
    "start_time": "2023-07-18T10:08:57.396Z"
   },
   {
    "duration": 19,
    "start_time": "2023-07-18T10:08:57.404Z"
   },
   {
    "duration": 16,
    "start_time": "2023-07-18T10:08:57.424Z"
   },
   {
    "duration": 7,
    "start_time": "2023-07-18T10:08:57.442Z"
   },
   {
    "duration": 26,
    "start_time": "2023-07-18T10:08:57.451Z"
   },
   {
    "duration": 472,
    "start_time": "2023-07-18T10:08:57.479Z"
   },
   {
    "duration": 475,
    "start_time": "2023-07-18T10:08:57.953Z"
   },
   {
    "duration": 249,
    "start_time": "2023-07-18T10:08:58.430Z"
   },
   {
    "duration": 7,
    "start_time": "2023-07-18T10:08:58.681Z"
   },
   {
    "duration": 32,
    "start_time": "2023-07-18T10:08:58.689Z"
   },
   {
    "duration": 187,
    "start_time": "2023-07-18T10:08:58.723Z"
   },
   {
    "duration": 8,
    "start_time": "2023-07-18T10:08:58.911Z"
   },
   {
    "duration": 160,
    "start_time": "2023-07-18T10:08:58.920Z"
   },
   {
    "duration": 7,
    "start_time": "2023-07-18T10:08:59.082Z"
   },
   {
    "duration": 1106,
    "start_time": "2023-07-18T10:08:59.090Z"
   },
   {
    "duration": 8,
    "start_time": "2023-07-18T10:09:00.198Z"
   },
   {
    "duration": 52,
    "start_time": "2023-07-18T10:09:00.208Z"
   },
   {
    "duration": 58,
    "start_time": "2023-07-18T10:09:00.262Z"
   },
   {
    "duration": 37,
    "start_time": "2023-07-18T10:09:00.322Z"
   },
   {
    "duration": 62,
    "start_time": "2023-07-18T10:09:00.361Z"
   },
   {
    "duration": 100,
    "start_time": "2023-07-18T10:09:00.424Z"
   },
   {
    "duration": 17,
    "start_time": "2023-07-18T10:09:09.372Z"
   },
   {
    "duration": 79,
    "start_time": "2023-07-18T10:09:13.210Z"
   },
   {
    "duration": 3,
    "start_time": "2023-07-18T10:09:15.954Z"
   },
   {
    "duration": 78,
    "start_time": "2023-07-18T10:09:17.814Z"
   },
   {
    "duration": 16,
    "start_time": "2023-07-18T10:09:26.849Z"
   },
   {
    "duration": 23,
    "start_time": "2023-07-18T10:14:12.793Z"
   },
   {
    "duration": 79,
    "start_time": "2023-07-18T10:14:41.603Z"
   },
   {
    "duration": 103,
    "start_time": "2023-07-18T10:19:44.365Z"
   },
   {
    "duration": 3,
    "start_time": "2023-07-18T10:27:35.790Z"
   },
   {
    "duration": 776,
    "start_time": "2023-07-18T10:27:35.955Z"
   },
   {
    "duration": 6,
    "start_time": "2023-07-18T10:27:45.923Z"
   },
   {
    "duration": 1362,
    "start_time": "2023-07-18T10:27:45.931Z"
   },
   {
    "duration": 855,
    "start_time": "2023-07-18T10:27:47.295Z"
   },
   {
    "duration": 17,
    "start_time": "2023-07-18T10:27:48.151Z"
   },
   {
    "duration": 16,
    "start_time": "2023-07-18T10:27:48.170Z"
   },
   {
    "duration": 20,
    "start_time": "2023-07-18T10:27:48.188Z"
   },
   {
    "duration": 16,
    "start_time": "2023-07-18T10:27:48.210Z"
   },
   {
    "duration": 23,
    "start_time": "2023-07-18T10:27:48.228Z"
   },
   {
    "duration": 491,
    "start_time": "2023-07-18T10:27:48.253Z"
   },
   {
    "duration": 436,
    "start_time": "2023-07-18T10:27:48.745Z"
   },
   {
    "duration": 255,
    "start_time": "2023-07-18T10:27:49.184Z"
   },
   {
    "duration": 8,
    "start_time": "2023-07-18T10:27:49.441Z"
   },
   {
    "duration": 45,
    "start_time": "2023-07-18T10:27:49.451Z"
   },
   {
    "duration": 172,
    "start_time": "2023-07-18T10:27:55.772Z"
   },
   {
    "duration": 4,
    "start_time": "2023-07-18T10:29:43.273Z"
   },
   {
    "duration": 859,
    "start_time": "2023-07-18T10:29:43.655Z"
   },
   {
    "duration": 6,
    "start_time": "2023-07-18T10:29:44.516Z"
   },
   {
    "duration": 1430,
    "start_time": "2023-07-18T10:29:44.524Z"
   },
   {
    "duration": 717,
    "start_time": "2023-07-18T10:29:45.956Z"
   },
   {
    "duration": 7,
    "start_time": "2023-07-18T10:29:46.675Z"
   },
   {
    "duration": 9,
    "start_time": "2023-07-18T10:29:46.684Z"
   },
   {
    "duration": 17,
    "start_time": "2023-07-18T10:29:46.695Z"
   },
   {
    "duration": 8,
    "start_time": "2023-07-18T10:29:46.713Z"
   },
   {
    "duration": 50,
    "start_time": "2023-07-18T10:29:46.722Z"
   },
   {
    "duration": 490,
    "start_time": "2023-07-18T10:29:46.774Z"
   },
   {
    "duration": 467,
    "start_time": "2023-07-18T10:29:47.267Z"
   },
   {
    "duration": 239,
    "start_time": "2023-07-18T10:29:47.736Z"
   },
   {
    "duration": 7,
    "start_time": "2023-07-18T10:29:47.977Z"
   },
   {
    "duration": 32,
    "start_time": "2023-07-18T10:29:47.985Z"
   },
   {
    "duration": 156,
    "start_time": "2023-07-18T10:29:52.953Z"
   },
   {
    "duration": 1017,
    "start_time": "2023-07-18T10:30:39.794Z"
   },
   {
    "duration": 163,
    "start_time": "2023-07-18T10:30:51.086Z"
   },
   {
    "duration": 41,
    "start_time": "2023-07-18T10:31:45.252Z"
   },
   {
    "duration": 3,
    "start_time": "2023-07-18T10:32:11.768Z"
   },
   {
    "duration": 701,
    "start_time": "2023-07-18T10:32:11.982Z"
   },
   {
    "duration": 5,
    "start_time": "2023-07-18T10:32:12.722Z"
   },
   {
    "duration": 1303,
    "start_time": "2023-07-18T10:32:13.002Z"
   },
   {
    "duration": 699,
    "start_time": "2023-07-18T10:32:14.307Z"
   },
   {
    "duration": 8,
    "start_time": "2023-07-18T10:32:15.008Z"
   },
   {
    "duration": 63,
    "start_time": "2023-07-18T10:32:15.018Z"
   },
   {
    "duration": 43,
    "start_time": "2023-07-18T10:32:15.083Z"
   },
   {
    "duration": 8,
    "start_time": "2023-07-18T10:32:17.751Z"
   },
   {
    "duration": 15,
    "start_time": "2023-07-18T10:32:17.997Z"
   },
   {
    "duration": 459,
    "start_time": "2023-07-18T10:32:18.014Z"
   },
   {
    "duration": 447,
    "start_time": "2023-07-18T10:32:18.474Z"
   },
   {
    "duration": 225,
    "start_time": "2023-07-18T10:32:34.599Z"
   },
   {
    "duration": 6,
    "start_time": "2023-07-18T10:32:34.826Z"
   },
   {
    "duration": 38,
    "start_time": "2023-07-18T10:32:34.834Z"
   },
   {
    "duration": 171,
    "start_time": "2023-07-18T10:32:34.873Z"
   },
   {
    "duration": 48,
    "start_time": "2023-07-18T10:32:35.046Z"
   },
   {
    "duration": 42,
    "start_time": "2023-07-18T10:34:30.568Z"
   },
   {
    "duration": 3,
    "start_time": "2023-07-18T10:37:08.040Z"
   },
   {
    "duration": 763,
    "start_time": "2023-07-18T10:37:08.117Z"
   },
   {
    "duration": 5,
    "start_time": "2023-07-18T10:37:08.882Z"
   },
   {
    "duration": 1272,
    "start_time": "2023-07-18T10:37:08.888Z"
   },
   {
    "duration": 689,
    "start_time": "2023-07-18T10:37:10.167Z"
   },
   {
    "duration": 15,
    "start_time": "2023-07-18T10:37:10.857Z"
   },
   {
    "duration": 9,
    "start_time": "2023-07-18T10:37:10.873Z"
   },
   {
    "duration": 15,
    "start_time": "2023-07-18T10:37:10.883Z"
   },
   {
    "duration": 7,
    "start_time": "2023-07-18T10:37:10.900Z"
   },
   {
    "duration": 15,
    "start_time": "2023-07-18T10:37:10.909Z"
   },
   {
    "duration": 539,
    "start_time": "2023-07-18T10:37:10.927Z"
   },
   {
    "duration": 459,
    "start_time": "2023-07-18T10:37:11.468Z"
   },
   {
    "duration": 239,
    "start_time": "2023-07-18T10:37:11.929Z"
   },
   {
    "duration": 7,
    "start_time": "2023-07-18T10:37:12.170Z"
   },
   {
    "duration": 26,
    "start_time": "2023-07-18T10:37:12.178Z"
   },
   {
    "duration": 328,
    "start_time": "2023-07-18T10:37:12.205Z"
   },
   {
    "duration": 8,
    "start_time": "2023-07-18T10:37:12.534Z"
   },
   {
    "duration": 138,
    "start_time": "2023-07-18T10:37:12.544Z"
   },
   {
    "duration": 8,
    "start_time": "2023-07-18T10:37:12.683Z"
   },
   {
    "duration": 1127,
    "start_time": "2023-07-18T10:37:12.692Z"
   },
   {
    "duration": 9,
    "start_time": "2023-07-18T10:37:13.820Z"
   },
   {
    "duration": 10,
    "start_time": "2023-07-18T10:37:13.831Z"
   },
   {
    "duration": 4,
    "start_time": "2023-07-18T10:37:13.843Z"
   },
   {
    "duration": 13,
    "start_time": "2023-07-18T10:37:13.869Z"
   },
   {
    "duration": 3,
    "start_time": "2023-07-18T10:37:13.883Z"
   },
   {
    "duration": 116,
    "start_time": "2023-07-18T10:37:13.888Z"
   },
   {
    "duration": 111,
    "start_time": "2023-07-18T10:37:14.006Z"
   },
   {
    "duration": 107,
    "start_time": "2023-07-18T10:37:14.119Z"
   },
   {
    "duration": 79,
    "start_time": "2023-07-18T10:37:14.229Z"
   },
   {
    "duration": 116,
    "start_time": "2023-07-18T10:58:05.156Z"
   },
   {
    "duration": 123,
    "start_time": "2023-07-18T10:58:18.460Z"
   },
   {
    "duration": 134,
    "start_time": "2023-07-18T10:58:32.360Z"
   },
   {
    "duration": 133,
    "start_time": "2023-07-18T11:00:43.356Z"
   },
   {
    "duration": 129,
    "start_time": "2023-07-18T11:00:48.213Z"
   },
   {
    "duration": 130,
    "start_time": "2023-07-18T11:00:54.472Z"
   },
   {
    "duration": 170,
    "start_time": "2023-07-18T11:01:18.956Z"
   },
   {
    "duration": 35,
    "start_time": "2023-07-18T11:01:44.556Z"
   },
   {
    "duration": 29,
    "start_time": "2023-07-18T11:01:52.001Z"
   },
   {
    "duration": 124,
    "start_time": "2023-07-18T11:03:06.717Z"
   },
   {
    "duration": 123,
    "start_time": "2023-07-18T11:03:34.506Z"
   },
   {
    "duration": 11,
    "start_time": "2023-07-18T11:12:12.109Z"
   },
   {
    "duration": 9,
    "start_time": "2023-07-18T11:12:30.014Z"
   },
   {
    "duration": 3,
    "start_time": "2023-07-18T11:46:45.431Z"
   },
   {
    "duration": 819,
    "start_time": "2023-07-18T11:46:45.448Z"
   },
   {
    "duration": 6,
    "start_time": "2023-07-18T11:46:46.269Z"
   },
   {
    "duration": 1348,
    "start_time": "2023-07-18T11:46:46.276Z"
   },
   {
    "duration": 884,
    "start_time": "2023-07-18T11:46:47.625Z"
   },
   {
    "duration": 8,
    "start_time": "2023-07-18T11:46:48.511Z"
   },
   {
    "duration": 16,
    "start_time": "2023-07-18T11:46:48.520Z"
   },
   {
    "duration": 16,
    "start_time": "2023-07-18T11:46:48.538Z"
   },
   {
    "duration": 8,
    "start_time": "2023-07-18T11:46:48.568Z"
   },
   {
    "duration": 18,
    "start_time": "2023-07-18T11:46:48.578Z"
   },
   {
    "duration": 482,
    "start_time": "2023-07-18T11:46:48.597Z"
   },
   {
    "duration": 444,
    "start_time": "2023-07-18T11:46:49.081Z"
   },
   {
    "duration": 227,
    "start_time": "2023-07-18T11:46:49.527Z"
   },
   {
    "duration": 13,
    "start_time": "2023-07-18T11:46:49.756Z"
   },
   {
    "duration": 25,
    "start_time": "2023-07-18T11:46:49.771Z"
   },
   {
    "duration": 20,
    "start_time": "2023-07-18T11:46:49.797Z"
   },
   {
    "duration": 178,
    "start_time": "2023-07-18T11:46:49.819Z"
   },
   {
    "duration": 10,
    "start_time": "2023-07-18T11:46:49.999Z"
   },
   {
    "duration": 148,
    "start_time": "2023-07-18T11:46:50.010Z"
   },
   {
    "duration": 17,
    "start_time": "2023-07-18T11:46:50.159Z"
   },
   {
    "duration": 1089,
    "start_time": "2023-07-18T11:46:50.178Z"
   },
   {
    "duration": 9,
    "start_time": "2023-07-18T11:46:51.268Z"
   },
   {
    "duration": 177,
    "start_time": "2023-07-18T11:46:51.278Z"
   },
   {
    "duration": 130,
    "start_time": "2023-07-18T11:46:51.457Z"
   },
   {
    "duration": 9,
    "start_time": "2023-07-18T11:46:51.588Z"
   },
   {
    "duration": 15,
    "start_time": "2023-07-18T11:46:51.598Z"
   },
   {
    "duration": 18,
    "start_time": "2023-07-18T11:46:51.615Z"
   },
   {
    "duration": 10,
    "start_time": "2023-07-18T11:48:06.844Z"
   },
   {
    "duration": 4,
    "start_time": "2023-07-18T11:48:08.975Z"
   },
   {
    "duration": 3,
    "start_time": "2023-07-18T11:48:32.340Z"
   },
   {
    "duration": 780,
    "start_time": "2023-07-18T11:48:32.345Z"
   },
   {
    "duration": 5,
    "start_time": "2023-07-18T11:48:33.127Z"
   },
   {
    "duration": 1383,
    "start_time": "2023-07-18T11:48:33.134Z"
   },
   {
    "duration": 906,
    "start_time": "2023-07-18T11:48:34.519Z"
   },
   {
    "duration": 7,
    "start_time": "2023-07-18T11:48:35.427Z"
   },
   {
    "duration": 21,
    "start_time": "2023-07-18T11:48:35.435Z"
   },
   {
    "duration": 30,
    "start_time": "2023-07-18T11:48:35.458Z"
   },
   {
    "duration": 8,
    "start_time": "2023-07-18T11:48:35.490Z"
   },
   {
    "duration": 20,
    "start_time": "2023-07-18T11:48:35.500Z"
   },
   {
    "duration": 489,
    "start_time": "2023-07-18T11:48:35.523Z"
   },
   {
    "duration": 414,
    "start_time": "2023-07-18T11:48:36.014Z"
   },
   {
    "duration": 251,
    "start_time": "2023-07-18T11:48:36.430Z"
   },
   {
    "duration": 6,
    "start_time": "2023-07-18T11:48:36.683Z"
   },
   {
    "duration": 33,
    "start_time": "2023-07-18T11:48:36.699Z"
   },
   {
    "duration": 37,
    "start_time": "2023-07-18T11:48:36.733Z"
   },
   {
    "duration": 170,
    "start_time": "2023-07-18T11:48:36.772Z"
   },
   {
    "duration": 8,
    "start_time": "2023-07-18T11:48:36.944Z"
   },
   {
    "duration": 154,
    "start_time": "2023-07-18T11:48:36.953Z"
   },
   {
    "duration": 7,
    "start_time": "2023-07-18T11:48:37.109Z"
   },
   {
    "duration": 1085,
    "start_time": "2023-07-18T11:48:37.118Z"
   },
   {
    "duration": 9,
    "start_time": "2023-07-18T11:48:38.204Z"
   },
   {
    "duration": 189,
    "start_time": "2023-07-18T11:48:38.215Z"
   },
   {
    "duration": 141,
    "start_time": "2023-07-18T11:48:38.406Z"
   },
   {
    "duration": 20,
    "start_time": "2023-07-18T11:48:38.549Z"
   },
   {
    "duration": 6,
    "start_time": "2023-07-18T11:48:38.570Z"
   },
   {
    "duration": 9,
    "start_time": "2023-07-18T11:48:38.577Z"
   },
   {
    "duration": 103,
    "start_time": "2023-07-18T11:48:38.588Z"
   },
   {
    "duration": 79,
    "start_time": "2023-07-18T11:48:38.694Z"
   },
   {
    "duration": 84,
    "start_time": "2023-07-18T11:48:38.775Z"
   },
   {
    "duration": 64,
    "start_time": "2023-07-18T11:48:38.868Z"
   },
   {
    "duration": 21,
    "start_time": "2023-07-18T11:57:42.617Z"
   },
   {
    "duration": 27,
    "start_time": "2023-07-18T12:05:26.181Z"
   },
   {
    "duration": 103,
    "start_time": "2023-07-18T12:05:37.813Z"
   },
   {
    "duration": 20,
    "start_time": "2023-07-18T12:06:19.928Z"
   },
   {
    "duration": 4,
    "start_time": "2023-07-18T12:06:28.289Z"
   },
   {
    "duration": 4,
    "start_time": "2023-07-18T12:07:32.975Z"
   },
   {
    "duration": 4,
    "start_time": "2023-07-18T12:07:43.856Z"
   },
   {
    "duration": 5,
    "start_time": "2023-07-18T12:07:49.711Z"
   },
   {
    "duration": 21,
    "start_time": "2023-07-18T12:08:01.096Z"
   },
   {
    "duration": 4,
    "start_time": "2023-07-18T12:09:26.534Z"
   },
   {
    "duration": 3,
    "start_time": "2023-07-18T12:10:00.276Z"
   },
   {
    "duration": 837,
    "start_time": "2023-07-18T12:10:00.281Z"
   },
   {
    "duration": 5,
    "start_time": "2023-07-18T12:10:01.120Z"
   },
   {
    "duration": 1409,
    "start_time": "2023-07-18T12:10:01.128Z"
   },
   {
    "duration": 701,
    "start_time": "2023-07-18T12:10:02.539Z"
   },
   {
    "duration": 7,
    "start_time": "2023-07-18T12:10:03.242Z"
   },
   {
    "duration": 24,
    "start_time": "2023-07-18T12:10:03.251Z"
   },
   {
    "duration": 26,
    "start_time": "2023-07-18T12:10:03.277Z"
   },
   {
    "duration": 36,
    "start_time": "2023-07-18T12:10:03.305Z"
   },
   {
    "duration": 42,
    "start_time": "2023-07-18T12:10:03.343Z"
   },
   {
    "duration": 480,
    "start_time": "2023-07-18T12:10:03.388Z"
   },
   {
    "duration": 486,
    "start_time": "2023-07-18T12:10:03.870Z"
   },
   {
    "duration": 242,
    "start_time": "2023-07-18T12:10:04.357Z"
   },
   {
    "duration": 7,
    "start_time": "2023-07-18T12:10:04.601Z"
   },
   {
    "duration": 29,
    "start_time": "2023-07-18T12:10:04.609Z"
   },
   {
    "duration": 39,
    "start_time": "2023-07-18T12:10:04.639Z"
   },
   {
    "duration": 28,
    "start_time": "2023-07-18T12:10:04.679Z"
   },
   {
    "duration": 44,
    "start_time": "2023-07-18T12:10:04.709Z"
   },
   {
    "duration": 20,
    "start_time": "2023-07-18T12:10:04.754Z"
   },
   {
    "duration": 363,
    "start_time": "2023-07-18T12:10:04.776Z"
   },
   {
    "duration": 8,
    "start_time": "2023-07-18T12:10:05.141Z"
   },
   {
    "duration": 139,
    "start_time": "2023-07-18T12:10:05.151Z"
   },
   {
    "duration": 9,
    "start_time": "2023-07-18T12:10:05.292Z"
   },
   {
    "duration": 550,
    "start_time": "2023-07-18T12:10:05.302Z"
   },
   {
    "duration": 22,
    "start_time": "2023-07-18T12:10:05.854Z"
   },
   {
    "duration": 178,
    "start_time": "2023-07-18T12:10:05.878Z"
   },
   {
    "duration": 137,
    "start_time": "2023-07-18T12:10:06.057Z"
   },
   {
    "duration": 10,
    "start_time": "2023-07-18T12:10:06.195Z"
   },
   {
    "duration": 13,
    "start_time": "2023-07-18T12:10:06.207Z"
   },
   {
    "duration": 23,
    "start_time": "2023-07-18T12:10:06.221Z"
   },
   {
    "duration": 90,
    "start_time": "2023-07-18T12:10:06.246Z"
   },
   {
    "duration": 78,
    "start_time": "2023-07-18T12:10:06.337Z"
   },
   {
    "duration": 85,
    "start_time": "2023-07-18T12:10:06.416Z"
   },
   {
    "duration": 68,
    "start_time": "2023-07-18T12:10:06.503Z"
   },
   {
    "duration": 16,
    "start_time": "2023-07-18T12:10:06.573Z"
   },
   {
    "duration": 88,
    "start_time": "2023-07-18T12:11:24.493Z"
   },
   {
    "duration": 4,
    "start_time": "2023-07-18T12:11:24.973Z"
   },
   {
    "duration": 16,
    "start_time": "2023-07-18T12:11:33.656Z"
   },
   {
    "duration": 3,
    "start_time": "2023-07-18T12:13:08.013Z"
   },
   {
    "duration": 873,
    "start_time": "2023-07-18T12:13:08.045Z"
   },
   {
    "duration": 6,
    "start_time": "2023-07-18T12:13:08.920Z"
   },
   {
    "duration": 1389,
    "start_time": "2023-07-18T12:13:08.928Z"
   },
   {
    "duration": 709,
    "start_time": "2023-07-18T12:13:10.320Z"
   },
   {
    "duration": 10,
    "start_time": "2023-07-18T12:13:11.031Z"
   },
   {
    "duration": 29,
    "start_time": "2023-07-18T12:13:11.043Z"
   },
   {
    "duration": 19,
    "start_time": "2023-07-18T12:13:11.075Z"
   },
   {
    "duration": 10,
    "start_time": "2023-07-18T12:13:11.096Z"
   },
   {
    "duration": 20,
    "start_time": "2023-07-18T12:13:11.107Z"
   },
   {
    "duration": 562,
    "start_time": "2023-07-18T12:13:11.131Z"
   },
   {
    "duration": 476,
    "start_time": "2023-07-18T12:13:11.694Z"
   },
   {
    "duration": 276,
    "start_time": "2023-07-18T12:13:12.172Z"
   },
   {
    "duration": 13,
    "start_time": "2023-07-18T12:13:12.450Z"
   },
   {
    "duration": 33,
    "start_time": "2023-07-18T12:13:12.468Z"
   },
   {
    "duration": 23,
    "start_time": "2023-07-18T12:13:12.503Z"
   },
   {
    "duration": 42,
    "start_time": "2023-07-18T12:13:12.527Z"
   },
   {
    "duration": 25,
    "start_time": "2023-07-18T12:13:12.572Z"
   },
   {
    "duration": 31,
    "start_time": "2023-07-18T12:13:12.599Z"
   },
   {
    "duration": 42,
    "start_time": "2023-07-18T12:13:12.632Z"
   },
   {
    "duration": 178,
    "start_time": "2023-07-18T12:13:12.675Z"
   },
   {
    "duration": 14,
    "start_time": "2023-07-18T12:13:12.855Z"
   },
   {
    "duration": 144,
    "start_time": "2023-07-18T12:13:12.871Z"
   },
   {
    "duration": 8,
    "start_time": "2023-07-18T12:13:13.017Z"
   },
   {
    "duration": 678,
    "start_time": "2023-07-18T12:13:13.026Z"
   },
   {
    "duration": 9,
    "start_time": "2023-07-18T12:13:13.706Z"
   },
   {
    "duration": 198,
    "start_time": "2023-07-18T12:13:13.717Z"
   },
   {
    "duration": 205,
    "start_time": "2023-07-18T12:13:13.917Z"
   },
   {
    "duration": 11,
    "start_time": "2023-07-18T12:13:14.127Z"
   },
   {
    "duration": 7,
    "start_time": "2023-07-18T12:13:14.141Z"
   },
   {
    "duration": 27,
    "start_time": "2023-07-18T12:13:14.150Z"
   },
   {
    "duration": 108,
    "start_time": "2023-07-18T12:13:14.179Z"
   },
   {
    "duration": 87,
    "start_time": "2023-07-18T12:13:14.289Z"
   },
   {
    "duration": 97,
    "start_time": "2023-07-18T12:13:14.378Z"
   },
   {
    "duration": 60,
    "start_time": "2023-07-18T12:13:14.477Z"
   },
   {
    "duration": 15,
    "start_time": "2023-07-18T12:13:14.539Z"
   },
   {
    "duration": 84,
    "start_time": "2023-07-18T12:13:14.569Z"
   },
   {
    "duration": 4,
    "start_time": "2023-07-18T12:13:24.967Z"
   },
   {
    "duration": 16,
    "start_time": "2023-07-18T12:13:28.601Z"
   },
   {
    "duration": 76,
    "start_time": "2023-07-18T12:14:44.686Z"
   },
   {
    "duration": 3,
    "start_time": "2023-07-18T12:15:30.525Z"
   },
   {
    "duration": 8,
    "start_time": "2023-07-18T12:16:02.991Z"
   },
   {
    "duration": 1519,
    "start_time": "2023-07-18T12:18:26.347Z"
   },
   {
    "duration": 1132,
    "start_time": "2023-07-18T12:18:34.620Z"
   },
   {
    "duration": 3125,
    "start_time": "2023-07-18T12:19:14.501Z"
   },
   {
    "duration": 54,
    "start_time": "2023-07-18T15:40:45.349Z"
   },
   {
    "duration": 1725,
    "start_time": "2023-07-18T15:40:53.543Z"
   },
   {
    "duration": 1112,
    "start_time": "2023-07-18T15:40:55.270Z"
   },
   {
    "duration": 5,
    "start_time": "2023-07-18T15:40:56.383Z"
   },
   {
    "duration": 1352,
    "start_time": "2023-07-18T15:40:56.389Z"
   },
   {
    "duration": 836,
    "start_time": "2023-07-18T15:40:57.743Z"
   },
   {
    "duration": 11,
    "start_time": "2023-07-18T15:40:58.581Z"
   },
   {
    "duration": 160,
    "start_time": "2023-07-18T15:40:58.593Z"
   },
   {
    "duration": 38,
    "start_time": "2023-07-18T15:40:58.755Z"
   },
   {
    "duration": 33,
    "start_time": "2023-07-18T15:40:58.795Z"
   },
   {
    "duration": 9,
    "start_time": "2023-07-18T15:46:41.262Z"
   },
   {
    "duration": 200,
    "start_time": "2023-07-18T15:46:49.422Z"
   },
   {
    "duration": 137,
    "start_time": "2023-07-18T15:50:09.331Z"
   },
   {
    "duration": 13,
    "start_time": "2023-07-18T15:50:58.454Z"
   },
   {
    "duration": 6,
    "start_time": "2023-07-18T15:51:20.995Z"
   },
   {
    "duration": 167,
    "start_time": "2023-07-18T16:10:31.165Z"
   },
   {
    "duration": 143,
    "start_time": "2023-07-18T16:18:09.454Z"
   },
   {
    "duration": 118,
    "start_time": "2023-07-18T16:18:21.351Z"
   },
   {
    "duration": 4,
    "start_time": "2023-07-18T16:18:33.472Z"
   },
   {
    "duration": 825,
    "start_time": "2023-07-18T16:18:33.478Z"
   },
   {
    "duration": 6,
    "start_time": "2023-07-18T16:18:34.308Z"
   },
   {
    "duration": 1448,
    "start_time": "2023-07-18T16:18:34.316Z"
   },
   {
    "duration": 893,
    "start_time": "2023-07-18T16:18:35.766Z"
   },
   {
    "duration": 9,
    "start_time": "2023-07-18T16:18:36.661Z"
   },
   {
    "duration": 16,
    "start_time": "2023-07-18T16:18:36.672Z"
   },
   {
    "duration": 37,
    "start_time": "2023-07-18T16:18:36.691Z"
   },
   {
    "duration": 19,
    "start_time": "2023-07-18T16:18:36.729Z"
   },
   {
    "duration": 8,
    "start_time": "2023-07-18T16:18:48.754Z"
   },
   {
    "duration": 129,
    "start_time": "2023-07-18T16:18:49.703Z"
   },
   {
    "duration": 10,
    "start_time": "2023-07-18T16:18:50.189Z"
   },
   {
    "duration": 160,
    "start_time": "2023-07-18T16:21:45.562Z"
   },
   {
    "duration": 22,
    "start_time": "2023-07-18T16:25:07.024Z"
   },
   {
    "duration": 25,
    "start_time": "2023-07-18T16:25:24.993Z"
   },
   {
    "duration": 80,
    "start_time": "2023-07-18T16:27:07.229Z"
   },
   {
    "duration": 10,
    "start_time": "2023-07-18T16:27:10.451Z"
   },
   {
    "duration": 3,
    "start_time": "2023-07-18T16:53:35.300Z"
   },
   {
    "duration": 777,
    "start_time": "2023-07-18T16:53:35.365Z"
   },
   {
    "duration": 5,
    "start_time": "2023-07-18T16:53:36.144Z"
   },
   {
    "duration": 1203,
    "start_time": "2023-07-18T16:53:36.151Z"
   },
   {
    "duration": 723,
    "start_time": "2023-07-18T16:53:37.356Z"
   },
   {
    "duration": 9,
    "start_time": "2023-07-18T16:53:38.081Z"
   },
   {
    "duration": 33,
    "start_time": "2023-07-18T16:53:38.091Z"
   },
   {
    "duration": 8,
    "start_time": "2023-07-18T16:53:38.126Z"
   },
   {
    "duration": 14,
    "start_time": "2023-07-18T16:53:38.136Z"
   },
   {
    "duration": 10,
    "start_time": "2023-07-18T16:54:01.874Z"
   },
   {
    "duration": 9,
    "start_time": "2023-07-18T16:54:03.164Z"
   },
   {
    "duration": 117,
    "start_time": "2023-07-18T16:54:28.047Z"
   },
   {
    "duration": 151,
    "start_time": "2023-07-18T16:54:34.775Z"
   },
   {
    "duration": 261,
    "start_time": "2023-07-18T16:54:53.973Z"
   },
   {
    "duration": 10,
    "start_time": "2023-07-18T16:55:01.569Z"
   },
   {
    "duration": 9,
    "start_time": "2023-07-18T17:00:51.998Z"
   },
   {
    "duration": 9,
    "start_time": "2023-07-18T17:02:18.481Z"
   },
   {
    "duration": 10,
    "start_time": "2023-07-18T17:02:30.185Z"
   },
   {
    "duration": 9,
    "start_time": "2023-07-18T17:02:35.129Z"
   },
   {
    "duration": 14,
    "start_time": "2023-07-18T17:05:17.410Z"
   },
   {
    "duration": 10,
    "start_time": "2023-07-18T17:05:45.205Z"
   },
   {
    "duration": 10,
    "start_time": "2023-07-18T17:06:14.001Z"
   },
   {
    "duration": 16,
    "start_time": "2023-07-18T17:06:21.990Z"
   },
   {
    "duration": 44,
    "start_time": "2023-07-18T17:07:46.890Z"
   },
   {
    "duration": 20,
    "start_time": "2023-07-18T17:07:50.853Z"
   },
   {
    "duration": 121,
    "start_time": "2023-07-18T17:09:28.088Z"
   },
   {
    "duration": 4,
    "start_time": "2023-07-18T17:09:33.041Z"
   },
   {
    "duration": 768,
    "start_time": "2023-07-18T17:09:33.060Z"
   },
   {
    "duration": 5,
    "start_time": "2023-07-18T17:09:33.830Z"
   },
   {
    "duration": 1408,
    "start_time": "2023-07-18T17:09:33.837Z"
   },
   {
    "duration": 759,
    "start_time": "2023-07-18T17:09:35.247Z"
   },
   {
    "duration": 17,
    "start_time": "2023-07-18T17:09:36.009Z"
   },
   {
    "duration": 28,
    "start_time": "2023-07-18T17:09:36.027Z"
   },
   {
    "duration": 30,
    "start_time": "2023-07-18T17:09:36.057Z"
   },
   {
    "duration": 27,
    "start_time": "2023-07-18T17:09:36.089Z"
   },
   {
    "duration": 21,
    "start_time": "2023-07-18T17:09:36.118Z"
   },
   {
    "duration": 156,
    "start_time": "2023-07-18T17:09:36.142Z"
   },
   {
    "duration": 153,
    "start_time": "2023-07-18T17:09:39.817Z"
   },
   {
    "duration": 132,
    "start_time": "2023-07-18T17:09:54.548Z"
   },
   {
    "duration": 16,
    "start_time": "2023-07-18T17:10:01.724Z"
   },
   {
    "duration": 3,
    "start_time": "2023-07-18T17:22:53.708Z"
   },
   {
    "duration": 751,
    "start_time": "2023-07-18T17:22:53.713Z"
   },
   {
    "duration": 5,
    "start_time": "2023-07-18T17:22:54.466Z"
   },
   {
    "duration": 1224,
    "start_time": "2023-07-18T17:22:54.472Z"
   },
   {
    "duration": 838,
    "start_time": "2023-07-18T17:22:55.699Z"
   },
   {
    "duration": 10,
    "start_time": "2023-07-18T17:22:56.538Z"
   },
   {
    "duration": 37,
    "start_time": "2023-07-18T17:22:56.550Z"
   },
   {
    "duration": 29,
    "start_time": "2023-07-18T17:22:56.588Z"
   },
   {
    "duration": 55,
    "start_time": "2023-07-18T17:22:56.618Z"
   },
   {
    "duration": 20,
    "start_time": "2023-07-18T17:22:56.675Z"
   },
   {
    "duration": 125,
    "start_time": "2023-07-18T17:22:56.697Z"
   },
   {
    "duration": 146,
    "start_time": "2023-07-18T17:22:56.824Z"
   },
   {
    "duration": 19,
    "start_time": "2023-07-18T17:22:56.972Z"
   },
   {
    "duration": 117,
    "start_time": "2023-07-18T17:22:56.993Z"
   },
   {
    "duration": 33,
    "start_time": "2023-07-18T17:23:05.504Z"
   },
   {
    "duration": 7,
    "start_time": "2023-07-18T17:27:03.048Z"
   },
   {
    "duration": 6,
    "start_time": "2023-07-18T17:28:53.649Z"
   },
   {
    "duration": 45,
    "start_time": "2023-07-18T17:41:18.392Z"
   },
   {
    "duration": 24,
    "start_time": "2023-07-18T17:41:26.590Z"
   },
   {
    "duration": 148,
    "start_time": "2023-07-18T17:41:43.688Z"
   },
   {
    "duration": 147,
    "start_time": "2023-07-18T17:41:48.572Z"
   },
   {
    "duration": 1818,
    "start_time": "2023-07-19T18:31:07.919Z"
   },
   {
    "duration": 3115,
    "start_time": "2023-07-19T18:31:09.740Z"
   },
   {
    "duration": 7,
    "start_time": "2023-07-19T18:31:12.857Z"
   },
   {
    "duration": 1594,
    "start_time": "2023-07-19T18:31:12.866Z"
   },
   {
    "duration": 899,
    "start_time": "2023-07-19T18:31:14.463Z"
   },
   {
    "duration": 12,
    "start_time": "2023-07-19T18:31:15.367Z"
   },
   {
    "duration": 32,
    "start_time": "2023-07-19T18:31:15.381Z"
   },
   {
    "duration": 15,
    "start_time": "2023-07-19T18:31:15.416Z"
   },
   {
    "duration": 52,
    "start_time": "2023-07-19T18:31:15.434Z"
   },
   {
    "duration": 17,
    "start_time": "2023-07-19T18:31:15.488Z"
   },
   {
    "duration": 300,
    "start_time": "2023-07-19T18:31:15.506Z"
   },
   {
    "duration": 208,
    "start_time": "2023-07-19T18:31:15.810Z"
   },
   {
    "duration": 25,
    "start_time": "2023-07-19T18:31:16.021Z"
   },
   {
    "duration": 77,
    "start_time": "2023-07-19T18:31:16.066Z"
   },
   {
    "duration": 639,
    "start_time": "2023-07-19T18:31:16.145Z"
   },
   {
    "duration": 553,
    "start_time": "2023-07-19T18:31:16.786Z"
   },
   {
    "duration": 289,
    "start_time": "2023-07-19T18:31:17.341Z"
   },
   {
    "duration": 8,
    "start_time": "2023-07-19T18:31:17.632Z"
   },
   {
    "duration": 53,
    "start_time": "2023-07-19T18:31:17.642Z"
   },
   {
    "duration": 10,
    "start_time": "2023-07-19T18:31:17.698Z"
   },
   {
    "duration": 24,
    "start_time": "2023-07-19T18:31:17.710Z"
   },
   {
    "duration": 36,
    "start_time": "2023-07-19T18:31:17.735Z"
   },
   {
    "duration": 211,
    "start_time": "2023-07-19T18:31:17.773Z"
   },
   {
    "duration": 10,
    "start_time": "2023-07-19T18:31:21.528Z"
   },
   {
    "duration": 25,
    "start_time": "2023-07-19T18:31:46.251Z"
   },
   {
    "duration": 11,
    "start_time": "2023-07-19T18:32:31.004Z"
   },
   {
    "duration": 147,
    "start_time": "2023-07-19T18:37:09.448Z"
   },
   {
    "duration": 64,
    "start_time": "2023-07-19T18:37:21.940Z"
   },
   {
    "duration": 30,
    "start_time": "2023-07-19T18:37:40.141Z"
   },
   {
    "duration": 8,
    "start_time": "2023-07-19T18:38:02.790Z"
   },
   {
    "duration": 10,
    "start_time": "2023-07-19T18:38:09.581Z"
   },
   {
    "duration": 119,
    "start_time": "2023-07-19T18:38:48.623Z"
   },
   {
    "duration": 77,
    "start_time": "2023-07-19T18:38:54.457Z"
   },
   {
    "duration": 184,
    "start_time": "2023-07-19T18:39:08.497Z"
   },
   {
    "duration": 11,
    "start_time": "2023-07-19T18:39:20.319Z"
   },
   {
    "duration": 800,
    "start_time": "2023-07-19T18:39:25.451Z"
   },
   {
    "duration": 1606,
    "start_time": "2023-07-20T11:35:06.066Z"
   },
   {
    "duration": 2750,
    "start_time": "2023-07-20T11:35:07.674Z"
   },
   {
    "duration": 4,
    "start_time": "2023-07-20T11:35:10.426Z"
   },
   {
    "duration": 1230,
    "start_time": "2023-07-20T11:35:10.432Z"
   },
   {
    "duration": 713,
    "start_time": "2023-07-20T11:35:11.669Z"
   },
   {
    "duration": 10,
    "start_time": "2023-07-20T11:35:12.384Z"
   },
   {
    "duration": 16,
    "start_time": "2023-07-20T11:35:12.395Z"
   },
   {
    "duration": 8,
    "start_time": "2023-07-20T11:35:12.412Z"
   },
   {
    "duration": 15,
    "start_time": "2023-07-20T11:35:12.421Z"
   },
   {
    "duration": 36,
    "start_time": "2023-07-20T11:35:12.438Z"
   },
   {
    "duration": 205,
    "start_time": "2023-07-20T11:35:12.476Z"
   },
   {
    "duration": 166,
    "start_time": "2023-07-20T11:35:12.683Z"
   },
   {
    "duration": 25,
    "start_time": "2023-07-20T11:35:12.851Z"
   },
   {
    "duration": 52,
    "start_time": "2023-07-20T11:35:12.879Z"
   },
   {
    "duration": 466,
    "start_time": "2023-07-20T11:35:12.933Z"
   },
   {
    "duration": 397,
    "start_time": "2023-07-20T11:35:13.401Z"
   },
   {
    "duration": 253,
    "start_time": "2023-07-20T11:35:13.800Z"
   },
   {
    "duration": 14,
    "start_time": "2023-07-20T11:35:14.055Z"
   },
   {
    "duration": 29,
    "start_time": "2023-07-20T11:35:14.071Z"
   },
   {
    "duration": 8,
    "start_time": "2023-07-20T11:35:14.102Z"
   },
   {
    "duration": 8,
    "start_time": "2023-07-20T11:35:14.113Z"
   },
   {
    "duration": 49,
    "start_time": "2023-07-20T11:35:14.124Z"
   },
   {
    "duration": 156,
    "start_time": "2023-07-20T11:35:14.175Z"
   },
   {
    "duration": 8,
    "start_time": "2023-07-20T11:35:14.333Z"
   },
   {
    "duration": 27,
    "start_time": "2023-07-20T11:35:14.342Z"
   },
   {
    "duration": 9,
    "start_time": "2023-07-20T11:35:14.371Z"
   },
   {
    "duration": 86,
    "start_time": "2023-07-20T11:35:14.382Z"
   },
   {
    "duration": 643,
    "start_time": "2023-07-20T11:35:14.470Z"
   },
   {
    "duration": 15,
    "start_time": "2023-07-20T11:41:29.685Z"
   },
   {
    "duration": 46,
    "start_time": "2023-07-20T11:47:18.691Z"
   },
   {
    "duration": 1945,
    "start_time": "2023-07-20T11:47:36.910Z"
   },
   {
    "duration": 939,
    "start_time": "2023-07-20T11:47:49.600Z"
   },
   {
    "duration": 17,
    "start_time": "2023-07-20T11:48:34.161Z"
   },
   {
    "duration": 3,
    "start_time": "2023-07-20T12:54:53.403Z"
   },
   {
    "duration": 883,
    "start_time": "2023-07-20T12:54:53.408Z"
   },
   {
    "duration": 6,
    "start_time": "2023-07-20T12:54:54.292Z"
   },
   {
    "duration": 1290,
    "start_time": "2023-07-20T12:54:54.300Z"
   },
   {
    "duration": 806,
    "start_time": "2023-07-20T12:54:55.592Z"
   },
   {
    "duration": 8,
    "start_time": "2023-07-20T12:54:56.399Z"
   },
   {
    "duration": 18,
    "start_time": "2023-07-20T12:54:56.409Z"
   },
   {
    "duration": 7,
    "start_time": "2023-07-20T12:54:56.429Z"
   },
   {
    "duration": 37,
    "start_time": "2023-07-20T12:54:56.437Z"
   },
   {
    "duration": 8,
    "start_time": "2023-07-20T12:54:56.476Z"
   },
   {
    "duration": 132,
    "start_time": "2023-07-20T12:54:56.486Z"
   },
   {
    "duration": 140,
    "start_time": "2023-07-20T12:54:56.620Z"
   },
   {
    "duration": 16,
    "start_time": "2023-07-20T12:54:56.769Z"
   },
   {
    "duration": 52,
    "start_time": "2023-07-20T12:54:56.787Z"
   },
   {
    "duration": 475,
    "start_time": "2023-07-20T12:54:56.840Z"
   },
   {
    "duration": 383,
    "start_time": "2023-07-20T12:54:57.317Z"
   },
   {
    "duration": 208,
    "start_time": "2023-07-20T12:54:57.702Z"
   },
   {
    "duration": 7,
    "start_time": "2023-07-20T12:54:57.912Z"
   },
   {
    "duration": 22,
    "start_time": "2023-07-20T12:54:57.920Z"
   },
   {
    "duration": 6,
    "start_time": "2023-07-20T12:54:57.943Z"
   },
   {
    "duration": 32,
    "start_time": "2023-07-20T12:54:57.950Z"
   },
   {
    "duration": 27,
    "start_time": "2023-07-20T12:54:57.983Z"
   },
   {
    "duration": 143,
    "start_time": "2023-07-20T12:54:58.012Z"
   },
   {
    "duration": 13,
    "start_time": "2023-07-20T12:54:58.157Z"
   },
   {
    "duration": 23,
    "start_time": "2023-07-20T12:54:58.172Z"
   },
   {
    "duration": 8,
    "start_time": "2023-07-20T12:54:58.197Z"
   },
   {
    "duration": 73,
    "start_time": "2023-07-20T12:54:58.206Z"
   },
   {
    "duration": 580,
    "start_time": "2023-07-20T12:54:58.281Z"
   },
   {
    "duration": 1155,
    "start_time": "2023-07-20T12:55:33.602Z"
   },
   {
    "duration": 27,
    "start_time": "2023-07-20T13:03:41.397Z"
   },
   {
    "duration": 33,
    "start_time": "2023-07-20T13:08:30.375Z"
   },
   {
    "duration": 30,
    "start_time": "2023-07-20T13:08:48.077Z"
   },
   {
    "duration": 32,
    "start_time": "2023-07-20T13:09:09.835Z"
   },
   {
    "duration": 44,
    "start_time": "2023-07-20T14:54:37.452Z"
   },
   {
    "duration": 6,
    "start_time": "2023-07-20T14:54:42.806Z"
   },
   {
    "duration": 1590,
    "start_time": "2023-07-20T14:54:51.009Z"
   },
   {
    "duration": 2834,
    "start_time": "2023-07-20T14:54:52.601Z"
   },
   {
    "duration": 5,
    "start_time": "2023-07-20T14:54:55.437Z"
   },
   {
    "duration": 1135,
    "start_time": "2023-07-20T14:54:55.443Z"
   },
   {
    "duration": 708,
    "start_time": "2023-07-20T14:54:56.580Z"
   },
   {
    "duration": 8,
    "start_time": "2023-07-20T14:54:57.289Z"
   },
   {
    "duration": 20,
    "start_time": "2023-07-20T14:54:57.299Z"
   },
   {
    "duration": 7,
    "start_time": "2023-07-20T14:54:57.321Z"
   },
   {
    "duration": 16,
    "start_time": "2023-07-20T14:54:57.329Z"
   },
   {
    "duration": 7,
    "start_time": "2023-07-20T14:54:57.347Z"
   },
   {
    "duration": 220,
    "start_time": "2023-07-20T14:54:57.356Z"
   },
   {
    "duration": 140,
    "start_time": "2023-07-20T14:54:57.577Z"
   },
   {
    "duration": 14,
    "start_time": "2023-07-20T14:54:57.719Z"
   },
   {
    "duration": 51,
    "start_time": "2023-07-20T14:54:57.734Z"
   },
   {
    "duration": 438,
    "start_time": "2023-07-20T14:54:57.786Z"
   },
   {
    "duration": 372,
    "start_time": "2023-07-20T14:54:58.226Z"
   },
   {
    "duration": 218,
    "start_time": "2023-07-20T14:54:58.600Z"
   },
   {
    "duration": 7,
    "start_time": "2023-07-20T14:54:58.821Z"
   },
   {
    "duration": 22,
    "start_time": "2023-07-20T14:54:58.829Z"
   },
   {
    "duration": 6,
    "start_time": "2023-07-20T14:54:58.852Z"
   },
   {
    "duration": 5,
    "start_time": "2023-07-20T14:54:58.860Z"
   },
   {
    "duration": 58,
    "start_time": "2023-07-20T14:54:58.867Z"
   },
   {
    "duration": 132,
    "start_time": "2023-07-20T14:54:58.927Z"
   },
   {
    "duration": 8,
    "start_time": "2023-07-20T14:54:59.061Z"
   },
   {
    "duration": 16,
    "start_time": "2023-07-20T14:54:59.070Z"
   },
   {
    "duration": 25,
    "start_time": "2023-07-20T14:54:59.088Z"
   },
   {
    "duration": 59,
    "start_time": "2023-07-20T14:54:59.114Z"
   },
   {
    "duration": 658,
    "start_time": "2023-07-20T14:55:00.244Z"
   },
   {
    "duration": 19,
    "start_time": "2023-07-20T14:55:08.788Z"
   },
   {
    "duration": 23,
    "start_time": "2023-07-20T14:55:16.494Z"
   },
   {
    "duration": 105,
    "start_time": "2023-07-20T14:56:27.524Z"
   },
   {
    "duration": 9095,
    "start_time": "2023-07-20T14:59:01.131Z"
   },
   {
    "duration": 11017,
    "start_time": "2023-07-20T15:02:31.399Z"
   },
   {
    "duration": 39,
    "start_time": "2023-07-20T15:03:35.266Z"
   },
   {
    "duration": 37,
    "start_time": "2023-07-20T15:03:57.162Z"
   },
   {
    "duration": 33,
    "start_time": "2023-07-20T15:07:55.490Z"
   },
   {
    "duration": 9585,
    "start_time": "2023-07-20T15:08:02.977Z"
   },
   {
    "duration": 3,
    "start_time": "2023-07-20T15:12:11.360Z"
   },
   {
    "duration": 40,
    "start_time": "2023-07-20T15:12:18.100Z"
   },
   {
    "duration": 40,
    "start_time": "2023-07-20T15:12:26.679Z"
   },
   {
    "duration": 36,
    "start_time": "2023-07-20T15:15:54.091Z"
   },
   {
    "duration": 19,
    "start_time": "2023-07-20T15:16:08.185Z"
   },
   {
    "duration": 10254,
    "start_time": "2023-07-20T15:16:16.408Z"
   },
   {
    "duration": 38,
    "start_time": "2023-07-20T15:16:40.220Z"
   },
   {
    "duration": 20,
    "start_time": "2023-07-20T15:17:40.120Z"
   },
   {
    "duration": 4,
    "start_time": "2023-07-20T15:32:45.049Z"
   },
   {
    "duration": 1572,
    "start_time": "2023-07-20T15:32:45.057Z"
   },
   {
    "duration": 4,
    "start_time": "2023-07-20T15:32:46.631Z"
   },
   {
    "duration": 945,
    "start_time": "2023-07-20T15:32:46.637Z"
   },
   {
    "duration": 616,
    "start_time": "2023-07-20T15:32:47.583Z"
   },
   {
    "duration": 8,
    "start_time": "2023-07-20T15:32:48.205Z"
   },
   {
    "duration": 38,
    "start_time": "2023-07-20T15:32:48.214Z"
   },
   {
    "duration": 8,
    "start_time": "2023-07-20T15:32:48.254Z"
   },
   {
    "duration": 33,
    "start_time": "2023-07-20T15:32:48.263Z"
   },
   {
    "duration": 7,
    "start_time": "2023-07-20T15:32:48.297Z"
   },
   {
    "duration": 204,
    "start_time": "2023-07-20T15:32:48.306Z"
   },
   {
    "duration": 135,
    "start_time": "2023-07-20T15:32:48.511Z"
   },
   {
    "duration": 14,
    "start_time": "2023-07-20T15:32:48.647Z"
   },
   {
    "duration": 60,
    "start_time": "2023-07-20T15:32:48.662Z"
   },
   {
    "duration": 410,
    "start_time": "2023-07-20T15:32:48.724Z"
   },
   {
    "duration": 323,
    "start_time": "2023-07-20T15:32:49.135Z"
   },
   {
    "duration": 192,
    "start_time": "2023-07-20T15:32:49.459Z"
   },
   {
    "duration": 6,
    "start_time": "2023-07-20T15:32:49.653Z"
   },
   {
    "duration": 20,
    "start_time": "2023-07-20T15:32:49.660Z"
   },
   {
    "duration": 4,
    "start_time": "2023-07-20T15:32:49.682Z"
   },
   {
    "duration": 5,
    "start_time": "2023-07-20T15:32:49.706Z"
   },
   {
    "duration": 25,
    "start_time": "2023-07-20T15:32:49.712Z"
   },
   {
    "duration": 142,
    "start_time": "2023-07-20T15:32:49.738Z"
   },
   {
    "duration": 8,
    "start_time": "2023-07-20T15:32:49.881Z"
   },
   {
    "duration": 26,
    "start_time": "2023-07-20T15:32:49.890Z"
   },
   {
    "duration": 9,
    "start_time": "2023-07-20T15:32:49.922Z"
   },
   {
    "duration": 73,
    "start_time": "2023-07-20T15:32:49.933Z"
   },
   {
    "duration": 553,
    "start_time": "2023-07-20T15:32:53.853Z"
   },
   {
    "duration": 18,
    "start_time": "2023-07-20T15:33:02.768Z"
   },
   {
    "duration": 20,
    "start_time": "2023-07-20T15:33:06.142Z"
   },
   {
    "duration": 9260,
    "start_time": "2023-07-20T15:35:17.507Z"
   },
   {
    "duration": 29,
    "start_time": "2023-07-20T15:35:35.037Z"
   },
   {
    "duration": 42,
    "start_time": "2023-07-20T15:36:06.849Z"
   },
   {
    "duration": 34,
    "start_time": "2023-07-20T15:36:26.717Z"
   },
   {
    "duration": 152,
    "start_time": "2023-07-20T15:51:31.531Z"
   },
   {
    "duration": 11,
    "start_time": "2023-07-20T15:52:30.400Z"
   },
   {
    "duration": 1574,
    "start_time": "2023-07-21T12:47:57.695Z"
   },
   {
    "duration": 984,
    "start_time": "2023-07-21T12:47:59.270Z"
   },
   {
    "duration": 6,
    "start_time": "2023-07-21T12:48:00.255Z"
   },
   {
    "duration": 1132,
    "start_time": "2023-07-21T12:48:00.262Z"
   },
   {
    "duration": 687,
    "start_time": "2023-07-21T12:48:01.396Z"
   },
   {
    "duration": 9,
    "start_time": "2023-07-21T12:48:02.085Z"
   },
   {
    "duration": 42,
    "start_time": "2023-07-21T12:48:02.095Z"
   },
   {
    "duration": 33,
    "start_time": "2023-07-21T12:48:02.138Z"
   },
   {
    "duration": 28,
    "start_time": "2023-07-21T12:48:02.172Z"
   },
   {
    "duration": 37,
    "start_time": "2023-07-21T12:48:02.202Z"
   },
   {
    "duration": 211,
    "start_time": "2023-07-21T12:48:02.241Z"
   },
   {
    "duration": 149,
    "start_time": "2023-07-21T12:48:02.454Z"
   },
   {
    "duration": 67,
    "start_time": "2023-07-21T12:48:02.604Z"
   },
   {
    "duration": 115,
    "start_time": "2023-07-21T12:48:02.673Z"
   },
   {
    "duration": 433,
    "start_time": "2023-07-21T12:48:02.790Z"
   },
   {
    "duration": 405,
    "start_time": "2023-07-21T12:48:03.225Z"
   },
   {
    "duration": 240,
    "start_time": "2023-07-21T12:48:03.631Z"
   },
   {
    "duration": 7,
    "start_time": "2023-07-21T12:48:03.872Z"
   },
   {
    "duration": 34,
    "start_time": "2023-07-21T12:48:03.880Z"
   },
   {
    "duration": 7,
    "start_time": "2023-07-21T12:48:03.916Z"
   },
   {
    "duration": 35,
    "start_time": "2023-07-21T12:48:03.924Z"
   },
   {
    "duration": 42,
    "start_time": "2023-07-21T12:48:03.960Z"
   },
   {
    "duration": 131,
    "start_time": "2023-07-21T12:48:04.004Z"
   },
   {
    "duration": 8,
    "start_time": "2023-07-21T12:48:04.137Z"
   },
   {
    "duration": 28,
    "start_time": "2023-07-21T12:48:04.146Z"
   },
   {
    "duration": 31,
    "start_time": "2023-07-21T12:48:04.176Z"
   },
   {
    "duration": 88,
    "start_time": "2023-07-21T12:48:04.209Z"
   },
   {
    "duration": 628,
    "start_time": "2023-07-21T12:49:32.916Z"
   },
   {
    "duration": 18,
    "start_time": "2023-07-21T12:50:02.597Z"
   },
   {
    "duration": 1747,
    "start_time": "2023-07-21T15:21:15.189Z"
   },
   {
    "duration": 3020,
    "start_time": "2023-07-21T15:21:16.938Z"
   },
   {
    "duration": 5,
    "start_time": "2023-07-21T15:21:19.960Z"
   },
   {
    "duration": 1411,
    "start_time": "2023-07-21T15:21:19.969Z"
   },
   {
    "duration": 915,
    "start_time": "2023-07-21T15:21:21.382Z"
   },
   {
    "duration": 17,
    "start_time": "2023-07-21T15:21:22.299Z"
   },
   {
    "duration": 29,
    "start_time": "2023-07-21T15:21:22.318Z"
   },
   {
    "duration": 27,
    "start_time": "2023-07-21T15:21:22.350Z"
   },
   {
    "duration": 46,
    "start_time": "2023-07-21T15:21:22.379Z"
   },
   {
    "duration": 24,
    "start_time": "2023-07-21T15:21:22.428Z"
   },
   {
    "duration": 273,
    "start_time": "2023-07-21T15:21:22.453Z"
   },
   {
    "duration": 190,
    "start_time": "2023-07-21T15:21:22.728Z"
   },
   {
    "duration": 18,
    "start_time": "2023-07-21T15:21:22.920Z"
   },
   {
    "duration": 71,
    "start_time": "2023-07-21T15:21:22.939Z"
   },
   {
    "duration": 553,
    "start_time": "2023-07-21T15:21:23.012Z"
   },
   {
    "duration": 517,
    "start_time": "2023-07-21T15:21:23.567Z"
   },
   {
    "duration": 318,
    "start_time": "2023-07-21T15:21:24.088Z"
   },
   {
    "duration": 8,
    "start_time": "2023-07-21T15:21:24.409Z"
   },
   {
    "duration": 45,
    "start_time": "2023-07-21T15:21:24.419Z"
   },
   {
    "duration": 7,
    "start_time": "2023-07-21T15:21:24.465Z"
   },
   {
    "duration": 27,
    "start_time": "2023-07-21T15:21:24.474Z"
   },
   {
    "duration": 33,
    "start_time": "2023-07-21T15:21:24.503Z"
   },
   {
    "duration": 171,
    "start_time": "2023-07-21T15:21:24.538Z"
   },
   {
    "duration": 11,
    "start_time": "2023-07-21T15:21:24.713Z"
   },
   {
    "duration": 35,
    "start_time": "2023-07-21T15:21:24.726Z"
   },
   {
    "duration": 10,
    "start_time": "2023-07-21T15:21:24.766Z"
   },
   {
    "duration": 97,
    "start_time": "2023-07-21T15:21:24.779Z"
   },
   {
    "duration": 909,
    "start_time": "2023-07-21T15:21:30.138Z"
   },
   {
    "duration": 34,
    "start_time": "2023-07-21T15:21:37.328Z"
   },
   {
    "duration": 15,
    "start_time": "2023-07-21T15:24:34.289Z"
   },
   {
    "duration": 3,
    "start_time": "2023-07-21T15:24:40.399Z"
   },
   {
    "duration": 3,
    "start_time": "2023-07-21T15:25:22.189Z"
   },
   {
    "duration": 13,
    "start_time": "2023-07-21T15:25:25.649Z"
   },
   {
    "duration": 13,
    "start_time": "2023-07-21T15:26:06.888Z"
   },
   {
    "duration": 14,
    "start_time": "2023-07-21T15:31:32.076Z"
   },
   {
    "duration": 5,
    "start_time": "2023-07-21T15:34:37.608Z"
   },
   {
    "duration": 25,
    "start_time": "2023-07-21T15:35:54.687Z"
   },
   {
    "duration": 21,
    "start_time": "2023-07-21T15:43:01.801Z"
   },
   {
    "duration": 35,
    "start_time": "2023-07-21T15:43:43.389Z"
   },
   {
    "duration": 21,
    "start_time": "2023-07-21T15:43:55.108Z"
   },
   {
    "duration": 24,
    "start_time": "2023-07-21T15:45:28.134Z"
   },
   {
    "duration": 43,
    "start_time": "2023-07-21T15:45:42.864Z"
   },
   {
    "duration": 25,
    "start_time": "2023-07-21T15:45:54.293Z"
   },
   {
    "duration": 16,
    "start_time": "2023-07-21T15:46:04.803Z"
   },
   {
    "duration": 16,
    "start_time": "2023-07-21T15:46:06.383Z"
   },
   {
    "duration": 4,
    "start_time": "2023-07-21T19:02:13.390Z"
   },
   {
    "duration": 993,
    "start_time": "2023-07-21T19:02:13.397Z"
   },
   {
    "duration": 6,
    "start_time": "2023-07-21T19:02:14.393Z"
   },
   {
    "duration": 1752,
    "start_time": "2023-07-21T19:02:14.401Z"
   },
   {
    "duration": 947,
    "start_time": "2023-07-21T19:02:16.157Z"
   },
   {
    "duration": 15,
    "start_time": "2023-07-21T19:02:17.106Z"
   },
   {
    "duration": 53,
    "start_time": "2023-07-21T19:02:17.123Z"
   },
   {
    "duration": 16,
    "start_time": "2023-07-21T19:02:17.178Z"
   },
   {
    "duration": 37,
    "start_time": "2023-07-21T19:02:17.197Z"
   },
   {
    "duration": 11,
    "start_time": "2023-07-21T19:02:17.236Z"
   },
   {
    "duration": 217,
    "start_time": "2023-07-21T19:02:17.253Z"
   },
   {
    "duration": 181,
    "start_time": "2023-07-21T19:02:17.478Z"
   },
   {
    "duration": 22,
    "start_time": "2023-07-21T19:02:17.665Z"
   },
   {
    "duration": 112,
    "start_time": "2023-07-21T19:02:17.688Z"
   },
   {
    "duration": 631,
    "start_time": "2023-07-21T19:02:17.802Z"
   },
   {
    "duration": 627,
    "start_time": "2023-07-21T19:02:18.435Z"
   },
   {
    "duration": 297,
    "start_time": "2023-07-21T19:02:19.064Z"
   },
   {
    "duration": 10,
    "start_time": "2023-07-21T19:02:19.364Z"
   },
   {
    "duration": 93,
    "start_time": "2023-07-21T19:02:19.376Z"
   },
   {
    "duration": 8,
    "start_time": "2023-07-21T19:02:19.471Z"
   },
   {
    "duration": 31,
    "start_time": "2023-07-21T19:02:19.481Z"
   },
   {
    "duration": 58,
    "start_time": "2023-07-21T19:02:19.514Z"
   },
   {
    "duration": 183,
    "start_time": "2023-07-21T19:02:19.574Z"
   },
   {
    "duration": 15,
    "start_time": "2023-07-21T19:02:19.762Z"
   },
   {
    "duration": 42,
    "start_time": "2023-07-21T19:02:19.785Z"
   },
   {
    "duration": 10,
    "start_time": "2023-07-21T19:02:19.829Z"
   },
   {
    "duration": 94,
    "start_time": "2023-07-21T19:02:19.841Z"
   },
   {
    "duration": 1050,
    "start_time": "2023-07-21T19:02:21.587Z"
   },
   {
    "duration": 37,
    "start_time": "2023-07-21T19:06:05.450Z"
   },
   {
    "duration": 738,
    "start_time": "2023-07-21T19:06:26.606Z"
   },
   {
    "duration": 15088,
    "start_time": "2023-07-21T19:09:57.413Z"
   },
   {
    "duration": 913,
    "start_time": "2023-07-21T19:12:45.428Z"
   },
   {
    "duration": 785,
    "start_time": "2023-07-21T19:12:54.343Z"
   },
   {
    "duration": 615,
    "start_time": "2023-07-21T19:13:34.234Z"
   },
   {
    "duration": 71,
    "start_time": "2023-07-21T19:17:08.957Z"
   },
   {
    "duration": 666,
    "start_time": "2023-07-21T19:17:41.297Z"
   },
   {
    "duration": 1404,
    "start_time": "2023-07-22T05:53:28.937Z"
   },
   {
    "duration": 2768,
    "start_time": "2023-07-22T05:53:30.343Z"
   },
   {
    "duration": 4,
    "start_time": "2023-07-22T05:53:33.113Z"
   },
   {
    "duration": 1055,
    "start_time": "2023-07-22T05:53:33.119Z"
   },
   {
    "duration": 656,
    "start_time": "2023-07-22T05:53:34.175Z"
   },
   {
    "duration": 9,
    "start_time": "2023-07-22T05:53:34.832Z"
   },
   {
    "duration": 19,
    "start_time": "2023-07-22T05:53:34.842Z"
   },
   {
    "duration": 6,
    "start_time": "2023-07-22T05:53:34.863Z"
   },
   {
    "duration": 27,
    "start_time": "2023-07-22T05:53:34.871Z"
   },
   {
    "duration": 8,
    "start_time": "2023-07-22T05:53:34.906Z"
   },
   {
    "duration": 185,
    "start_time": "2023-07-22T05:53:34.915Z"
   },
   {
    "duration": 135,
    "start_time": "2023-07-22T05:53:35.105Z"
   },
   {
    "duration": 15,
    "start_time": "2023-07-22T05:53:35.241Z"
   },
   {
    "duration": 65,
    "start_time": "2023-07-22T05:53:35.257Z"
   },
   {
    "duration": 418,
    "start_time": "2023-07-22T05:53:35.323Z"
   },
   {
    "duration": 344,
    "start_time": "2023-07-22T05:53:35.743Z"
   },
   {
    "duration": 229,
    "start_time": "2023-07-22T05:53:36.088Z"
   },
   {
    "duration": 6,
    "start_time": "2023-07-22T05:53:36.319Z"
   },
   {
    "duration": 20,
    "start_time": "2023-07-22T05:53:36.326Z"
   },
   {
    "duration": 4,
    "start_time": "2023-07-22T05:53:36.348Z"
   },
   {
    "duration": 6,
    "start_time": "2023-07-22T05:53:36.354Z"
   },
   {
    "duration": 47,
    "start_time": "2023-07-22T05:53:36.361Z"
   },
   {
    "duration": 122,
    "start_time": "2023-07-22T05:53:36.409Z"
   },
   {
    "duration": 7,
    "start_time": "2023-07-22T05:53:36.532Z"
   },
   {
    "duration": 34,
    "start_time": "2023-07-22T05:53:36.541Z"
   },
   {
    "duration": 28,
    "start_time": "2023-07-22T05:53:36.576Z"
   },
   {
    "duration": 102,
    "start_time": "2023-07-22T05:53:36.606Z"
   },
   {
    "duration": 607,
    "start_time": "2023-07-22T05:53:36.710Z"
   },
   {
    "duration": 125,
    "start_time": "2023-07-22T06:08:57.410Z"
   },
   {
    "duration": 633,
    "start_time": "2023-07-22T06:12:58.886Z"
   },
   {
    "duration": 634,
    "start_time": "2023-07-22T06:13:44.261Z"
   },
   {
    "duration": 38,
    "start_time": "2023-07-22T06:19:20.191Z"
   },
   {
    "duration": 1753,
    "start_time": "2023-07-25T08:36:54.450Z"
   },
   {
    "duration": 3132,
    "start_time": "2023-07-25T08:36:56.205Z"
   },
   {
    "duration": 7,
    "start_time": "2023-07-25T08:36:59.338Z"
   },
   {
    "duration": 1448,
    "start_time": "2023-07-25T08:36:59.347Z"
   },
   {
    "duration": 806,
    "start_time": "2023-07-25T08:37:00.797Z"
   },
   {
    "duration": 9,
    "start_time": "2023-07-25T08:37:01.604Z"
   },
   {
    "duration": 48,
    "start_time": "2023-07-25T08:37:01.615Z"
   },
   {
    "duration": 54,
    "start_time": "2023-07-25T08:37:01.665Z"
   },
   {
    "duration": 64,
    "start_time": "2023-07-25T08:37:01.721Z"
   },
   {
    "duration": 40,
    "start_time": "2023-07-25T08:37:01.788Z"
   },
   {
    "duration": 245,
    "start_time": "2023-07-25T08:37:01.830Z"
   },
   {
    "duration": 163,
    "start_time": "2023-07-25T08:37:02.077Z"
   },
   {
    "duration": 29,
    "start_time": "2023-07-25T08:37:02.242Z"
   },
   {
    "duration": 93,
    "start_time": "2023-07-25T08:37:02.272Z"
   },
   {
    "duration": 532,
    "start_time": "2023-07-25T08:37:02.367Z"
   },
   {
    "duration": 477,
    "start_time": "2023-07-25T08:37:02.901Z"
   },
   {
    "duration": 246,
    "start_time": "2023-07-25T08:37:03.379Z"
   },
   {
    "duration": 8,
    "start_time": "2023-07-25T08:37:03.628Z"
   },
   {
    "duration": 39,
    "start_time": "2023-07-25T08:37:03.638Z"
   },
   {
    "duration": 8,
    "start_time": "2023-07-25T08:37:03.681Z"
   },
   {
    "duration": 11,
    "start_time": "2023-07-25T08:37:03.691Z"
   },
   {
    "duration": 27,
    "start_time": "2023-07-25T08:37:03.704Z"
   },
   {
    "duration": 189,
    "start_time": "2023-07-25T08:37:03.733Z"
   },
   {
    "duration": 10,
    "start_time": "2023-07-25T08:37:03.923Z"
   },
   {
    "duration": 34,
    "start_time": "2023-07-25T08:37:03.935Z"
   },
   {
    "duration": 10,
    "start_time": "2023-07-25T08:37:03.971Z"
   },
   {
    "duration": 86,
    "start_time": "2023-07-25T08:37:03.982Z"
   },
   {
    "duration": 782,
    "start_time": "2023-07-25T08:39:33.501Z"
   },
   {
    "duration": 30,
    "start_time": "2023-07-25T08:39:38.440Z"
   },
   {
    "duration": 1707,
    "start_time": "2023-07-25T10:07:51.343Z"
   },
   {
    "duration": 1093,
    "start_time": "2023-07-25T10:07:53.052Z"
   },
   {
    "duration": 7,
    "start_time": "2023-07-25T10:07:54.147Z"
   },
   {
    "duration": 1314,
    "start_time": "2023-07-25T10:07:54.155Z"
   },
   {
    "duration": 749,
    "start_time": "2023-07-25T10:07:55.475Z"
   },
   {
    "duration": 9,
    "start_time": "2023-07-25T10:07:56.225Z"
   },
   {
    "duration": 36,
    "start_time": "2023-07-25T10:07:56.236Z"
   },
   {
    "duration": 10,
    "start_time": "2023-07-25T10:07:56.276Z"
   },
   {
    "duration": 32,
    "start_time": "2023-07-25T10:07:56.288Z"
   },
   {
    "duration": 11,
    "start_time": "2023-07-25T10:07:56.323Z"
   },
   {
    "duration": 239,
    "start_time": "2023-07-25T10:07:56.337Z"
   },
   {
    "duration": 156,
    "start_time": "2023-07-25T10:07:56.577Z"
   },
   {
    "duration": 16,
    "start_time": "2023-07-25T10:07:56.734Z"
   },
   {
    "duration": 70,
    "start_time": "2023-07-25T10:07:56.752Z"
   },
   {
    "duration": 463,
    "start_time": "2023-07-25T10:07:56.823Z"
   },
   {
    "duration": 406,
    "start_time": "2023-07-25T10:07:57.288Z"
   },
   {
    "duration": 224,
    "start_time": "2023-07-25T10:07:57.695Z"
   },
   {
    "duration": 6,
    "start_time": "2023-07-25T10:07:57.921Z"
   },
   {
    "duration": 24,
    "start_time": "2023-07-25T10:07:57.929Z"
   },
   {
    "duration": 21,
    "start_time": "2023-07-25T10:07:57.955Z"
   },
   {
    "duration": 11,
    "start_time": "2023-07-25T10:07:57.977Z"
   },
   {
    "duration": 30,
    "start_time": "2023-07-25T10:07:57.989Z"
   },
   {
    "duration": 154,
    "start_time": "2023-07-25T10:07:58.021Z"
   },
   {
    "duration": 9,
    "start_time": "2023-07-25T10:07:58.177Z"
   },
   {
    "duration": 25,
    "start_time": "2023-07-25T10:07:58.188Z"
   },
   {
    "duration": 20,
    "start_time": "2023-07-25T10:07:58.215Z"
   },
   {
    "duration": 76,
    "start_time": "2023-07-25T10:07:58.237Z"
   },
   {
    "duration": 672,
    "start_time": "2023-07-25T10:07:58.315Z"
   },
   {
    "duration": 25,
    "start_time": "2023-07-25T10:08:08.513Z"
   },
   {
    "duration": 3,
    "start_time": "2023-07-25T10:15:06.837Z"
   },
   {
    "duration": 880,
    "start_time": "2023-07-25T10:15:06.843Z"
   },
   {
    "duration": 6,
    "start_time": "2023-07-25T10:15:07.724Z"
   },
   {
    "duration": 1255,
    "start_time": "2023-07-25T10:15:07.732Z"
   },
   {
    "duration": 759,
    "start_time": "2023-07-25T10:15:08.990Z"
   },
   {
    "duration": 9,
    "start_time": "2023-07-25T10:15:09.751Z"
   },
   {
    "duration": 32,
    "start_time": "2023-07-25T10:15:09.761Z"
   },
   {
    "duration": 11,
    "start_time": "2023-07-25T10:15:09.794Z"
   },
   {
    "duration": 23,
    "start_time": "2023-07-25T10:15:09.806Z"
   },
   {
    "duration": 9,
    "start_time": "2023-07-25T10:15:09.831Z"
   },
   {
    "duration": 247,
    "start_time": "2023-07-25T10:15:09.843Z"
   },
   {
    "duration": 172,
    "start_time": "2023-07-25T10:15:10.092Z"
   },
   {
    "duration": 20,
    "start_time": "2023-07-25T10:15:10.266Z"
   },
   {
    "duration": 52,
    "start_time": "2023-07-25T10:15:10.287Z"
   },
   {
    "duration": 515,
    "start_time": "2023-07-25T10:15:10.341Z"
   },
   {
    "duration": 443,
    "start_time": "2023-07-25T10:15:10.857Z"
   },
   {
    "duration": 231,
    "start_time": "2023-07-25T10:15:11.301Z"
   },
   {
    "duration": 7,
    "start_time": "2023-07-25T10:15:11.533Z"
   },
   {
    "duration": 84,
    "start_time": "2023-07-25T10:15:11.542Z"
   },
   {
    "duration": 6,
    "start_time": "2023-07-25T10:15:11.628Z"
   },
   {
    "duration": 14,
    "start_time": "2023-07-25T10:15:11.636Z"
   },
   {
    "duration": 39,
    "start_time": "2023-07-25T10:15:11.652Z"
   },
   {
    "duration": 153,
    "start_time": "2023-07-25T10:15:11.693Z"
   },
   {
    "duration": 8,
    "start_time": "2023-07-25T10:15:11.848Z"
   },
   {
    "duration": 31,
    "start_time": "2023-07-25T10:15:11.857Z"
   },
   {
    "duration": 21,
    "start_time": "2023-07-25T10:15:11.892Z"
   },
   {
    "duration": 85,
    "start_time": "2023-07-25T10:15:11.915Z"
   },
   {
    "duration": 656,
    "start_time": "2023-07-25T10:15:12.002Z"
   },
   {
    "duration": 1217,
    "start_time": "2023-07-25T10:19:40.175Z"
   },
   {
    "duration": 9,
    "start_time": "2023-07-25T10:22:06.536Z"
   },
   {
    "duration": 18,
    "start_time": "2023-07-25T10:22:18.684Z"
   },
   {
    "duration": 17,
    "start_time": "2023-07-25T10:22:19.545Z"
   },
   {
    "duration": 5,
    "start_time": "2023-07-25T10:28:27.072Z"
   },
   {
    "duration": 39,
    "start_time": "2023-07-25T10:28:27.707Z"
   },
   {
    "duration": 3,
    "start_time": "2023-07-25T10:28:28.255Z"
   },
   {
    "duration": 3,
    "start_time": "2023-07-25T10:31:03.888Z"
   },
   {
    "duration": 794,
    "start_time": "2023-07-25T10:31:03.892Z"
   },
   {
    "duration": 5,
    "start_time": "2023-07-25T10:31:04.688Z"
   },
   {
    "duration": 1214,
    "start_time": "2023-07-25T10:31:04.694Z"
   },
   {
    "duration": 772,
    "start_time": "2023-07-25T10:31:05.910Z"
   },
   {
    "duration": 8,
    "start_time": "2023-07-25T10:31:06.684Z"
   },
   {
    "duration": 19,
    "start_time": "2023-07-25T10:31:06.693Z"
   },
   {
    "duration": 8,
    "start_time": "2023-07-25T10:31:06.714Z"
   },
   {
    "duration": 38,
    "start_time": "2023-07-25T10:31:06.724Z"
   },
   {
    "duration": 19,
    "start_time": "2023-07-25T10:31:06.764Z"
   },
   {
    "duration": 221,
    "start_time": "2023-07-25T10:31:06.785Z"
   },
   {
    "duration": 148,
    "start_time": "2023-07-25T10:31:07.007Z"
   },
   {
    "duration": 24,
    "start_time": "2023-07-25T10:31:07.157Z"
   },
   {
    "duration": 56,
    "start_time": "2023-07-25T10:31:07.183Z"
   },
   {
    "duration": 466,
    "start_time": "2023-07-25T10:31:07.241Z"
   },
   {
    "duration": 401,
    "start_time": "2023-07-25T10:31:07.709Z"
   },
   {
    "duration": 216,
    "start_time": "2023-07-25T10:31:08.112Z"
   },
   {
    "duration": 7,
    "start_time": "2023-07-25T10:31:08.330Z"
   },
   {
    "duration": 36,
    "start_time": "2023-07-25T10:31:08.339Z"
   },
   {
    "duration": 6,
    "start_time": "2023-07-25T10:31:08.377Z"
   },
   {
    "duration": 9,
    "start_time": "2023-07-25T10:31:08.385Z"
   },
   {
    "duration": 38,
    "start_time": "2023-07-25T10:31:08.395Z"
   },
   {
    "duration": 144,
    "start_time": "2023-07-25T10:31:08.435Z"
   },
   {
    "duration": 8,
    "start_time": "2023-07-25T10:31:08.580Z"
   },
   {
    "duration": 23,
    "start_time": "2023-07-25T10:31:08.590Z"
   },
   {
    "duration": 9,
    "start_time": "2023-07-25T10:31:08.614Z"
   },
   {
    "duration": 102,
    "start_time": "2023-07-25T10:31:08.624Z"
   },
   {
    "duration": 625,
    "start_time": "2023-07-25T10:31:08.728Z"
   },
   {
    "duration": 4,
    "start_time": "2023-07-25T10:52:53.950Z"
   },
   {
    "duration": 792,
    "start_time": "2023-07-25T10:52:53.956Z"
   },
   {
    "duration": 6,
    "start_time": "2023-07-25T10:52:54.750Z"
   },
   {
    "duration": 1289,
    "start_time": "2023-07-25T10:52:54.757Z"
   },
   {
    "duration": 795,
    "start_time": "2023-07-25T10:52:56.049Z"
   },
   {
    "duration": 11,
    "start_time": "2023-07-25T10:52:56.846Z"
   },
   {
    "duration": 67,
    "start_time": "2023-07-25T10:52:56.858Z"
   },
   {
    "duration": 9,
    "start_time": "2023-07-25T10:52:56.927Z"
   },
   {
    "duration": 16,
    "start_time": "2023-07-25T10:52:56.938Z"
   },
   {
    "duration": 15,
    "start_time": "2023-07-25T10:52:56.955Z"
   },
   {
    "duration": 140,
    "start_time": "2023-07-25T10:52:56.972Z"
   },
   {
    "duration": 256,
    "start_time": "2023-07-25T10:52:57.113Z"
   },
   {
    "duration": 18,
    "start_time": "2023-07-25T10:52:57.376Z"
   },
   {
    "duration": 62,
    "start_time": "2023-07-25T10:52:57.396Z"
   },
   {
    "duration": 495,
    "start_time": "2023-07-25T10:52:57.459Z"
   },
   {
    "duration": 399,
    "start_time": "2023-07-25T10:52:57.956Z"
   },
   {
    "duration": 239,
    "start_time": "2023-07-25T10:52:58.356Z"
   },
   {
    "duration": 7,
    "start_time": "2023-07-25T10:52:58.597Z"
   },
   {
    "duration": 33,
    "start_time": "2023-07-25T10:52:58.605Z"
   },
   {
    "duration": 5,
    "start_time": "2023-07-25T10:52:58.640Z"
   },
   {
    "duration": 11,
    "start_time": "2023-07-25T10:52:58.646Z"
   },
   {
    "duration": 57,
    "start_time": "2023-07-25T10:52:58.659Z"
   },
   {
    "duration": 137,
    "start_time": "2023-07-25T10:52:58.718Z"
   },
   {
    "duration": 9,
    "start_time": "2023-07-25T10:52:58.857Z"
   },
   {
    "duration": 45,
    "start_time": "2023-07-25T10:52:58.875Z"
   },
   {
    "duration": 13,
    "start_time": "2023-07-25T10:52:58.922Z"
   },
   {
    "duration": 74,
    "start_time": "2023-07-25T10:52:58.937Z"
   },
   {
    "duration": 617,
    "start_time": "2023-07-25T10:53:10.389Z"
   },
   {
    "duration": 19,
    "start_time": "2023-07-25T10:54:20.297Z"
   },
   {
    "duration": 23,
    "start_time": "2023-07-25T10:54:23.668Z"
   },
   {
    "duration": 265,
    "start_time": "2023-07-25T10:54:45.068Z"
   },
   {
    "duration": 9,
    "start_time": "2023-07-25T10:54:47.999Z"
   },
   {
    "duration": 24,
    "start_time": "2023-07-25T10:54:53.491Z"
   },
   {
    "duration": 21,
    "start_time": "2023-07-25T10:55:18.729Z"
   },
   {
    "duration": 4,
    "start_time": "2023-07-25T10:55:31.561Z"
   },
   {
    "duration": 851,
    "start_time": "2023-07-25T10:55:31.568Z"
   },
   {
    "duration": 7,
    "start_time": "2023-07-25T10:55:32.421Z"
   },
   {
    "duration": 1275,
    "start_time": "2023-07-25T10:55:32.430Z"
   },
   {
    "duration": 778,
    "start_time": "2023-07-25T10:55:33.708Z"
   },
   {
    "duration": 11,
    "start_time": "2023-07-25T10:55:34.487Z"
   },
   {
    "duration": 17,
    "start_time": "2023-07-25T10:55:34.500Z"
   },
   {
    "duration": 9,
    "start_time": "2023-07-25T10:55:34.519Z"
   },
   {
    "duration": 49,
    "start_time": "2023-07-25T10:55:34.529Z"
   },
   {
    "duration": 10,
    "start_time": "2023-07-25T10:55:34.580Z"
   },
   {
    "duration": 147,
    "start_time": "2023-07-25T10:55:34.592Z"
   },
   {
    "duration": 275,
    "start_time": "2023-07-25T10:55:34.741Z"
   },
   {
    "duration": 18,
    "start_time": "2023-07-25T10:55:35.018Z"
   },
   {
    "duration": 72,
    "start_time": "2023-07-25T10:55:35.039Z"
   },
   {
    "duration": 509,
    "start_time": "2023-07-25T10:55:35.113Z"
   },
   {
    "duration": 413,
    "start_time": "2023-07-25T10:55:35.624Z"
   },
   {
    "duration": 215,
    "start_time": "2023-07-25T10:55:36.039Z"
   },
   {
    "duration": 7,
    "start_time": "2023-07-25T10:55:36.256Z"
   },
   {
    "duration": 50,
    "start_time": "2023-07-25T10:55:36.265Z"
   },
   {
    "duration": 56,
    "start_time": "2023-07-25T10:55:36.316Z"
   },
   {
    "duration": 16,
    "start_time": "2023-07-25T10:55:36.374Z"
   },
   {
    "duration": 50,
    "start_time": "2023-07-25T10:55:36.392Z"
   },
   {
    "duration": 171,
    "start_time": "2023-07-25T10:55:36.445Z"
   },
   {
    "duration": 8,
    "start_time": "2023-07-25T10:55:36.618Z"
   },
   {
    "duration": 31,
    "start_time": "2023-07-25T10:55:36.627Z"
   },
   {
    "duration": 26,
    "start_time": "2023-07-25T10:55:36.660Z"
   },
   {
    "duration": 96,
    "start_time": "2023-07-25T10:55:36.689Z"
   },
   {
    "duration": 619,
    "start_time": "2023-07-25T10:55:36.786Z"
   },
   {
    "duration": 19,
    "start_time": "2023-07-25T10:55:37.407Z"
   },
   {
    "duration": 80,
    "start_time": "2023-07-25T10:55:37.428Z"
   },
   {
    "duration": 287,
    "start_time": "2023-07-25T10:55:37.510Z"
   },
   {
    "duration": 18,
    "start_time": "2023-07-25T10:59:12.782Z"
   },
   {
    "duration": 20,
    "start_time": "2023-07-25T10:59:13.445Z"
   },
   {
    "duration": 3,
    "start_time": "2023-07-25T10:59:18.817Z"
   },
   {
    "duration": 752,
    "start_time": "2023-07-25T10:59:18.826Z"
   },
   {
    "duration": 6,
    "start_time": "2023-07-25T10:59:19.581Z"
   },
   {
    "duration": 1246,
    "start_time": "2023-07-25T10:59:19.588Z"
   },
   {
    "duration": 747,
    "start_time": "2023-07-25T10:59:20.836Z"
   },
   {
    "duration": 10,
    "start_time": "2023-07-25T10:59:21.586Z"
   },
   {
    "duration": 20,
    "start_time": "2023-07-25T10:59:21.598Z"
   },
   {
    "duration": 9,
    "start_time": "2023-07-25T10:59:21.620Z"
   },
   {
    "duration": 47,
    "start_time": "2023-07-25T10:59:21.631Z"
   },
   {
    "duration": 10,
    "start_time": "2023-07-25T10:59:21.680Z"
   },
   {
    "duration": 177,
    "start_time": "2023-07-25T10:59:21.692Z"
   },
   {
    "duration": 251,
    "start_time": "2023-07-25T10:59:21.875Z"
   },
   {
    "duration": 15,
    "start_time": "2023-07-25T10:59:22.128Z"
   },
   {
    "duration": 62,
    "start_time": "2023-07-25T10:59:22.145Z"
   },
   {
    "duration": 479,
    "start_time": "2023-07-25T10:59:22.209Z"
   },
   {
    "duration": 407,
    "start_time": "2023-07-25T10:59:22.690Z"
   },
   {
    "duration": 218,
    "start_time": "2023-07-25T10:59:23.099Z"
   },
   {
    "duration": 7,
    "start_time": "2023-07-25T10:59:23.319Z"
   },
   {
    "duration": 22,
    "start_time": "2023-07-25T10:59:23.327Z"
   },
   {
    "duration": 26,
    "start_time": "2023-07-25T10:59:23.351Z"
   },
   {
    "duration": 21,
    "start_time": "2023-07-25T10:59:23.379Z"
   },
   {
    "duration": 30,
    "start_time": "2023-07-25T10:59:23.402Z"
   },
   {
    "duration": 140,
    "start_time": "2023-07-25T10:59:23.434Z"
   },
   {
    "duration": 8,
    "start_time": "2023-07-25T10:59:23.576Z"
   },
   {
    "duration": 19,
    "start_time": "2023-07-25T10:59:23.585Z"
   },
   {
    "duration": 9,
    "start_time": "2023-07-25T10:59:23.606Z"
   },
   {
    "duration": 93,
    "start_time": "2023-07-25T10:59:23.617Z"
   },
   {
    "duration": 635,
    "start_time": "2023-07-25T10:59:23.712Z"
   },
   {
    "duration": 19,
    "start_time": "2023-07-25T10:59:46.937Z"
   },
   {
    "duration": 36,
    "start_time": "2023-07-25T10:59:47.238Z"
   },
   {
    "duration": 305,
    "start_time": "2023-07-25T10:59:51.448Z"
   },
   {
    "duration": 18,
    "start_time": "2023-07-25T10:59:52.857Z"
   },
   {
    "duration": 16,
    "start_time": "2023-07-25T11:00:05.988Z"
   },
   {
    "duration": 6,
    "start_time": "2023-07-25T11:00:19.548Z"
   },
   {
    "duration": 17,
    "start_time": "2023-07-25T11:00:23.455Z"
   },
   {
    "duration": 7,
    "start_time": "2023-07-25T11:00:31.096Z"
   },
   {
    "duration": 6,
    "start_time": "2023-07-25T11:00:58.488Z"
   },
   {
    "duration": 5,
    "start_time": "2023-07-25T11:01:08.048Z"
   },
   {
    "duration": 5,
    "start_time": "2023-07-25T11:06:56.515Z"
   },
   {
    "duration": 12,
    "start_time": "2023-07-25T11:07:05.417Z"
   },
   {
    "duration": 12,
    "start_time": "2023-07-25T11:07:13.416Z"
   },
   {
    "duration": 11,
    "start_time": "2023-07-25T11:07:24.907Z"
   },
   {
    "duration": 11,
    "start_time": "2023-07-25T11:08:51.146Z"
   },
   {
    "duration": 31,
    "start_time": "2023-07-25T11:25:12.840Z"
   },
   {
    "duration": 1796,
    "start_time": "2023-07-25T13:09:06.142Z"
   },
   {
    "duration": 1365,
    "start_time": "2023-07-25T13:09:07.940Z"
   },
   {
    "duration": 15,
    "start_time": "2023-07-25T13:09:09.307Z"
   },
   {
    "duration": 1611,
    "start_time": "2023-07-25T13:09:09.327Z"
   },
   {
    "duration": 929,
    "start_time": "2023-07-25T13:09:10.942Z"
   },
   {
    "duration": 13,
    "start_time": "2023-07-25T13:09:11.873Z"
   },
   {
    "duration": 36,
    "start_time": "2023-07-25T13:09:11.888Z"
   },
   {
    "duration": 36,
    "start_time": "2023-07-25T13:09:11.926Z"
   },
   {
    "duration": 67,
    "start_time": "2023-07-25T13:09:11.964Z"
   },
   {
    "duration": 14,
    "start_time": "2023-07-25T13:09:12.036Z"
   },
   {
    "duration": 250,
    "start_time": "2023-07-25T13:09:12.052Z"
   },
   {
    "duration": 187,
    "start_time": "2023-07-25T13:09:12.304Z"
   },
   {
    "duration": 36,
    "start_time": "2023-07-25T13:09:12.493Z"
   },
   {
    "duration": 65,
    "start_time": "2023-07-25T13:09:12.539Z"
   },
   {
    "duration": 596,
    "start_time": "2023-07-25T13:09:12.606Z"
   },
   {
    "duration": 546,
    "start_time": "2023-07-25T13:09:13.204Z"
   },
   {
    "duration": 278,
    "start_time": "2023-07-25T13:09:13.752Z"
   },
   {
    "duration": 12,
    "start_time": "2023-07-25T13:09:14.033Z"
   },
   {
    "duration": 52,
    "start_time": "2023-07-25T13:09:14.046Z"
   },
   {
    "duration": 7,
    "start_time": "2023-07-25T13:09:14.099Z"
   },
   {
    "duration": 46,
    "start_time": "2023-07-25T13:09:14.108Z"
   },
   {
    "duration": 48,
    "start_time": "2023-07-25T13:09:14.156Z"
   },
   {
    "duration": 184,
    "start_time": "2023-07-25T13:09:14.206Z"
   },
   {
    "duration": 10,
    "start_time": "2023-07-25T13:09:14.391Z"
   },
   {
    "duration": 54,
    "start_time": "2023-07-25T13:09:14.402Z"
   },
   {
    "duration": 23,
    "start_time": "2023-07-25T13:09:14.459Z"
   },
   {
    "duration": 102,
    "start_time": "2023-07-25T13:09:14.484Z"
   },
   {
    "duration": 849,
    "start_time": "2023-07-25T13:09:14.588Z"
   },
   {
    "duration": 97,
    "start_time": "2023-07-25T13:09:21.340Z"
   },
   {
    "duration": 965,
    "start_time": "2023-07-25T13:12:57.234Z"
   },
   {
    "duration": 6,
    "start_time": "2023-07-25T13:13:40.225Z"
   },
   {
    "duration": 1033,
    "start_time": "2023-07-25T13:13:40.234Z"
   },
   {
    "duration": 6,
    "start_time": "2023-07-25T13:13:41.269Z"
   },
   {
    "duration": 1489,
    "start_time": "2023-07-25T13:13:41.277Z"
   },
   {
    "duration": 999,
    "start_time": "2023-07-25T13:13:42.767Z"
   },
   {
    "duration": 10,
    "start_time": "2023-07-25T13:13:43.767Z"
   },
   {
    "duration": 33,
    "start_time": "2023-07-25T13:13:43.779Z"
   },
   {
    "duration": 17,
    "start_time": "2023-07-25T13:13:43.820Z"
   },
   {
    "duration": 26,
    "start_time": "2023-07-25T13:13:43.841Z"
   },
   {
    "duration": 10,
    "start_time": "2023-07-25T13:13:43.868Z"
   },
   {
    "duration": 168,
    "start_time": "2023-07-25T13:13:43.880Z"
   },
   {
    "duration": 190,
    "start_time": "2023-07-25T13:13:44.050Z"
   },
   {
    "duration": 18,
    "start_time": "2023-07-25T13:13:44.242Z"
   },
   {
    "duration": 78,
    "start_time": "2023-07-25T13:13:44.262Z"
   },
   {
    "duration": 591,
    "start_time": "2023-07-25T13:13:44.342Z"
   },
   {
    "duration": 532,
    "start_time": "2023-07-25T13:13:44.935Z"
   },
   {
    "duration": 293,
    "start_time": "2023-07-25T13:13:45.469Z"
   },
   {
    "duration": 10,
    "start_time": "2023-07-25T13:13:45.764Z"
   },
   {
    "duration": 54,
    "start_time": "2023-07-25T13:13:45.776Z"
   },
   {
    "duration": 7,
    "start_time": "2023-07-25T13:13:45.838Z"
   },
   {
    "duration": 30,
    "start_time": "2023-07-25T13:13:45.846Z"
   },
   {
    "duration": 51,
    "start_time": "2023-07-25T13:13:45.878Z"
   },
   {
    "duration": 204,
    "start_time": "2023-07-25T13:13:45.931Z"
   },
   {
    "duration": 13,
    "start_time": "2023-07-25T13:13:46.139Z"
   },
   {
    "duration": 37,
    "start_time": "2023-07-25T13:13:46.155Z"
   },
   {
    "duration": 53,
    "start_time": "2023-07-25T13:13:46.194Z"
   },
   {
    "duration": 125,
    "start_time": "2023-07-25T13:13:46.249Z"
   },
   {
    "duration": 772,
    "start_time": "2023-07-25T13:13:46.375Z"
   },
   {
    "duration": 93,
    "start_time": "2023-07-25T13:13:47.149Z"
   },
   {
    "duration": 18,
    "start_time": "2023-07-25T13:13:47.244Z"
   },
   {
    "duration": 311,
    "start_time": "2023-07-25T13:13:47.264Z"
   },
   {
    "duration": 18,
    "start_time": "2023-07-25T13:13:47.577Z"
   },
   {
    "duration": 299,
    "start_time": "2023-07-25T13:13:50.639Z"
   },
   {
    "duration": 5,
    "start_time": "2023-07-25T13:15:01.454Z"
   },
   {
    "duration": 1101,
    "start_time": "2023-07-25T13:15:01.461Z"
   },
   {
    "duration": 6,
    "start_time": "2023-07-25T13:15:02.564Z"
   },
   {
    "duration": 1517,
    "start_time": "2023-07-25T13:15:02.573Z"
   },
   {
    "duration": 1050,
    "start_time": "2023-07-25T13:15:04.093Z"
   },
   {
    "duration": 12,
    "start_time": "2023-07-25T13:15:05.144Z"
   },
   {
    "duration": 70,
    "start_time": "2023-07-25T13:15:05.158Z"
   },
   {
    "duration": 36,
    "start_time": "2023-07-25T13:15:05.231Z"
   },
   {
    "duration": 36,
    "start_time": "2023-07-25T13:15:05.269Z"
   },
   {
    "duration": 51,
    "start_time": "2023-07-25T13:15:05.307Z"
   },
   {
    "duration": 143,
    "start_time": "2023-07-25T13:15:05.362Z"
   },
   {
    "duration": 181,
    "start_time": "2023-07-25T13:15:05.507Z"
   },
   {
    "duration": 41,
    "start_time": "2023-07-25T13:15:05.690Z"
   },
   {
    "duration": 70,
    "start_time": "2023-07-25T13:15:05.733Z"
   },
   {
    "duration": 657,
    "start_time": "2023-07-25T13:15:05.805Z"
   },
   {
    "duration": 520,
    "start_time": "2023-07-25T13:15:06.464Z"
   },
   {
    "duration": 285,
    "start_time": "2023-07-25T13:15:06.986Z"
   },
   {
    "duration": 8,
    "start_time": "2023-07-25T13:15:07.274Z"
   },
   {
    "duration": 55,
    "start_time": "2023-07-25T13:15:07.284Z"
   },
   {
    "duration": 42,
    "start_time": "2023-07-25T13:15:07.341Z"
   },
   {
    "duration": 56,
    "start_time": "2023-07-25T13:15:07.385Z"
   },
   {
    "duration": 62,
    "start_time": "2023-07-25T13:15:07.443Z"
   },
   {
    "duration": 201,
    "start_time": "2023-07-25T13:15:07.507Z"
   },
   {
    "duration": 13,
    "start_time": "2023-07-25T13:15:07.716Z"
   },
   {
    "duration": 39,
    "start_time": "2023-07-25T13:15:07.732Z"
   },
   {
    "duration": 71,
    "start_time": "2023-07-25T13:15:07.773Z"
   },
   {
    "duration": 92,
    "start_time": "2023-07-25T13:15:07.846Z"
   },
   {
    "duration": 811,
    "start_time": "2023-07-25T13:15:07.940Z"
   },
   {
    "duration": 106,
    "start_time": "2023-07-25T13:15:13.932Z"
   },
   {
    "duration": 729,
    "start_time": "2023-07-25T13:15:14.446Z"
   },
   {
    "duration": 87,
    "start_time": "2023-07-25T13:15:18.462Z"
   },
   {
    "duration": 96,
    "start_time": "2023-07-25T13:15:39.342Z"
   },
   {
    "duration": 23,
    "start_time": "2023-07-25T13:15:40.727Z"
   },
   {
    "duration": 300,
    "start_time": "2023-07-25T13:15:41.602Z"
   },
   {
    "duration": 21,
    "start_time": "2023-07-25T13:15:42.531Z"
   },
   {
    "duration": 308,
    "start_time": "2023-07-25T13:15:44.531Z"
   },
   {
    "duration": 47,
    "start_time": "2023-07-25T13:15:45.733Z"
   },
   {
    "duration": 22,
    "start_time": "2023-07-25T13:37:04.563Z"
   },
   {
    "duration": 77,
    "start_time": "2023-07-25T13:41:57.038Z"
   },
   {
    "duration": 91,
    "start_time": "2023-07-25T13:42:18.342Z"
   },
   {
    "duration": 74,
    "start_time": "2023-07-25T13:42:35.161Z"
   },
   {
    "duration": 294,
    "start_time": "2023-07-25T13:44:17.936Z"
   },
   {
    "duration": 25,
    "start_time": "2023-07-25T13:50:43.507Z"
   },
   {
    "duration": 4,
    "start_time": "2023-07-25T13:51:00.384Z"
   },
   {
    "duration": 903,
    "start_time": "2023-07-25T13:51:04.432Z"
   },
   {
    "duration": 1765,
    "start_time": "2023-07-25T18:40:19.797Z"
   },
   {
    "duration": 1303,
    "start_time": "2023-07-25T18:40:21.564Z"
   },
   {
    "duration": 5,
    "start_time": "2023-07-25T18:40:22.869Z"
   },
   {
    "duration": 1475,
    "start_time": "2023-07-25T18:40:22.876Z"
   },
   {
    "duration": 907,
    "start_time": "2023-07-25T18:40:24.354Z"
   },
   {
    "duration": 10,
    "start_time": "2023-07-25T18:40:25.262Z"
   },
   {
    "duration": 23,
    "start_time": "2023-07-25T18:40:25.273Z"
   },
   {
    "duration": 15,
    "start_time": "2023-07-25T18:40:25.309Z"
   },
   {
    "duration": 23,
    "start_time": "2023-07-25T18:40:25.326Z"
   },
   {
    "duration": 8,
    "start_time": "2023-07-25T18:40:25.351Z"
   },
   {
    "duration": 255,
    "start_time": "2023-07-25T18:40:25.361Z"
   },
   {
    "duration": 182,
    "start_time": "2023-07-25T18:40:25.619Z"
   },
   {
    "duration": 21,
    "start_time": "2023-07-25T18:40:25.807Z"
   },
   {
    "duration": 86,
    "start_time": "2023-07-25T18:40:25.832Z"
   },
   {
    "duration": 567,
    "start_time": "2023-07-25T18:40:25.921Z"
   },
   {
    "duration": 493,
    "start_time": "2023-07-25T18:40:26.490Z"
   },
   {
    "duration": 282,
    "start_time": "2023-07-25T18:40:26.985Z"
   },
   {
    "duration": 9,
    "start_time": "2023-07-25T18:40:27.269Z"
   },
   {
    "duration": 41,
    "start_time": "2023-07-25T18:40:27.279Z"
   },
   {
    "duration": 17,
    "start_time": "2023-07-25T18:40:27.322Z"
   },
   {
    "duration": 8,
    "start_time": "2023-07-25T18:40:27.341Z"
   },
   {
    "duration": 30,
    "start_time": "2023-07-25T18:40:27.350Z"
   },
   {
    "duration": 185,
    "start_time": "2023-07-25T18:40:27.382Z"
   },
   {
    "duration": 8,
    "start_time": "2023-07-25T18:40:27.568Z"
   },
   {
    "duration": 47,
    "start_time": "2023-07-25T18:40:27.578Z"
   },
   {
    "duration": 11,
    "start_time": "2023-07-25T18:40:27.627Z"
   },
   {
    "duration": 79,
    "start_time": "2023-07-25T18:40:27.639Z"
   },
   {
    "duration": 834,
    "start_time": "2023-07-25T18:40:27.721Z"
   },
   {
    "duration": 94,
    "start_time": "2023-07-25T18:40:28.557Z"
   },
   {
    "duration": 17,
    "start_time": "2023-07-25T18:40:28.653Z"
   },
   {
    "duration": 320,
    "start_time": "2023-07-25T18:40:28.672Z"
   },
   {
    "duration": 32,
    "start_time": "2023-07-25T18:40:28.994Z"
   },
   {
    "duration": 291,
    "start_time": "2023-07-25T18:40:29.028Z"
   },
   {
    "duration": 28,
    "start_time": "2023-07-25T18:40:29.320Z"
   },
   {
    "duration": 112,
    "start_time": "2023-07-25T18:40:29.350Z"
   },
   {
    "duration": 107,
    "start_time": "2023-07-25T18:40:29.464Z"
   },
   {
    "duration": 75,
    "start_time": "2023-07-25T18:40:29.573Z"
   },
   {
    "duration": 76,
    "start_time": "2023-07-25T18:40:34.547Z"
   },
   {
    "duration": 987,
    "start_time": "2023-07-25T18:40:38.957Z"
   },
   {
    "duration": 26,
    "start_time": "2023-07-25T18:40:54.473Z"
   },
   {
    "duration": 30,
    "start_time": "2023-07-25T18:47:37.731Z"
   },
   {
    "duration": 37,
    "start_time": "2023-07-25T18:47:52.059Z"
   },
   {
    "duration": 57,
    "start_time": "2023-07-25T18:48:34.001Z"
   },
   {
    "duration": 3,
    "start_time": "2023-07-25T18:49:54.438Z"
   },
   {
    "duration": 943,
    "start_time": "2023-07-25T18:49:54.455Z"
   },
   {
    "duration": 31,
    "start_time": "2023-07-25T18:49:55.401Z"
   },
   {
    "duration": 1564,
    "start_time": "2023-07-25T18:49:55.434Z"
   },
   {
    "duration": 1017,
    "start_time": "2023-07-25T18:49:57.000Z"
   },
   {
    "duration": 15,
    "start_time": "2023-07-25T18:49:58.019Z"
   },
   {
    "duration": 28,
    "start_time": "2023-07-25T18:49:58.036Z"
   },
   {
    "duration": 10,
    "start_time": "2023-07-25T18:49:58.066Z"
   },
   {
    "duration": 56,
    "start_time": "2023-07-25T18:49:58.078Z"
   },
   {
    "duration": 16,
    "start_time": "2023-07-25T18:49:58.137Z"
   },
   {
    "duration": 199,
    "start_time": "2023-07-25T18:49:58.156Z"
   },
   {
    "duration": 199,
    "start_time": "2023-07-25T18:49:58.357Z"
   },
   {
    "duration": 23,
    "start_time": "2023-07-25T18:49:58.558Z"
   },
   {
    "duration": 84,
    "start_time": "2023-07-25T18:49:58.582Z"
   },
   {
    "duration": 622,
    "start_time": "2023-07-25T18:49:58.667Z"
   },
   {
    "duration": 634,
    "start_time": "2023-07-25T18:49:59.291Z"
   },
   {
    "duration": 292,
    "start_time": "2023-07-25T18:49:59.927Z"
   },
   {
    "duration": 9,
    "start_time": "2023-07-25T18:50:00.222Z"
   },
   {
    "duration": 83,
    "start_time": "2023-07-25T18:50:00.233Z"
   },
   {
    "duration": 15,
    "start_time": "2023-07-25T18:50:00.327Z"
   },
   {
    "duration": 43,
    "start_time": "2023-07-25T18:50:00.344Z"
   },
   {
    "duration": 123,
    "start_time": "2023-07-25T18:50:00.389Z"
   },
   {
    "duration": 260,
    "start_time": "2023-07-25T18:50:00.514Z"
   },
   {
    "duration": 12,
    "start_time": "2023-07-25T18:50:00.777Z"
   },
   {
    "duration": 62,
    "start_time": "2023-07-25T18:50:00.791Z"
   },
   {
    "duration": 66,
    "start_time": "2023-07-25T18:50:00.855Z"
   },
   {
    "duration": 130,
    "start_time": "2023-07-25T18:50:00.937Z"
   },
   {
    "duration": 876,
    "start_time": "2023-07-25T18:50:01.070Z"
   },
   {
    "duration": 95,
    "start_time": "2023-07-25T18:50:01.952Z"
   },
   {
    "duration": 42,
    "start_time": "2023-07-25T18:50:02.051Z"
   },
   {
    "duration": 543,
    "start_time": "2023-07-25T18:50:02.095Z"
   },
   {
    "duration": 26,
    "start_time": "2023-07-25T18:50:02.647Z"
   },
   {
    "duration": 391,
    "start_time": "2023-07-25T18:50:02.675Z"
   },
   {
    "duration": 23,
    "start_time": "2023-07-25T18:50:05.327Z"
   },
   {
    "duration": 104,
    "start_time": "2023-07-25T18:50:05.907Z"
   },
   {
    "duration": 116,
    "start_time": "2023-07-25T18:50:09.423Z"
   },
   {
    "duration": 68,
    "start_time": "2023-07-25T18:50:11.626Z"
   },
   {
    "duration": 78,
    "start_time": "2023-07-25T18:50:15.291Z"
   },
   {
    "duration": 15,
    "start_time": "2023-07-25T18:50:22.227Z"
   },
   {
    "duration": 38,
    "start_time": "2023-07-25T18:50:25.899Z"
   },
   {
    "duration": 97,
    "start_time": "2023-07-25T18:51:31.906Z"
   },
   {
    "duration": 28,
    "start_time": "2023-07-25T18:51:40.978Z"
   },
   {
    "duration": 23,
    "start_time": "2023-07-25T18:51:46.956Z"
   },
   {
    "duration": 63,
    "start_time": "2023-07-25T18:57:24.178Z"
   },
   {
    "duration": 64,
    "start_time": "2023-07-25T18:57:53.530Z"
   },
   {
    "duration": 82,
    "start_time": "2023-07-25T18:58:32.396Z"
   },
   {
    "duration": 50,
    "start_time": "2023-07-25T19:00:41.194Z"
   },
   {
    "duration": 6,
    "start_time": "2023-07-25T19:00:55.141Z"
   },
   {
    "duration": 71,
    "start_time": "2023-07-25T19:03:36.057Z"
   },
   {
    "duration": 12,
    "start_time": "2023-07-25T19:06:56.191Z"
   },
   {
    "duration": 3,
    "start_time": "2023-07-25T19:07:27.294Z"
   },
   {
    "duration": 1582,
    "start_time": "2023-07-25T19:07:42.838Z"
   },
   {
    "duration": 1718,
    "start_time": "2023-07-26T10:11:00.423Z"
   },
   {
    "duration": 1279,
    "start_time": "2023-07-26T10:11:02.143Z"
   },
   {
    "duration": 5,
    "start_time": "2023-07-26T10:11:03.424Z"
   },
   {
    "duration": 1464,
    "start_time": "2023-07-26T10:11:03.431Z"
   },
   {
    "duration": 952,
    "start_time": "2023-07-26T10:11:04.897Z"
   },
   {
    "duration": 10,
    "start_time": "2023-07-26T10:11:05.851Z"
   },
   {
    "duration": 52,
    "start_time": "2023-07-26T10:11:05.863Z"
   },
   {
    "duration": 18,
    "start_time": "2023-07-26T10:11:05.916Z"
   },
   {
    "duration": 34,
    "start_time": "2023-07-26T10:11:05.935Z"
   },
   {
    "duration": 22,
    "start_time": "2023-07-26T10:11:05.972Z"
   },
   {
    "duration": 164,
    "start_time": "2023-07-26T10:11:05.996Z"
   },
   {
    "duration": 172,
    "start_time": "2023-07-26T10:11:06.162Z"
   },
   {
    "duration": 16,
    "start_time": "2023-07-26T10:11:06.336Z"
   },
   {
    "duration": 83,
    "start_time": "2023-07-26T10:11:06.354Z"
   },
   {
    "duration": 531,
    "start_time": "2023-07-26T10:11:06.439Z"
   },
   {
    "duration": 477,
    "start_time": "2023-07-26T10:11:06.971Z"
   },
   {
    "duration": 277,
    "start_time": "2023-07-26T10:11:07.450Z"
   },
   {
    "duration": 9,
    "start_time": "2023-07-26T10:11:07.729Z"
   },
   {
    "duration": 36,
    "start_time": "2023-07-26T10:11:07.740Z"
   },
   {
    "duration": 10,
    "start_time": "2023-07-26T10:11:07.778Z"
   },
   {
    "duration": 10,
    "start_time": "2023-07-26T10:11:07.790Z"
   },
   {
    "duration": 41,
    "start_time": "2023-07-26T10:11:07.802Z"
   },
   {
    "duration": 165,
    "start_time": "2023-07-26T10:11:07.845Z"
   },
   {
    "duration": 8,
    "start_time": "2023-07-26T10:11:08.012Z"
   },
   {
    "duration": 33,
    "start_time": "2023-07-26T10:11:08.022Z"
   },
   {
    "duration": 11,
    "start_time": "2023-07-26T10:11:08.057Z"
   },
   {
    "duration": 85,
    "start_time": "2023-07-26T10:11:08.070Z"
   },
   {
    "duration": 796,
    "start_time": "2023-07-26T10:11:08.158Z"
   },
   {
    "duration": 98,
    "start_time": "2023-07-26T10:11:08.956Z"
   },
   {
    "duration": 43,
    "start_time": "2023-07-26T10:11:09.056Z"
   },
   {
    "duration": 290,
    "start_time": "2023-07-26T10:11:09.101Z"
   },
   {
    "duration": 23,
    "start_time": "2023-07-26T10:11:09.393Z"
   },
   {
    "duration": 289,
    "start_time": "2023-07-26T10:11:09.418Z"
   },
   {
    "duration": 20,
    "start_time": "2023-07-26T10:11:09.708Z"
   },
   {
    "duration": 123,
    "start_time": "2023-07-26T10:11:09.730Z"
   },
   {
    "duration": 114,
    "start_time": "2023-07-26T10:11:09.855Z"
   },
   {
    "duration": 77,
    "start_time": "2023-07-26T10:11:09.971Z"
   },
   {
    "duration": 28,
    "start_time": "2023-07-26T10:11:15.675Z"
   },
   {
    "duration": 844,
    "start_time": "2023-07-26T10:11:27.811Z"
   },
   {
    "duration": 21,
    "start_time": "2023-07-26T10:11:37.352Z"
   },
   {
    "duration": 21,
    "start_time": "2023-07-26T10:11:48.462Z"
   },
   {
    "duration": 23,
    "start_time": "2023-07-26T10:12:03.837Z"
   },
   {
    "duration": 23,
    "start_time": "2023-07-26T10:12:15.429Z"
   },
   {
    "duration": 133,
    "start_time": "2023-07-26T10:13:18.528Z"
   },
   {
    "duration": 3,
    "start_time": "2023-07-26T10:14:33.969Z"
   },
   {
    "duration": 894,
    "start_time": "2023-07-26T10:14:33.975Z"
   },
   {
    "duration": 10,
    "start_time": "2023-07-26T10:14:34.871Z"
   },
   {
    "duration": 1358,
    "start_time": "2023-07-26T10:14:34.888Z"
   },
   {
    "duration": 859,
    "start_time": "2023-07-26T10:14:36.248Z"
   },
   {
    "duration": 12,
    "start_time": "2023-07-26T10:14:37.109Z"
   },
   {
    "duration": 92,
    "start_time": "2023-07-26T10:14:37.122Z"
   },
   {
    "duration": 24,
    "start_time": "2023-07-26T10:14:37.216Z"
   },
   {
    "duration": 49,
    "start_time": "2023-07-26T10:14:37.241Z"
   },
   {
    "duration": 103,
    "start_time": "2023-07-26T10:14:37.292Z"
   },
   {
    "duration": 171,
    "start_time": "2023-07-26T10:14:37.397Z"
   },
   {
    "duration": 154,
    "start_time": "2023-07-26T10:14:37.569Z"
   },
   {
    "duration": 16,
    "start_time": "2023-07-26T10:14:37.725Z"
   },
   {
    "duration": 131,
    "start_time": "2023-07-26T10:14:37.742Z"
   },
   {
    "duration": 479,
    "start_time": "2023-07-26T10:14:37.875Z"
   },
   {
    "duration": 423,
    "start_time": "2023-07-26T10:14:38.356Z"
   },
   {
    "duration": 235,
    "start_time": "2023-07-26T10:14:38.782Z"
   },
   {
    "duration": 7,
    "start_time": "2023-07-26T10:14:39.019Z"
   },
   {
    "duration": 71,
    "start_time": "2023-07-26T10:14:39.028Z"
   },
   {
    "duration": 5,
    "start_time": "2023-07-26T10:14:39.101Z"
   },
   {
    "duration": 32,
    "start_time": "2023-07-26T10:14:39.108Z"
   },
   {
    "duration": 94,
    "start_time": "2023-07-26T10:14:39.142Z"
   },
   {
    "duration": 141,
    "start_time": "2023-07-26T10:14:39.238Z"
   },
   {
    "duration": 10,
    "start_time": "2023-07-26T10:14:39.381Z"
   },
   {
    "duration": 75,
    "start_time": "2023-07-26T10:14:39.392Z"
   },
   {
    "duration": 50,
    "start_time": "2023-07-26T10:14:39.468Z"
   },
   {
    "duration": 92,
    "start_time": "2023-07-26T10:14:39.520Z"
   },
   {
    "duration": 664,
    "start_time": "2023-07-26T10:14:39.615Z"
   },
   {
    "duration": 85,
    "start_time": "2023-07-26T10:14:40.281Z"
   },
   {
    "duration": 80,
    "start_time": "2023-07-26T10:14:40.368Z"
   },
   {
    "duration": 394,
    "start_time": "2023-07-26T10:14:40.450Z"
   },
   {
    "duration": 25,
    "start_time": "2023-07-26T10:14:40.845Z"
   },
   {
    "duration": 288,
    "start_time": "2023-07-26T10:14:40.872Z"
   },
   {
    "duration": 25,
    "start_time": "2023-07-26T10:14:41.162Z"
   },
   {
    "duration": 97,
    "start_time": "2023-07-26T10:14:41.189Z"
   },
   {
    "duration": 86,
    "start_time": "2023-07-26T10:14:41.287Z"
   },
   {
    "duration": 57,
    "start_time": "2023-07-26T10:14:41.386Z"
   },
   {
    "duration": 23,
    "start_time": "2023-07-26T10:14:45.457Z"
   },
   {
    "duration": 3451,
    "start_time": "2023-07-26T10:14:47.456Z"
   },
   {
    "duration": 0,
    "start_time": "2023-07-26T10:14:50.908Z"
   },
   {
    "duration": 4,
    "start_time": "2023-07-26T10:14:58.108Z"
   },
   {
    "duration": 843,
    "start_time": "2023-07-26T10:14:58.114Z"
   },
   {
    "duration": 6,
    "start_time": "2023-07-26T10:14:58.959Z"
   },
   {
    "duration": 1278,
    "start_time": "2023-07-26T10:14:58.967Z"
   },
   {
    "duration": 911,
    "start_time": "2023-07-26T10:15:00.247Z"
   },
   {
    "duration": 9,
    "start_time": "2023-07-26T10:15:01.160Z"
   },
   {
    "duration": 348,
    "start_time": "2023-07-26T10:15:01.170Z"
   },
   {
    "duration": 15,
    "start_time": "2023-07-26T10:15:01.520Z"
   },
   {
    "duration": 87,
    "start_time": "2023-07-26T10:15:01.538Z"
   },
   {
    "duration": 82,
    "start_time": "2023-07-26T10:15:01.626Z"
   },
   {
    "duration": 181,
    "start_time": "2023-07-26T10:15:01.709Z"
   },
   {
    "duration": 157,
    "start_time": "2023-07-26T10:15:01.892Z"
   },
   {
    "duration": 17,
    "start_time": "2023-07-26T10:15:02.050Z"
   },
   {
    "duration": 122,
    "start_time": "2023-07-26T10:15:02.069Z"
   },
   {
    "duration": 521,
    "start_time": "2023-07-26T10:15:02.192Z"
   },
   {
    "duration": 384,
    "start_time": "2023-07-26T10:15:02.714Z"
   },
   {
    "duration": 224,
    "start_time": "2023-07-26T10:15:03.100Z"
   },
   {
    "duration": 6,
    "start_time": "2023-07-26T10:15:03.326Z"
   },
   {
    "duration": 37,
    "start_time": "2023-07-26T10:15:03.334Z"
   },
   {
    "duration": 6,
    "start_time": "2023-07-26T10:15:03.373Z"
   },
   {
    "duration": 30,
    "start_time": "2023-07-26T10:15:03.380Z"
   },
   {
    "duration": 27,
    "start_time": "2023-07-26T10:15:03.412Z"
   },
   {
    "duration": 146,
    "start_time": "2023-07-26T10:15:03.441Z"
   },
   {
    "duration": 9,
    "start_time": "2023-07-26T10:15:03.589Z"
   },
   {
    "duration": 34,
    "start_time": "2023-07-26T10:15:03.600Z"
   },
   {
    "duration": 34,
    "start_time": "2023-07-26T10:15:03.636Z"
   },
   {
    "duration": 69,
    "start_time": "2023-07-26T10:15:03.672Z"
   },
   {
    "duration": 632,
    "start_time": "2023-07-26T10:15:03.743Z"
   },
   {
    "duration": 86,
    "start_time": "2023-07-26T10:15:04.377Z"
   },
   {
    "duration": 24,
    "start_time": "2023-07-26T10:15:04.465Z"
   },
   {
    "duration": 287,
    "start_time": "2023-07-26T10:15:04.491Z"
   },
   {
    "duration": 28,
    "start_time": "2023-07-26T10:15:04.780Z"
   },
   {
    "duration": 289,
    "start_time": "2023-07-26T10:15:04.811Z"
   },
   {
    "duration": 20,
    "start_time": "2023-07-26T10:15:05.102Z"
   },
   {
    "duration": 90,
    "start_time": "2023-07-26T10:15:05.124Z"
   },
   {
    "duration": 93,
    "start_time": "2023-07-26T10:15:05.216Z"
   },
   {
    "duration": 56,
    "start_time": "2023-07-26T10:15:05.311Z"
   },
   {
    "duration": 23,
    "start_time": "2023-07-26T10:16:19.923Z"
   },
   {
    "duration": 3212,
    "start_time": "2023-07-26T10:16:24.152Z"
   },
   {
    "duration": 0,
    "start_time": "2023-07-26T10:16:27.366Z"
   },
   {
    "duration": 811,
    "start_time": "2023-07-26T10:16:39.376Z"
   },
   {
    "duration": 22,
    "start_time": "2023-07-26T10:16:41.046Z"
   },
   {
    "duration": 21,
    "start_time": "2023-07-26T10:17:11.411Z"
   },
   {
    "duration": 3,
    "start_time": "2023-07-26T11:24:55.396Z"
   },
   {
    "duration": 790,
    "start_time": "2023-07-26T11:24:55.401Z"
   },
   {
    "duration": 6,
    "start_time": "2023-07-26T11:24:56.192Z"
   },
   {
    "duration": 1331,
    "start_time": "2023-07-26T11:24:56.199Z"
   },
   {
    "duration": 877,
    "start_time": "2023-07-26T11:24:57.533Z"
   },
   {
    "duration": 12,
    "start_time": "2023-07-26T11:24:58.412Z"
   },
   {
    "duration": 50,
    "start_time": "2023-07-26T11:24:58.426Z"
   },
   {
    "duration": 22,
    "start_time": "2023-07-26T11:24:58.477Z"
   },
   {
    "duration": 59,
    "start_time": "2023-07-26T11:24:58.501Z"
   },
   {
    "duration": 209,
    "start_time": "2023-07-26T11:24:58.562Z"
   },
   {
    "duration": 370,
    "start_time": "2023-07-26T11:24:58.772Z"
   },
   {
    "duration": 147,
    "start_time": "2023-07-26T11:24:59.143Z"
   },
   {
    "duration": 16,
    "start_time": "2023-07-26T11:24:59.291Z"
   },
   {
    "duration": 50,
    "start_time": "2023-07-26T11:24:59.309Z"
   },
   {
    "duration": 447,
    "start_time": "2023-07-26T11:24:59.361Z"
   },
   {
    "duration": 403,
    "start_time": "2023-07-26T11:24:59.810Z"
   },
   {
    "duration": 236,
    "start_time": "2023-07-26T11:25:00.215Z"
   },
   {
    "duration": 8,
    "start_time": "2023-07-26T11:25:00.453Z"
   },
   {
    "duration": 64,
    "start_time": "2023-07-26T11:25:00.463Z"
   },
   {
    "duration": 39,
    "start_time": "2023-07-26T11:25:00.529Z"
   },
   {
    "duration": 61,
    "start_time": "2023-07-26T11:25:00.570Z"
   },
   {
    "duration": 63,
    "start_time": "2023-07-26T11:25:00.633Z"
   },
   {
    "duration": 157,
    "start_time": "2023-07-26T11:25:00.698Z"
   },
   {
    "duration": 9,
    "start_time": "2023-07-26T11:25:00.857Z"
   },
   {
    "duration": 54,
    "start_time": "2023-07-26T11:25:00.867Z"
   },
   {
    "duration": 35,
    "start_time": "2023-07-26T11:25:00.923Z"
   },
   {
    "duration": 86,
    "start_time": "2023-07-26T11:25:00.960Z"
   },
   {
    "duration": 638,
    "start_time": "2023-07-26T11:25:01.047Z"
   },
   {
    "duration": 80,
    "start_time": "2023-07-26T11:25:01.687Z"
   },
   {
    "duration": 499,
    "start_time": "2023-07-26T11:25:01.769Z"
   },
   {
    "duration": 316,
    "start_time": "2023-07-26T11:25:02.270Z"
   },
   {
    "duration": 19,
    "start_time": "2023-07-26T11:25:02.588Z"
   },
   {
    "duration": 298,
    "start_time": "2023-07-26T11:25:02.609Z"
   },
   {
    "duration": 20,
    "start_time": "2023-07-26T11:25:02.909Z"
   },
   {
    "duration": 160,
    "start_time": "2023-07-26T11:25:02.931Z"
   },
   {
    "duration": 120,
    "start_time": "2023-07-26T11:25:03.093Z"
   },
   {
    "duration": 152,
    "start_time": "2023-07-26T11:25:03.214Z"
   },
   {
    "duration": 22,
    "start_time": "2023-07-26T11:25:06.514Z"
   },
   {
    "duration": 759,
    "start_time": "2023-07-26T11:25:07.899Z"
   },
   {
    "duration": 21,
    "start_time": "2023-07-26T11:25:14.954Z"
   },
   {
    "duration": 54,
    "start_time": "2023-07-26T11:26:57.383Z"
   },
   {
    "duration": 4,
    "start_time": "2023-07-26T11:27:04.383Z"
   },
   {
    "duration": 796,
    "start_time": "2023-07-26T11:27:04.389Z"
   },
   {
    "duration": 5,
    "start_time": "2023-07-26T11:27:05.186Z"
   },
   {
    "duration": 1271,
    "start_time": "2023-07-26T11:27:05.193Z"
   },
   {
    "duration": 853,
    "start_time": "2023-07-26T11:27:06.466Z"
   },
   {
    "duration": 10,
    "start_time": "2023-07-26T11:27:07.320Z"
   },
   {
    "duration": 16,
    "start_time": "2023-07-26T11:27:07.332Z"
   },
   {
    "duration": 7,
    "start_time": "2023-07-26T11:27:07.350Z"
   },
   {
    "duration": 40,
    "start_time": "2023-07-26T11:27:07.359Z"
   },
   {
    "duration": 9,
    "start_time": "2023-07-26T11:27:07.400Z"
   },
   {
    "duration": 165,
    "start_time": "2023-07-26T11:27:07.410Z"
   },
   {
    "duration": 155,
    "start_time": "2023-07-26T11:27:07.577Z"
   },
   {
    "duration": 15,
    "start_time": "2023-07-26T11:27:07.734Z"
   },
   {
    "duration": 63,
    "start_time": "2023-07-26T11:27:07.752Z"
   },
   {
    "duration": 430,
    "start_time": "2023-07-26T11:27:07.817Z"
   },
   {
    "duration": 380,
    "start_time": "2023-07-26T11:27:08.248Z"
   },
   {
    "duration": 225,
    "start_time": "2023-07-26T11:27:08.630Z"
   },
   {
    "duration": 6,
    "start_time": "2023-07-26T11:27:08.857Z"
   },
   {
    "duration": 32,
    "start_time": "2023-07-26T11:27:08.865Z"
   },
   {
    "duration": 6,
    "start_time": "2023-07-26T11:27:08.898Z"
   },
   {
    "duration": 7,
    "start_time": "2023-07-26T11:27:08.905Z"
   },
   {
    "duration": 23,
    "start_time": "2023-07-26T11:27:08.913Z"
   },
   {
    "duration": 173,
    "start_time": "2023-07-26T11:27:08.937Z"
   },
   {
    "duration": 8,
    "start_time": "2023-07-26T11:27:09.111Z"
   },
   {
    "duration": 16,
    "start_time": "2023-07-26T11:27:09.121Z"
   },
   {
    "duration": 9,
    "start_time": "2023-07-26T11:27:09.138Z"
   },
   {
    "duration": 89,
    "start_time": "2023-07-26T11:27:09.149Z"
   },
   {
    "duration": 636,
    "start_time": "2023-07-26T11:27:09.239Z"
   },
   {
    "duration": 87,
    "start_time": "2023-07-26T11:27:09.877Z"
   },
   {
    "duration": 24,
    "start_time": "2023-07-26T11:27:09.966Z"
   },
   {
    "duration": 262,
    "start_time": "2023-07-26T11:27:09.991Z"
   },
   {
    "duration": 18,
    "start_time": "2023-07-26T11:27:10.255Z"
   },
   {
    "duration": 257,
    "start_time": "2023-07-26T11:27:10.274Z"
   },
   {
    "duration": 20,
    "start_time": "2023-07-26T11:27:10.533Z"
   },
   {
    "duration": 96,
    "start_time": "2023-07-26T11:27:10.555Z"
   },
   {
    "duration": 92,
    "start_time": "2023-07-26T11:27:10.653Z"
   },
   {
    "duration": 57,
    "start_time": "2023-07-26T11:27:10.747Z"
   },
   {
    "duration": 24,
    "start_time": "2023-07-26T11:28:41.394Z"
   },
   {
    "duration": 58,
    "start_time": "2023-07-26T11:29:38.948Z"
   },
   {
    "duration": 3,
    "start_time": "2023-07-26T12:17:06.732Z"
   },
   {
    "duration": 831,
    "start_time": "2023-07-26T12:17:06.737Z"
   },
   {
    "duration": 6,
    "start_time": "2023-07-26T12:17:07.569Z"
   },
   {
    "duration": 1359,
    "start_time": "2023-07-26T12:17:07.577Z"
   },
   {
    "duration": 942,
    "start_time": "2023-07-26T12:17:08.938Z"
   },
   {
    "duration": 15,
    "start_time": "2023-07-26T12:17:09.886Z"
   },
   {
    "duration": 17,
    "start_time": "2023-07-26T12:17:09.903Z"
   },
   {
    "duration": 8,
    "start_time": "2023-07-26T12:17:09.921Z"
   },
   {
    "duration": 20,
    "start_time": "2023-07-26T12:17:09.931Z"
   },
   {
    "duration": 44,
    "start_time": "2023-07-26T12:17:09.953Z"
   },
   {
    "duration": 140,
    "start_time": "2023-07-26T12:17:09.999Z"
   },
   {
    "duration": 178,
    "start_time": "2023-07-26T12:17:10.140Z"
   },
   {
    "duration": 19,
    "start_time": "2023-07-26T12:17:10.319Z"
   },
   {
    "duration": 70,
    "start_time": "2023-07-26T12:17:10.342Z"
   },
   {
    "duration": 462,
    "start_time": "2023-07-26T12:17:10.414Z"
   },
   {
    "duration": 418,
    "start_time": "2023-07-26T12:17:10.878Z"
   },
   {
    "duration": 244,
    "start_time": "2023-07-26T12:17:11.298Z"
   },
   {
    "duration": 7,
    "start_time": "2023-07-26T12:17:11.544Z"
   },
   {
    "duration": 71,
    "start_time": "2023-07-26T12:17:11.552Z"
   },
   {
    "duration": 9,
    "start_time": "2023-07-26T12:17:11.625Z"
   },
   {
    "duration": 11,
    "start_time": "2023-07-26T12:17:11.635Z"
   },
   {
    "duration": 27,
    "start_time": "2023-07-26T12:17:11.647Z"
   },
   {
    "duration": 166,
    "start_time": "2023-07-26T12:17:11.676Z"
   },
   {
    "duration": 8,
    "start_time": "2023-07-26T12:17:11.844Z"
   },
   {
    "duration": 28,
    "start_time": "2023-07-26T12:17:11.854Z"
   },
   {
    "duration": 17,
    "start_time": "2023-07-26T12:17:11.886Z"
   },
   {
    "duration": 74,
    "start_time": "2023-07-26T12:17:11.905Z"
   },
   {
    "duration": 759,
    "start_time": "2023-07-26T12:17:11.981Z"
   },
   {
    "duration": 96,
    "start_time": "2023-07-26T12:17:12.742Z"
   },
   {
    "duration": 66,
    "start_time": "2023-07-26T12:17:12.840Z"
   },
   {
    "duration": 316,
    "start_time": "2023-07-26T12:17:12.907Z"
   },
   {
    "duration": 19,
    "start_time": "2023-07-26T12:17:13.225Z"
   },
   {
    "duration": 342,
    "start_time": "2023-07-26T12:17:13.245Z"
   },
   {
    "duration": 22,
    "start_time": "2023-07-26T12:17:13.588Z"
   },
   {
    "duration": 98,
    "start_time": "2023-07-26T12:17:13.612Z"
   },
   {
    "duration": 88,
    "start_time": "2023-07-26T12:17:13.712Z"
   },
   {
    "duration": 190,
    "start_time": "2023-07-26T12:17:13.802Z"
   },
   {
    "duration": 53,
    "start_time": "2023-07-26T12:17:28.726Z"
   },
   {
    "duration": 217,
    "start_time": "2023-07-26T12:19:35.514Z"
   },
   {
    "duration": 35,
    "start_time": "2023-07-26T12:20:37.205Z"
   },
   {
    "duration": 102,
    "start_time": "2023-07-26T12:21:48.842Z"
   },
   {
    "duration": 53,
    "start_time": "2023-07-26T12:21:52.794Z"
   },
   {
    "duration": 1673,
    "start_time": "2023-07-26T14:14:01.584Z"
   },
   {
    "duration": 1306,
    "start_time": "2023-07-26T14:14:03.259Z"
   },
   {
    "duration": 5,
    "start_time": "2023-07-26T14:14:04.567Z"
   },
   {
    "duration": 1365,
    "start_time": "2023-07-26T14:14:04.574Z"
   },
   {
    "duration": 858,
    "start_time": "2023-07-26T14:14:05.941Z"
   },
   {
    "duration": 20,
    "start_time": "2023-07-26T14:14:06.804Z"
   },
   {
    "duration": 28,
    "start_time": "2023-07-26T14:14:06.826Z"
   },
   {
    "duration": 7,
    "start_time": "2023-07-26T14:14:06.855Z"
   },
   {
    "duration": 16,
    "start_time": "2023-07-26T14:14:06.863Z"
   },
   {
    "duration": 7,
    "start_time": "2023-07-26T14:14:06.880Z"
   },
   {
    "duration": 146,
    "start_time": "2023-07-26T14:14:06.889Z"
   },
   {
    "duration": 134,
    "start_time": "2023-07-26T14:14:07.037Z"
   },
   {
    "duration": 14,
    "start_time": "2023-07-26T14:14:07.174Z"
   },
   {
    "duration": 74,
    "start_time": "2023-07-26T14:14:07.200Z"
   },
   {
    "duration": 454,
    "start_time": "2023-07-26T14:14:07.275Z"
   },
   {
    "duration": 397,
    "start_time": "2023-07-26T14:14:07.731Z"
   },
   {
    "duration": 256,
    "start_time": "2023-07-26T14:14:08.129Z"
   },
   {
    "duration": 42,
    "start_time": "2023-07-26T14:14:08.387Z"
   },
   {
    "duration": 25,
    "start_time": "2023-07-26T14:14:08.430Z"
   },
   {
    "duration": 8,
    "start_time": "2023-07-26T14:14:08.456Z"
   },
   {
    "duration": 6,
    "start_time": "2023-07-26T14:14:08.465Z"
   },
   {
    "duration": 53,
    "start_time": "2023-07-26T14:14:08.473Z"
   },
   {
    "duration": 138,
    "start_time": "2023-07-26T14:14:08.528Z"
   },
   {
    "duration": 11,
    "start_time": "2023-07-26T14:14:08.668Z"
   },
   {
    "duration": 60,
    "start_time": "2023-07-26T14:14:08.681Z"
   },
   {
    "duration": 18,
    "start_time": "2023-07-26T14:14:08.743Z"
   },
   {
    "duration": 93,
    "start_time": "2023-07-26T14:14:08.763Z"
   },
   {
    "duration": 628,
    "start_time": "2023-07-26T14:14:08.857Z"
   },
   {
    "duration": 92,
    "start_time": "2023-07-26T14:14:09.487Z"
   },
   {
    "duration": 24,
    "start_time": "2023-07-26T14:14:09.581Z"
   },
   {
    "duration": 272,
    "start_time": "2023-07-26T14:14:09.606Z"
   },
   {
    "duration": 21,
    "start_time": "2023-07-26T14:14:09.880Z"
   },
   {
    "duration": 270,
    "start_time": "2023-07-26T14:14:09.902Z"
   },
   {
    "duration": 35,
    "start_time": "2023-07-26T14:14:10.174Z"
   },
   {
    "duration": 134,
    "start_time": "2023-07-26T14:14:10.218Z"
   },
   {
    "duration": 121,
    "start_time": "2023-07-26T14:14:10.354Z"
   },
   {
    "duration": 56,
    "start_time": "2023-07-26T14:14:10.477Z"
   },
   {
    "duration": 28,
    "start_time": "2023-07-26T14:14:28.322Z"
   },
   {
    "duration": 31,
    "start_time": "2023-07-26T14:20:27.535Z"
   },
   {
    "duration": 23,
    "start_time": "2023-07-26T14:26:51.988Z"
   },
   {
    "duration": 18,
    "start_time": "2023-07-26T14:26:54.626Z"
   },
   {
    "duration": 35,
    "start_time": "2023-07-26T14:29:09.398Z"
   },
   {
    "duration": 7,
    "start_time": "2023-07-26T14:29:27.030Z"
   },
   {
    "duration": 133,
    "start_time": "2023-07-26T14:29:45.038Z"
   },
   {
    "duration": 49,
    "start_time": "2023-07-26T14:29:54.833Z"
   },
   {
    "duration": 41,
    "start_time": "2023-07-26T14:30:21.145Z"
   },
   {
    "duration": 39,
    "start_time": "2023-07-26T14:30:27.329Z"
   },
   {
    "duration": 39,
    "start_time": "2023-07-26T14:37:33.036Z"
   },
   {
    "duration": 64,
    "start_time": "2023-07-26T14:37:48.948Z"
   },
   {
    "duration": 88,
    "start_time": "2023-07-26T14:38:23.733Z"
   },
   {
    "duration": 92,
    "start_time": "2023-07-26T14:38:49.631Z"
   },
   {
    "duration": 189,
    "start_time": "2023-07-26T14:39:01.796Z"
   },
   {
    "duration": 5,
    "start_time": "2023-07-26T14:39:14.637Z"
   },
   {
    "duration": 121,
    "start_time": "2023-07-26T14:39:20.391Z"
   },
   {
    "duration": 27,
    "start_time": "2023-07-26T14:47:25.427Z"
   },
   {
    "duration": 32257,
    "start_time": "2023-07-26T14:48:05.022Z"
   },
   {
    "duration": 4,
    "start_time": "2023-07-26T15:47:16.826Z"
   },
   {
    "duration": 758,
    "start_time": "2023-07-26T15:47:16.831Z"
   },
   {
    "duration": 18,
    "start_time": "2023-07-26T15:47:17.591Z"
   },
   {
    "duration": 1157,
    "start_time": "2023-07-26T15:47:17.618Z"
   },
   {
    "duration": 786,
    "start_time": "2023-07-26T15:47:18.776Z"
   },
   {
    "duration": 8,
    "start_time": "2023-07-26T15:47:19.564Z"
   },
   {
    "duration": 33,
    "start_time": "2023-07-26T15:47:19.573Z"
   },
   {
    "duration": 13,
    "start_time": "2023-07-26T15:47:19.621Z"
   },
   {
    "duration": 24,
    "start_time": "2023-07-26T15:47:19.635Z"
   },
   {
    "duration": 8,
    "start_time": "2023-07-26T15:47:19.660Z"
   },
   {
    "duration": 124,
    "start_time": "2023-07-26T15:47:19.670Z"
   },
   {
    "duration": 143,
    "start_time": "2023-07-26T15:47:19.796Z"
   },
   {
    "duration": 13,
    "start_time": "2023-07-26T15:47:19.940Z"
   },
   {
    "duration": 57,
    "start_time": "2023-07-26T15:47:19.955Z"
   },
   {
    "duration": 427,
    "start_time": "2023-07-26T15:47:20.013Z"
   },
   {
    "duration": 383,
    "start_time": "2023-07-26T15:47:20.442Z"
   },
   {
    "duration": 230,
    "start_time": "2023-07-26T15:47:20.829Z"
   },
   {
    "duration": 7,
    "start_time": "2023-07-26T15:47:21.061Z"
   },
   {
    "duration": 60,
    "start_time": "2023-07-26T15:47:21.069Z"
   },
   {
    "duration": 26,
    "start_time": "2023-07-26T15:47:21.131Z"
   },
   {
    "duration": 28,
    "start_time": "2023-07-26T15:47:21.158Z"
   },
   {
    "duration": 76,
    "start_time": "2023-07-26T15:47:21.187Z"
   },
   {
    "duration": 133,
    "start_time": "2023-07-26T15:47:21.264Z"
   },
   {
    "duration": 23,
    "start_time": "2023-07-26T15:47:21.399Z"
   },
   {
    "duration": 53,
    "start_time": "2023-07-26T15:47:21.423Z"
   },
   {
    "duration": 8,
    "start_time": "2023-07-26T15:47:21.477Z"
   },
   {
    "duration": 142,
    "start_time": "2023-07-26T15:47:21.487Z"
   },
   {
    "duration": 594,
    "start_time": "2023-07-26T15:47:21.631Z"
   },
   {
    "duration": 64,
    "start_time": "2023-07-26T15:47:22.231Z"
   },
   {
    "duration": 33,
    "start_time": "2023-07-26T15:47:22.296Z"
   },
   {
    "duration": 261,
    "start_time": "2023-07-26T15:47:22.331Z"
   },
   {
    "duration": 36,
    "start_time": "2023-07-26T15:47:22.594Z"
   },
   {
    "duration": 257,
    "start_time": "2023-07-26T15:47:22.631Z"
   },
   {
    "duration": 25,
    "start_time": "2023-07-26T15:47:22.889Z"
   },
   {
    "duration": 106,
    "start_time": "2023-07-26T15:47:22.922Z"
   },
   {
    "duration": 95,
    "start_time": "2023-07-26T15:47:23.030Z"
   },
   {
    "duration": 60,
    "start_time": "2023-07-26T15:47:23.137Z"
   },
   {
    "duration": 100,
    "start_time": "2023-07-26T15:47:26.362Z"
   },
   {
    "duration": 21,
    "start_time": "2023-07-26T15:47:28.645Z"
   },
   {
    "duration": 30285,
    "start_time": "2023-07-26T15:47:33.598Z"
   },
   {
    "duration": 3,
    "start_time": "2023-07-26T15:49:57.182Z"
   },
   {
    "duration": 15,
    "start_time": "2023-07-26T15:50:05.024Z"
   },
   {
    "duration": 4,
    "start_time": "2023-07-27T09:00:34.383Z"
   },
   {
    "duration": 838,
    "start_time": "2023-07-27T09:00:34.389Z"
   },
   {
    "duration": 5,
    "start_time": "2023-07-27T09:00:35.229Z"
   },
   {
    "duration": 1332,
    "start_time": "2023-07-27T09:00:35.236Z"
   },
   {
    "duration": 943,
    "start_time": "2023-07-27T09:00:36.571Z"
   },
   {
    "duration": 10,
    "start_time": "2023-07-27T09:00:37.515Z"
   },
   {
    "duration": 16,
    "start_time": "2023-07-27T09:00:37.527Z"
   },
   {
    "duration": 34,
    "start_time": "2023-07-27T09:00:37.545Z"
   },
   {
    "duration": 15,
    "start_time": "2023-07-27T09:00:37.588Z"
   },
   {
    "duration": 8,
    "start_time": "2023-07-27T09:00:37.605Z"
   },
   {
    "duration": 139,
    "start_time": "2023-07-27T09:00:37.615Z"
   },
   {
    "duration": 166,
    "start_time": "2023-07-27T09:00:37.756Z"
   },
   {
    "duration": 15,
    "start_time": "2023-07-27T09:00:37.924Z"
   },
   {
    "duration": 64,
    "start_time": "2023-07-27T09:00:37.941Z"
   },
   {
    "duration": 447,
    "start_time": "2023-07-27T09:00:38.006Z"
   },
   {
    "duration": 440,
    "start_time": "2023-07-27T09:00:38.454Z"
   },
   {
    "duration": 252,
    "start_time": "2023-07-27T09:00:38.896Z"
   },
   {
    "duration": 7,
    "start_time": "2023-07-27T09:00:39.151Z"
   },
   {
    "duration": 38,
    "start_time": "2023-07-27T09:00:39.160Z"
   },
   {
    "duration": 6,
    "start_time": "2023-07-27T09:00:39.200Z"
   },
   {
    "duration": 11,
    "start_time": "2023-07-27T09:00:39.207Z"
   },
   {
    "duration": 52,
    "start_time": "2023-07-27T09:00:39.219Z"
   },
   {
    "duration": 158,
    "start_time": "2023-07-27T09:00:39.273Z"
   },
   {
    "duration": 8,
    "start_time": "2023-07-27T09:00:39.434Z"
   },
   {
    "duration": 34,
    "start_time": "2023-07-27T09:00:39.443Z"
   },
   {
    "duration": 12,
    "start_time": "2023-07-27T09:00:39.478Z"
   },
   {
    "duration": 65,
    "start_time": "2023-07-27T09:00:39.492Z"
   },
   {
    "duration": 666,
    "start_time": "2023-07-27T09:00:39.559Z"
   },
   {
    "duration": 94,
    "start_time": "2023-07-27T09:00:40.227Z"
   },
   {
    "duration": 20,
    "start_time": "2023-07-27T09:00:40.323Z"
   },
   {
    "duration": 289,
    "start_time": "2023-07-27T09:00:40.345Z"
   },
   {
    "duration": 20,
    "start_time": "2023-07-27T09:00:40.636Z"
   },
   {
    "duration": 285,
    "start_time": "2023-07-27T09:00:40.658Z"
   },
   {
    "duration": 33,
    "start_time": "2023-07-27T09:00:40.944Z"
   },
   {
    "duration": 80,
    "start_time": "2023-07-27T09:00:40.983Z"
   },
   {
    "duration": 90,
    "start_time": "2023-07-27T09:00:41.065Z"
   },
   {
    "duration": 59,
    "start_time": "2023-07-27T09:00:41.156Z"
   },
   {
    "duration": 130,
    "start_time": "2023-07-27T09:00:41.218Z"
   },
   {
    "duration": 27,
    "start_time": "2023-07-27T09:00:44.317Z"
   },
   {
    "duration": 0,
    "start_time": "2023-07-27T09:01:43.413Z"
   },
   {
    "duration": 22,
    "start_time": "2023-07-27T09:04:33.276Z"
   },
   {
    "duration": 13,
    "start_time": "2023-07-27T09:04:34.165Z"
   },
   {
    "duration": 13,
    "start_time": "2023-07-27T09:09:53.074Z"
   },
   {
    "duration": 5,
    "start_time": "2023-07-27T09:10:01.528Z"
   },
   {
    "duration": 919,
    "start_time": "2023-07-27T09:10:01.535Z"
   },
   {
    "duration": 6,
    "start_time": "2023-07-27T09:10:02.456Z"
   },
   {
    "duration": 1246,
    "start_time": "2023-07-27T09:10:02.471Z"
   },
   {
    "duration": 873,
    "start_time": "2023-07-27T09:10:03.719Z"
   },
   {
    "duration": 9,
    "start_time": "2023-07-27T09:10:04.593Z"
   },
   {
    "duration": 33,
    "start_time": "2023-07-27T09:10:04.603Z"
   },
   {
    "duration": 20,
    "start_time": "2023-07-27T09:10:04.638Z"
   },
   {
    "duration": 36,
    "start_time": "2023-07-27T09:10:04.660Z"
   },
   {
    "duration": 8,
    "start_time": "2023-07-27T09:10:04.698Z"
   },
   {
    "duration": 129,
    "start_time": "2023-07-27T09:10:04.709Z"
   },
   {
    "duration": 155,
    "start_time": "2023-07-27T09:10:04.839Z"
   },
   {
    "duration": 16,
    "start_time": "2023-07-27T09:10:04.995Z"
   },
   {
    "duration": 67,
    "start_time": "2023-07-27T09:10:05.012Z"
   },
   {
    "duration": 455,
    "start_time": "2023-07-27T09:10:05.081Z"
   },
   {
    "duration": 407,
    "start_time": "2023-07-27T09:10:05.538Z"
   },
   {
    "duration": 228,
    "start_time": "2023-07-27T09:10:05.948Z"
   },
   {
    "duration": 10,
    "start_time": "2023-07-27T09:10:06.177Z"
   },
   {
    "duration": 61,
    "start_time": "2023-07-27T09:10:06.188Z"
   },
   {
    "duration": 17,
    "start_time": "2023-07-27T09:10:06.252Z"
   },
   {
    "duration": 59,
    "start_time": "2023-07-27T09:10:06.271Z"
   },
   {
    "duration": 49,
    "start_time": "2023-07-27T09:10:06.332Z"
   },
   {
    "duration": 170,
    "start_time": "2023-07-27T09:10:06.383Z"
   },
   {
    "duration": 8,
    "start_time": "2023-07-27T09:10:06.555Z"
   },
   {
    "duration": 41,
    "start_time": "2023-07-27T09:10:06.571Z"
   },
   {
    "duration": 34,
    "start_time": "2023-07-27T09:10:06.613Z"
   },
   {
    "duration": 89,
    "start_time": "2023-07-27T09:10:06.649Z"
   },
   {
    "duration": 658,
    "start_time": "2023-07-27T09:10:06.739Z"
   },
   {
    "duration": 86,
    "start_time": "2023-07-27T09:10:07.400Z"
   },
   {
    "duration": 34,
    "start_time": "2023-07-27T09:10:07.487Z"
   },
   {
    "duration": 287,
    "start_time": "2023-07-27T09:10:07.523Z"
   },
   {
    "duration": 19,
    "start_time": "2023-07-27T09:10:07.812Z"
   },
   {
    "duration": 272,
    "start_time": "2023-07-27T09:10:07.832Z"
   },
   {
    "duration": 20,
    "start_time": "2023-07-27T09:10:08.106Z"
   },
   {
    "duration": 89,
    "start_time": "2023-07-27T09:10:08.128Z"
   },
   {
    "duration": 92,
    "start_time": "2023-07-27T09:10:08.218Z"
   },
   {
    "duration": 60,
    "start_time": "2023-07-27T09:10:08.311Z"
   },
   {
    "duration": 130,
    "start_time": "2023-07-27T09:10:08.373Z"
   },
   {
    "duration": 22,
    "start_time": "2023-07-27T09:10:23.079Z"
   },
   {
    "duration": 18,
    "start_time": "2023-07-27T09:10:24.452Z"
   },
   {
    "duration": 18,
    "start_time": "2023-07-27T09:10:30.239Z"
   },
   {
    "duration": 3,
    "start_time": "2023-07-27T09:11:38.582Z"
   },
   {
    "duration": 795,
    "start_time": "2023-07-27T09:11:38.587Z"
   },
   {
    "duration": 5,
    "start_time": "2023-07-27T09:11:39.384Z"
   },
   {
    "duration": 1197,
    "start_time": "2023-07-27T09:11:39.391Z"
   },
   {
    "duration": 855,
    "start_time": "2023-07-27T09:11:40.590Z"
   },
   {
    "duration": 8,
    "start_time": "2023-07-27T09:11:41.447Z"
   },
   {
    "duration": 28,
    "start_time": "2023-07-27T09:11:41.457Z"
   },
   {
    "duration": 8,
    "start_time": "2023-07-27T09:11:41.487Z"
   },
   {
    "duration": 19,
    "start_time": "2023-07-27T09:11:41.497Z"
   },
   {
    "duration": 9,
    "start_time": "2023-07-27T09:11:41.517Z"
   },
   {
    "duration": 143,
    "start_time": "2023-07-27T09:11:41.529Z"
   },
   {
    "duration": 157,
    "start_time": "2023-07-27T09:11:41.674Z"
   },
   {
    "duration": 15,
    "start_time": "2023-07-27T09:11:41.832Z"
   },
   {
    "duration": 57,
    "start_time": "2023-07-27T09:11:41.849Z"
   },
   {
    "duration": 472,
    "start_time": "2023-07-27T09:11:41.908Z"
   },
   {
    "duration": 366,
    "start_time": "2023-07-27T09:11:42.382Z"
   },
   {
    "duration": 226,
    "start_time": "2023-07-27T09:11:42.749Z"
   },
   {
    "duration": 7,
    "start_time": "2023-07-27T09:11:42.977Z"
   },
   {
    "duration": 33,
    "start_time": "2023-07-27T09:11:42.985Z"
   },
   {
    "duration": 5,
    "start_time": "2023-07-27T09:11:43.020Z"
   },
   {
    "duration": 9,
    "start_time": "2023-07-27T09:11:43.026Z"
   },
   {
    "duration": 43,
    "start_time": "2023-07-27T09:11:43.037Z"
   },
   {
    "duration": 158,
    "start_time": "2023-07-27T09:11:43.082Z"
   },
   {
    "duration": 9,
    "start_time": "2023-07-27T09:11:43.242Z"
   },
   {
    "duration": 37,
    "start_time": "2023-07-27T09:11:43.252Z"
   },
   {
    "duration": 9,
    "start_time": "2023-07-27T09:11:43.291Z"
   },
   {
    "duration": 72,
    "start_time": "2023-07-27T09:11:43.301Z"
   },
   {
    "duration": 653,
    "start_time": "2023-07-27T09:11:43.375Z"
   },
   {
    "duration": 110,
    "start_time": "2023-07-27T09:11:44.032Z"
   },
   {
    "duration": 28,
    "start_time": "2023-07-27T09:11:44.143Z"
   },
   {
    "duration": 256,
    "start_time": "2023-07-27T09:11:44.173Z"
   },
   {
    "duration": 18,
    "start_time": "2023-07-27T09:11:44.431Z"
   },
   {
    "duration": 255,
    "start_time": "2023-07-27T09:11:44.451Z"
   },
   {
    "duration": 19,
    "start_time": "2023-07-27T09:11:44.708Z"
   },
   {
    "duration": 89,
    "start_time": "2023-07-27T09:11:44.729Z"
   },
   {
    "duration": 88,
    "start_time": "2023-07-27T09:11:44.820Z"
   },
   {
    "duration": 67,
    "start_time": "2023-07-27T09:11:44.910Z"
   },
   {
    "duration": 129,
    "start_time": "2023-07-27T09:11:44.979Z"
   },
   {
    "duration": 25,
    "start_time": "2023-07-27T09:11:45.110Z"
   },
   {
    "duration": 21,
    "start_time": "2023-07-27T09:11:57.540Z"
   },
   {
    "duration": 19,
    "start_time": "2023-07-27T09:11:57.565Z"
   },
   {
    "duration": 54908,
    "start_time": "2023-07-27T09:12:00.805Z"
   },
   {
    "duration": 12,
    "start_time": "2023-07-27T09:14:03.273Z"
   },
   {
    "duration": 8,
    "start_time": "2023-07-27T09:15:03.313Z"
   },
   {
    "duration": 3,
    "start_time": "2023-07-27T09:15:09.521Z"
   },
   {
    "duration": 709,
    "start_time": "2023-07-27T09:15:09.575Z"
   },
   {
    "duration": 5,
    "start_time": "2023-07-27T09:15:10.628Z"
   },
   {
    "duration": 1211,
    "start_time": "2023-07-27T09:15:10.635Z"
   },
   {
    "duration": 868,
    "start_time": "2023-07-27T09:15:11.848Z"
   },
   {
    "duration": 9,
    "start_time": "2023-07-27T09:15:12.718Z"
   },
   {
    "duration": 32,
    "start_time": "2023-07-27T09:15:12.729Z"
   },
   {
    "duration": 22,
    "start_time": "2023-07-27T09:15:12.763Z"
   },
   {
    "duration": 24,
    "start_time": "2023-07-27T09:15:12.786Z"
   },
   {
    "duration": 22,
    "start_time": "2023-07-27T09:15:12.812Z"
   },
   {
    "duration": 170,
    "start_time": "2023-07-27T09:15:12.836Z"
   },
   {
    "duration": 163,
    "start_time": "2023-07-27T09:15:13.008Z"
   },
   {
    "duration": 16,
    "start_time": "2023-07-27T09:15:13.174Z"
   },
   {
    "duration": 95,
    "start_time": "2023-07-27T09:15:13.192Z"
   },
   {
    "duration": 415,
    "start_time": "2023-07-27T09:15:13.288Z"
   },
   {
    "duration": 376,
    "start_time": "2023-07-27T09:15:13.705Z"
   },
   {
    "duration": 220,
    "start_time": "2023-07-27T09:15:14.083Z"
   },
   {
    "duration": 7,
    "start_time": "2023-07-27T09:15:14.305Z"
   },
   {
    "duration": 47,
    "start_time": "2023-07-27T09:15:14.314Z"
   },
   {
    "duration": 8,
    "start_time": "2023-07-27T09:15:14.363Z"
   },
   {
    "duration": 25,
    "start_time": "2023-07-27T09:15:14.373Z"
   },
   {
    "duration": 42,
    "start_time": "2023-07-27T09:15:14.400Z"
   },
   {
    "duration": 134,
    "start_time": "2023-07-27T09:15:14.444Z"
   },
   {
    "duration": 8,
    "start_time": "2023-07-27T09:15:14.580Z"
   },
   {
    "duration": 16,
    "start_time": "2023-07-27T09:15:15.265Z"
   },
   {
    "duration": 25,
    "start_time": "2023-07-27T09:15:15.283Z"
   },
   {
    "duration": 86,
    "start_time": "2023-07-27T09:15:15.310Z"
   },
   {
    "duration": 652,
    "start_time": "2023-07-27T09:15:15.398Z"
   },
   {
    "duration": 91,
    "start_time": "2023-07-27T09:15:16.052Z"
   },
   {
    "duration": 39,
    "start_time": "2023-07-27T09:15:16.144Z"
   },
   {
    "duration": 351,
    "start_time": "2023-07-27T09:15:16.185Z"
   },
   {
    "duration": 24,
    "start_time": "2023-07-27T09:15:16.538Z"
   },
   {
    "duration": 298,
    "start_time": "2023-07-27T09:15:16.570Z"
   },
   {
    "duration": 20,
    "start_time": "2023-07-27T09:15:16.870Z"
   },
   {
    "duration": 100,
    "start_time": "2023-07-27T09:15:16.892Z"
   },
   {
    "duration": 85,
    "start_time": "2023-07-27T09:15:16.994Z"
   },
   {
    "duration": 54,
    "start_time": "2023-07-27T09:15:17.081Z"
   },
   {
    "duration": 116,
    "start_time": "2023-07-27T09:15:48.902Z"
   },
   {
    "duration": 196,
    "start_time": "2023-07-27T09:15:53.063Z"
   },
   {
    "duration": 29,
    "start_time": "2023-07-27T09:16:04.143Z"
   },
   {
    "duration": 45,
    "start_time": "2023-07-27T09:16:13.277Z"
   },
   {
    "duration": 18,
    "start_time": "2023-07-27T09:16:23.359Z"
   },
   {
    "duration": 13,
    "start_time": "2023-07-27T09:16:34.062Z"
   },
   {
    "duration": 54445,
    "start_time": "2023-07-27T09:16:41.743Z"
   },
   {
    "duration": 34,
    "start_time": "2023-07-27T09:20:16.682Z"
   },
   {
    "duration": 13,
    "start_time": "2023-07-27T09:20:19.917Z"
   },
   {
    "duration": 3,
    "start_time": "2023-07-27T09:20:27.826Z"
   },
   {
    "duration": 762,
    "start_time": "2023-07-27T09:20:27.831Z"
   },
   {
    "duration": 5,
    "start_time": "2023-07-27T09:20:28.595Z"
   },
   {
    "duration": 1259,
    "start_time": "2023-07-27T09:20:28.603Z"
   },
   {
    "duration": 849,
    "start_time": "2023-07-27T09:20:29.864Z"
   },
   {
    "duration": 9,
    "start_time": "2023-07-27T09:20:30.715Z"
   },
   {
    "duration": 45,
    "start_time": "2023-07-27T09:20:30.725Z"
   },
   {
    "duration": 51,
    "start_time": "2023-07-27T09:20:30.771Z"
   },
   {
    "duration": 39,
    "start_time": "2023-07-27T09:20:30.825Z"
   },
   {
    "duration": 21,
    "start_time": "2023-07-27T09:20:30.866Z"
   },
   {
    "duration": 152,
    "start_time": "2023-07-27T09:20:30.889Z"
   },
   {
    "duration": 177,
    "start_time": "2023-07-27T09:20:31.042Z"
   },
   {
    "duration": 16,
    "start_time": "2023-07-27T09:20:31.220Z"
   },
   {
    "duration": 82,
    "start_time": "2023-07-27T09:20:31.238Z"
   },
   {
    "duration": 416,
    "start_time": "2023-07-27T09:20:31.322Z"
   },
   {
    "duration": 390,
    "start_time": "2023-07-27T09:20:31.740Z"
   },
   {
    "duration": 252,
    "start_time": "2023-07-27T09:20:32.132Z"
   },
   {
    "duration": 8,
    "start_time": "2023-07-27T09:20:32.386Z"
   },
   {
    "duration": 55,
    "start_time": "2023-07-27T09:20:32.396Z"
   },
   {
    "duration": 10,
    "start_time": "2023-07-27T09:20:32.453Z"
   },
   {
    "duration": 24,
    "start_time": "2023-07-27T09:20:32.465Z"
   },
   {
    "duration": 45,
    "start_time": "2023-07-27T09:20:32.491Z"
   },
   {
    "duration": 141,
    "start_time": "2023-07-27T09:20:32.538Z"
   },
   {
    "duration": 8,
    "start_time": "2023-07-27T09:20:32.682Z"
   },
   {
    "duration": 31,
    "start_time": "2023-07-27T09:20:32.692Z"
   },
   {
    "duration": 21,
    "start_time": "2023-07-27T09:20:32.724Z"
   },
   {
    "duration": 79,
    "start_time": "2023-07-27T09:20:32.747Z"
   },
   {
    "duration": 631,
    "start_time": "2023-07-27T09:20:32.828Z"
   },
   {
    "duration": 91,
    "start_time": "2023-07-27T09:20:33.461Z"
   },
   {
    "duration": 27,
    "start_time": "2023-07-27T09:20:33.554Z"
   },
   {
    "duration": 260,
    "start_time": "2023-07-27T09:20:33.583Z"
   },
   {
    "duration": 28,
    "start_time": "2023-07-27T09:20:33.845Z"
   },
   {
    "duration": 260,
    "start_time": "2023-07-27T09:20:33.875Z"
   },
   {
    "duration": 21,
    "start_time": "2023-07-27T09:20:34.137Z"
   },
   {
    "duration": 94,
    "start_time": "2023-07-27T09:20:34.160Z"
   },
   {
    "duration": 88,
    "start_time": "2023-07-27T09:20:34.256Z"
   },
   {
    "duration": 61,
    "start_time": "2023-07-27T09:20:34.346Z"
   },
   {
    "duration": 118,
    "start_time": "2023-07-27T09:20:42.784Z"
   },
   {
    "duration": 33,
    "start_time": "2023-07-27T09:20:46.592Z"
   },
   {
    "duration": 1487,
    "start_time": "2023-07-27T09:22:38.706Z"
   },
   {
    "duration": 1047,
    "start_time": "2023-07-27T09:22:40.194Z"
   },
   {
    "duration": 6,
    "start_time": "2023-07-27T09:22:41.243Z"
   },
   {
    "duration": 1209,
    "start_time": "2023-07-27T09:22:41.251Z"
   },
   {
    "duration": 743,
    "start_time": "2023-07-27T09:22:42.461Z"
   },
   {
    "duration": 9,
    "start_time": "2023-07-27T09:22:43.206Z"
   },
   {
    "duration": 17,
    "start_time": "2023-07-27T09:22:43.217Z"
   },
   {
    "duration": 8,
    "start_time": "2023-07-27T09:22:43.236Z"
   },
   {
    "duration": 39,
    "start_time": "2023-07-27T09:22:43.245Z"
   },
   {
    "duration": 8,
    "start_time": "2023-07-27T09:22:43.286Z"
   },
   {
    "duration": 199,
    "start_time": "2023-07-27T09:22:43.296Z"
   },
   {
    "duration": 157,
    "start_time": "2023-07-27T09:22:43.497Z"
   },
   {
    "duration": 20,
    "start_time": "2023-07-27T09:22:43.655Z"
   },
   {
    "duration": 51,
    "start_time": "2023-07-27T09:22:43.677Z"
   },
   {
    "duration": 487,
    "start_time": "2023-07-27T09:22:43.729Z"
   },
   {
    "duration": 406,
    "start_time": "2023-07-27T09:22:44.218Z"
   },
   {
    "duration": 238,
    "start_time": "2023-07-27T09:22:44.625Z"
   },
   {
    "duration": 7,
    "start_time": "2023-07-27T09:22:44.865Z"
   },
   {
    "duration": 23,
    "start_time": "2023-07-27T09:22:44.874Z"
   },
   {
    "duration": 6,
    "start_time": "2023-07-27T09:22:44.898Z"
   },
   {
    "duration": 9,
    "start_time": "2023-07-27T09:22:44.905Z"
   },
   {
    "duration": 24,
    "start_time": "2023-07-27T09:22:44.915Z"
   },
   {
    "duration": 170,
    "start_time": "2023-07-27T09:22:44.941Z"
   },
   {
    "duration": 8,
    "start_time": "2023-07-27T09:22:45.113Z"
   },
   {
    "duration": 26,
    "start_time": "2023-07-27T09:22:45.122Z"
   },
   {
    "duration": 8,
    "start_time": "2023-07-27T09:22:45.150Z"
   },
   {
    "duration": 62,
    "start_time": "2023-07-27T09:22:45.171Z"
   },
   {
    "duration": 692,
    "start_time": "2023-07-27T09:22:45.236Z"
   },
   {
    "duration": 84,
    "start_time": "2023-07-27T09:22:45.929Z"
   },
   {
    "duration": 19,
    "start_time": "2023-07-27T09:22:46.014Z"
   },
   {
    "duration": 276,
    "start_time": "2023-07-27T09:22:46.035Z"
   },
   {
    "duration": 22,
    "start_time": "2023-07-27T09:22:46.313Z"
   },
   {
    "duration": 308,
    "start_time": "2023-07-27T09:22:46.337Z"
   },
   {
    "duration": 26,
    "start_time": "2023-07-27T09:22:46.646Z"
   },
   {
    "duration": 77,
    "start_time": "2023-07-27T09:22:46.673Z"
   },
   {
    "duration": 99,
    "start_time": "2023-07-27T09:22:46.752Z"
   },
   {
    "duration": 60,
    "start_time": "2023-07-27T09:22:46.853Z"
   },
   {
    "duration": 128,
    "start_time": "2023-07-27T09:22:52.670Z"
   },
   {
    "duration": 40,
    "start_time": "2023-07-27T09:22:58.219Z"
   },
   {
    "duration": 53770,
    "start_time": "2023-07-27T09:22:59.057Z"
   },
   {
    "duration": 26955,
    "start_time": "2023-07-27T09:30:40.984Z"
   },
   {
    "duration": 500,
    "start_time": "2023-07-27T09:32:40.482Z"
   },
   {
    "duration": 23,
    "start_time": "2023-07-27T09:33:01.398Z"
   },
   {
    "duration": 534,
    "start_time": "2023-07-27T09:33:56.614Z"
   },
   {
    "duration": 693,
    "start_time": "2023-07-27T09:57:57.811Z"
   },
   {
    "duration": 104,
    "start_time": "2023-07-27T09:58:15.588Z"
   },
   {
    "duration": 4,
    "start_time": "2023-07-27T09:59:05.065Z"
   },
   {
    "duration": 915,
    "start_time": "2023-07-27T09:59:05.073Z"
   },
   {
    "duration": 6,
    "start_time": "2023-07-27T09:59:05.990Z"
   },
   {
    "duration": 1452,
    "start_time": "2023-07-27T09:59:05.998Z"
   },
   {
    "duration": 895,
    "start_time": "2023-07-27T09:59:07.453Z"
   },
   {
    "duration": 10,
    "start_time": "2023-07-27T09:59:08.350Z"
   },
   {
    "duration": 29,
    "start_time": "2023-07-27T09:59:08.373Z"
   },
   {
    "duration": 12,
    "start_time": "2023-07-27T09:59:08.403Z"
   },
   {
    "duration": 37,
    "start_time": "2023-07-27T09:59:08.417Z"
   },
   {
    "duration": 23,
    "start_time": "2023-07-27T09:59:08.456Z"
   },
   {
    "duration": 154,
    "start_time": "2023-07-27T09:59:08.482Z"
   },
   {
    "duration": 162,
    "start_time": "2023-07-27T09:59:08.638Z"
   },
   {
    "duration": 19,
    "start_time": "2023-07-27T09:59:08.801Z"
   },
   {
    "duration": 70,
    "start_time": "2023-07-27T09:59:08.822Z"
   },
   {
    "duration": 520,
    "start_time": "2023-07-27T09:59:08.894Z"
   },
   {
    "duration": 440,
    "start_time": "2023-07-27T09:59:09.416Z"
   },
   {
    "duration": 251,
    "start_time": "2023-07-27T09:59:09.858Z"
   },
   {
    "duration": 7,
    "start_time": "2023-07-27T09:59:10.111Z"
   },
   {
    "duration": 53,
    "start_time": "2023-07-27T09:59:10.120Z"
   },
   {
    "duration": 7,
    "start_time": "2023-07-27T09:59:10.183Z"
   },
   {
    "duration": 33,
    "start_time": "2023-07-27T09:59:10.192Z"
   },
   {
    "duration": 31,
    "start_time": "2023-07-27T09:59:10.227Z"
   },
   {
    "duration": 149,
    "start_time": "2023-07-27T09:59:10.260Z"
   },
   {
    "duration": 8,
    "start_time": "2023-07-27T09:59:10.411Z"
   },
   {
    "duration": 25,
    "start_time": "2023-07-27T09:59:10.421Z"
   },
   {
    "duration": 8,
    "start_time": "2023-07-27T09:59:10.447Z"
   },
   {
    "duration": 121,
    "start_time": "2023-07-27T09:59:10.457Z"
   },
   {
    "duration": 696,
    "start_time": "2023-07-27T09:59:10.581Z"
   },
   {
    "duration": 94,
    "start_time": "2023-07-27T09:59:11.281Z"
   },
   {
    "duration": 37,
    "start_time": "2023-07-27T09:59:11.378Z"
   },
   {
    "duration": 300,
    "start_time": "2023-07-27T09:59:11.417Z"
   },
   {
    "duration": 20,
    "start_time": "2023-07-27T09:59:11.719Z"
   },
   {
    "duration": 298,
    "start_time": "2023-07-27T09:59:11.741Z"
   },
   {
    "duration": 41,
    "start_time": "2023-07-27T09:59:12.041Z"
   },
   {
    "duration": 123,
    "start_time": "2023-07-27T09:59:12.085Z"
   },
   {
    "duration": 101,
    "start_time": "2023-07-27T09:59:12.210Z"
   },
   {
    "duration": 72,
    "start_time": "2023-07-27T09:59:12.313Z"
   },
   {
    "duration": 122,
    "start_time": "2023-07-27T09:59:12.387Z"
   },
   {
    "duration": 42,
    "start_time": "2023-07-27T09:59:15.175Z"
   },
   {
    "duration": 1737,
    "start_time": "2023-07-27T09:59:49.989Z"
   },
   {
    "duration": 1221,
    "start_time": "2023-07-27T09:59:51.728Z"
   },
   {
    "duration": 6,
    "start_time": "2023-07-27T09:59:52.950Z"
   },
   {
    "duration": 1421,
    "start_time": "2023-07-27T09:59:52.958Z"
   },
   {
    "duration": 807,
    "start_time": "2023-07-27T09:59:54.383Z"
   },
   {
    "duration": 10,
    "start_time": "2023-07-27T09:59:55.193Z"
   },
   {
    "duration": 41,
    "start_time": "2023-07-27T09:59:55.205Z"
   },
   {
    "duration": 61,
    "start_time": "2023-07-27T09:59:55.248Z"
   },
   {
    "duration": 47,
    "start_time": "2023-07-27T09:59:55.311Z"
   },
   {
    "duration": 33,
    "start_time": "2023-07-27T09:59:55.360Z"
   },
   {
    "duration": 212,
    "start_time": "2023-07-27T09:59:55.395Z"
   },
   {
    "duration": 168,
    "start_time": "2023-07-27T09:59:55.609Z"
   },
   {
    "duration": 20,
    "start_time": "2023-07-27T09:59:55.779Z"
   },
   {
    "duration": 85,
    "start_time": "2023-07-27T09:59:55.800Z"
   },
   {
    "duration": 505,
    "start_time": "2023-07-27T09:59:55.889Z"
   },
   {
    "duration": 505,
    "start_time": "2023-07-27T09:59:56.396Z"
   },
   {
    "duration": 247,
    "start_time": "2023-07-27T09:59:56.902Z"
   },
   {
    "duration": 7,
    "start_time": "2023-07-27T09:59:57.151Z"
   },
   {
    "duration": 48,
    "start_time": "2023-07-27T09:59:57.159Z"
   },
   {
    "duration": 7,
    "start_time": "2023-07-27T09:59:57.209Z"
   },
   {
    "duration": 25,
    "start_time": "2023-07-27T09:59:57.217Z"
   },
   {
    "duration": 38,
    "start_time": "2023-07-27T09:59:57.243Z"
   },
   {
    "duration": 168,
    "start_time": "2023-07-27T09:59:57.284Z"
   },
   {
    "duration": 8,
    "start_time": "2023-07-27T09:59:57.454Z"
   },
   {
    "duration": 36,
    "start_time": "2023-07-27T09:59:57.464Z"
   },
   {
    "duration": 11,
    "start_time": "2023-07-27T09:59:57.502Z"
   },
   {
    "duration": 84,
    "start_time": "2023-07-27T09:59:57.514Z"
   },
   {
    "duration": 744,
    "start_time": "2023-07-27T09:59:57.602Z"
   },
   {
    "duration": 100,
    "start_time": "2023-07-27T09:59:58.347Z"
   },
   {
    "duration": 40,
    "start_time": "2023-07-27T09:59:58.449Z"
   },
   {
    "duration": 275,
    "start_time": "2023-07-27T09:59:58.491Z"
   },
   {
    "duration": 31,
    "start_time": "2023-07-27T09:59:58.768Z"
   },
   {
    "duration": 303,
    "start_time": "2023-07-27T09:59:58.801Z"
   },
   {
    "duration": 21,
    "start_time": "2023-07-27T09:59:59.106Z"
   },
   {
    "duration": 108,
    "start_time": "2023-07-27T09:59:59.128Z"
   },
   {
    "duration": 116,
    "start_time": "2023-07-27T09:59:59.238Z"
   },
   {
    "duration": 61,
    "start_time": "2023-07-27T09:59:59.356Z"
   },
   {
    "duration": 143,
    "start_time": "2023-07-27T09:59:59.419Z"
   },
   {
    "duration": 63,
    "start_time": "2023-07-27T10:00:03.445Z"
   },
   {
    "duration": 58609,
    "start_time": "2023-07-27T10:00:05.090Z"
   },
   {
    "duration": 1549,
    "start_time": "2023-07-27T12:50:46.185Z"
   },
   {
    "duration": 989,
    "start_time": "2023-07-27T12:50:47.736Z"
   },
   {
    "duration": 5,
    "start_time": "2023-07-27T12:50:48.727Z"
   },
   {
    "duration": 1128,
    "start_time": "2023-07-27T12:50:48.734Z"
   },
   {
    "duration": 681,
    "start_time": "2023-07-27T12:50:49.864Z"
   },
   {
    "duration": 9,
    "start_time": "2023-07-27T12:50:50.547Z"
   },
   {
    "duration": 53,
    "start_time": "2023-07-27T12:50:50.557Z"
   },
   {
    "duration": 37,
    "start_time": "2023-07-27T12:50:50.612Z"
   },
   {
    "duration": 71,
    "start_time": "2023-07-27T12:50:50.651Z"
   },
   {
    "duration": 16,
    "start_time": "2023-07-27T12:50:50.725Z"
   },
   {
    "duration": 199,
    "start_time": "2023-07-27T12:50:50.743Z"
   },
   {
    "duration": 138,
    "start_time": "2023-07-27T12:50:50.943Z"
   },
   {
    "duration": 20,
    "start_time": "2023-07-27T12:50:51.083Z"
   },
   {
    "duration": 113,
    "start_time": "2023-07-27T12:50:51.104Z"
   },
   {
    "duration": 420,
    "start_time": "2023-07-27T12:50:51.219Z"
   },
   {
    "duration": 362,
    "start_time": "2023-07-27T12:50:51.641Z"
   },
   {
    "duration": 239,
    "start_time": "2023-07-27T12:50:52.004Z"
   },
   {
    "duration": 7,
    "start_time": "2023-07-27T12:50:52.244Z"
   },
   {
    "duration": 54,
    "start_time": "2023-07-27T12:50:52.253Z"
   },
   {
    "duration": 7,
    "start_time": "2023-07-27T12:50:52.308Z"
   },
   {
    "duration": 6,
    "start_time": "2023-07-27T12:50:52.316Z"
   },
   {
    "duration": 52,
    "start_time": "2023-07-27T12:50:52.323Z"
   },
   {
    "duration": 129,
    "start_time": "2023-07-27T12:50:52.376Z"
   },
   {
    "duration": 8,
    "start_time": "2023-07-27T12:50:52.506Z"
   },
   {
    "duration": 16,
    "start_time": "2023-07-27T12:50:52.515Z"
   },
   {
    "duration": 8,
    "start_time": "2023-07-27T12:50:52.532Z"
   },
   {
    "duration": 89,
    "start_time": "2023-07-27T12:50:52.541Z"
   },
   {
    "duration": 620,
    "start_time": "2023-07-27T12:50:52.633Z"
   },
   {
    "duration": 70,
    "start_time": "2023-07-27T12:50:53.255Z"
   },
   {
    "duration": 27,
    "start_time": "2023-07-27T12:50:53.326Z"
   },
   {
    "duration": 246,
    "start_time": "2023-07-27T12:50:53.354Z"
   },
   {
    "duration": 16,
    "start_time": "2023-07-27T12:50:53.601Z"
   },
   {
    "duration": 238,
    "start_time": "2023-07-27T12:50:53.618Z"
   },
   {
    "duration": 19,
    "start_time": "2023-07-27T12:50:53.858Z"
   },
   {
    "duration": 72,
    "start_time": "2023-07-27T12:50:53.879Z"
   },
   {
    "duration": 76,
    "start_time": "2023-07-27T12:50:53.953Z"
   },
   {
    "duration": 65,
    "start_time": "2023-07-27T12:50:54.030Z"
   },
   {
    "duration": 96,
    "start_time": "2023-07-27T12:50:54.096Z"
   },
   {
    "duration": 44,
    "start_time": "2023-07-27T12:51:16.316Z"
   },
   {
    "duration": 4,
    "start_time": "2023-07-27T12:59:01.313Z"
   },
   {
    "duration": 760,
    "start_time": "2023-07-27T12:59:01.318Z"
   },
   {
    "duration": 5,
    "start_time": "2023-07-27T12:59:02.080Z"
   },
   {
    "duration": 1155,
    "start_time": "2023-07-27T12:59:02.087Z"
   },
   {
    "duration": 751,
    "start_time": "2023-07-27T12:59:03.244Z"
   },
   {
    "duration": 9,
    "start_time": "2023-07-27T12:59:03.996Z"
   },
   {
    "duration": 45,
    "start_time": "2023-07-27T12:59:04.006Z"
   },
   {
    "duration": 8,
    "start_time": "2023-07-27T12:59:04.052Z"
   },
   {
    "duration": 15,
    "start_time": "2023-07-27T12:59:04.061Z"
   },
   {
    "duration": 17,
    "start_time": "2023-07-27T12:59:04.078Z"
   },
   {
    "duration": 128,
    "start_time": "2023-07-27T12:59:04.096Z"
   },
   {
    "duration": 136,
    "start_time": "2023-07-27T12:59:04.225Z"
   },
   {
    "duration": 13,
    "start_time": "2023-07-27T12:59:04.364Z"
   },
   {
    "duration": 61,
    "start_time": "2023-07-27T12:59:04.379Z"
   },
   {
    "duration": 404,
    "start_time": "2023-07-27T12:59:04.442Z"
   },
   {
    "duration": 355,
    "start_time": "2023-07-27T12:59:04.848Z"
   },
   {
    "duration": 220,
    "start_time": "2023-07-27T12:59:05.204Z"
   },
   {
    "duration": 7,
    "start_time": "2023-07-27T12:59:05.426Z"
   },
   {
    "duration": 33,
    "start_time": "2023-07-27T12:59:05.434Z"
   },
   {
    "duration": 5,
    "start_time": "2023-07-27T12:59:05.469Z"
   },
   {
    "duration": 20,
    "start_time": "2023-07-27T12:59:05.475Z"
   },
   {
    "duration": 59,
    "start_time": "2023-07-27T12:59:05.496Z"
   },
   {
    "duration": 125,
    "start_time": "2023-07-27T12:59:05.557Z"
   },
   {
    "duration": 17,
    "start_time": "2023-07-27T12:59:05.684Z"
   },
   {
    "duration": 45,
    "start_time": "2023-07-27T12:59:05.703Z"
   },
   {
    "duration": 17,
    "start_time": "2023-07-27T12:59:05.750Z"
   },
   {
    "duration": 82,
    "start_time": "2023-07-27T12:59:05.769Z"
   },
   {
    "duration": 643,
    "start_time": "2023-07-27T12:59:05.853Z"
   },
   {
    "duration": 67,
    "start_time": "2023-07-27T12:59:06.501Z"
   },
   {
    "duration": 19,
    "start_time": "2023-07-27T12:59:06.569Z"
   },
   {
    "duration": 263,
    "start_time": "2023-07-27T12:59:06.590Z"
   },
   {
    "duration": 16,
    "start_time": "2023-07-27T12:59:06.855Z"
   },
   {
    "duration": 248,
    "start_time": "2023-07-27T12:59:06.873Z"
   },
   {
    "duration": 19,
    "start_time": "2023-07-27T12:59:07.122Z"
   },
   {
    "duration": 90,
    "start_time": "2023-07-27T12:59:07.143Z"
   },
   {
    "duration": 73,
    "start_time": "2023-07-27T12:59:07.235Z"
   },
   {
    "duration": 69,
    "start_time": "2023-07-27T12:59:07.312Z"
   },
   {
    "duration": 96,
    "start_time": "2023-07-27T12:59:07.383Z"
   },
   {
    "duration": 39,
    "start_time": "2023-07-27T12:59:12.364Z"
   },
   {
    "duration": 36804,
    "start_time": "2023-07-27T12:59:17.417Z"
   },
   {
    "duration": 4,
    "start_time": "2023-07-27T13:01:13.640Z"
   },
   {
    "duration": 724,
    "start_time": "2023-07-27T13:01:13.646Z"
   },
   {
    "duration": 5,
    "start_time": "2023-07-27T13:01:14.372Z"
   },
   {
    "duration": 1094,
    "start_time": "2023-07-27T13:01:14.379Z"
   },
   {
    "duration": 789,
    "start_time": "2023-07-27T13:01:15.475Z"
   },
   {
    "duration": 11,
    "start_time": "2023-07-27T13:01:16.266Z"
   },
   {
    "duration": 37,
    "start_time": "2023-07-27T13:01:16.279Z"
   },
   {
    "duration": 10,
    "start_time": "2023-07-27T13:01:16.319Z"
   },
   {
    "duration": 22,
    "start_time": "2023-07-27T13:01:16.333Z"
   },
   {
    "duration": 18,
    "start_time": "2023-07-27T13:01:16.357Z"
   },
   {
    "duration": 169,
    "start_time": "2023-07-27T13:01:16.376Z"
   },
   {
    "duration": 139,
    "start_time": "2023-07-27T13:01:16.547Z"
   },
   {
    "duration": 22,
    "start_time": "2023-07-27T13:01:16.688Z"
   },
   {
    "duration": 45,
    "start_time": "2023-07-27T13:01:16.712Z"
   },
   {
    "duration": 407,
    "start_time": "2023-07-27T13:01:16.759Z"
   },
   {
    "duration": 338,
    "start_time": "2023-07-27T13:01:17.168Z"
   },
   {
    "duration": 154,
    "start_time": "2023-07-27T13:01:17.508Z"
   },
   {
    "duration": 7,
    "start_time": "2023-07-27T13:01:17.664Z"
   },
   {
    "duration": 34,
    "start_time": "2023-07-27T13:01:17.673Z"
   },
   {
    "duration": 6,
    "start_time": "2023-07-27T13:01:17.709Z"
   },
   {
    "duration": 18,
    "start_time": "2023-07-27T13:01:17.716Z"
   },
   {
    "duration": 45,
    "start_time": "2023-07-27T13:01:17.735Z"
   },
   {
    "duration": 125,
    "start_time": "2023-07-27T13:01:17.782Z"
   },
   {
    "duration": 8,
    "start_time": "2023-07-27T13:01:17.910Z"
   },
   {
    "duration": 16,
    "start_time": "2023-07-27T13:01:17.919Z"
   },
   {
    "duration": 18,
    "start_time": "2023-07-27T13:01:17.937Z"
   },
   {
    "duration": 81,
    "start_time": "2023-07-27T13:01:17.957Z"
   },
   {
    "duration": 446,
    "start_time": "2023-07-27T13:01:18.039Z"
   },
   {
    "duration": 76,
    "start_time": "2023-07-27T13:01:18.487Z"
   },
   {
    "duration": 16,
    "start_time": "2023-07-27T13:01:18.565Z"
   },
   {
    "duration": 242,
    "start_time": "2023-07-27T13:01:18.582Z"
   },
   {
    "duration": 16,
    "start_time": "2023-07-27T13:01:18.827Z"
   },
   {
    "duration": 247,
    "start_time": "2023-07-27T13:01:18.845Z"
   },
   {
    "duration": 20,
    "start_time": "2023-07-27T13:01:19.094Z"
   },
   {
    "duration": 88,
    "start_time": "2023-07-27T13:01:19.115Z"
   },
   {
    "duration": 82,
    "start_time": "2023-07-27T13:01:19.205Z"
   },
   {
    "duration": 55,
    "start_time": "2023-07-27T13:01:19.289Z"
   },
   {
    "duration": 94,
    "start_time": "2023-07-27T13:01:19.345Z"
   },
   {
    "duration": 40,
    "start_time": "2023-07-27T13:01:23.904Z"
   },
   {
    "duration": 2335,
    "start_time": "2023-07-27T13:01:57.053Z"
   },
   {
    "duration": 1031,
    "start_time": "2023-07-27T13:01:59.389Z"
   },
   {
    "duration": 5,
    "start_time": "2023-07-27T13:02:00.422Z"
   },
   {
    "duration": 1249,
    "start_time": "2023-07-27T13:02:00.429Z"
   },
   {
    "duration": 759,
    "start_time": "2023-07-27T13:02:01.681Z"
   },
   {
    "duration": 13,
    "start_time": "2023-07-27T13:02:02.443Z"
   },
   {
    "duration": 44,
    "start_time": "2023-07-27T13:02:02.458Z"
   },
   {
    "duration": 29,
    "start_time": "2023-07-27T13:02:02.503Z"
   },
   {
    "duration": 54,
    "start_time": "2023-07-27T13:02:02.534Z"
   },
   {
    "duration": 22,
    "start_time": "2023-07-27T13:02:02.590Z"
   },
   {
    "duration": 246,
    "start_time": "2023-07-27T13:02:02.615Z"
   },
   {
    "duration": 207,
    "start_time": "2023-07-27T13:02:02.864Z"
   },
   {
    "duration": 15,
    "start_time": "2023-07-27T13:02:03.073Z"
   },
   {
    "duration": 74,
    "start_time": "2023-07-27T13:02:03.099Z"
   },
   {
    "duration": 580,
    "start_time": "2023-07-27T13:02:03.174Z"
   },
   {
    "duration": 383,
    "start_time": "2023-07-27T13:02:03.755Z"
   },
   {
    "duration": 172,
    "start_time": "2023-07-27T13:02:04.140Z"
   },
   {
    "duration": 8,
    "start_time": "2023-07-27T13:02:04.313Z"
   },
   {
    "duration": 53,
    "start_time": "2023-07-27T13:02:04.322Z"
   },
   {
    "duration": 28,
    "start_time": "2023-07-27T13:02:04.377Z"
   },
   {
    "duration": 19,
    "start_time": "2023-07-27T13:02:04.407Z"
   },
   {
    "duration": 50,
    "start_time": "2023-07-27T13:02:04.427Z"
   },
   {
    "duration": 131,
    "start_time": "2023-07-27T13:02:04.478Z"
   },
   {
    "duration": 9,
    "start_time": "2023-07-27T13:02:04.610Z"
   },
   {
    "duration": 56,
    "start_time": "2023-07-27T13:02:04.620Z"
   },
   {
    "duration": 14,
    "start_time": "2023-07-27T13:02:04.678Z"
   },
   {
    "duration": 77,
    "start_time": "2023-07-27T13:02:04.693Z"
   },
   {
    "duration": 453,
    "start_time": "2023-07-27T13:02:04.771Z"
   },
   {
    "duration": 80,
    "start_time": "2023-07-27T13:02:05.225Z"
   },
   {
    "duration": 24,
    "start_time": "2023-07-27T13:02:05.306Z"
   },
   {
    "duration": 254,
    "start_time": "2023-07-27T13:02:05.334Z"
   },
   {
    "duration": 21,
    "start_time": "2023-07-27T13:02:05.589Z"
   },
   {
    "duration": 276,
    "start_time": "2023-07-27T13:02:05.611Z"
   },
   {
    "duration": 21,
    "start_time": "2023-07-27T13:02:05.889Z"
   },
   {
    "duration": 104,
    "start_time": "2023-07-27T13:02:05.912Z"
   },
   {
    "duration": 145,
    "start_time": "2023-07-27T13:02:06.018Z"
   },
   {
    "duration": 84,
    "start_time": "2023-07-27T13:02:06.166Z"
   },
   {
    "duration": 114,
    "start_time": "2023-07-27T13:02:06.252Z"
   },
   {
    "duration": 54,
    "start_time": "2023-07-27T13:02:43.056Z"
   },
   {
    "duration": 1768,
    "start_time": "2023-07-27T13:03:07.216Z"
   },
   {
    "duration": 1032,
    "start_time": "2023-07-27T13:03:08.987Z"
   },
   {
    "duration": 6,
    "start_time": "2023-07-27T13:03:10.020Z"
   },
   {
    "duration": 1168,
    "start_time": "2023-07-27T13:03:10.027Z"
   },
   {
    "duration": 674,
    "start_time": "2023-07-27T13:03:11.200Z"
   },
   {
    "duration": 9,
    "start_time": "2023-07-27T13:03:11.876Z"
   },
   {
    "duration": 27,
    "start_time": "2023-07-27T13:03:11.887Z"
   },
   {
    "duration": 8,
    "start_time": "2023-07-27T13:03:11.915Z"
   },
   {
    "duration": 31,
    "start_time": "2023-07-27T13:03:11.924Z"
   },
   {
    "duration": 9,
    "start_time": "2023-07-27T13:03:11.956Z"
   },
   {
    "duration": 228,
    "start_time": "2023-07-27T13:03:11.966Z"
   },
   {
    "duration": 154,
    "start_time": "2023-07-27T13:03:12.196Z"
   },
   {
    "duration": 16,
    "start_time": "2023-07-27T13:03:12.352Z"
   },
   {
    "duration": 74,
    "start_time": "2023-07-27T13:03:12.369Z"
   },
   {
    "duration": 487,
    "start_time": "2023-07-27T13:03:12.445Z"
   },
   {
    "duration": 423,
    "start_time": "2023-07-27T13:03:12.934Z"
   },
   {
    "duration": 222,
    "start_time": "2023-07-27T13:03:13.358Z"
   },
   {
    "duration": 15,
    "start_time": "2023-07-27T13:03:13.584Z"
   },
   {
    "duration": 24,
    "start_time": "2023-07-27T13:03:13.601Z"
   },
   {
    "duration": 5,
    "start_time": "2023-07-27T13:03:13.627Z"
   },
   {
    "duration": 21,
    "start_time": "2023-07-27T13:03:13.634Z"
   },
   {
    "duration": 42,
    "start_time": "2023-07-27T13:03:13.657Z"
   },
   {
    "duration": 158,
    "start_time": "2023-07-27T13:03:13.701Z"
   },
   {
    "duration": 8,
    "start_time": "2023-07-27T13:03:13.861Z"
   },
   {
    "duration": 31,
    "start_time": "2023-07-27T13:03:13.870Z"
   },
   {
    "duration": 9,
    "start_time": "2023-07-27T13:03:13.902Z"
   },
   {
    "duration": 70,
    "start_time": "2023-07-27T13:03:13.912Z"
   },
   {
    "duration": 505,
    "start_time": "2023-07-27T13:03:13.984Z"
   },
   {
    "duration": 131,
    "start_time": "2023-07-27T13:03:14.491Z"
   },
   {
    "duration": 45,
    "start_time": "2023-07-27T13:03:14.623Z"
   },
   {
    "duration": 288,
    "start_time": "2023-07-27T13:03:14.669Z"
   },
   {
    "duration": 17,
    "start_time": "2023-07-27T13:03:14.959Z"
   },
   {
    "duration": 323,
    "start_time": "2023-07-27T13:03:14.978Z"
   },
   {
    "duration": 19,
    "start_time": "2023-07-27T13:03:15.302Z"
   },
   {
    "duration": 95,
    "start_time": "2023-07-27T13:03:15.323Z"
   },
   {
    "duration": 113,
    "start_time": "2023-07-27T13:03:15.419Z"
   },
   {
    "duration": 58,
    "start_time": "2023-07-27T13:03:15.534Z"
   },
   {
    "duration": 100,
    "start_time": "2023-07-27T13:03:19.168Z"
   },
   {
    "duration": 47,
    "start_time": "2023-07-27T13:03:22.796Z"
   },
   {
    "duration": 53,
    "start_time": "2023-07-27T13:03:41.084Z"
   },
   {
    "duration": 1383,
    "start_time": "2023-07-27T13:03:48.960Z"
   },
   {
    "duration": 956,
    "start_time": "2023-07-27T13:03:50.345Z"
   },
   {
    "duration": 5,
    "start_time": "2023-07-27T13:03:51.302Z"
   },
   {
    "duration": 1067,
    "start_time": "2023-07-27T13:03:51.309Z"
   },
   {
    "duration": 653,
    "start_time": "2023-07-27T13:03:52.378Z"
   },
   {
    "duration": 10,
    "start_time": "2023-07-27T13:03:53.032Z"
   },
   {
    "duration": 32,
    "start_time": "2023-07-27T13:03:53.043Z"
   },
   {
    "duration": 12,
    "start_time": "2023-07-27T13:03:53.077Z"
   },
   {
    "duration": 19,
    "start_time": "2023-07-27T13:03:53.090Z"
   },
   {
    "duration": 30,
    "start_time": "2023-07-27T13:03:53.110Z"
   },
   {
    "duration": 184,
    "start_time": "2023-07-27T13:03:53.141Z"
   },
   {
    "duration": 138,
    "start_time": "2023-07-27T13:03:53.326Z"
   },
   {
    "duration": 17,
    "start_time": "2023-07-27T13:03:53.466Z"
   },
   {
    "duration": 92,
    "start_time": "2023-07-27T13:03:53.499Z"
   },
   {
    "duration": 446,
    "start_time": "2023-07-27T13:03:53.592Z"
   },
   {
    "duration": 373,
    "start_time": "2023-07-27T13:03:54.039Z"
   },
   {
    "duration": 173,
    "start_time": "2023-07-27T13:03:54.413Z"
   },
   {
    "duration": 7,
    "start_time": "2023-07-27T13:03:54.587Z"
   },
   {
    "duration": 40,
    "start_time": "2023-07-27T13:03:54.599Z"
   },
   {
    "duration": 21,
    "start_time": "2023-07-27T13:03:54.641Z"
   },
   {
    "duration": 20,
    "start_time": "2023-07-27T13:03:54.663Z"
   },
   {
    "duration": 42,
    "start_time": "2023-07-27T13:03:54.684Z"
   },
   {
    "duration": 121,
    "start_time": "2023-07-27T13:03:54.728Z"
   },
   {
    "duration": 9,
    "start_time": "2023-07-27T13:03:54.851Z"
   },
   {
    "duration": 31,
    "start_time": "2023-07-27T13:03:54.861Z"
   },
   {
    "duration": 13,
    "start_time": "2023-07-27T13:03:54.894Z"
   },
   {
    "duration": 71,
    "start_time": "2023-07-27T13:03:54.908Z"
   },
   {
    "duration": 430,
    "start_time": "2023-07-27T13:03:54.981Z"
   },
   {
    "duration": 73,
    "start_time": "2023-07-27T13:03:55.412Z"
   },
   {
    "duration": 40,
    "start_time": "2023-07-27T13:03:55.487Z"
   },
   {
    "duration": 248,
    "start_time": "2023-07-27T13:03:55.530Z"
   },
   {
    "duration": 20,
    "start_time": "2023-07-27T13:03:55.780Z"
   },
   {
    "duration": 292,
    "start_time": "2023-07-27T13:03:55.802Z"
   },
   {
    "duration": 27,
    "start_time": "2023-07-27T13:03:56.096Z"
   },
   {
    "duration": 113,
    "start_time": "2023-07-27T13:03:56.125Z"
   },
   {
    "duration": 79,
    "start_time": "2023-07-27T13:03:56.240Z"
   },
   {
    "duration": 55,
    "start_time": "2023-07-27T13:03:56.321Z"
   },
   {
    "duration": 98,
    "start_time": "2023-07-27T13:03:56.378Z"
   },
   {
    "duration": 47,
    "start_time": "2023-07-27T13:03:59.965Z"
   },
   {
    "duration": 1885,
    "start_time": "2023-07-27T13:04:21.668Z"
   },
   {
    "duration": 1011,
    "start_time": "2023-07-27T13:04:23.555Z"
   },
   {
    "duration": 5,
    "start_time": "2023-07-27T13:04:24.568Z"
   },
   {
    "duration": 1103,
    "start_time": "2023-07-27T13:04:24.574Z"
   },
   {
    "duration": 690,
    "start_time": "2023-07-27T13:04:25.678Z"
   },
   {
    "duration": 12,
    "start_time": "2023-07-27T13:04:26.370Z"
   },
   {
    "duration": 32,
    "start_time": "2023-07-27T13:04:26.384Z"
   },
   {
    "duration": 10,
    "start_time": "2023-07-27T13:04:26.418Z"
   },
   {
    "duration": 18,
    "start_time": "2023-07-27T13:04:26.429Z"
   },
   {
    "duration": 16,
    "start_time": "2023-07-27T13:04:26.450Z"
   },
   {
    "duration": 195,
    "start_time": "2023-07-27T13:04:26.467Z"
   },
   {
    "duration": 140,
    "start_time": "2023-07-27T13:04:26.663Z"
   },
   {
    "duration": 15,
    "start_time": "2023-07-27T13:04:26.804Z"
   },
   {
    "duration": 54,
    "start_time": "2023-07-27T13:04:26.821Z"
   },
   {
    "duration": 423,
    "start_time": "2023-07-27T13:04:26.877Z"
   },
   {
    "duration": 367,
    "start_time": "2023-07-27T13:04:27.301Z"
   },
   {
    "duration": 169,
    "start_time": "2023-07-27T13:04:27.670Z"
   },
   {
    "duration": 7,
    "start_time": "2023-07-27T13:04:27.841Z"
   },
   {
    "duration": 30,
    "start_time": "2023-07-27T13:04:27.849Z"
   },
   {
    "duration": 5,
    "start_time": "2023-07-27T13:04:27.881Z"
   },
   {
    "duration": 15,
    "start_time": "2023-07-27T13:04:27.887Z"
   },
   {
    "duration": 30,
    "start_time": "2023-07-27T13:04:27.904Z"
   },
   {
    "duration": 133,
    "start_time": "2023-07-27T13:04:27.936Z"
   },
   {
    "duration": 9,
    "start_time": "2023-07-27T13:04:28.071Z"
   },
   {
    "duration": 27,
    "start_time": "2023-07-27T13:04:28.081Z"
   },
   {
    "duration": 11,
    "start_time": "2023-07-27T13:04:28.109Z"
   },
   {
    "duration": 87,
    "start_time": "2023-07-27T13:04:28.122Z"
   },
   {
    "duration": 428,
    "start_time": "2023-07-27T13:04:28.212Z"
   },
   {
    "duration": 77,
    "start_time": "2023-07-27T13:04:28.641Z"
   },
   {
    "duration": 23,
    "start_time": "2023-07-27T13:04:28.719Z"
   },
   {
    "duration": 227,
    "start_time": "2023-07-27T13:04:28.743Z"
   },
   {
    "duration": 16,
    "start_time": "2023-07-27T13:04:28.972Z"
   },
   {
    "duration": 247,
    "start_time": "2023-07-27T13:04:28.990Z"
   },
   {
    "duration": 18,
    "start_time": "2023-07-27T13:04:29.238Z"
   },
   {
    "duration": 80,
    "start_time": "2023-07-27T13:04:29.258Z"
   },
   {
    "duration": 79,
    "start_time": "2023-07-27T13:04:29.339Z"
   },
   {
    "duration": 68,
    "start_time": "2023-07-27T13:04:29.419Z"
   },
   {
    "duration": 95,
    "start_time": "2023-07-27T13:04:29.488Z"
   },
   {
    "duration": 50,
    "start_time": "2023-07-27T13:04:29.593Z"
   },
   {
    "duration": 48,
    "start_time": "2023-07-27T13:04:43.972Z"
   },
   {
    "duration": 6,
    "start_time": "2023-07-27T13:04:44.365Z"
   },
   {
    "duration": 2718,
    "start_time": "2023-07-27T13:05:19.315Z"
   },
   {
    "duration": 980,
    "start_time": "2023-07-27T13:05:22.035Z"
   },
   {
    "duration": 5,
    "start_time": "2023-07-27T13:05:23.016Z"
   },
   {
    "duration": 1172,
    "start_time": "2023-07-27T13:05:23.023Z"
   },
   {
    "duration": 656,
    "start_time": "2023-07-27T13:05:24.199Z"
   },
   {
    "duration": 9,
    "start_time": "2023-07-27T13:05:24.856Z"
   },
   {
    "duration": 16,
    "start_time": "2023-07-27T13:05:24.866Z"
   },
   {
    "duration": 23,
    "start_time": "2023-07-27T13:05:24.884Z"
   },
   {
    "duration": 16,
    "start_time": "2023-07-27T13:05:24.909Z"
   },
   {
    "duration": 8,
    "start_time": "2023-07-27T13:05:24.926Z"
   },
   {
    "duration": 197,
    "start_time": "2023-07-27T13:05:24.936Z"
   },
   {
    "duration": 137,
    "start_time": "2023-07-27T13:05:25.134Z"
   },
   {
    "duration": 14,
    "start_time": "2023-07-27T13:05:25.273Z"
   },
   {
    "duration": 58,
    "start_time": "2023-07-27T13:05:25.299Z"
   },
   {
    "duration": 455,
    "start_time": "2023-07-27T13:05:25.359Z"
   },
   {
    "duration": 453,
    "start_time": "2023-07-27T13:05:25.816Z"
   },
   {
    "duration": 233,
    "start_time": "2023-07-27T13:05:26.272Z"
   },
   {
    "duration": 7,
    "start_time": "2023-07-27T13:05:26.506Z"
   },
   {
    "duration": 25,
    "start_time": "2023-07-27T13:05:26.515Z"
   },
   {
    "duration": 4,
    "start_time": "2023-07-27T13:05:26.542Z"
   },
   {
    "duration": 15,
    "start_time": "2023-07-27T13:05:26.548Z"
   },
   {
    "duration": 38,
    "start_time": "2023-07-27T13:05:26.564Z"
   },
   {
    "duration": 130,
    "start_time": "2023-07-27T13:05:26.603Z"
   },
   {
    "duration": 8,
    "start_time": "2023-07-27T13:05:26.735Z"
   },
   {
    "duration": 21,
    "start_time": "2023-07-27T13:05:26.745Z"
   },
   {
    "duration": 8,
    "start_time": "2023-07-27T13:05:26.768Z"
   },
   {
    "duration": 84,
    "start_time": "2023-07-27T13:05:26.777Z"
   },
   {
    "duration": 449,
    "start_time": "2023-07-27T13:05:26.862Z"
   },
   {
    "duration": 73,
    "start_time": "2023-07-27T13:05:27.313Z"
   },
   {
    "duration": 26,
    "start_time": "2023-07-27T13:05:27.388Z"
   },
   {
    "duration": 250,
    "start_time": "2023-07-27T13:05:27.416Z"
   },
   {
    "duration": 17,
    "start_time": "2023-07-27T13:05:27.668Z"
   },
   {
    "duration": 236,
    "start_time": "2023-07-27T13:05:27.687Z"
   },
   {
    "duration": 20,
    "start_time": "2023-07-27T13:05:27.925Z"
   },
   {
    "duration": 81,
    "start_time": "2023-07-27T13:05:27.947Z"
   },
   {
    "duration": 95,
    "start_time": "2023-07-27T13:05:28.030Z"
   },
   {
    "duration": 56,
    "start_time": "2023-07-27T13:05:28.127Z"
   },
   {
    "duration": 103,
    "start_time": "2023-07-27T13:05:28.185Z"
   },
   {
    "duration": 48,
    "start_time": "2023-07-27T13:05:31.445Z"
   },
   {
    "duration": 2908,
    "start_time": "2023-07-27T13:06:05.990Z"
   },
   {
    "duration": 988,
    "start_time": "2023-07-27T13:06:08.900Z"
   },
   {
    "duration": 5,
    "start_time": "2023-07-27T13:06:09.891Z"
   },
   {
    "duration": 1191,
    "start_time": "2023-07-27T13:06:09.897Z"
   },
   {
    "duration": 671,
    "start_time": "2023-07-27T13:06:11.090Z"
   },
   {
    "duration": 10,
    "start_time": "2023-07-27T13:06:11.763Z"
   },
   {
    "duration": 31,
    "start_time": "2023-07-27T13:06:11.775Z"
   },
   {
    "duration": 10,
    "start_time": "2023-07-27T13:06:11.808Z"
   },
   {
    "duration": 19,
    "start_time": "2023-07-27T13:06:11.820Z"
   },
   {
    "duration": 18,
    "start_time": "2023-07-27T13:06:11.840Z"
   },
   {
    "duration": 197,
    "start_time": "2023-07-27T13:06:11.860Z"
   },
   {
    "duration": 141,
    "start_time": "2023-07-27T13:06:12.058Z"
   },
   {
    "duration": 14,
    "start_time": "2023-07-27T13:06:12.201Z"
   },
   {
    "duration": 54,
    "start_time": "2023-07-27T13:06:12.218Z"
   },
   {
    "duration": 444,
    "start_time": "2023-07-27T13:06:12.274Z"
   },
   {
    "duration": 381,
    "start_time": "2023-07-27T13:06:12.719Z"
   },
   {
    "duration": 189,
    "start_time": "2023-07-27T13:06:13.101Z"
   },
   {
    "duration": 9,
    "start_time": "2023-07-27T13:06:13.292Z"
   },
   {
    "duration": 26,
    "start_time": "2023-07-27T13:06:13.302Z"
   },
   {
    "duration": 7,
    "start_time": "2023-07-27T13:06:13.329Z"
   },
   {
    "duration": 9,
    "start_time": "2023-07-27T13:06:13.337Z"
   },
   {
    "duration": 51,
    "start_time": "2023-07-27T13:06:13.348Z"
   },
   {
    "duration": 133,
    "start_time": "2023-07-27T13:06:13.401Z"
   },
   {
    "duration": 10,
    "start_time": "2023-07-27T13:06:13.535Z"
   },
   {
    "duration": 29,
    "start_time": "2023-07-27T13:06:13.547Z"
   },
   {
    "duration": 22,
    "start_time": "2023-07-27T13:06:13.578Z"
   },
   {
    "duration": 66,
    "start_time": "2023-07-27T13:06:13.601Z"
   },
   {
    "duration": 487,
    "start_time": "2023-07-27T13:06:13.668Z"
   },
   {
    "duration": 80,
    "start_time": "2023-07-27T13:06:14.157Z"
   },
   {
    "duration": 28,
    "start_time": "2023-07-27T13:06:14.239Z"
   },
   {
    "duration": 233,
    "start_time": "2023-07-27T13:06:14.269Z"
   },
   {
    "duration": 18,
    "start_time": "2023-07-27T13:06:14.503Z"
   },
   {
    "duration": 254,
    "start_time": "2023-07-27T13:06:14.522Z"
   },
   {
    "duration": 26,
    "start_time": "2023-07-27T13:06:14.778Z"
   },
   {
    "duration": 71,
    "start_time": "2023-07-27T13:06:14.806Z"
   },
   {
    "duration": 94,
    "start_time": "2023-07-27T13:06:14.878Z"
   },
   {
    "duration": 65,
    "start_time": "2023-07-27T13:06:14.974Z"
   },
   {
    "duration": 103,
    "start_time": "2023-07-27T13:06:15.041Z"
   },
   {
    "duration": 64,
    "start_time": "2023-07-27T13:06:15.146Z"
   },
   {
    "duration": 2848,
    "start_time": "2023-07-27T13:07:46.990Z"
   },
   {
    "duration": 1030,
    "start_time": "2023-07-27T13:07:49.840Z"
   },
   {
    "duration": 6,
    "start_time": "2023-07-27T13:07:50.871Z"
   },
   {
    "duration": 1157,
    "start_time": "2023-07-27T13:07:50.878Z"
   },
   {
    "duration": 664,
    "start_time": "2023-07-27T13:07:52.037Z"
   },
   {
    "duration": 9,
    "start_time": "2023-07-27T13:07:52.703Z"
   },
   {
    "duration": 27,
    "start_time": "2023-07-27T13:07:52.714Z"
   },
   {
    "duration": 24,
    "start_time": "2023-07-27T13:07:52.742Z"
   },
   {
    "duration": 37,
    "start_time": "2023-07-27T13:07:52.768Z"
   },
   {
    "duration": 15,
    "start_time": "2023-07-27T13:07:52.806Z"
   },
   {
    "duration": 209,
    "start_time": "2023-07-27T13:07:52.822Z"
   },
   {
    "duration": 141,
    "start_time": "2023-07-27T13:07:53.033Z"
   },
   {
    "duration": 23,
    "start_time": "2023-07-27T13:07:53.176Z"
   },
   {
    "duration": 71,
    "start_time": "2023-07-27T13:07:53.203Z"
   },
   {
    "duration": 440,
    "start_time": "2023-07-27T13:07:53.276Z"
   },
   {
    "duration": 376,
    "start_time": "2023-07-27T13:07:53.718Z"
   },
   {
    "duration": 201,
    "start_time": "2023-07-27T13:07:54.099Z"
   },
   {
    "duration": 9,
    "start_time": "2023-07-27T13:07:54.302Z"
   },
   {
    "duration": 50,
    "start_time": "2023-07-27T13:07:54.312Z"
   },
   {
    "duration": 5,
    "start_time": "2023-07-27T13:07:54.363Z"
   },
   {
    "duration": 31,
    "start_time": "2023-07-27T13:07:54.369Z"
   },
   {
    "duration": 51,
    "start_time": "2023-07-27T13:07:54.401Z"
   },
   {
    "duration": 120,
    "start_time": "2023-07-27T13:07:54.454Z"
   },
   {
    "duration": 8,
    "start_time": "2023-07-27T13:07:54.575Z"
   },
   {
    "duration": 35,
    "start_time": "2023-07-27T13:07:54.584Z"
   },
   {
    "duration": 24,
    "start_time": "2023-07-27T13:07:54.620Z"
   },
   {
    "duration": 79,
    "start_time": "2023-07-27T13:07:54.645Z"
   },
   {
    "duration": 462,
    "start_time": "2023-07-27T13:07:54.726Z"
   },
   {
    "duration": 77,
    "start_time": "2023-07-27T13:07:55.189Z"
   },
   {
    "duration": 39,
    "start_time": "2023-07-27T13:07:55.268Z"
   },
   {
    "duration": 299,
    "start_time": "2023-07-27T13:07:55.308Z"
   },
   {
    "duration": 17,
    "start_time": "2023-07-27T13:07:55.608Z"
   },
   {
    "duration": 251,
    "start_time": "2023-07-27T13:07:55.627Z"
   },
   {
    "duration": 25,
    "start_time": "2023-07-27T13:07:55.880Z"
   },
   {
    "duration": 94,
    "start_time": "2023-07-27T13:07:55.907Z"
   },
   {
    "duration": 111,
    "start_time": "2023-07-27T13:07:56.003Z"
   },
   {
    "duration": 66,
    "start_time": "2023-07-27T13:07:56.116Z"
   },
   {
    "duration": 128,
    "start_time": "2023-07-27T13:08:01.595Z"
   },
   {
    "duration": 53,
    "start_time": "2023-07-27T13:08:04.821Z"
   },
   {
    "duration": 1705,
    "start_time": "2023-07-27T13:08:36.722Z"
   },
   {
    "duration": 1017,
    "start_time": "2023-07-27T13:08:38.429Z"
   },
   {
    "duration": 5,
    "start_time": "2023-07-27T13:08:39.448Z"
   },
   {
    "duration": 1166,
    "start_time": "2023-07-27T13:08:39.455Z"
   },
   {
    "duration": 711,
    "start_time": "2023-07-27T13:08:40.623Z"
   },
   {
    "duration": 9,
    "start_time": "2023-07-27T13:08:41.336Z"
   },
   {
    "duration": 15,
    "start_time": "2023-07-27T13:08:41.347Z"
   },
   {
    "duration": 8,
    "start_time": "2023-07-27T13:08:41.364Z"
   },
   {
    "duration": 39,
    "start_time": "2023-07-27T13:08:41.375Z"
   },
   {
    "duration": 9,
    "start_time": "2023-07-27T13:08:41.416Z"
   },
   {
    "duration": 217,
    "start_time": "2023-07-27T13:08:41.427Z"
   },
   {
    "duration": 163,
    "start_time": "2023-07-27T13:08:41.650Z"
   },
   {
    "duration": 14,
    "start_time": "2023-07-27T13:08:41.815Z"
   },
   {
    "duration": 67,
    "start_time": "2023-07-27T13:08:41.832Z"
   },
   {
    "duration": 410,
    "start_time": "2023-07-27T13:08:41.901Z"
   },
   {
    "duration": 363,
    "start_time": "2023-07-27T13:08:42.312Z"
   },
   {
    "duration": 171,
    "start_time": "2023-07-27T13:08:42.677Z"
   },
   {
    "duration": 8,
    "start_time": "2023-07-27T13:08:42.849Z"
   },
   {
    "duration": 36,
    "start_time": "2023-07-27T13:08:42.858Z"
   },
   {
    "duration": 5,
    "start_time": "2023-07-27T13:08:42.897Z"
   },
   {
    "duration": 31,
    "start_time": "2023-07-27T13:08:42.904Z"
   },
   {
    "duration": 46,
    "start_time": "2023-07-27T13:08:42.937Z"
   },
   {
    "duration": 124,
    "start_time": "2023-07-27T13:08:42.984Z"
   },
   {
    "duration": 9,
    "start_time": "2023-07-27T13:08:43.110Z"
   },
   {
    "duration": 27,
    "start_time": "2023-07-27T13:08:43.120Z"
   },
   {
    "duration": 27,
    "start_time": "2023-07-27T13:08:43.149Z"
   },
   {
    "duration": 98,
    "start_time": "2023-07-27T13:08:43.178Z"
   },
   {
    "duration": 522,
    "start_time": "2023-07-27T13:08:43.278Z"
   },
   {
    "duration": 75,
    "start_time": "2023-07-27T13:08:43.801Z"
   },
   {
    "duration": 35,
    "start_time": "2023-07-27T13:08:43.877Z"
   },
   {
    "duration": 253,
    "start_time": "2023-07-27T13:08:43.914Z"
   },
   {
    "duration": 17,
    "start_time": "2023-07-27T13:08:44.168Z"
   },
   {
    "duration": 239,
    "start_time": "2023-07-27T13:08:44.187Z"
   },
   {
    "duration": 20,
    "start_time": "2023-07-27T13:08:44.427Z"
   },
   {
    "duration": 82,
    "start_time": "2023-07-27T13:08:44.448Z"
   },
   {
    "duration": 93,
    "start_time": "2023-07-27T13:08:44.531Z"
   },
   {
    "duration": 53,
    "start_time": "2023-07-27T13:08:44.626Z"
   },
   {
    "duration": 105,
    "start_time": "2023-07-27T13:08:44.680Z"
   },
   {
    "duration": 48,
    "start_time": "2023-07-27T13:08:49.049Z"
   },
   {
    "duration": 51,
    "start_time": "2023-07-27T13:11:19.806Z"
   },
   {
    "duration": 1518,
    "start_time": "2023-07-27T13:11:25.620Z"
   },
   {
    "duration": 959,
    "start_time": "2023-07-27T13:11:27.140Z"
   },
   {
    "duration": 6,
    "start_time": "2023-07-27T13:11:28.100Z"
   },
   {
    "duration": 1160,
    "start_time": "2023-07-27T13:11:28.108Z"
   },
   {
    "duration": 705,
    "start_time": "2023-07-27T13:11:29.270Z"
   },
   {
    "duration": 9,
    "start_time": "2023-07-27T13:11:29.976Z"
   },
   {
    "duration": 23,
    "start_time": "2023-07-27T13:11:29.986Z"
   },
   {
    "duration": 28,
    "start_time": "2023-07-27T13:11:30.010Z"
   },
   {
    "duration": 48,
    "start_time": "2023-07-27T13:11:30.039Z"
   },
   {
    "duration": 59,
    "start_time": "2023-07-27T13:11:30.089Z"
   },
   {
    "duration": 236,
    "start_time": "2023-07-27T13:11:30.150Z"
   },
   {
    "duration": 152,
    "start_time": "2023-07-27T13:11:30.387Z"
   },
   {
    "duration": 14,
    "start_time": "2023-07-27T13:11:30.541Z"
   },
   {
    "duration": 75,
    "start_time": "2023-07-27T13:11:30.559Z"
   },
   {
    "duration": 438,
    "start_time": "2023-07-27T13:11:30.636Z"
   },
   {
    "duration": 388,
    "start_time": "2023-07-27T13:11:31.076Z"
   },
   {
    "duration": 187,
    "start_time": "2023-07-27T13:11:31.465Z"
   },
   {
    "duration": 7,
    "start_time": "2023-07-27T13:11:31.654Z"
   },
   {
    "duration": 61,
    "start_time": "2023-07-27T13:11:31.662Z"
   },
   {
    "duration": 12,
    "start_time": "2023-07-27T13:11:31.725Z"
   },
   {
    "duration": 31,
    "start_time": "2023-07-27T13:11:31.741Z"
   },
   {
    "duration": 40,
    "start_time": "2023-07-27T13:11:31.774Z"
   },
   {
    "duration": 218,
    "start_time": "2023-07-27T13:11:31.816Z"
   },
   {
    "duration": 11,
    "start_time": "2023-07-27T13:11:32.036Z"
   },
   {
    "duration": 37,
    "start_time": "2023-07-27T13:11:32.049Z"
   },
   {
    "duration": 23,
    "start_time": "2023-07-27T13:11:32.088Z"
   },
   {
    "duration": 104,
    "start_time": "2023-07-27T13:11:32.112Z"
   },
   {
    "duration": 522,
    "start_time": "2023-07-27T13:11:32.217Z"
   },
   {
    "duration": 82,
    "start_time": "2023-07-27T13:11:32.741Z"
   },
   {
    "duration": 64,
    "start_time": "2023-07-27T13:11:32.825Z"
   },
   {
    "duration": 258,
    "start_time": "2023-07-27T13:11:32.891Z"
   },
   {
    "duration": 17,
    "start_time": "2023-07-27T13:11:33.150Z"
   },
   {
    "duration": 258,
    "start_time": "2023-07-27T13:11:33.168Z"
   },
   {
    "duration": 23,
    "start_time": "2023-07-27T13:11:33.428Z"
   },
   {
    "duration": 140,
    "start_time": "2023-07-27T13:11:33.452Z"
   },
   {
    "duration": 97,
    "start_time": "2023-07-27T13:11:33.594Z"
   },
   {
    "duration": 68,
    "start_time": "2023-07-27T13:11:33.696Z"
   },
   {
    "duration": 132,
    "start_time": "2023-07-27T13:11:40.500Z"
   },
   {
    "duration": 4,
    "start_time": "2023-07-27T13:17:00.414Z"
   },
   {
    "duration": 720,
    "start_time": "2023-07-27T13:17:00.460Z"
   },
   {
    "duration": 5,
    "start_time": "2023-07-27T13:17:01.182Z"
   },
   {
    "duration": 1173,
    "start_time": "2023-07-27T13:17:01.189Z"
   },
   {
    "duration": 701,
    "start_time": "2023-07-27T13:17:02.364Z"
   },
   {
    "duration": 9,
    "start_time": "2023-07-27T13:17:03.067Z"
   },
   {
    "duration": 30,
    "start_time": "2023-07-27T13:17:03.078Z"
   },
   {
    "duration": 31,
    "start_time": "2023-07-27T13:17:03.110Z"
   },
   {
    "duration": 21,
    "start_time": "2023-07-27T13:17:03.143Z"
   },
   {
    "duration": 17,
    "start_time": "2023-07-27T13:17:03.166Z"
   },
   {
    "duration": 181,
    "start_time": "2023-07-27T13:17:03.185Z"
   },
   {
    "duration": 137,
    "start_time": "2023-07-27T13:17:03.368Z"
   },
   {
    "duration": 16,
    "start_time": "2023-07-27T13:17:03.507Z"
   },
   {
    "duration": 80,
    "start_time": "2023-07-27T13:17:03.525Z"
   },
   {
    "duration": 425,
    "start_time": "2023-07-27T13:17:03.607Z"
   },
   {
    "duration": 377,
    "start_time": "2023-07-27T13:17:10.461Z"
   },
   {
    "duration": 377,
    "start_time": "2023-07-27T13:17:12.077Z"
   },
   {
    "duration": 75,
    "start_time": "2023-07-27T13:17:15.338Z"
   },
   {
    "duration": 23,
    "start_time": "2023-07-27T13:17:21.815Z"
   },
   {
    "duration": 3049,
    "start_time": "2023-07-27T13:21:39.861Z"
   },
   {
    "duration": 23,
    "start_time": "2023-07-27T13:21:50.114Z"
   },
   {
    "duration": 3,
    "start_time": "2023-07-27T13:23:24.286Z"
   },
   {
    "duration": 714,
    "start_time": "2023-07-27T13:23:24.293Z"
   },
   {
    "duration": 5,
    "start_time": "2023-07-27T13:23:25.008Z"
   },
   {
    "duration": 1145,
    "start_time": "2023-07-27T13:23:25.015Z"
   },
   {
    "duration": 738,
    "start_time": "2023-07-27T13:23:26.162Z"
   },
   {
    "duration": 10,
    "start_time": "2023-07-27T13:23:26.902Z"
   },
   {
    "duration": 18,
    "start_time": "2023-07-27T13:23:26.914Z"
   },
   {
    "duration": 10,
    "start_time": "2023-07-27T13:23:26.934Z"
   },
   {
    "duration": 29,
    "start_time": "2023-07-27T13:23:26.946Z"
   },
   {
    "duration": 35,
    "start_time": "2023-07-27T13:23:26.976Z"
   },
   {
    "duration": 158,
    "start_time": "2023-07-27T13:23:27.014Z"
   },
   {
    "duration": 215,
    "start_time": "2023-07-27T13:23:27.174Z"
   },
   {
    "duration": 24,
    "start_time": "2023-07-27T13:23:27.392Z"
   },
   {
    "duration": 62,
    "start_time": "2023-07-27T13:23:27.418Z"
   },
   {
    "duration": 543,
    "start_time": "2023-07-27T13:23:27.482Z"
   },
   {
    "duration": 453,
    "start_time": "2023-07-27T13:23:28.027Z"
   },
   {
    "duration": 27,
    "start_time": "2023-07-27T13:23:28.482Z"
   },
   {
    "duration": 3172,
    "start_time": "2023-07-27T13:23:28.511Z"
   },
   {
    "duration": 8,
    "start_time": "2023-07-27T13:23:31.684Z"
   },
   {
    "duration": 68,
    "start_time": "2023-07-27T13:23:31.693Z"
   },
   {
    "duration": 5,
    "start_time": "2023-07-27T13:23:31.763Z"
   },
   {
    "duration": 36,
    "start_time": "2023-07-27T13:23:31.769Z"
   },
   {
    "duration": 50,
    "start_time": "2023-07-27T13:23:31.806Z"
   },
   {
    "duration": 131,
    "start_time": "2023-07-27T13:23:31.858Z"
   },
   {
    "duration": 9,
    "start_time": "2023-07-27T13:23:31.990Z"
   },
   {
    "duration": 33,
    "start_time": "2023-07-27T13:23:32.001Z"
   },
   {
    "duration": 33,
    "start_time": "2023-07-27T13:23:32.036Z"
   },
   {
    "duration": 106,
    "start_time": "2023-07-27T13:23:32.071Z"
   },
   {
    "duration": 692,
    "start_time": "2023-07-27T13:23:32.181Z"
   },
   {
    "duration": 75,
    "start_time": "2023-07-27T13:23:32.876Z"
   },
   {
    "duration": 40,
    "start_time": "2023-07-27T13:23:32.953Z"
   },
   {
    "duration": 257,
    "start_time": "2023-07-27T13:23:32.995Z"
   },
   {
    "duration": 19,
    "start_time": "2023-07-27T13:23:33.253Z"
   },
   {
    "duration": 259,
    "start_time": "2023-07-27T13:23:33.274Z"
   },
   {
    "duration": 27,
    "start_time": "2023-07-27T13:23:33.535Z"
   },
   {
    "duration": 76,
    "start_time": "2023-07-27T13:23:33.563Z"
   },
   {
    "duration": 92,
    "start_time": "2023-07-27T13:23:33.641Z"
   },
   {
    "duration": 87,
    "start_time": "2023-07-27T13:23:33.735Z"
   },
   {
    "duration": 99,
    "start_time": "2023-07-27T13:23:33.823Z"
   },
   {
    "duration": 83,
    "start_time": "2023-07-27T13:23:33.924Z"
   },
   {
    "duration": 54,
    "start_time": "2023-07-27T13:23:37.850Z"
   },
   {
    "duration": 44,
    "start_time": "2023-07-27T13:24:17.946Z"
   },
   {
    "duration": 4,
    "start_time": "2023-07-27T13:25:39.472Z"
   },
   {
    "duration": 804,
    "start_time": "2023-07-27T13:25:39.478Z"
   },
   {
    "duration": 6,
    "start_time": "2023-07-27T13:25:40.284Z"
   },
   {
    "duration": 1256,
    "start_time": "2023-07-27T13:25:40.292Z"
   },
   {
    "duration": 659,
    "start_time": "2023-07-27T13:25:41.550Z"
   },
   {
    "duration": 10,
    "start_time": "2023-07-27T13:25:42.210Z"
   },
   {
    "duration": 23,
    "start_time": "2023-07-27T13:25:42.224Z"
   },
   {
    "duration": 19,
    "start_time": "2023-07-27T13:25:42.249Z"
   },
   {
    "duration": 33,
    "start_time": "2023-07-27T13:25:42.269Z"
   },
   {
    "duration": 9,
    "start_time": "2023-07-27T13:25:42.303Z"
   },
   {
    "duration": 132,
    "start_time": "2023-07-27T13:25:42.313Z"
   },
   {
    "duration": 138,
    "start_time": "2023-07-27T13:25:42.447Z"
   },
   {
    "duration": 25,
    "start_time": "2023-07-27T13:25:42.587Z"
   },
   {
    "duration": 47,
    "start_time": "2023-07-27T13:25:42.616Z"
   },
   {
    "duration": 434,
    "start_time": "2023-07-27T13:25:42.665Z"
   },
   {
    "duration": 359,
    "start_time": "2023-07-27T13:25:43.103Z"
   },
   {
    "duration": 24,
    "start_time": "2023-07-27T13:25:43.464Z"
   },
   {
    "duration": 3197,
    "start_time": "2023-07-27T13:25:43.500Z"
   },
   {
    "duration": 7,
    "start_time": "2023-07-27T13:25:46.698Z"
   },
   {
    "duration": 45,
    "start_time": "2023-07-27T13:25:46.706Z"
   },
   {
    "duration": 4,
    "start_time": "2023-07-27T13:25:46.753Z"
   },
   {
    "duration": 16,
    "start_time": "2023-07-27T13:25:46.758Z"
   },
   {
    "duration": 50,
    "start_time": "2023-07-27T13:25:46.776Z"
   },
   {
    "duration": 135,
    "start_time": "2023-07-27T13:25:46.828Z"
   },
   {
    "duration": 10,
    "start_time": "2023-07-27T13:25:46.965Z"
   },
   {
    "duration": 32,
    "start_time": "2023-07-27T13:25:46.976Z"
   },
   {
    "duration": 9,
    "start_time": "2023-07-27T13:25:47.009Z"
   },
   {
    "duration": 68,
    "start_time": "2023-07-27T13:25:47.019Z"
   },
   {
    "duration": 608,
    "start_time": "2023-07-27T13:25:47.099Z"
   },
   {
    "duration": 65,
    "start_time": "2023-07-27T13:25:47.708Z"
   },
   {
    "duration": 36,
    "start_time": "2023-07-27T13:25:47.774Z"
   },
   {
    "duration": 232,
    "start_time": "2023-07-27T13:25:47.812Z"
   },
   {
    "duration": 17,
    "start_time": "2023-07-27T13:25:48.045Z"
   },
   {
    "duration": 256,
    "start_time": "2023-07-27T13:25:48.063Z"
   },
   {
    "duration": 19,
    "start_time": "2023-07-27T13:25:48.320Z"
   },
   {
    "duration": 79,
    "start_time": "2023-07-27T13:25:48.341Z"
   },
   {
    "duration": 105,
    "start_time": "2023-07-27T13:25:48.422Z"
   },
   {
    "duration": 75,
    "start_time": "2023-07-27T13:25:48.529Z"
   },
   {
    "duration": 101,
    "start_time": "2023-07-27T13:25:49.546Z"
   },
   {
    "duration": 69,
    "start_time": "2023-07-27T13:25:52.894Z"
   },
   {
    "duration": 45,
    "start_time": "2023-07-27T13:26:03.754Z"
   },
   {
    "duration": 36093,
    "start_time": "2023-07-27T13:26:06.546Z"
   },
   {
    "duration": 20608,
    "start_time": "2023-07-27T13:26:48.550Z"
   },
   {
    "duration": 24530,
    "start_time": "2023-07-27T13:27:14.470Z"
   },
   {
    "duration": 1553,
    "start_time": "2023-07-27T19:28:19.578Z"
   },
   {
    "duration": 2829,
    "start_time": "2023-07-27T19:28:21.133Z"
   },
   {
    "duration": 5,
    "start_time": "2023-07-27T19:28:23.964Z"
   },
   {
    "duration": 1210,
    "start_time": "2023-07-27T19:28:23.971Z"
   },
   {
    "duration": 728,
    "start_time": "2023-07-27T19:28:25.184Z"
   },
   {
    "duration": 10,
    "start_time": "2023-07-27T19:28:25.914Z"
   },
   {
    "duration": 31,
    "start_time": "2023-07-27T19:28:25.926Z"
   },
   {
    "duration": 18,
    "start_time": "2023-07-27T19:28:25.959Z"
   },
   {
    "duration": 24,
    "start_time": "2023-07-27T19:28:25.979Z"
   },
   {
    "duration": 13,
    "start_time": "2023-07-27T19:28:26.005Z"
   },
   {
    "duration": 194,
    "start_time": "2023-07-27T19:28:26.020Z"
   },
   {
    "duration": 146,
    "start_time": "2023-07-27T19:28:26.215Z"
   },
   {
    "duration": 24,
    "start_time": "2023-07-27T19:28:26.363Z"
   },
   {
    "duration": 52,
    "start_time": "2023-07-27T19:28:26.391Z"
   },
   {
    "duration": 462,
    "start_time": "2023-07-27T19:28:26.445Z"
   },
   {
    "duration": 385,
    "start_time": "2023-07-27T19:28:26.908Z"
   },
   {
    "duration": 25,
    "start_time": "2023-07-27T19:28:27.295Z"
   },
   {
    "duration": 2978,
    "start_time": "2023-07-27T19:28:27.322Z"
   },
   {
    "duration": 8,
    "start_time": "2023-07-27T19:28:30.302Z"
   },
   {
    "duration": 88,
    "start_time": "2023-07-27T19:28:30.312Z"
   },
   {
    "duration": 6,
    "start_time": "2023-07-27T19:28:30.404Z"
   },
   {
    "duration": 46,
    "start_time": "2023-07-27T19:28:30.412Z"
   },
   {
    "duration": 64,
    "start_time": "2023-07-27T19:28:30.460Z"
   },
   {
    "duration": 136,
    "start_time": "2023-07-27T19:28:30.526Z"
   },
   {
    "duration": 13,
    "start_time": "2023-07-27T19:28:30.664Z"
   },
   {
    "duration": 44,
    "start_time": "2023-07-27T19:28:30.679Z"
   },
   {
    "duration": 24,
    "start_time": "2023-07-27T19:28:30.725Z"
   },
   {
    "duration": 90,
    "start_time": "2023-07-27T19:28:30.750Z"
   },
   {
    "duration": 485,
    "start_time": "2023-07-27T19:28:30.842Z"
   },
   {
    "duration": 76,
    "start_time": "2023-07-27T19:28:31.329Z"
   },
   {
    "duration": 64,
    "start_time": "2023-07-27T19:28:31.407Z"
   },
   {
    "duration": 267,
    "start_time": "2023-07-27T19:28:31.473Z"
   },
   {
    "duration": 19,
    "start_time": "2023-07-27T19:28:31.742Z"
   },
   {
    "duration": 243,
    "start_time": "2023-07-27T19:28:31.763Z"
   },
   {
    "duration": 18,
    "start_time": "2023-07-27T19:28:32.008Z"
   },
   {
    "duration": 98,
    "start_time": "2023-07-27T19:28:32.027Z"
   },
   {
    "duration": 94,
    "start_time": "2023-07-27T19:28:32.126Z"
   },
   {
    "duration": 84,
    "start_time": "2023-07-27T19:28:32.222Z"
   },
   {
    "duration": 124,
    "start_time": "2023-07-27T19:28:32.307Z"
   },
   {
    "duration": 88,
    "start_time": "2023-07-27T19:28:32.433Z"
   },
   {
    "duration": 50,
    "start_time": "2023-07-27T19:28:32.524Z"
   },
   {
    "duration": 47914,
    "start_time": "2023-07-27T19:28:32.576Z"
   },
   {
    "duration": 22249,
    "start_time": "2023-07-27T19:29:20.492Z"
   },
   {
    "duration": 17425,
    "start_time": "2023-07-27T19:38:16.250Z"
   },
   {
    "duration": 204,
    "start_time": "2023-07-27T19:38:38.271Z"
   },
   {
    "duration": 104,
    "start_time": "2023-07-27T19:41:11.405Z"
   },
   {
    "duration": 4,
    "start_time": "2023-07-27T19:41:39.758Z"
   },
   {
    "duration": 5,
    "start_time": "2023-07-27T19:41:47.017Z"
   },
   {
    "duration": 123,
    "start_time": "2023-07-27T19:43:42.599Z"
   },
   {
    "duration": 12,
    "start_time": "2023-07-27T19:44:36.221Z"
   },
   {
    "duration": 21,
    "start_time": "2023-07-27T19:47:32.756Z"
   },
   {
    "duration": 6,
    "start_time": "2023-07-27T19:49:19.213Z"
   },
   {
    "duration": 77,
    "start_time": "2023-07-27T19:49:26.898Z"
   },
   {
    "duration": 666,
    "start_time": "2023-07-27T19:50:50.297Z"
   },
   {
    "duration": 1854,
    "start_time": "2023-07-28T08:45:01.513Z"
   },
   {
    "duration": 3111,
    "start_time": "2023-07-28T08:45:03.370Z"
   },
   {
    "duration": 6,
    "start_time": "2023-07-28T08:45:06.483Z"
   },
   {
    "duration": 1421,
    "start_time": "2023-07-28T08:45:06.491Z"
   },
   {
    "duration": 806,
    "start_time": "2023-07-28T08:45:07.914Z"
   },
   {
    "duration": 10,
    "start_time": "2023-07-28T08:45:08.722Z"
   },
   {
    "duration": 34,
    "start_time": "2023-07-28T08:45:08.734Z"
   },
   {
    "duration": 9,
    "start_time": "2023-07-28T08:45:08.770Z"
   },
   {
    "duration": 20,
    "start_time": "2023-07-28T08:45:08.781Z"
   },
   {
    "duration": 12,
    "start_time": "2023-07-28T08:45:08.805Z"
   },
   {
    "duration": 260,
    "start_time": "2023-07-28T08:45:08.819Z"
   },
   {
    "duration": 173,
    "start_time": "2023-07-28T08:45:09.081Z"
   },
   {
    "duration": 29,
    "start_time": "2023-07-28T08:45:09.255Z"
   },
   {
    "duration": 85,
    "start_time": "2023-07-28T08:45:09.286Z"
   },
   {
    "duration": 582,
    "start_time": "2023-07-28T08:45:09.374Z"
   },
   {
    "duration": 492,
    "start_time": "2023-07-28T08:45:09.958Z"
   },
   {
    "duration": 29,
    "start_time": "2023-07-28T08:45:10.452Z"
   },
   {
    "duration": 3593,
    "start_time": "2023-07-28T08:45:10.482Z"
   },
   {
    "duration": 8,
    "start_time": "2023-07-28T08:45:14.077Z"
   },
   {
    "duration": 80,
    "start_time": "2023-07-28T08:45:14.087Z"
   },
   {
    "duration": 8,
    "start_time": "2023-07-28T08:45:14.170Z"
   },
   {
    "duration": 27,
    "start_time": "2023-07-28T08:45:14.180Z"
   },
   {
    "duration": 48,
    "start_time": "2023-07-28T08:45:14.210Z"
   },
   {
    "duration": 159,
    "start_time": "2023-07-28T08:45:14.260Z"
   },
   {
    "duration": 9,
    "start_time": "2023-07-28T08:45:14.420Z"
   },
   {
    "duration": 36,
    "start_time": "2023-07-28T08:45:14.431Z"
   },
   {
    "duration": 11,
    "start_time": "2023-07-28T08:45:14.469Z"
   },
   {
    "duration": 94,
    "start_time": "2023-07-28T08:45:14.484Z"
   },
   {
    "duration": 618,
    "start_time": "2023-07-28T08:45:14.580Z"
   },
   {
    "duration": 85,
    "start_time": "2023-07-28T08:45:15.200Z"
   },
   {
    "duration": 27,
    "start_time": "2023-07-28T08:45:15.287Z"
   },
   {
    "duration": 297,
    "start_time": "2023-07-28T08:45:15.316Z"
   },
   {
    "duration": 17,
    "start_time": "2023-07-28T08:45:15.615Z"
   },
   {
    "duration": 288,
    "start_time": "2023-07-28T08:45:15.634Z"
   },
   {
    "duration": 22,
    "start_time": "2023-07-28T08:45:15.936Z"
   },
   {
    "duration": 72,
    "start_time": "2023-07-28T08:45:15.959Z"
   },
   {
    "duration": 81,
    "start_time": "2023-07-28T08:45:16.033Z"
   },
   {
    "duration": 89,
    "start_time": "2023-07-28T08:45:16.116Z"
   },
   {
    "duration": 168,
    "start_time": "2023-07-28T08:45:16.206Z"
   },
   {
    "duration": 72,
    "start_time": "2023-07-28T08:45:16.376Z"
   },
   {
    "duration": 62,
    "start_time": "2023-07-28T08:45:16.450Z"
   },
   {
    "duration": 84354,
    "start_time": "2023-07-28T08:45:16.514Z"
   },
   {
    "duration": 53918,
    "start_time": "2023-07-28T08:46:40.869Z"
   },
   {
    "duration": 32482,
    "start_time": "2023-07-28T08:47:34.789Z"
   },
   {
    "duration": 27130,
    "start_time": "2023-07-28T09:01:55.644Z"
   },
   {
    "duration": 293,
    "start_time": "2023-07-28T09:02:22.776Z"
   },
   {
    "duration": 6,
    "start_time": "2023-07-28T09:03:28.498Z"
   },
   {
    "duration": 265,
    "start_time": "2023-07-28T09:03:40.880Z"
   },
   {
    "duration": 30,
    "start_time": "2023-07-28T09:04:03.884Z"
   },
   {
    "duration": 3727,
    "start_time": "2023-07-28T09:04:07.927Z"
   },
   {
    "duration": 0,
    "start_time": "2023-07-28T09:38:48.913Z"
   },
   {
    "duration": 1641,
    "start_time": "2023-07-28T09:38:55.410Z"
   },
   {
    "duration": 5,
    "start_time": "2023-07-28T09:39:07.068Z"
   },
   {
    "duration": 1227,
    "start_time": "2023-07-28T09:39:07.122Z"
   },
   {
    "duration": 6,
    "start_time": "2023-07-28T09:39:08.351Z"
   },
   {
    "duration": 1504,
    "start_time": "2023-07-28T09:39:08.360Z"
   },
   {
    "duration": 866,
    "start_time": "2023-07-28T09:39:09.866Z"
   },
   {
    "duration": 17,
    "start_time": "2023-07-28T09:39:10.735Z"
   },
   {
    "duration": 37,
    "start_time": "2023-07-28T09:39:10.754Z"
   },
   {
    "duration": 15,
    "start_time": "2023-07-28T09:39:10.793Z"
   },
   {
    "duration": 59,
    "start_time": "2023-07-28T09:39:10.810Z"
   },
   {
    "duration": 15,
    "start_time": "2023-07-28T09:39:10.871Z"
   },
   {
    "duration": 248,
    "start_time": "2023-07-28T09:39:10.889Z"
   },
   {
    "duration": 178,
    "start_time": "2023-07-28T09:39:11.139Z"
   },
   {
    "duration": 21,
    "start_time": "2023-07-28T09:39:11.319Z"
   },
   {
    "duration": 101,
    "start_time": "2023-07-28T09:39:11.342Z"
   },
   {
    "duration": 604,
    "start_time": "2023-07-28T09:39:11.445Z"
   },
   {
    "duration": 504,
    "start_time": "2023-07-28T09:39:12.051Z"
   },
   {
    "duration": 29,
    "start_time": "2023-07-28T09:39:12.556Z"
   },
   {
    "duration": 3701,
    "start_time": "2023-07-28T09:39:12.587Z"
   },
   {
    "duration": 9,
    "start_time": "2023-07-28T09:39:16.290Z"
   },
   {
    "duration": 100,
    "start_time": "2023-07-28T09:39:16.302Z"
   },
   {
    "duration": 9,
    "start_time": "2023-07-28T09:39:16.404Z"
   },
   {
    "duration": 18,
    "start_time": "2023-07-28T09:39:16.415Z"
   },
   {
    "duration": 67,
    "start_time": "2023-07-28T09:39:16.435Z"
   },
   {
    "duration": 165,
    "start_time": "2023-07-28T09:39:16.504Z"
   },
   {
    "duration": 9,
    "start_time": "2023-07-28T09:39:16.671Z"
   },
   {
    "duration": 19,
    "start_time": "2023-07-28T09:39:16.682Z"
   },
   {
    "duration": 15,
    "start_time": "2023-07-28T09:39:16.702Z"
   },
   {
    "duration": 104,
    "start_time": "2023-07-28T09:39:16.719Z"
   },
   {
    "duration": 670,
    "start_time": "2023-07-28T09:39:16.826Z"
   },
   {
    "duration": 81,
    "start_time": "2023-07-28T09:39:17.499Z"
   },
   {
    "duration": 21,
    "start_time": "2023-07-28T09:39:17.581Z"
   },
   {
    "duration": 336,
    "start_time": "2023-07-28T09:39:17.604Z"
   },
   {
    "duration": 18,
    "start_time": "2023-07-28T09:39:17.942Z"
   },
   {
    "duration": 286,
    "start_time": "2023-07-28T09:39:17.968Z"
   },
   {
    "duration": 22,
    "start_time": "2023-07-28T09:39:18.256Z"
   },
   {
    "duration": 74,
    "start_time": "2023-07-28T09:39:18.281Z"
   },
   {
    "duration": 114,
    "start_time": "2023-07-28T09:39:18.368Z"
   },
   {
    "duration": 97,
    "start_time": "2023-07-28T09:39:18.484Z"
   },
   {
    "duration": 166,
    "start_time": "2023-07-28T09:39:18.583Z"
   },
   {
    "duration": 86,
    "start_time": "2023-07-28T09:39:18.751Z"
   },
   {
    "duration": 75,
    "start_time": "2023-07-28T09:39:18.840Z"
   },
   {
    "duration": 68965,
    "start_time": "2023-07-28T09:39:18.918Z"
   },
   {
    "duration": 47603,
    "start_time": "2023-07-28T09:40:27.885Z"
   },
   {
    "duration": 33767,
    "start_time": "2023-07-28T09:41:52.009Z"
   },
   {
    "duration": 224,
    "start_time": "2023-07-28T09:42:29.244Z"
   },
   {
    "duration": 6,
    "start_time": "2023-07-28T09:42:29.886Z"
   },
   {
    "duration": 3786,
    "start_time": "2023-07-28T09:42:32.188Z"
   },
   {
    "duration": 77,
    "start_time": "2023-07-28T09:42:35.976Z"
   },
   {
    "duration": 20,
    "start_time": "2023-07-28T09:42:36.055Z"
   },
   {
    "duration": 121,
    "start_time": "2023-07-28T09:47:46.406Z"
   },
   {
    "duration": 14,
    "start_time": "2023-07-28T09:47:52.207Z"
   },
   {
    "duration": 11,
    "start_time": "2023-07-28T09:48:51.884Z"
   },
   {
    "duration": 15,
    "start_time": "2023-07-28T09:50:14.026Z"
   },
   {
    "duration": 13,
    "start_time": "2023-07-28T09:50:25.791Z"
   },
   {
    "duration": 34124,
    "start_time": "2023-07-28T09:51:22.646Z"
   },
   {
    "duration": 27,
    "start_time": "2023-07-28T09:52:03.671Z"
   },
   {
    "duration": 22,
    "start_time": "2023-07-28T09:52:54.664Z"
   },
   {
    "duration": 6,
    "start_time": "2023-07-28T09:53:13.096Z"
   },
   {
    "duration": 56,
    "start_time": "2023-07-28T09:53:24.810Z"
   },
   {
    "duration": 1694,
    "start_time": "2023-07-31T09:38:25.980Z"
   },
   {
    "duration": 3414,
    "start_time": "2023-07-31T09:38:27.676Z"
   },
   {
    "duration": 6,
    "start_time": "2023-07-31T09:38:31.092Z"
   },
   {
    "duration": 1472,
    "start_time": "2023-07-31T09:38:31.099Z"
   },
   {
    "duration": 831,
    "start_time": "2023-07-31T09:38:32.574Z"
   },
   {
    "duration": 10,
    "start_time": "2023-07-31T09:38:33.407Z"
   },
   {
    "duration": 30,
    "start_time": "2023-07-31T09:38:33.419Z"
   },
   {
    "duration": 16,
    "start_time": "2023-07-31T09:38:33.451Z"
   },
   {
    "duration": 23,
    "start_time": "2023-07-31T09:38:33.469Z"
   },
   {
    "duration": 27,
    "start_time": "2023-07-31T09:38:33.493Z"
   },
   {
    "duration": 221,
    "start_time": "2023-07-31T09:38:33.522Z"
   },
   {
    "duration": 167,
    "start_time": "2023-07-31T09:38:33.745Z"
   },
   {
    "duration": 22,
    "start_time": "2023-07-31T09:38:33.914Z"
   },
   {
    "duration": 89,
    "start_time": "2023-07-31T09:38:33.940Z"
   },
   {
    "duration": 546,
    "start_time": "2023-07-31T09:38:34.032Z"
   },
   {
    "duration": 452,
    "start_time": "2023-07-31T09:38:34.580Z"
   },
   {
    "duration": 26,
    "start_time": "2023-07-31T09:38:35.035Z"
   },
   {
    "duration": 3268,
    "start_time": "2023-07-31T09:38:35.067Z"
   },
   {
    "duration": 7,
    "start_time": "2023-07-31T09:38:38.337Z"
   },
   {
    "duration": 64,
    "start_time": "2023-07-31T09:38:38.345Z"
   },
   {
    "duration": 5,
    "start_time": "2023-07-31T09:38:38.411Z"
   },
   {
    "duration": 17,
    "start_time": "2023-07-31T09:38:38.418Z"
   },
   {
    "duration": 38,
    "start_time": "2023-07-31T09:38:38.437Z"
   },
   {
    "duration": 166,
    "start_time": "2023-07-31T09:38:38.477Z"
   },
   {
    "duration": 24,
    "start_time": "2023-07-31T09:38:38.644Z"
   },
   {
    "duration": 19,
    "start_time": "2023-07-31T09:38:38.669Z"
   },
   {
    "duration": 21,
    "start_time": "2023-07-31T09:38:38.689Z"
   },
   {
    "duration": 82,
    "start_time": "2023-07-31T09:38:38.712Z"
   },
   {
    "duration": 591,
    "start_time": "2023-07-31T09:38:38.796Z"
   },
   {
    "duration": 67,
    "start_time": "2023-07-31T09:38:39.389Z"
   },
   {
    "duration": 17,
    "start_time": "2023-07-31T09:38:39.467Z"
   },
   {
    "duration": 282,
    "start_time": "2023-07-31T09:38:39.486Z"
   },
   {
    "duration": 20,
    "start_time": "2023-07-31T09:38:39.769Z"
   },
   {
    "duration": 285,
    "start_time": "2023-07-31T09:38:39.791Z"
   },
   {
    "duration": 22,
    "start_time": "2023-07-31T09:38:40.078Z"
   },
   {
    "duration": 110,
    "start_time": "2023-07-31T09:38:40.102Z"
   },
   {
    "duration": 96,
    "start_time": "2023-07-31T09:38:40.215Z"
   },
   {
    "duration": 87,
    "start_time": "2023-07-31T09:38:40.312Z"
   },
   {
    "duration": 142,
    "start_time": "2023-07-31T09:38:40.401Z"
   },
   {
    "duration": 87,
    "start_time": "2023-07-31T09:38:40.545Z"
   },
   {
    "duration": 71,
    "start_time": "2023-07-31T09:38:40.637Z"
   },
   {
    "duration": 64803,
    "start_time": "2023-07-31T09:38:40.710Z"
   },
   {
    "duration": 41082,
    "start_time": "2023-07-31T09:39:45.515Z"
   },
   {
    "duration": 21669,
    "start_time": "2023-07-31T09:40:26.599Z"
   },
   {
    "duration": 222,
    "start_time": "2023-07-31T09:40:48.269Z"
   },
   {
    "duration": 7,
    "start_time": "2023-07-31T09:40:48.568Z"
   },
   {
    "duration": 3771,
    "start_time": "2023-07-31T09:40:48.577Z"
   },
   {
    "duration": 80,
    "start_time": "2023-07-31T09:40:52.351Z"
   },
   {
    "duration": 6,
    "start_time": "2023-07-31T09:51:14.377Z"
   },
   {
    "duration": 20,
    "start_time": "2023-07-31T09:56:39.605Z"
   },
   {
    "duration": 12,
    "start_time": "2023-07-31T09:59:03.164Z"
   },
   {
    "duration": 21,
    "start_time": "2023-07-31T09:59:26.020Z"
   },
   {
    "duration": 21,
    "start_time": "2023-07-31T09:59:37.880Z"
   },
   {
    "duration": 182,
    "start_time": "2023-07-31T10:05:11.966Z"
   },
   {
    "duration": 194,
    "start_time": "2023-07-31T10:05:17.157Z"
   },
   {
    "duration": 20,
    "start_time": "2023-07-31T10:05:55.096Z"
   },
   {
    "duration": 228,
    "start_time": "2023-07-31T10:11:33.708Z"
   },
   {
    "duration": 15,
    "start_time": "2023-07-31T10:12:23.409Z"
   },
   {
    "duration": 4,
    "start_time": "2023-07-31T10:14:26.657Z"
   },
   {
    "duration": 3,
    "start_time": "2023-07-31T10:14:27.279Z"
   },
   {
    "duration": 23,
    "start_time": "2023-07-31T10:16:33.018Z"
   },
   {
    "duration": 4,
    "start_time": "2023-07-31T10:17:51.957Z"
   },
   {
    "duration": 145,
    "start_time": "2023-07-31T10:19:29.445Z"
   },
   {
    "duration": 5,
    "start_time": "2023-07-31T10:20:06.264Z"
   },
   {
    "duration": 16,
    "start_time": "2023-07-31T10:20:10.386Z"
   },
   {
    "duration": 1609,
    "start_time": "2023-07-31T10:29:05.204Z"
   },
   {
    "duration": 3438,
    "start_time": "2023-07-31T10:29:06.815Z"
   },
   {
    "duration": 5,
    "start_time": "2023-07-31T10:29:10.255Z"
   },
   {
    "duration": 1451,
    "start_time": "2023-07-31T10:29:10.262Z"
   },
   {
    "duration": 893,
    "start_time": "2023-07-31T10:29:11.716Z"
   },
   {
    "duration": 11,
    "start_time": "2023-07-31T10:29:12.611Z"
   },
   {
    "duration": 24,
    "start_time": "2023-07-31T10:29:12.624Z"
   },
   {
    "duration": 13,
    "start_time": "2023-07-31T10:29:12.670Z"
   },
   {
    "duration": 18,
    "start_time": "2023-07-31T10:29:12.685Z"
   },
   {
    "duration": 11,
    "start_time": "2023-07-31T10:29:12.705Z"
   },
   {
    "duration": 269,
    "start_time": "2023-07-31T10:29:12.717Z"
   },
   {
    "duration": 173,
    "start_time": "2023-07-31T10:29:12.988Z"
   },
   {
    "duration": 23,
    "start_time": "2023-07-31T10:29:13.164Z"
   },
   {
    "duration": 92,
    "start_time": "2023-07-31T10:29:13.192Z"
   },
   {
    "duration": 589,
    "start_time": "2023-07-31T10:29:13.290Z"
   },
   {
    "duration": 592,
    "start_time": "2023-07-31T10:29:13.881Z"
   },
   {
    "duration": 31,
    "start_time": "2023-07-31T10:29:14.477Z"
   },
   {
    "duration": 3579,
    "start_time": "2023-07-31T10:29:14.511Z"
   },
   {
    "duration": 9,
    "start_time": "2023-07-31T10:29:18.092Z"
   },
   {
    "duration": 77,
    "start_time": "2023-07-31T10:29:18.103Z"
   },
   {
    "duration": 7,
    "start_time": "2023-07-31T10:29:18.182Z"
   },
   {
    "duration": 8,
    "start_time": "2023-07-31T10:29:18.191Z"
   },
   {
    "duration": 52,
    "start_time": "2023-07-31T10:29:18.200Z"
   },
   {
    "duration": 168,
    "start_time": "2023-07-31T10:29:18.254Z"
   },
   {
    "duration": 11,
    "start_time": "2023-07-31T10:29:18.424Z"
   },
   {
    "duration": 38,
    "start_time": "2023-07-31T10:29:18.436Z"
   },
   {
    "duration": 11,
    "start_time": "2023-07-31T10:29:18.480Z"
   },
   {
    "duration": 87,
    "start_time": "2023-07-31T10:29:18.493Z"
   },
   {
    "duration": 684,
    "start_time": "2023-07-31T10:29:18.583Z"
   },
   {
    "duration": 77,
    "start_time": "2023-07-31T10:29:19.268Z"
   },
   {
    "duration": 43,
    "start_time": "2023-07-31T10:29:19.347Z"
   },
   {
    "duration": 306,
    "start_time": "2023-07-31T10:29:19.392Z"
   },
   {
    "duration": 20,
    "start_time": "2023-07-31T10:29:19.700Z"
   },
   {
    "duration": 306,
    "start_time": "2023-07-31T10:29:19.722Z"
   },
   {
    "duration": 21,
    "start_time": "2023-07-31T10:29:20.030Z"
   },
   {
    "duration": 100,
    "start_time": "2023-07-31T10:29:20.053Z"
   },
   {
    "duration": 95,
    "start_time": "2023-07-31T10:29:20.154Z"
   },
   {
    "duration": 73,
    "start_time": "2023-07-31T10:29:20.251Z"
   },
   {
    "duration": 164,
    "start_time": "2023-07-31T10:29:20.326Z"
   },
   {
    "duration": 93,
    "start_time": "2023-07-31T10:29:20.492Z"
   },
   {
    "duration": 53,
    "start_time": "2023-07-31T10:29:20.589Z"
   },
   {
    "duration": 65435,
    "start_time": "2023-07-31T10:29:20.644Z"
   },
   {
    "duration": 44562,
    "start_time": "2023-07-31T10:30:26.081Z"
   },
   {
    "duration": 4,
    "start_time": "2023-07-31T10:32:31.650Z"
   },
   {
    "duration": 955,
    "start_time": "2023-07-31T10:32:31.657Z"
   },
   {
    "duration": 6,
    "start_time": "2023-07-31T10:32:32.614Z"
   },
   {
    "duration": 1404,
    "start_time": "2023-07-31T10:32:32.622Z"
   },
   {
    "duration": 1024,
    "start_time": "2023-07-31T10:32:34.029Z"
   },
   {
    "duration": 24,
    "start_time": "2023-07-31T10:32:35.056Z"
   },
   {
    "duration": 19,
    "start_time": "2023-07-31T10:32:35.082Z"
   },
   {
    "duration": 9,
    "start_time": "2023-07-31T10:32:35.103Z"
   },
   {
    "duration": 18,
    "start_time": "2023-07-31T10:32:35.113Z"
   },
   {
    "duration": 42,
    "start_time": "2023-07-31T10:32:35.133Z"
   },
   {
    "duration": 138,
    "start_time": "2023-07-31T10:32:35.177Z"
   },
   {
    "duration": 178,
    "start_time": "2023-07-31T10:32:35.316Z"
   },
   {
    "duration": 19,
    "start_time": "2023-07-31T10:32:35.496Z"
   },
   {
    "duration": 77,
    "start_time": "2023-07-31T10:32:35.519Z"
   },
   {
    "duration": 503,
    "start_time": "2023-07-31T10:32:35.598Z"
   },
   {
    "duration": 429,
    "start_time": "2023-07-31T10:32:36.103Z"
   },
   {
    "duration": 29,
    "start_time": "2023-07-31T10:32:36.534Z"
   },
   {
    "duration": 3646,
    "start_time": "2023-07-31T10:32:36.569Z"
   },
   {
    "duration": 8,
    "start_time": "2023-07-31T10:32:40.218Z"
   },
   {
    "duration": 66,
    "start_time": "2023-07-31T10:32:40.228Z"
   },
   {
    "duration": 6,
    "start_time": "2023-07-31T10:32:40.296Z"
   },
   {
    "duration": 22,
    "start_time": "2023-07-31T10:32:40.304Z"
   },
   {
    "duration": 56,
    "start_time": "2023-07-31T10:32:40.328Z"
   },
   {
    "duration": 198,
    "start_time": "2023-07-31T10:32:40.387Z"
   },
   {
    "duration": 12,
    "start_time": "2023-07-31T10:32:40.588Z"
   },
   {
    "duration": 84,
    "start_time": "2023-07-31T10:32:40.602Z"
   },
   {
    "duration": 11,
    "start_time": "2023-07-31T10:32:40.688Z"
   },
   {
    "duration": 100,
    "start_time": "2023-07-31T10:32:40.702Z"
   },
   {
    "duration": 657,
    "start_time": "2023-07-31T10:32:40.804Z"
   },
   {
    "duration": 75,
    "start_time": "2023-07-31T10:32:41.463Z"
   },
   {
    "duration": 40,
    "start_time": "2023-07-31T10:32:41.540Z"
   },
   {
    "duration": 277,
    "start_time": "2023-07-31T10:32:41.585Z"
   },
   {
    "duration": 30,
    "start_time": "2023-07-31T10:32:41.864Z"
   },
   {
    "duration": 297,
    "start_time": "2023-07-31T10:32:41.896Z"
   },
   {
    "duration": 20,
    "start_time": "2023-07-31T10:32:42.195Z"
   },
   {
    "duration": 97,
    "start_time": "2023-07-31T10:32:42.217Z"
   },
   {
    "duration": 114,
    "start_time": "2023-07-31T10:32:42.316Z"
   },
   {
    "duration": 93,
    "start_time": "2023-07-31T10:32:42.432Z"
   },
   {
    "duration": 152,
    "start_time": "2023-07-31T10:32:42.527Z"
   },
   {
    "duration": 71,
    "start_time": "2023-07-31T10:32:42.682Z"
   },
   {
    "duration": 60,
    "start_time": "2023-07-31T10:32:42.757Z"
   },
   {
    "duration": 63524,
    "start_time": "2023-07-31T10:32:42.818Z"
   },
   {
    "duration": 39335,
    "start_time": "2023-07-31T10:33:46.344Z"
   },
   {
    "duration": 3,
    "start_time": "2023-07-31T10:35:16.950Z"
   },
   {
    "duration": 827,
    "start_time": "2023-07-31T10:35:19.557Z"
   },
   {
    "duration": 6,
    "start_time": "2023-07-31T10:35:20.386Z"
   },
   {
    "duration": 5,
    "start_time": "2023-07-31T10:35:31.150Z"
   },
   {
    "duration": 924,
    "start_time": "2023-07-31T10:35:31.157Z"
   },
   {
    "duration": 6,
    "start_time": "2023-07-31T10:35:32.083Z"
   },
   {
    "duration": 1396,
    "start_time": "2023-07-31T10:35:32.091Z"
   },
   {
    "duration": 1064,
    "start_time": "2023-07-31T10:35:33.489Z"
   },
   {
    "duration": 13,
    "start_time": "2023-07-31T10:35:34.555Z"
   },
   {
    "duration": 31,
    "start_time": "2023-07-31T10:35:34.569Z"
   },
   {
    "duration": 11,
    "start_time": "2023-07-31T10:35:34.602Z"
   },
   {
    "duration": 35,
    "start_time": "2023-07-31T10:35:34.615Z"
   },
   {
    "duration": 11,
    "start_time": "2023-07-31T10:35:34.651Z"
   },
   {
    "duration": 162,
    "start_time": "2023-07-31T10:35:34.664Z"
   },
   {
    "duration": 181,
    "start_time": "2023-07-31T10:35:34.828Z"
   },
   {
    "duration": 20,
    "start_time": "2023-07-31T10:35:35.012Z"
   },
   {
    "duration": 69,
    "start_time": "2023-07-31T10:35:35.035Z"
   },
   {
    "duration": 487,
    "start_time": "2023-07-31T10:35:35.107Z"
   },
   {
    "duration": 436,
    "start_time": "2023-07-31T10:35:35.596Z"
   },
   {
    "duration": 39,
    "start_time": "2023-07-31T10:35:36.034Z"
   },
   {
    "duration": 3469,
    "start_time": "2023-07-31T10:35:36.077Z"
   },
   {
    "duration": 7,
    "start_time": "2023-07-31T10:35:39.548Z"
   },
   {
    "duration": 79,
    "start_time": "2023-07-31T10:35:39.557Z"
   },
   {
    "duration": 6,
    "start_time": "2023-07-31T10:35:39.638Z"
   },
   {
    "duration": 16,
    "start_time": "2023-07-31T10:35:39.645Z"
   },
   {
    "duration": 49,
    "start_time": "2023-07-31T10:35:39.663Z"
   },
   {
    "duration": 166,
    "start_time": "2023-07-31T10:35:39.714Z"
   },
   {
    "duration": 10,
    "start_time": "2023-07-31T10:35:39.882Z"
   },
   {
    "duration": 19,
    "start_time": "2023-07-31T10:35:39.893Z"
   },
   {
    "duration": 10,
    "start_time": "2023-07-31T10:35:39.913Z"
   },
   {
    "duration": 92,
    "start_time": "2023-07-31T10:35:39.925Z"
   },
   {
    "duration": 620,
    "start_time": "2023-07-31T10:35:40.019Z"
   },
   {
    "duration": 76,
    "start_time": "2023-07-31T10:35:40.641Z"
   },
   {
    "duration": 17,
    "start_time": "2023-07-31T10:35:40.719Z"
   },
   {
    "duration": 319,
    "start_time": "2023-07-31T10:35:40.738Z"
   },
   {
    "duration": 24,
    "start_time": "2023-07-31T10:35:41.060Z"
   },
   {
    "duration": 296,
    "start_time": "2023-07-31T10:35:41.086Z"
   },
   {
    "duration": 21,
    "start_time": "2023-07-31T10:35:41.384Z"
   },
   {
    "duration": 87,
    "start_time": "2023-07-31T10:35:41.407Z"
   },
   {
    "duration": 85,
    "start_time": "2023-07-31T10:35:41.496Z"
   },
   {
    "duration": 68,
    "start_time": "2023-07-31T10:35:41.583Z"
   },
   {
    "duration": 145,
    "start_time": "2023-07-31T10:35:45.218Z"
   },
   {
    "duration": 74,
    "start_time": "2023-07-31T10:35:49.781Z"
   },
   {
    "duration": 40,
    "start_time": "2023-07-31T10:35:51.398Z"
   },
   {
    "duration": 64221,
    "start_time": "2023-07-31T10:35:52.078Z"
   },
   {
    "duration": 40668,
    "start_time": "2023-07-31T10:36:56.301Z"
   },
   {
    "duration": 50259,
    "start_time": "2023-07-31T10:37:41.209Z"
   },
   {
    "duration": 185,
    "start_time": "2023-07-31T10:38:35.508Z"
   },
   {
    "duration": 6,
    "start_time": "2023-07-31T10:38:36.996Z"
   },
   {
    "duration": 4005,
    "start_time": "2023-07-31T10:38:40.649Z"
   },
   {
    "duration": 80,
    "start_time": "2023-07-31T10:38:47.467Z"
   },
   {
    "duration": 5,
    "start_time": "2023-07-31T10:38:47.959Z"
   },
   {
    "duration": 126,
    "start_time": "2023-07-31T10:38:49.487Z"
   },
   {
    "duration": 25,
    "start_time": "2023-07-31T10:39:10.772Z"
   },
   {
    "duration": 60,
    "start_time": "2023-07-31T10:39:39.358Z"
   },
   {
    "duration": 5,
    "start_time": "2023-07-31T10:41:06.349Z"
   },
   {
    "duration": 140,
    "start_time": "2023-07-31T10:44:08.418Z"
   },
   {
    "duration": 217438,
    "start_time": "2023-07-31T10:44:15.983Z"
   },
   {
    "duration": 130,
    "start_time": "2023-07-31T10:53:00.126Z"
   },
   {
    "duration": 811,
    "start_time": "2023-07-31T10:53:06.766Z"
   },
   {
    "duration": 6,
    "start_time": "2023-07-31T10:53:48.957Z"
   },
   {
    "duration": 108,
    "start_time": "2023-07-31T11:05:14.198Z"
   },
   {
    "duration": 4,
    "start_time": "2023-07-31T11:06:47.651Z"
   },
   {
    "duration": 838,
    "start_time": "2023-07-31T11:06:47.657Z"
   },
   {
    "duration": 6,
    "start_time": "2023-07-31T11:06:48.497Z"
   },
   {
    "duration": 1321,
    "start_time": "2023-07-31T11:06:48.505Z"
   },
   {
    "duration": 1024,
    "start_time": "2023-07-31T11:06:49.829Z"
   },
   {
    "duration": 18,
    "start_time": "2023-07-31T11:06:50.855Z"
   },
   {
    "duration": 469,
    "start_time": "2023-07-31T11:06:50.875Z"
   },
   {
    "duration": 135,
    "start_time": "2023-07-31T11:06:51.346Z"
   },
   {
    "duration": 65,
    "start_time": "2023-07-31T11:06:51.483Z"
   },
   {
    "duration": 19,
    "start_time": "2023-07-31T11:06:51.550Z"
   },
   {
    "duration": 179,
    "start_time": "2023-07-31T11:06:51.572Z"
   },
   {
    "duration": 195,
    "start_time": "2023-07-31T11:06:51.753Z"
   },
   {
    "duration": 30,
    "start_time": "2023-07-31T11:06:51.950Z"
   },
   {
    "duration": 93,
    "start_time": "2023-07-31T11:06:51.982Z"
   },
   {
    "duration": 515,
    "start_time": "2023-07-31T11:06:52.077Z"
   },
   {
    "duration": 440,
    "start_time": "2023-07-31T11:06:52.595Z"
   },
   {
    "duration": 38,
    "start_time": "2023-07-31T11:06:53.038Z"
   },
   {
    "duration": 3416,
    "start_time": "2023-07-31T11:06:53.078Z"
   },
   {
    "duration": 8,
    "start_time": "2023-07-31T11:06:56.496Z"
   },
   {
    "duration": 64,
    "start_time": "2023-07-31T11:06:56.506Z"
   },
   {
    "duration": 6,
    "start_time": "2023-07-31T11:06:56.572Z"
   },
   {
    "duration": 18,
    "start_time": "2023-07-31T11:06:56.579Z"
   },
   {
    "duration": 36,
    "start_time": "2023-07-31T11:06:56.599Z"
   },
   {
    "duration": 166,
    "start_time": "2023-07-31T11:06:56.637Z"
   },
   {
    "duration": 10,
    "start_time": "2023-07-31T11:06:56.805Z"
   },
   {
    "duration": 28,
    "start_time": "2023-07-31T11:06:56.817Z"
   },
   {
    "duration": 27,
    "start_time": "2023-07-31T11:06:56.848Z"
   },
   {
    "duration": 94,
    "start_time": "2023-07-31T11:06:56.877Z"
   },
   {
    "duration": 645,
    "start_time": "2023-07-31T11:06:56.975Z"
   },
   {
    "duration": 74,
    "start_time": "2023-07-31T11:06:57.622Z"
   },
   {
    "duration": 46,
    "start_time": "2023-07-31T11:06:57.698Z"
   },
   {
    "duration": 299,
    "start_time": "2023-07-31T11:06:57.746Z"
   },
   {
    "duration": 20,
    "start_time": "2023-07-31T11:06:58.047Z"
   },
   {
    "duration": 283,
    "start_time": "2023-07-31T11:06:58.069Z"
   },
   {
    "duration": 23,
    "start_time": "2023-07-31T11:06:58.354Z"
   },
   {
    "duration": 76,
    "start_time": "2023-07-31T11:06:58.378Z"
   },
   {
    "duration": 73,
    "start_time": "2023-07-31T11:06:58.466Z"
   },
   {
    "duration": 99,
    "start_time": "2023-07-31T11:06:58.542Z"
   },
   {
    "duration": 154,
    "start_time": "2023-07-31T11:06:58.643Z"
   },
   {
    "duration": 40,
    "start_time": "2023-07-31T11:06:58.799Z"
   },
   {
    "duration": 1807,
    "start_time": "2023-07-31T11:07:31.466Z"
   },
   {
    "duration": 3126,
    "start_time": "2023-07-31T11:07:33.276Z"
   },
   {
    "duration": 6,
    "start_time": "2023-07-31T11:07:36.404Z"
   },
   {
    "duration": 1429,
    "start_time": "2023-07-31T11:07:36.412Z"
   },
   {
    "duration": 853,
    "start_time": "2023-07-31T11:07:37.843Z"
   },
   {
    "duration": 11,
    "start_time": "2023-07-31T11:07:38.698Z"
   },
   {
    "duration": 34,
    "start_time": "2023-07-31T11:07:38.711Z"
   },
   {
    "duration": 31,
    "start_time": "2023-07-31T11:07:38.747Z"
   },
   {
    "duration": 74,
    "start_time": "2023-07-31T11:07:38.780Z"
   },
   {
    "duration": 14,
    "start_time": "2023-07-31T11:07:38.858Z"
   },
   {
    "duration": 242,
    "start_time": "2023-07-31T11:07:38.875Z"
   },
   {
    "duration": 212,
    "start_time": "2023-07-31T11:07:39.119Z"
   },
   {
    "duration": 18,
    "start_time": "2023-07-31T11:07:39.333Z"
   },
   {
    "duration": 84,
    "start_time": "2023-07-31T11:07:39.353Z"
   },
   {
    "duration": 565,
    "start_time": "2023-07-31T11:07:39.440Z"
   },
   {
    "duration": 484,
    "start_time": "2023-07-31T11:07:40.007Z"
   },
   {
    "duration": 28,
    "start_time": "2023-07-31T11:07:40.493Z"
   },
   {
    "duration": 3753,
    "start_time": "2023-07-31T11:07:40.523Z"
   },
   {
    "duration": 11,
    "start_time": "2023-07-31T11:07:44.279Z"
   },
   {
    "duration": 84,
    "start_time": "2023-07-31T11:07:44.292Z"
   },
   {
    "duration": 7,
    "start_time": "2023-07-31T11:07:44.380Z"
   },
   {
    "duration": 18,
    "start_time": "2023-07-31T11:07:44.390Z"
   },
   {
    "duration": 48,
    "start_time": "2023-07-31T11:07:44.410Z"
   },
   {
    "duration": 167,
    "start_time": "2023-07-31T11:07:44.460Z"
   },
   {
    "duration": 14,
    "start_time": "2023-07-31T11:07:44.630Z"
   },
   {
    "duration": 37,
    "start_time": "2023-07-31T11:07:44.646Z"
   },
   {
    "duration": 12,
    "start_time": "2023-07-31T11:07:44.685Z"
   },
   {
    "duration": 101,
    "start_time": "2023-07-31T11:07:44.701Z"
   },
   {
    "duration": 655,
    "start_time": "2023-07-31T11:07:44.804Z"
   },
   {
    "duration": 73,
    "start_time": "2023-07-31T11:07:45.461Z"
   },
   {
    "duration": 34,
    "start_time": "2023-07-31T11:07:45.536Z"
   },
   {
    "duration": 302,
    "start_time": "2023-07-31T11:07:45.572Z"
   },
   {
    "duration": 22,
    "start_time": "2023-07-31T11:07:45.876Z"
   },
   {
    "duration": 331,
    "start_time": "2023-07-31T11:07:45.901Z"
   },
   {
    "duration": 33,
    "start_time": "2023-07-31T11:07:46.234Z"
   },
   {
    "duration": 71,
    "start_time": "2023-07-31T11:07:46.270Z"
   },
   {
    "duration": 92,
    "start_time": "2023-07-31T11:07:46.343Z"
   },
   {
    "duration": 92,
    "start_time": "2023-07-31T11:07:46.438Z"
   },
   {
    "duration": 209,
    "start_time": "2023-07-31T11:07:59.449Z"
   },
   {
    "duration": 70,
    "start_time": "2023-07-31T11:08:02.215Z"
   },
   {
    "duration": 64335,
    "start_time": "2023-07-31T11:08:02.750Z"
   },
   {
    "duration": 42683,
    "start_time": "2023-07-31T11:09:22.055Z"
   },
   {
    "duration": 26629,
    "start_time": "2023-07-31T11:10:39.448Z"
   },
   {
    "duration": 390,
    "start_time": "2023-07-31T11:11:06.080Z"
   },
   {
    "duration": 95,
    "start_time": "2023-07-31T11:11:06.473Z"
   },
   {
    "duration": 3714,
    "start_time": "2023-07-31T11:11:23.017Z"
   },
   {
    "duration": 76,
    "start_time": "2023-07-31T11:11:39.568Z"
   },
   {
    "duration": 5,
    "start_time": "2023-07-31T11:11:41.098Z"
   },
   {
    "duration": 146,
    "start_time": "2023-07-31T11:11:43.850Z"
   },
   {
    "duration": 209908,
    "start_time": "2023-07-31T11:11:47.246Z"
   },
   {
    "duration": 799,
    "start_time": "2023-07-31T11:15:51.085Z"
   },
   {
    "duration": 5,
    "start_time": "2023-07-31T11:15:56.241Z"
   },
   {
    "duration": 36,
    "start_time": "2023-07-31T11:23:38.569Z"
   },
   {
    "duration": 260,
    "start_time": "2023-07-31T11:26:04.135Z"
   },
   {
    "duration": 11791,
    "start_time": "2023-07-31T11:36:28.388Z"
   },
   {
    "duration": 1095,
    "start_time": "2023-07-31T11:37:01.892Z"
   },
   {
    "duration": 6,
    "start_time": "2023-07-31T11:37:15.356Z"
   },
   {
    "duration": 285,
    "start_time": "2023-07-31T11:47:16.254Z"
   },
   {
    "duration": 142,
    "start_time": "2023-07-31T11:47:29.448Z"
   },
   {
    "duration": 19087,
    "start_time": "2023-07-31T11:50:11.782Z"
   },
   {
    "duration": 1221,
    "start_time": "2023-07-31T11:52:48.354Z"
   },
   {
    "duration": 5,
    "start_time": "2023-07-31T11:52:51.458Z"
   },
   {
    "duration": 6,
    "start_time": "2023-07-31T12:14:33.189Z"
   },
   {
    "duration": 131,
    "start_time": "2023-07-31T12:15:08.762Z"
   },
   {
    "duration": 5,
    "start_time": "2023-07-31T12:15:16.106Z"
   },
   {
    "duration": 6,
    "start_time": "2023-07-31T12:20:47.114Z"
   },
   {
    "duration": 5,
    "start_time": "2023-07-31T12:21:25.855Z"
   },
   {
    "duration": 7,
    "start_time": "2023-07-31T12:21:39.669Z"
   },
   {
    "duration": 6,
    "start_time": "2023-07-31T12:24:05.906Z"
   },
   {
    "duration": 172,
    "start_time": "2023-07-31T12:36:47.417Z"
   },
   {
    "duration": 160,
    "start_time": "2023-07-31T12:38:00.580Z"
   },
   {
    "duration": 1489,
    "start_time": "2023-07-31T19:33:01.755Z"
   },
   {
    "duration": 909,
    "start_time": "2023-07-31T19:33:03.246Z"
   },
   {
    "duration": 5,
    "start_time": "2023-07-31T19:33:04.157Z"
   },
   {
    "duration": 1059,
    "start_time": "2023-07-31T19:33:04.163Z"
   },
   {
    "duration": 685,
    "start_time": "2023-07-31T19:33:05.224Z"
   },
   {
    "duration": 12,
    "start_time": "2023-07-31T19:33:05.912Z"
   },
   {
    "duration": 50,
    "start_time": "2023-07-31T19:33:05.926Z"
   },
   {
    "duration": 12,
    "start_time": "2023-07-31T19:33:05.978Z"
   },
   {
    "duration": 21,
    "start_time": "2023-07-31T19:33:05.992Z"
   },
   {
    "duration": 10,
    "start_time": "2023-07-31T19:33:06.015Z"
   },
   {
    "duration": 145,
    "start_time": "2023-07-31T19:33:06.026Z"
   },
   {
    "duration": 138,
    "start_time": "2023-07-31T19:33:06.173Z"
   },
   {
    "duration": 13,
    "start_time": "2023-07-31T19:33:06.313Z"
   },
   {
    "duration": 52,
    "start_time": "2023-07-31T19:33:06.328Z"
   },
   {
    "duration": 409,
    "start_time": "2023-07-31T19:33:06.382Z"
   },
   {
    "duration": 349,
    "start_time": "2023-07-31T19:33:06.792Z"
   },
   {
    "duration": 25,
    "start_time": "2023-07-31T19:33:07.142Z"
   },
   {
    "duration": 3115,
    "start_time": "2023-07-31T19:33:07.168Z"
   },
   {
    "duration": 16,
    "start_time": "2023-07-31T19:33:10.284Z"
   },
   {
    "duration": 43,
    "start_time": "2023-07-31T19:33:10.302Z"
   },
   {
    "duration": 4,
    "start_time": "2023-07-31T19:33:10.347Z"
   },
   {
    "duration": 9,
    "start_time": "2023-07-31T19:33:10.352Z"
   },
   {
    "duration": 45,
    "start_time": "2023-07-31T19:33:10.362Z"
   },
   {
    "duration": 124,
    "start_time": "2023-07-31T19:33:10.409Z"
   },
   {
    "duration": 8,
    "start_time": "2023-07-31T19:33:10.534Z"
   },
   {
    "duration": 16,
    "start_time": "2023-07-31T19:33:10.543Z"
   },
   {
    "duration": 8,
    "start_time": "2023-07-31T19:33:10.560Z"
   },
   {
    "duration": 82,
    "start_time": "2023-07-31T19:33:10.569Z"
   },
   {
    "duration": 474,
    "start_time": "2023-07-31T19:33:10.653Z"
   },
   {
    "duration": 72,
    "start_time": "2023-07-31T19:33:11.128Z"
   },
   {
    "duration": 15,
    "start_time": "2023-07-31T19:33:11.202Z"
   },
   {
    "duration": 235,
    "start_time": "2023-07-31T19:33:11.219Z"
   },
   {
    "duration": 16,
    "start_time": "2023-07-31T19:33:11.455Z"
   },
   {
    "duration": 224,
    "start_time": "2023-07-31T19:33:11.472Z"
   },
   {
    "duration": 18,
    "start_time": "2023-07-31T19:33:11.699Z"
   },
   {
    "duration": 74,
    "start_time": "2023-07-31T19:33:11.719Z"
   },
   {
    "duration": 63,
    "start_time": "2023-07-31T19:33:11.795Z"
   },
   {
    "duration": 71,
    "start_time": "2023-07-31T19:33:11.860Z"
   },
   {
    "duration": 103,
    "start_time": "2023-07-31T19:33:11.933Z"
   },
   {
    "duration": 42,
    "start_time": "2023-07-31T19:33:12.037Z"
   },
   {
    "duration": 28420,
    "start_time": "2023-07-31T19:33:12.082Z"
   },
   {
    "duration": 13145,
    "start_time": "2023-07-31T19:33:40.504Z"
   },
   {
    "duration": 16758,
    "start_time": "2023-07-31T19:33:53.650Z"
   },
   {
    "duration": 291,
    "start_time": "2023-07-31T19:34:10.409Z"
   },
   {
    "duration": 4,
    "start_time": "2023-07-31T19:34:10.702Z"
   },
   {
    "duration": 2418,
    "start_time": "2023-07-31T19:34:10.708Z"
   },
   {
    "duration": 57,
    "start_time": "2023-07-31T19:34:13.127Z"
   },
   {
    "duration": 16,
    "start_time": "2023-07-31T19:34:13.186Z"
   },
   {
    "duration": 93,
    "start_time": "2023-07-31T19:34:13.203Z"
   },
   {
    "duration": 176583,
    "start_time": "2023-07-31T19:34:13.299Z"
   },
   {
    "duration": 634,
    "start_time": "2023-07-31T19:37:09.883Z"
   },
   {
    "duration": 3,
    "start_time": "2023-07-31T19:37:10.518Z"
   },
   {
    "duration": 38183,
    "start_time": "2023-07-31T19:37:10.523Z"
   },
   {
    "duration": 1191,
    "start_time": "2023-07-31T19:37:48.709Z"
   },
   {
    "duration": 5,
    "start_time": "2023-07-31T19:37:49.902Z"
   },
   {
    "duration": 229,
    "start_time": "2023-07-31T19:37:49.908Z"
   },
   {
    "duration": 13163,
    "start_time": "2023-07-31T19:37:50.139Z"
   },
   {
    "duration": 1102,
    "start_time": "2023-07-31T19:38:03.304Z"
   },
   {
    "duration": 4,
    "start_time": "2023-07-31T19:38:04.407Z"
   },
   {
    "duration": 5,
    "start_time": "2023-07-31T19:43:59.946Z"
   },
   {
    "duration": 4,
    "start_time": "2023-08-02T09:48:57.498Z"
   },
   {
    "duration": 796,
    "start_time": "2023-08-02T09:49:00.191Z"
   },
   {
    "duration": 157,
    "start_time": "2023-08-02T09:49:48.352Z"
   },
   {
    "duration": 4,
    "start_time": "2023-08-02T09:50:32.004Z"
   },
   {
    "duration": 854,
    "start_time": "2023-08-02T09:50:32.010Z"
   },
   {
    "duration": 5,
    "start_time": "2023-08-02T09:50:32.871Z"
   },
   {
    "duration": 1231,
    "start_time": "2023-08-02T09:50:32.877Z"
   },
   {
    "duration": 798,
    "start_time": "2023-08-02T09:50:34.111Z"
   },
   {
    "duration": 9,
    "start_time": "2023-08-02T09:50:34.911Z"
   },
   {
    "duration": 17,
    "start_time": "2023-08-02T09:50:34.921Z"
   },
   {
    "duration": 34,
    "start_time": "2023-08-02T09:50:34.940Z"
   },
   {
    "duration": 17,
    "start_time": "2023-08-02T09:50:34.976Z"
   },
   {
    "duration": 313,
    "start_time": "2023-08-02T09:50:34.994Z"
   },
   {
    "duration": 161,
    "start_time": "2023-08-02T09:50:35.310Z"
   },
   {
    "duration": 173,
    "start_time": "2023-08-02T09:50:35.474Z"
   },
   {
    "duration": 25,
    "start_time": "2023-08-02T09:50:35.649Z"
   },
   {
    "duration": 61,
    "start_time": "2023-08-02T09:50:35.676Z"
   },
   {
    "duration": 446,
    "start_time": "2023-08-02T09:50:35.739Z"
   },
   {
    "duration": 453,
    "start_time": "2023-08-02T09:50:36.187Z"
   },
   {
    "duration": 471,
    "start_time": "2023-08-02T09:50:38.005Z"
   },
   {
    "duration": 447,
    "start_time": "2023-08-02T09:50:38.479Z"
   },
   {
    "duration": 5,
    "start_time": "2023-08-02T09:52:28.774Z"
   },
   {
    "duration": 813,
    "start_time": "2023-08-02T09:52:28.780Z"
   },
   {
    "duration": 6,
    "start_time": "2023-08-02T09:52:29.595Z"
   },
   {
    "duration": 1473,
    "start_time": "2023-08-02T09:52:29.603Z"
   },
   {
    "duration": 830,
    "start_time": "2023-08-02T09:52:31.079Z"
   },
   {
    "duration": 9,
    "start_time": "2023-08-02T09:52:31.911Z"
   },
   {
    "duration": 61,
    "start_time": "2023-08-02T09:52:31.922Z"
   },
   {
    "duration": 27,
    "start_time": "2023-08-02T09:52:31.985Z"
   },
   {
    "duration": 77,
    "start_time": "2023-08-02T09:52:32.014Z"
   },
   {
    "duration": 186,
    "start_time": "2023-08-02T09:52:32.093Z"
   },
   {
    "duration": 164,
    "start_time": "2023-08-02T09:52:32.281Z"
   },
   {
    "duration": 197,
    "start_time": "2023-08-02T09:52:32.447Z"
   },
   {
    "duration": 35,
    "start_time": "2023-08-02T09:52:32.645Z"
   },
   {
    "duration": 56,
    "start_time": "2023-08-02T09:52:32.683Z"
   },
   {
    "duration": 476,
    "start_time": "2023-08-02T09:52:32.741Z"
   },
   {
    "duration": 495,
    "start_time": "2023-08-02T09:52:33.219Z"
   },
   {
    "duration": 470,
    "start_time": "2023-08-02T09:52:33.715Z"
   },
   {
    "duration": 9,
    "start_time": "2023-08-02T09:52:34.187Z"
   },
   {
    "duration": 74,
    "start_time": "2023-08-02T09:52:34.197Z"
   },
   {
    "duration": 4,
    "start_time": "2023-08-02T09:55:05.032Z"
   },
   {
    "duration": 767,
    "start_time": "2023-08-02T09:55:05.038Z"
   },
   {
    "duration": 6,
    "start_time": "2023-08-02T09:55:05.806Z"
   },
   {
    "duration": 1248,
    "start_time": "2023-08-02T09:55:05.814Z"
   },
   {
    "duration": 841,
    "start_time": "2023-08-02T09:55:07.064Z"
   },
   {
    "duration": 11,
    "start_time": "2023-08-02T09:55:07.907Z"
   },
   {
    "duration": 19,
    "start_time": "2023-08-02T09:55:07.919Z"
   },
   {
    "duration": 10,
    "start_time": "2023-08-02T09:55:07.959Z"
   },
   {
    "duration": 40,
    "start_time": "2023-08-02T09:55:07.971Z"
   },
   {
    "duration": 160,
    "start_time": "2023-08-02T09:55:08.016Z"
   },
   {
    "duration": 132,
    "start_time": "2023-08-02T09:55:08.178Z"
   },
   {
    "duration": 175,
    "start_time": "2023-08-02T09:55:08.312Z"
   },
   {
    "duration": 18,
    "start_time": "2023-08-02T09:55:08.490Z"
   },
   {
    "duration": 78,
    "start_time": "2023-08-02T09:55:08.510Z"
   },
   {
    "duration": 446,
    "start_time": "2023-08-02T09:55:08.590Z"
   },
   {
    "duration": 505,
    "start_time": "2023-08-02T09:55:09.038Z"
   },
   {
    "duration": 425,
    "start_time": "2023-08-02T09:55:09.545Z"
   },
   {
    "duration": 8,
    "start_time": "2023-08-02T09:55:09.972Z"
   },
   {
    "duration": 38,
    "start_time": "2023-08-02T09:55:09.982Z"
   },
   {
    "duration": 6,
    "start_time": "2023-08-02T09:55:10.022Z"
   },
   {
    "duration": 32,
    "start_time": "2023-08-02T09:55:10.030Z"
   },
   {
    "duration": 24,
    "start_time": "2023-08-02T09:55:10.064Z"
   },
   {
    "duration": 156,
    "start_time": "2023-08-02T09:55:10.090Z"
   },
   {
    "duration": 13,
    "start_time": "2023-08-02T09:55:10.247Z"
   },
   {
    "duration": 22,
    "start_time": "2023-08-02T09:55:10.261Z"
   },
   {
    "duration": 10,
    "start_time": "2023-08-02T09:55:10.284Z"
   },
   {
    "duration": 14,
    "start_time": "2023-08-02T10:02:20.043Z"
   },
   {
    "duration": 4,
    "start_time": "2023-08-02T10:02:25.746Z"
   },
   {
    "duration": 762,
    "start_time": "2023-08-02T10:02:25.752Z"
   },
   {
    "duration": 5,
    "start_time": "2023-08-02T10:02:26.516Z"
   },
   {
    "duration": 1187,
    "start_time": "2023-08-02T10:02:26.523Z"
   },
   {
    "duration": 724,
    "start_time": "2023-08-02T10:02:27.712Z"
   },
   {
    "duration": 9,
    "start_time": "2023-08-02T10:02:28.437Z"
   },
   {
    "duration": 18,
    "start_time": "2023-08-02T10:02:28.459Z"
   },
   {
    "duration": 9,
    "start_time": "2023-08-02T10:02:28.478Z"
   },
   {
    "duration": 17,
    "start_time": "2023-08-02T10:02:28.489Z"
   },
   {
    "duration": 284,
    "start_time": "2023-08-02T10:02:28.508Z"
   },
   {
    "duration": 153,
    "start_time": "2023-08-02T10:02:28.794Z"
   },
   {
    "duration": 179,
    "start_time": "2023-08-02T10:02:28.948Z"
   },
   {
    "duration": 17,
    "start_time": "2023-08-02T10:02:29.128Z"
   },
   {
    "duration": 55,
    "start_time": "2023-08-02T10:02:29.160Z"
   },
   {
    "duration": 458,
    "start_time": "2023-08-02T10:02:29.216Z"
   },
   {
    "duration": 480,
    "start_time": "2023-08-02T10:02:29.675Z"
   },
   {
    "duration": 422,
    "start_time": "2023-08-02T10:02:30.157Z"
   },
   {
    "duration": 8,
    "start_time": "2023-08-02T10:02:30.581Z"
   },
   {
    "duration": 65,
    "start_time": "2023-08-02T10:02:30.590Z"
   },
   {
    "duration": 16,
    "start_time": "2023-08-02T10:02:30.657Z"
   },
   {
    "duration": 21,
    "start_time": "2023-08-02T10:02:30.675Z"
   },
   {
    "duration": 66,
    "start_time": "2023-08-02T10:02:30.698Z"
   },
   {
    "duration": 195,
    "start_time": "2023-08-02T10:02:30.766Z"
   },
   {
    "duration": 8,
    "start_time": "2023-08-02T10:02:30.963Z"
   },
   {
    "duration": 31,
    "start_time": "2023-08-02T10:02:30.973Z"
   },
   {
    "duration": 76,
    "start_time": "2023-08-02T10:02:31.005Z"
   },
   {
    "duration": 10,
    "start_time": "2023-08-02T10:02:36.088Z"
   },
   {
    "duration": 23,
    "start_time": "2023-08-02T10:02:38.625Z"
   },
   {
    "duration": 34,
    "start_time": "2023-08-02T10:02:57.573Z"
   },
   {
    "duration": 22,
    "start_time": "2023-08-02T10:03:12.696Z"
   },
   {
    "duration": 18,
    "start_time": "2023-08-02T10:03:24.285Z"
   },
   {
    "duration": 21,
    "start_time": "2023-08-02T10:03:53.407Z"
   },
   {
    "duration": 183,
    "start_time": "2023-08-02T10:04:12.324Z"
   },
   {
    "duration": 155,
    "start_time": "2023-08-02T10:05:09.686Z"
   },
   {
    "duration": 156,
    "start_time": "2023-08-02T10:05:13.543Z"
   },
   {
    "duration": 1885,
    "start_time": "2023-08-02T12:21:33.501Z"
   },
   {
    "duration": 943,
    "start_time": "2023-08-02T12:21:35.388Z"
   },
   {
    "duration": 6,
    "start_time": "2023-08-02T12:21:36.333Z"
   },
   {
    "duration": 1074,
    "start_time": "2023-08-02T12:21:36.341Z"
   },
   {
    "duration": 712,
    "start_time": "2023-08-02T12:21:37.416Z"
   },
   {
    "duration": 11,
    "start_time": "2023-08-02T12:21:38.131Z"
   },
   {
    "duration": 18,
    "start_time": "2023-08-02T12:21:38.143Z"
   },
   {
    "duration": 7,
    "start_time": "2023-08-02T12:21:38.163Z"
   },
   {
    "duration": 22,
    "start_time": "2023-08-02T12:21:38.172Z"
   },
   {
    "duration": 13,
    "start_time": "2023-08-02T12:21:38.222Z"
   },
   {
    "duration": 155,
    "start_time": "2023-08-02T12:21:38.236Z"
   },
   {
    "duration": 144,
    "start_time": "2023-08-02T12:21:38.392Z"
   },
   {
    "duration": 12,
    "start_time": "2023-08-02T12:21:38.538Z"
   },
   {
    "duration": 52,
    "start_time": "2023-08-02T12:21:38.552Z"
   },
   {
    "duration": 355,
    "start_time": "2023-08-02T12:21:38.605Z"
   },
   {
    "duration": 377,
    "start_time": "2023-08-02T12:21:38.961Z"
   },
   {
    "duration": 359,
    "start_time": "2023-08-02T12:21:39.340Z"
   },
   {
    "duration": 8,
    "start_time": "2023-08-02T12:21:39.700Z"
   },
   {
    "duration": 42,
    "start_time": "2023-08-02T12:21:39.710Z"
   },
   {
    "duration": 5,
    "start_time": "2023-08-02T12:21:39.754Z"
   },
   {
    "duration": 12,
    "start_time": "2023-08-02T12:21:39.760Z"
   },
   {
    "duration": 21,
    "start_time": "2023-08-02T12:21:39.774Z"
   },
   {
    "duration": 161,
    "start_time": "2023-08-02T12:21:39.797Z"
   },
   {
    "duration": 9,
    "start_time": "2023-08-02T12:21:39.960Z"
   },
   {
    "duration": 21,
    "start_time": "2023-08-02T12:21:39.970Z"
   },
   {
    "duration": 18,
    "start_time": "2023-08-02T12:21:39.992Z"
   },
   {
    "duration": 28,
    "start_time": "2023-08-02T12:21:40.011Z"
   },
   {
    "duration": 452,
    "start_time": "2023-08-02T12:21:40.042Z"
   },
   {
    "duration": 71,
    "start_time": "2023-08-02T12:21:40.496Z"
   },
   {
    "duration": 15,
    "start_time": "2023-08-02T12:21:40.568Z"
   },
   {
    "duration": 229,
    "start_time": "2023-08-02T12:21:40.584Z"
   },
   {
    "duration": 16,
    "start_time": "2023-08-02T12:21:40.814Z"
   },
   {
    "duration": 213,
    "start_time": "2023-08-02T12:21:40.832Z"
   },
   {
    "duration": 17,
    "start_time": "2023-08-02T12:21:41.046Z"
   },
   {
    "duration": 75,
    "start_time": "2023-08-02T12:21:41.064Z"
   },
   {
    "duration": 63,
    "start_time": "2023-08-02T12:21:41.140Z"
   },
   {
    "duration": 62,
    "start_time": "2023-08-02T12:21:41.204Z"
   },
   {
    "duration": 77,
    "start_time": "2023-08-02T12:21:48.193Z"
   },
   {
    "duration": 118,
    "start_time": "2023-08-02T12:30:21.992Z"
   },
   {
    "duration": 4,
    "start_time": "2023-08-02T12:30:26.245Z"
   },
   {
    "duration": 724,
    "start_time": "2023-08-02T12:30:26.251Z"
   },
   {
    "duration": 7,
    "start_time": "2023-08-02T12:30:26.977Z"
   },
   {
    "duration": 1086,
    "start_time": "2023-08-02T12:30:26.986Z"
   },
   {
    "duration": 752,
    "start_time": "2023-08-02T12:30:28.073Z"
   },
   {
    "duration": 11,
    "start_time": "2023-08-02T12:30:28.827Z"
   },
   {
    "duration": 16,
    "start_time": "2023-08-02T12:30:28.839Z"
   },
   {
    "duration": 7,
    "start_time": "2023-08-02T12:30:28.857Z"
   },
   {
    "duration": 15,
    "start_time": "2023-08-02T12:30:28.866Z"
   },
   {
    "duration": 39,
    "start_time": "2023-08-02T12:30:28.883Z"
   },
   {
    "duration": 154,
    "start_time": "2023-08-02T12:30:28.924Z"
   },
   {
    "duration": 161,
    "start_time": "2023-08-02T12:30:29.079Z"
   },
   {
    "duration": 14,
    "start_time": "2023-08-02T12:30:29.241Z"
   },
   {
    "duration": 43,
    "start_time": "2023-08-02T12:30:29.256Z"
   },
   {
    "duration": 372,
    "start_time": "2023-08-02T12:30:29.301Z"
   },
   {
    "duration": 352,
    "start_time": "2023-08-02T12:30:29.675Z"
   },
   {
    "duration": 334,
    "start_time": "2023-08-02T12:30:30.030Z"
   },
   {
    "duration": 7,
    "start_time": "2023-08-02T12:30:30.366Z"
   },
   {
    "duration": 105,
    "start_time": "2023-08-02T12:30:30.374Z"
   },
   {
    "duration": 32,
    "start_time": "2023-08-02T12:30:30.481Z"
   },
   {
    "duration": 46,
    "start_time": "2023-08-02T12:30:30.515Z"
   },
   {
    "duration": 57,
    "start_time": "2023-08-02T12:30:30.563Z"
   },
   {
    "duration": 168,
    "start_time": "2023-08-02T12:30:30.622Z"
   },
   {
    "duration": 10,
    "start_time": "2023-08-02T12:30:30.791Z"
   },
   {
    "duration": 60,
    "start_time": "2023-08-02T12:30:30.802Z"
   },
   {
    "duration": 56,
    "start_time": "2023-08-02T12:30:30.864Z"
   },
   {
    "duration": 117,
    "start_time": "2023-08-02T12:30:30.921Z"
   },
   {
    "duration": 454,
    "start_time": "2023-08-02T12:30:31.042Z"
   },
   {
    "duration": 64,
    "start_time": "2023-08-02T12:30:31.498Z"
   },
   {
    "duration": 50,
    "start_time": "2023-08-02T12:30:31.564Z"
   },
   {
    "duration": 242,
    "start_time": "2023-08-02T12:30:31.615Z"
   },
   {
    "duration": 14,
    "start_time": "2023-08-02T12:30:31.859Z"
   },
   {
    "duration": 301,
    "start_time": "2023-08-02T12:30:31.874Z"
   },
   {
    "duration": 18,
    "start_time": "2023-08-02T12:30:32.177Z"
   },
   {
    "duration": 96,
    "start_time": "2023-08-02T12:30:32.196Z"
   },
   {
    "duration": 78,
    "start_time": "2023-08-02T12:30:32.293Z"
   },
   {
    "duration": 63,
    "start_time": "2023-08-02T12:30:32.373Z"
   },
   {
    "duration": 74,
    "start_time": "2023-08-02T12:30:32.437Z"
   },
   {
    "duration": 32,
    "start_time": "2023-08-02T12:30:32.513Z"
   },
   {
    "duration": 46,
    "start_time": "2023-08-02T12:30:36.462Z"
   },
   {
    "duration": 5,
    "start_time": "2023-08-02T12:30:41.477Z"
   },
   {
    "duration": 16,
    "start_time": "2023-08-02T12:31:25.681Z"
   },
   {
    "duration": 685,
    "start_time": "2023-08-02T12:31:43.630Z"
   },
   {
    "duration": 25028,
    "start_time": "2023-08-02T12:38:29.194Z"
   },
   {
    "duration": 11586,
    "start_time": "2023-08-02T12:45:46.658Z"
   },
   {
    "duration": 13744,
    "start_time": "2023-08-02T12:50:24.078Z"
   },
   {
    "duration": 184,
    "start_time": "2023-08-02T12:50:44.837Z"
   },
   {
    "duration": 5,
    "start_time": "2023-08-02T12:50:48.944Z"
   },
   {
    "duration": 4,
    "start_time": "2023-08-02T12:51:05.381Z"
   },
   {
    "duration": 77,
    "start_time": "2023-08-02T12:57:17.218Z"
   },
   {
    "duration": 4,
    "start_time": "2023-08-02T12:58:07.047Z"
   },
   {
    "duration": 2002,
    "start_time": "2023-08-02T12:59:49.816Z"
   },
   {
    "duration": 3,
    "start_time": "2023-08-02T13:00:13.417Z"
   },
   {
    "duration": 755,
    "start_time": "2023-08-02T13:00:13.423Z"
   },
   {
    "duration": 6,
    "start_time": "2023-08-02T13:00:14.180Z"
   },
   {
    "duration": 1106,
    "start_time": "2023-08-02T13:00:14.188Z"
   },
   {
    "duration": 778,
    "start_time": "2023-08-02T13:00:15.295Z"
   },
   {
    "duration": 9,
    "start_time": "2023-08-02T13:00:16.074Z"
   },
   {
    "duration": 31,
    "start_time": "2023-08-02T13:00:16.084Z"
   },
   {
    "duration": 37,
    "start_time": "2023-08-02T13:00:16.116Z"
   },
   {
    "duration": 36,
    "start_time": "2023-08-02T13:00:16.155Z"
   },
   {
    "duration": 20,
    "start_time": "2023-08-02T13:00:16.193Z"
   },
   {
    "duration": 165,
    "start_time": "2023-08-02T13:00:16.215Z"
   },
   {
    "duration": 150,
    "start_time": "2023-08-02T13:00:16.382Z"
   },
   {
    "duration": 13,
    "start_time": "2023-08-02T13:00:16.534Z"
   },
   {
    "duration": 73,
    "start_time": "2023-08-02T13:00:16.548Z"
   },
   {
    "duration": 351,
    "start_time": "2023-08-02T13:00:16.622Z"
   },
   {
    "duration": 399,
    "start_time": "2023-08-02T13:00:16.974Z"
   },
   {
    "duration": 356,
    "start_time": "2023-08-02T13:00:17.375Z"
   },
   {
    "duration": 7,
    "start_time": "2023-08-02T13:00:17.733Z"
   },
   {
    "duration": 55,
    "start_time": "2023-08-02T13:00:17.741Z"
   },
   {
    "duration": 5,
    "start_time": "2023-08-02T13:00:17.798Z"
   },
   {
    "duration": 14,
    "start_time": "2023-08-02T13:00:17.805Z"
   },
   {
    "duration": 44,
    "start_time": "2023-08-02T13:00:17.821Z"
   },
   {
    "duration": 159,
    "start_time": "2023-08-02T13:00:17.867Z"
   },
   {
    "duration": 8,
    "start_time": "2023-08-02T13:00:18.029Z"
   },
   {
    "duration": 16,
    "start_time": "2023-08-02T13:00:18.039Z"
   },
   {
    "duration": 31,
    "start_time": "2023-08-02T13:00:18.057Z"
   },
   {
    "duration": 53,
    "start_time": "2023-08-02T13:00:18.090Z"
   },
   {
    "duration": 467,
    "start_time": "2023-08-02T13:00:18.145Z"
   },
   {
    "duration": 63,
    "start_time": "2023-08-02T13:00:18.620Z"
   },
   {
    "duration": 64,
    "start_time": "2023-08-02T13:00:18.685Z"
   },
   {
    "duration": 247,
    "start_time": "2023-08-02T13:00:18.751Z"
   },
   {
    "duration": 23,
    "start_time": "2023-08-02T13:00:19.000Z"
   },
   {
    "duration": 239,
    "start_time": "2023-08-02T13:00:19.025Z"
   },
   {
    "duration": 20,
    "start_time": "2023-08-02T13:00:19.266Z"
   },
   {
    "duration": 73,
    "start_time": "2023-08-02T13:00:19.288Z"
   },
   {
    "duration": 113,
    "start_time": "2023-08-02T13:00:19.363Z"
   },
   {
    "duration": 109,
    "start_time": "2023-08-02T13:00:19.478Z"
   },
   {
    "duration": 100,
    "start_time": "2023-08-02T13:00:19.589Z"
   },
   {
    "duration": 41,
    "start_time": "2023-08-02T13:00:19.691Z"
   },
   {
    "duration": 2350,
    "start_time": "2023-08-02T13:00:57.244Z"
   },
   {
    "duration": 983,
    "start_time": "2023-08-02T13:00:59.596Z"
   },
   {
    "duration": 5,
    "start_time": "2023-08-02T13:01:00.580Z"
   },
   {
    "duration": 1215,
    "start_time": "2023-08-02T13:01:00.587Z"
   },
   {
    "duration": 774,
    "start_time": "2023-08-02T13:01:01.804Z"
   },
   {
    "duration": 8,
    "start_time": "2023-08-02T13:01:02.580Z"
   },
   {
    "duration": 22,
    "start_time": "2023-08-02T13:01:02.589Z"
   },
   {
    "duration": 7,
    "start_time": "2023-08-02T13:01:02.613Z"
   },
   {
    "duration": 25,
    "start_time": "2023-08-02T13:01:02.621Z"
   },
   {
    "duration": 76,
    "start_time": "2023-08-02T13:01:02.647Z"
   },
   {
    "duration": 143,
    "start_time": "2023-08-02T13:01:02.724Z"
   },
   {
    "duration": 153,
    "start_time": "2023-08-02T13:01:02.868Z"
   },
   {
    "duration": 13,
    "start_time": "2023-08-02T13:01:03.023Z"
   },
   {
    "duration": 79,
    "start_time": "2023-08-02T13:01:03.039Z"
   },
   {
    "duration": 376,
    "start_time": "2023-08-02T13:01:03.119Z"
   },
   {
    "duration": 396,
    "start_time": "2023-08-02T13:01:03.496Z"
   },
   {
    "duration": 358,
    "start_time": "2023-08-02T13:01:03.894Z"
   },
   {
    "duration": 6,
    "start_time": "2023-08-02T13:01:04.254Z"
   },
   {
    "duration": 41,
    "start_time": "2023-08-02T13:01:04.261Z"
   },
   {
    "duration": 19,
    "start_time": "2023-08-02T13:01:04.303Z"
   },
   {
    "duration": 5,
    "start_time": "2023-08-02T13:01:04.323Z"
   },
   {
    "duration": 44,
    "start_time": "2023-08-02T13:01:04.329Z"
   },
   {
    "duration": 144,
    "start_time": "2023-08-02T13:01:04.374Z"
   },
   {
    "duration": 9,
    "start_time": "2023-08-02T13:01:04.519Z"
   },
   {
    "duration": 31,
    "start_time": "2023-08-02T13:01:04.529Z"
   },
   {
    "duration": 29,
    "start_time": "2023-08-02T13:01:04.561Z"
   },
   {
    "duration": 21,
    "start_time": "2023-08-02T13:01:04.592Z"
   },
   {
    "duration": 432,
    "start_time": "2023-08-02T13:01:04.615Z"
   },
   {
    "duration": 57,
    "start_time": "2023-08-02T13:01:05.049Z"
   },
   {
    "duration": 52,
    "start_time": "2023-08-02T13:01:05.108Z"
   },
   {
    "duration": 298,
    "start_time": "2023-08-02T13:01:05.162Z"
   },
   {
    "duration": 14,
    "start_time": "2023-08-02T13:01:05.462Z"
   },
   {
    "duration": 259,
    "start_time": "2023-08-02T13:01:05.477Z"
   },
   {
    "duration": 17,
    "start_time": "2023-08-02T13:01:05.738Z"
   },
   {
    "duration": 78,
    "start_time": "2023-08-02T13:01:05.756Z"
   },
   {
    "duration": 83,
    "start_time": "2023-08-02T13:01:05.836Z"
   },
   {
    "duration": 68,
    "start_time": "2023-08-02T13:01:05.921Z"
   },
   {
    "duration": 75,
    "start_time": "2023-08-02T13:01:05.991Z"
   },
   {
    "duration": 39,
    "start_time": "2023-08-02T13:01:06.068Z"
   },
   {
    "duration": 22450,
    "start_time": "2023-08-02T13:01:06.109Z"
   },
   {
    "duration": 12978,
    "start_time": "2023-08-02T13:01:28.563Z"
   },
   {
    "duration": 13479,
    "start_time": "2023-08-02T13:01:41.543Z"
   },
   {
    "duration": 198,
    "start_time": "2023-08-02T13:01:55.023Z"
   },
   {
    "duration": 5,
    "start_time": "2023-08-02T13:01:55.223Z"
   },
   {
    "duration": 104,
    "start_time": "2023-08-02T13:11:56.906Z"
   },
   {
    "duration": 530,
    "start_time": "2023-08-02T13:12:05.495Z"
   },
   {
    "duration": 15,
    "start_time": "2023-08-02T13:13:41.888Z"
   },
   {
    "duration": 539,
    "start_time": "2023-08-02T13:14:21.333Z"
   },
   {
    "duration": 523,
    "start_time": "2023-08-02T13:15:11.995Z"
   },
   {
    "duration": 3238,
    "start_time": "2023-08-02T13:15:38.270Z"
   },
   {
    "duration": 2052,
    "start_time": "2023-08-02T13:16:12.521Z"
   },
   {
    "duration": 1376,
    "start_time": "2023-08-02T13:17:24.743Z"
   },
   {
    "duration": 15,
    "start_time": "2023-08-02T13:17:53.820Z"
   },
   {
    "duration": 527,
    "start_time": "2023-08-02T13:20:03.811Z"
   },
   {
    "duration": 599,
    "start_time": "2023-08-02T13:20:18.030Z"
   },
   {
    "duration": 591,
    "start_time": "2023-08-02T13:31:26.792Z"
   },
   {
    "duration": 562,
    "start_time": "2023-08-02T13:32:06.955Z"
   },
   {
    "duration": 4467,
    "start_time": "2023-08-02T13:47:45.305Z"
   },
   {
    "duration": 4,
    "start_time": "2023-08-02T13:48:09.601Z"
   },
   {
    "duration": 679,
    "start_time": "2023-08-02T13:48:09.607Z"
   },
   {
    "duration": 5,
    "start_time": "2023-08-02T13:48:10.288Z"
   },
   {
    "duration": 1011,
    "start_time": "2023-08-02T13:48:10.295Z"
   },
   {
    "duration": 727,
    "start_time": "2023-08-02T13:48:11.308Z"
   },
   {
    "duration": 11,
    "start_time": "2023-08-02T13:48:12.037Z"
   },
   {
    "duration": 72,
    "start_time": "2023-08-02T13:48:12.050Z"
   },
   {
    "duration": 9,
    "start_time": "2023-08-02T13:48:12.124Z"
   },
   {
    "duration": 54,
    "start_time": "2023-08-02T13:48:12.134Z"
   },
   {
    "duration": 11,
    "start_time": "2023-08-02T13:48:12.190Z"
   },
   {
    "duration": 161,
    "start_time": "2023-08-02T13:48:12.203Z"
   },
   {
    "duration": 145,
    "start_time": "2023-08-02T13:48:12.365Z"
   },
   {
    "duration": 19,
    "start_time": "2023-08-02T13:48:12.512Z"
   },
   {
    "duration": 47,
    "start_time": "2023-08-02T13:48:12.534Z"
   },
   {
    "duration": 344,
    "start_time": "2023-08-02T13:48:12.582Z"
   },
   {
    "duration": 384,
    "start_time": "2023-08-02T13:48:12.928Z"
   },
   {
    "duration": 364,
    "start_time": "2023-08-02T13:48:13.314Z"
   },
   {
    "duration": 8,
    "start_time": "2023-08-02T13:48:13.680Z"
   },
   {
    "duration": 48,
    "start_time": "2023-08-02T13:48:13.690Z"
   },
   {
    "duration": 5,
    "start_time": "2023-08-02T13:48:13.740Z"
   },
   {
    "duration": 11,
    "start_time": "2023-08-02T13:48:13.747Z"
   },
   {
    "duration": 35,
    "start_time": "2023-08-02T13:48:13.759Z"
   },
   {
    "duration": 165,
    "start_time": "2023-08-02T13:48:13.795Z"
   },
   {
    "duration": 7,
    "start_time": "2023-08-02T13:48:13.961Z"
   },
   {
    "duration": 15,
    "start_time": "2023-08-02T13:48:13.970Z"
   },
   {
    "duration": 9,
    "start_time": "2023-08-02T13:48:13.987Z"
   },
   {
    "duration": 23,
    "start_time": "2023-08-02T13:48:14.021Z"
   },
   {
    "duration": 454,
    "start_time": "2023-08-02T13:48:14.045Z"
   },
   {
    "duration": 66,
    "start_time": "2023-08-02T13:48:14.501Z"
   },
   {
    "duration": 15,
    "start_time": "2023-08-02T13:48:14.569Z"
   },
   {
    "duration": 233,
    "start_time": "2023-08-02T13:48:14.586Z"
   },
   {
    "duration": 16,
    "start_time": "2023-08-02T13:48:14.821Z"
   },
   {
    "duration": 225,
    "start_time": "2023-08-02T13:48:14.839Z"
   },
   {
    "duration": 17,
    "start_time": "2023-08-02T13:48:15.066Z"
   },
   {
    "duration": 70,
    "start_time": "2023-08-02T13:48:15.085Z"
   },
   {
    "duration": 75,
    "start_time": "2023-08-02T13:48:15.157Z"
   },
   {
    "duration": 54,
    "start_time": "2023-08-02T13:48:15.234Z"
   },
   {
    "duration": 108,
    "start_time": "2023-08-02T13:48:15.291Z"
   },
   {
    "duration": 45,
    "start_time": "2023-08-02T13:48:15.401Z"
   },
   {
    "duration": 1865,
    "start_time": "2023-08-02T13:48:47.678Z"
   },
   {
    "duration": 977,
    "start_time": "2023-08-02T13:48:49.545Z"
   },
   {
    "duration": 5,
    "start_time": "2023-08-02T13:48:50.524Z"
   },
   {
    "duration": 1139,
    "start_time": "2023-08-02T13:48:50.531Z"
   },
   {
    "duration": 724,
    "start_time": "2023-08-02T13:48:51.672Z"
   },
   {
    "duration": 8,
    "start_time": "2023-08-02T13:48:52.398Z"
   },
   {
    "duration": 23,
    "start_time": "2023-08-02T13:48:52.407Z"
   },
   {
    "duration": 7,
    "start_time": "2023-08-02T13:48:52.431Z"
   },
   {
    "duration": 23,
    "start_time": "2023-08-02T13:48:52.439Z"
   },
   {
    "duration": 9,
    "start_time": "2023-08-02T13:48:52.465Z"
   },
   {
    "duration": 156,
    "start_time": "2023-08-02T13:48:52.475Z"
   },
   {
    "duration": 151,
    "start_time": "2023-08-02T13:48:52.633Z"
   },
   {
    "duration": 14,
    "start_time": "2023-08-02T13:48:52.785Z"
   },
   {
    "duration": 65,
    "start_time": "2023-08-02T13:48:52.800Z"
   },
   {
    "duration": 365,
    "start_time": "2023-08-02T13:48:52.867Z"
   },
   {
    "duration": 397,
    "start_time": "2023-08-02T13:48:53.233Z"
   },
   {
    "duration": 383,
    "start_time": "2023-08-02T13:48:53.631Z"
   },
   {
    "duration": 8,
    "start_time": "2023-08-02T13:48:54.016Z"
   },
   {
    "duration": 74,
    "start_time": "2023-08-02T13:48:54.026Z"
   },
   {
    "duration": 30,
    "start_time": "2023-08-02T13:48:54.102Z"
   },
   {
    "duration": 19,
    "start_time": "2023-08-02T13:48:54.134Z"
   },
   {
    "duration": 38,
    "start_time": "2023-08-02T13:48:54.155Z"
   },
   {
    "duration": 154,
    "start_time": "2023-08-02T13:48:54.195Z"
   },
   {
    "duration": 9,
    "start_time": "2023-08-02T13:48:54.350Z"
   },
   {
    "duration": 40,
    "start_time": "2023-08-02T13:48:54.360Z"
   },
   {
    "duration": 31,
    "start_time": "2023-08-02T13:48:54.401Z"
   },
   {
    "duration": 41,
    "start_time": "2023-08-02T13:48:54.434Z"
   },
   {
    "duration": 463,
    "start_time": "2023-08-02T13:48:54.478Z"
   },
   {
    "duration": 58,
    "start_time": "2023-08-02T13:48:54.942Z"
   },
   {
    "duration": 29,
    "start_time": "2023-08-02T13:48:55.002Z"
   },
   {
    "duration": 239,
    "start_time": "2023-08-02T13:48:55.032Z"
   },
   {
    "duration": 20,
    "start_time": "2023-08-02T13:48:55.274Z"
   },
   {
    "duration": 272,
    "start_time": "2023-08-02T13:48:55.296Z"
   },
   {
    "duration": 17,
    "start_time": "2023-08-02T13:48:55.570Z"
   },
   {
    "duration": 67,
    "start_time": "2023-08-02T13:48:55.589Z"
   },
   {
    "duration": 69,
    "start_time": "2023-08-02T13:48:55.657Z"
   },
   {
    "duration": 48,
    "start_time": "2023-08-02T13:48:55.727Z"
   },
   {
    "duration": 90,
    "start_time": "2023-08-02T13:48:55.777Z"
   },
   {
    "duration": 41,
    "start_time": "2023-08-02T13:48:55.868Z"
   },
   {
    "duration": 29396,
    "start_time": "2023-08-02T13:48:55.910Z"
   },
   {
    "duration": 15590,
    "start_time": "2023-08-02T13:49:25.308Z"
   },
   {
    "duration": 14725,
    "start_time": "2023-08-02T13:49:40.899Z"
   },
   {
    "duration": 197,
    "start_time": "2023-08-02T13:49:55.626Z"
   },
   {
    "duration": 7,
    "start_time": "2023-08-02T13:49:55.825Z"
   },
   {
    "duration": 4,
    "start_time": "2023-08-02T13:50:01.468Z"
   },
   {
    "duration": 91,
    "start_time": "2023-08-02T13:50:03.200Z"
   },
   {
    "duration": 350,
    "start_time": "2023-08-02T13:50:05.570Z"
   },
   {
    "duration": 602,
    "start_time": "2023-08-02T13:55:35.204Z"
   },
   {
    "duration": 304,
    "start_time": "2023-08-02T13:56:01.456Z"
   },
   {
    "duration": 9,
    "start_time": "2023-08-02T13:56:03.486Z"
   },
   {
    "duration": 4,
    "start_time": "2023-08-02T13:56:04.307Z"
   },
   {
    "duration": 5,
    "start_time": "2023-08-02T13:58:46.163Z"
   },
   {
    "duration": 702,
    "start_time": "2023-08-02T13:58:46.170Z"
   },
   {
    "duration": 6,
    "start_time": "2023-08-02T13:58:46.873Z"
   },
   {
    "duration": 1038,
    "start_time": "2023-08-02T13:58:46.880Z"
   },
   {
    "duration": 741,
    "start_time": "2023-08-02T13:58:47.921Z"
   },
   {
    "duration": 9,
    "start_time": "2023-08-02T13:58:48.663Z"
   },
   {
    "duration": 15,
    "start_time": "2023-08-02T13:58:48.673Z"
   },
   {
    "duration": 7,
    "start_time": "2023-08-02T13:58:48.690Z"
   },
   {
    "duration": 14,
    "start_time": "2023-08-02T13:58:48.720Z"
   },
   {
    "duration": 7,
    "start_time": "2023-08-02T13:58:48.736Z"
   },
   {
    "duration": 144,
    "start_time": "2023-08-02T13:58:48.745Z"
   },
   {
    "duration": 144,
    "start_time": "2023-08-02T13:58:48.891Z"
   },
   {
    "duration": 13,
    "start_time": "2023-08-02T13:58:49.036Z"
   },
   {
    "duration": 42,
    "start_time": "2023-08-02T13:58:49.051Z"
   },
   {
    "duration": 339,
    "start_time": "2023-08-02T13:58:49.095Z"
   },
   {
    "duration": 414,
    "start_time": "2023-08-02T13:58:49.436Z"
   },
   {
    "duration": 333,
    "start_time": "2023-08-02T13:58:49.851Z"
   },
   {
    "duration": 7,
    "start_time": "2023-08-02T13:58:50.186Z"
   },
   {
    "duration": 48,
    "start_time": "2023-08-02T13:58:50.194Z"
   },
   {
    "duration": 5,
    "start_time": "2023-08-02T13:58:50.243Z"
   },
   {
    "duration": 36,
    "start_time": "2023-08-02T13:58:50.249Z"
   },
   {
    "duration": 51,
    "start_time": "2023-08-02T13:58:50.287Z"
   },
   {
    "duration": 146,
    "start_time": "2023-08-02T13:58:50.340Z"
   },
   {
    "duration": 8,
    "start_time": "2023-08-02T13:58:50.487Z"
   },
   {
    "duration": 25,
    "start_time": "2023-08-02T13:58:50.496Z"
   },
   {
    "duration": 8,
    "start_time": "2023-08-02T13:58:50.522Z"
   },
   {
    "duration": 23,
    "start_time": "2023-08-02T13:58:50.531Z"
   },
   {
    "duration": 429,
    "start_time": "2023-08-02T13:58:50.555Z"
   },
   {
    "duration": 58,
    "start_time": "2023-08-02T13:58:50.985Z"
   },
   {
    "duration": 23,
    "start_time": "2023-08-02T13:58:51.045Z"
   },
   {
    "duration": 222,
    "start_time": "2023-08-02T13:58:51.069Z"
   },
   {
    "duration": 14,
    "start_time": "2023-08-02T13:58:51.293Z"
   },
   {
    "duration": 217,
    "start_time": "2023-08-02T13:58:51.309Z"
   },
   {
    "duration": 16,
    "start_time": "2023-08-02T13:58:51.528Z"
   },
   {
    "duration": 76,
    "start_time": "2023-08-02T13:58:51.546Z"
   },
   {
    "duration": 56,
    "start_time": "2023-08-02T13:58:51.624Z"
   },
   {
    "duration": 59,
    "start_time": "2023-08-02T13:58:51.681Z"
   },
   {
    "duration": 79,
    "start_time": "2023-08-02T13:58:51.741Z"
   },
   {
    "duration": 28,
    "start_time": "2023-08-02T13:58:51.821Z"
   },
   {
    "duration": 32013,
    "start_time": "2023-08-02T13:58:51.851Z"
   },
   {
    "duration": 19672,
    "start_time": "2023-08-02T13:59:23.867Z"
   },
   {
    "duration": 16988,
    "start_time": "2023-08-02T13:59:43.540Z"
   },
   {
    "duration": 294,
    "start_time": "2023-08-02T14:00:00.530Z"
   },
   {
    "duration": 94,
    "start_time": "2023-08-02T14:00:00.826Z"
   },
   {
    "duration": 123,
    "start_time": "2023-08-02T14:00:00.925Z"
   },
   {
    "duration": 580,
    "start_time": "2023-08-02T14:00:01.049Z"
   },
   {
    "duration": 352,
    "start_time": "2023-08-02T14:00:18.674Z"
   },
   {
    "duration": 11,
    "start_time": "2023-08-02T14:00:20.907Z"
   },
   {
    "duration": 5,
    "start_time": "2023-08-02T14:00:21.613Z"
   },
   {
    "duration": 17,
    "start_time": "2023-08-02T14:00:43.214Z"
   },
   {
    "duration": 6,
    "start_time": "2023-08-02T14:02:09.760Z"
   },
   {
    "duration": 16,
    "start_time": "2023-08-02T14:02:21.672Z"
   },
   {
    "duration": 73,
    "start_time": "2023-08-02T14:08:48.118Z"
   },
   {
    "duration": 390,
    "start_time": "2023-08-02T14:14:25.407Z"
   },
   {
    "duration": 79,
    "start_time": "2023-08-02T14:14:48.695Z"
   },
   {
    "duration": 81,
    "start_time": "2023-08-02T14:14:54.466Z"
   },
   {
    "duration": 85,
    "start_time": "2023-08-02T14:14:56.238Z"
   },
   {
    "duration": 264,
    "start_time": "2023-08-02T14:16:38.780Z"
   },
   {
    "duration": 16,
    "start_time": "2023-08-02T14:16:55.602Z"
   },
   {
    "duration": 139,
    "start_time": "2023-08-02T14:19:34.627Z"
   },
   {
    "duration": 15,
    "start_time": "2023-08-02T14:19:36.476Z"
   },
   {
    "duration": 72,
    "start_time": "2023-08-02T14:26:57.904Z"
   },
   {
    "duration": 15,
    "start_time": "2023-08-02T14:26:59.975Z"
   },
   {
    "duration": 254,
    "start_time": "2023-08-02T14:27:40.826Z"
   },
   {
    "duration": 11,
    "start_time": "2023-08-02T14:28:09.725Z"
   },
   {
    "duration": 469,
    "start_time": "2023-08-02T14:37:45.772Z"
   },
   {
    "duration": 72,
    "start_time": "2023-08-02T14:37:51.445Z"
   },
   {
    "duration": 474,
    "start_time": "2023-08-02T14:37:52.341Z"
   },
   {
    "duration": 648,
    "start_time": "2023-08-02T14:39:54.778Z"
   },
   {
    "duration": 16,
    "start_time": "2023-08-02T14:40:21.823Z"
   },
   {
    "duration": 72,
    "start_time": "2023-08-02T14:40:42.352Z"
   },
   {
    "duration": 697,
    "start_time": "2023-08-02T14:40:43.635Z"
   },
   {
    "duration": 273,
    "start_time": "2023-08-02T14:40:47.450Z"
   },
   {
    "duration": 11,
    "start_time": "2023-08-02T14:40:49.645Z"
   },
   {
    "duration": 5,
    "start_time": "2023-08-02T14:40:50.183Z"
   },
   {
    "duration": 76,
    "start_time": "2023-08-02T14:43:02.579Z"
   },
   {
    "duration": 158603,
    "start_time": "2023-08-02T14:43:15.222Z"
   },
   {
    "duration": 119,
    "start_time": "2023-08-02T14:48:53.009Z"
   },
   {
    "duration": 616,
    "start_time": "2023-08-02T14:48:59.134Z"
   },
   {
    "duration": 4,
    "start_time": "2023-08-02T14:49:09.088Z"
   },
   {
    "duration": 4,
    "start_time": "2023-08-02T14:52:35.201Z"
   },
   {
    "duration": 238,
    "start_time": "2023-08-02T14:53:16.867Z"
   },
   {
    "duration": 15,
    "start_time": "2023-08-02T14:54:33.171Z"
   },
   {
    "duration": 16,
    "start_time": "2023-08-02T14:54:54.542Z"
   },
   {
    "duration": 16,
    "start_time": "2023-08-02T14:55:06.539Z"
   },
   {
    "duration": 36,
    "start_time": "2023-08-02T14:55:24.652Z"
   },
   {
    "duration": 76,
    "start_time": "2023-08-02T14:55:48.218Z"
   },
   {
    "duration": 17,
    "start_time": "2023-08-02T14:55:50.971Z"
   },
   {
    "duration": 101595,
    "start_time": "2023-08-02T14:56:05.331Z"
   },
   {
    "duration": 135,
    "start_time": "2023-08-02T14:59:55.775Z"
   },
   {
    "duration": 44,
    "start_time": "2023-08-02T15:15:23.694Z"
   },
   {
    "duration": 11,
    "start_time": "2023-08-02T15:15:27.811Z"
   },
   {
    "duration": 877,
    "start_time": "2023-08-02T15:15:30.145Z"
   },
   {
    "duration": 4,
    "start_time": "2023-08-02T15:15:33.554Z"
   },
   {
    "duration": 94,
    "start_time": "2023-08-02T15:19:07.054Z"
   },
   {
    "duration": 898,
    "start_time": "2023-08-02T15:19:12.848Z"
   },
   {
    "duration": 40,
    "start_time": "2023-08-02T15:26:34.623Z"
   },
   {
    "duration": 883,
    "start_time": "2023-08-02T15:26:48.437Z"
   },
   {
    "duration": 4,
    "start_time": "2023-08-02T15:27:04.177Z"
   },
   {
    "duration": 581,
    "start_time": "2023-08-02T15:27:58.616Z"
   },
   {
    "duration": 4,
    "start_time": "2023-08-02T15:28:00.551Z"
   },
   {
    "duration": 5,
    "start_time": "2023-08-02T15:28:04.824Z"
   },
   {
    "duration": 330,
    "start_time": "2023-08-02T15:31:53.386Z"
   },
   {
    "duration": 81,
    "start_time": "2023-08-02T15:32:39.760Z"
   },
   {
    "duration": 772,
    "start_time": "2023-08-02T15:32:39.843Z"
   },
   {
    "duration": 11,
    "start_time": "2023-08-02T15:32:44.806Z"
   },
   {
    "duration": 4,
    "start_time": "2023-08-02T15:32:47.483Z"
   },
   {
    "duration": 84,
    "start_time": "2023-08-02T15:33:18.285Z"
   },
   {
    "duration": 37,
    "start_time": "2023-08-02T15:33:20.966Z"
   },
   {
    "duration": 29937,
    "start_time": "2023-08-02T15:33:22.743Z"
   },
   {
    "duration": 11434,
    "start_time": "2023-08-02T15:37:39.940Z"
   },
   {
    "duration": 16252,
    "start_time": "2023-08-02T15:37:51.375Z"
   },
   {
    "duration": 233,
    "start_time": "2023-08-02T15:38:07.629Z"
   },
   {
    "duration": 65,
    "start_time": "2023-08-02T15:38:07.864Z"
   },
   {
    "duration": 4,
    "start_time": "2023-08-02T17:33:46.241Z"
   },
   {
    "duration": 725,
    "start_time": "2023-08-02T17:33:46.246Z"
   },
   {
    "duration": 5,
    "start_time": "2023-08-02T17:33:46.972Z"
   },
   {
    "duration": 935,
    "start_time": "2023-08-02T17:33:46.978Z"
   },
   {
    "duration": 708,
    "start_time": "2023-08-02T17:33:47.914Z"
   },
   {
    "duration": 8,
    "start_time": "2023-08-02T17:33:48.623Z"
   },
   {
    "duration": 15,
    "start_time": "2023-08-02T17:33:48.632Z"
   },
   {
    "duration": 7,
    "start_time": "2023-08-02T17:33:48.648Z"
   },
   {
    "duration": 13,
    "start_time": "2023-08-02T17:33:48.657Z"
   },
   {
    "duration": 7,
    "start_time": "2023-08-02T17:33:48.671Z"
   },
   {
    "duration": 153,
    "start_time": "2023-08-02T17:33:48.680Z"
   },
   {
    "duration": 134,
    "start_time": "2023-08-02T17:33:48.835Z"
   },
   {
    "duration": 12,
    "start_time": "2023-08-02T17:33:48.970Z"
   },
   {
    "duration": 51,
    "start_time": "2023-08-02T17:33:48.983Z"
   },
   {
    "duration": 297,
    "start_time": "2023-08-02T17:33:49.035Z"
   },
   {
    "duration": 340,
    "start_time": "2023-08-02T17:33:49.333Z"
   },
   {
    "duration": 294,
    "start_time": "2023-08-02T17:33:49.675Z"
   },
   {
    "duration": 6,
    "start_time": "2023-08-02T17:33:49.970Z"
   },
   {
    "duration": 50,
    "start_time": "2023-08-02T17:33:49.977Z"
   },
   {
    "duration": 5,
    "start_time": "2023-08-02T17:33:50.028Z"
   },
   {
    "duration": 7,
    "start_time": "2023-08-02T17:33:50.034Z"
   },
   {
    "duration": 33,
    "start_time": "2023-08-02T17:33:50.043Z"
   },
   {
    "duration": 137,
    "start_time": "2023-08-02T17:33:50.078Z"
   },
   {
    "duration": 8,
    "start_time": "2023-08-02T17:33:50.221Z"
   },
   {
    "duration": 15,
    "start_time": "2023-08-02T17:33:50.231Z"
   },
   {
    "duration": 8,
    "start_time": "2023-08-02T17:33:50.248Z"
   },
   {
    "duration": 20,
    "start_time": "2023-08-02T17:33:50.257Z"
   },
   {
    "duration": 430,
    "start_time": "2023-08-02T17:33:50.279Z"
   },
   {
    "duration": 59,
    "start_time": "2023-08-02T17:33:50.710Z"
   },
   {
    "duration": 19,
    "start_time": "2023-08-02T17:33:50.771Z"
   },
   {
    "duration": 202,
    "start_time": "2023-08-02T17:33:50.791Z"
   },
   {
    "duration": 14,
    "start_time": "2023-08-02T17:33:50.994Z"
   },
   {
    "duration": 199,
    "start_time": "2023-08-02T17:33:51.010Z"
   },
   {
    "duration": 20,
    "start_time": "2023-08-02T17:33:51.210Z"
   },
   {
    "duration": 71,
    "start_time": "2023-08-02T17:33:51.231Z"
   },
   {
    "duration": 57,
    "start_time": "2023-08-02T17:33:51.303Z"
   },
   {
    "duration": 44,
    "start_time": "2023-08-02T17:33:51.361Z"
   },
   {
    "duration": 72,
    "start_time": "2023-08-02T17:33:51.407Z"
   },
   {
    "duration": 44,
    "start_time": "2023-08-02T17:33:51.481Z"
   },
   {
    "duration": 1447,
    "start_time": "2023-08-02T17:34:26.509Z"
   },
   {
    "duration": 911,
    "start_time": "2023-08-02T17:34:27.958Z"
   },
   {
    "duration": 5,
    "start_time": "2023-08-02T17:34:28.870Z"
   },
   {
    "duration": 1035,
    "start_time": "2023-08-02T17:34:28.876Z"
   },
   {
    "duration": 667,
    "start_time": "2023-08-02T17:34:29.913Z"
   },
   {
    "duration": 8,
    "start_time": "2023-08-02T17:34:30.581Z"
   },
   {
    "duration": 28,
    "start_time": "2023-08-02T17:34:30.590Z"
   },
   {
    "duration": 10,
    "start_time": "2023-08-02T17:34:30.620Z"
   },
   {
    "duration": 29,
    "start_time": "2023-08-02T17:34:30.632Z"
   },
   {
    "duration": 13,
    "start_time": "2023-08-02T17:34:30.664Z"
   },
   {
    "duration": 130,
    "start_time": "2023-08-02T17:34:30.679Z"
   },
   {
    "duration": 136,
    "start_time": "2023-08-02T17:34:30.811Z"
   },
   {
    "duration": 13,
    "start_time": "2023-08-02T17:34:30.949Z"
   },
   {
    "duration": 76,
    "start_time": "2023-08-02T17:34:30.963Z"
   },
   {
    "duration": 367,
    "start_time": "2023-08-02T17:34:31.041Z"
   },
   {
    "duration": 374,
    "start_time": "2023-08-02T17:34:31.409Z"
   },
   {
    "duration": 324,
    "start_time": "2023-08-02T17:34:31.785Z"
   },
   {
    "duration": 13,
    "start_time": "2023-08-02T17:34:32.111Z"
   },
   {
    "duration": 42,
    "start_time": "2023-08-02T17:34:32.126Z"
   },
   {
    "duration": 29,
    "start_time": "2023-08-02T17:34:32.169Z"
   },
   {
    "duration": 14,
    "start_time": "2023-08-02T17:34:32.199Z"
   },
   {
    "duration": 35,
    "start_time": "2023-08-02T17:34:32.214Z"
   },
   {
    "duration": 144,
    "start_time": "2023-08-02T17:34:32.251Z"
   },
   {
    "duration": 7,
    "start_time": "2023-08-02T17:34:32.397Z"
   },
   {
    "duration": 21,
    "start_time": "2023-08-02T17:34:32.405Z"
   },
   {
    "duration": 8,
    "start_time": "2023-08-02T17:34:32.427Z"
   },
   {
    "duration": 33,
    "start_time": "2023-08-02T17:34:32.436Z"
   },
   {
    "duration": 385,
    "start_time": "2023-08-02T17:34:32.472Z"
   },
   {
    "duration": 52,
    "start_time": "2023-08-02T17:34:32.859Z"
   },
   {
    "duration": 85,
    "start_time": "2023-08-02T17:34:32.920Z"
   },
   {
    "duration": 243,
    "start_time": "2023-08-02T17:34:33.006Z"
   },
   {
    "duration": 13,
    "start_time": "2023-08-02T17:34:33.251Z"
   },
   {
    "duration": 193,
    "start_time": "2023-08-02T17:34:33.265Z"
   },
   {
    "duration": 15,
    "start_time": "2023-08-02T17:34:33.459Z"
   },
   {
    "duration": 62,
    "start_time": "2023-08-02T17:34:33.476Z"
   },
   {
    "duration": 53,
    "start_time": "2023-08-02T17:34:33.540Z"
   },
   {
    "duration": 53,
    "start_time": "2023-08-02T17:34:33.595Z"
   },
   {
    "duration": 60,
    "start_time": "2023-08-02T17:34:33.650Z"
   },
   {
    "duration": 43,
    "start_time": "2023-08-02T17:34:33.711Z"
   },
   {
    "duration": 27340,
    "start_time": "2023-08-02T17:34:33.755Z"
   },
   {
    "duration": 12586,
    "start_time": "2023-08-02T17:35:01.096Z"
   },
   {
    "duration": 12545,
    "start_time": "2023-08-02T17:35:13.683Z"
   },
   {
    "duration": 122,
    "start_time": "2023-08-02T17:35:26.321Z"
   },
   {
    "duration": 6,
    "start_time": "2023-08-02T17:35:26.521Z"
   },
   {
    "duration": 161,
    "start_time": "2023-08-02T17:35:26.528Z"
   },
   {
    "duration": 695,
    "start_time": "2023-08-02T17:35:26.690Z"
   },
   {
    "duration": 274,
    "start_time": "2023-08-02T17:35:27.386Z"
   },
   {
    "duration": 11,
    "start_time": "2023-08-02T17:35:27.661Z"
   },
   {
    "duration": 4,
    "start_time": "2023-08-02T17:35:27.673Z"
   },
   {
    "duration": 81,
    "start_time": "2023-08-02T17:35:27.678Z"
   },
   {
    "duration": 150536,
    "start_time": "2023-08-02T17:35:27.760Z"
   },
   {
    "duration": 602,
    "start_time": "2023-08-02T17:37:58.297Z"
   },
   {
    "duration": 3,
    "start_time": "2023-08-02T17:37:58.901Z"
   },
   {
    "duration": 152,
    "start_time": "2023-08-02T17:37:58.906Z"
   },
   {
    "duration": 7462,
    "start_time": "2023-08-02T17:37:59.059Z"
   },
   {
    "duration": 807,
    "start_time": "2023-08-02T17:38:06.522Z"
   },
   {
    "duration": 4,
    "start_time": "2023-08-02T17:38:07.332Z"
   },
   {
    "duration": 4,
    "start_time": "2023-08-02T17:38:24.934Z"
   },
   {
    "duration": 14,
    "start_time": "2023-08-02T17:38:28.053Z"
   },
   {
    "duration": 223,
    "start_time": "2023-08-02T17:38:48.971Z"
   },
   {
    "duration": 21,
    "start_time": "2023-08-02T17:39:19.334Z"
   },
   {
    "duration": 22,
    "start_time": "2023-08-02T17:39:39.617Z"
   },
   {
    "duration": 11,
    "start_time": "2023-08-02T17:40:11.125Z"
   },
   {
    "duration": 21,
    "start_time": "2023-08-02T17:40:26.387Z"
   },
   {
    "duration": 5,
    "start_time": "2023-08-02T17:40:38.276Z"
   },
   {
    "duration": 14,
    "start_time": "2023-08-02T17:42:04.695Z"
   },
   {
    "duration": 69,
    "start_time": "2023-08-02T17:42:27.893Z"
   },
   {
    "duration": 148,
    "start_time": "2023-08-02T17:42:32.870Z"
   },
   {
    "duration": 17,
    "start_time": "2023-08-02T17:42:48.148Z"
   },
   {
    "duration": 12,
    "start_time": "2023-08-02T17:42:56.171Z"
   },
   {
    "duration": 140,
    "start_time": "2023-08-02T17:42:59.105Z"
   },
   {
    "duration": 22,
    "start_time": "2023-08-02T17:44:06.060Z"
   },
   {
    "duration": 25,
    "start_time": "2023-08-02T17:44:14.748Z"
   },
   {
    "duration": 74,
    "start_time": "2023-08-02T17:46:17.594Z"
   },
   {
    "duration": 147,
    "start_time": "2023-08-02T17:46:21.513Z"
   },
   {
    "duration": 16,
    "start_time": "2023-08-02T17:46:23.799Z"
   },
   {
    "duration": 15,
    "start_time": "2023-08-02T17:46:58.969Z"
   },
   {
    "duration": 12,
    "start_time": "2023-08-02T17:47:09.304Z"
   },
   {
    "duration": 22,
    "start_time": "2023-08-02T17:47:09.830Z"
   },
   {
    "duration": 15,
    "start_time": "2023-08-02T17:47:46.324Z"
   },
   {
    "duration": 33,
    "start_time": "2023-08-02T17:47:46.904Z"
   },
   {
    "duration": 17,
    "start_time": "2023-08-02T17:47:47.514Z"
   },
   {
    "duration": 9879,
    "start_time": "2023-08-02T17:47:53.549Z"
   },
   {
    "duration": 355,
    "start_time": "2023-08-02T17:52:21.790Z"
   },
   {
    "duration": 1800,
    "start_time": "2023-08-03T04:38:14.728Z"
   },
   {
    "duration": 2934,
    "start_time": "2023-08-03T04:38:16.530Z"
   },
   {
    "duration": 6,
    "start_time": "2023-08-03T04:38:19.465Z"
   },
   {
    "duration": 1385,
    "start_time": "2023-08-03T04:38:19.473Z"
   },
   {
    "duration": 805,
    "start_time": "2023-08-03T04:38:20.860Z"
   },
   {
    "duration": 10,
    "start_time": "2023-08-03T04:38:21.667Z"
   },
   {
    "duration": 16,
    "start_time": "2023-08-03T04:38:21.679Z"
   },
   {
    "duration": 8,
    "start_time": "2023-08-03T04:38:21.697Z"
   },
   {
    "duration": 15,
    "start_time": "2023-08-03T04:38:21.707Z"
   },
   {
    "duration": 38,
    "start_time": "2023-08-03T04:38:21.724Z"
   },
   {
    "duration": 165,
    "start_time": "2023-08-03T04:38:21.764Z"
   },
   {
    "duration": 162,
    "start_time": "2023-08-03T04:38:21.931Z"
   },
   {
    "duration": 17,
    "start_time": "2023-08-03T04:38:22.095Z"
   },
   {
    "duration": 77,
    "start_time": "2023-08-03T04:38:22.113Z"
   },
   {
    "duration": 455,
    "start_time": "2023-08-03T04:38:22.191Z"
   },
   {
    "duration": 496,
    "start_time": "2023-08-03T04:38:22.648Z"
   },
   {
    "duration": 461,
    "start_time": "2023-08-03T04:38:23.146Z"
   },
   {
    "duration": 7,
    "start_time": "2023-08-03T04:38:23.609Z"
   },
   {
    "duration": 54,
    "start_time": "2023-08-03T04:38:23.617Z"
   },
   {
    "duration": 6,
    "start_time": "2023-08-03T04:38:23.672Z"
   },
   {
    "duration": 8,
    "start_time": "2023-08-03T04:38:23.680Z"
   },
   {
    "duration": 25,
    "start_time": "2023-08-03T04:38:23.690Z"
   },
   {
    "duration": 202,
    "start_time": "2023-08-03T04:38:23.718Z"
   },
   {
    "duration": 9,
    "start_time": "2023-08-03T04:38:23.922Z"
   },
   {
    "duration": 31,
    "start_time": "2023-08-03T04:38:23.932Z"
   },
   {
    "duration": 10,
    "start_time": "2023-08-03T04:38:23.965Z"
   },
   {
    "duration": 26,
    "start_time": "2023-08-03T04:38:23.976Z"
   },
   {
    "duration": 512,
    "start_time": "2023-08-03T04:38:24.005Z"
   },
   {
    "duration": 59,
    "start_time": "2023-08-03T04:38:24.518Z"
   },
   {
    "duration": 15,
    "start_time": "2023-08-03T04:38:24.578Z"
   },
   {
    "duration": 257,
    "start_time": "2023-08-03T04:38:24.594Z"
   },
   {
    "duration": 14,
    "start_time": "2023-08-03T04:38:24.853Z"
   },
   {
    "duration": 238,
    "start_time": "2023-08-03T04:38:24.869Z"
   },
   {
    "duration": 16,
    "start_time": "2023-08-03T04:38:25.109Z"
   },
   {
    "duration": 73,
    "start_time": "2023-08-03T04:38:25.127Z"
   },
   {
    "duration": 76,
    "start_time": "2023-08-03T04:38:25.202Z"
   },
   {
    "duration": 55,
    "start_time": "2023-08-03T04:38:25.280Z"
   },
   {
    "duration": 114,
    "start_time": "2023-08-03T04:38:25.337Z"
   },
   {
    "duration": 44,
    "start_time": "2023-08-03T04:38:25.453Z"
   },
   {
    "duration": 72699,
    "start_time": "2023-08-03T04:38:25.499Z"
   },
   {
    "duration": 41718,
    "start_time": "2023-08-03T04:39:38.199Z"
   },
   {
    "duration": 17747,
    "start_time": "2023-08-03T04:40:19.918Z"
   },
   {
    "duration": 291,
    "start_time": "2023-08-03T04:40:37.667Z"
   },
   {
    "duration": 4,
    "start_time": "2023-08-03T04:40:37.960Z"
   },
   {
    "duration": 239,
    "start_time": "2023-08-03T04:40:37.966Z"
   },
   {
    "duration": 959,
    "start_time": "2023-08-03T04:40:38.207Z"
   },
   {
    "duration": 291,
    "start_time": "2023-08-03T04:40:39.167Z"
   },
   {
    "duration": 12,
    "start_time": "2023-08-03T04:40:39.460Z"
   },
   {
    "duration": 4,
    "start_time": "2023-08-03T04:40:39.474Z"
   },
   {
    "duration": 124,
    "start_time": "2023-08-03T04:40:39.480Z"
   },
   {
    "duration": 162469,
    "start_time": "2023-08-03T04:40:39.606Z"
   },
   {
    "duration": 713,
    "start_time": "2023-08-03T04:43:22.077Z"
   },
   {
    "duration": 6,
    "start_time": "2023-08-03T04:43:22.791Z"
   },
   {
    "duration": 165,
    "start_time": "2023-08-03T04:43:22.798Z"
   },
   {
    "duration": 6696,
    "start_time": "2023-08-03T04:43:22.965Z"
   },
   {
    "duration": 802,
    "start_time": "2023-08-03T04:43:29.663Z"
   },
   {
    "duration": 5,
    "start_time": "2023-08-03T04:43:30.466Z"
   },
   {
    "duration": 19,
    "start_time": "2023-08-03T05:04:42.042Z"
   },
   {
    "duration": 30,
    "start_time": "2023-08-03T05:04:42.518Z"
   },
   {
    "duration": 318,
    "start_time": "2023-08-03T05:04:43.258Z"
   },
   {
    "duration": 23,
    "start_time": "2023-08-03T05:05:43.137Z"
   },
   {
    "duration": 162,
    "start_time": "2023-08-03T05:07:33.792Z"
   },
   {
    "duration": 137,
    "start_time": "2023-08-03T05:07:51.412Z"
   },
   {
    "duration": 127,
    "start_time": "2023-08-03T05:08:11.069Z"
   },
   {
    "duration": 134,
    "start_time": "2023-08-03T05:08:44.202Z"
   },
   {
    "duration": 0,
    "start_time": "2023-08-03T05:37:00.310Z"
   },
   {
    "duration": 0,
    "start_time": "2023-08-03T05:37:00.314Z"
   },
   {
    "duration": 0,
    "start_time": "2023-08-03T05:37:00.317Z"
   },
   {
    "duration": 0,
    "start_time": "2023-08-03T05:37:00.320Z"
   },
   {
    "duration": 0,
    "start_time": "2023-08-03T05:37:00.323Z"
   },
   {
    "duration": 0,
    "start_time": "2023-08-03T05:37:00.326Z"
   },
   {
    "duration": 0,
    "start_time": "2023-08-03T05:37:00.329Z"
   },
   {
    "duration": 0,
    "start_time": "2023-08-03T05:37:00.330Z"
   },
   {
    "duration": 0,
    "start_time": "2023-08-03T05:37:00.333Z"
   },
   {
    "duration": 0,
    "start_time": "2023-08-03T05:37:00.336Z"
   },
   {
    "duration": 0,
    "start_time": "2023-08-03T05:37:00.340Z"
   },
   {
    "duration": 0,
    "start_time": "2023-08-03T05:37:00.343Z"
   },
   {
    "duration": 0,
    "start_time": "2023-08-03T05:37:00.359Z"
   },
   {
    "duration": 0,
    "start_time": "2023-08-03T05:37:00.362Z"
   },
   {
    "duration": 0,
    "start_time": "2023-08-03T05:37:00.365Z"
   },
   {
    "duration": 0,
    "start_time": "2023-08-03T05:37:00.368Z"
   },
   {
    "duration": 0,
    "start_time": "2023-08-03T05:37:00.370Z"
   },
   {
    "duration": 0,
    "start_time": "2023-08-03T05:37:00.372Z"
   },
   {
    "duration": 0,
    "start_time": "2023-08-03T05:37:00.374Z"
   },
   {
    "duration": 0,
    "start_time": "2023-08-03T05:37:00.376Z"
   },
   {
    "duration": 0,
    "start_time": "2023-08-03T05:37:00.379Z"
   },
   {
    "duration": 0,
    "start_time": "2023-08-03T05:37:00.382Z"
   },
   {
    "duration": 0,
    "start_time": "2023-08-03T05:37:00.384Z"
   },
   {
    "duration": 0,
    "start_time": "2023-08-03T05:37:00.386Z"
   },
   {
    "duration": 0,
    "start_time": "2023-08-03T05:37:00.388Z"
   },
   {
    "duration": 0,
    "start_time": "2023-08-03T05:37:00.390Z"
   },
   {
    "duration": 0,
    "start_time": "2023-08-03T05:37:00.393Z"
   },
   {
    "duration": 0,
    "start_time": "2023-08-03T05:37:00.395Z"
   },
   {
    "duration": 0,
    "start_time": "2023-08-03T05:37:00.457Z"
   },
   {
    "duration": 0,
    "start_time": "2023-08-03T05:37:00.460Z"
   },
   {
    "duration": 0,
    "start_time": "2023-08-03T05:37:00.463Z"
   },
   {
    "duration": 1,
    "start_time": "2023-08-03T05:37:00.467Z"
   },
   {
    "duration": 0,
    "start_time": "2023-08-03T05:37:00.470Z"
   },
   {
    "duration": 0,
    "start_time": "2023-08-03T05:37:00.474Z"
   },
   {
    "duration": 0,
    "start_time": "2023-08-03T05:37:00.476Z"
   },
   {
    "duration": 0,
    "start_time": "2023-08-03T05:37:00.479Z"
   },
   {
    "duration": 0,
    "start_time": "2023-08-03T05:37:00.482Z"
   },
   {
    "duration": 0,
    "start_time": "2023-08-03T05:37:00.485Z"
   },
   {
    "duration": 0,
    "start_time": "2023-08-03T05:37:00.488Z"
   },
   {
    "duration": 6,
    "start_time": "2023-08-03T05:37:10.595Z"
   },
   {
    "duration": 5,
    "start_time": "2023-08-03T05:37:18.174Z"
   },
   {
    "duration": 880,
    "start_time": "2023-08-03T05:37:18.181Z"
   },
   {
    "duration": 6,
    "start_time": "2023-08-03T05:37:19.064Z"
   },
   {
    "duration": 1235,
    "start_time": "2023-08-03T05:37:19.072Z"
   },
   {
    "duration": 900,
    "start_time": "2023-08-03T05:37:20.310Z"
   },
   {
    "duration": 12,
    "start_time": "2023-08-03T05:37:21.212Z"
   },
   {
    "duration": 43,
    "start_time": "2023-08-03T05:37:21.225Z"
   },
   {
    "duration": 12,
    "start_time": "2023-08-03T05:37:21.270Z"
   },
   {
    "duration": 22,
    "start_time": "2023-08-03T05:37:21.285Z"
   },
   {
    "duration": 10,
    "start_time": "2023-08-03T05:37:21.309Z"
   },
   {
    "duration": 187,
    "start_time": "2023-08-03T05:37:21.321Z"
   },
   {
    "duration": 171,
    "start_time": "2023-08-03T05:37:21.510Z"
   },
   {
    "duration": 18,
    "start_time": "2023-08-03T05:37:21.683Z"
   },
   {
    "duration": 71,
    "start_time": "2023-08-03T05:37:21.705Z"
   },
   {
    "duration": 440,
    "start_time": "2023-08-03T05:37:21.779Z"
   },
   {
    "duration": 482,
    "start_time": "2023-08-03T05:37:22.220Z"
   },
   {
    "duration": 455,
    "start_time": "2023-08-03T05:37:22.704Z"
   },
   {
    "duration": 10,
    "start_time": "2023-08-03T05:37:23.162Z"
   },
   {
    "duration": 62,
    "start_time": "2023-08-03T05:37:23.174Z"
   },
   {
    "duration": 22,
    "start_time": "2023-08-03T05:37:23.238Z"
   },
   {
    "duration": 13,
    "start_time": "2023-08-03T05:37:23.264Z"
   },
   {
    "duration": 33,
    "start_time": "2023-08-03T05:37:23.280Z"
   },
   {
    "duration": 250,
    "start_time": "2023-08-03T05:37:23.316Z"
   },
   {
    "duration": 11,
    "start_time": "2023-08-03T05:37:23.568Z"
   },
   {
    "duration": 47,
    "start_time": "2023-08-03T05:37:23.581Z"
   },
   {
    "duration": 41,
    "start_time": "2023-08-03T05:37:23.630Z"
   },
   {
    "duration": 34,
    "start_time": "2023-08-03T05:37:23.673Z"
   },
   {
    "duration": 612,
    "start_time": "2023-08-03T05:37:23.709Z"
   },
   {
    "duration": 67,
    "start_time": "2023-08-03T05:37:24.323Z"
   },
   {
    "duration": 20,
    "start_time": "2023-08-03T05:37:24.392Z"
   },
   {
    "duration": 259,
    "start_time": "2023-08-03T05:37:24.414Z"
   },
   {
    "duration": 18,
    "start_time": "2023-08-03T05:37:24.675Z"
   },
   {
    "duration": 264,
    "start_time": "2023-08-03T05:37:24.695Z"
   },
   {
    "duration": 17,
    "start_time": "2023-08-03T05:37:24.964Z"
   },
   {
    "duration": 57,
    "start_time": "2023-08-03T05:37:24.983Z"
   },
   {
    "duration": 74,
    "start_time": "2023-08-03T05:37:25.041Z"
   },
   {
    "duration": 74,
    "start_time": "2023-08-03T05:37:25.117Z"
   },
   {
    "duration": 135,
    "start_time": "2023-08-03T05:37:25.193Z"
   },
   {
    "duration": 8,
    "start_time": "2023-08-03T05:38:01.421Z"
   },
   {
    "duration": 43,
    "start_time": "2023-08-03T05:38:23.325Z"
   },
   {
    "duration": 60578,
    "start_time": "2023-08-03T05:38:33.666Z"
   },
   {
    "duration": 39697,
    "start_time": "2023-08-03T05:39:40.259Z"
   },
   {
    "duration": 7,
    "start_time": "2023-08-03T05:40:35.205Z"
   },
   {
    "duration": 95,
    "start_time": "2023-08-03T05:41:45.588Z"
   },
   {
    "duration": 7,
    "start_time": "2023-08-03T05:42:00.431Z"
   },
   {
    "duration": 31170,
    "start_time": "2023-08-03T05:42:01.493Z"
   },
   {
    "duration": 309,
    "start_time": "2023-08-03T05:42:32.665Z"
   },
   {
    "duration": 84,
    "start_time": "2023-08-03T05:42:32.976Z"
   },
   {
    "duration": 140,
    "start_time": "2023-08-03T05:42:33.063Z"
   },
   {
    "duration": 1024,
    "start_time": "2023-08-03T05:42:33.206Z"
   },
   {
    "duration": 341,
    "start_time": "2023-08-03T05:42:34.232Z"
   },
   {
    "duration": 15,
    "start_time": "2023-08-03T05:42:34.575Z"
   },
   {
    "duration": 6,
    "start_time": "2023-08-03T05:42:34.592Z"
   },
   {
    "duration": 145,
    "start_time": "2023-08-03T05:42:34.600Z"
   },
   {
    "duration": 173349,
    "start_time": "2023-08-03T05:42:34.749Z"
   },
   {
    "duration": 811,
    "start_time": "2023-08-03T05:45:28.100Z"
   },
   {
    "duration": 6,
    "start_time": "2023-08-03T05:45:28.913Z"
   },
   {
    "duration": 236,
    "start_time": "2023-08-03T05:45:28.921Z"
   },
   {
    "duration": 26,
    "start_time": "2023-08-03T05:56:30.509Z"
   },
   {
    "duration": 908,
    "start_time": "2023-08-03T05:56:30.537Z"
   },
   {
    "duration": 12,
    "start_time": "2023-08-03T05:56:31.446Z"
   },
   {
    "duration": 1577,
    "start_time": "2023-08-03T05:56:50.789Z"
   },
   {
    "duration": 915,
    "start_time": "2023-08-03T05:56:52.379Z"
   },
   {
    "duration": 6,
    "start_time": "2023-08-03T05:56:53.296Z"
   },
   {
    "duration": 1494,
    "start_time": "2023-08-03T05:56:53.306Z"
   },
   {
    "duration": 1700,
    "start_time": "2023-08-03T05:56:54.802Z"
   },
   {
    "duration": 61,
    "start_time": "2023-08-03T05:56:56.504Z"
   },
   {
    "duration": 23,
    "start_time": "2023-08-03T05:56:56.567Z"
   },
   {
    "duration": 9,
    "start_time": "2023-08-03T05:56:56.592Z"
   },
   {
    "duration": 77,
    "start_time": "2023-08-03T05:56:56.603Z"
   },
   {
    "duration": 85,
    "start_time": "2023-08-03T05:56:56.683Z"
   },
   {
    "duration": 498,
    "start_time": "2023-08-03T05:56:56.770Z"
   },
   {
    "duration": 457,
    "start_time": "2023-08-03T05:56:57.270Z"
   },
   {
    "duration": 49,
    "start_time": "2023-08-03T05:56:57.729Z"
   },
   {
    "duration": 91,
    "start_time": "2023-08-03T05:56:57.781Z"
   },
   {
    "duration": 601,
    "start_time": "2023-08-03T05:56:57.875Z"
   },
   {
    "duration": 620,
    "start_time": "2023-08-03T05:56:58.479Z"
   },
   {
    "duration": 544,
    "start_time": "2023-08-03T05:56:59.101Z"
   },
   {
    "duration": 15,
    "start_time": "2023-08-03T05:56:59.647Z"
   },
   {
    "duration": 53,
    "start_time": "2023-08-03T05:56:59.665Z"
   },
   {
    "duration": 8,
    "start_time": "2023-08-03T05:56:59.719Z"
   },
   {
    "duration": 35,
    "start_time": "2023-08-03T05:56:59.729Z"
   },
   {
    "duration": 28,
    "start_time": "2023-08-03T05:56:59.768Z"
   },
   {
    "duration": 195,
    "start_time": "2023-08-03T05:56:59.798Z"
   },
   {
    "duration": 11,
    "start_time": "2023-08-03T05:56:59.995Z"
   },
   {
    "duration": 80,
    "start_time": "2023-08-03T05:57:00.007Z"
   },
   {
    "duration": 10,
    "start_time": "2023-08-03T05:57:00.089Z"
   },
   {
    "duration": 85,
    "start_time": "2023-08-03T05:57:00.101Z"
   },
   {
    "duration": 1375,
    "start_time": "2023-08-03T05:57:00.190Z"
   },
   {
    "duration": 220,
    "start_time": "2023-08-03T05:57:01.568Z"
   },
   {
    "duration": 80,
    "start_time": "2023-08-03T05:57:01.791Z"
   },
   {
    "duration": 464,
    "start_time": "2023-08-03T05:57:01.873Z"
   },
   {
    "duration": 19,
    "start_time": "2023-08-03T05:57:02.340Z"
   },
   {
    "duration": 337,
    "start_time": "2023-08-03T05:57:02.362Z"
   },
   {
    "duration": 18,
    "start_time": "2023-08-03T05:57:02.701Z"
   },
   {
    "duration": 82,
    "start_time": "2023-08-03T05:57:02.720Z"
   },
   {
    "duration": 127,
    "start_time": "2023-08-03T05:57:02.804Z"
   },
   {
    "duration": 56,
    "start_time": "2023-08-03T05:57:02.932Z"
   },
   {
    "duration": 158,
    "start_time": "2023-08-03T05:57:02.990Z"
   },
   {
    "duration": 53,
    "start_time": "2023-08-03T05:57:03.150Z"
   },
   {
    "duration": 6,
    "start_time": "2023-08-03T05:57:03.205Z"
   },
   {
    "duration": 61829,
    "start_time": "2023-08-03T05:57:03.214Z"
   },
   {
    "duration": 43269,
    "start_time": "2023-08-03T05:58:05.045Z"
   },
   {
    "duration": 7,
    "start_time": "2023-08-03T05:58:48.316Z"
   },
   {
    "duration": 30644,
    "start_time": "2023-08-03T05:58:48.325Z"
   },
   {
    "duration": 288,
    "start_time": "2023-08-03T05:59:18.972Z"
   },
   {
    "duration": 10,
    "start_time": "2023-08-03T05:59:19.264Z"
   },
   {
    "duration": 214,
    "start_time": "2023-08-03T05:59:19.277Z"
   },
   {
    "duration": 1077,
    "start_time": "2023-08-03T05:59:19.492Z"
   },
   {
    "duration": 343,
    "start_time": "2023-08-03T05:59:20.571Z"
   },
   {
    "duration": 18,
    "start_time": "2023-08-03T05:59:20.917Z"
   },
   {
    "duration": 21,
    "start_time": "2023-08-03T05:59:20.938Z"
   },
   {
    "duration": 139,
    "start_time": "2023-08-03T05:59:20.960Z"
   },
   {
    "duration": 187191,
    "start_time": "2023-08-03T05:59:21.101Z"
   },
   {
    "duration": 946,
    "start_time": "2023-08-03T06:02:28.294Z"
   },
   {
    "duration": 14,
    "start_time": "2023-08-03T06:02:29.242Z"
   },
   {
    "duration": 198,
    "start_time": "2023-08-03T06:02:29.259Z"
   },
   {
    "duration": 967588,
    "start_time": "2023-08-03T06:02:29.459Z"
   },
   {
    "duration": 133,
    "start_time": "2023-08-03T06:18:37.049Z"
   },
   {
    "duration": 1729,
    "start_time": "2023-08-03T06:19:00.263Z"
   },
   {
    "duration": 1003,
    "start_time": "2023-08-03T06:19:01.994Z"
   },
   {
    "duration": 5,
    "start_time": "2023-08-03T06:19:02.999Z"
   },
   {
    "duration": 1541,
    "start_time": "2023-08-03T06:19:03.007Z"
   },
   {
    "duration": 1007,
    "start_time": "2023-08-03T06:19:04.558Z"
   },
   {
    "duration": 15,
    "start_time": "2023-08-03T06:19:05.570Z"
   },
   {
    "duration": 26,
    "start_time": "2023-08-03T06:19:05.587Z"
   },
   {
    "duration": 12,
    "start_time": "2023-08-03T06:19:05.615Z"
   },
   {
    "duration": 38,
    "start_time": "2023-08-03T06:19:05.629Z"
   },
   {
    "duration": 15,
    "start_time": "2023-08-03T06:19:05.671Z"
   },
   {
    "duration": 192,
    "start_time": "2023-08-03T06:19:05.689Z"
   },
   {
    "duration": 205,
    "start_time": "2023-08-03T06:19:05.883Z"
   },
   {
    "duration": 19,
    "start_time": "2023-08-03T06:19:06.090Z"
   },
   {
    "duration": 90,
    "start_time": "2023-08-03T06:19:06.111Z"
   },
   {
    "duration": 548,
    "start_time": "2023-08-03T06:19:06.202Z"
   },
   {
    "duration": 590,
    "start_time": "2023-08-03T06:19:06.751Z"
   },
   {
    "duration": 560,
    "start_time": "2023-08-03T06:19:07.346Z"
   },
   {
    "duration": 8,
    "start_time": "2023-08-03T06:19:07.908Z"
   },
   {
    "duration": 72,
    "start_time": "2023-08-03T06:19:07.918Z"
   },
   {
    "duration": 7,
    "start_time": "2023-08-03T06:19:07.991Z"
   },
   {
    "duration": 12,
    "start_time": "2023-08-03T06:19:08.000Z"
   },
   {
    "duration": 48,
    "start_time": "2023-08-03T06:19:08.014Z"
   },
   {
    "duration": 181,
    "start_time": "2023-08-03T06:19:08.064Z"
   },
   {
    "duration": 24,
    "start_time": "2023-08-03T06:19:08.247Z"
   },
   {
    "duration": 20,
    "start_time": "2023-08-03T06:19:08.278Z"
   },
   {
    "duration": 10,
    "start_time": "2023-08-03T06:19:08.301Z"
   },
   {
    "duration": 28,
    "start_time": "2023-08-03T06:19:08.313Z"
   },
   {
    "duration": 601,
    "start_time": "2023-08-03T06:19:08.357Z"
   },
   {
    "duration": 83,
    "start_time": "2023-08-03T06:19:08.969Z"
   },
   {
    "duration": 43,
    "start_time": "2023-08-03T06:19:09.055Z"
   },
   {
    "duration": 350,
    "start_time": "2023-08-03T06:19:09.101Z"
   },
   {
    "duration": 25,
    "start_time": "2023-08-03T06:19:09.453Z"
   },
   {
    "duration": 253,
    "start_time": "2023-08-03T06:19:09.484Z"
   },
   {
    "duration": 31,
    "start_time": "2023-08-03T06:19:09.739Z"
   },
   {
    "duration": 65,
    "start_time": "2023-08-03T06:19:09.777Z"
   },
   {
    "duration": 81,
    "start_time": "2023-08-03T06:19:09.845Z"
   },
   {
    "duration": 93,
    "start_time": "2023-08-03T06:19:09.928Z"
   },
   {
    "duration": 136,
    "start_time": "2023-08-03T06:19:10.023Z"
   },
   {
    "duration": 51,
    "start_time": "2023-08-03T06:19:10.162Z"
   },
   {
    "duration": 7,
    "start_time": "2023-08-03T06:19:10.215Z"
   },
   {
    "duration": 62797,
    "start_time": "2023-08-03T06:19:10.224Z"
   },
   {
    "duration": 49960,
    "start_time": "2023-08-03T06:20:13.022Z"
   },
   {
    "duration": 7,
    "start_time": "2023-08-03T06:21:02.989Z"
   },
   {
    "duration": 54267,
    "start_time": "2023-08-03T06:21:02.997Z"
   },
   {
    "duration": 296,
    "start_time": "2023-08-03T06:21:57.267Z"
   },
   {
    "duration": 11,
    "start_time": "2023-08-03T06:21:57.568Z"
   },
   {
    "duration": 146,
    "start_time": "2023-08-03T06:21:57.661Z"
   },
   {
    "duration": 1215,
    "start_time": "2023-08-03T06:21:57.809Z"
   },
   {
    "duration": 445,
    "start_time": "2023-08-03T06:21:59.026Z"
   },
   {
    "duration": 20,
    "start_time": "2023-08-03T06:21:59.476Z"
   },
   {
    "duration": 6,
    "start_time": "2023-08-03T06:21:59.499Z"
   },
   {
    "duration": 134,
    "start_time": "2023-08-03T06:21:59.507Z"
   },
   {
    "duration": 198509,
    "start_time": "2023-08-03T06:21:59.643Z"
   },
   {
    "duration": 1095,
    "start_time": "2023-08-03T06:25:18.154Z"
   },
   {
    "duration": 15,
    "start_time": "2023-08-03T06:25:19.251Z"
   },
   {
    "duration": 262,
    "start_time": "2023-08-03T06:25:19.268Z"
   },
   {
    "duration": 0,
    "start_time": "2023-08-03T06:32:14.359Z"
   },
   {
    "duration": 0,
    "start_time": "2023-08-03T06:32:14.360Z"
   },
   {
    "duration": 0,
    "start_time": "2023-08-03T06:32:14.367Z"
   },
   {
    "duration": 1,
    "start_time": "2023-08-03T06:32:14.368Z"
   },
   {
    "duration": 0,
    "start_time": "2023-08-03T06:32:14.370Z"
   },
   {
    "duration": 0,
    "start_time": "2023-08-03T06:32:14.371Z"
   },
   {
    "duration": 0,
    "start_time": "2023-08-03T06:32:14.373Z"
   },
   {
    "duration": 0,
    "start_time": "2023-08-03T06:32:14.374Z"
   },
   {
    "duration": 0,
    "start_time": "2023-08-03T06:32:14.376Z"
   },
   {
    "duration": 1,
    "start_time": "2023-08-03T06:32:14.377Z"
   },
   {
    "duration": 0,
    "start_time": "2023-08-03T06:32:14.379Z"
   },
   {
    "duration": 0,
    "start_time": "2023-08-03T06:32:14.383Z"
   },
   {
    "duration": 0,
    "start_time": "2023-08-03T06:32:14.384Z"
   },
   {
    "duration": 0,
    "start_time": "2023-08-03T06:32:14.386Z"
   },
   {
    "duration": 0,
    "start_time": "2023-08-03T06:32:14.388Z"
   },
   {
    "duration": 0,
    "start_time": "2023-08-03T06:32:14.389Z"
   },
   {
    "duration": 0,
    "start_time": "2023-08-03T06:32:14.390Z"
   },
   {
    "duration": 0,
    "start_time": "2023-08-03T06:32:14.391Z"
   },
   {
    "duration": 0,
    "start_time": "2023-08-03T06:32:14.395Z"
   },
   {
    "duration": 0,
    "start_time": "2023-08-03T06:32:14.397Z"
   },
   {
    "duration": 0,
    "start_time": "2023-08-03T06:32:14.398Z"
   },
   {
    "duration": 0,
    "start_time": "2023-08-03T06:32:14.399Z"
   },
   {
    "duration": 0,
    "start_time": "2023-08-03T06:32:14.401Z"
   },
   {
    "duration": 0,
    "start_time": "2023-08-03T06:32:14.402Z"
   },
   {
    "duration": 0,
    "start_time": "2023-08-03T06:32:14.403Z"
   },
   {
    "duration": 0,
    "start_time": "2023-08-03T06:32:14.406Z"
   },
   {
    "duration": 0,
    "start_time": "2023-08-03T06:32:14.407Z"
   },
   {
    "duration": 0,
    "start_time": "2023-08-03T06:32:14.409Z"
   },
   {
    "duration": 0,
    "start_time": "2023-08-03T06:32:14.411Z"
   },
   {
    "duration": 0,
    "start_time": "2023-08-03T06:32:14.413Z"
   },
   {
    "duration": 0,
    "start_time": "2023-08-03T06:32:14.414Z"
   },
   {
    "duration": 0,
    "start_time": "2023-08-03T06:32:14.416Z"
   },
   {
    "duration": 0,
    "start_time": "2023-08-03T06:32:14.417Z"
   },
   {
    "duration": 0,
    "start_time": "2023-08-03T06:32:14.419Z"
   },
   {
    "duration": 0,
    "start_time": "2023-08-03T06:32:14.420Z"
   },
   {
    "duration": 0,
    "start_time": "2023-08-03T06:32:14.456Z"
   },
   {
    "duration": 0,
    "start_time": "2023-08-03T06:32:14.466Z"
   },
   {
    "duration": 0,
    "start_time": "2023-08-03T06:32:14.467Z"
   },
   {
    "duration": 0,
    "start_time": "2023-08-03T06:32:14.468Z"
   },
   {
    "duration": 0,
    "start_time": "2023-08-03T06:32:14.469Z"
   },
   {
    "duration": 0,
    "start_time": "2023-08-03T06:32:14.470Z"
   },
   {
    "duration": 0,
    "start_time": "2023-08-03T06:32:14.471Z"
   },
   {
    "duration": 0,
    "start_time": "2023-08-03T06:32:14.472Z"
   },
   {
    "duration": 0,
    "start_time": "2023-08-03T06:32:14.472Z"
   },
   {
    "duration": 0,
    "start_time": "2023-08-03T06:32:14.473Z"
   },
   {
    "duration": 0,
    "start_time": "2023-08-03T06:32:14.474Z"
   },
   {
    "duration": 0,
    "start_time": "2023-08-03T06:32:14.475Z"
   },
   {
    "duration": 0,
    "start_time": "2023-08-03T06:32:14.478Z"
   },
   {
    "duration": 0,
    "start_time": "2023-08-03T06:32:14.479Z"
   },
   {
    "duration": 0,
    "start_time": "2023-08-03T06:32:14.481Z"
   },
   {
    "duration": 0,
    "start_time": "2023-08-03T06:32:14.482Z"
   },
   {
    "duration": 0,
    "start_time": "2023-08-03T06:32:14.484Z"
   },
   {
    "duration": 0,
    "start_time": "2023-08-03T06:32:14.485Z"
   },
   {
    "duration": 0,
    "start_time": "2023-08-03T06:32:14.487Z"
   },
   {
    "duration": 0,
    "start_time": "2023-08-03T06:32:14.488Z"
   },
   {
    "duration": 6,
    "start_time": "2023-08-03T06:32:23.583Z"
   },
   {
    "duration": 6,
    "start_time": "2023-08-03T06:32:35.285Z"
   },
   {
    "duration": 1201,
    "start_time": "2023-08-03T06:32:35.295Z"
   },
   {
    "duration": 7,
    "start_time": "2023-08-03T06:32:36.498Z"
   },
   {
    "duration": 1784,
    "start_time": "2023-08-03T06:32:36.507Z"
   },
   {
    "duration": 1254,
    "start_time": "2023-08-03T06:32:38.294Z"
   },
   {
    "duration": 21,
    "start_time": "2023-08-03T06:32:39.550Z"
   },
   {
    "duration": 27,
    "start_time": "2023-08-03T06:32:39.578Z"
   },
   {
    "duration": 18,
    "start_time": "2023-08-03T06:32:39.607Z"
   },
   {
    "duration": 34,
    "start_time": "2023-08-03T06:32:39.631Z"
   },
   {
    "duration": 23,
    "start_time": "2023-08-03T06:32:39.670Z"
   },
   {
    "duration": 204,
    "start_time": "2023-08-03T06:32:39.696Z"
   },
   {
    "duration": 211,
    "start_time": "2023-08-03T06:32:39.901Z"
   },
   {
    "duration": 21,
    "start_time": "2023-08-03T06:32:40.114Z"
   },
   {
    "duration": 92,
    "start_time": "2023-08-03T06:32:40.140Z"
   },
   {
    "duration": 504,
    "start_time": "2023-08-03T06:32:40.235Z"
   },
   {
    "duration": 650,
    "start_time": "2023-08-03T06:32:40.741Z"
   },
   {
    "duration": 531,
    "start_time": "2023-08-03T06:32:41.397Z"
   },
   {
    "duration": 11,
    "start_time": "2023-08-03T06:32:41.931Z"
   },
   {
    "duration": 164,
    "start_time": "2023-08-03T06:32:41.945Z"
   },
   {
    "duration": 9,
    "start_time": "2023-08-03T06:32:42.111Z"
   },
   {
    "duration": 23,
    "start_time": "2023-08-03T06:32:42.123Z"
   },
   {
    "duration": 57,
    "start_time": "2023-08-03T06:32:42.149Z"
   },
   {
    "duration": 198,
    "start_time": "2023-08-03T06:32:42.209Z"
   },
   {
    "duration": 14,
    "start_time": "2023-08-03T06:32:42.409Z"
   },
   {
    "duration": 46,
    "start_time": "2023-08-03T06:32:42.425Z"
   },
   {
    "duration": 13,
    "start_time": "2023-08-03T06:32:42.475Z"
   },
   {
    "duration": 35,
    "start_time": "2023-08-03T06:32:42.490Z"
   },
   {
    "duration": 641,
    "start_time": "2023-08-03T06:32:42.528Z"
   },
   {
    "duration": 100,
    "start_time": "2023-08-03T06:32:43.172Z"
   },
   {
    "duration": 24,
    "start_time": "2023-08-03T06:32:43.278Z"
   },
   {
    "duration": 295,
    "start_time": "2023-08-03T06:32:43.310Z"
   },
   {
    "duration": 16,
    "start_time": "2023-08-03T06:32:43.607Z"
   },
   {
    "duration": 304,
    "start_time": "2023-08-03T06:32:43.625Z"
   },
   {
    "duration": 36,
    "start_time": "2023-08-03T06:32:43.931Z"
   },
   {
    "duration": 73,
    "start_time": "2023-08-03T06:32:43.973Z"
   },
   {
    "duration": 86,
    "start_time": "2023-08-03T06:32:44.048Z"
   },
   {
    "duration": 80,
    "start_time": "2023-08-03T06:32:44.137Z"
   },
   {
    "duration": 161,
    "start_time": "2023-08-03T06:32:44.220Z"
   },
   {
    "duration": 50,
    "start_time": "2023-08-03T06:32:44.382Z"
   },
   {
    "duration": 25,
    "start_time": "2023-08-03T06:32:44.434Z"
   },
   {
    "duration": 70162,
    "start_time": "2023-08-03T06:32:44.467Z"
   },
   {
    "duration": 49956,
    "start_time": "2023-08-03T06:33:54.635Z"
   },
   {
    "duration": 7,
    "start_time": "2023-08-03T06:34:44.592Z"
   },
   {
    "duration": 62679,
    "start_time": "2023-08-03T06:34:44.601Z"
   },
   {
    "duration": 393,
    "start_time": "2023-08-03T06:35:47.282Z"
   },
   {
    "duration": 6,
    "start_time": "2023-08-03T06:35:47.688Z"
   },
   {
    "duration": 198,
    "start_time": "2023-08-03T06:35:47.697Z"
   },
   {
    "duration": 1177,
    "start_time": "2023-08-03T06:35:47.897Z"
   },
   {
    "duration": 357,
    "start_time": "2023-08-03T06:35:49.076Z"
   },
   {
    "duration": 34,
    "start_time": "2023-08-03T06:35:49.435Z"
   },
   {
    "duration": 9,
    "start_time": "2023-08-03T06:35:49.470Z"
   },
   {
    "duration": 140,
    "start_time": "2023-08-03T06:35:49.481Z"
   },
   {
    "duration": 191193,
    "start_time": "2023-08-03T06:35:49.623Z"
   },
   {
    "duration": 973,
    "start_time": "2023-08-03T06:39:00.818Z"
   },
   {
    "duration": 5,
    "start_time": "2023-08-03T06:39:01.793Z"
   },
   {
    "duration": 176,
    "start_time": "2023-08-03T06:39:05.686Z"
   },
   {
    "duration": 789152,
    "start_time": "2023-08-03T06:39:07.736Z"
   },
   {
    "duration": 24,
    "start_time": "2023-08-03T06:52:16.890Z"
   },
   {
    "duration": 15,
    "start_time": "2023-08-03T06:52:16.916Z"
   },
   {
    "duration": 31,
    "start_time": "2023-08-03T06:52:19.393Z"
   },
   {
    "duration": 27,
    "start_time": "2023-08-03T06:56:54.082Z"
   },
   {
    "duration": 17556,
    "start_time": "2023-08-03T06:57:27.796Z"
   },
   {
    "duration": 26,
    "start_time": "2023-08-03T06:57:45.365Z"
   },
   {
    "duration": 9,
    "start_time": "2023-08-03T06:57:59.578Z"
   },
   {
    "duration": 11,
    "start_time": "2023-08-03T06:58:06.359Z"
   },
   {
    "duration": 852,
    "start_time": "2023-08-03T06:58:06.372Z"
   },
   {
    "duration": 8,
    "start_time": "2023-08-03T06:58:07.226Z"
   },
   {
    "duration": 1437,
    "start_time": "2023-08-03T06:58:07.236Z"
   },
   {
    "duration": 1083,
    "start_time": "2023-08-03T06:58:08.678Z"
   },
   {
    "duration": 16,
    "start_time": "2023-08-03T06:58:09.766Z"
   },
   {
    "duration": 19,
    "start_time": "2023-08-03T06:58:09.784Z"
   },
   {
    "duration": 12,
    "start_time": "2023-08-03T06:58:09.805Z"
   },
   {
    "duration": 51,
    "start_time": "2023-08-03T06:58:09.819Z"
   },
   {
    "duration": 15,
    "start_time": "2023-08-03T06:58:09.872Z"
   },
   {
    "duration": 175,
    "start_time": "2023-08-03T06:58:09.889Z"
   },
   {
    "duration": 205,
    "start_time": "2023-08-03T06:58:10.072Z"
   },
   {
    "duration": 19,
    "start_time": "2023-08-03T06:58:10.288Z"
   },
   {
    "duration": 65,
    "start_time": "2023-08-03T06:58:10.310Z"
   },
   {
    "duration": 463,
    "start_time": "2023-08-03T06:58:10.381Z"
   },
   {
    "duration": 559,
    "start_time": "2023-08-03T06:58:10.846Z"
   },
   {
    "duration": 499,
    "start_time": "2023-08-03T06:58:11.407Z"
   },
   {
    "duration": 8,
    "start_time": "2023-08-03T06:58:11.908Z"
   },
   {
    "duration": 56,
    "start_time": "2023-08-03T06:58:11.918Z"
   },
   {
    "duration": 17,
    "start_time": "2023-08-03T06:58:11.976Z"
   },
   {
    "duration": 7,
    "start_time": "2023-08-03T06:58:11.995Z"
   },
   {
    "duration": 32,
    "start_time": "2023-08-03T06:58:12.003Z"
   },
   {
    "duration": 202,
    "start_time": "2023-08-03T06:58:12.037Z"
   },
   {
    "duration": 26,
    "start_time": "2023-08-03T06:58:12.241Z"
   },
   {
    "duration": 24,
    "start_time": "2023-08-03T06:58:12.274Z"
   },
   {
    "duration": 11,
    "start_time": "2023-08-03T06:58:12.301Z"
   },
   {
    "duration": 28,
    "start_time": "2023-08-03T06:58:12.315Z"
   },
   {
    "duration": 589,
    "start_time": "2023-08-03T06:58:12.345Z"
   },
   {
    "duration": 81,
    "start_time": "2023-08-03T06:58:12.936Z"
   },
   {
    "duration": 18,
    "start_time": "2023-08-03T06:58:13.018Z"
   },
   {
    "duration": 306,
    "start_time": "2023-08-03T06:58:13.038Z"
   },
   {
    "duration": 36,
    "start_time": "2023-08-03T06:58:13.346Z"
   },
   {
    "duration": 268,
    "start_time": "2023-08-03T06:58:13.390Z"
   },
   {
    "duration": 27,
    "start_time": "2023-08-03T06:58:13.664Z"
   },
   {
    "duration": 66,
    "start_time": "2023-08-03T06:58:13.693Z"
   },
   {
    "duration": 109,
    "start_time": "2023-08-03T06:58:13.761Z"
   },
   {
    "duration": 57,
    "start_time": "2023-08-03T06:58:13.871Z"
   },
   {
    "duration": 127,
    "start_time": "2023-08-03T06:58:26.710Z"
   },
   {
    "duration": 34,
    "start_time": "2023-08-03T06:58:30.193Z"
   },
   {
    "duration": 8,
    "start_time": "2023-08-03T06:58:33.110Z"
   },
   {
    "duration": 66548,
    "start_time": "2023-08-03T06:58:34.799Z"
   },
   {
    "duration": 51300,
    "start_time": "2023-08-03T07:00:16.986Z"
   },
   {
    "duration": 7,
    "start_time": "2023-08-03T07:02:03.517Z"
   },
   {
    "duration": 73781,
    "start_time": "2023-08-03T07:02:05.421Z"
   },
   {
    "duration": 263,
    "start_time": "2023-08-03T07:03:19.206Z"
   },
   {
    "duration": 8,
    "start_time": "2023-08-03T07:03:19.471Z"
   },
   {
    "duration": 176,
    "start_time": "2023-08-03T07:03:54.314Z"
   },
   {
    "duration": 1173,
    "start_time": "2023-08-03T07:03:55.925Z"
   },
   {
    "duration": 340,
    "start_time": "2023-08-03T07:04:01.489Z"
   },
   {
    "duration": 15,
    "start_time": "2023-08-03T07:04:04.384Z"
   },
   {
    "duration": 5,
    "start_time": "2023-08-03T07:04:04.887Z"
   },
   {
    "duration": 138,
    "start_time": "2023-08-03T07:04:07.539Z"
   },
   {
    "duration": 196221,
    "start_time": "2023-08-03T07:04:09.273Z"
   },
   {
    "duration": 880,
    "start_time": "2023-08-03T07:07:32.499Z"
   },
   {
    "duration": 7,
    "start_time": "2023-08-03T07:07:33.985Z"
   },
   {
    "duration": 175,
    "start_time": "2023-08-03T07:07:36.377Z"
   },
   {
    "duration": 4,
    "start_time": "2023-08-03T07:12:50.599Z"
   },
   {
    "duration": 3203,
    "start_time": "2023-08-03T07:12:50.607Z"
   },
   {
    "duration": 10,
    "start_time": "2023-08-03T07:12:53.813Z"
   },
   {
    "duration": 1376,
    "start_time": "2023-08-03T07:12:53.826Z"
   },
   {
    "duration": 957,
    "start_time": "2023-08-03T07:12:55.205Z"
   },
   {
    "duration": 16,
    "start_time": "2023-08-03T07:12:56.163Z"
   },
   {
    "duration": 20,
    "start_time": "2023-08-03T07:12:56.182Z"
   },
   {
    "duration": 10,
    "start_time": "2023-08-03T07:12:56.204Z"
   },
   {
    "duration": 44,
    "start_time": "2023-08-03T07:12:56.216Z"
   },
   {
    "duration": 14,
    "start_time": "2023-08-03T07:12:56.262Z"
   },
   {
    "duration": 202,
    "start_time": "2023-08-03T07:12:56.279Z"
   },
   {
    "duration": 195,
    "start_time": "2023-08-03T07:12:56.482Z"
   },
   {
    "duration": 20,
    "start_time": "2023-08-03T07:12:56.679Z"
   },
   {
    "duration": 72,
    "start_time": "2023-08-03T07:12:56.704Z"
   },
   {
    "duration": 446,
    "start_time": "2023-08-03T07:12:56.778Z"
   },
   {
    "duration": 514,
    "start_time": "2023-08-03T07:12:57.227Z"
   },
   {
    "duration": 451,
    "start_time": "2023-08-03T07:12:57.742Z"
   },
   {
    "duration": 8,
    "start_time": "2023-08-03T07:12:58.195Z"
   },
   {
    "duration": 58,
    "start_time": "2023-08-03T07:12:58.205Z"
   },
   {
    "duration": 12,
    "start_time": "2023-08-03T07:12:58.265Z"
   },
   {
    "duration": 5,
    "start_time": "2023-08-03T07:12:58.279Z"
   },
   {
    "duration": 31,
    "start_time": "2023-08-03T07:12:58.286Z"
   },
   {
    "duration": 213,
    "start_time": "2023-08-03T07:12:58.320Z"
   },
   {
    "duration": 10,
    "start_time": "2023-08-03T07:12:58.535Z"
   },
   {
    "duration": 25,
    "start_time": "2023-08-03T07:12:58.558Z"
   },
   {
    "duration": 9,
    "start_time": "2023-08-03T07:12:58.584Z"
   },
   {
    "duration": 23,
    "start_time": "2023-08-03T07:12:58.594Z"
   },
   {
    "duration": 608,
    "start_time": "2023-08-03T07:12:58.619Z"
   },
   {
    "duration": 91,
    "start_time": "2023-08-03T07:12:59.230Z"
   },
   {
    "duration": 57,
    "start_time": "2023-08-03T07:12:59.323Z"
   },
   {
    "duration": 260,
    "start_time": "2023-08-03T07:12:59.382Z"
   },
   {
    "duration": 30,
    "start_time": "2023-08-03T07:12:59.644Z"
   },
   {
    "duration": 291,
    "start_time": "2023-08-03T07:12:59.676Z"
   },
   {
    "duration": 19,
    "start_time": "2023-08-03T07:12:59.969Z"
   },
   {
    "duration": 76,
    "start_time": "2023-08-03T07:12:59.990Z"
   },
   {
    "duration": 73,
    "start_time": "2023-08-03T07:13:00.069Z"
   },
   {
    "duration": 69,
    "start_time": "2023-08-03T07:13:00.144Z"
   },
   {
    "duration": 116,
    "start_time": "2023-08-03T07:13:12.329Z"
   },
   {
    "duration": 31,
    "start_time": "2023-08-03T07:13:57.731Z"
   },
   {
    "duration": 5,
    "start_time": "2023-08-03T07:14:22.869Z"
   },
   {
    "duration": 37,
    "start_time": "2023-08-03T07:14:24.603Z"
   },
   {
    "duration": 14,
    "start_time": "2023-08-03T07:14:28.006Z"
   },
   {
    "duration": 6,
    "start_time": "2023-08-03T07:14:29.574Z"
   },
   {
    "duration": 14516,
    "start_time": "2023-08-03T07:14:30.747Z"
   },
   {
    "duration": 30,
    "start_time": "2023-08-03T07:14:45.266Z"
   },
   {
    "duration": 6,
    "start_time": "2023-08-03T07:17:21.318Z"
   },
   {
    "duration": 739,
    "start_time": "2023-08-03T07:17:21.326Z"
   },
   {
    "duration": 7,
    "start_time": "2023-08-03T07:17:22.068Z"
   },
   {
    "duration": 1283,
    "start_time": "2023-08-03T07:17:22.076Z"
   },
   {
    "duration": 927,
    "start_time": "2023-08-03T07:17:23.362Z"
   },
   {
    "duration": 10,
    "start_time": "2023-08-03T07:17:24.290Z"
   },
   {
    "duration": 34,
    "start_time": "2023-08-03T07:17:24.301Z"
   },
   {
    "duration": 9,
    "start_time": "2023-08-03T07:17:24.336Z"
   },
   {
    "duration": 21,
    "start_time": "2023-08-03T07:17:24.356Z"
   },
   {
    "duration": 20,
    "start_time": "2023-08-03T07:17:24.379Z"
   },
   {
    "duration": 184,
    "start_time": "2023-08-03T07:17:24.402Z"
   },
   {
    "duration": 173,
    "start_time": "2023-08-03T07:17:24.588Z"
   },
   {
    "duration": 20,
    "start_time": "2023-08-03T07:17:24.763Z"
   },
   {
    "duration": 50,
    "start_time": "2023-08-03T07:17:24.786Z"
   },
   {
    "duration": 435,
    "start_time": "2023-08-03T07:17:24.857Z"
   },
   {
    "duration": 459,
    "start_time": "2023-08-03T07:17:25.294Z"
   },
   {
    "duration": 425,
    "start_time": "2023-08-03T07:17:25.758Z"
   },
   {
    "duration": 7,
    "start_time": "2023-08-03T07:17:26.185Z"
   },
   {
    "duration": 56,
    "start_time": "2023-08-03T07:17:26.193Z"
   },
   {
    "duration": 17,
    "start_time": "2023-08-03T07:17:26.250Z"
   },
   {
    "duration": 15,
    "start_time": "2023-08-03T07:17:26.271Z"
   },
   {
    "duration": 44,
    "start_time": "2023-08-03T07:17:26.287Z"
   },
   {
    "duration": 173,
    "start_time": "2023-08-03T07:17:26.333Z"
   },
   {
    "duration": 8,
    "start_time": "2023-08-03T07:17:26.508Z"
   },
   {
    "duration": 35,
    "start_time": "2023-08-03T07:17:26.518Z"
   },
   {
    "duration": 28,
    "start_time": "2023-08-03T07:17:26.554Z"
   },
   {
    "duration": 31,
    "start_time": "2023-08-03T07:17:26.584Z"
   },
   {
    "duration": 515,
    "start_time": "2023-08-03T07:17:26.617Z"
   },
   {
    "duration": 84,
    "start_time": "2023-08-03T07:17:27.133Z"
   },
   {
    "duration": 18,
    "start_time": "2023-08-03T07:17:27.219Z"
   },
   {
    "duration": 306,
    "start_time": "2023-08-03T07:17:27.239Z"
   },
   {
    "duration": 23,
    "start_time": "2023-08-03T07:17:27.548Z"
   },
   {
    "duration": 244,
    "start_time": "2023-08-03T07:17:27.576Z"
   },
   {
    "duration": 18,
    "start_time": "2023-08-03T07:17:27.822Z"
   },
   {
    "duration": 84,
    "start_time": "2023-08-03T07:17:27.842Z"
   },
   {
    "duration": 247,
    "start_time": "2023-08-03T07:17:27.927Z"
   },
   {
    "duration": 59,
    "start_time": "2023-08-03T07:17:28.176Z"
   },
   {
    "duration": 26,
    "start_time": "2023-08-03T07:17:28.238Z"
   },
   {
    "duration": 31,
    "start_time": "2023-08-03T07:17:28.273Z"
   },
   {
    "duration": 14,
    "start_time": "2023-08-03T07:17:28.306Z"
   },
   {
    "duration": 5,
    "start_time": "2023-08-03T07:17:28.325Z"
   },
   {
    "duration": 13389,
    "start_time": "2023-08-03T07:17:32.593Z"
   },
   {
    "duration": 25,
    "start_time": "2023-08-03T07:17:52.018Z"
   },
   {
    "duration": 4,
    "start_time": "2023-08-03T07:18:31.303Z"
   },
   {
    "duration": 792,
    "start_time": "2023-08-03T07:18:31.309Z"
   },
   {
    "duration": 6,
    "start_time": "2023-08-03T07:18:32.103Z"
   },
   {
    "duration": 1295,
    "start_time": "2023-08-03T07:18:32.111Z"
   },
   {
    "duration": 944,
    "start_time": "2023-08-03T07:18:33.408Z"
   },
   {
    "duration": 15,
    "start_time": "2023-08-03T07:18:34.358Z"
   },
   {
    "duration": 25,
    "start_time": "2023-08-03T07:18:34.375Z"
   },
   {
    "duration": 9,
    "start_time": "2023-08-03T07:18:34.402Z"
   },
   {
    "duration": 39,
    "start_time": "2023-08-03T07:18:34.413Z"
   },
   {
    "duration": 15,
    "start_time": "2023-08-03T07:18:34.454Z"
   },
   {
    "duration": 157,
    "start_time": "2023-08-03T07:18:34.474Z"
   },
   {
    "duration": 185,
    "start_time": "2023-08-03T07:18:34.633Z"
   },
   {
    "duration": 18,
    "start_time": "2023-08-03T07:18:34.820Z"
   },
   {
    "duration": 62,
    "start_time": "2023-08-03T07:18:34.841Z"
   },
   {
    "duration": 493,
    "start_time": "2023-08-03T07:18:34.905Z"
   },
   {
    "duration": 448,
    "start_time": "2023-08-03T07:18:35.399Z"
   },
   {
    "duration": 415,
    "start_time": "2023-08-03T07:18:35.848Z"
   },
   {
    "duration": 9,
    "start_time": "2023-08-03T07:18:36.264Z"
   },
   {
    "duration": 52,
    "start_time": "2023-08-03T07:18:36.275Z"
   },
   {
    "duration": 6,
    "start_time": "2023-08-03T07:18:36.329Z"
   },
   {
    "duration": 37,
    "start_time": "2023-08-03T07:18:36.336Z"
   },
   {
    "duration": 42,
    "start_time": "2023-08-03T07:18:36.374Z"
   },
   {
    "duration": 177,
    "start_time": "2023-08-03T07:18:36.419Z"
   },
   {
    "duration": 9,
    "start_time": "2023-08-03T07:18:36.598Z"
   },
   {
    "duration": 20,
    "start_time": "2023-08-03T07:18:36.608Z"
   },
   {
    "duration": 42,
    "start_time": "2023-08-03T07:18:36.630Z"
   },
   {
    "duration": 23,
    "start_time": "2023-08-03T07:18:36.674Z"
   },
   {
    "duration": 508,
    "start_time": "2023-08-03T07:18:36.699Z"
   },
   {
    "duration": 82,
    "start_time": "2023-08-03T07:18:37.210Z"
   },
   {
    "duration": 16,
    "start_time": "2023-08-03T07:18:37.293Z"
   },
   {
    "duration": 283,
    "start_time": "2023-08-03T07:18:37.311Z"
   },
   {
    "duration": 20,
    "start_time": "2023-08-03T07:18:37.596Z"
   },
   {
    "duration": 276,
    "start_time": "2023-08-03T07:18:37.618Z"
   },
   {
    "duration": 16,
    "start_time": "2023-08-03T07:18:37.896Z"
   },
   {
    "duration": 75,
    "start_time": "2023-08-03T07:18:37.914Z"
   },
   {
    "duration": 76,
    "start_time": "2023-08-03T07:18:37.990Z"
   },
   {
    "duration": 55,
    "start_time": "2023-08-03T07:18:38.068Z"
   },
   {
    "duration": 45,
    "start_time": "2023-08-03T07:18:38.126Z"
   },
   {
    "duration": 3,
    "start_time": "2023-08-03T07:18:43.574Z"
   },
   {
    "duration": 36,
    "start_time": "2023-08-03T07:18:44.854Z"
   },
   {
    "duration": 15,
    "start_time": "2023-08-03T07:18:46.610Z"
   },
   {
    "duration": 6,
    "start_time": "2023-08-03T07:18:48.274Z"
   },
   {
    "duration": 13774,
    "start_time": "2023-08-03T07:18:49.398Z"
   },
   {
    "duration": 34,
    "start_time": "2023-08-03T07:19:34.603Z"
   },
   {
    "duration": 16,
    "start_time": "2023-08-03T07:20:09.968Z"
   },
   {
    "duration": 205,
    "start_time": "2023-08-03T07:20:39.774Z"
   },
   {
    "duration": 18,
    "start_time": "2023-08-03T07:20:58.053Z"
   },
   {
    "duration": 5,
    "start_time": "2023-08-03T07:21:50.650Z"
   },
   {
    "duration": 765,
    "start_time": "2023-08-03T07:21:50.658Z"
   },
   {
    "duration": 6,
    "start_time": "2023-08-03T07:21:51.424Z"
   },
   {
    "duration": 1303,
    "start_time": "2023-08-03T07:21:51.432Z"
   },
   {
    "duration": 997,
    "start_time": "2023-08-03T07:21:52.738Z"
   },
   {
    "duration": 26,
    "start_time": "2023-08-03T07:21:53.737Z"
   },
   {
    "duration": 20,
    "start_time": "2023-08-03T07:21:53.765Z"
   },
   {
    "duration": 9,
    "start_time": "2023-08-03T07:21:53.786Z"
   },
   {
    "duration": 33,
    "start_time": "2023-08-03T07:21:53.797Z"
   },
   {
    "duration": 35,
    "start_time": "2023-08-03T07:21:53.832Z"
   },
   {
    "duration": 162,
    "start_time": "2023-08-03T07:21:53.873Z"
   },
   {
    "duration": 185,
    "start_time": "2023-08-03T07:21:54.037Z"
   },
   {
    "duration": 17,
    "start_time": "2023-08-03T07:21:54.224Z"
   },
   {
    "duration": 66,
    "start_time": "2023-08-03T07:21:54.257Z"
   },
   {
    "duration": 461,
    "start_time": "2023-08-03T07:21:54.325Z"
   },
   {
    "duration": 487,
    "start_time": "2023-08-03T07:21:54.788Z"
   },
   {
    "duration": 429,
    "start_time": "2023-08-03T07:21:55.277Z"
   },
   {
    "duration": 8,
    "start_time": "2023-08-03T07:21:55.707Z"
   },
   {
    "duration": 56,
    "start_time": "2023-08-03T07:21:55.716Z"
   },
   {
    "duration": 7,
    "start_time": "2023-08-03T07:21:55.775Z"
   },
   {
    "duration": 6,
    "start_time": "2023-08-03T07:21:55.784Z"
   },
   {
    "duration": 32,
    "start_time": "2023-08-03T07:21:55.792Z"
   },
   {
    "duration": 191,
    "start_time": "2023-08-03T07:21:55.826Z"
   },
   {
    "duration": 9,
    "start_time": "2023-08-03T07:21:56.018Z"
   },
   {
    "duration": 44,
    "start_time": "2023-08-03T07:21:56.029Z"
   },
   {
    "duration": 12,
    "start_time": "2023-08-03T07:21:56.075Z"
   },
   {
    "duration": 24,
    "start_time": "2023-08-03T07:21:56.089Z"
   },
   {
    "duration": 560,
    "start_time": "2023-08-03T07:21:56.115Z"
   },
   {
    "duration": 63,
    "start_time": "2023-08-03T07:21:56.677Z"
   },
   {
    "duration": 40,
    "start_time": "2023-08-03T07:21:56.741Z"
   },
   {
    "duration": 293,
    "start_time": "2023-08-03T07:21:56.784Z"
   },
   {
    "duration": 25,
    "start_time": "2023-08-03T07:21:57.079Z"
   },
   {
    "duration": 333,
    "start_time": "2023-08-03T07:21:57.106Z"
   },
   {
    "duration": 27,
    "start_time": "2023-08-03T07:21:57.442Z"
   },
   {
    "duration": 69,
    "start_time": "2023-08-03T07:21:57.471Z"
   },
   {
    "duration": 93,
    "start_time": "2023-08-03T07:21:57.542Z"
   },
   {
    "duration": 65,
    "start_time": "2023-08-03T07:21:57.637Z"
   },
   {
    "duration": 119,
    "start_time": "2023-08-03T07:22:00.586Z"
   },
   {
    "duration": 53,
    "start_time": "2023-08-03T07:22:02.924Z"
   },
   {
    "duration": 10,
    "start_time": "2023-08-03T07:22:04.467Z"
   },
   {
    "duration": 1632,
    "start_time": "2023-08-03T07:22:28.610Z"
   },
   {
    "duration": 3249,
    "start_time": "2023-08-03T07:22:30.245Z"
   },
   {
    "duration": 6,
    "start_time": "2023-08-03T07:22:33.496Z"
   },
   {
    "duration": 1609,
    "start_time": "2023-08-03T07:22:33.504Z"
   },
   {
    "duration": 1086,
    "start_time": "2023-08-03T07:22:35.115Z"
   },
   {
    "duration": 14,
    "start_time": "2023-08-03T07:22:36.203Z"
   },
   {
    "duration": 43,
    "start_time": "2023-08-03T07:22:36.219Z"
   },
   {
    "duration": 13,
    "start_time": "2023-08-03T07:22:36.268Z"
   },
   {
    "duration": 36,
    "start_time": "2023-08-03T07:22:36.283Z"
   },
   {
    "duration": 19,
    "start_time": "2023-08-03T07:22:36.323Z"
   },
   {
    "duration": 183,
    "start_time": "2023-08-03T07:22:36.344Z"
   },
   {
    "duration": 248,
    "start_time": "2023-08-03T07:22:36.530Z"
   },
   {
    "duration": 24,
    "start_time": "2023-08-03T07:22:36.785Z"
   },
   {
    "duration": 92,
    "start_time": "2023-08-03T07:22:36.811Z"
   },
   {
    "duration": 530,
    "start_time": "2023-08-03T07:22:36.906Z"
   },
   {
    "duration": 573,
    "start_time": "2023-08-03T07:22:37.438Z"
   },
   {
    "duration": 526,
    "start_time": "2023-08-03T07:22:38.013Z"
   },
   {
    "duration": 16,
    "start_time": "2023-08-03T07:22:38.541Z"
   },
   {
    "duration": 56,
    "start_time": "2023-08-03T07:22:38.562Z"
   },
   {
    "duration": 21,
    "start_time": "2023-08-03T07:22:38.620Z"
   },
   {
    "duration": 11,
    "start_time": "2023-08-03T07:22:38.643Z"
   },
   {
    "duration": 50,
    "start_time": "2023-08-03T07:22:38.655Z"
   },
   {
    "duration": 180,
    "start_time": "2023-08-03T07:22:38.706Z"
   },
   {
    "duration": 12,
    "start_time": "2023-08-03T07:22:38.888Z"
   },
   {
    "duration": 22,
    "start_time": "2023-08-03T07:22:38.901Z"
   },
   {
    "duration": 38,
    "start_time": "2023-08-03T07:22:38.925Z"
   },
   {
    "duration": 30,
    "start_time": "2023-08-03T07:22:38.969Z"
   },
   {
    "duration": 613,
    "start_time": "2023-08-03T07:22:39.003Z"
   },
   {
    "duration": 78,
    "start_time": "2023-08-03T07:22:39.618Z"
   },
   {
    "duration": 19,
    "start_time": "2023-08-03T07:22:39.698Z"
   },
   {
    "duration": 294,
    "start_time": "2023-08-03T07:22:39.719Z"
   },
   {
    "duration": 15,
    "start_time": "2023-08-03T07:22:40.015Z"
   },
   {
    "duration": 263,
    "start_time": "2023-08-03T07:22:40.032Z"
   },
   {
    "duration": 17,
    "start_time": "2023-08-03T07:22:40.297Z"
   },
   {
    "duration": 94,
    "start_time": "2023-08-03T07:22:40.316Z"
   },
   {
    "duration": 103,
    "start_time": "2023-08-03T07:22:40.412Z"
   },
   {
    "duration": 70,
    "start_time": "2023-08-03T07:22:40.517Z"
   },
   {
    "duration": 135,
    "start_time": "2023-08-03T07:22:40.589Z"
   },
   {
    "duration": 62,
    "start_time": "2023-08-03T07:22:40.725Z"
   },
   {
    "duration": 8,
    "start_time": "2023-08-03T07:22:40.789Z"
   },
   {
    "duration": 65925,
    "start_time": "2023-08-03T07:22:40.798Z"
   },
   {
    "duration": 49717,
    "start_time": "2023-08-03T07:23:46.725Z"
   },
   {
    "duration": 8,
    "start_time": "2023-08-03T07:24:58.116Z"
   },
   {
    "duration": 48829,
    "start_time": "2023-08-03T07:24:59.132Z"
   },
   {
    "duration": 219,
    "start_time": "2023-08-03T07:25:47.963Z"
   },
   {
    "duration": 75,
    "start_time": "2023-08-03T07:25:48.184Z"
   },
   {
    "duration": 136,
    "start_time": "2023-08-03T07:26:04.958Z"
   },
   {
    "duration": 1132,
    "start_time": "2023-08-03T07:26:05.510Z"
   },
   {
    "duration": 378,
    "start_time": "2023-08-03T07:26:08.686Z"
   },
   {
    "duration": 15,
    "start_time": "2023-08-03T07:26:09.824Z"
   },
   {
    "duration": 9,
    "start_time": "2023-08-03T07:26:10.480Z"
   },
   {
    "duration": 122,
    "start_time": "2023-08-03T07:26:12.014Z"
   },
   {
    "duration": 188284,
    "start_time": "2023-08-03T07:26:12.594Z"
   },
   {
    "duration": 941,
    "start_time": "2023-08-03T07:29:20.882Z"
   },
   {
    "duration": 7,
    "start_time": "2023-08-03T07:29:21.825Z"
   },
   {
    "duration": 186,
    "start_time": "2023-08-03T07:29:27.050Z"
   },
   {
    "duration": 8085,
    "start_time": "2023-08-03T07:35:28.726Z"
   },
   {
    "duration": 16,
    "start_time": "2023-08-03T07:35:36.837Z"
   },
   {
    "duration": 15,
    "start_time": "2023-08-03T07:35:39.392Z"
   },
   {
    "duration": 220040,
    "start_time": "2023-08-03T07:35:44.551Z"
   },
   {
    "duration": 13,
    "start_time": "2023-08-03T07:39:31.223Z"
   },
   {
    "duration": 24,
    "start_time": "2023-08-03T07:39:49.960Z"
   },
   {
    "duration": 3,
    "start_time": "2023-08-03T07:40:20.149Z"
   },
   {
    "duration": 4,
    "start_time": "2023-08-03T07:40:20.789Z"
   },
   {
    "duration": 20,
    "start_time": "2023-08-03T07:40:34.678Z"
   },
   {
    "duration": 1575,
    "start_time": "2023-08-03T07:49:09.953Z"
   },
   {
    "duration": 940,
    "start_time": "2023-08-03T07:49:11.531Z"
   },
   {
    "duration": 6,
    "start_time": "2023-08-03T07:49:12.477Z"
   },
   {
    "duration": 1442,
    "start_time": "2023-08-03T07:49:12.485Z"
   },
   {
    "duration": 947,
    "start_time": "2023-08-03T07:49:13.930Z"
   },
   {
    "duration": 10,
    "start_time": "2023-08-03T07:49:14.878Z"
   },
   {
    "duration": 20,
    "start_time": "2023-08-03T07:49:14.890Z"
   },
   {
    "duration": 11,
    "start_time": "2023-08-03T07:49:14.912Z"
   },
   {
    "duration": 50,
    "start_time": "2023-08-03T07:49:14.925Z"
   },
   {
    "duration": 22,
    "start_time": "2023-08-03T07:49:14.977Z"
   },
   {
    "duration": 370,
    "start_time": "2023-08-03T07:49:15.001Z"
   },
   {
    "duration": 200,
    "start_time": "2023-08-03T07:49:15.373Z"
   },
   {
    "duration": 20,
    "start_time": "2023-08-03T07:49:15.575Z"
   },
   {
    "duration": 91,
    "start_time": "2023-08-03T07:49:15.599Z"
   },
   {
    "duration": 536,
    "start_time": "2023-08-03T07:49:15.692Z"
   },
   {
    "duration": 569,
    "start_time": "2023-08-03T07:49:16.229Z"
   },
   {
    "duration": 504,
    "start_time": "2023-08-03T07:49:16.800Z"
   },
   {
    "duration": 7,
    "start_time": "2023-08-03T07:49:17.305Z"
   },
   {
    "duration": 64,
    "start_time": "2023-08-03T07:49:17.314Z"
   },
   {
    "duration": 22,
    "start_time": "2023-08-03T07:49:17.381Z"
   },
   {
    "duration": 11,
    "start_time": "2023-08-03T07:49:17.405Z"
   },
   {
    "duration": 27,
    "start_time": "2023-08-03T07:49:17.418Z"
   },
   {
    "duration": 182,
    "start_time": "2023-08-03T07:49:17.447Z"
   },
   {
    "duration": 9,
    "start_time": "2023-08-03T07:49:17.630Z"
   },
   {
    "duration": 34,
    "start_time": "2023-08-03T07:49:17.641Z"
   },
   {
    "duration": 11,
    "start_time": "2023-08-03T07:49:17.677Z"
   },
   {
    "duration": 25,
    "start_time": "2023-08-03T07:49:17.690Z"
   },
   {
    "duration": 579,
    "start_time": "2023-08-03T07:49:17.716Z"
   },
   {
    "duration": 76,
    "start_time": "2023-08-03T07:49:18.298Z"
   },
   {
    "duration": 27,
    "start_time": "2023-08-03T07:49:18.376Z"
   },
   {
    "duration": 325,
    "start_time": "2023-08-03T07:49:18.406Z"
   },
   {
    "duration": 33,
    "start_time": "2023-08-03T07:49:18.733Z"
   },
   {
    "duration": 318,
    "start_time": "2023-08-03T07:49:18.771Z"
   },
   {
    "duration": 25,
    "start_time": "2023-08-03T07:49:19.091Z"
   },
   {
    "duration": 110,
    "start_time": "2023-08-03T07:49:19.118Z"
   },
   {
    "duration": 105,
    "start_time": "2023-08-03T07:49:19.232Z"
   },
   {
    "duration": 63,
    "start_time": "2023-08-03T07:49:19.339Z"
   },
   {
    "duration": 34,
    "start_time": "2023-08-03T07:49:22.919Z"
   },
   {
    "duration": 3,
    "start_time": "2023-08-03T07:49:32.890Z"
   },
   {
    "duration": 21,
    "start_time": "2023-08-03T07:49:34.570Z"
   },
   {
    "duration": 13,
    "start_time": "2023-08-03T07:49:40.606Z"
   },
   {
    "duration": 5,
    "start_time": "2023-08-03T07:49:44.628Z"
   },
   {
    "duration": 6655,
    "start_time": "2023-08-03T07:49:46.333Z"
   },
   {
    "duration": 123,
    "start_time": "2023-08-03T07:50:01.470Z"
   },
   {
    "duration": 22,
    "start_time": "2023-08-03T07:50:27.401Z"
   },
   {
    "duration": 21,
    "start_time": "2023-08-03T07:50:49.104Z"
   },
   {
    "duration": 8,
    "start_time": "2023-08-03T07:54:59.762Z"
   },
   {
    "duration": 841,
    "start_time": "2023-08-03T07:54:59.773Z"
   },
   {
    "duration": 6,
    "start_time": "2023-08-03T07:55:00.616Z"
   },
   {
    "duration": 1363,
    "start_time": "2023-08-03T07:55:00.624Z"
   },
   {
    "duration": 1030,
    "start_time": "2023-08-03T07:55:01.989Z"
   },
   {
    "duration": 10,
    "start_time": "2023-08-03T07:55:03.021Z"
   },
   {
    "duration": 43,
    "start_time": "2023-08-03T07:55:03.033Z"
   },
   {
    "duration": 9,
    "start_time": "2023-08-03T07:55:03.078Z"
   },
   {
    "duration": 21,
    "start_time": "2023-08-03T07:55:03.089Z"
   },
   {
    "duration": 12,
    "start_time": "2023-08-03T07:55:03.112Z"
   },
   {
    "duration": 202,
    "start_time": "2023-08-03T07:55:03.125Z"
   },
   {
    "duration": 184,
    "start_time": "2023-08-03T07:55:03.329Z"
   },
   {
    "duration": 17,
    "start_time": "2023-08-03T07:55:03.515Z"
   },
   {
    "duration": 66,
    "start_time": "2023-08-03T07:55:03.536Z"
   },
   {
    "duration": 471,
    "start_time": "2023-08-03T07:55:03.603Z"
   },
   {
    "duration": 508,
    "start_time": "2023-08-03T07:55:04.076Z"
   },
   {
    "duration": 438,
    "start_time": "2023-08-03T07:55:04.586Z"
   },
   {
    "duration": 7,
    "start_time": "2023-08-03T07:55:05.026Z"
   },
   {
    "duration": 56,
    "start_time": "2023-08-03T07:55:05.035Z"
   },
   {
    "duration": 6,
    "start_time": "2023-08-03T07:55:05.093Z"
   },
   {
    "duration": 8,
    "start_time": "2023-08-03T07:55:05.101Z"
   },
   {
    "duration": 47,
    "start_time": "2023-08-03T07:55:05.111Z"
   },
   {
    "duration": 210,
    "start_time": "2023-08-03T07:55:05.160Z"
   },
   {
    "duration": 13,
    "start_time": "2023-08-03T07:55:05.373Z"
   },
   {
    "duration": 18,
    "start_time": "2023-08-03T07:55:05.388Z"
   },
   {
    "duration": 11,
    "start_time": "2023-08-03T07:55:05.408Z"
   },
   {
    "duration": 55,
    "start_time": "2023-08-03T07:55:05.420Z"
   },
   {
    "duration": 595,
    "start_time": "2023-08-03T07:55:05.477Z"
   },
   {
    "duration": 61,
    "start_time": "2023-08-03T07:55:06.078Z"
   },
   {
    "duration": 27,
    "start_time": "2023-08-03T07:55:06.158Z"
   },
   {
    "duration": 294,
    "start_time": "2023-08-03T07:55:06.188Z"
   },
   {
    "duration": 21,
    "start_time": "2023-08-03T07:55:06.483Z"
   },
   {
    "duration": 281,
    "start_time": "2023-08-03T07:55:06.506Z"
   },
   {
    "duration": 17,
    "start_time": "2023-08-03T07:55:06.789Z"
   },
   {
    "duration": 97,
    "start_time": "2023-08-03T07:55:06.807Z"
   },
   {
    "duration": 79,
    "start_time": "2023-08-03T07:55:06.906Z"
   },
   {
    "duration": 84,
    "start_time": "2023-08-03T07:55:06.987Z"
   },
   {
    "duration": 13,
    "start_time": "2023-08-03T07:55:11.098Z"
   },
   {
    "duration": 23,
    "start_time": "2023-08-03T07:55:11.569Z"
   },
   {
    "duration": 15,
    "start_time": "2023-08-03T07:55:13.619Z"
   },
   {
    "duration": 6,
    "start_time": "2023-08-03T07:55:15.547Z"
   },
   {
    "duration": 6667,
    "start_time": "2023-08-03T07:55:19.233Z"
   },
   {
    "duration": 7,
    "start_time": "2023-08-03T07:55:30.726Z"
   },
   {
    "duration": 14,
    "start_time": "2023-08-03T07:55:34.372Z"
   },
   {
    "duration": 24,
    "start_time": "2023-08-03T07:55:46.051Z"
   },
   {
    "duration": 22,
    "start_time": "2023-08-03T07:56:11.516Z"
   },
   {
    "duration": 33,
    "start_time": "2023-08-03T07:57:38.447Z"
   },
   {
    "duration": 20,
    "start_time": "2023-08-03T07:57:55.375Z"
   },
   {
    "duration": 19,
    "start_time": "2023-08-03T07:58:34.163Z"
   },
   {
    "duration": 21,
    "start_time": "2023-08-03T07:58:46.651Z"
   },
   {
    "duration": 21,
    "start_time": "2023-08-03T07:58:54.092Z"
   },
   {
    "duration": 11,
    "start_time": "2023-08-03T07:58:55.910Z"
   },
   {
    "duration": 7,
    "start_time": "2023-08-03T07:58:57.540Z"
   },
   {
    "duration": 7155,
    "start_time": "2023-08-03T07:58:59.208Z"
   },
   {
    "duration": 19,
    "start_time": "2023-08-03T07:59:06.365Z"
   },
   {
    "duration": 16,
    "start_time": "2023-08-03T07:59:34.606Z"
   },
   {
    "duration": 19,
    "start_time": "2023-08-03T07:59:49.770Z"
   },
   {
    "duration": 12,
    "start_time": "2023-08-03T07:59:51.590Z"
   },
   {
    "duration": 5,
    "start_time": "2023-08-03T07:59:54.673Z"
   },
   {
    "duration": 20,
    "start_time": "2023-08-03T07:59:58.285Z"
   },
   {
    "duration": 23,
    "start_time": "2023-08-03T08:00:03.999Z"
   },
   {
    "duration": 6,
    "start_time": "2023-08-03T08:00:33.176Z"
   },
   {
    "duration": 860,
    "start_time": "2023-08-03T08:00:33.184Z"
   },
   {
    "duration": 20,
    "start_time": "2023-08-03T08:00:34.046Z"
   },
   {
    "duration": 1359,
    "start_time": "2023-08-03T08:00:34.068Z"
   },
   {
    "duration": 964,
    "start_time": "2023-08-03T08:00:35.429Z"
   },
   {
    "duration": 11,
    "start_time": "2023-08-03T08:00:36.395Z"
   },
   {
    "duration": 18,
    "start_time": "2023-08-03T08:00:36.409Z"
   },
   {
    "duration": 35,
    "start_time": "2023-08-03T08:00:36.429Z"
   },
   {
    "duration": 20,
    "start_time": "2023-08-03T08:00:36.466Z"
   },
   {
    "duration": 9,
    "start_time": "2023-08-03T08:00:36.487Z"
   },
   {
    "duration": 189,
    "start_time": "2023-08-03T08:00:36.497Z"
   },
   {
    "duration": 210,
    "start_time": "2023-08-03T08:00:36.687Z"
   },
   {
    "duration": 18,
    "start_time": "2023-08-03T08:00:36.899Z"
   },
   {
    "duration": 73,
    "start_time": "2023-08-03T08:00:36.919Z"
   },
   {
    "duration": 481,
    "start_time": "2023-08-03T08:00:36.994Z"
   },
   {
    "duration": 532,
    "start_time": "2023-08-03T08:00:37.477Z"
   },
   {
    "duration": 470,
    "start_time": "2023-08-03T08:00:38.011Z"
   },
   {
    "duration": 10,
    "start_time": "2023-08-03T08:00:38.485Z"
   },
   {
    "duration": 66,
    "start_time": "2023-08-03T08:00:38.498Z"
   },
   {
    "duration": 8,
    "start_time": "2023-08-03T08:00:38.569Z"
   },
   {
    "duration": 18,
    "start_time": "2023-08-03T08:00:38.580Z"
   },
   {
    "duration": 25,
    "start_time": "2023-08-03T08:00:38.600Z"
   },
   {
    "duration": 200,
    "start_time": "2023-08-03T08:00:38.627Z"
   },
   {
    "duration": 11,
    "start_time": "2023-08-03T08:00:38.829Z"
   },
   {
    "duration": 30,
    "start_time": "2023-08-03T08:00:38.856Z"
   },
   {
    "duration": 12,
    "start_time": "2023-08-03T08:00:38.888Z"
   },
   {
    "duration": 69,
    "start_time": "2023-08-03T08:00:38.903Z"
   },
   {
    "duration": 618,
    "start_time": "2023-08-03T08:00:38.977Z"
   },
   {
    "duration": 80,
    "start_time": "2023-08-03T08:00:39.597Z"
   },
   {
    "duration": 26,
    "start_time": "2023-08-03T08:00:39.679Z"
   },
   {
    "duration": 276,
    "start_time": "2023-08-03T08:00:39.707Z"
   },
   {
    "duration": 16,
    "start_time": "2023-08-03T08:00:39.985Z"
   },
   {
    "duration": 269,
    "start_time": "2023-08-03T08:00:40.002Z"
   },
   {
    "duration": 21,
    "start_time": "2023-08-03T08:00:40.273Z"
   },
   {
    "duration": 77,
    "start_time": "2023-08-03T08:00:40.296Z"
   },
   {
    "duration": 61,
    "start_time": "2023-08-03T08:00:40.375Z"
   },
   {
    "duration": 64,
    "start_time": "2023-08-03T08:00:40.439Z"
   },
   {
    "duration": 111,
    "start_time": "2023-08-03T08:00:45.735Z"
   },
   {
    "duration": 46,
    "start_time": "2023-08-03T08:00:47.529Z"
   },
   {
    "duration": 13,
    "start_time": "2023-08-03T08:00:48.879Z"
   },
   {
    "duration": 70326,
    "start_time": "2023-08-03T08:00:49.898Z"
   },
   {
    "duration": 48372,
    "start_time": "2023-08-03T08:02:00.226Z"
   },
   {
    "duration": 9,
    "start_time": "2023-08-03T08:03:09.552Z"
   },
   {
    "duration": 50722,
    "start_time": "2023-08-03T08:03:11.047Z"
   },
   {
    "duration": 210,
    "start_time": "2023-08-03T08:04:01.773Z"
   },
   {
    "duration": 10,
    "start_time": "2023-08-03T08:04:02.058Z"
   },
   {
    "duration": 115,
    "start_time": "2023-08-03T08:04:06.074Z"
   },
   {
    "duration": 1013,
    "start_time": "2023-08-03T08:04:06.703Z"
   },
   {
    "duration": 320,
    "start_time": "2023-08-03T08:04:09.756Z"
   },
   {
    "duration": 16,
    "start_time": "2023-08-03T08:04:10.634Z"
   },
   {
    "duration": 4,
    "start_time": "2023-08-03T08:04:11.243Z"
   },
   {
    "duration": 125,
    "start_time": "2023-08-03T08:04:14.185Z"
   },
   {
    "duration": 181988,
    "start_time": "2023-08-03T08:04:15.448Z"
   },
   {
    "duration": 833,
    "start_time": "2023-08-03T08:08:02.709Z"
   },
   {
    "duration": 5,
    "start_time": "2023-08-03T08:08:03.544Z"
   },
   {
    "duration": 165,
    "start_time": "2023-08-03T08:08:06.857Z"
   },
   {
    "duration": 1669,
    "start_time": "2023-08-03T08:15:30.347Z"
   },
   {
    "duration": 5,
    "start_time": "2023-08-03T08:15:41.136Z"
   },
   {
    "duration": 1039,
    "start_time": "2023-08-03T08:15:41.143Z"
   },
   {
    "duration": 6,
    "start_time": "2023-08-03T08:15:42.183Z"
   },
   {
    "duration": 1481,
    "start_time": "2023-08-03T08:15:42.191Z"
   },
   {
    "duration": 944,
    "start_time": "2023-08-03T08:15:43.674Z"
   },
   {
    "duration": 11,
    "start_time": "2023-08-03T08:15:44.620Z"
   },
   {
    "duration": 39,
    "start_time": "2023-08-03T08:15:44.633Z"
   },
   {
    "duration": 10,
    "start_time": "2023-08-03T08:15:44.677Z"
   },
   {
    "duration": 16,
    "start_time": "2023-08-03T08:15:44.691Z"
   },
   {
    "duration": 10,
    "start_time": "2023-08-03T08:15:44.709Z"
   },
   {
    "duration": 204,
    "start_time": "2023-08-03T08:15:44.721Z"
   },
   {
    "duration": 187,
    "start_time": "2023-08-03T08:15:44.928Z"
   },
   {
    "duration": 19,
    "start_time": "2023-08-03T08:15:45.118Z"
   },
   {
    "duration": 84,
    "start_time": "2023-08-03T08:15:45.139Z"
   },
   {
    "duration": 549,
    "start_time": "2023-08-03T08:15:45.225Z"
   },
   {
    "duration": 612,
    "start_time": "2023-08-03T08:15:45.777Z"
   },
   {
    "duration": 505,
    "start_time": "2023-08-03T08:15:46.391Z"
   },
   {
    "duration": 8,
    "start_time": "2023-08-03T08:15:46.897Z"
   },
   {
    "duration": 72,
    "start_time": "2023-08-03T08:15:46.906Z"
   },
   {
    "duration": 7,
    "start_time": "2023-08-03T08:15:46.980Z"
   },
   {
    "duration": 18,
    "start_time": "2023-08-03T08:15:46.989Z"
   },
   {
    "duration": 35,
    "start_time": "2023-08-03T08:15:47.009Z"
   },
   {
    "duration": 221,
    "start_time": "2023-08-03T08:15:47.046Z"
   },
   {
    "duration": 9,
    "start_time": "2023-08-03T08:15:47.276Z"
   },
   {
    "duration": 38,
    "start_time": "2023-08-03T08:15:47.286Z"
   },
   {
    "duration": 12,
    "start_time": "2023-08-03T08:15:47.326Z"
   },
   {
    "duration": 39,
    "start_time": "2023-08-03T08:15:47.340Z"
   },
   {
    "duration": 573,
    "start_time": "2023-08-03T08:15:47.387Z"
   },
   {
    "duration": 66,
    "start_time": "2023-08-03T08:15:47.962Z"
   },
   {
    "duration": 30,
    "start_time": "2023-08-03T08:15:48.030Z"
   },
   {
    "duration": 290,
    "start_time": "2023-08-03T08:15:48.063Z"
   },
   {
    "duration": 27,
    "start_time": "2023-08-03T08:15:48.355Z"
   },
   {
    "duration": 282,
    "start_time": "2023-08-03T08:15:48.385Z"
   },
   {
    "duration": 25,
    "start_time": "2023-08-03T08:15:48.677Z"
   },
   {
    "duration": 70,
    "start_time": "2023-08-03T08:15:48.704Z"
   },
   {
    "duration": 69,
    "start_time": "2023-08-03T08:15:48.776Z"
   },
   {
    "duration": 66,
    "start_time": "2023-08-03T08:15:48.848Z"
   },
   {
    "duration": 182,
    "start_time": "2023-08-03T08:15:48.916Z"
   },
   {
    "duration": 71,
    "start_time": "2023-08-03T08:15:49.100Z"
   },
   {
    "duration": 9,
    "start_time": "2023-08-03T08:15:49.178Z"
   },
   {
    "duration": 67691,
    "start_time": "2023-08-03T08:15:49.189Z"
   },
   {
    "duration": 49800,
    "start_time": "2023-08-03T08:16:56.882Z"
   },
   {
    "duration": 7,
    "start_time": "2023-08-03T08:17:46.684Z"
   },
   {
    "duration": 72691,
    "start_time": "2023-08-03T08:17:46.693Z"
   },
   {
    "duration": 320,
    "start_time": "2023-08-03T08:18:59.458Z"
   },
   {
    "duration": 7,
    "start_time": "2023-08-03T08:18:59.859Z"
   },
   {
    "duration": 132,
    "start_time": "2023-08-03T08:18:59.871Z"
   },
   {
    "duration": 1091,
    "start_time": "2023-08-03T08:19:00.005Z"
   },
   {
    "duration": 379,
    "start_time": "2023-08-03T08:19:01.099Z"
   },
   {
    "duration": 14,
    "start_time": "2023-08-03T08:19:01.480Z"
   },
   {
    "duration": 9,
    "start_time": "2023-08-03T08:19:01.496Z"
   },
   {
    "duration": 187,
    "start_time": "2023-08-03T08:19:01.507Z"
   },
   {
    "duration": 188386,
    "start_time": "2023-08-03T08:19:01.696Z"
   },
   {
    "duration": 817,
    "start_time": "2023-08-03T08:22:10.083Z"
   },
   {
    "duration": 8,
    "start_time": "2023-08-03T08:22:10.902Z"
   },
   {
    "duration": 5,
    "start_time": "2023-08-03T08:24:35.752Z"
   },
   {
    "duration": 182,
    "start_time": "2023-08-03T08:24:37.016Z"
   },
   {
    "duration": 8883,
    "start_time": "2023-08-03T08:29:22.714Z"
   },
   {
    "duration": 168,
    "start_time": "2023-08-03T08:29:31.601Z"
   },
   {
    "duration": 159863,
    "start_time": "2023-08-03T08:29:34.917Z"
   },
   {
    "duration": 484,
    "start_time": "2023-08-03T08:32:21.877Z"
   },
   {
    "duration": 5,
    "start_time": "2023-08-03T08:32:23.217Z"
   },
   {
    "duration": 991423,
    "start_time": "2023-08-03T08:33:10.044Z"
   },
   {
    "duration": 487,
    "start_time": "2023-08-03T08:50:02.100Z"
   },
   {
    "duration": 5,
    "start_time": "2023-08-03T08:50:03.708Z"
   },
   {
    "duration": 534,
    "start_time": "2023-08-03T08:50:19.644Z"
   },
   {
    "duration": 6,
    "start_time": "2023-08-03T08:50:30.067Z"
   },
   {
    "duration": 7,
    "start_time": "2023-08-03T08:50:30.569Z"
   },
   {
    "duration": 20,
    "start_time": "2023-08-03T08:51:14.189Z"
   },
   {
    "duration": 23,
    "start_time": "2023-08-03T08:51:23.514Z"
   },
   {
    "duration": 30,
    "start_time": "2023-08-03T08:51:29.184Z"
   },
   {
    "duration": 12,
    "start_time": "2023-08-03T08:58:20.496Z"
   },
   {
    "duration": 4,
    "start_time": "2023-08-03T09:01:12.277Z"
   },
   {
    "duration": 16,
    "start_time": "2023-08-03T09:01:15.924Z"
   },
   {
    "duration": 5,
    "start_time": "2023-08-03T09:01:29.204Z"
   },
   {
    "duration": 20,
    "start_time": "2023-08-03T09:02:34.618Z"
   },
   {
    "duration": 4,
    "start_time": "2023-08-03T09:02:58.284Z"
   },
   {
    "duration": 20,
    "start_time": "2023-08-03T09:03:00.256Z"
   },
   {
    "duration": 5,
    "start_time": "2023-08-03T09:03:22.722Z"
   },
   {
    "duration": 5453,
    "start_time": "2023-08-03T09:03:24.745Z"
   },
   {
    "duration": 5,
    "start_time": "2023-08-03T09:28:33.947Z"
   },
   {
    "duration": 1049,
    "start_time": "2023-08-03T09:28:33.954Z"
   },
   {
    "duration": 6,
    "start_time": "2023-08-03T09:28:35.006Z"
   },
   {
    "duration": 1521,
    "start_time": "2023-08-03T09:28:35.013Z"
   },
   {
    "duration": 1972,
    "start_time": "2023-08-03T09:28:36.537Z"
   },
   {
    "duration": 58,
    "start_time": "2023-08-03T09:28:38.511Z"
   },
   {
    "duration": 42,
    "start_time": "2023-08-03T09:28:38.571Z"
   },
   {
    "duration": 48,
    "start_time": "2023-08-03T09:28:38.615Z"
   },
   {
    "duration": 28,
    "start_time": "2023-08-03T09:28:38.664Z"
   },
   {
    "duration": 84,
    "start_time": "2023-08-03T09:28:38.694Z"
   },
   {
    "duration": 482,
    "start_time": "2023-08-03T09:28:38.791Z"
   },
   {
    "duration": 492,
    "start_time": "2023-08-03T09:28:39.275Z"
   },
   {
    "duration": 29,
    "start_time": "2023-08-03T09:28:39.770Z"
   },
   {
    "duration": 196,
    "start_time": "2023-08-03T09:28:39.802Z"
   },
   {
    "duration": 1307,
    "start_time": "2023-08-03T09:28:40.001Z"
   },
   {
    "duration": 1105,
    "start_time": "2023-08-03T09:28:41.310Z"
   },
   {
    "duration": 519,
    "start_time": "2023-08-03T09:28:42.417Z"
   },
   {
    "duration": 8,
    "start_time": "2023-08-03T09:28:42.938Z"
   },
   {
    "duration": 58,
    "start_time": "2023-08-03T09:28:42.947Z"
   },
   {
    "duration": 5,
    "start_time": "2023-08-03T09:28:43.007Z"
   },
   {
    "duration": 6,
    "start_time": "2023-08-03T09:28:43.014Z"
   },
   {
    "duration": 39,
    "start_time": "2023-08-03T09:28:43.021Z"
   },
   {
    "duration": 218,
    "start_time": "2023-08-03T09:28:43.061Z"
   },
   {
    "duration": 13,
    "start_time": "2023-08-03T09:28:43.286Z"
   },
   {
    "duration": 21,
    "start_time": "2023-08-03T09:28:43.301Z"
   },
   {
    "duration": 9,
    "start_time": "2023-08-03T09:28:43.324Z"
   },
   {
    "duration": 64,
    "start_time": "2023-08-03T09:28:43.335Z"
   },
   {
    "duration": 628,
    "start_time": "2023-08-03T09:28:43.404Z"
   },
   {
    "duration": 96,
    "start_time": "2023-08-03T09:28:44.038Z"
   },
   {
    "duration": 39,
    "start_time": "2023-08-03T09:28:44.136Z"
   },
   {
    "duration": 323,
    "start_time": "2023-08-03T09:28:44.177Z"
   },
   {
    "duration": 17,
    "start_time": "2023-08-03T09:28:44.502Z"
   },
   {
    "duration": 326,
    "start_time": "2023-08-03T09:28:44.521Z"
   },
   {
    "duration": 30,
    "start_time": "2023-08-03T09:28:44.849Z"
   },
   {
    "duration": 127,
    "start_time": "2023-08-03T09:28:44.885Z"
   },
   {
    "duration": 132,
    "start_time": "2023-08-03T09:28:45.014Z"
   },
   {
    "duration": 75,
    "start_time": "2023-08-03T09:28:45.149Z"
   },
   {
    "duration": 170,
    "start_time": "2023-08-03T09:28:45.226Z"
   },
   {
    "duration": 35,
    "start_time": "2023-08-03T09:28:45.404Z"
   },
   {
    "duration": 7,
    "start_time": "2023-08-03T09:28:45.441Z"
   },
   {
    "duration": 1380,
    "start_time": "2023-08-04T08:05:08.688Z"
   },
   {
    "duration": 927,
    "start_time": "2023-08-04T08:05:10.070Z"
   },
   {
    "duration": 5,
    "start_time": "2023-08-04T08:05:10.998Z"
   },
   {
    "duration": 1082,
    "start_time": "2023-08-04T08:05:11.005Z"
   },
   {
    "duration": 776,
    "start_time": "2023-08-04T08:05:12.089Z"
   },
   {
    "duration": 9,
    "start_time": "2023-08-04T08:05:12.866Z"
   },
   {
    "duration": 15,
    "start_time": "2023-08-04T08:05:12.877Z"
   },
   {
    "duration": 28,
    "start_time": "2023-08-04T08:05:12.893Z"
   },
   {
    "duration": 14,
    "start_time": "2023-08-04T08:05:12.922Z"
   },
   {
    "duration": 33,
    "start_time": "2023-08-04T08:05:12.939Z"
   },
   {
    "duration": 8,
    "start_time": "2023-08-04T08:05:12.974Z"
   },
   {
    "duration": 214,
    "start_time": "2023-08-04T08:05:12.983Z"
   },
   {
    "duration": 144,
    "start_time": "2023-08-04T08:05:13.198Z"
   },
   {
    "duration": 13,
    "start_time": "2023-08-04T08:05:13.343Z"
   },
   {
    "duration": 68,
    "start_time": "2023-08-04T08:05:13.357Z"
   },
   {
    "duration": 382,
    "start_time": "2023-08-04T08:05:13.427Z"
   },
   {
    "duration": 384,
    "start_time": "2023-08-04T08:05:13.811Z"
   },
   {
    "duration": 351,
    "start_time": "2023-08-04T08:05:14.197Z"
   },
   {
    "duration": 7,
    "start_time": "2023-08-04T08:05:14.550Z"
   },
   {
    "duration": 58,
    "start_time": "2023-08-04T08:05:14.558Z"
   },
   {
    "duration": 7,
    "start_time": "2023-08-04T08:05:14.618Z"
   },
   {
    "duration": 31,
    "start_time": "2023-08-04T08:05:14.626Z"
   },
   {
    "duration": 216,
    "start_time": "2023-08-04T08:05:14.659Z"
   },
   {
    "duration": 5,
    "start_time": "2023-08-04T08:05:14.876Z"
   },
   {
    "duration": 38,
    "start_time": "2023-08-04T08:05:14.882Z"
   },
   {
    "duration": 150,
    "start_time": "2023-08-04T08:05:14.922Z"
   },
   {
    "duration": 8,
    "start_time": "2023-08-04T08:05:15.074Z"
   },
   {
    "duration": 26,
    "start_time": "2023-08-04T08:05:15.086Z"
   },
   {
    "duration": 18,
    "start_time": "2023-08-04T08:05:15.113Z"
   },
   {
    "duration": 24,
    "start_time": "2023-08-04T08:05:15.133Z"
   },
   {
    "duration": 438,
    "start_time": "2023-08-04T08:05:15.159Z"
   },
   {
    "duration": 62,
    "start_time": "2023-08-04T08:05:15.598Z"
   },
   {
    "duration": 14,
    "start_time": "2023-08-04T08:05:15.662Z"
   },
   {
    "duration": 252,
    "start_time": "2023-08-04T08:05:15.678Z"
   },
   {
    "duration": 15,
    "start_time": "2023-08-04T08:05:15.931Z"
   },
   {
    "duration": 230,
    "start_time": "2023-08-04T08:05:15.947Z"
   },
   {
    "duration": 17,
    "start_time": "2023-08-04T08:05:16.178Z"
   },
   {
    "duration": 77,
    "start_time": "2023-08-04T08:05:16.197Z"
   },
   {
    "duration": 65,
    "start_time": "2023-08-04T08:05:16.275Z"
   },
   {
    "duration": 50,
    "start_time": "2023-08-04T08:05:16.341Z"
   },
   {
    "duration": 66,
    "start_time": "2023-08-04T08:05:16.393Z"
   },
   {
    "duration": 38,
    "start_time": "2023-08-04T08:05:16.460Z"
   },
   {
    "duration": 21,
    "start_time": "2023-08-04T08:05:16.499Z"
   },
   {
    "duration": 1846,
    "start_time": "2023-08-05T12:18:31.679Z"
   },
   {
    "duration": 2978,
    "start_time": "2023-08-05T12:18:33.527Z"
   },
   {
    "duration": 6,
    "start_time": "2023-08-05T12:18:36.507Z"
   },
   {
    "duration": 1334,
    "start_time": "2023-08-05T12:18:36.515Z"
   },
   {
    "duration": 859,
    "start_time": "2023-08-05T12:18:37.851Z"
   },
   {
    "duration": 9,
    "start_time": "2023-08-05T12:18:38.712Z"
   },
   {
    "duration": 17,
    "start_time": "2023-08-05T12:18:38.723Z"
   },
   {
    "duration": 33,
    "start_time": "2023-08-05T12:18:38.742Z"
   },
   {
    "duration": 19,
    "start_time": "2023-08-05T12:18:38.777Z"
   },
   {
    "duration": 45,
    "start_time": "2023-08-05T12:18:38.797Z"
   },
   {
    "duration": 31,
    "start_time": "2023-08-05T12:18:38.844Z"
   },
   {
    "duration": 182,
    "start_time": "2023-08-05T12:18:38.877Z"
   },
   {
    "duration": 187,
    "start_time": "2023-08-05T12:18:39.061Z"
   },
   {
    "duration": 29,
    "start_time": "2023-08-05T12:18:39.251Z"
   },
   {
    "duration": 63,
    "start_time": "2023-08-05T12:18:39.282Z"
   },
   {
    "duration": 467,
    "start_time": "2023-08-05T12:18:39.347Z"
   },
   {
    "duration": 511,
    "start_time": "2023-08-05T12:18:39.816Z"
   },
   {
    "duration": 458,
    "start_time": "2023-08-05T12:18:40.329Z"
   },
   {
    "duration": 7,
    "start_time": "2023-08-05T12:18:40.789Z"
   },
   {
    "duration": 50,
    "start_time": "2023-08-05T12:18:40.798Z"
   },
   {
    "duration": 24,
    "start_time": "2023-08-05T12:18:40.850Z"
   },
   {
    "duration": 6,
    "start_time": "2023-08-05T12:18:40.876Z"
   },
   {
    "duration": 277,
    "start_time": "2023-08-05T12:18:40.884Z"
   },
   {
    "duration": 9,
    "start_time": "2023-08-05T12:18:41.166Z"
   },
   {
    "duration": 26,
    "start_time": "2023-08-05T12:18:41.177Z"
   },
   {
    "duration": 202,
    "start_time": "2023-08-05T12:18:41.205Z"
   },
   {
    "duration": 9,
    "start_time": "2023-08-05T12:18:41.409Z"
   },
   {
    "duration": 17,
    "start_time": "2023-08-05T12:18:41.420Z"
   },
   {
    "duration": 31,
    "start_time": "2023-08-05T12:18:41.439Z"
   },
   {
    "duration": 46,
    "start_time": "2023-08-05T12:18:41.472Z"
   },
   {
    "duration": 593,
    "start_time": "2023-08-05T12:18:41.519Z"
   },
   {
    "duration": 66,
    "start_time": "2023-08-05T12:18:42.114Z"
   },
   {
    "duration": 20,
    "start_time": "2023-08-05T12:18:42.182Z"
   },
   {
    "duration": 269,
    "start_time": "2023-08-05T12:18:42.204Z"
   },
   {
    "duration": 15,
    "start_time": "2023-08-05T12:18:42.475Z"
   },
   {
    "duration": 254,
    "start_time": "2023-08-05T12:18:42.491Z"
   },
   {
    "duration": 23,
    "start_time": "2023-08-05T12:18:42.747Z"
   },
   {
    "duration": 59,
    "start_time": "2023-08-05T12:18:42.772Z"
   },
   {
    "duration": 86,
    "start_time": "2023-08-05T12:18:42.832Z"
   },
   {
    "duration": 59,
    "start_time": "2023-08-05T12:18:42.920Z"
   },
   {
    "duration": 58,
    "start_time": "2023-08-05T12:18:42.982Z"
   },
   {
    "duration": 60,
    "start_time": "2023-08-05T12:18:43.041Z"
   },
   {
    "duration": 7,
    "start_time": "2023-08-05T12:18:43.102Z"
   },
   {
    "duration": 5,
    "start_time": "2023-08-05T12:24:53.474Z"
   },
   {
    "duration": 56417,
    "start_time": "2023-08-05T12:26:19.147Z"
   },
   {
    "duration": 128,
    "start_time": "2023-08-05T12:28:55.620Z"
   },
   {
    "duration": 4,
    "start_time": "2023-08-05T12:29:09.260Z"
   },
   {
    "duration": 921,
    "start_time": "2023-08-05T12:29:09.266Z"
   },
   {
    "duration": 6,
    "start_time": "2023-08-05T12:29:10.189Z"
   },
   {
    "duration": 1205,
    "start_time": "2023-08-05T12:29:10.196Z"
   },
   {
    "duration": 896,
    "start_time": "2023-08-05T12:29:11.403Z"
   },
   {
    "duration": 11,
    "start_time": "2023-08-05T12:29:12.301Z"
   },
   {
    "duration": 17,
    "start_time": "2023-08-05T12:29:12.314Z"
   },
   {
    "duration": 35,
    "start_time": "2023-08-05T12:29:12.333Z"
   },
   {
    "duration": 17,
    "start_time": "2023-08-05T12:29:12.370Z"
   },
   {
    "duration": 39,
    "start_time": "2023-08-05T12:29:12.389Z"
   },
   {
    "duration": 10,
    "start_time": "2023-08-05T12:29:12.431Z"
   },
   {
    "duration": 188,
    "start_time": "2023-08-05T12:29:12.443Z"
   },
   {
    "duration": 185,
    "start_time": "2023-08-05T12:29:12.633Z"
   },
   {
    "duration": 18,
    "start_time": "2023-08-05T12:29:12.820Z"
   },
   {
    "duration": 70,
    "start_time": "2023-08-05T12:29:12.840Z"
   },
   {
    "duration": 453,
    "start_time": "2023-08-05T12:29:12.912Z"
   },
   {
    "duration": 452,
    "start_time": "2023-08-05T12:29:13.367Z"
   },
   {
    "duration": 467,
    "start_time": "2023-08-05T12:29:13.821Z"
   },
   {
    "duration": 7,
    "start_time": "2023-08-05T12:29:14.290Z"
   },
   {
    "duration": 37,
    "start_time": "2023-08-05T12:29:14.299Z"
   },
   {
    "duration": 30,
    "start_time": "2023-08-05T12:29:14.338Z"
   },
   {
    "duration": 7,
    "start_time": "2023-08-05T12:29:14.369Z"
   },
   {
    "duration": 281,
    "start_time": "2023-08-05T12:29:14.378Z"
   },
   {
    "duration": 11,
    "start_time": "2023-08-05T12:29:14.661Z"
   },
   {
    "duration": 24,
    "start_time": "2023-08-05T12:29:14.673Z"
   },
   {
    "duration": 202,
    "start_time": "2023-08-05T12:29:14.699Z"
   },
   {
    "duration": 8,
    "start_time": "2023-08-05T12:29:14.903Z"
   },
   {
    "duration": 17,
    "start_time": "2023-08-05T12:29:14.913Z"
   },
   {
    "duration": 9,
    "start_time": "2023-08-05T12:29:14.933Z"
   },
   {
    "duration": 44,
    "start_time": "2023-08-05T12:29:14.943Z"
   },
   {
    "duration": 552,
    "start_time": "2023-08-05T12:29:14.989Z"
   },
   {
    "duration": 66,
    "start_time": "2023-08-05T12:29:15.542Z"
   },
   {
    "duration": 15,
    "start_time": "2023-08-05T12:29:15.611Z"
   },
   {
    "duration": 389,
    "start_time": "2023-08-05T12:29:15.628Z"
   },
   {
    "duration": 16,
    "start_time": "2023-08-05T12:29:16.019Z"
   },
   {
    "duration": 256,
    "start_time": "2023-08-05T12:29:16.037Z"
   },
   {
    "duration": 16,
    "start_time": "2023-08-05T12:29:16.295Z"
   },
   {
    "duration": 66,
    "start_time": "2023-08-05T12:29:16.312Z"
   },
   {
    "duration": 79,
    "start_time": "2023-08-05T12:29:16.379Z"
   },
   {
    "duration": 65,
    "start_time": "2023-08-05T12:29:16.467Z"
   },
   {
    "duration": 59,
    "start_time": "2023-08-05T12:29:16.534Z"
   },
   {
    "duration": 31,
    "start_time": "2023-08-05T12:29:16.595Z"
   },
   {
    "duration": 6,
    "start_time": "2023-08-05T12:29:16.628Z"
   },
   {
    "duration": 6,
    "start_time": "2023-08-05T12:29:31.971Z"
   },
   {
    "duration": 55467,
    "start_time": "2023-08-05T12:29:33.294Z"
   },
   {
    "duration": 114,
    "start_time": "2023-08-05T12:30:28.763Z"
   },
   {
    "duration": 21,
    "start_time": "2023-08-05T12:43:13.242Z"
   },
   {
    "duration": 4,
    "start_time": "2023-08-05T12:43:21.196Z"
   },
   {
    "duration": 867,
    "start_time": "2023-08-05T12:43:21.203Z"
   },
   {
    "duration": 9,
    "start_time": "2023-08-05T12:43:22.073Z"
   },
   {
    "duration": 1307,
    "start_time": "2023-08-05T12:43:22.083Z"
   },
   {
    "duration": 956,
    "start_time": "2023-08-05T12:43:23.392Z"
   },
   {
    "duration": 24,
    "start_time": "2023-08-05T12:43:24.350Z"
   },
   {
    "duration": 22,
    "start_time": "2023-08-05T12:43:24.376Z"
   },
   {
    "duration": 9,
    "start_time": "2023-08-05T12:43:24.399Z"
   },
   {
    "duration": 32,
    "start_time": "2023-08-05T12:43:24.410Z"
   },
   {
    "duration": 62,
    "start_time": "2023-08-05T12:43:24.444Z"
   },
   {
    "duration": 10,
    "start_time": "2023-08-05T12:43:24.509Z"
   },
   {
    "duration": 186,
    "start_time": "2023-08-05T12:43:24.522Z"
   },
   {
    "duration": 216,
    "start_time": "2023-08-05T12:43:24.710Z"
   },
   {
    "duration": 20,
    "start_time": "2023-08-05T12:43:24.928Z"
   },
   {
    "duration": 69,
    "start_time": "2023-08-05T12:43:24.950Z"
   },
   {
    "duration": 459,
    "start_time": "2023-08-05T12:43:25.021Z"
   },
   {
    "duration": 528,
    "start_time": "2023-08-05T12:43:25.482Z"
   },
   {
    "duration": 435,
    "start_time": "2023-08-05T12:43:26.012Z"
   },
   {
    "duration": 18,
    "start_time": "2023-08-05T12:43:26.449Z"
   },
   {
    "duration": 41,
    "start_time": "2023-08-05T12:43:26.469Z"
   },
   {
    "duration": 11,
    "start_time": "2023-08-05T12:43:26.512Z"
   },
   {
    "duration": 8,
    "start_time": "2023-08-05T12:43:26.525Z"
   },
   {
    "duration": 307,
    "start_time": "2023-08-05T12:43:26.535Z"
   },
   {
    "duration": 25,
    "start_time": "2023-08-05T12:43:26.844Z"
   },
   {
    "duration": 30,
    "start_time": "2023-08-05T12:43:26.871Z"
   },
   {
    "duration": 203,
    "start_time": "2023-08-05T12:43:26.903Z"
   },
   {
    "duration": 8,
    "start_time": "2023-08-05T12:43:27.108Z"
   },
   {
    "duration": 22,
    "start_time": "2023-08-05T12:43:27.118Z"
   },
   {
    "duration": 26,
    "start_time": "2023-08-05T12:43:27.144Z"
   },
   {
    "duration": 25,
    "start_time": "2023-08-05T12:43:27.173Z"
   },
   {
    "duration": 694,
    "start_time": "2023-08-05T12:43:27.199Z"
   },
   {
    "duration": 72,
    "start_time": "2023-08-05T12:43:27.895Z"
   },
   {
    "duration": 19,
    "start_time": "2023-08-05T12:43:27.970Z"
   },
   {
    "duration": 271,
    "start_time": "2023-08-05T12:43:27.991Z"
   },
   {
    "duration": 22,
    "start_time": "2023-08-05T12:43:28.264Z"
   },
   {
    "duration": 305,
    "start_time": "2023-08-05T12:43:28.288Z"
   },
   {
    "duration": 19,
    "start_time": "2023-08-05T12:43:28.594Z"
   },
   {
    "duration": 91,
    "start_time": "2023-08-05T12:43:28.615Z"
   },
   {
    "duration": 74,
    "start_time": "2023-08-05T12:43:28.708Z"
   },
   {
    "duration": 58,
    "start_time": "2023-08-05T12:43:28.784Z"
   },
   {
    "duration": 73,
    "start_time": "2023-08-05T12:43:28.844Z"
   },
   {
    "duration": 35,
    "start_time": "2023-08-05T12:43:28.918Z"
   },
   {
    "duration": 17,
    "start_time": "2023-08-05T12:43:28.955Z"
   },
   {
    "duration": 6,
    "start_time": "2023-08-05T12:43:44.377Z"
   },
   {
    "duration": 760,
    "start_time": "2023-08-05T12:43:46.564Z"
   },
   {
    "duration": 825,
    "start_time": "2023-08-05T12:45:52.481Z"
   },
   {
    "duration": 820,
    "start_time": "2023-08-05T12:46:11.355Z"
   },
   {
    "duration": 1641,
    "start_time": "2023-08-05T12:54:48.949Z"
   },
   {
    "duration": 3106,
    "start_time": "2023-08-05T12:54:50.592Z"
   },
   {
    "duration": 6,
    "start_time": "2023-08-05T12:54:53.700Z"
   },
   {
    "duration": 1500,
    "start_time": "2023-08-05T12:54:53.708Z"
   },
   {
    "duration": 904,
    "start_time": "2023-08-05T12:54:55.209Z"
   },
   {
    "duration": 12,
    "start_time": "2023-08-05T12:54:56.115Z"
   },
   {
    "duration": 20,
    "start_time": "2023-08-05T12:54:56.129Z"
   },
   {
    "duration": 25,
    "start_time": "2023-08-05T12:54:56.151Z"
   },
   {
    "duration": 33,
    "start_time": "2023-08-05T12:54:56.178Z"
   },
   {
    "duration": 49,
    "start_time": "2023-08-05T12:54:56.214Z"
   },
   {
    "duration": 12,
    "start_time": "2023-08-05T12:54:56.268Z"
   },
   {
    "duration": 187,
    "start_time": "2023-08-05T12:54:56.282Z"
   },
   {
    "duration": 180,
    "start_time": "2023-08-05T12:54:56.471Z"
   },
   {
    "duration": 28,
    "start_time": "2023-08-05T12:54:56.653Z"
   },
   {
    "duration": 86,
    "start_time": "2023-08-05T12:54:56.683Z"
   },
   {
    "duration": 466,
    "start_time": "2023-08-05T12:54:56.771Z"
   },
   {
    "duration": 492,
    "start_time": "2023-08-05T12:54:57.239Z"
   },
   {
    "duration": 456,
    "start_time": "2023-08-05T12:54:57.733Z"
   },
   {
    "duration": 8,
    "start_time": "2023-08-05T12:54:58.191Z"
   },
   {
    "duration": 51,
    "start_time": "2023-08-05T12:54:58.200Z"
   },
   {
    "duration": 17,
    "start_time": "2023-08-05T12:54:58.253Z"
   },
   {
    "duration": 7,
    "start_time": "2023-08-05T12:54:58.272Z"
   },
   {
    "duration": 281,
    "start_time": "2023-08-05T12:54:58.281Z"
   },
   {
    "duration": 9,
    "start_time": "2023-08-05T12:54:58.566Z"
   },
   {
    "duration": 31,
    "start_time": "2023-08-05T12:54:58.577Z"
   },
   {
    "duration": 200,
    "start_time": "2023-08-05T12:54:58.609Z"
   },
   {
    "duration": 9,
    "start_time": "2023-08-05T12:54:58.810Z"
   },
   {
    "duration": 32,
    "start_time": "2023-08-05T12:54:58.822Z"
   },
   {
    "duration": 20,
    "start_time": "2023-08-05T12:54:58.855Z"
   },
   {
    "duration": 31,
    "start_time": "2023-08-05T12:54:58.877Z"
   },
   {
    "duration": 541,
    "start_time": "2023-08-05T12:54:58.910Z"
   },
   {
    "duration": 67,
    "start_time": "2023-08-05T12:54:59.453Z"
   },
   {
    "duration": 15,
    "start_time": "2023-08-05T12:54:59.522Z"
   },
   {
    "duration": 279,
    "start_time": "2023-08-05T12:54:59.539Z"
   },
   {
    "duration": 16,
    "start_time": "2023-08-05T12:54:59.820Z"
   },
   {
    "duration": 263,
    "start_time": "2023-08-05T12:54:59.838Z"
   },
   {
    "duration": 18,
    "start_time": "2023-08-05T12:55:00.103Z"
   },
   {
    "duration": 70,
    "start_time": "2023-08-05T12:55:00.123Z"
   },
   {
    "duration": 76,
    "start_time": "2023-08-05T12:55:00.195Z"
   },
   {
    "duration": 71,
    "start_time": "2023-08-05T12:55:00.272Z"
   },
   {
    "duration": 79,
    "start_time": "2023-08-05T12:55:00.345Z"
   },
   {
    "duration": 53,
    "start_time": "2023-08-05T12:55:00.426Z"
   },
   {
    "duration": 8,
    "start_time": "2023-08-05T12:55:42.169Z"
   },
   {
    "duration": 55057,
    "start_time": "2023-08-05T12:55:43.519Z"
   },
   {
    "duration": 122,
    "start_time": "2023-08-05T12:56:54.892Z"
   },
   {
    "duration": 6,
    "start_time": "2023-08-05T12:57:37.387Z"
   },
   {
    "duration": 888,
    "start_time": "2023-08-05T12:57:37.396Z"
   },
   {
    "duration": 8,
    "start_time": "2023-08-05T12:57:38.287Z"
   },
   {
    "duration": 1359,
    "start_time": "2023-08-05T12:57:38.297Z"
   },
   {
    "duration": 998,
    "start_time": "2023-08-05T12:57:39.659Z"
   },
   {
    "duration": 13,
    "start_time": "2023-08-05T12:57:40.659Z"
   },
   {
    "duration": 19,
    "start_time": "2023-08-05T12:57:40.674Z"
   },
   {
    "duration": 9,
    "start_time": "2023-08-05T12:57:40.695Z"
   },
   {
    "duration": 20,
    "start_time": "2023-08-05T12:57:40.706Z"
   },
   {
    "duration": 86,
    "start_time": "2023-08-05T12:57:40.728Z"
   },
   {
    "duration": 11,
    "start_time": "2023-08-05T12:57:40.818Z"
   },
   {
    "duration": 184,
    "start_time": "2023-08-05T12:57:40.831Z"
   },
   {
    "duration": 178,
    "start_time": "2023-08-05T12:57:41.017Z"
   },
   {
    "duration": 18,
    "start_time": "2023-08-05T12:57:41.197Z"
   },
   {
    "duration": 65,
    "start_time": "2023-08-05T12:57:41.217Z"
   },
   {
    "duration": 418,
    "start_time": "2023-08-05T12:57:41.284Z"
   },
   {
    "duration": 451,
    "start_time": "2023-08-05T12:57:41.704Z"
   },
   {
    "duration": 440,
    "start_time": "2023-08-05T12:57:42.157Z"
   },
   {
    "duration": 7,
    "start_time": "2023-08-05T12:57:42.599Z"
   },
   {
    "duration": 47,
    "start_time": "2023-08-05T12:57:42.608Z"
   },
   {
    "duration": 18,
    "start_time": "2023-08-05T12:57:42.657Z"
   },
   {
    "duration": 8,
    "start_time": "2023-08-05T12:57:42.676Z"
   },
   {
    "duration": 315,
    "start_time": "2023-08-05T12:57:42.685Z"
   },
   {
    "duration": 9,
    "start_time": "2023-08-05T12:57:43.002Z"
   },
   {
    "duration": 27,
    "start_time": "2023-08-05T12:57:43.012Z"
   },
   {
    "duration": 212,
    "start_time": "2023-08-05T12:57:43.041Z"
   },
   {
    "duration": 17,
    "start_time": "2023-08-05T12:57:43.255Z"
   },
   {
    "duration": 17,
    "start_time": "2023-08-05T12:57:43.273Z"
   },
   {
    "duration": 10,
    "start_time": "2023-08-05T12:57:43.294Z"
   },
   {
    "duration": 23,
    "start_time": "2023-08-05T12:57:43.306Z"
   },
   {
    "duration": 605,
    "start_time": "2023-08-05T12:57:43.330Z"
   },
   {
    "duration": 91,
    "start_time": "2023-08-05T12:57:43.937Z"
   },
   {
    "duration": 36,
    "start_time": "2023-08-05T12:57:44.031Z"
   },
   {
    "duration": 424,
    "start_time": "2023-08-05T12:57:44.070Z"
   },
   {
    "duration": 16,
    "start_time": "2023-08-05T12:57:44.496Z"
   },
   {
    "duration": 288,
    "start_time": "2023-08-05T12:57:44.514Z"
   },
   {
    "duration": 18,
    "start_time": "2023-08-05T12:57:44.804Z"
   },
   {
    "duration": 81,
    "start_time": "2023-08-05T12:57:44.824Z"
   },
   {
    "duration": 73,
    "start_time": "2023-08-05T12:57:44.907Z"
   },
   {
    "duration": 61,
    "start_time": "2023-08-05T12:57:44.983Z"
   },
   {
    "duration": 76,
    "start_time": "2023-08-05T12:57:45.046Z"
   },
   {
    "duration": 52,
    "start_time": "2023-08-05T12:57:45.124Z"
   },
   {
    "duration": 6,
    "start_time": "2023-08-05T12:57:47.528Z"
   },
   {
    "duration": 54225,
    "start_time": "2023-08-05T12:57:49.436Z"
   },
   {
    "duration": 107,
    "start_time": "2023-08-05T13:00:13.361Z"
   },
   {
    "duration": 33421,
    "start_time": "2023-08-05T13:00:37.128Z"
   },
   {
    "duration": 18,
    "start_time": "2023-08-05T13:01:10.551Z"
   },
   {
    "duration": 25404,
    "start_time": "2023-08-05T13:01:10.572Z"
   },
   {
    "duration": 294,
    "start_time": "2023-08-05T13:01:35.978Z"
   },
   {
    "duration": 92,
    "start_time": "2023-08-05T13:01:36.276Z"
   },
   {
    "duration": 5,
    "start_time": "2023-08-05T13:02:29.752Z"
   },
   {
    "duration": 801,
    "start_time": "2023-08-05T13:02:29.759Z"
   },
   {
    "duration": 5,
    "start_time": "2023-08-05T13:02:30.563Z"
   },
   {
    "duration": 1341,
    "start_time": "2023-08-05T13:02:30.570Z"
   },
   {
    "duration": 848,
    "start_time": "2023-08-05T13:02:31.913Z"
   },
   {
    "duration": 10,
    "start_time": "2023-08-05T13:02:32.766Z"
   },
   {
    "duration": 18,
    "start_time": "2023-08-05T13:02:32.777Z"
   },
   {
    "duration": 9,
    "start_time": "2023-08-05T13:02:32.797Z"
   },
   {
    "duration": 18,
    "start_time": "2023-08-05T13:02:32.808Z"
   },
   {
    "duration": 81,
    "start_time": "2023-08-05T13:02:32.828Z"
   },
   {
    "duration": 10,
    "start_time": "2023-08-05T13:02:32.912Z"
   },
   {
    "duration": 181,
    "start_time": "2023-08-05T13:02:32.923Z"
   },
   {
    "duration": 197,
    "start_time": "2023-08-05T13:02:33.106Z"
   },
   {
    "duration": 17,
    "start_time": "2023-08-05T13:02:33.305Z"
   },
   {
    "duration": 65,
    "start_time": "2023-08-05T13:02:33.323Z"
   },
   {
    "duration": 409,
    "start_time": "2023-08-05T13:02:33.391Z"
   },
   {
    "duration": 500,
    "start_time": "2023-08-05T13:02:33.801Z"
   },
   {
    "duration": 418,
    "start_time": "2023-08-05T13:02:34.303Z"
   },
   {
    "duration": 8,
    "start_time": "2023-08-05T13:02:34.723Z"
   },
   {
    "duration": 50,
    "start_time": "2023-08-05T13:02:34.732Z"
   },
   {
    "duration": 11,
    "start_time": "2023-08-05T13:02:34.784Z"
   },
   {
    "duration": 9,
    "start_time": "2023-08-05T13:02:34.797Z"
   },
   {
    "duration": 288,
    "start_time": "2023-08-05T13:02:34.808Z"
   },
   {
    "duration": 8,
    "start_time": "2023-08-05T13:02:35.098Z"
   },
   {
    "duration": 36,
    "start_time": "2023-08-05T13:02:35.107Z"
   },
   {
    "duration": 185,
    "start_time": "2023-08-05T13:02:35.146Z"
   },
   {
    "duration": 8,
    "start_time": "2023-08-05T13:02:35.333Z"
   },
   {
    "duration": 32,
    "start_time": "2023-08-05T13:02:35.343Z"
   },
   {
    "duration": 9,
    "start_time": "2023-08-05T13:02:35.378Z"
   },
   {
    "duration": 23,
    "start_time": "2023-08-05T13:02:35.389Z"
   },
   {
    "duration": 670,
    "start_time": "2023-08-05T13:02:35.414Z"
   },
   {
    "duration": 60,
    "start_time": "2023-08-05T13:02:36.086Z"
   },
   {
    "duration": 30,
    "start_time": "2023-08-05T13:02:36.148Z"
   },
   {
    "duration": 243,
    "start_time": "2023-08-05T13:02:36.179Z"
   },
   {
    "duration": 14,
    "start_time": "2023-08-05T13:02:36.424Z"
   },
   {
    "duration": 254,
    "start_time": "2023-08-05T13:02:36.440Z"
   },
   {
    "duration": 17,
    "start_time": "2023-08-05T13:02:36.696Z"
   },
   {
    "duration": 70,
    "start_time": "2023-08-05T13:02:36.715Z"
   },
   {
    "duration": 65,
    "start_time": "2023-08-05T13:02:36.787Z"
   },
   {
    "duration": 55,
    "start_time": "2023-08-05T13:02:36.867Z"
   },
   {
    "duration": 76,
    "start_time": "2023-08-05T13:02:36.923Z"
   },
   {
    "duration": 34,
    "start_time": "2023-08-05T13:02:37.001Z"
   },
   {
    "duration": 5,
    "start_time": "2023-08-05T13:02:37.037Z"
   },
   {
    "duration": 1614,
    "start_time": "2023-08-05T13:04:40.449Z"
   },
   {
    "duration": 3013,
    "start_time": "2023-08-05T13:04:42.065Z"
   },
   {
    "duration": 6,
    "start_time": "2023-08-05T13:04:45.080Z"
   },
   {
    "duration": 1352,
    "start_time": "2023-08-05T13:04:45.088Z"
   },
   {
    "duration": 912,
    "start_time": "2023-08-05T13:04:46.442Z"
   },
   {
    "duration": 17,
    "start_time": "2023-08-05T13:04:47.356Z"
   },
   {
    "duration": 24,
    "start_time": "2023-08-05T13:04:47.374Z"
   },
   {
    "duration": 9,
    "start_time": "2023-08-05T13:04:47.400Z"
   },
   {
    "duration": 27,
    "start_time": "2023-08-05T13:04:47.410Z"
   },
   {
    "duration": 72,
    "start_time": "2023-08-05T13:04:47.441Z"
   },
   {
    "duration": 14,
    "start_time": "2023-08-05T13:04:47.516Z"
   },
   {
    "duration": 182,
    "start_time": "2023-08-05T13:04:47.532Z"
   },
   {
    "duration": 194,
    "start_time": "2023-08-05T13:04:47.716Z"
   },
   {
    "duration": 17,
    "start_time": "2023-08-05T13:04:47.912Z"
   },
   {
    "duration": 73,
    "start_time": "2023-08-05T13:04:47.931Z"
   },
   {
    "duration": 452,
    "start_time": "2023-08-05T13:04:48.006Z"
   },
   {
    "duration": 508,
    "start_time": "2023-08-05T13:04:48.459Z"
   },
   {
    "duration": 433,
    "start_time": "2023-08-05T13:04:48.968Z"
   },
   {
    "duration": 7,
    "start_time": "2023-08-05T13:04:49.403Z"
   },
   {
    "duration": 41,
    "start_time": "2023-08-05T13:04:49.412Z"
   },
   {
    "duration": 10,
    "start_time": "2023-08-05T13:04:49.467Z"
   },
   {
    "duration": 25,
    "start_time": "2023-08-05T13:04:49.478Z"
   },
   {
    "duration": 263,
    "start_time": "2023-08-05T13:04:49.504Z"
   },
   {
    "duration": 8,
    "start_time": "2023-08-05T13:04:49.768Z"
   },
   {
    "duration": 26,
    "start_time": "2023-08-05T13:04:49.778Z"
   },
   {
    "duration": 206,
    "start_time": "2023-08-05T13:04:49.806Z"
   },
   {
    "duration": 10,
    "start_time": "2023-08-05T13:04:50.014Z"
   },
   {
    "duration": 17,
    "start_time": "2023-08-05T13:04:50.027Z"
   },
   {
    "duration": 28,
    "start_time": "2023-08-05T13:04:50.046Z"
   },
   {
    "duration": 49,
    "start_time": "2023-08-05T13:04:50.076Z"
   },
   {
    "duration": 539,
    "start_time": "2023-08-05T13:04:50.127Z"
   },
   {
    "duration": 60,
    "start_time": "2023-08-05T13:04:50.668Z"
   },
   {
    "duration": 21,
    "start_time": "2023-08-05T13:04:50.730Z"
   },
   {
    "duration": 279,
    "start_time": "2023-08-05T13:04:50.753Z"
   },
   {
    "duration": 18,
    "start_time": "2023-08-05T13:04:51.034Z"
   },
   {
    "duration": 268,
    "start_time": "2023-08-05T13:04:51.054Z"
   },
   {
    "duration": 17,
    "start_time": "2023-08-05T13:04:51.324Z"
   },
   {
    "duration": 73,
    "start_time": "2023-08-05T13:04:51.343Z"
   },
   {
    "duration": 75,
    "start_time": "2023-08-05T13:04:51.417Z"
   },
   {
    "duration": 53,
    "start_time": "2023-08-05T13:04:51.493Z"
   },
   {
    "duration": 72,
    "start_time": "2023-08-05T13:04:51.548Z"
   },
   {
    "duration": 56,
    "start_time": "2023-08-05T13:04:51.622Z"
   },
   {
    "duration": 6,
    "start_time": "2023-08-05T13:04:51.680Z"
   },
   {
    "duration": 54170,
    "start_time": "2023-08-05T13:04:51.688Z"
   },
   {
    "duration": 130,
    "start_time": "2023-08-05T13:05:45.861Z"
   },
   {
    "duration": 29456,
    "start_time": "2023-08-05T13:05:45.993Z"
   },
   {
    "duration": 6,
    "start_time": "2023-08-05T13:06:15.450Z"
   },
   {
    "duration": 23008,
    "start_time": "2023-08-05T13:06:15.467Z"
   },
   {
    "duration": 292,
    "start_time": "2023-08-05T13:06:38.477Z"
   },
   {
    "duration": 95,
    "start_time": "2023-08-05T13:06:38.772Z"
   },
   {
    "duration": 62,
    "start_time": "2023-08-05T13:06:38.870Z"
   },
   {
    "duration": 38,
    "start_time": "2023-08-05T13:06:38.936Z"
   },
   {
    "duration": 3,
    "start_time": "2023-08-05T13:07:59.168Z"
   },
   {
    "duration": 13374,
    "start_time": "2023-08-05T13:09:29.189Z"
   },
   {
    "duration": 4,
    "start_time": "2023-08-05T13:10:12.931Z"
   },
   {
    "duration": 762,
    "start_time": "2023-08-05T13:10:12.937Z"
   },
   {
    "duration": 6,
    "start_time": "2023-08-05T13:10:13.701Z"
   },
   {
    "duration": 1272,
    "start_time": "2023-08-05T13:10:13.708Z"
   },
   {
    "duration": 772,
    "start_time": "2023-08-05T13:10:14.982Z"
   },
   {
    "duration": 17,
    "start_time": "2023-08-05T13:10:15.756Z"
   },
   {
    "duration": 18,
    "start_time": "2023-08-05T13:10:15.774Z"
   },
   {
    "duration": 8,
    "start_time": "2023-08-05T13:10:15.794Z"
   },
   {
    "duration": 20,
    "start_time": "2023-08-05T13:10:15.803Z"
   },
   {
    "duration": 62,
    "start_time": "2023-08-05T13:10:15.825Z"
   },
   {
    "duration": 10,
    "start_time": "2023-08-05T13:10:15.889Z"
   },
   {
    "duration": 170,
    "start_time": "2023-08-05T13:10:15.901Z"
   },
   {
    "duration": 172,
    "start_time": "2023-08-05T13:10:16.073Z"
   },
   {
    "duration": 27,
    "start_time": "2023-08-05T13:10:16.247Z"
   },
   {
    "duration": 49,
    "start_time": "2023-08-05T13:10:16.276Z"
   },
   {
    "duration": 418,
    "start_time": "2023-08-05T13:10:16.327Z"
   },
   {
    "duration": 453,
    "start_time": "2023-08-05T13:10:16.746Z"
   },
   {
    "duration": 421,
    "start_time": "2023-08-05T13:10:17.201Z"
   },
   {
    "duration": 7,
    "start_time": "2023-08-05T13:10:17.624Z"
   },
   {
    "duration": 50,
    "start_time": "2023-08-05T13:10:17.632Z"
   },
   {
    "duration": 10,
    "start_time": "2023-08-05T13:10:17.684Z"
   },
   {
    "duration": 19,
    "start_time": "2023-08-05T13:10:17.695Z"
   },
   {
    "duration": 273,
    "start_time": "2023-08-05T13:10:17.716Z"
   },
   {
    "duration": 8,
    "start_time": "2023-08-05T13:10:17.991Z"
   },
   {
    "duration": 25,
    "start_time": "2023-08-05T13:10:18.000Z"
   },
   {
    "duration": 203,
    "start_time": "2023-08-05T13:10:18.028Z"
   },
   {
    "duration": 8,
    "start_time": "2023-08-05T13:10:18.233Z"
   },
   {
    "duration": 31,
    "start_time": "2023-08-05T13:10:18.243Z"
   },
   {
    "duration": 9,
    "start_time": "2023-08-05T13:10:18.278Z"
   },
   {
    "duration": 27,
    "start_time": "2023-08-05T13:10:18.288Z"
   },
   {
    "duration": 538,
    "start_time": "2023-08-05T13:10:18.317Z"
   },
   {
    "duration": 64,
    "start_time": "2023-08-05T13:10:18.857Z"
   },
   {
    "duration": 15,
    "start_time": "2023-08-05T13:10:18.923Z"
   },
   {
    "duration": 378,
    "start_time": "2023-08-05T13:10:18.940Z"
   },
   {
    "duration": 15,
    "start_time": "2023-08-05T13:10:19.320Z"
   },
   {
    "duration": 250,
    "start_time": "2023-08-05T13:10:19.336Z"
   },
   {
    "duration": 17,
    "start_time": "2023-08-05T13:10:19.588Z"
   },
   {
    "duration": 71,
    "start_time": "2023-08-05T13:10:19.607Z"
   },
   {
    "duration": 67,
    "start_time": "2023-08-05T13:10:19.680Z"
   },
   {
    "duration": 67,
    "start_time": "2023-08-05T13:10:19.749Z"
   },
   {
    "duration": 87,
    "start_time": "2023-08-05T13:10:19.818Z"
   },
   {
    "duration": 37,
    "start_time": "2023-08-05T13:10:19.907Z"
   },
   {
    "duration": 21,
    "start_time": "2023-08-05T13:10:19.946Z"
   },
   {
    "duration": 52408,
    "start_time": "2023-08-05T13:10:19.969Z"
   },
   {
    "duration": 92,
    "start_time": "2023-08-05T13:11:20.190Z"
   },
   {
    "duration": 15468,
    "start_time": "2023-08-05T13:11:29.150Z"
   },
   {
    "duration": 7,
    "start_time": "2023-08-05T13:11:49.139Z"
   },
   {
    "duration": 19069,
    "start_time": "2023-08-05T13:11:51.798Z"
   },
   {
    "duration": 203,
    "start_time": "2023-08-05T13:12:10.870Z"
   },
   {
    "duration": 96,
    "start_time": "2023-08-05T13:12:11.075Z"
   },
   {
    "duration": 65,
    "start_time": "2023-08-05T13:12:20.484Z"
   },
   {
    "duration": 3,
    "start_time": "2023-08-05T13:12:28.996Z"
   },
   {
    "duration": 4,
    "start_time": "2023-08-05T13:22:23.790Z"
   },
   {
    "duration": 878,
    "start_time": "2023-08-05T13:22:23.797Z"
   },
   {
    "duration": 7,
    "start_time": "2023-08-05T13:22:24.677Z"
   },
   {
    "duration": 1262,
    "start_time": "2023-08-05T13:22:24.685Z"
   },
   {
    "duration": 821,
    "start_time": "2023-08-05T13:22:25.949Z"
   },
   {
    "duration": 10,
    "start_time": "2023-08-05T13:22:26.773Z"
   },
   {
    "duration": 18,
    "start_time": "2023-08-05T13:22:26.785Z"
   },
   {
    "duration": 12,
    "start_time": "2023-08-05T13:22:26.805Z"
   },
   {
    "duration": 52,
    "start_time": "2023-08-05T13:22:26.819Z"
   },
   {
    "duration": 47,
    "start_time": "2023-08-05T13:22:26.873Z"
   },
   {
    "duration": 11,
    "start_time": "2023-08-05T13:22:26.922Z"
   },
   {
    "duration": 188,
    "start_time": "2023-08-05T13:22:26.934Z"
   },
   {
    "duration": 208,
    "start_time": "2023-08-05T13:22:27.124Z"
   },
   {
    "duration": 20,
    "start_time": "2023-08-05T13:22:27.337Z"
   },
   {
    "duration": 57,
    "start_time": "2023-08-05T13:22:27.367Z"
   },
   {
    "duration": 504,
    "start_time": "2023-08-05T13:22:27.426Z"
   },
   {
    "duration": 507,
    "start_time": "2023-08-05T13:22:27.933Z"
   },
   {
    "duration": 478,
    "start_time": "2023-08-05T13:22:28.442Z"
   },
   {
    "duration": 11,
    "start_time": "2023-08-05T13:22:28.922Z"
   },
   {
    "duration": 55,
    "start_time": "2023-08-05T13:22:28.935Z"
   },
   {
    "duration": 11,
    "start_time": "2023-08-05T13:22:28.992Z"
   },
   {
    "duration": 25,
    "start_time": "2023-08-05T13:22:29.005Z"
   },
   {
    "duration": 311,
    "start_time": "2023-08-05T13:22:29.032Z"
   },
   {
    "duration": 9,
    "start_time": "2023-08-05T13:22:29.345Z"
   },
   {
    "duration": 28,
    "start_time": "2023-08-05T13:22:29.370Z"
   },
   {
    "duration": 224,
    "start_time": "2023-08-05T13:22:29.401Z"
   },
   {
    "duration": 10,
    "start_time": "2023-08-05T13:22:29.628Z"
   },
   {
    "duration": 32,
    "start_time": "2023-08-05T13:22:29.640Z"
   },
   {
    "duration": 9,
    "start_time": "2023-08-05T13:22:29.674Z"
   },
   {
    "duration": 22,
    "start_time": "2023-08-05T13:22:29.685Z"
   },
   {
    "duration": 740,
    "start_time": "2023-08-05T13:22:29.709Z"
   },
   {
    "duration": 69,
    "start_time": "2023-08-05T13:22:30.451Z"
   },
   {
    "duration": 112,
    "start_time": "2023-08-05T13:22:30.522Z"
   },
   {
    "duration": 310,
    "start_time": "2023-08-05T13:22:30.636Z"
   },
   {
    "duration": 19,
    "start_time": "2023-08-05T13:22:30.948Z"
   },
   {
    "duration": 273,
    "start_time": "2023-08-05T13:22:30.969Z"
   },
   {
    "duration": 25,
    "start_time": "2023-08-05T13:22:31.244Z"
   },
   {
    "duration": 101,
    "start_time": "2023-08-05T13:22:31.271Z"
   },
   {
    "duration": 126,
    "start_time": "2023-08-05T13:22:31.375Z"
   },
   {
    "duration": 77,
    "start_time": "2023-08-05T13:22:31.503Z"
   },
   {
    "duration": 89,
    "start_time": "2023-08-05T13:22:31.584Z"
   },
   {
    "duration": 39,
    "start_time": "2023-08-05T13:22:31.676Z"
   },
   {
    "duration": 44,
    "start_time": "2023-08-05T13:22:31.717Z"
   },
   {
    "duration": 53744,
    "start_time": "2023-08-05T13:22:31.763Z"
   },
   {
    "duration": 96,
    "start_time": "2023-08-05T13:23:30.792Z"
   },
   {
    "duration": 15075,
    "start_time": "2023-08-05T13:23:33.449Z"
   },
   {
    "duration": 7,
    "start_time": "2023-08-05T13:23:48.526Z"
   },
   {
    "duration": 27035,
    "start_time": "2023-08-05T13:23:48.535Z"
   },
   {
    "duration": 218,
    "start_time": "2023-08-05T13:24:15.573Z"
   },
   {
    "duration": 76,
    "start_time": "2023-08-05T13:24:15.793Z"
   },
   {
    "duration": 153,
    "start_time": "2023-08-05T13:24:15.871Z"
   },
   {
    "duration": 3,
    "start_time": "2023-08-05T13:24:19.757Z"
   },
   {
    "duration": 685,
    "start_time": "2023-08-05T13:24:49.452Z"
   },
   {
    "duration": 18,
    "start_time": "2023-08-05T13:25:02.088Z"
   },
   {
    "duration": 112,
    "start_time": "2023-08-05T13:25:38.061Z"
   },
   {
    "duration": 34,
    "start_time": "2023-08-05T13:25:43.015Z"
   },
   {
    "duration": 302,
    "start_time": "2023-08-05T13:26:09.007Z"
   },
   {
    "duration": 236,
    "start_time": "2023-08-05T13:26:19.630Z"
   },
   {
    "duration": 328,
    "start_time": "2023-08-05T13:26:23.772Z"
   },
   {
    "duration": 288,
    "start_time": "2023-08-05T13:27:54.990Z"
   },
   {
    "duration": 12,
    "start_time": "2023-08-05T13:27:59.567Z"
   },
   {
    "duration": 7,
    "start_time": "2023-08-05T13:28:01.274Z"
   },
   {
    "duration": 54,
    "start_time": "2023-08-05T13:28:05.838Z"
   },
   {
    "duration": 6,
    "start_time": "2023-08-05T14:00:57.842Z"
   },
   {
    "duration": 847,
    "start_time": "2023-08-05T14:00:57.850Z"
   },
   {
    "duration": 6,
    "start_time": "2023-08-05T14:00:58.699Z"
   },
   {
    "duration": 1263,
    "start_time": "2023-08-05T14:00:58.706Z"
   },
   {
    "duration": 829,
    "start_time": "2023-08-05T14:00:59.973Z"
   },
   {
    "duration": 11,
    "start_time": "2023-08-05T14:01:00.805Z"
   },
   {
    "duration": 43,
    "start_time": "2023-08-05T14:01:00.818Z"
   },
   {
    "duration": 28,
    "start_time": "2023-08-05T14:01:00.864Z"
   },
   {
    "duration": 50,
    "start_time": "2023-08-05T14:01:00.894Z"
   },
   {
    "duration": 73,
    "start_time": "2023-08-05T14:01:00.946Z"
   },
   {
    "duration": 29,
    "start_time": "2023-08-05T14:01:01.021Z"
   },
   {
    "duration": 216,
    "start_time": "2023-08-05T14:01:01.052Z"
   },
   {
    "duration": 193,
    "start_time": "2023-08-05T14:01:01.270Z"
   },
   {
    "duration": 20,
    "start_time": "2023-08-05T14:01:01.469Z"
   },
   {
    "duration": 104,
    "start_time": "2023-08-05T14:01:01.491Z"
   },
   {
    "duration": 466,
    "start_time": "2023-08-05T14:01:01.598Z"
   },
   {
    "duration": 523,
    "start_time": "2023-08-05T14:01:02.068Z"
   },
   {
    "duration": 465,
    "start_time": "2023-08-05T14:01:02.593Z"
   },
   {
    "duration": 10,
    "start_time": "2023-08-05T14:01:03.060Z"
   },
   {
    "duration": 45,
    "start_time": "2023-08-05T14:01:03.073Z"
   },
   {
    "duration": 12,
    "start_time": "2023-08-05T14:01:03.120Z"
   },
   {
    "duration": 8,
    "start_time": "2023-08-05T14:01:03.134Z"
   },
   {
    "duration": 297,
    "start_time": "2023-08-05T14:01:03.169Z"
   },
   {
    "duration": 8,
    "start_time": "2023-08-05T14:01:03.469Z"
   },
   {
    "duration": 31,
    "start_time": "2023-08-05T14:01:03.479Z"
   },
   {
    "duration": 336,
    "start_time": "2023-08-05T14:01:03.513Z"
   },
   {
    "duration": 20,
    "start_time": "2023-08-05T14:01:03.851Z"
   },
   {
    "duration": 18,
    "start_time": "2023-08-05T14:01:03.872Z"
   },
   {
    "duration": 11,
    "start_time": "2023-08-05T14:01:03.892Z"
   },
   {
    "duration": 28,
    "start_time": "2023-08-05T14:01:03.905Z"
   },
   {
    "duration": 665,
    "start_time": "2023-08-05T14:01:03.935Z"
   },
   {
    "duration": 92,
    "start_time": "2023-08-05T14:01:04.603Z"
   },
   {
    "duration": 27,
    "start_time": "2023-08-05T14:01:04.697Z"
   },
   {
    "duration": 301,
    "start_time": "2023-08-05T14:01:04.726Z"
   },
   {
    "duration": 17,
    "start_time": "2023-08-05T14:01:05.029Z"
   },
   {
    "duration": 266,
    "start_time": "2023-08-05T14:01:05.048Z"
   },
   {
    "duration": 17,
    "start_time": "2023-08-05T14:01:05.316Z"
   },
   {
    "duration": 74,
    "start_time": "2023-08-05T14:01:05.334Z"
   },
   {
    "duration": 70,
    "start_time": "2023-08-05T14:01:05.410Z"
   },
   {
    "duration": 53,
    "start_time": "2023-08-05T14:01:05.482Z"
   },
   {
    "duration": 82,
    "start_time": "2023-08-05T14:01:05.540Z"
   },
   {
    "duration": 52,
    "start_time": "2023-08-05T14:01:05.624Z"
   },
   {
    "duration": 7,
    "start_time": "2023-08-05T14:01:05.677Z"
   },
   {
    "duration": 66671,
    "start_time": "2023-08-05T14:01:05.686Z"
   },
   {
    "duration": 135,
    "start_time": "2023-08-05T14:02:12.359Z"
   },
   {
    "duration": 24480,
    "start_time": "2023-08-05T14:02:12.496Z"
   },
   {
    "duration": 9,
    "start_time": "2023-08-05T14:02:36.979Z"
   },
   {
    "duration": 27713,
    "start_time": "2023-08-05T14:02:36.990Z"
   },
   {
    "duration": 210,
    "start_time": "2023-08-05T14:03:04.768Z"
   },
   {
    "duration": 7,
    "start_time": "2023-08-05T14:03:04.989Z"
   },
   {
    "duration": 148,
    "start_time": "2023-08-05T14:03:05.069Z"
   },
   {
    "duration": 3,
    "start_time": "2023-08-05T14:03:05.219Z"
   },
   {
    "duration": 881,
    "start_time": "2023-08-05T14:03:05.224Z"
   },
   {
    "duration": 17,
    "start_time": "2023-08-05T14:03:06.107Z"
   },
   {
    "duration": 141,
    "start_time": "2023-08-05T14:03:06.127Z"
   },
   {
    "duration": 26,
    "start_time": "2023-08-05T14:04:57.537Z"
   },
   {
    "duration": 303,
    "start_time": "2023-08-05T14:05:09.248Z"
   },
   {
    "duration": 14,
    "start_time": "2023-08-05T14:06:09.471Z"
   },
   {
    "duration": 6,
    "start_time": "2023-08-05T14:06:11.125Z"
   },
   {
    "duration": 65,
    "start_time": "2023-08-05T14:06:15.326Z"
   },
   {
    "duration": 172571,
    "start_time": "2023-08-05T14:06:15.953Z"
   },
   {
    "duration": 702,
    "start_time": "2023-08-05T14:09:08.526Z"
   },
   {
    "duration": 6,
    "start_time": "2023-08-05T14:19:20.251Z"
   },
   {
    "duration": 165,
    "start_time": "2023-08-05T14:19:22.498Z"
   },
   {
    "duration": 12,
    "start_time": "2023-08-05T14:19:30.991Z"
   },
   {
    "duration": 122514,
    "start_time": "2023-08-05T14:19:32.661Z"
   },
   {
    "duration": 425,
    "start_time": "2023-08-05T14:22:03.669Z"
   },
   {
    "duration": 6,
    "start_time": "2023-08-05T14:22:04.905Z"
   },
   {
    "duration": 1012573,
    "start_time": "2023-08-05T14:22:06.610Z"
   },
   {
    "duration": 9290,
    "start_time": "2023-08-05T14:38:59.186Z"
   },
   {
    "duration": 595,
    "start_time": "2023-08-05T14:39:22.985Z"
   },
   {
    "duration": 5,
    "start_time": "2023-08-05T14:39:23.866Z"
   },
   {
    "duration": 162388,
    "start_time": "2023-08-05T14:39:58.839Z"
   },
   {
    "duration": 163054,
    "start_time": "2023-08-05T15:05:05.552Z"
   },
   {
    "duration": 221329,
    "start_time": "2023-08-05T15:19:45.351Z"
   },
   {
    "duration": 469,
    "start_time": "2023-08-05T15:37:11.790Z"
   },
   {
    "duration": 5,
    "start_time": "2023-08-05T15:37:40.166Z"
   },
   {
    "duration": 161138,
    "start_time": "2023-08-05T15:39:26.280Z"
   },
   {
    "duration": 329,
    "start_time": "2023-08-05T15:42:33.927Z"
   },
   {
    "duration": 6,
    "start_time": "2023-08-05T15:42:46.595Z"
   },
   {
    "duration": 273,
    "start_time": "2023-08-05T15:43:27.488Z"
   },
   {
    "duration": 5,
    "start_time": "2023-08-05T15:43:29.003Z"
   },
   {
    "duration": 162461,
    "start_time": "2023-08-05T15:45:34.589Z"
   },
   {
    "duration": 3,
    "start_time": "2023-08-05T15:48:17.053Z"
   },
   {
    "duration": 3,
    "start_time": "2023-08-05T15:49:35.718Z"
   },
   {
    "duration": 3,
    "start_time": "2023-08-05T15:49:54.985Z"
   },
   {
    "duration": 420,
    "start_time": "2023-08-05T15:50:29.317Z"
   },
   {
    "duration": 5,
    "start_time": "2023-08-05T15:50:37.490Z"
   },
   {
    "duration": 171905,
    "start_time": "2023-08-05T15:55:07.050Z"
   },
   {
    "duration": 168123,
    "start_time": "2023-08-05T15:57:58.957Z"
   },
   {
    "duration": 5,
    "start_time": "2023-08-05T16:01:59.338Z"
   },
   {
    "duration": 765,
    "start_time": "2023-08-05T16:01:59.346Z"
   },
   {
    "duration": 6,
    "start_time": "2023-08-05T16:02:00.113Z"
   },
   {
    "duration": 1269,
    "start_time": "2023-08-05T16:02:00.120Z"
   },
   {
    "duration": 814,
    "start_time": "2023-08-05T16:02:01.392Z"
   },
   {
    "duration": 11,
    "start_time": "2023-08-05T16:02:02.208Z"
   },
   {
    "duration": 37,
    "start_time": "2023-08-05T16:02:02.221Z"
   },
   {
    "duration": 11,
    "start_time": "2023-08-05T16:02:02.267Z"
   },
   {
    "duration": 28,
    "start_time": "2023-08-05T16:02:02.281Z"
   },
   {
    "duration": 42,
    "start_time": "2023-08-05T16:02:02.311Z"
   },
   {
    "duration": 12,
    "start_time": "2023-08-05T16:02:02.368Z"
   },
   {
    "duration": 197,
    "start_time": "2023-08-05T16:02:02.383Z"
   },
   {
    "duration": 193,
    "start_time": "2023-08-05T16:02:02.582Z"
   },
   {
    "duration": 18,
    "start_time": "2023-08-05T16:02:02.778Z"
   },
   {
    "duration": 71,
    "start_time": "2023-08-05T16:02:02.798Z"
   },
   {
    "duration": 429,
    "start_time": "2023-08-05T16:02:02.871Z"
   },
   {
    "duration": 445,
    "start_time": "2023-08-05T16:02:03.302Z"
   },
   {
    "duration": 469,
    "start_time": "2023-08-05T16:02:03.749Z"
   },
   {
    "duration": 7,
    "start_time": "2023-08-05T16:02:04.220Z"
   },
   {
    "duration": 48,
    "start_time": "2023-08-05T16:02:04.229Z"
   },
   {
    "duration": 11,
    "start_time": "2023-08-05T16:02:04.278Z"
   },
   {
    "duration": 10,
    "start_time": "2023-08-05T16:02:04.290Z"
   },
   {
    "duration": 406,
    "start_time": "2023-08-05T16:02:04.301Z"
   },
   {
    "duration": 8,
    "start_time": "2023-08-05T16:02:04.709Z"
   },
   {
    "duration": 29,
    "start_time": "2023-08-05T16:02:04.718Z"
   },
   {
    "duration": 203,
    "start_time": "2023-08-05T16:02:04.749Z"
   },
   {
    "duration": 14,
    "start_time": "2023-08-05T16:02:04.954Z"
   },
   {
    "duration": 22,
    "start_time": "2023-08-05T16:02:04.970Z"
   },
   {
    "duration": 10,
    "start_time": "2023-08-05T16:02:04.994Z"
   },
   {
    "duration": 26,
    "start_time": "2023-08-05T16:02:05.005Z"
   },
   {
    "duration": 593,
    "start_time": "2023-08-05T16:02:05.033Z"
   },
   {
    "duration": 71,
    "start_time": "2023-08-05T16:02:05.628Z"
   },
   {
    "duration": 45,
    "start_time": "2023-08-05T16:02:05.701Z"
   },
   {
    "duration": 288,
    "start_time": "2023-08-05T16:02:05.747Z"
   },
   {
    "duration": 30,
    "start_time": "2023-08-05T16:02:06.037Z"
   },
   {
    "duration": 253,
    "start_time": "2023-08-05T16:02:06.070Z"
   },
   {
    "duration": 19,
    "start_time": "2023-08-05T16:02:06.325Z"
   },
   {
    "duration": 92,
    "start_time": "2023-08-05T16:02:06.345Z"
   },
   {
    "duration": 70,
    "start_time": "2023-08-05T16:02:06.439Z"
   },
   {
    "duration": 57,
    "start_time": "2023-08-05T16:02:06.511Z"
   },
   {
    "duration": 60,
    "start_time": "2023-08-05T16:02:06.572Z"
   },
   {
    "duration": 49,
    "start_time": "2023-08-05T16:02:06.634Z"
   },
   {
    "duration": 7,
    "start_time": "2023-08-05T16:02:06.685Z"
   },
   {
    "duration": 1579,
    "start_time": "2023-08-05T16:06:57.334Z"
   },
   {
    "duration": 3017,
    "start_time": "2023-08-05T16:06:58.915Z"
   },
   {
    "duration": 7,
    "start_time": "2023-08-05T16:07:01.934Z"
   },
   {
    "duration": 1478,
    "start_time": "2023-08-05T16:07:01.943Z"
   },
   {
    "duration": 1043,
    "start_time": "2023-08-05T16:07:03.424Z"
   },
   {
    "duration": 10,
    "start_time": "2023-08-05T16:07:04.469Z"
   },
   {
    "duration": 29,
    "start_time": "2023-08-05T16:07:04.481Z"
   },
   {
    "duration": 14,
    "start_time": "2023-08-05T16:07:04.512Z"
   },
   {
    "duration": 44,
    "start_time": "2023-08-05T16:07:04.528Z"
   },
   {
    "duration": 40,
    "start_time": "2023-08-05T16:07:04.574Z"
   },
   {
    "duration": 11,
    "start_time": "2023-08-05T16:07:04.616Z"
   },
   {
    "duration": 228,
    "start_time": "2023-08-05T16:07:04.629Z"
   },
   {
    "duration": 219,
    "start_time": "2023-08-05T16:07:04.859Z"
   },
   {
    "duration": 20,
    "start_time": "2023-08-05T16:07:05.082Z"
   },
   {
    "duration": 87,
    "start_time": "2023-08-05T16:07:05.104Z"
   },
   {
    "duration": 519,
    "start_time": "2023-08-05T16:07:05.192Z"
   },
   {
    "duration": 540,
    "start_time": "2023-08-05T16:07:05.713Z"
   },
   {
    "duration": 507,
    "start_time": "2023-08-05T16:07:06.255Z"
   },
   {
    "duration": 9,
    "start_time": "2023-08-05T16:07:06.767Z"
   },
   {
    "duration": 54,
    "start_time": "2023-08-05T16:07:06.777Z"
   },
   {
    "duration": 13,
    "start_time": "2023-08-05T16:07:06.833Z"
   },
   {
    "duration": 7,
    "start_time": "2023-08-05T16:07:06.867Z"
   },
   {
    "duration": 292,
    "start_time": "2023-08-05T16:07:06.875Z"
   },
   {
    "duration": 9,
    "start_time": "2023-08-05T16:07:07.169Z"
   },
   {
    "duration": 28,
    "start_time": "2023-08-05T16:07:07.181Z"
   },
   {
    "duration": 207,
    "start_time": "2023-08-05T16:07:07.211Z"
   },
   {
    "duration": 9,
    "start_time": "2023-08-05T16:07:07.420Z"
   },
   {
    "duration": 17,
    "start_time": "2023-08-05T16:07:07.431Z"
   },
   {
    "duration": 10,
    "start_time": "2023-08-05T16:07:07.467Z"
   },
   {
    "duration": 31,
    "start_time": "2023-08-05T16:07:07.479Z"
   },
   {
    "duration": 592,
    "start_time": "2023-08-05T16:07:07.512Z"
   },
   {
    "duration": 115,
    "start_time": "2023-08-05T16:07:08.107Z"
   },
   {
    "duration": 47,
    "start_time": "2023-08-05T16:07:08.225Z"
   },
   {
    "duration": 320,
    "start_time": "2023-08-05T16:07:08.274Z"
   },
   {
    "duration": 17,
    "start_time": "2023-08-05T16:07:08.596Z"
   },
   {
    "duration": 282,
    "start_time": "2023-08-05T16:07:08.615Z"
   },
   {
    "duration": 18,
    "start_time": "2023-08-05T16:07:08.899Z"
   },
   {
    "duration": 73,
    "start_time": "2023-08-05T16:07:08.918Z"
   },
   {
    "duration": 80,
    "start_time": "2023-08-05T16:07:08.993Z"
   },
   {
    "duration": 55,
    "start_time": "2023-08-05T16:07:09.075Z"
   },
   {
    "duration": 86,
    "start_time": "2023-08-05T16:07:09.135Z"
   },
   {
    "duration": 61,
    "start_time": "2023-08-05T16:07:09.223Z"
   },
   {
    "duration": 6,
    "start_time": "2023-08-05T16:07:09.287Z"
   },
   {
    "duration": 60788,
    "start_time": "2023-08-05T16:07:09.295Z"
   },
   {
    "duration": 117,
    "start_time": "2023-08-05T16:08:10.086Z"
   },
   {
    "duration": 19138,
    "start_time": "2023-08-05T16:08:10.205Z"
   },
   {
    "duration": 6,
    "start_time": "2023-08-05T16:08:29.345Z"
   },
   {
    "duration": 23019,
    "start_time": "2023-08-05T16:08:29.352Z"
   },
   {
    "duration": 214,
    "start_time": "2023-08-05T16:08:52.372Z"
   },
   {
    "duration": 83,
    "start_time": "2023-08-05T16:08:52.588Z"
   },
   {
    "duration": 173,
    "start_time": "2023-08-05T16:08:52.673Z"
   },
   {
    "duration": 4,
    "start_time": "2023-08-05T16:08:52.848Z"
   },
   {
    "duration": 745,
    "start_time": "2023-08-05T16:08:52.854Z"
   },
   {
    "duration": 18,
    "start_time": "2023-08-05T16:08:53.600Z"
   },
   {
    "duration": 125,
    "start_time": "2023-08-05T16:08:53.620Z"
   },
   {
    "duration": 159,
    "start_time": "2023-08-05T16:08:53.747Z"
   },
   {
    "duration": 340,
    "start_time": "2023-08-05T16:08:53.908Z"
   },
   {
    "duration": 24,
    "start_time": "2023-08-05T16:08:54.250Z"
   },
   {
    "duration": 5,
    "start_time": "2023-08-05T16:08:54.276Z"
   },
   {
    "duration": 62,
    "start_time": "2023-08-05T16:08:54.282Z"
   },
   {
    "duration": 165779,
    "start_time": "2023-08-05T16:08:54.346Z"
   },
   {
    "duration": 401,
    "start_time": "2023-08-05T16:11:40.127Z"
   },
   {
    "duration": 6,
    "start_time": "2023-08-05T16:11:40.530Z"
   },
   {
    "duration": 6,
    "start_time": "2023-08-05T16:11:52.893Z"
   },
   {
    "duration": 222,
    "start_time": "2023-08-05T16:13:54.477Z"
   },
   {
    "duration": 184861,
    "start_time": "2023-08-05T16:17:03.612Z"
   },
   {
    "duration": 469,
    "start_time": "2023-08-05T16:20:28.452Z"
   },
   {
    "duration": 5,
    "start_time": "2023-08-05T16:20:29.734Z"
   },
   {
    "duration": 184314,
    "start_time": "2023-08-05T16:20:43.534Z"
   },
   {
    "duration": 324,
    "start_time": "2023-08-05T16:25:53.657Z"
   },
   {
    "duration": 7,
    "start_time": "2023-08-05T16:25:54.678Z"
   },
   {
    "duration": 188407,
    "start_time": "2023-08-05T16:26:03.661Z"
   },
   {
    "duration": 783,
    "start_time": "2023-08-05T16:30:32.270Z"
   },
   {
    "duration": 5,
    "start_time": "2023-08-05T16:30:33.055Z"
   },
   {
    "duration": 125,
    "start_time": "2023-08-05T16:30:42.490Z"
   },
   {
    "duration": 407297,
    "start_time": "2023-08-05T16:30:42.888Z"
   },
   {
    "duration": 720,
    "start_time": "2023-08-05T16:37:30.188Z"
   },
   {
    "duration": 6,
    "start_time": "2023-08-05T16:37:30.910Z"
   },
   {
    "duration": 601,
    "start_time": "2023-08-05T16:39:31.397Z"
   },
   {
    "duration": 5,
    "start_time": "2023-08-05T16:39:32.001Z"
   },
   {
    "duration": 199,
    "start_time": "2023-08-05T16:40:06.189Z"
   },
   {
    "duration": 80,
    "start_time": "2023-08-05T16:40:33.106Z"
   },
   {
    "duration": 4,
    "start_time": "2023-08-05T16:40:33.547Z"
   },
   {
    "duration": 856,
    "start_time": "2023-08-05T16:40:35.708Z"
   },
   {
    "duration": 26,
    "start_time": "2023-08-05T16:40:41.446Z"
   },
   {
    "duration": 113,
    "start_time": "2023-08-05T16:40:45.236Z"
   },
   {
    "duration": 19,
    "start_time": "2023-08-05T16:40:48.480Z"
   },
   {
    "duration": 6097,
    "start_time": "2023-08-05T16:45:12.839Z"
   },
   {
    "duration": 284,
    "start_time": "2023-08-05T16:45:19.216Z"
   },
   {
    "duration": 6252,
    "start_time": "2023-08-05T16:45:21.645Z"
   },
   {
    "duration": 14971,
    "start_time": "2023-08-05T16:45:58.726Z"
   },
   {
    "duration": 15062,
    "start_time": "2023-08-05T16:46:55.320Z"
   },
   {
    "duration": 15638,
    "start_time": "2023-08-05T16:48:07.619Z"
   },
   {
    "duration": 15014,
    "start_time": "2023-08-05T16:49:15.576Z"
   },
   {
    "duration": 15389,
    "start_time": "2023-08-05T16:49:57.159Z"
   },
   {
    "duration": 237417,
    "start_time": "2023-08-05T16:51:01.832Z"
   },
   {
    "duration": 51069,
    "start_time": "2023-08-05T16:58:05.413Z"
   },
   {
    "duration": 316,
    "start_time": "2023-08-05T16:58:56.487Z"
   },
   {
    "duration": 227708,
    "start_time": "2023-08-05T16:59:00.936Z"
   },
   {
    "duration": 21,
    "start_time": "2023-08-05T17:05:27.549Z"
   },
   {
    "duration": 5,
    "start_time": "2023-08-05T17:05:32.282Z"
   },
   {
    "duration": 704,
    "start_time": "2023-08-05T17:07:46.865Z"
   },
   {
    "duration": 728,
    "start_time": "2023-08-05T17:08:02.656Z"
   },
   {
    "duration": 3,
    "start_time": "2023-08-05T17:08:27.406Z"
   },
   {
    "duration": 3,
    "start_time": "2023-08-05T17:08:27.754Z"
   },
   {
    "duration": 764,
    "start_time": "2023-08-05T17:16:50.825Z"
   },
   {
    "duration": 3611,
    "start_time": "2023-08-05T17:18:00.311Z"
   },
   {
    "duration": 6,
    "start_time": "2023-08-05T17:18:11.757Z"
   },
   {
    "duration": 540,
    "start_time": "2023-08-05T17:24:22.230Z"
   },
   {
    "duration": 20,
    "start_time": "2023-08-05T17:24:48.634Z"
   },
   {
    "duration": 5,
    "start_time": "2023-08-05T17:24:49.299Z"
   },
   {
    "duration": 1656,
    "start_time": "2023-11-20T18:03:25.934Z"
   },
   {
    "duration": 4,
    "start_time": "2023-11-20T18:03:37.660Z"
   },
   {
    "duration": 1109,
    "start_time": "2023-11-20T18:03:37.666Z"
   },
   {
    "duration": 6,
    "start_time": "2023-11-20T18:03:38.776Z"
   },
   {
    "duration": 1321,
    "start_time": "2023-11-20T18:03:38.783Z"
   },
   {
    "duration": 823,
    "start_time": "2023-11-20T18:03:40.106Z"
   },
   {
    "duration": 9,
    "start_time": "2023-11-20T18:03:40.931Z"
   },
   {
    "duration": 29,
    "start_time": "2023-11-20T18:03:40.942Z"
   },
   {
    "duration": 8,
    "start_time": "2023-11-20T18:03:40.973Z"
   },
   {
    "duration": 23,
    "start_time": "2023-11-20T18:03:40.983Z"
   },
   {
    "duration": 69,
    "start_time": "2023-11-20T18:03:41.007Z"
   },
   {
    "duration": 9,
    "start_time": "2023-11-20T18:03:41.078Z"
   },
   {
    "duration": 177,
    "start_time": "2023-11-20T18:03:41.088Z"
   },
   {
    "duration": 170,
    "start_time": "2023-11-20T18:03:41.266Z"
   },
   {
    "duration": 22,
    "start_time": "2023-11-20T18:03:41.439Z"
   },
   {
    "duration": 54,
    "start_time": "2023-11-20T18:03:41.463Z"
   },
   {
    "duration": 442,
    "start_time": "2023-11-20T18:03:41.519Z"
   },
   {
    "duration": 495,
    "start_time": "2023-11-20T18:03:41.963Z"
   },
   {
    "duration": 423,
    "start_time": "2023-11-20T18:03:42.460Z"
   },
   {
    "duration": 8,
    "start_time": "2023-11-20T18:03:42.885Z"
   },
   {
    "duration": 43,
    "start_time": "2023-11-20T18:03:42.895Z"
   },
   {
    "duration": 22,
    "start_time": "2023-11-20T18:03:42.939Z"
   },
   {
    "duration": 7,
    "start_time": "2023-11-20T18:03:42.963Z"
   },
   {
    "duration": 280,
    "start_time": "2023-11-20T18:03:42.971Z"
   },
   {
    "duration": 11,
    "start_time": "2023-11-20T18:03:43.252Z"
   },
   {
    "duration": 21,
    "start_time": "2023-11-20T18:03:43.264Z"
   },
   {
    "duration": 183,
    "start_time": "2023-11-20T18:03:43.286Z"
   },
   {
    "duration": 8,
    "start_time": "2023-11-20T18:03:43.470Z"
   },
   {
    "duration": 16,
    "start_time": "2023-11-20T18:03:43.479Z"
   },
   {
    "duration": 8,
    "start_time": "2023-11-20T18:03:43.496Z"
   },
   {
    "duration": 19,
    "start_time": "2023-11-20T18:03:43.506Z"
   },
   {
    "duration": 517,
    "start_time": "2023-11-20T18:03:43.558Z"
   },
   {
    "duration": 85,
    "start_time": "2023-11-20T18:03:44.076Z"
   },
   {
    "duration": 18,
    "start_time": "2023-11-20T18:03:44.163Z"
   },
   {
    "duration": 269,
    "start_time": "2023-11-20T18:03:44.183Z"
   },
   {
    "duration": 18,
    "start_time": "2023-11-20T18:03:44.454Z"
   },
   {
    "duration": 258,
    "start_time": "2023-11-20T18:03:44.474Z"
   },
   {
    "duration": 27,
    "start_time": "2023-11-20T18:03:44.734Z"
   },
   {
    "duration": 78,
    "start_time": "2023-11-20T18:03:44.763Z"
   },
   {
    "duration": 96,
    "start_time": "2023-11-20T18:03:44.843Z"
   },
   {
    "duration": 56,
    "start_time": "2023-11-20T18:03:44.941Z"
   },
   {
    "duration": 67,
    "start_time": "2023-11-20T18:03:45.002Z"
   },
   {
    "duration": 42,
    "start_time": "2023-11-20T18:03:45.070Z"
   },
   {
    "duration": 7,
    "start_time": "2023-11-20T18:03:45.113Z"
   },
   {
    "duration": 39948,
    "start_time": "2023-11-20T18:03:45.122Z"
   },
   {
    "duration": 111,
    "start_time": "2023-11-20T18:04:25.071Z"
   },
   {
    "duration": 11278,
    "start_time": "2023-11-20T18:04:25.184Z"
   },
   {
    "duration": 5,
    "start_time": "2023-11-20T18:04:36.463Z"
   },
   {
    "duration": 15291,
    "start_time": "2023-11-20T18:04:36.470Z"
   },
   {
    "duration": 199,
    "start_time": "2023-11-20T18:04:51.763Z"
   },
   {
    "duration": 97,
    "start_time": "2023-11-20T18:04:51.964Z"
   },
   {
    "duration": 174,
    "start_time": "2023-11-20T18:04:52.063Z"
   },
   {
    "duration": 4,
    "start_time": "2023-11-20T18:04:52.238Z"
   },
   {
    "duration": 715,
    "start_time": "2023-11-20T18:04:52.243Z"
   },
   {
    "duration": 16,
    "start_time": "2023-11-20T18:04:52.960Z"
   },
   {
    "duration": 132,
    "start_time": "2023-11-20T18:04:52.978Z"
   },
   {
    "duration": 17,
    "start_time": "2023-11-20T18:04:53.112Z"
   },
   {
    "duration": 218897,
    "start_time": "2023-11-20T18:04:53.131Z"
   },
   {
    "duration": 490,
    "start_time": "2023-11-20T18:08:32.030Z"
   },
   {
    "duration": 20,
    "start_time": "2023-11-20T18:08:32.522Z"
   },
   {
    "duration": 18,
    "start_time": "2023-11-20T18:08:32.543Z"
   },
   {
    "duration": 52,
    "start_time": "2023-11-20T18:08:32.563Z"
   },
   {
    "duration": 166396,
    "start_time": "2023-11-20T18:08:32.617Z"
   },
   {
    "duration": 432,
    "start_time": "2023-11-20T18:11:19.014Z"
   },
   {
    "duration": 10,
    "start_time": "2023-11-20T18:11:19.448Z"
   },
   {
    "duration": 162707,
    "start_time": "2023-11-20T18:11:19.460Z"
   },
   {
    "duration": 294,
    "start_time": "2023-11-20T18:14:02.169Z"
   },
   {
    "duration": 5,
    "start_time": "2023-11-20T18:14:02.464Z"
   },
   {
    "duration": 166541,
    "start_time": "2023-11-20T18:14:02.470Z"
   },
   {
    "duration": 613,
    "start_time": "2023-11-20T18:16:49.012Z"
   },
   {
    "duration": 4,
    "start_time": "2023-11-20T18:16:49.627Z"
   },
   {
    "duration": 121,
    "start_time": "2023-11-20T18:16:49.632Z"
   },
   {
    "duration": 4612,
    "start_time": "2023-11-20T18:16:49.754Z"
   },
   {
    "duration": 692,
    "start_time": "2023-11-20T18:16:54.368Z"
   },
   {
    "duration": 4,
    "start_time": "2023-11-20T18:16:55.061Z"
   },
   {
    "duration": 656,
    "start_time": "2023-11-20T18:16:55.067Z"
   },
   {
    "duration": 3,
    "start_time": "2023-11-20T18:16:55.725Z"
   },
   {
    "duration": 6,
    "start_time": "2023-11-20T18:16:55.729Z"
   }
  ],
  "colab": {
   "provenance": []
  },
  "kernelspec": {
   "display_name": "Python 3 (ipykernel)",
   "language": "python",
   "name": "python3"
  },
  "language_info": {
   "codemirror_mode": {
    "name": "ipython",
    "version": 3
   },
   "file_extension": ".py",
   "mimetype": "text/x-python",
   "name": "python",
   "nbconvert_exporter": "python",
   "pygments_lexer": "ipython3",
   "version": "3.9.5"
  },
  "toc": {
   "base_numbering": 1,
   "nav_menu": {},
   "number_sections": true,
   "sideBar": true,
   "skip_h1_title": true,
   "title_cell": "Table of Contents",
   "title_sidebar": "Contents",
   "toc_cell": false,
   "toc_position": {
    "height": "calc(100% - 180px)",
    "left": "10px",
    "top": "150px",
    "width": "165px"
   },
   "toc_section_display": true,
   "toc_window_display": true
  }
 },
 "nbformat": 4,
 "nbformat_minor": 1
}
