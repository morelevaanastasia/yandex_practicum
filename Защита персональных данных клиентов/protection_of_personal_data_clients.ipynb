{
  "cells": [
    {
      "cell_type": "markdown",
      "metadata": {
        "id": "0vjyh0MJr-Fn"
      },
      "source": [
        "# Защита персональных данных клиентов"
      ]
    },
    {
      "cell_type": "markdown",
      "metadata": {
        "id": "rwqty_dtr-Fn"
      },
      "source": [
        "Требуется защитить данные клиентов страховой компании «Хоть потоп» - разработать такой метод преобразования данных, чтобы по ним было сложно восстановить персональную информацию. А также обосновать корректность его работы.\n",
        "\n",
        "Нужно защитить данные, чтобы при преобразовании качество моделей машинного обучения не ухудшилось. Подбирать наилучшую модель не требуется."
      ]
    },
    {
      "cell_type": "markdown",
      "metadata": {
        "id": "mzp4-zVHr-Fo"
      },
      "source": [
        "## Загрузка данных"
      ]
    },
    {
      "cell_type": "code",
      "execution_count": null,
      "metadata": {
        "id": "4luedskNr-Fo"
      },
      "outputs": [],
      "source": [
        "import pandas as pd\n",
        "import numpy as np\n",
        "\n",
        "import matplotlib.pyplot as plt\n",
        "\n",
        "from sklearn.model_selection import train_test_split\n",
        "from sklearn.metrics import r2_score\n",
        "from sklearn.linear_model import LinearRegression"
      ]
    },
    {
      "cell_type": "code",
      "execution_count": null,
      "metadata": {
        "id": "3v6i5BUTr-Fp"
      },
      "outputs": [],
      "source": [
        "try:\n",
        "    df = pd.read_csv('/datasets/insurance.csv')\n",
        "except:\n",
        "    df = pd.read_csv('https://code.s3.yandex.net/datasets/insurance.csv')"
      ]
    },
    {
      "cell_type": "code",
      "execution_count": null,
      "metadata": {
        "id": "9wAKwj1Ur-Fp"
      },
      "outputs": [],
      "source": [
        "def data_describe(data):\n",
        "    print('Общая информация:')\n",
        "    data.info()\n",
        "    print('Первые 5 строк:')\n",
        "    display(data.head())\n",
        "    print('Описание датафрейма:')\n",
        "    display(data.describe())\n",
        "    print('Пропуски:')\n",
        "    display(data.isnull().sum().sort_values(ascending=False))\n",
        "    print('Дубликаты:')\n",
        "    display(data.duplicated().sum())\n",
        "    print('Уникальные значения:')\n",
        "    display(data.nunique().sort_values())\n",
        "    print('Разделим признаки на категориальные и числовые:')\n",
        "    num_columns = []\n",
        "    cat_columns = []\n",
        "    for num, i in enumerate(data.columns):\n",
        "        if pd.api.types.is_numeric_dtype(data[i]):\n",
        "            num_columns.append(i)\n",
        "        elif pd.api.types.is_object_dtype(data[i]):\n",
        "            cat_columns.append(i)\n",
        "    print('Всего числовых признаков:', len(num_columns))\n",
        "    print('Всего категориальных признаков:', len(cat_columns))"
      ]
    },
    {
      "cell_type": "code",
      "execution_count": null,
      "metadata": {
        "id": "kQEy0-JNr-Fp",
        "outputId": "ba864742-76d4-4c89-a26c-836d5b2847f5"
      },
      "outputs": [
        {
          "name": "stdout",
          "output_type": "stream",
          "text": [
            "Общая информация:\n",
            "<class 'pandas.core.frame.DataFrame'>\n",
            "RangeIndex: 5000 entries, 0 to 4999\n",
            "Data columns (total 5 columns):\n",
            " #   Column             Non-Null Count  Dtype  \n",
            "---  ------             --------------  -----  \n",
            " 0   Пол                5000 non-null   int64  \n",
            " 1   Возраст            5000 non-null   float64\n",
            " 2   Зарплата           5000 non-null   float64\n",
            " 3   Члены семьи        5000 non-null   int64  \n",
            " 4   Страховые выплаты  5000 non-null   int64  \n",
            "dtypes: float64(2), int64(3)\n",
            "memory usage: 195.4 KB\n",
            "Первые 5 строк:\n"
          ]
        },
        {
          "data": {
            "text/html": [
              "<div>\n",
              "<style scoped>\n",
              "    .dataframe tbody tr th:only-of-type {\n",
              "        vertical-align: middle;\n",
              "    }\n",
              "\n",
              "    .dataframe tbody tr th {\n",
              "        vertical-align: top;\n",
              "    }\n",
              "\n",
              "    .dataframe thead th {\n",
              "        text-align: right;\n",
              "    }\n",
              "</style>\n",
              "<table border=\"1\" class=\"dataframe\">\n",
              "  <thead>\n",
              "    <tr style=\"text-align: right;\">\n",
              "      <th></th>\n",
              "      <th>Пол</th>\n",
              "      <th>Возраст</th>\n",
              "      <th>Зарплата</th>\n",
              "      <th>Члены семьи</th>\n",
              "      <th>Страховые выплаты</th>\n",
              "    </tr>\n",
              "  </thead>\n",
              "  <tbody>\n",
              "    <tr>\n",
              "      <th>0</th>\n",
              "      <td>1</td>\n",
              "      <td>41.0</td>\n",
              "      <td>49600.0</td>\n",
              "      <td>1</td>\n",
              "      <td>0</td>\n",
              "    </tr>\n",
              "    <tr>\n",
              "      <th>1</th>\n",
              "      <td>0</td>\n",
              "      <td>46.0</td>\n",
              "      <td>38000.0</td>\n",
              "      <td>1</td>\n",
              "      <td>1</td>\n",
              "    </tr>\n",
              "    <tr>\n",
              "      <th>2</th>\n",
              "      <td>0</td>\n",
              "      <td>29.0</td>\n",
              "      <td>21000.0</td>\n",
              "      <td>0</td>\n",
              "      <td>0</td>\n",
              "    </tr>\n",
              "    <tr>\n",
              "      <th>3</th>\n",
              "      <td>0</td>\n",
              "      <td>21.0</td>\n",
              "      <td>41700.0</td>\n",
              "      <td>2</td>\n",
              "      <td>0</td>\n",
              "    </tr>\n",
              "    <tr>\n",
              "      <th>4</th>\n",
              "      <td>1</td>\n",
              "      <td>28.0</td>\n",
              "      <td>26100.0</td>\n",
              "      <td>0</td>\n",
              "      <td>0</td>\n",
              "    </tr>\n",
              "  </tbody>\n",
              "</table>\n",
              "</div>"
            ],
            "text/plain": [
              "   Пол  Возраст  Зарплата  Члены семьи  Страховые выплаты\n",
              "0    1     41.0   49600.0            1                  0\n",
              "1    0     46.0   38000.0            1                  1\n",
              "2    0     29.0   21000.0            0                  0\n",
              "3    0     21.0   41700.0            2                  0\n",
              "4    1     28.0   26100.0            0                  0"
            ]
          },
          "metadata": {},
          "output_type": "display_data"
        },
        {
          "name": "stdout",
          "output_type": "stream",
          "text": [
            "Описание датафрейма:\n"
          ]
        },
        {
          "data": {
            "text/html": [
              "<div>\n",
              "<style scoped>\n",
              "    .dataframe tbody tr th:only-of-type {\n",
              "        vertical-align: middle;\n",
              "    }\n",
              "\n",
              "    .dataframe tbody tr th {\n",
              "        vertical-align: top;\n",
              "    }\n",
              "\n",
              "    .dataframe thead th {\n",
              "        text-align: right;\n",
              "    }\n",
              "</style>\n",
              "<table border=\"1\" class=\"dataframe\">\n",
              "  <thead>\n",
              "    <tr style=\"text-align: right;\">\n",
              "      <th></th>\n",
              "      <th>Пол</th>\n",
              "      <th>Возраст</th>\n",
              "      <th>Зарплата</th>\n",
              "      <th>Члены семьи</th>\n",
              "      <th>Страховые выплаты</th>\n",
              "    </tr>\n",
              "  </thead>\n",
              "  <tbody>\n",
              "    <tr>\n",
              "      <th>count</th>\n",
              "      <td>5000.000000</td>\n",
              "      <td>5000.000000</td>\n",
              "      <td>5000.000000</td>\n",
              "      <td>5000.000000</td>\n",
              "      <td>5000.000000</td>\n",
              "    </tr>\n",
              "    <tr>\n",
              "      <th>mean</th>\n",
              "      <td>0.499000</td>\n",
              "      <td>30.952800</td>\n",
              "      <td>39916.360000</td>\n",
              "      <td>1.194200</td>\n",
              "      <td>0.148000</td>\n",
              "    </tr>\n",
              "    <tr>\n",
              "      <th>std</th>\n",
              "      <td>0.500049</td>\n",
              "      <td>8.440807</td>\n",
              "      <td>9900.083569</td>\n",
              "      <td>1.091387</td>\n",
              "      <td>0.463183</td>\n",
              "    </tr>\n",
              "    <tr>\n",
              "      <th>min</th>\n",
              "      <td>0.000000</td>\n",
              "      <td>18.000000</td>\n",
              "      <td>5300.000000</td>\n",
              "      <td>0.000000</td>\n",
              "      <td>0.000000</td>\n",
              "    </tr>\n",
              "    <tr>\n",
              "      <th>25%</th>\n",
              "      <td>0.000000</td>\n",
              "      <td>24.000000</td>\n",
              "      <td>33300.000000</td>\n",
              "      <td>0.000000</td>\n",
              "      <td>0.000000</td>\n",
              "    </tr>\n",
              "    <tr>\n",
              "      <th>50%</th>\n",
              "      <td>0.000000</td>\n",
              "      <td>30.000000</td>\n",
              "      <td>40200.000000</td>\n",
              "      <td>1.000000</td>\n",
              "      <td>0.000000</td>\n",
              "    </tr>\n",
              "    <tr>\n",
              "      <th>75%</th>\n",
              "      <td>1.000000</td>\n",
              "      <td>37.000000</td>\n",
              "      <td>46600.000000</td>\n",
              "      <td>2.000000</td>\n",
              "      <td>0.000000</td>\n",
              "    </tr>\n",
              "    <tr>\n",
              "      <th>max</th>\n",
              "      <td>1.000000</td>\n",
              "      <td>65.000000</td>\n",
              "      <td>79000.000000</td>\n",
              "      <td>6.000000</td>\n",
              "      <td>5.000000</td>\n",
              "    </tr>\n",
              "  </tbody>\n",
              "</table>\n",
              "</div>"
            ],
            "text/plain": [
              "               Пол      Возраст      Зарплата  Члены семьи  Страховые выплаты\n",
              "count  5000.000000  5000.000000   5000.000000  5000.000000        5000.000000\n",
              "mean      0.499000    30.952800  39916.360000     1.194200           0.148000\n",
              "std       0.500049     8.440807   9900.083569     1.091387           0.463183\n",
              "min       0.000000    18.000000   5300.000000     0.000000           0.000000\n",
              "25%       0.000000    24.000000  33300.000000     0.000000           0.000000\n",
              "50%       0.000000    30.000000  40200.000000     1.000000           0.000000\n",
              "75%       1.000000    37.000000  46600.000000     2.000000           0.000000\n",
              "max       1.000000    65.000000  79000.000000     6.000000           5.000000"
            ]
          },
          "metadata": {},
          "output_type": "display_data"
        },
        {
          "name": "stdout",
          "output_type": "stream",
          "text": [
            "Пропуски:\n"
          ]
        },
        {
          "data": {
            "text/plain": [
              "Пол                  0\n",
              "Возраст              0\n",
              "Зарплата             0\n",
              "Члены семьи          0\n",
              "Страховые выплаты    0\n",
              "dtype: int64"
            ]
          },
          "metadata": {},
          "output_type": "display_data"
        },
        {
          "name": "stdout",
          "output_type": "stream",
          "text": [
            "Дубликаты:\n"
          ]
        },
        {
          "data": {
            "text/plain": [
              "153"
            ]
          },
          "metadata": {},
          "output_type": "display_data"
        },
        {
          "name": "stdout",
          "output_type": "stream",
          "text": [
            "Уникальные значения:\n"
          ]
        },
        {
          "data": {
            "text/plain": [
              "Пол                    2\n",
              "Страховые выплаты      6\n",
              "Члены семьи            7\n",
              "Возраст               46\n",
              "Зарплата             524\n",
              "dtype: int64"
            ]
          },
          "metadata": {},
          "output_type": "display_data"
        },
        {
          "name": "stdout",
          "output_type": "stream",
          "text": [
            "Разделим признаки на категориальные и числовые:\n",
            "Всего числовых признаков: 5\n",
            "Всего категориальных признаков: 0\n"
          ]
        }
      ],
      "source": [
        "data_describe(df)"
      ]
    },
    {
      "cell_type": "code",
      "execution_count": null,
      "metadata": {
        "id": "F1_ybPx7r-Fq",
        "outputId": "e87203c1-bcd7-4732-9564-156b2c639ad0"
      },
      "outputs": [
        {
          "data": {
            "image/png": "[encoded data removed]",
            "text/plain": [
              "<Figure size 720x576 with 6 Axes>"
            ]
          },
          "metadata": {
            "needs_background": "light"
          },
          "output_type": "display_data"
        }
      ],
      "source": [
        "df.hist(figsize=(10,8));"
      ]
    },
    {
      "cell_type": "markdown",
      "metadata": {
        "id": "YYpCRzbRr-Fq"
      },
      "source": [
        "**Выводы:**\n",
        "- исходный датафрейм содержит 5 стобцов (4 признака и таргет - количество страховых выплат) и 5000 записей\n",
        "- пропуски отсутствуют\n",
        "- имеется 153 явных дубликата\n",
        "- все признаки числовые\n",
        "- признаки 'Возраст' и 'Зарплата' имеют тип данных float64\n",
        "- выбросы отсутствуют\n",
        "- пол распределён 50/50\n",
        "- признак зарплаты имеет нормальное распределение\n",
        "- большинство клиентов не оформляли страховые выплаты"
      ]
    },
    {
      "cell_type": "markdown",
      "metadata": {
        "id": "PwB3ohYur-Fq"
      },
      "source": [
        "## Предобработка данных"
      ]
    },
    {
      "cell_type": "markdown",
      "metadata": {
        "id": "YxG2M2Zkr-Fq"
      },
      "source": [
        "Столбцы 'Возраст' и 'Зарплата' переведем в формат int"
      ]
    },
    {
      "cell_type": "code",
      "execution_count": null,
      "metadata": {
        "id": "QhZR2oWUr-Fr",
        "outputId": "a6d6ff42-d12e-4592-f3ee-0f10237db6bb"
      },
      "outputs": [
        {
          "data": {
            "text/plain": [
              "Пол                  int64\n",
              "Возраст              int64\n",
              "Зарплата             int64\n",
              "Члены семьи          int64\n",
              "Страховые выплаты    int64\n",
              "dtype: object"
            ]
          },
          "execution_count": 6,
          "metadata": {},
          "output_type": "execute_result"
        }
      ],
      "source": [
        "df['Возраст'] = df['Возраст'].astype('int')\n",
        "df['Зарплата'] = df['Зарплата'].astype('int')\n",
        "df.dtypes"
      ]
    },
    {
      "cell_type": "markdown",
      "metadata": {
        "id": "ZSQmvQXSr-Fr"
      },
      "source": [
        "Избавимся от дубликатов"
      ]
    },
    {
      "cell_type": "code",
      "execution_count": null,
      "metadata": {
        "id": "7o83FeQ2r-Fr"
      },
      "outputs": [],
      "source": [
        "df.drop_duplicates(inplace=True)"
      ]
    },
    {
      "cell_type": "markdown",
      "metadata": {
        "id": "SwmmWIJOr-Fr"
      },
      "source": [
        "**Выводы:**\n",
        "- данные подготовлены для исследования: удалены явные дубликаты, изменены типы данных"
      ]
    },
    {
      "cell_type": "markdown",
      "metadata": {
        "id": "mEIvFUBtr-Fr"
      },
      "source": [
        "## Умножение матриц"
      ]
    },
    {
      "cell_type": "markdown",
      "metadata": {
        "id": "miADTGAnr-Fr"
      },
      "source": [
        "Обозначения:\n",
        "\n",
        "- $X$ — матрица признаков (нулевой столбец состоит из единиц)\n",
        "\n",
        "- $y$ — вектор целевого признака\n",
        "\n",
        "- $P$ — матрица, на которую умножаются признаки\n",
        "\n",
        "- $w$ — вектор весов линейной регрессии (нулевой элемент равен сдвигу)"
      ]
    },
    {
      "cell_type": "markdown",
      "metadata": {
        "id": "_moYW31Yr-Fr"
      },
      "source": [
        "Предсказания:\n",
        "\n",
        "$$\n",
        "a = Xw\n",
        "$$\n",
        "\n",
        "Задача обучения:\n",
        "\n",
        "$$\n",
        "w = \\arg\\min_w MSE(Xw, y)\n",
        "$$\n",
        "\n",
        "Формула обучения:\n",
        "\n",
        "$$\n",
        "w = (X^T X)^{-1} X^T y\n",
        "$$"
      ]
    },
    {
      "cell_type": "markdown",
      "metadata": {
        "id": "0i73MrcRr-Fr"
      },
      "source": [
        "Признаки умножают на обратимую матрицу.\n",
        "\n",
        "Изменится ли качество линейной регрессии? (Её можно обучить заново.) <br>\n",
        " a. Изменится. Приведите примеры матриц. <br>\n",
        " b. Не изменится. Укажите, как связаны параметры линейной регрессии в исходной задаче и в преобразованной."
      ]
    },
    {
      "cell_type": "markdown",
      "metadata": {
        "id": "-gi1Ann1r-Fs"
      },
      "source": [
        "Ответ на вопрос, изменится ли качество линейной регрессии при умножении признаков на обратимую матрицу, связан с тем, как изменяется матрица признаков после умножения её на обратимую. Если умножение на обратимую матрицу не меняет количество признаков и сохраняет линейную независимость между признаками, то качество линейной регрессии не изменится."
      ]
    },
    {
      "cell_type": "markdown",
      "metadata": {
        "id": "K-Q_nMHPr-Fs"
      },
      "source": [
        "- $X$ — матрица признаков\n",
        "\n",
        "- $O$ — обратимая матрица\n"
      ]
    },
    {
      "cell_type": "markdown",
      "metadata": {
        "id": "8gAox9eCr-Fs"
      },
      "source": [
        "Задача обучения с признаками умноженными на обратимую матрицу:"
      ]
    },
    {
      "cell_type": "markdown",
      "metadata": {
        "id": "6wHdoAvUr-Fs"
      },
      "source": [
        "$$\n",
        "w = ((XO)^T XO)^{-1} (XO)^T y\n",
        "$$"
      ]
    },
    {
      "cell_type": "markdown",
      "metadata": {
        "id": "DNy1pugSr-Fs"
      },
      "source": [
        "$$\n",
        "w = O^{-1}(O^TX^T X)^{-1} O^TX^T y\n",
        "$$"
      ]
    },
    {
      "cell_type": "markdown",
      "metadata": {
        "id": "lZZxNjAfr-Fs"
      },
      "source": [
        "$$\n",
        "w = O^{-1}(O^T)^{-1} (X^T X)^{-1} O^TX^T y\n",
        "$$"
      ]
    },
    {
      "cell_type": "markdown",
      "metadata": {
        "id": "WRZyPbe5r-Fs"
      },
      "source": [
        "Результатом перемножения $(O^T)^{-1} O^T$ будет единичная матрица, сократим формулу:"
      ]
    },
    {
      "cell_type": "markdown",
      "metadata": {
        "id": "nQnR9Ykir-Fs"
      },
      "source": [
        "$$\n",
        "w = O^{-1}(X^T X)^{-1} X^T y\n",
        "$$"
      ]
    },
    {
      "cell_type": "markdown",
      "metadata": {
        "id": "f_vE-4Xtr-Fs"
      },
      "source": [
        "$(X^T X)^{-1} X^T y$ - это наша $w$, соответственно:"
      ]
    },
    {
      "cell_type": "markdown",
      "metadata": {
        "id": "n3WZdAO2r-Fs"
      },
      "source": [
        "$$\n",
        "w = O^{-1}w\n",
        "$$"
      ]
    },
    {
      "cell_type": "markdown",
      "metadata": {
        "id": "55okIp_gr-Fs"
      },
      "source": [
        "Наше предсказание: $a = Xw$, подставим туда равенство с матрицей перемноженой на обратимую:"
      ]
    },
    {
      "cell_type": "markdown",
      "metadata": {
        "id": "RlPcBO4hr-Fz"
      },
      "source": [
        "$$a = XOO^{-1}w$$"
      ]
    },
    {
      "cell_type": "markdown",
      "metadata": {
        "id": "lCCmR7LPr-F0"
      },
      "source": [
        "Сокращаем единичную матрицу:"
      ]
    },
    {
      "cell_type": "markdown",
      "metadata": {
        "id": "xj6IG37dr-F0"
      },
      "source": [
        "$$\n",
        "a = Xw\n",
        "$$"
      ]
    },
    {
      "cell_type": "markdown",
      "metadata": {
        "id": "u6F_fW6rr-F0"
      },
      "source": [
        "**Вывод:**\n",
        "- при умножении признаков на обратимую матрицу качество линейной регрессии не меняется\n",
        "- для защиты данных клиентов важно обращать внимание на то, какая матрица будет использоваться для умножения на неё признаков - матрица должна быть обратимой"
      ]
    },
    {
      "cell_type": "markdown",
      "metadata": {
        "id": "I_yAOPlFr-F0"
      },
      "source": [
        "## Алгоритм преобразования"
      ]
    },
    {
      "cell_type": "markdown",
      "metadata": {
        "id": "sTm1EVCIr-F0"
      },
      "source": [
        "**Алгоритм**\n",
        "\n",
        "- данные поделим на признаки и таргет\n",
        "- создадим обратимую матрицу О\n",
        "- выполним проверку на обратимость матрицы\n",
        "- зашифруем признаки, умножив их на обратимую матрицу\n",
        "- поделим изначальные даные и зашифрованную матрицу на тестовую и тренировочную выборку\n",
        "- сравним метрики R2"
      ]
    },
    {
      "cell_type": "markdown",
      "metadata": {
        "id": "k7TKrc2wr-F0"
      },
      "source": [
        "Почему данный алгоритм сработает?\n",
        "\n",
        "Предсказания равны, при умножении матрицы признаков на обратимую матрицу метрики качества не изменятся."
      ]
    },
    {
      "cell_type": "markdown",
      "metadata": {
        "id": "J_hp0Wzyr-F0"
      },
      "source": [
        "Если мы можем найти обратимую матрицу, которая сохраняет линейную независимость между признаками и не меняет их количество, то и качество линейной регрессии не изменится.\n",
        "\n",
        "Если же матрица необратима, то мы можем потерять линейную независимость между признаками и их количеством и это допускает риск изменения качества линейной регрессии. Например, если мы умножим матрицу на вырожденную матрицу, то один из столбцов матрицы может быть линейной комбинацией других столбцов, что приведет к потере информации и снижению качества линейной регрессии."
      ]
    },
    {
      "cell_type": "markdown",
      "metadata": {
        "id": "zaNgzNWsr-F1"
      },
      "source": [
        "Имея матрицу признаков $X$, мы можем умножить её на обратимую матрицу $O$ и получить новую матрицу признаков. Затем мы можем обучить новую модель линейной регрессии на этих преобразованных признаках и сравнить её качество с исходной моделью. Это и сделаем:"
      ]
    },
    {
      "cell_type": "markdown",
      "metadata": {
        "id": "S_LIJ7GUr-F1"
      },
      "source": [
        "## Проверка алгоритма"
      ]
    },
    {
      "cell_type": "markdown",
      "metadata": {
        "id": "OZGz_YZyr-F1"
      },
      "source": [
        "Создадим функцию, которая будет создавать матрицу и зашифровывать признаки, умножая их на обратимую матрицу"
      ]
    },
    {
      "cell_type": "code",
      "execution_count": null,
      "metadata": {
        "id": "-xuWQOb9r-F1"
      },
      "outputs": [],
      "source": [
        "def reversible_matrix(features):\n",
        "    # создаём случайную матрицу размером равным количеству признаков\n",
        "    matrix = np.random.randint(100, size=(features.shape[1], features.shape[1]))\n",
        "    # выполняем проверку на обратимость матрицы\n",
        "    if np.linalg.det(matrix) != 0:\n",
        "        # если матрица обратима, находим обратную\n",
        "        inverse_matrix = np.linalg.inv(matrix)\n",
        "        return matrix, features @ matrix\n",
        "        print('Матрица не обратима')"
      ]
    },
    {
      "cell_type": "markdown",
      "metadata": {
        "id": "QvJk2ec2r-F1"
      },
      "source": [
        "Создадим функцию, которая будет делить данные на выборки, обучать модель линейной регрессии и возвращать значение метрики R2"
      ]
    },
    {
      "cell_type": "code",
      "execution_count": null,
      "metadata": {
        "id": "YjTLnfr9r-F1"
      },
      "outputs": [],
      "source": [
        "def lr_r2(features, target):\n",
        "    # делим данные на выборки\n",
        "    features_train, features_test, target_train, target_test = train_test_split(features,\n",
        "                                                                                target,\n",
        "                                                                                test_size=0.25,\n",
        "                                                                                random_state=12345)\n",
        "    # проверим размеры выборок\n",
        "    print('features_train size:', features_train.shape)\n",
        "    print('target_train size:', target_train.shape)\n",
        "    print('features_test size:', features_test.shape)\n",
        "    print('target_test size:', target_test.shape)\n",
        "    # обучим модель линейной регрессии\n",
        "    model = LinearRegression()\n",
        "    model.fit(features_train, target_train)\n",
        "    predictions = model.predict(features_test)\n",
        "    # просчитаем значение метрики r2\n",
        "    r2 = r2_score(target_test, predictions)\n",
        "    print('R2:', r2)\n",
        "    return r2"
      ]
    },
    {
      "cell_type": "markdown",
      "metadata": {
        "id": "LDVxQDXlr-F1"
      },
      "source": [
        "Данные разобьём на признаки и таргет"
      ]
    },
    {
      "cell_type": "code",
      "execution_count": null,
      "metadata": {
        "id": "1P6yRwEDr-F2"
      },
      "outputs": [],
      "source": [
        "features = df.drop('Страховые выплаты', axis=1)\n",
        "target = df['Страховые выплаты']"
      ]
    },
    {
      "cell_type": "markdown",
      "metadata": {
        "id": "okaAozUpr-F2"
      },
      "source": [
        "Используя ранее созданную функцию reversible_matrix получим обратимую матрицу и зашифрованые признаки. И просчитаем значение метрики R2 используя функцию lr_r2"
      ]
    },
    {
      "cell_type": "code",
      "execution_count": null,
      "metadata": {
        "id": "5ZmzQCd8r-F2"
      },
      "outputs": [],
      "source": [
        "o, features_o = reversible_matrix(features)"
      ]
    },
    {
      "cell_type": "code",
      "execution_count": null,
      "metadata": {
        "id": "M4Hg9sAZr-F2",
        "outputId": "447b120f-1d8f-48af-d071-4ec9fa722f4f"
      },
      "outputs": [
        {
          "name": "stdout",
          "output_type": "stream",
          "text": [
            "features_train size: (3635, 4)\n",
            "target_train size: (3635,)\n",
            "features_test size: (1212, 4)\n",
            "target_test size: (1212,)\n",
            "R2: 0.42307727615837565\n"
          ]
        }
      ],
      "source": [
        "df_r2 = lr_r2(features, target)"
      ]
    },
    {
      "cell_type": "markdown",
      "metadata": {
        "id": "oPQwRBCQr-F2"
      },
      "source": [
        "Найдём значение метрики R2 на зашифрованных данных"
      ]
    },
    {
      "cell_type": "code",
      "execution_count": null,
      "metadata": {
        "id": "FXVBYzXUr-F2",
        "outputId": "eb83fd7b-2355-4f4c-de87-9a961320a306"
      },
      "outputs": [
        {
          "name": "stdout",
          "output_type": "stream",
          "text": [
            "features_train size: (3635, 4)\n",
            "target_train size: (3635,)\n",
            "features_test size: (1212, 4)\n",
            "target_test size: (1212,)\n",
            "R2: 0.4230772761583076\n"
          ]
        }
      ],
      "source": [
        "o_r2 = lr_r2(features_o, target)"
      ]
    },
    {
      "cell_type": "markdown",
      "metadata": {
        "id": "7qqEzXQcr-F2"
      },
      "source": [
        "Мы можем наблюдать, что метрика R2 исходных и зашифрованных данных равна.\n",
        "\n",
        "Зашифрованную матрицу умножим на обратную и сравним с исходными данным"
      ]
    },
    {
      "cell_type": "code",
      "execution_count": null,
      "metadata": {
        "id": "uxo6Hewjr-F2",
        "outputId": "1550aca5-6bf3-473b-d105-09bac31d88ba"
      },
      "outputs": [
        {
          "data": {
            "text/html": [
              "<div>\n",
              "<style scoped>\n",
              "    .dataframe tbody tr th:only-of-type {\n",
              "        vertical-align: middle;\n",
              "    }\n",
              "\n",
              "    .dataframe tbody tr th {\n",
              "        vertical-align: top;\n",
              "    }\n",
              "\n",
              "    .dataframe thead th {\n",
              "        text-align: right;\n",
              "    }\n",
              "</style>\n",
              "<table border=\"1\" class=\"dataframe\">\n",
              "  <thead>\n",
              "    <tr style=\"text-align: right;\">\n",
              "      <th></th>\n",
              "      <th>0</th>\n",
              "      <th>1</th>\n",
              "      <th>2</th>\n",
              "      <th>3</th>\n",
              "    </tr>\n",
              "  </thead>\n",
              "  <tbody>\n",
              "    <tr>\n",
              "      <th>0</th>\n",
              "      <td>1.000000e+00</td>\n",
              "      <td>41.0</td>\n",
              "      <td>49600.0</td>\n",
              "      <td>1.000000e+00</td>\n",
              "    </tr>\n",
              "    <tr>\n",
              "      <th>1</th>\n",
              "      <td>-1.714278e-12</td>\n",
              "      <td>46.0</td>\n",
              "      <td>38000.0</td>\n",
              "      <td>1.000000e+00</td>\n",
              "    </tr>\n",
              "    <tr>\n",
              "      <th>2</th>\n",
              "      <td>1.639765e-13</td>\n",
              "      <td>29.0</td>\n",
              "      <td>21000.0</td>\n",
              "      <td>2.464201e-12</td>\n",
              "    </tr>\n",
              "    <tr>\n",
              "      <th>3</th>\n",
              "      <td>-1.017278e-11</td>\n",
              "      <td>21.0</td>\n",
              "      <td>41700.0</td>\n",
              "      <td>2.000000e+00</td>\n",
              "    </tr>\n",
              "    <tr>\n",
              "      <th>4</th>\n",
              "      <td>1.000000e+00</td>\n",
              "      <td>28.0</td>\n",
              "      <td>26100.0</td>\n",
              "      <td>1.383059e-12</td>\n",
              "    </tr>\n",
              "  </tbody>\n",
              "</table>\n",
              "</div>"
            ],
            "text/plain": [
              "              0     1        2             3\n",
              "0  1.000000e+00  41.0  49600.0  1.000000e+00\n",
              "1 -1.714278e-12  46.0  38000.0  1.000000e+00\n",
              "2  1.639765e-13  29.0  21000.0  2.464201e-12\n",
              "3 -1.017278e-11  21.0  41700.0  2.000000e+00\n",
              "4  1.000000e+00  28.0  26100.0  1.383059e-12"
            ]
          },
          "execution_count": 14,
          "metadata": {},
          "output_type": "execute_result"
        }
      ],
      "source": [
        "features_return = features_o @ np.linalg.inv(o)\n",
        "features_return.head(5)"
      ]
    },
    {
      "cell_type": "code",
      "execution_count": null,
      "metadata": {
        "scrolled": true,
        "id": "lMuId7uIr-F2",
        "outputId": "083f0b35-eefb-46ed-b15c-1622d00059c5"
      },
      "outputs": [
        {
          "data": {
            "text/html": [
              "<div>\n",
              "<style scoped>\n",
              "    .dataframe tbody tr th:only-of-type {\n",
              "        vertical-align: middle;\n",
              "    }\n",
              "\n",
              "    .dataframe tbody tr th {\n",
              "        vertical-align: top;\n",
              "    }\n",
              "\n",
              "    .dataframe thead th {\n",
              "        text-align: right;\n",
              "    }\n",
              "</style>\n",
              "<table border=\"1\" class=\"dataframe\">\n",
              "  <thead>\n",
              "    <tr style=\"text-align: right;\">\n",
              "      <th></th>\n",
              "      <th>Пол</th>\n",
              "      <th>Возраст</th>\n",
              "      <th>Зарплата</th>\n",
              "      <th>Члены семьи</th>\n",
              "    </tr>\n",
              "  </thead>\n",
              "  <tbody>\n",
              "    <tr>\n",
              "      <th>0</th>\n",
              "      <td>1</td>\n",
              "      <td>41</td>\n",
              "      <td>49600</td>\n",
              "      <td>1</td>\n",
              "    </tr>\n",
              "    <tr>\n",
              "      <th>1</th>\n",
              "      <td>0</td>\n",
              "      <td>46</td>\n",
              "      <td>38000</td>\n",
              "      <td>1</td>\n",
              "    </tr>\n",
              "    <tr>\n",
              "      <th>2</th>\n",
              "      <td>0</td>\n",
              "      <td>29</td>\n",
              "      <td>21000</td>\n",
              "      <td>0</td>\n",
              "    </tr>\n",
              "    <tr>\n",
              "      <th>3</th>\n",
              "      <td>0</td>\n",
              "      <td>21</td>\n",
              "      <td>41700</td>\n",
              "      <td>2</td>\n",
              "    </tr>\n",
              "    <tr>\n",
              "      <th>4</th>\n",
              "      <td>1</td>\n",
              "      <td>28</td>\n",
              "      <td>26100</td>\n",
              "      <td>0</td>\n",
              "    </tr>\n",
              "  </tbody>\n",
              "</table>\n",
              "</div>"
            ],
            "text/plain": [
              "   Пол  Возраст  Зарплата  Члены семьи\n",
              "0    1       41     49600            1\n",
              "1    0       46     38000            1\n",
              "2    0       29     21000            0\n",
              "3    0       21     41700            2\n",
              "4    1       28     26100            0"
            ]
          },
          "execution_count": 15,
          "metadata": {},
          "output_type": "execute_result"
        }
      ],
      "source": [
        "features.head(5)"
      ]
    },
    {
      "cell_type": "markdown",
      "metadata": {
        "id": "57WgZq6-r-F2"
      },
      "source": [
        "Данные совпадают"
      ]
    },
    {
      "cell_type": "markdown",
      "metadata": {
        "id": "v9cSg4vpr-F3"
      },
      "source": [
        "Проверим равенство исходных и зашифрованных данных после преобразования обратно в исходные"
      ]
    },
    {
      "cell_type": "code",
      "execution_count": null,
      "metadata": {
        "id": "QHLGaE-Sr-F3",
        "outputId": "d51fe637-18a4-4c7a-df07-fbdccddef25e"
      },
      "outputs": [
        {
          "name": "stdout",
          "output_type": "stream",
          "text": [
            "Матрицы равны\n"
          ]
        }
      ],
      "source": [
        "if np.allclose(features, features_return):\n",
        "    print('Матрицы равны')\n",
        "else:\n",
        "    print('Матрицы различны')"
      ]
    },
    {
      "cell_type": "markdown",
      "metadata": {
        "id": "nHQfy9Hxr-F3"
      },
      "source": [
        "**Выводы:**\n",
        "- исходный датафрейм содержит 5 стобцов (4 признака и таргет - количество страховых выплат) и 5000 записей\n",
        "- пропуски отсутствовали\n",
        "- данные подготовлены для исследования: удалены явные дубликаты, изменены типы данных\n",
        "- данные были зашифрованы путем умножения матрицы признаков на обратимую матрицу\n",
        "- качество предсказаний линейной регрессии при преобразовании данных не изменилось\n",
        "- метрика R2 составила 0.435 и на исходных данных, и на зашифрованных\n",
        "- защифрованные данные можно возвратить в исходное состояние, умножив их на обратную матрицу"
      ]
    }
  ],
  "metadata": {
    "ExecuteTimeLog": [
      {
        "duration": 52,
        "start_time": "2023-06-18T11:57:11.357Z"
      },
      {
        "duration": 1355,
        "start_time": "2023-06-18T11:57:28.579Z"
      },
      {
        "duration": 99,
        "start_time": "2023-06-18T11:57:30.232Z"
      },
      {
        "duration": 28,
        "start_time": "2023-06-18T11:57:44.670Z"
      },
      {
        "duration": 16,
        "start_time": "2023-06-18T11:57:44.995Z"
      },
      {
        "duration": 1262,
        "start_time": "2023-06-18T16:27:47.383Z"
      },
      {
        "duration": 93,
        "start_time": "2023-06-18T16:27:50.697Z"
      },
      {
        "duration": 17,
        "start_time": "2023-06-18T16:27:51.181Z"
      },
      {
        "duration": 5,
        "start_time": "2023-06-18T16:28:10.419Z"
      },
      {
        "duration": 46,
        "start_time": "2023-06-18T16:28:26.776Z"
      },
      {
        "duration": 5,
        "start_time": "2023-06-18T16:31:24.047Z"
      },
      {
        "duration": 13,
        "start_time": "2023-06-18T16:31:38.880Z"
      },
      {
        "duration": 1346,
        "start_time": "2023-06-23T06:54:25.709Z"
      },
      {
        "duration": 95,
        "start_time": "2023-06-23T06:54:27.057Z"
      },
      {
        "duration": 7,
        "start_time": "2023-06-23T06:54:28.331Z"
      },
      {
        "duration": 21,
        "start_time": "2023-06-23T06:54:34.825Z"
      },
      {
        "duration": 467,
        "start_time": "2023-06-23T06:56:35.417Z"
      },
      {
        "duration": 448,
        "start_time": "2023-06-23T06:56:55.109Z"
      },
      {
        "duration": 619,
        "start_time": "2023-06-23T06:57:20.208Z"
      },
      {
        "duration": 600,
        "start_time": "2023-06-23T06:57:28.131Z"
      },
      {
        "duration": 493,
        "start_time": "2023-06-23T06:57:36.613Z"
      },
      {
        "duration": 532,
        "start_time": "2023-06-23T06:57:44.330Z"
      },
      {
        "duration": 643,
        "start_time": "2023-06-23T06:57:52.174Z"
      },
      {
        "duration": 5,
        "start_time": "2023-06-23T07:00:56.887Z"
      },
      {
        "duration": 11,
        "start_time": "2023-06-23T07:01:03.139Z"
      },
      {
        "duration": 566,
        "start_time": "2023-06-23T07:01:04.240Z"
      },
      {
        "duration": 1541,
        "start_time": "2023-06-23T13:36:12.835Z"
      },
      {
        "duration": 96,
        "start_time": "2023-06-23T13:36:14.378Z"
      },
      {
        "duration": 5,
        "start_time": "2023-06-23T13:36:14.477Z"
      },
      {
        "duration": 67,
        "start_time": "2023-06-23T13:36:20.963Z"
      },
      {
        "duration": 5,
        "start_time": "2023-06-23T13:36:22.522Z"
      },
      {
        "duration": 9,
        "start_time": "2023-06-23T13:36:23.528Z"
      },
      {
        "duration": 603,
        "start_time": "2023-06-23T13:36:25.032Z"
      },
      {
        "duration": 7,
        "start_time": "2023-06-23T13:57:09.723Z"
      },
      {
        "duration": 6,
        "start_time": "2023-06-23T13:58:37.568Z"
      },
      {
        "duration": 145,
        "start_time": "2023-06-23T14:51:52.336Z"
      },
      {
        "duration": 1300,
        "start_time": "2023-06-24T13:28:58.444Z"
      },
      {
        "duration": 85,
        "start_time": "2023-06-24T13:29:02.264Z"
      },
      {
        "duration": 6,
        "start_time": "2023-06-24T13:29:29.707Z"
      },
      {
        "duration": 54,
        "start_time": "2023-06-24T13:29:32.516Z"
      },
      {
        "duration": 7,
        "start_time": "2023-06-24T13:29:34.164Z"
      },
      {
        "duration": 9,
        "start_time": "2023-06-24T13:29:34.840Z"
      },
      {
        "duration": 576,
        "start_time": "2023-06-24T13:29:47.503Z"
      },
      {
        "duration": 6,
        "start_time": "2023-06-24T13:29:58.664Z"
      },
      {
        "duration": 6,
        "start_time": "2023-06-24T13:37:19.606Z"
      },
      {
        "duration": 8,
        "start_time": "2023-06-24T13:40:43.918Z"
      },
      {
        "duration": 3,
        "start_time": "2023-06-24T14:07:38.429Z"
      },
      {
        "duration": 27,
        "start_time": "2023-06-24T14:07:38.948Z"
      },
      {
        "duration": 6,
        "start_time": "2023-06-24T14:07:39.358Z"
      },
      {
        "duration": 48,
        "start_time": "2023-06-24T14:07:40.007Z"
      },
      {
        "duration": 572,
        "start_time": "2023-06-24T14:07:40.899Z"
      },
      {
        "duration": 9,
        "start_time": "2023-06-24T14:07:45.366Z"
      },
      {
        "duration": 7,
        "start_time": "2023-06-24T14:07:49.073Z"
      },
      {
        "duration": 4,
        "start_time": "2023-06-24T14:21:03.158Z"
      },
      {
        "duration": 4,
        "start_time": "2023-06-24T14:21:24.428Z"
      },
      {
        "duration": 4,
        "start_time": "2023-06-24T14:21:30.193Z"
      },
      {
        "duration": 4,
        "start_time": "2023-06-24T14:21:49.593Z"
      },
      {
        "duration": 4,
        "start_time": "2023-06-24T14:21:52.147Z"
      },
      {
        "duration": 787,
        "start_time": "2023-06-24T14:22:19.728Z"
      },
      {
        "duration": 79,
        "start_time": "2023-06-24T14:22:34.751Z"
      },
      {
        "duration": 5,
        "start_time": "2023-06-24T14:22:37.315Z"
      },
      {
        "duration": 4,
        "start_time": "2023-06-24T14:24:28.641Z"
      },
      {
        "duration": 4,
        "start_time": "2023-06-24T14:31:01.072Z"
      },
      {
        "duration": 4,
        "start_time": "2023-06-24T14:34:18.804Z"
      },
      {
        "duration": 4,
        "start_time": "2023-06-24T14:36:12.735Z"
      },
      {
        "duration": 3,
        "start_time": "2023-06-24T14:38:41.645Z"
      },
      {
        "duration": 26,
        "start_time": "2023-06-24T14:38:42.245Z"
      },
      {
        "duration": 6,
        "start_time": "2023-06-24T14:38:42.714Z"
      },
      {
        "duration": 49,
        "start_time": "2023-06-24T14:38:43.094Z"
      },
      {
        "duration": 578,
        "start_time": "2023-06-24T14:38:43.495Z"
      },
      {
        "duration": 7,
        "start_time": "2023-06-24T14:38:45.955Z"
      },
      {
        "duration": 6,
        "start_time": "2023-06-24T14:38:47.675Z"
      },
      {
        "duration": 4,
        "start_time": "2023-06-24T14:38:55.075Z"
      },
      {
        "duration": 4,
        "start_time": "2023-06-24T14:38:55.865Z"
      },
      {
        "duration": 4,
        "start_time": "2023-06-24T14:39:04.896Z"
      },
      {
        "duration": 4,
        "start_time": "2023-06-24T14:39:05.774Z"
      },
      {
        "duration": 4,
        "start_time": "2023-06-24T14:39:08.076Z"
      },
      {
        "duration": 7,
        "start_time": "2023-06-24T14:39:09.372Z"
      },
      {
        "duration": 12,
        "start_time": "2023-06-24T14:39:11.063Z"
      },
      {
        "duration": 368,
        "start_time": "2023-06-24T14:44:46.662Z"
      },
      {
        "duration": 12,
        "start_time": "2023-06-24T14:44:55.916Z"
      },
      {
        "duration": 77,
        "start_time": "2023-06-24T14:44:59.102Z"
      },
      {
        "duration": 11,
        "start_time": "2023-06-24T14:44:59.428Z"
      },
      {
        "duration": 13,
        "start_time": "2023-06-24T14:45:04.780Z"
      },
      {
        "duration": 12,
        "start_time": "2023-06-24T14:49:36.081Z"
      },
      {
        "duration": 8,
        "start_time": "2023-06-24T14:49:54.242Z"
      },
      {
        "duration": 5,
        "start_time": "2023-06-24T14:51:49.711Z"
      },
      {
        "duration": 5,
        "start_time": "2023-06-24T14:52:00.906Z"
      },
      {
        "duration": 1628,
        "start_time": "2023-06-25T09:15:53.063Z"
      },
      {
        "duration": 102,
        "start_time": "2023-06-25T09:15:54.692Z"
      },
      {
        "duration": 25,
        "start_time": "2023-06-25T09:15:54.796Z"
      },
      {
        "duration": 56,
        "start_time": "2023-06-25T09:15:56.829Z"
      },
      {
        "duration": 531,
        "start_time": "2023-06-25T09:15:57.141Z"
      },
      {
        "duration": 10,
        "start_time": "2023-06-25T09:16:02.119Z"
      },
      {
        "duration": 7,
        "start_time": "2023-06-25T09:16:05.015Z"
      },
      {
        "duration": 13,
        "start_time": "2023-06-25T09:16:19.517Z"
      },
      {
        "duration": 5,
        "start_time": "2023-06-25T09:16:36.950Z"
      },
      {
        "duration": 5,
        "start_time": "2023-06-25T09:16:40.018Z"
      },
      {
        "duration": 75,
        "start_time": "2023-06-25T09:16:42.025Z"
      },
      {
        "duration": 11,
        "start_time": "2023-06-25T09:16:43.158Z"
      },
      {
        "duration": 9,
        "start_time": "2023-06-25T09:16:45.647Z"
      },
      {
        "duration": 14,
        "start_time": "2023-06-25T09:16:48.473Z"
      },
      {
        "duration": 8,
        "start_time": "2023-06-25T09:16:50.535Z"
      },
      {
        "duration": 6,
        "start_time": "2023-06-25T09:16:53.718Z"
      },
      {
        "duration": 87,
        "start_time": "2023-06-25T13:26:36.131Z"
      },
      {
        "duration": 93,
        "start_time": "2023-06-25T13:27:41.181Z"
      },
      {
        "duration": 115,
        "start_time": "2023-06-25T16:30:55.506Z"
      },
      {
        "duration": 121,
        "start_time": "2023-06-25T16:31:46.603Z"
      },
      {
        "duration": 1500,
        "start_time": "2023-06-25T20:53:15.848Z"
      },
      {
        "duration": 75,
        "start_time": "2023-06-25T20:53:17.349Z"
      },
      {
        "duration": 6,
        "start_time": "2023-06-25T20:53:17.426Z"
      },
      {
        "duration": 58,
        "start_time": "2023-06-25T20:53:17.443Z"
      },
      {
        "duration": 542,
        "start_time": "2023-06-25T20:53:17.698Z"
      },
      {
        "duration": 8,
        "start_time": "2023-06-25T20:53:20.506Z"
      },
      {
        "duration": 5,
        "start_time": "2023-06-25T20:53:23.213Z"
      },
      {
        "duration": 4,
        "start_time": "2023-06-25T20:53:35.054Z"
      },
      {
        "duration": 84,
        "start_time": "2023-06-25T20:53:36.596Z"
      },
      {
        "duration": 4,
        "start_time": "2023-06-25T20:53:53.262Z"
      },
      {
        "duration": 5,
        "start_time": "2023-06-25T20:53:56.654Z"
      },
      {
        "duration": 4,
        "start_time": "2023-06-25T20:54:36.299Z"
      },
      {
        "duration": 4,
        "start_time": "2023-06-25T20:54:37.260Z"
      },
      {
        "duration": 12,
        "start_time": "2023-06-25T20:54:38.144Z"
      },
      {
        "duration": 5,
        "start_time": "2023-06-25T20:55:30.795Z"
      },
      {
        "duration": 4,
        "start_time": "2023-06-25T20:55:32.921Z"
      },
      {
        "duration": 17,
        "start_time": "2023-06-25T20:55:38.726Z"
      },
      {
        "duration": 10,
        "start_time": "2023-06-25T20:55:50.261Z"
      },
      {
        "duration": 15,
        "start_time": "2023-06-25T20:56:01.006Z"
      },
      {
        "duration": 9,
        "start_time": "2023-06-25T20:56:02.762Z"
      },
      {
        "duration": 9,
        "start_time": "2023-06-25T20:56:14.707Z"
      },
      {
        "duration": 11,
        "start_time": "2023-06-25T20:56:24.047Z"
      },
      {
        "duration": 4,
        "start_time": "2023-06-25T20:56:41.403Z"
      },
      {
        "duration": 1136,
        "start_time": "2023-06-25T20:56:47.963Z"
      },
      {
        "duration": 4,
        "start_time": "2023-06-25T20:56:52.354Z"
      },
      {
        "duration": 1280,
        "start_time": "2023-06-26T14:53:26.785Z"
      },
      {
        "duration": 28,
        "start_time": "2023-06-26T14:53:28.066Z"
      },
      {
        "duration": 4,
        "start_time": "2023-06-26T14:53:28.096Z"
      },
      {
        "duration": 68,
        "start_time": "2023-06-26T14:53:28.102Z"
      },
      {
        "duration": 464,
        "start_time": "2023-06-26T14:53:28.171Z"
      },
      {
        "duration": 6,
        "start_time": "2023-06-26T14:53:28.637Z"
      },
      {
        "duration": 23,
        "start_time": "2023-06-26T14:53:28.644Z"
      },
      {
        "duration": 13,
        "start_time": "2023-06-26T14:53:28.668Z"
      },
      {
        "duration": 15,
        "start_time": "2023-06-26T14:53:28.682Z"
      },
      {
        "duration": 22,
        "start_time": "2023-06-26T14:53:28.699Z"
      },
      {
        "duration": 40,
        "start_time": "2023-06-26T14:53:28.722Z"
      },
      {
        "duration": 13,
        "start_time": "2023-06-26T14:53:28.764Z"
      },
      {
        "duration": 34,
        "start_time": "2023-06-26T14:53:28.779Z"
      },
      {
        "duration": 13,
        "start_time": "2023-06-26T14:53:28.814Z"
      },
      {
        "duration": 20,
        "start_time": "2023-06-26T14:53:28.906Z"
      },
      {
        "duration": 81,
        "start_time": "2023-06-26T14:53:28.927Z"
      },
      {
        "duration": 1796,
        "start_time": "2023-06-26T16:06:24.427Z"
      },
      {
        "duration": 146,
        "start_time": "2023-06-26T16:06:27.935Z"
      },
      {
        "duration": 6,
        "start_time": "2023-06-26T16:06:28.599Z"
      },
      {
        "duration": 58,
        "start_time": "2023-06-26T16:06:28.928Z"
      },
      {
        "duration": 592,
        "start_time": "2023-06-26T16:06:29.205Z"
      },
      {
        "duration": 8,
        "start_time": "2023-06-26T16:06:31.345Z"
      },
      {
        "duration": 7,
        "start_time": "2023-06-26T16:06:32.195Z"
      },
      {
        "duration": 5,
        "start_time": "2023-06-26T16:06:48.022Z"
      },
      {
        "duration": 7,
        "start_time": "2023-06-26T16:06:49.167Z"
      },
      {
        "duration": 15,
        "start_time": "2023-06-26T16:06:50.464Z"
      },
      {
        "duration": 13,
        "start_time": "2023-06-26T16:06:51.584Z"
      },
      {
        "duration": 10,
        "start_time": "2023-06-26T16:06:52.200Z"
      },
      {
        "duration": 10,
        "start_time": "2023-06-26T16:06:53.655Z"
      },
      {
        "duration": 19,
        "start_time": "2023-06-26T16:06:55.259Z"
      },
      {
        "duration": 9,
        "start_time": "2023-06-26T16:06:55.861Z"
      },
      {
        "duration": 4,
        "start_time": "2023-06-26T16:06:58.219Z"
      },
      {
        "duration": 79,
        "start_time": "2023-06-26T16:19:10.287Z"
      },
      {
        "duration": 3,
        "start_time": "2023-06-26T16:21:30.725Z"
      },
      {
        "duration": 5,
        "start_time": "2023-06-26T16:21:34.595Z"
      },
      {
        "duration": 4,
        "start_time": "2023-06-26T16:21:43.550Z"
      },
      {
        "duration": 5,
        "start_time": "2023-06-26T16:22:25.915Z"
      },
      {
        "duration": 6,
        "start_time": "2023-06-26T16:25:21.098Z"
      },
      {
        "duration": 6,
        "start_time": "2023-06-26T16:26:49.027Z"
      },
      {
        "duration": 6,
        "start_time": "2023-06-26T16:27:15.211Z"
      },
      {
        "duration": 7,
        "start_time": "2023-06-26T16:27:23.729Z"
      },
      {
        "duration": 78,
        "start_time": "2023-06-26T16:30:32.882Z"
      },
      {
        "duration": 1851,
        "start_time": "2023-06-27T07:23:05.554Z"
      },
      {
        "duration": 114,
        "start_time": "2023-06-27T07:23:07.407Z"
      },
      {
        "duration": 7,
        "start_time": "2023-06-27T07:23:07.527Z"
      },
      {
        "duration": 99,
        "start_time": "2023-06-27T07:23:07.536Z"
      },
      {
        "duration": 622,
        "start_time": "2023-06-27T07:23:07.638Z"
      },
      {
        "duration": 8,
        "start_time": "2023-06-27T07:23:08.262Z"
      },
      {
        "duration": 28,
        "start_time": "2023-06-27T07:23:08.272Z"
      },
      {
        "duration": 24,
        "start_time": "2023-06-27T07:23:08.303Z"
      },
      {
        "duration": 33,
        "start_time": "2023-06-27T07:23:08.329Z"
      },
      {
        "duration": 6,
        "start_time": "2023-06-27T07:23:10.960Z"
      },
      {
        "duration": 3,
        "start_time": "2023-06-27T07:23:25.066Z"
      },
      {
        "duration": 4,
        "start_time": "2023-06-27T07:23:29.028Z"
      },
      {
        "duration": 125,
        "start_time": "2023-06-27T08:34:49.361Z"
      },
      {
        "duration": 9,
        "start_time": "2023-06-27T08:34:52.802Z"
      },
      {
        "duration": 7,
        "start_time": "2023-06-27T08:35:20.412Z"
      },
      {
        "duration": 6,
        "start_time": "2023-06-27T08:35:44.327Z"
      },
      {
        "duration": 6,
        "start_time": "2023-06-27T08:36:08.268Z"
      },
      {
        "duration": 6,
        "start_time": "2023-06-27T08:38:08.315Z"
      },
      {
        "duration": 7,
        "start_time": "2023-06-27T08:39:46.301Z"
      }
    ],
    "kernelspec": {
      "display_name": "Python 3 (ipykernel)",
      "language": "python",
      "name": "python3"
    },
    "language_info": {
      "codemirror_mode": {
        "name": "ipython",
        "version": 3
      },
      "file_extension": ".py",
      "mimetype": "text/x-python",
      "name": "python",
      "nbconvert_exporter": "python",
      "pygments_lexer": "ipython3",
      "version": "3.9.5"
    },
    "toc": {
      "base_numbering": 1,
      "nav_menu": {},
      "number_sections": true,
      "sideBar": true,
      "skip_h1_title": true,
      "title_cell": "Содержание",
      "title_sidebar": "Contents",
      "toc_cell": true,
      "toc_position": {
        "height": "707px",
        "left": "338px",
        "top": "111.125px",
        "width": "212px"
      },
      "toc_section_display": true,
      "toc_window_display": true
    },
    "colab": {
      "provenance": []
    }
  },
  "nbformat": 4,
  "nbformat_minor": 0
}